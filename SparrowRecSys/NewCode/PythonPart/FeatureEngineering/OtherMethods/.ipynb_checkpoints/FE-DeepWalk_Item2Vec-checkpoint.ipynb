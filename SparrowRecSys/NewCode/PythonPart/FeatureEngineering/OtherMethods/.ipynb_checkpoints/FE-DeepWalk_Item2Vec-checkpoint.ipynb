{
 "cells": [
  {
   "cell_type": "code",
   "execution_count": null,
   "metadata": {
    "colab": {
     "base_uri": "https://localhost:8080/"
    },
    "executionInfo": {
     "elapsed": 27642,
     "status": "ok",
     "timestamp": 1610142718414,
     "user": {
      "displayName": "Minke Xiu",
      "photoUrl": "https://lh3.googleusercontent.com/a-/AOh14GiKrlSLM7H0tbRpIYdHPAKnVjaQdF6dZZWD9Jdd=s64",
      "userId": "01913327350585558279"
     },
     "user_tz": 300
    },
    "id": "BBrhSeo90UP2",
    "outputId": "be139e2b-a71b-4d4f-90cf-330db765c758"
   },
   "outputs": [
    {
     "name": "stdout",
     "output_type": "stream",
     "text": [
      "Mounted at /content/drive\n"
     ]
    }
   ],
   "source": [
    "from google.colab import drive\n",
    "drive.mount('/content/drive')"
   ]
  },
  {
   "cell_type": "code",
   "execution_count": null,
   "metadata": {
    "id": "D3f9j3Z60zxM"
   },
   "outputs": [],
   "source": [
    "import os\n",
    "os.chdir('/content/drive/My Drive/Colab Notebooks/MachineLearningPractice/RecSysPractice')"
   ]
  },
  {
   "cell_type": "code",
   "execution_count": null,
   "metadata": {
    "id": "jz-1VEqizK4q"
   },
   "outputs": [],
   "source": [
    "# !git clone https://github.com/shenweichen/GraphEmbedding.git"
   ]
  },
  {
   "cell_type": "code",
   "execution_count": null,
   "metadata": {
    "id": "6JOc1HsGSPQp"
   },
   "outputs": [],
   "source": [
    "import pandas as pd\n",
    "import gensim, tqdm, time"
   ]
  },
  {
   "cell_type": "markdown",
   "metadata": {
    "id": "q5yE8rLUBi1z"
   },
   "source": [
    "### Load the rating data: "
   ]
  },
  {
   "cell_type": "code",
   "execution_count": null,
   "metadata": {
    "colab": {
     "base_uri": "https://localhost:8080/",
     "height": 347
    },
    "executionInfo": {
     "elapsed": 4584,
     "status": "ok",
     "timestamp": 1610142041015,
     "user": {
      "displayName": "Minke Xiu",
      "photoUrl": "https://lh3.googleusercontent.com/a-/AOh14GiKrlSLM7H0tbRpIYdHPAKnVjaQdF6dZZWD9Jdd=s64",
      "userId": "01913327350585558279"
     },
     "user_tz": 300
    },
    "id": "YjYyRpWI1avV",
    "outputId": "54ccbe82-1e2e-44e6-ab54-bc819eda9ceb"
   },
   "outputs": [
    {
     "data": {
      "text/html": [
       "<div>\n",
       "<style scoped>\n",
       "    .dataframe tbody tr th:only-of-type {\n",
       "        vertical-align: middle;\n",
       "    }\n",
       "\n",
       "    .dataframe tbody tr th {\n",
       "        vertical-align: top;\n",
       "    }\n",
       "\n",
       "    .dataframe thead th {\n",
       "        text-align: right;\n",
       "    }\n",
       "</style>\n",
       "<table border=\"1\" class=\"dataframe\">\n",
       "  <thead>\n",
       "    <tr style=\"text-align: right;\">\n",
       "      <th></th>\n",
       "      <th>userId</th>\n",
       "      <th>movieId</th>\n",
       "      <th>rating</th>\n",
       "      <th>timestamp</th>\n",
       "    </tr>\n",
       "  </thead>\n",
       "  <tbody>\n",
       "    <tr>\n",
       "      <th>0</th>\n",
       "      <td>1</td>\n",
       "      <td>2</td>\n",
       "      <td>3.5</td>\n",
       "      <td>1112486027</td>\n",
       "    </tr>\n",
       "    <tr>\n",
       "      <th>1</th>\n",
       "      <td>1</td>\n",
       "      <td>29</td>\n",
       "      <td>3.5</td>\n",
       "      <td>1112484676</td>\n",
       "    </tr>\n",
       "    <tr>\n",
       "      <th>2</th>\n",
       "      <td>1</td>\n",
       "      <td>32</td>\n",
       "      <td>3.5</td>\n",
       "      <td>1112484819</td>\n",
       "    </tr>\n",
       "    <tr>\n",
       "      <th>3</th>\n",
       "      <td>1</td>\n",
       "      <td>47</td>\n",
       "      <td>3.5</td>\n",
       "      <td>1112484727</td>\n",
       "    </tr>\n",
       "    <tr>\n",
       "      <th>4</th>\n",
       "      <td>1</td>\n",
       "      <td>50</td>\n",
       "      <td>3.5</td>\n",
       "      <td>1112484580</td>\n",
       "    </tr>\n",
       "    <tr>\n",
       "      <th>5</th>\n",
       "      <td>1</td>\n",
       "      <td>112</td>\n",
       "      <td>3.5</td>\n",
       "      <td>1094785740</td>\n",
       "    </tr>\n",
       "    <tr>\n",
       "      <th>6</th>\n",
       "      <td>1</td>\n",
       "      <td>151</td>\n",
       "      <td>4.0</td>\n",
       "      <td>1094785734</td>\n",
       "    </tr>\n",
       "    <tr>\n",
       "      <th>7</th>\n",
       "      <td>1</td>\n",
       "      <td>223</td>\n",
       "      <td>4.0</td>\n",
       "      <td>1112485573</td>\n",
       "    </tr>\n",
       "    <tr>\n",
       "      <th>8</th>\n",
       "      <td>1</td>\n",
       "      <td>253</td>\n",
       "      <td>4.0</td>\n",
       "      <td>1112484940</td>\n",
       "    </tr>\n",
       "    <tr>\n",
       "      <th>9</th>\n",
       "      <td>1</td>\n",
       "      <td>260</td>\n",
       "      <td>4.0</td>\n",
       "      <td>1112484826</td>\n",
       "    </tr>\n",
       "  </tbody>\n",
       "</table>\n",
       "</div>"
      ],
      "text/plain": [
       "   userId  movieId  rating   timestamp\n",
       "0       1        2     3.5  1112486027\n",
       "1       1       29     3.5  1112484676\n",
       "2       1       32     3.5  1112484819\n",
       "3       1       47     3.5  1112484727\n",
       "4       1       50     3.5  1112484580\n",
       "5       1      112     3.5  1094785740\n",
       "6       1      151     4.0  1094785734\n",
       "7       1      223     4.0  1112485573\n",
       "8       1      253     4.0  1112484940\n",
       "9       1      260     4.0  1112484826"
      ]
     },
     "execution_count": 5,
     "metadata": {
      "tags": []
     },
     "output_type": "execute_result"
    }
   ],
   "source": [
    "file_path = r\"originalDataset/resources\"\n",
    "rawSampleDataPath = file_path + \"/webroot/sampledata/ratings.csv\"\n",
    "\n",
    "rawSampleData = pd.read_csv(rawSampleDataPath)\n",
    "rawSampleData.head(10)"
   ]
  },
  {
   "cell_type": "markdown",
   "metadata": {
    "id": "QO-H_XAXBnGs"
   },
   "source": [
    "### Generate sequence: "
   ]
  },
  {
   "cell_type": "code",
   "execution_count": null,
   "metadata": {
    "colab": {
     "base_uri": "https://localhost:8080/",
     "height": 197
    },
    "executionInfo": {
     "elapsed": 1936,
     "status": "ok",
     "timestamp": 1610142044195,
     "user": {
      "displayName": "Minke Xiu",
      "photoUrl": "https://lh3.googleusercontent.com/a-/AOh14GiKrlSLM7H0tbRpIYdHPAKnVjaQdF6dZZWD9Jdd=s64",
      "userId": "01913327350585558279"
     },
     "user_tz": 300
    },
    "id": "JYod-g6O1hod",
    "outputId": "834be193-baf2-441a-feda-3701816ca20b"
   },
   "outputs": [
    {
     "data": {
      "text/html": [
       "<div>\n",
       "<style scoped>\n",
       "    .dataframe tbody tr th:only-of-type {\n",
       "        vertical-align: middle;\n",
       "    }\n",
       "\n",
       "    .dataframe tbody tr th {\n",
       "        vertical-align: top;\n",
       "    }\n",
       "\n",
       "    .dataframe thead th {\n",
       "        text-align: right;\n",
       "    }\n",
       "</style>\n",
       "<table border=\"1\" class=\"dataframe\">\n",
       "  <thead>\n",
       "    <tr style=\"text-align: right;\">\n",
       "      <th></th>\n",
       "      <th>userId</th>\n",
       "      <th>movieId</th>\n",
       "    </tr>\n",
       "  </thead>\n",
       "  <tbody>\n",
       "    <tr>\n",
       "      <th>0</th>\n",
       "      <td>1</td>\n",
       "      <td>924 919 337 151 112 50 541 593 29 293 47 296 3...</td>\n",
       "    </tr>\n",
       "    <tr>\n",
       "      <th>1</th>\n",
       "      <td>2</td>\n",
       "      <td>62 110 589 70 908 480 266 3 260 541 924</td>\n",
       "    </tr>\n",
       "    <tr>\n",
       "      <th>2</th>\n",
       "      <td>3</td>\n",
       "      <td>589 858 904 919 260 318 924 953 50 32 541 457 ...</td>\n",
       "    </tr>\n",
       "    <tr>\n",
       "      <th>3</th>\n",
       "      <td>4</td>\n",
       "      <td>10 356 454 480 589 377 586 350 368 370 594 520...</td>\n",
       "    </tr>\n",
       "    <tr>\n",
       "      <th>4</th>\n",
       "      <td>5</td>\n",
       "      <td>62 141 736 780 671 832 150 590 380 457 480 595...</td>\n",
       "    </tr>\n",
       "  </tbody>\n",
       "</table>\n",
       "</div>"
      ],
      "text/plain": [
       "   userId                                            movieId\n",
       "0       1  924 919 337 151 112 50 541 593 29 293 47 296 3...\n",
       "1       2            62 110 589 70 908 480 266 3 260 541 924\n",
       "2       3  589 858 904 919 260 318 924 953 50 32 541 457 ...\n",
       "3       4  10 356 454 480 589 377 586 350 368 370 594 520...\n",
       "4       5  62 141 736 780 671 832 150 590 380 457 480 595..."
      ]
     },
     "execution_count": 6,
     "metadata": {
      "tags": []
     },
     "output_type": "execute_result"
    }
   ],
   "source": [
    "df_group = rawSampleData[rawSampleData.rating >= 3.5]\\\n",
    ".sort_values([\"userId\", \"timestamp\"], ascending = True)\\\n",
    ".groupby([\"userId\"])[\"movieId\"]\\\n",
    ".apply(lambda x: \" \".join([str(y) for y in x]) )\\\n",
    ".reset_index()\n",
    "df_group.head()"
   ]
  },
  {
   "cell_type": "markdown",
   "metadata": {
    "id": "ViN6J1wwBsYD"
   },
   "source": [
    "### Generate edge list: "
   ]
  },
  {
   "cell_type": "code",
   "execution_count": null,
   "metadata": {
    "id": "1E0e1ay31q2H"
   },
   "outputs": [],
   "source": [
    "import collections\n",
    "dic = collections.defaultdict(list)\n",
    "## 把序列打碎:\n",
    "# eg:\n",
    "# watch sequence:['858', '50', '593', '457']\n",
    "# return:[['858', '50'],['50', '593'],['593', '457']]\n",
    "## 然后存进一个{\"858\": [\"50\"], \"50\": [\"593\"]}这样的数据结构里面. \n",
    "for index, row in df_group.iterrows():\n",
    "    previousItem = ''\n",
    "    for item in row[1].split():\n",
    "        if not previousItem:\n",
    "            previousItem = item\n",
    "        else:\n",
    "            dic[previousItem].append(item)\n",
    "            previousItem = item"
   ]
  },
  {
   "cell_type": "code",
   "execution_count": null,
   "metadata": {
    "id": "mBQfLvUX2RUA"
   },
   "outputs": [],
   "source": [
    "## 把上面那个数据结构dic里面的数据, 保存成文件.\n",
    "## 这个文件存的就是所谓的edges了. \n",
    "with open(\"preprocessedData/edgeList.txt\", \"w\") as el:\n",
    "    for movieId in sorted(dic.keys()):\n",
    "        for movieId_ in set(dic[movieId]):\n",
    "            el.write(\"{} {}\\n\".format(movieId, movieId_))"
   ]
  },
  {
   "cell_type": "code",
   "execution_count": 15,
   "metadata": {
    "executionInfo": {
     "elapsed": 329,
     "status": "ok",
     "timestamp": 1610146666902,
     "user": {
      "displayName": "Minke Xiu",
      "photoUrl": "https://lh3.googleusercontent.com/a-/AOh14GiKrlSLM7H0tbRpIYdHPAKnVjaQdF6dZZWD9Jdd=s64",
      "userId": "01913327350585558279"
     },
     "user_tz": 300
    },
    "id": "pmjRNeDk6yZO"
   },
   "outputs": [],
   "source": [
    "# os.chdir(\"GraphEmbedding\")"
   ]
  },
  {
   "cell_type": "code",
   "execution_count": null,
   "metadata": {
    "colab": {
     "base_uri": "https://localhost:8080/",
     "height": 34
    },
    "executionInfo": {
     "elapsed": 369,
     "status": "ok",
     "timestamp": 1610142726084,
     "user": {
      "displayName": "Minke Xiu",
      "photoUrl": "https://lh3.googleusercontent.com/a-/AOh14GiKrlSLM7H0tbRpIYdHPAKnVjaQdF6dZZWD9Jdd=s64",
      "userId": "01913327350585558279"
     },
     "user_tz": 300
    },
    "id": "iBARAqes66CE",
    "outputId": "2f951347-7da0-4f0b-db4e-fbb4ad14c95e"
   },
   "outputs": [
    {
     "data": {
      "application/vnd.google.colaboratory.intrinsic+json": {
       "type": "string"
      },
      "text/plain": [
       "'/content/drive/My Drive/Colab Notebooks/MachineLearningPractice/RecSysPractice'"
      ]
     },
     "execution_count": 5,
     "metadata": {
      "tags": []
     },
     "output_type": "execute_result"
    }
   ],
   "source": [
    "# os.getcwd()"
   ]
  },
  {
   "cell_type": "markdown",
   "metadata": {
    "id": "KESgM2H2By9p"
   },
   "source": [
    "### Use other people's implementation to do deepwalk: \n",
    "\n",
    "https://github.com/shenweichen/GraphEmbedding"
   ]
  },
  {
   "cell_type": "code",
   "execution_count": null,
   "metadata": {
    "id": "inOqHjyx4-yD"
   },
   "outputs": [],
   "source": [
    "import numpy as np\n",
    "\n",
    "from GraphEmbedding.ge.classify import read_node_label, Classifier\n",
    "from GraphEmbedding.ge import DeepWalk\n",
    "from sklearn.linear_model import LogisticRegression\n",
    "\n",
    "import matplotlib.pyplot as plt\n",
    "import networkx as nx\n",
    "from sklearn.manifold import TSNE"
   ]
  },
  {
   "cell_type": "code",
   "execution_count": 14,
   "metadata": {
    "colab": {
     "base_uri": "https://localhost:8080/"
    },
    "executionInfo": {
     "elapsed": 3299302,
     "status": "ok",
     "timestamp": 1610146666556,
     "user": {
      "displayName": "Minke Xiu",
      "photoUrl": "https://lh3.googleusercontent.com/a-/AOh14GiKrlSLM7H0tbRpIYdHPAKnVjaQdF6dZZWD9Jdd=s64",
      "userId": "01913327350585558279"
     },
     "user_tz": 300
    },
    "id": "__58JO1Y7D1T",
    "outputId": "01e36e8f-b434-4ecf-b104-f0ae5edfee58"
   },
   "outputs": [
    {
     "name": "stderr",
     "output_type": "stream",
     "text": [
      "[Parallel(n_jobs=1)]: Using backend SequentialBackend with 1 concurrent workers.\n",
      "[Parallel(n_jobs=1)]: Done   1 out of   1 | elapsed: 16.8min finished\n"
     ]
    },
    {
     "name": "stdout",
     "output_type": "stream",
     "text": [
      "Walking takes 1e+03 seconds...\n",
      "Learning embedding vectors...\n",
      "Learning embedding vectors done!\n",
      "Training takes 2.3e+03 seconds...\n"
     ]
    }
   ],
   "source": [
    "## https://github.com/shenweichen/GraphEmbedding/blob/7e26f8a0b648cfe0ad3a6f13fd1aced8c1218503/examples/deepwalk_wiki.py\n",
    "\n",
    "G = nx.read_edgelist('preprocessedData/edgeList.txt',\n",
    "                      create_using=nx.DiGraph(), nodetype=None, data=[('weight', int)])\n",
    "startTime = time.time()\n",
    "model = DeepWalk(G, walk_length=10, num_walks=20000, workers=1)\n",
    "endWalking = time.time()\n",
    "print(\"Walking takes {:.2} seconds...\".format(endWalking - startTime))\n",
    "model.train(window_size=5, iter=3, embed_size=10)\n",
    "endTraining = time.time()\n",
    "print(\"Training takes {:.2} seconds...\".format(endTraining - endWalking))\n",
    "embeddings = model.get_embeddings()\n",
    "\n",
    "with open(\"preprocessedData/DeepWalkEmb.csv\", 'w') as f:\n",
    "    for key, vals in embeddings.items():\n",
    "        movie_id = key\n",
    "        vectors = \" \".join([str(_) for _ in vals])\n",
    "        f.write(\"{}:{}\\n\".format(movie_id, vectors))"
   ]
  },
  {
   "cell_type": "code",
   "execution_count": null,
   "metadata": {
    "id": "6jftJMsB9Ojk"
   },
   "outputs": [],
   "source": []
  }
 ],
 "metadata": {
  "colab": {
   "authorship_tag": "ABX9TyONQSASNZrxa+rTqQT+vbCr",
   "collapsed_sections": [],
   "machine_shape": "hm",
   "name": "FE-DeepWalk_Item2Vec.ipynb",
   "provenance": []
  },
  "kernelspec": {
   "display_name": "Python 3",
   "language": "python",
   "name": "python3"
  },
  "language_info": {
   "codemirror_mode": {
    "name": "ipython",
    "version": 3
   },
   "file_extension": ".py",
   "mimetype": "text/x-python",
   "name": "python",
   "nbconvert_exporter": "python",
   "pygments_lexer": "ipython3",
   "version": "3.6.8"
  }
 },
 "nbformat": 4,
 "nbformat_minor": 1
}
