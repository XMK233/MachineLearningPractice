{
 "cells": [
  {
   "cell_type": "code",
   "execution_count": 41,
   "metadata": {},
   "outputs": [],
   "source": [
    "from pyspark import SparkContext, SparkConf\n",
    "from pyspark.sql import SparkSession\n",
    "import pyspark.sql as sql\n",
    "from pyspark.sql.functions import *\n",
    "from pyspark.sql.types import *\n",
    "from collections import defaultdict\n",
    "from pyspark.sql import functions as F\n",
    "import tqdm"
   ]
  },
  {
   "cell_type": "code",
   "execution_count": 2,
   "metadata": {},
   "outputs": [],
   "source": [
    "conf = SparkConf().setAppName('featureEngineering').setMaster('local')"
   ]
  },
  {
   "cell_type": "code",
   "execution_count": 3,
   "metadata": {},
   "outputs": [],
   "source": [
    "spark = SparkSession.builder.config(conf=conf).getOrCreate()"
   ]
  },
  {
   "cell_type": "markdown",
   "metadata": {},
   "source": [
    "# Load the data\n",
    "\n",
    "## from csv"
   ]
  },
  {
   "cell_type": "code",
   "execution_count": 4,
   "metadata": {},
   "outputs": [],
   "source": [
    "file_path = r\"D:\\MachineLearningPractice\\SparrowRecSys\\OriginalCode\\src\\main\\resources\" #'file:///home/hadoop/SparrowRecSys/src/main/resources'\n",
    "movieResourcesPath = file_path + \"/webroot/sampledata/movies.csv\"\n",
    "ratingsResourcesPath = file_path + \"/webroot/sampledata/ratings.csv\""
   ]
  },
  {
   "cell_type": "code",
   "execution_count": 5,
   "metadata": {},
   "outputs": [],
   "source": [
    "movieSamples = spark.read.format('csv').option('header', 'true').load(movieResourcesPath)\n",
    "ratingSamples = spark.read.format('csv').option('header', 'true').load(ratingsResourcesPath)"
   ]
  },
  {
   "cell_type": "code",
   "execution_count": 6,
   "metadata": {},
   "outputs": [
    {
     "name": "stdout",
     "output_type": "stream",
     "text": [
      "root\n",
      " |-- movieId: string (nullable = true)\n",
      " |-- title: string (nullable = true)\n",
      " |-- genres: string (nullable = true)\n",
      "\n"
     ]
    }
   ],
   "source": [
    "movieSamples.printSchema()"
   ]
  },
  {
   "cell_type": "code",
   "execution_count": 7,
   "metadata": {},
   "outputs": [
    {
     "name": "stdout",
     "output_type": "stream",
     "text": [
      "root\n",
      " |-- userId: string (nullable = true)\n",
      " |-- movieId: string (nullable = true)\n",
      " |-- rating: string (nullable = true)\n",
      " |-- timestamp: string (nullable = true)\n",
      "\n"
     ]
    }
   ],
   "source": [
    "ratingSamples.printSchema()"
   ]
  },
  {
   "cell_type": "markdown",
   "metadata": {},
   "source": [
    "## from redis\n",
    "\n",
    "you have to run `../Data2Redis/1-csv2redis.ipynb` first. "
   ]
  },
  {
   "cell_type": "code",
   "execution_count": 4,
   "metadata": {},
   "outputs": [],
   "source": [
    "import redis\n",
    "r = redis.StrictRedis(host='localhost', port=6379) # , db=1, password='123456'"
   ]
  },
  {
   "cell_type": "code",
   "execution_count": 5,
   "metadata": {},
   "outputs": [
    {
     "data": {
      "text/plain": [
       "b\"{'title': '2 Days in the Valley (1996)', 'genres': 'Crime|Film-Noir'}\""
      ]
     },
     "execution_count": 5,
     "metadata": {},
     "output_type": "execute_result"
    }
   ],
   "source": [
    "r.get(\"movie-999\")"
   ]
  },
  {
   "cell_type": "code",
   "execution_count": 6,
   "metadata": {},
   "outputs": [],
   "source": [
    "l = []\n",
    "for key in r.keys(\"movie-*\"):\n",
    "    info = eval(r.get(key))\n",
    "    key_str = key.decode(\"utf-8\")\n",
    "    l.append(\n",
    "        (key_str.split(\"-\")[1], \n",
    "         str(info[\"title\"]), \n",
    "         str(info[\"genres\"]))\n",
    "    )"
   ]
  },
  {
   "cell_type": "code",
   "execution_count": 7,
   "metadata": {},
   "outputs": [
    {
     "name": "stdout",
     "output_type": "stream",
     "text": [
      "root\n",
      " |-- movieId: string (nullable = true)\n",
      " |-- title: string (nullable = true)\n",
      " |-- genres: string (nullable = true)\n",
      "\n"
     ]
    }
   ],
   "source": [
    "movieSamples = spark.createDataFrame(l, ['movieId', 'title', \"genres\"])\n",
    "movieSamples.printSchema()\n",
    "del l"
   ]
  },
  {
   "cell_type": "code",
   "execution_count": 8,
   "metadata": {},
   "outputs": [
    {
     "name": "stdout",
     "output_type": "stream",
     "text": [
      "+-------+--------------------+--------------------+\n",
      "|movieId|               title|              genres|\n",
      "+-------+--------------------+--------------------+\n",
      "|    687| Country Life (1994)|       Drama|Romance|\n",
      "|    365|Little Buddha (1993)|               Drama|\n",
      "|    322|Swimming with Sha...|        Comedy|Drama|\n",
      "|    676|    They Bite (1996)|Comedy|Horror|Sci-Fi|\n",
      "|    250|Heavyweights (Hea...|     Children|Comedy|\n",
      "+-------+--------------------+--------------------+\n",
      "only showing top 5 rows\n",
      "\n"
     ]
    }
   ],
   "source": [
    "movieSamples.show(5)"
   ]
  },
  {
   "cell_type": "code",
   "execution_count": 9,
   "metadata": {},
   "outputs": [],
   "source": [
    "l = []\n",
    "for key in r.keys(\"rating-user_*-movie_*\"):\n",
    "    info = eval(r.get(key))\n",
    "    key_str = key.decode(\"utf-8\")\n",
    "    ## \n",
    "    userId = key_str.split(\"-\")[1].split(\"_\")[-1]\n",
    "    movieId = key_str.split(\"-\")[2].split(\"_\")[-1]\n",
    "    ## \n",
    "    l.append(\n",
    "        (\n",
    "            userId, movieId,\n",
    "            str(info[\"rating\"]), \n",
    "            str(info[\"timestamp\"])\n",
    "        )\n",
    "    )\n",
    "## 有点耗时。开了个游戏，建了个档，才好。"
   ]
  },
  {
   "cell_type": "code",
   "execution_count": 10,
   "metadata": {},
   "outputs": [
    {
     "name": "stdout",
     "output_type": "stream",
     "text": [
      "root\n",
      " |-- userId: string (nullable = true)\n",
      " |-- movieId: string (nullable = true)\n",
      " |-- rating: string (nullable = true)\n",
      " |-- timestamp: string (nullable = true)\n",
      "\n"
     ]
    }
   ],
   "source": [
    "ratingSamples = spark.createDataFrame(l, ['userId', 'movieId', 'rating', \"timestamp\"])\n",
    "ratingSamples.printSchema()\n",
    "del l"
   ]
  },
  {
   "cell_type": "code",
   "execution_count": 11,
   "metadata": {},
   "outputs": [
    {
     "name": "stdout",
     "output_type": "stream",
     "text": [
      "+------+-------+------+----------+\n",
      "|userId|movieId|rating| timestamp|\n",
      "+------+-------+------+----------+\n",
      "|   739|    457|   4.0|1214345582|\n",
      "| 21391|    527|   5.0| 940498637|\n",
      "|  3092|    383|   4.0| 893063428|\n",
      "| 18338|    340|   3.0|1131967426|\n",
      "| 28244|     21|   4.0| 838561558|\n",
      "+------+-------+------+----------+\n",
      "only showing top 5 rows\n",
      "\n"
     ]
    }
   ],
   "source": [
    "ratingSamples.show(5)"
   ]
  },
  {
   "cell_type": "markdown",
   "metadata": {},
   "source": [
    "# Add label"
   ]
  },
  {
   "cell_type": "code",
   "execution_count": 12,
   "metadata": {},
   "outputs": [],
   "source": [
    "NUMBER_PRECISION = 2"
   ]
  },
  {
   "cell_type": "code",
   "execution_count": 13,
   "metadata": {},
   "outputs": [],
   "source": [
    "def addSampleLabel(ratingSamples):\n",
    "    ratingSamples.show(5, truncate=False)\n",
    "    ratingSamples.printSchema()\n",
    "    sampleCount = ratingSamples.count()\n",
    "    ratingSamples.groupBy('rating').count().orderBy('rating').withColumn('percentage',\n",
    "                                                                         F.col('count') / sampleCount).show()\n",
    "    ##上一行操作，看上去好像没什么卵用啊，就是拿来随便计算一下，得到一个统计发现的。我去。\n",
    "    ratingSamples = ratingSamples.withColumn('label', when(F.col('rating') >= 3.5, 1).otherwise(0))\n",
    "    return ratingSamples"
   ]
  },
  {
   "cell_type": "code",
   "execution_count": 14,
   "metadata": {},
   "outputs": [
    {
     "name": "stdout",
     "output_type": "stream",
     "text": [
      "+------+-------+------+----------+\n",
      "|userId|movieId|rating|timestamp |\n",
      "+------+-------+------+----------+\n",
      "|739   |457    |4.0   |1214345582|\n",
      "|21391 |527    |5.0   |940498637 |\n",
      "|3092  |383    |4.0   |893063428 |\n",
      "|18338 |340    |3.0   |1131967426|\n",
      "|28244 |21     |4.0   |838561558 |\n",
      "+------+-------+------+----------+\n",
      "only showing top 5 rows\n",
      "\n",
      "root\n",
      " |-- userId: string (nullable = true)\n",
      " |-- movieId: string (nullable = true)\n",
      " |-- rating: string (nullable = true)\n",
      " |-- timestamp: string (nullable = true)\n",
      "\n",
      "+------+------+--------------------+\n",
      "|rating| count|          percentage|\n",
      "+------+------+--------------------+\n",
      "|   0.5|  9788|0.008375561978987506|\n",
      "|   1.0| 45018| 0.03852176636392108|\n",
      "|   1.5| 11794|0.010092090108314123|\n",
      "|   2.0| 87084| 0.07451751526135553|\n",
      "|   2.5| 34269|0.029323879593167432|\n",
      "|   3.0|323616| 0.27691723185451783|\n",
      "|   3.5| 74376| 0.06364331811904114|\n",
      "|   4.0|324804|  0.2779337998593234|\n",
      "|   4.5| 53388| 0.04568395003414231|\n",
      "|   5.0|204501| 0.17499088682722966|\n",
      "+------+------+--------------------+\n",
      "\n"
     ]
    }
   ],
   "source": [
    "ratingSamplesWithLabel = addSampleLabel(ratingSamples)"
   ]
  },
  {
   "cell_type": "code",
   "execution_count": 15,
   "metadata": {},
   "outputs": [
    {
     "name": "stdout",
     "output_type": "stream",
     "text": [
      "+------+-------+------+----------+-----+\n",
      "|userId|movieId|rating| timestamp|label|\n",
      "+------+-------+------+----------+-----+\n",
      "|   739|    457|   4.0|1214345582|    1|\n",
      "| 21391|    527|   5.0| 940498637|    1|\n",
      "|  3092|    383|   4.0| 893063428|    1|\n",
      "| 18338|    340|   3.0|1131967426|    0|\n",
      "| 28244|     21|   4.0| 838561558|    1|\n",
      "+------+-------+------+----------+-----+\n",
      "only showing top 5 rows\n",
      "\n"
     ]
    }
   ],
   "source": [
    "ratingSamplesWithLabel.show(5)"
   ]
  },
  {
   "cell_type": "markdown",
   "metadata": {},
   "source": [
    "# Add movie features\n",
    "\n",
    "`samplesWithMovieFeatures = addMovieFeatures(movieSamples, ratingSamplesWithLabel)`"
   ]
  },
  {
   "cell_type": "code",
   "execution_count": 16,
   "metadata": {},
   "outputs": [
    {
     "name": "stdout",
     "output_type": "stream",
     "text": [
      "+-------+------+------+----------+-----+-------------------+--------------------+\n",
      "|movieId|userId|rating| timestamp|label|              title|              genres|\n",
      "+-------+------+------+----------+-----+-------------------+--------------------+\n",
      "|    296|  2227|   5.0|1347882934|    1|Pulp Fiction (1994)|Comedy|Crime|Dram...|\n",
      "|    296| 16687|   5.0| 894296292|    1|Pulp Fiction (1994)|Comedy|Crime|Dram...|\n",
      "|    296| 29161|   5.0|1374916885|    1|Pulp Fiction (1994)|Comedy|Crime|Dram...|\n",
      "|    296| 28051|   4.5|1117136927|    1|Pulp Fiction (1994)|Comedy|Crime|Dram...|\n",
      "|    296| 29786|   5.0|1163571473|    1|Pulp Fiction (1994)|Comedy|Crime|Dram...|\n",
      "|    296|  6110|   3.0| 846667951|    0|Pulp Fiction (1994)|Comedy|Crime|Dram...|\n",
      "|    296| 15125|   4.0|1237401964|    1|Pulp Fiction (1994)|Comedy|Crime|Dram...|\n",
      "|    296|  9311|   4.5|1288834720|    1|Pulp Fiction (1994)|Comedy|Crime|Dram...|\n",
      "|    296|  8251|   1.0| 848175961|    0|Pulp Fiction (1994)|Comedy|Crime|Dram...|\n",
      "|    296| 24201|   5.0| 834501281|    1|Pulp Fiction (1994)|Comedy|Crime|Dram...|\n",
      "+-------+------+------+----------+-----+-------------------+--------------------+\n",
      "only showing top 10 rows\n",
      "\n"
     ]
    }
   ],
   "source": [
    "## add some basic features, like title and genres\n",
    "samplesWithMovies1 = ratingSamplesWithLabel.join(movieSamples, on=['movieId'], how='left')\n",
    "samplesWithMovies1.show(10)"
   ]
  },
  {
   "cell_type": "code",
   "execution_count": 17,
   "metadata": {},
   "outputs": [],
   "source": [
    "def extractReleaseYearUdf(title):\n",
    "    # add realease year\n",
    "    if not title or len(title.strip()) < 6:\n",
    "        return 1990\n",
    "    else:\n",
    "        yearStr = title.strip()[-5:-1]\n",
    "    return int(yearStr)\n",
    "\n",
    "samplesWithMovies2 = samplesWithMovies1.withColumn(\n",
    "    'releaseYear',\n",
    "    udf(extractReleaseYearUdf, IntegerType())('title') ## 看样子，这些函数必须要包装成udf才能运行在spark df的列上哦。\n",
    ") \\\n",
    ".withColumn('title', udf(lambda x: x.strip()[:-6].strip(), StringType())('title')) \\\n",
    ".drop('title')"
   ]
  },
  {
   "cell_type": "code",
   "execution_count": 18,
   "metadata": {},
   "outputs": [
    {
     "name": "stdout",
     "output_type": "stream",
     "text": [
      "+-------+------+------+----------+-----+--------------------+-----------+\n",
      "|movieId|userId|rating| timestamp|label|              genres|releaseYear|\n",
      "+-------+------+------+----------+-----+--------------------+-----------+\n",
      "|    296|  2227|   5.0|1347882934|    1|Comedy|Crime|Dram...|       1994|\n",
      "|    296| 16687|   5.0| 894296292|    1|Comedy|Crime|Dram...|       1994|\n",
      "|    296| 29161|   5.0|1374916885|    1|Comedy|Crime|Dram...|       1994|\n",
      "|    296| 28051|   4.5|1117136927|    1|Comedy|Crime|Dram...|       1994|\n",
      "|    296| 29786|   5.0|1163571473|    1|Comedy|Crime|Dram...|       1994|\n",
      "|    296|  6110|   3.0| 846667951|    0|Comedy|Crime|Dram...|       1994|\n",
      "|    296| 15125|   4.0|1237401964|    1|Comedy|Crime|Dram...|       1994|\n",
      "|    296|  9311|   4.5|1288834720|    1|Comedy|Crime|Dram...|       1994|\n",
      "|    296|  8251|   1.0| 848175961|    0|Comedy|Crime|Dram...|       1994|\n",
      "|    296| 24201|   5.0| 834501281|    1|Comedy|Crime|Dram...|       1994|\n",
      "+-------+------+------+----------+-----+--------------------+-----------+\n",
      "only showing top 10 rows\n",
      "\n"
     ]
    }
   ],
   "source": [
    "samplesWithMovies2.show(10)"
   ]
  },
  {
   "cell_type": "code",
   "execution_count": 19,
   "metadata": {},
   "outputs": [],
   "source": [
    "## split genres. Originally the genres are in one string, here we split them into individual words.\n",
    "## only select 3 genres into the traing. 就是拿了前三个genre，就酱紫了。\n",
    "samplesWithMovies3 = samplesWithMovies2.withColumn('movieGenre1', split(F.col('genres'), \"\\\\|\")[0]) \\\n",
    ".withColumn('movieGenre2', split(F.col('genres'), \"\\\\|\")[1]) \\\n",
    ".withColumn('movieGenre3', split(F.col('genres'), \"\\\\|\")[2])"
   ]
  },
  {
   "cell_type": "code",
   "execution_count": 20,
   "metadata": {},
   "outputs": [
    {
     "name": "stdout",
     "output_type": "stream",
     "text": [
      "+-------+------+------+----------+-----+--------------------+-----------+-----------+-----------+-----------+\n",
      "|movieId|userId|rating| timestamp|label|              genres|releaseYear|movieGenre1|movieGenre2|movieGenre3|\n",
      "+-------+------+------+----------+-----+--------------------+-----------+-----------+-----------+-----------+\n",
      "|    296|  2227|   5.0|1347882934|    1|Comedy|Crime|Dram...|       1994|     Comedy|      Crime|      Drama|\n",
      "|    296| 16687|   5.0| 894296292|    1|Comedy|Crime|Dram...|       1994|     Comedy|      Crime|      Drama|\n",
      "|    296| 29161|   5.0|1374916885|    1|Comedy|Crime|Dram...|       1994|     Comedy|      Crime|      Drama|\n",
      "|    296| 28051|   4.5|1117136927|    1|Comedy|Crime|Dram...|       1994|     Comedy|      Crime|      Drama|\n",
      "|    296| 29786|   5.0|1163571473|    1|Comedy|Crime|Dram...|       1994|     Comedy|      Crime|      Drama|\n",
      "|    296|  6110|   3.0| 846667951|    0|Comedy|Crime|Dram...|       1994|     Comedy|      Crime|      Drama|\n",
      "|    296| 15125|   4.0|1237401964|    1|Comedy|Crime|Dram...|       1994|     Comedy|      Crime|      Drama|\n",
      "|    296|  9311|   4.5|1288834720|    1|Comedy|Crime|Dram...|       1994|     Comedy|      Crime|      Drama|\n",
      "|    296|  8251|   1.0| 848175961|    0|Comedy|Crime|Dram...|       1994|     Comedy|      Crime|      Drama|\n",
      "|    296| 24201|   5.0| 834501281|    1|Comedy|Crime|Dram...|       1994|     Comedy|      Crime|      Drama|\n",
      "+-------+------+------+----------+-----+--------------------+-----------+-----------+-----------+-----------+\n",
      "only showing top 10 rows\n",
      "\n"
     ]
    }
   ],
   "source": [
    "samplesWithMovies3.show(10)"
   ]
  },
  {
   "cell_type": "code",
   "execution_count": 21,
   "metadata": {},
   "outputs": [],
   "source": [
    "# add rating features\n",
    "movieRatingFeatures = samplesWithMovies3.groupBy('movieId')\\\n",
    ".agg(\n",
    "    F.count(F.lit(1)).alias('movieRatingCount'), ## 这里的lit（1）是不是指，定义一个常数？所以这行的意思就是，在agg集合里面，每出现一个个体，计数君就增加lit(1)\n",
    "    format_number(F.avg(F.col('rating')), NUMBER_PRECISION).alias('movieAvgRating'), ## 这行就很缝合怪了。包含了算平均，还有格式化数据的操作。\n",
    "    F.stddev(F.col('rating')).alias('movieRatingStddev') ## 这里就是计算电影评分的标准差了。很标准的实现方式。 \n",
    ")\\\n",
    ".fillna(0)\\\n",
    ".withColumn(\n",
    "    'movieRatingStddev', format_number(F.col('movieRatingStddev'), NUMBER_PRECISION)\n",
    ") ## withColumn就是在原表格上做操作。而这里的操作总体上是发生在groupby的，这就会生成新的df。 "
   ]
  },
  {
   "cell_type": "code",
   "execution_count": 22,
   "metadata": {},
   "outputs": [
    {
     "name": "stdout",
     "output_type": "stream",
     "text": [
      "+-------+----------------+--------------+-----------------+\n",
      "|movieId|movieRatingCount|movieAvgRating|movieRatingStddev|\n",
      "+-------+----------------+--------------+-----------------+\n",
      "|    296|           14616|          4.17|             0.98|\n",
      "|    467|             174|          3.44|             1.23|\n",
      "|    675|               6|          2.33|             0.82|\n",
      "|    691|             254|          3.12|             1.04|\n",
      "|    829|             402|          2.62|             1.22|\n",
      "|    125|             788|          3.71|             0.93|\n",
      "|    451|             159|          3.00|             0.88|\n",
      "|    800|            1609|          4.04|             0.91|\n",
      "|    853|              20|          3.50|             1.24|\n",
      "|    944|             259|          3.83|             0.92|\n",
      "+-------+----------------+--------------+-----------------+\n",
      "only showing top 10 rows\n",
      "\n"
     ]
    }
   ],
   "source": [
    "movieRatingFeatures.show(10)"
   ]
  },
  {
   "cell_type": "code",
   "execution_count": 23,
   "metadata": {},
   "outputs": [
    {
     "name": "stdout",
     "output_type": "stream",
     "text": [
      "root\n",
      " |-- movieId: string (nullable = true)\n",
      " |-- userId: string (nullable = true)\n",
      " |-- rating: string (nullable = true)\n",
      " |-- timestamp: string (nullable = true)\n",
      " |-- label: integer (nullable = false)\n",
      " |-- genres: string (nullable = true)\n",
      " |-- releaseYear: integer (nullable = true)\n",
      " |-- movieGenre1: string (nullable = true)\n",
      " |-- movieGenre2: string (nullable = true)\n",
      " |-- movieGenre3: string (nullable = true)\n",
      " |-- movieRatingCount: long (nullable = true)\n",
      " |-- movieAvgRating: string (nullable = true)\n",
      " |-- movieRatingStddev: string (nullable = true)\n",
      "\n",
      "+-------+------+------+----------+-----+---------------------------+-----------+-----------+-----------+-----------+----------------+--------------+-----------------+\n",
      "|movieId|userId|rating|timestamp |label|genres                     |releaseYear|movieGenre1|movieGenre2|movieGenre3|movieRatingCount|movieAvgRating|movieRatingStddev|\n",
      "+-------+------+------+----------+-----+---------------------------+-----------+-----------+-----------+-----------+----------------+--------------+-----------------+\n",
      "|296    |2227  |5.0   |1347882934|1    |Comedy|Crime|Drama|Thriller|1994       |Comedy     |Crime      |Drama      |14616           |4.17          |0.98             |\n",
      "|296    |16687 |5.0   |894296292 |1    |Comedy|Crime|Drama|Thriller|1994       |Comedy     |Crime      |Drama      |14616           |4.17          |0.98             |\n",
      "|296    |29161 |5.0   |1374916885|1    |Comedy|Crime|Drama|Thriller|1994       |Comedy     |Crime      |Drama      |14616           |4.17          |0.98             |\n",
      "|296    |28051 |4.5   |1117136927|1    |Comedy|Crime|Drama|Thriller|1994       |Comedy     |Crime      |Drama      |14616           |4.17          |0.98             |\n",
      "|296    |29786 |5.0   |1163571473|1    |Comedy|Crime|Drama|Thriller|1994       |Comedy     |Crime      |Drama      |14616           |4.17          |0.98             |\n",
      "+-------+------+------+----------+-----+---------------------------+-----------+-----------+-----------+-----------+----------------+--------------+-----------------+\n",
      "only showing top 5 rows\n",
      "\n"
     ]
    }
   ],
   "source": [
    "# join movie rating features\n",
    "samplesWithMovies4 = samplesWithMovies3.join(movieRatingFeatures, on=['movieId'], how='left')\n",
    "samplesWithMovies4.printSchema()\n",
    "samplesWithMovies4.show(5, truncate=False)"
   ]
  },
  {
   "cell_type": "code",
   "execution_count": 24,
   "metadata": {},
   "outputs": [],
   "source": [
    "samplesWithMovieFeatures = samplesWithMovies4"
   ]
  },
  {
   "cell_type": "markdown",
   "metadata": {},
   "source": [
    "## Save the movie features into Redis"
   ]
  },
  {
   "cell_type": "code",
   "execution_count": 61,
   "metadata": {},
   "outputs": [
    {
     "name": "stderr",
     "output_type": "stream",
     "text": [
      "100%|██████████████████████████████████████████████████████████████████████| 1168638/1168638 [04:04<00:00, 4788.99it/s]\n"
     ]
    }
   ],
   "source": [
    "def dealWithEmpty(string):\n",
    "    if string == None:\n",
    "        return \"\"\n",
    "    else:\n",
    "        return string\n",
    "    \n",
    "for row in tqdm.tqdm(samplesWithMovieFeatures.rdd.collect()):\n",
    "#     print(row)\n",
    "#     print(row[\"movieId\"], row[\"userId\"], row[\"rating\"], row[\"timestamp\"], row[\"label\"], \n",
    "#     row[\"genres\"], row[\"releaseYear\"], row[\"movieGenre1\"], row[\"movieGenre2\"], row[\"movieGenre3\"], \n",
    "#     row[\"movieRatingCount\"], row[\"movieAvgRating\"], row[\"movieRatingStddev\"], )\n",
    "    try: \n",
    "        if not r.exists(\"mf-{}\".format(row[\"movieId\"])):\n",
    "            r.hset(\"mf-{}\".format(row[\"movieId\"]), \"genres\", dealWithEmpty(row[\"genres\"]))\n",
    "            r.hset(\"mf-{}\".format(row[\"movieId\"]), \"timestamp\", dealWithEmpty(row[\"timestamp\"]))\n",
    "            r.hset(\"mf-{}\".format(row[\"movieId\"]), \"releaseYear\", dealWithEmpty(row[\"releaseYear\"]))\n",
    "            r.hset(\"mf-{}\".format(row[\"movieId\"]), \"movieGenre1\", dealWithEmpty(row[\"movieGenre1\"]))\n",
    "            r.hset(\"mf-{}\".format(row[\"movieId\"]), \"movieGenre2\", dealWithEmpty(row[\"movieGenre2\"]))\n",
    "            r.hset(\"mf-{}\".format(row[\"movieId\"]), \"movieGenre3\", dealWithEmpty(row[\"movieGenre3\"]))\n",
    "            r.hset(\"mf-{}\".format(row[\"movieId\"]), \"movieRatingCount\", dealWithEmpty(row[\"movieRatingCount\"]))\n",
    "            r.hset(\"mf-{}\".format(row[\"movieId\"]), \"movieAvgRating\", dealWithEmpty(row[\"movieAvgRating\"]))\n",
    "            r.hset(\"mf-{}\".format(row[\"movieId\"]), \"movieRatingStddev\", dealWithEmpty(row[\"movieRatingStddev\"]))\n",
    "        else:\n",
    "            pass\n",
    "    except:\n",
    "        print(\"mf-{} failed, there may be some empty \".format(row[\"movieId\"]))\n",
    "#         break\n",
    "#     break\n",
    "        \n",
    "    \n",
    "#     vector = [float(_) for _ in row[\"vector\"]] ## 这里要转化为python基本形式, 如果不转的话, 就是numpy.float64, 这种格式后面是会遇上问题的. \n",
    "#     Vectors_list.append((movie_id, vector))"
   ]
  },
  {
   "cell_type": "code",
   "execution_count": 54,
   "metadata": {},
   "outputs": [
    {
     "data": {
      "text/plain": [
       "[]"
      ]
     },
     "execution_count": 54,
     "metadata": {},
     "output_type": "execute_result"
    }
   ],
   "source": [
    "# r.keys(\"mf-*\")"
   ]
  },
  {
   "cell_type": "code",
   "execution_count": 59,
   "metadata": {},
   "outputs": [],
   "source": [
    "# r.hget(\"mf-691\", \"rating\")"
   ]
  },
  {
   "cell_type": "code",
   "execution_count": 52,
   "metadata": {},
   "outputs": [
    {
     "data": {
      "text/plain": [
       "1"
      ]
     },
     "execution_count": 52,
     "metadata": {},
     "output_type": "execute_result"
    }
   ],
   "source": [
    "# r.delete(\"mf-296\")"
   ]
  },
  {
   "cell_type": "code",
   "execution_count": 60,
   "metadata": {},
   "outputs": [],
   "source": [
    "# for key in r.keys(\"mf-*\"):\n",
    "#     r.delete(key)"
   ]
  },
  {
   "cell_type": "markdown",
   "metadata": {},
   "source": [
    "# Add user features\n",
    "\n",
    "`samplesWithUserFeatures = addUserFeatures(samplesWithMovieFeatures)`"
   ]
  },
  {
   "cell_type": "code",
   "execution_count": 25,
   "metadata": {},
   "outputs": [],
   "source": [
    "def extractGenres(genres_list):\n",
    "    '''\n",
    "    pass in a list which format like [\"Action|Adventure|Sci-Fi|Thriller\", \"Crime|Horror|Thriller\"]\n",
    "    count by each genre，return genre_list in reverse order\n",
    "    eg:\n",
    "    (('Thriller',2),('Action',1),('Sci-Fi',1),('Horror', 1), ('Adventure',1),('Crime',1))\n",
    "    return:['Thriller','Action','Sci-Fi','Horror','Adventure','Crime']\n",
    "    '''\n",
    "    genres_dict = defaultdict(int)\n",
    "    for genres in genres_list:\n",
    "        for genre in genres.split('|'):\n",
    "            genres_dict[genre] += 1\n",
    "    sortedGenres = sorted(genres_dict.items(), key=lambda x: x[1], reverse=True)\n",
    "    return [x[0] for x in sortedGenres]"
   ]
  },
  {
   "cell_type": "code",
   "execution_count": 26,
   "metadata": {},
   "outputs": [],
   "source": [
    "extractGenresUdf = udf(extractGenres, ArrayType(StringType()))"
   ]
  },
  {
   "cell_type": "code",
   "execution_count": 27,
   "metadata": {},
   "outputs": [],
   "source": [
    "## 这一部操作：groupby 用户，针对一个用户，他在看某一部电影之前看过的所有电影，有哪些打过好评的。\n",
    "samplesWithUserFeatures1 = samplesWithMovieFeatures \\\n",
    ".withColumn('userPositiveHistory',\n",
    "            F.collect_list(\n",
    "                when(F.col('label') == 1, F.col('movieId')).otherwise(F.lit(None))\n",
    "            ).over(sql.Window.partitionBy(\"userId\").orderBy(F.col(\"timestamp\")).rowsBetween(-100, -1))\n",
    ") "
   ]
  },
  {
   "cell_type": "code",
   "execution_count": 28,
   "metadata": {},
   "outputs": [
    {
     "name": "stdout",
     "output_type": "stream",
     "text": [
      "+-------+------+------+---------+-----+--------------------+-----------+-----------+-----------+-----------+----------------+--------------+-----------------+-------------------+\n",
      "|movieId|userId|rating|timestamp|label|              genres|releaseYear|movieGenre1|movieGenre2|movieGenre3|movieRatingCount|movieAvgRating|movieRatingStddev|userPositiveHistory|\n",
      "+-------+------+------+---------+-----+--------------------+-----------+-----------+-----------+-----------+----------------+--------------+-----------------+-------------------+\n",
      "|    858| 10096|   4.0|954364961|    1|         Crime|Drama|       1972|      Crime|      Drama|       null|            8996|          4.35|             0.86|                 []|\n",
      "|    678| 10096|   3.0|954365396|    0|      Drama|Thriller|       1993|      Drama|   Thriller|       null|             620|          4.10|             0.86|              [858]|\n",
      "|    514| 10096|   3.0|954365410|    0|              Comedy|       1994|     Comedy|       null|       null|            1038|          3.50|             0.86|              [858]|\n",
      "|    608| 10096|   3.0|954365515|    0|Comedy|Crime|Dram...|       1996|     Comedy|      Crime|      Drama|            9505|          4.09|             0.93|              [858]|\n",
      "|     50| 10096|   5.0|954365515|    1|Crime|Mystery|Thr...|       1995|      Crime|    Mystery|   Thriller|           10221|          4.35|             0.75|              [858]|\n",
      "|    593| 10096|   4.0|954365552|    1|Crime|Horror|Thri...|       1991|      Crime|     Horror|   Thriller|           13692|          4.18|             0.85|          [858, 50]|\n",
      "|     25| 10096|   2.0|954365571|    0|       Drama|Romance|       1995|      Drama|    Romance|       null|            4684|          3.69|             1.04|     [858, 50, 593]|\n",
      "|    457| 10096|   5.0|954365571|    1|            Thriller|       1993|   Thriller|       null|       null|           10736|          3.97|             0.78|     [858, 50, 593]|\n",
      "|    541| 10096|   3.0|954365664|    0|Action|Sci-Fi|Thr...|       1982|     Action|     Sci-Fi|   Thriller|            6635|          4.14|             0.88|[858, 50, 593, 457]|\n",
      "|     25| 10351|   4.0|851791255|    1|       Drama|Romance|       1995|      Drama|    Romance|       null|            4684|          3.69|             1.04|                 []|\n",
      "+-------+------+------+---------+-----+--------------------+-----------+-----------+-----------+-----------+----------------+--------------+-----------------+-------------------+\n",
      "only showing top 10 rows\n",
      "\n"
     ]
    }
   ],
   "source": [
    "samplesWithUserFeatures1.show(10)"
   ]
  },
  {
   "cell_type": "code",
   "execution_count": 29,
   "metadata": {},
   "outputs": [
    {
     "name": "stdout",
     "output_type": "stream",
     "text": [
      "858 1 954364961 []\n",
      "678 0 954365396 ['858']\n",
      "514 0 954365410 ['858']\n",
      "608 0 954365515 ['858']\n",
      "50 1 954365515 ['858']\n",
      "593 1 954365552 ['858', '50']\n",
      "25 0 954365571 ['858', '50', '593']\n",
      "457 1 954365571 ['858', '50', '593']\n",
      "541 0 954365664 ['858', '50', '593', '457']\n"
     ]
    }
   ],
   "source": [
    "## 抽样一个用户出来看看\n",
    "for row in samplesWithUserFeatures1.where(F.col(\"userId\") == 10096).rdd.collect():\n",
    "    print(row[\"movieId\"], row[\"label\"], row[\"timestamp\"], row[\"userPositiveHistory\"])"
   ]
  },
  {
   "cell_type": "code",
   "execution_count": 30,
   "metadata": {},
   "outputs": [],
   "source": [
    "# samplesWithUserFeatures1.write.option(\"header\", \"true\").mode(\"overwrite\").json(\"nimabi.json\")"
   ]
  },
  {
   "cell_type": "code",
   "execution_count": 31,
   "metadata": {},
   "outputs": [],
   "source": [
    "# samplesWithUserFeatures = samplesWithMovieFeatures \\\n",
    "# .withColumn('userPositiveHistory',\n",
    "#             F.collect_list(\n",
    "#                 when(F.col('label') == 1, F.col('movieId')).otherwise(F.lit(None))\n",
    "#             ).over(\n",
    "#                 sql.Window.partitionBy(\"userId\").orderBy(F.col(\"timestamp\")).rowsBetween(-100, -1)\n",
    "#             )\n",
    "# )\\\n",
    "# .withColumn(\"userPositiveHistory\", reverse(F.col(\"userPositiveHistory\")))\n",
    "# samplesWithMovieFeatures.show()"
   ]
  },
  {
   "cell_type": "code",
   "execution_count": 32,
   "metadata": {},
   "outputs": [
    {
     "name": "stdout",
     "output_type": "stream",
     "text": [
      "+-------+------+------+---------+-----+--------------------+-----------+-----------+-----------+-----------+----------------+--------------+-----------------+--------------------+\n",
      "|movieId|userId|rating|timestamp|label|              genres|releaseYear|movieGenre1|movieGenre2|movieGenre3|movieRatingCount|movieAvgRating|movieRatingStddev| userPositiveHistory|\n",
      "+-------+------+------+---------+-----+--------------------+-----------+-----------+-----------+-----------+----------------+--------------+-----------------+--------------------+\n",
      "|    858| 10096|   4.0|954364961|    1|         Crime|Drama|       1972|      Crime|      Drama|       null|            8996|          4.35|             0.86|                  []|\n",
      "|    678| 10096|   3.0|954365396|    0|      Drama|Thriller|       1993|      Drama|   Thriller|       null|             620|          4.10|             0.86|               [858]|\n",
      "|    514| 10096|   3.0|954365410|    0|              Comedy|       1994|     Comedy|       null|       null|            1038|          3.50|             0.86|               [858]|\n",
      "|    608| 10096|   3.0|954365515|    0|Comedy|Crime|Dram...|       1996|     Comedy|      Crime|      Drama|            9505|          4.09|             0.93|               [858]|\n",
      "|     50| 10096|   5.0|954365515|    1|Crime|Mystery|Thr...|       1995|      Crime|    Mystery|   Thriller|           10221|          4.35|             0.75|               [858]|\n",
      "|    593| 10096|   4.0|954365552|    1|Crime|Horror|Thri...|       1991|      Crime|     Horror|   Thriller|           13692|          4.18|             0.85|           [50, 858]|\n",
      "|     25| 10096|   2.0|954365571|    0|       Drama|Romance|       1995|      Drama|    Romance|       null|            4684|          3.69|             1.04|      [593, 50, 858]|\n",
      "|    457| 10096|   5.0|954365571|    1|            Thriller|       1993|   Thriller|       null|       null|           10736|          3.97|             0.78|      [593, 50, 858]|\n",
      "|    541| 10096|   3.0|954365664|    0|Action|Sci-Fi|Thr...|       1982|     Action|     Sci-Fi|   Thriller|            6635|          4.14|             0.88| [457, 593, 50, 858]|\n",
      "|     25| 10351|   4.0|851791255|    1|       Drama|Romance|       1995|      Drama|    Romance|       null|            4684|          3.69|             1.04|                  []|\n",
      "|    648| 10351|   3.0|851791255|    0|Action|Adventure|...|       1996|     Action|  Adventure|    Mystery|            8117|          3.37|             0.90|                [25]|\n",
      "|     32| 10351|   4.0|851791255|    1|Mystery|Sci-Fi|Th...|       1995|    Mystery|     Sci-Fi|   Thriller|            9694|          3.89|             0.86|                [25]|\n",
      "|      1| 10351|   4.0|851791255|    1|Adventure|Animati...|       1995|  Adventure|  Animation|   Children|           10759|          3.91|             0.89|            [32, 25]|\n",
      "|      6| 10351|   4.0|851791281|    1|Action|Crime|Thri...|       1995|     Action|      Crime|   Thriller|            5245|          3.84|             0.86|         [1, 32, 25]|\n",
      "|    608| 10351|   5.0|851791281|    1|Comedy|Crime|Dram...|       1996|     Comedy|      Crime|      Drama|            9505|          4.09|             0.93|      [6, 1, 32, 25]|\n",
      "|    786| 10351|   3.0|851791305|    0|Action|Drama|Thri...|       1996|     Action|      Drama|   Thriller|            3445|          3.15|             0.99| [608, 6, 1, 32, 25]|\n",
      "|     52| 10351|   4.0|851791305|    1|Comedy|Drama|Romance|       1995|     Comedy|      Drama|    Romance|            2033|          3.54|             0.91| [608, 6, 1, 32, 25]|\n",
      "|     58| 10351|   5.0|851791305|    1|Comedy|Drama|Romance|       1994|     Comedy|      Drama|    Romance|            2498|          3.95|             0.99|[52, 608, 6, 1, 3...|\n",
      "|    100| 10351|   3.0|851791340|    0|      Drama|Thriller|       1996|      Drama|   Thriller|       null|             905|          3.21|             0.83|[58, 52, 608, 6, ...|\n",
      "|    719| 10351|   3.0|851791360|    0|              Comedy|       1996|     Comedy|       null|       null|            1683|          2.94|             0.96|[58, 52, 608, 6, ...|\n",
      "+-------+------+------+---------+-----+--------------------+-----------+-----------+-----------+-----------+----------------+--------------+-----------------+--------------------+\n",
      "only showing top 20 rows\n",
      "\n"
     ]
    }
   ],
   "source": [
    "samplesWithUserFeatures2 = samplesWithUserFeatures1.withColumn(\"userPositiveHistory\", reverse(F.col(\"userPositiveHistory\")))\n",
    "samplesWithUserFeatures2.show()"
   ]
  },
  {
   "cell_type": "code",
   "execution_count": 33,
   "metadata": {},
   "outputs": [
    {
     "name": "stdout",
     "output_type": "stream",
     "text": [
      "858 1 954364961 []\n",
      "678 0 954365396 ['858']\n",
      "514 0 954365410 ['858']\n",
      "608 0 954365515 ['858']\n",
      "50 1 954365515 ['858']\n",
      "593 1 954365552 ['50', '858']\n",
      "25 0 954365571 ['593', '50', '858']\n",
      "457 1 954365571 ['593', '50', '858']\n",
      "541 0 954365664 ['457', '593', '50', '858']\n"
     ]
    }
   ],
   "source": [
    "## 抽样一个用户出来看看\n",
    "for row in samplesWithUserFeatures2.where(F.col(\"userId\") == 10096).rdd.collect():\n",
    "    print(row[\"movieId\"], row[\"label\"], row[\"timestamp\"], row[\"userPositiveHistory\"], \n",
    "         # row[\"userRatedMovie1\"], row[\"userRatedMovie2\"], row[\"userRatedMovie3\"], row[\"userRatedMovie4\"], row[\"userRatedMovie5\"]\n",
    "     )\n",
    "\n",
    "## 看见没，下面的userPositiveHistory，里面的电影名称都按照升序排列了。看看之前的例子，是不是发现，是按照降序排列的？\n",
    "## 所以啊，下面那个cell里面的好评电影列，本质上来说，就是一个用户在看这部电影之前，好评过的电影，按照电影id的升序顺序，取前几个罢了。\n",
    "## 经过解构，是不是发现不那么复杂了？终于突破了。"
   ]
  },
  {
   "cell_type": "code",
   "execution_count": 34,
   "metadata": {},
   "outputs": [],
   "source": [
    "samplesWithUserFeatures3 = samplesWithUserFeatures2\\\n",
    ".withColumn('userRatedMovie1', F.col('userPositiveHistory')[0]) \\\n",
    ".withColumn('userRatedMovie2', F.col('userPositiveHistory')[1]) \\\n",
    ".withColumn('userRatedMovie3', F.col('userPositiveHistory')[2]) \\\n",
    ".withColumn('userRatedMovie4', F.col('userPositiveHistory')[3]) \\\n",
    ".withColumn('userRatedMovie5', F.col('userPositiveHistory')[4])"
   ]
  },
  {
   "cell_type": "code",
   "execution_count": 35,
   "metadata": {},
   "outputs": [],
   "source": [
    "samplesWithUserFeatures4 = samplesWithUserFeatures3\\\n",
    ".withColumn(\n",
    "    'userRatingCount',## 计算这个用户在看这部电影之前给过多少评分\n",
    "    F.count(F.lit(1)).over(sql.Window.partitionBy('userId').orderBy('timestamp').rowsBetween(-100, -1))\n",
    ")\\\n",
    ".withColumn(\n",
    "    'userAvgReleaseYear', ## 计算这个用户在看这部电影之前看过的电影的平均年份。\n",
    "## 举个例子吧，比如up主，老电影故事，他的这个值可能就是1970；专门讲童年神剧的大头虫，这个值可能就是2000；老邪估计讲的都是最新的电影，所以他的这个值就是2010酱紫。\n",
    "## 通过举例了三个up主，是不是觉得这个特征还是很有意义的呢2333？\n",
    "    F.avg(F.col('releaseYear')).over(sql.Window.partitionBy('userId').orderBy('timestamp').rowsBetween(-100, -1)).cast(IntegerType())\n",
    ")\\\n",
    ".withColumn(\n",
    "    'userReleaseYearStddev', \n",
    "    F.stddev(F.col(\"releaseYear\")).over(sql.Window.partitionBy('userId').orderBy('timestamp').rowsBetween(-100, -1))\n",
    ")\\\n",
    ".withColumn(\n",
    "    \"userAvgRating\", \n",
    "    format_number(\n",
    "        F.avg(F.col(\"rating\")).over(sql.Window.partitionBy('userId').orderBy('timestamp').rowsBetween(-100, -1)), \n",
    "        NUMBER_PRECISION\n",
    "    )\n",
    ")\\\n",
    ".withColumn(\n",
    "    \"userRatingStddev\", \n",
    "    F.stddev(F.col(\"rating\")).over(sql.Window.partitionBy('userId').orderBy('timestamp').rowsBetween(-100, -1))\n",
    ")\\\n",
    ".withColumn(\n",
    "    \"userGenres\", ## 把用户以前好评过的电影的genres全部搜集起来。\n",
    "                ## 原始的genres是一个\"genre1|genre2|genre3\"这样的，这里呢，我们把里面的genre拆出来成为一个一个genre1，genre2，genre3酱紫，\n",
    "                ## userGenres: 把用户以前看过的电影的风格, 按照它们出现的次数进行排序. \n",
    "    extractGenresUdf(F.collect_list(when(F.col('label') == 1, F.col('genres')).otherwise(F.lit(None))).over(sql.Window.partitionBy('userId').orderBy('timestamp').rowsBetween(-100, -1)))\n",
    ")"
   ]
  },
  {
   "cell_type": "markdown",
   "metadata": {},
   "source": [
    "`samplesWithUserFeatures4`里的列，有一个共同点，就是他们都利用了滑动窗口，专门针对用户以前看过的电影进行统计。"
   ]
  },
  {
   "cell_type": "code",
   "execution_count": 36,
   "metadata": {},
   "outputs": [],
   "source": [
    "samplesWithUserFeatures5 = samplesWithUserFeatures4\\\n",
    ".withColumn(\"userRatingStddev\", format_number(F.col(\"userRatingStddev\"), NUMBER_PRECISION)) \\\n",
    ".withColumn(\"userReleaseYearStddev\", format_number(F.col(\"userReleaseYearStddev\"), NUMBER_PRECISION)) \\\n",
    "## 这里就是调整一下某一些列的精确度。"
   ]
  },
  {
   "cell_type": "code",
   "execution_count": 37,
   "metadata": {},
   "outputs": [],
   "source": [
    "samplesWithUserFeatures6 = samplesWithUserFeatures5\\\n",
    ".withColumn(\"userGenre1\", F.col(\"userGenres\")[0]) \\\n",
    ".withColumn(\"userGenre2\", F.col(\"userGenres\")[1]) \\\n",
    ".withColumn(\"userGenre3\", F.col(\"userGenres\")[2]) \\\n",
    ".withColumn(\"userGenre4\", F.col(\"userGenres\")[3]) \\\n",
    ".withColumn(\"userGenre5\", F.col(\"userGenres\")[4])\n",
    "## 这里也很明确了，就是抽取userGenres的前5个值。\n",
    "## 这些列反映的是，用户以前看过的电影里，最多的类别是哪几个。比如，用户过去看的最多的是userGenre1类型的电影，第二多的是userGenre2的电影。"
   ]
  },
  {
   "cell_type": "code",
   "execution_count": 38,
   "metadata": {},
   "outputs": [],
   "source": [
    "samplesWithUserFeatures = samplesWithUserFeatures6\\\n",
    ".drop(\"genres\", \"userGenres\", \"userPositiveHistory\") \\\n",
    ".filter(F.col(\"userRatingCount\") > 1) ## 只要评过至少2部电影的用户的数据。\n",
    "## 假如有的作者只看了1部电影，那么他的那些跟“以前看过的电影”相关的列全都会是空的。这样也就太多空值了，这样的行也没什么意义了。"
   ]
  },
  {
   "cell_type": "code",
   "execution_count": 39,
   "metadata": {},
   "outputs": [
    {
     "name": "stdout",
     "output_type": "stream",
     "text": [
      "root\n",
      " |-- movieId: string (nullable = true)\n",
      " |-- userId: string (nullable = true)\n",
      " |-- rating: string (nullable = true)\n",
      " |-- timestamp: string (nullable = true)\n",
      " |-- label: integer (nullable = false)\n",
      " |-- releaseYear: integer (nullable = true)\n",
      " |-- movieGenre1: string (nullable = true)\n",
      " |-- movieGenre2: string (nullable = true)\n",
      " |-- movieGenre3: string (nullable = true)\n",
      " |-- movieRatingCount: long (nullable = true)\n",
      " |-- movieAvgRating: string (nullable = true)\n",
      " |-- movieRatingStddev: string (nullable = true)\n",
      " |-- userRatedMovie1: string (nullable = true)\n",
      " |-- userRatedMovie2: string (nullable = true)\n",
      " |-- userRatedMovie3: string (nullable = true)\n",
      " |-- userRatedMovie4: string (nullable = true)\n",
      " |-- userRatedMovie5: string (nullable = true)\n",
      " |-- userRatingCount: long (nullable = false)\n",
      " |-- userAvgReleaseYear: integer (nullable = true)\n",
      " |-- userReleaseYearStddev: string (nullable = true)\n",
      " |-- userAvgRating: string (nullable = true)\n",
      " |-- userRatingStddev: string (nullable = true)\n",
      " |-- userGenre1: string (nullable = true)\n",
      " |-- userGenre2: string (nullable = true)\n",
      " |-- userGenre3: string (nullable = true)\n",
      " |-- userGenre4: string (nullable = true)\n",
      " |-- userGenre5: string (nullable = true)\n",
      "\n"
     ]
    }
   ],
   "source": [
    "samplesWithUserFeatures.printSchema()"
   ]
  },
  {
   "cell_type": "code",
   "execution_count": null,
   "metadata": {},
   "outputs": [],
   "source": [
    "# samplesWithUserFeatures.show(10)\n",
    "\n",
    "## 这个不错啊，用来筛数据很合适。\n",
    "# samplesWithUserFeatures.filter(samplesWithMovieFeatures['userId'] == 1).orderBy(F.col('timestamp').asc()).show(truncate=False)"
   ]
  },
  {
   "cell_type": "markdown",
   "metadata": {},
   "source": [
    "# Save the user features into Redis"
   ]
  },
  {
   "cell_type": "code",
   "execution_count": null,
   "metadata": {},
   "outputs": [],
   "source": []
  },
  {
   "cell_type": "markdown",
   "metadata": {},
   "source": [
    "# Split the training and testing data"
   ]
  },
  {
   "cell_type": "code",
   "execution_count": null,
   "metadata": {},
   "outputs": [],
   "source": [
    "file_path\n",
    "\n",
    "smallSamples = samplesWithUserFeatures.sample(0.1).withColumn(\"timestampLong\", F.col(\"timestamp\").cast(LongType()))\n",
    "quantile = smallSamples.stat.approxQuantile(\"timestampLong\", [0.8], 0.05)\n",
    "splitTimestamp = quantile[0]\n",
    "training = smallSamples.where(F.col(\"timestampLong\") <= splitTimestamp).drop(\"timestampLong\")\n",
    "test = smallSamples.where(F.col(\"timestampLong\") > splitTimestamp).drop(\"timestampLong\")\n",
    "trainingSavePath = file_path + '/webroot/sampledata/trainingSamples'\n",
    "testSavePath = file_path + '/webroot/sampledata/testSamples'\n",
    "training.repartition(1).write.option(\"header\", \"true\").mode('overwrite') \\\n",
    "    .csv(trainingSavePath)\n",
    "test.repartition(1).write.option(\"header\", \"true\").mode('overwrite') \\\n",
    "    .csv(testSavePath)"
   ]
  }
 ],
 "metadata": {
  "kernelspec": {
   "display_name": "Python 3",
   "language": "python",
   "name": "python3"
  },
  "language_info": {
   "codemirror_mode": {
    "name": "ipython",
    "version": 3
   },
   "file_extension": ".py",
   "mimetype": "text/x-python",
   "name": "python",
   "nbconvert_exporter": "python",
   "pygments_lexer": "ipython3",
   "version": "3.6.8"
  }
 },
 "nbformat": 4,
 "nbformat_minor": 4
}
