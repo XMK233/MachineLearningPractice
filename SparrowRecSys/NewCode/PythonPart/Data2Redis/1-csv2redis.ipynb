{
 "cells": [
  {
   "cell_type": "code",
   "execution_count": 2,
   "metadata": {},
   "outputs": [
    {
     "name": "stdout",
     "output_type": "stream",
     "text": [
      "Collecting redis\n",
      "  Downloading https://files.pythonhosted.org/packages/a7/7c/24fb0511df653cf1a5d938d8f5d19802a88cef255706fdda242ff97e91b7/redis-3.5.3-py2.py3-none-any.whl (72kB)\n",
      "Installing collected packages: redis\n",
      "Successfully installed redis-3.5.3\n"
     ]
    }
   ],
   "source": [
    "!pip install redis"
   ]
  },
  {
   "cell_type": "code",
   "execution_count": 58,
   "metadata": {},
   "outputs": [],
   "source": [
    "import csv\n",
    "import redis\n",
    "import json\n",
    "import tqdm"
   ]
  },
  {
   "cell_type": "code",
   "execution_count": null,
   "metadata": {},
   "outputs": [],
   "source": [
    "r = redis.StrictRedis(host='localhost', port=6379) # , db=1, password='123456'"
   ]
  },
  {
   "cell_type": "code",
   "execution_count": 4,
   "metadata": {},
   "outputs": [],
   "source": [
    "movieFilePath = r\"D:/MachineLearningPractice/SparrowRecSys/NewCode/JavaPart/src/main/resources/webroot/sampledata/movies.csv\"\n",
    "ratingFilePath = r\"D:/MachineLearningPractice/SparrowRecSys/NewCode/JavaPart/src/main/resources/webroot/sampledata/ratings.csv\""
   ]
  },
  {
   "cell_type": "code",
   "execution_count": 13,
   "metadata": {},
   "outputs": [
    {
     "data": {
      "text/plain": [
       "\"{'title': 'Toy Story (1995)', 'genres': 'Adventure|Animation|Children|Comedy|Fantasy'}\""
      ]
     },
     "execution_count": 13,
     "metadata": {},
     "output_type": "execute_result"
    }
   ],
   "source": [
    "## 字典 转为 字符串\n",
    "t = str({\"title\": title, \"genres\": genres})\n",
    "t"
   ]
  },
  {
   "cell_type": "code",
   "execution_count": 15,
   "metadata": {},
   "outputs": [
    {
     "data": {
      "text/plain": [
       "{'title': 'Toy Story (1995)',\n",
       " 'genres': 'Adventure|Animation|Children|Comedy|Fantasy'}"
      ]
     },
     "execution_count": 15,
     "metadata": {},
     "output_type": "execute_result"
    }
   ],
   "source": [
    "## 字符串转为字典 \n",
    "eval(t)"
   ]
  },
  {
   "cell_type": "code",
   "execution_count": 21,
   "metadata": {},
   "outputs": [
    {
     "data": {
      "text/plain": [
       "[]"
      ]
     },
     "execution_count": 21,
     "metadata": {},
     "output_type": "execute_result"
    }
   ],
   "source": [
    "r.keys()"
   ]
  },
  {
   "cell_type": "code",
   "execution_count": 50,
   "metadata": {},
   "outputs": [],
   "source": [
    "for key in r.keys(\"movie-*\"):\n",
    "    r.delete(key)\n",
    "#     r.hdel(key, \"title\")\n",
    "#     r.hdel(key, \"genres\")"
   ]
  },
  {
   "cell_type": "code",
   "execution_count": 51,
   "metadata": {},
   "outputs": [
    {
     "name": "stderr",
     "output_type": "stream",
     "text": [
      "c:\\users\\xmk23\\appdata\\local\\continuum\\anaconda3\\envs\\tf2\\lib\\site-packages\\ipykernel_launcher.py:7: DeprecationWarning: Redis.hmset() is deprecated. Use Redis.hset() instead.\n",
      "  import sys\n"
     ]
    }
   ],
   "source": [
    "with open(movieFilePath, 'rt', encoding='utf-8') as csvfile:\n",
    "    reader = csv.DictReader(csvfile)\n",
    "    for row in reader:\n",
    "        movieId = row['movieId']\n",
    "        title = row['title']\n",
    "        genres = row[\"genres\"]\n",
    "        r.hmset(\"movie-{}\".format(movieId), {\"title\": title, \"genres\": genres})\n",
    "#         r.hset(\"movie-{}\".format(movieId), \"title\", title) ## 字典转为str存储\n",
    "#         r.hset(\"movie-{}\".format(movieId), \"genres\", genres)"
   ]
  },
  {
   "cell_type": "code",
   "execution_count": 56,
   "metadata": {},
   "outputs": [
    {
     "data": {
      "text/plain": [
       "[b'Toy Story (1995)']"
      ]
     },
     "execution_count": 56,
     "metadata": {},
     "output_type": "execute_result"
    }
   ],
   "source": [
    "r.hmget(\"movie-1\", \"title\")"
   ]
  },
  {
   "cell_type": "code",
   "execution_count": 52,
   "metadata": {},
   "outputs": [],
   "source": [
    "# for name in r.keys(\"movie-1\"):\n",
    "#     print(r.hget(name, \"title\"), r.hget(name, \"genres\"))"
   ]
  },
  {
   "cell_type": "code",
   "execution_count": 57,
   "metadata": {},
   "outputs": [],
   "source": [
    "for key in r.keys(\"rating-*\"):\n",
    "    r.delete(key)"
   ]
  },
  {
   "cell_type": "code",
   "execution_count": 61,
   "metadata": {},
   "outputs": [
    {
     "name": "stderr",
     "output_type": "stream",
     "text": [
      "1168638it [09:53, 1968.10it/s]\n"
     ]
    }
   ],
   "source": [
    "with open(ratingFilePath, 'rt', encoding='utf-8') as csvfile:\n",
    "    reader = csv.DictReader(csvfile)\n",
    "    for row in tqdm.tqdm(reader):\n",
    "        try:\n",
    "            userId = row['userId']\n",
    "            movieId = row['movieId']\n",
    "            rating = row['rating']\n",
    "            timestamp = row[\"timestamp\"]\n",
    "    #         r.set(\n",
    "    #             \"rating-user_{}-movie_{}\".format(userId, movieId), str({\"rating\": rating, \"timestamp\": timestamp}) \n",
    "    #         ) ## 字典转为str存储\n",
    "            r.hset(\"rating-user_{}-movie_{}\".format(userId, movieId), \"rating\", rating)\n",
    "            r.hset(\"rating-user_{}-movie_{}\".format(userId, movieId), \"timestamp\", timestamp)\n",
    "        except:\n",
    "            print(\"failed: \", \"rating-user_{}-movie_{}\".format(userId, movieId), {\"rating\": rating, \"timestamp\": timestamp})\n",
    "            continue\n",
    "## 大概要两三分钟的时间, 我等了一下, 然后中途吃了点东西, 回来又等了一会, 才完事儿. "
   ]
  },
  {
   "cell_type": "code",
   "execution_count": 62,
   "metadata": {},
   "outputs": [
    {
     "data": {
      "text/plain": [
       "[b'rating-user_1-movie_919',\n",
       " b'rating-user_1-movie_653',\n",
       " b'rating-user_1-movie_253',\n",
       " b'rating-user_1-movie_593',\n",
       " b'rating-user_1-movie_29',\n",
       " b'rating-user_1-movie_318',\n",
       " b'rating-user_1-movie_589',\n",
       " b'rating-user_1-movie_2',\n",
       " b'rating-user_1-movie_924',\n",
       " b'rating-user_1-movie_337',\n",
       " b'rating-user_1-movie_151',\n",
       " b'rating-user_1-movie_223',\n",
       " b'rating-user_1-movie_541',\n",
       " b'rating-user_1-movie_367',\n",
       " b'rating-user_1-movie_47',\n",
       " b'rating-user_1-movie_260',\n",
       " b'rating-user_1-movie_50',\n",
       " b'rating-user_1-movie_32',\n",
       " b'rating-user_1-movie_112',\n",
       " b'rating-user_1-movie_293',\n",
       " b'rating-user_1-movie_296']"
      ]
     },
     "execution_count": 62,
     "metadata": {},
     "output_type": "execute_result"
    }
   ],
   "source": [
    "r.keys(\"rating-user_1-*\")"
   ]
  },
  {
   "cell_type": "code",
   "execution_count": null,
   "metadata": {},
   "outputs": [],
   "source": []
  }
 ],
 "metadata": {
  "kernelspec": {
   "display_name": "Python 3",
   "language": "python",
   "name": "python3"
  },
  "language_info": {
   "codemirror_mode": {
    "name": "ipython",
    "version": 3
   },
   "file_extension": ".py",
   "mimetype": "text/x-python",
   "name": "python",
   "nbconvert_exporter": "python",
   "pygments_lexer": "ipython3",
   "version": "3.6.8"
  }
 },
 "nbformat": 4,
 "nbformat_minor": 4
}
