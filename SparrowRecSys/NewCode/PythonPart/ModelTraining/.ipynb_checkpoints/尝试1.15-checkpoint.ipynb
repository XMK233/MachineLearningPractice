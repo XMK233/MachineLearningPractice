{
 "cells": [
  {
   "cell_type": "code",
   "execution_count": null,
   "metadata": {},
   "outputs": [],
   "source": [
    "features = {\n",
    "    'sex': [0, 1, 0, 0, 1],\n",
    "    'department': [0, 0, 1, 2, 3],\n",
    "}"
   ]
  },
  {
   "cell_type": "code",
   "execution_count": 1,
   "metadata": {},
   "outputs": [
    {
     "name": "stdout",
     "output_type": "stream",
     "text": [
      "WARNING:tensorflow:From C:\\Users\\XMK23\\AppData\\Local\\Continuum\\anaconda3\\envs\\Py1\\lib\\site-packages\\tensorflow_core\\python\\feature_column\\feature_column.py:206: IndicatorColumn._get_dense_tensor (from tensorflow.python.feature_column.feature_column_v2) is deprecated and will be removed in a future version.\n",
      "Instructions for updating:\n",
      "The old _FeatureColumn APIs are being deprecated. Please use the new FeatureColumn APIs instead.\n",
      "WARNING:tensorflow:From C:\\Users\\XMK23\\AppData\\Local\\Continuum\\anaconda3\\envs\\Py1\\lib\\site-packages\\tensorflow_core\\python\\feature_column\\feature_column.py:2158: IndicatorColumn._transform_feature (from tensorflow.python.feature_column.feature_column_v2) is deprecated and will be removed in a future version.\n",
      "Instructions for updating:\n",
      "The old _FeatureColumn APIs are being deprecated. Please use the new FeatureColumn APIs instead.\n",
      "WARNING:tensorflow:From C:\\Users\\XMK23\\AppData\\Local\\Continuum\\anaconda3\\envs\\Py1\\lib\\site-packages\\tensorflow_core\\python\\feature_column\\feature_column_v2.py:4300: CrossedColumn._get_sparse_tensors (from tensorflow.python.feature_column.feature_column_v2) is deprecated and will be removed in a future version.\n",
      "Instructions for updating:\n",
      "The old _FeatureColumn APIs are being deprecated. Please use the new FeatureColumn APIs instead.\n",
      "WARNING:tensorflow:From C:\\Users\\XMK23\\AppData\\Local\\Continuum\\anaconda3\\envs\\Py1\\lib\\site-packages\\tensorflow_core\\python\\feature_column\\feature_column.py:2158: CrossedColumn._transform_feature (from tensorflow.python.feature_column.feature_column_v2) is deprecated and will be removed in a future version.\n",
      "Instructions for updating:\n",
      "The old _FeatureColumn APIs are being deprecated. Please use the new FeatureColumn APIs instead.\n",
      "WARNING:tensorflow:From C:\\Users\\XMK23\\AppData\\Local\\Continuum\\anaconda3\\envs\\Py1\\lib\\site-packages\\tensorflow_core\\python\\feature_column\\feature_column_v2.py:4118: VocabularyListCategoricalColumn._get_sparse_tensors (from tensorflow.python.feature_column.feature_column_v2) is deprecated and will be removed in a future version.\n",
      "Instructions for updating:\n",
      "The old _FeatureColumn APIs are being deprecated. Please use the new FeatureColumn APIs instead.\n",
      "WARNING:tensorflow:From C:\\Users\\XMK23\\AppData\\Local\\Continuum\\anaconda3\\envs\\Py1\\lib\\site-packages\\tensorflow_core\\python\\feature_column\\feature_column.py:2158: VocabularyListCategoricalColumn._transform_feature (from tensorflow.python.feature_column.feature_column_v2) is deprecated and will be removed in a future version.\n",
      "Instructions for updating:\n",
      "The old _FeatureColumn APIs are being deprecated. Please use the new FeatureColumn APIs instead.\n",
      "WARNING:tensorflow:From C:\\Users\\XMK23\\AppData\\Local\\Continuum\\anaconda3\\envs\\Py1\\lib\\site-packages\\tensorflow_core\\python\\feature_column\\feature_column_v2.py:4118: IdentityCategoricalColumn._get_sparse_tensors (from tensorflow.python.feature_column.feature_column_v2) is deprecated and will be removed in a future version.\n",
      "Instructions for updating:\n",
      "The old _FeatureColumn APIs are being deprecated. Please use the new FeatureColumn APIs instead.\n",
      "WARNING:tensorflow:From C:\\Users\\XMK23\\AppData\\Local\\Continuum\\anaconda3\\envs\\Py1\\lib\\site-packages\\tensorflow_core\\python\\feature_column\\feature_column.py:2158: IdentityCategoricalColumn._transform_feature (from tensorflow.python.feature_column.feature_column_v2) is deprecated and will be removed in a future version.\n",
      "Instructions for updating:\n",
      "The old _FeatureColumn APIs are being deprecated. Please use the new FeatureColumn APIs instead.\n",
      "WARNING:tensorflow:From C:\\Users\\XMK23\\AppData\\Local\\Continuum\\anaconda3\\envs\\Py1\\lib\\site-packages\\tensorflow_core\\python\\feature_column\\feature_column_v2.py:4271: IndicatorColumn._variable_shape (from tensorflow.python.feature_column.feature_column_v2) is deprecated and will be removed in a future version.\n",
      "Instructions for updating:\n",
      "The old _FeatureColumn APIs are being deprecated. Please use the new FeatureColumn APIs instead.\n",
      "WARNING:tensorflow:From C:\\Users\\XMK23\\AppData\\Local\\Continuum\\anaconda3\\envs\\Py1\\lib\\site-packages\\tensorflow_core\\python\\feature_column\\feature_column_v2.py:4326: CrossedColumn._num_buckets (from tensorflow.python.feature_column.feature_column_v2) is deprecated and will be removed in a future version.\n",
      "Instructions for updating:\n",
      "The old _FeatureColumn APIs are being deprecated. Please use the new FeatureColumn APIs instead.\n",
      "[[0. 0. 0. 1. 0. 0. 0. 0. 0. 0.]\n",
      " [0. 0. 0. 0. 1. 0. 0. 0. 0. 0.]\n",
      " [0. 1. 0. 0. 0. 0. 0. 0. 0. 0.]\n",
      " [0. 0. 0. 0. 0. 0. 1. 0. 0. 0.]\n",
      " [1. 0. 0. 0. 0. 0. 0. 0. 0. 0.]]\n"
     ]
    }
   ],
   "source": [
    "#https://blog.csdn.net/pearl8899/article/details/107979097\n",
    "import tensorflow as tf\n",
    "sess=tf.Session()\n",
    "#特征数据\n",
    "features = {\n",
    "    'sex': [1, 2, 1, 1, 2],\n",
    "    'department': ['sport', 'sport', 'drawing', 'gardening', 'travelling'],\n",
    "}\n",
    "#特征列\n",
    "department = tf.feature_column.categorical_column_with_vocabulary_list('department', ['sport','drawing','gardening','travelling'], dtype=tf.string)\n",
    "sex = tf.feature_column.categorical_column_with_identity('sex', num_buckets=2, default_value=0)\n",
    "sex_department = tf.feature_column.crossed_column([department,sex], 10)\n",
    "# sex_department = tf.feature_column.crossed_column([features['department'],features['sex']], 16)\n",
    "sex_department = tf.feature_column.indicator_column(sex_department)\n",
    "#组合特征列\n",
    "columns = [sex_department]\n",
    "#输入层（数据，特征列）\n",
    "inputs = tf.feature_column.input_layer(features, columns)\n",
    " \n",
    "#初始化并运行\n",
    "init = tf.global_variables_initializer()\n",
    "sess.run(tf.tables_initializer())\n",
    "sess.run(init)\n",
    " \n",
    "v=sess.run(inputs)\n",
    "print(v)"
   ]
  },
  {
   "cell_type": "code",
   "execution_count": null,
   "metadata": {},
   "outputs": [],
   "source": []
  }
 ],
 "metadata": {
  "kernelspec": {
   "display_name": "Python 3",
   "language": "python",
   "name": "python3"
  },
  "language_info": {
   "codemirror_mode": {
    "name": "ipython",
    "version": 3
   },
   "file_extension": ".py",
   "mimetype": "text/x-python",
   "name": "python",
   "nbconvert_exporter": "python",
   "pygments_lexer": "ipython3",
   "version": "3.6.7"
  }
 },
 "nbformat": 4,
 "nbformat_minor": 2
}
