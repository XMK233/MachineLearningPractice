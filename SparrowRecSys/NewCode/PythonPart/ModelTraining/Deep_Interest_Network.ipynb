{
 "cells": [
  {
   "cell_type": "code",
   "execution_count": 1,
   "metadata": {},
   "outputs": [
    {
     "data": {
      "text/plain": [
       "'2.4.0'"
      ]
     },
     "execution_count": 1,
     "metadata": {},
     "output_type": "execute_result"
    }
   ],
   "source": [
    "import tensorflow as tf\n",
    "tf.__version__"
   ]
  },
  {
   "cell_type": "markdown",
   "metadata": {},
   "source": [
    "# Load the training data"
   ]
  },
  {
   "cell_type": "code",
   "execution_count": 6,
   "metadata": {},
   "outputs": [],
   "source": [
    "# load sample as tf dataset\n",
    "def get_dataset(file_path):\n",
    "    dataset = tf.data.experimental.make_csv_dataset(\n",
    "        file_path,\n",
    "        batch_size=12,\n",
    "        label_name='label',\n",
    "        na_value=\"0\",\n",
    "        num_epochs=1,\n",
    "        ignore_errors=True)\n",
    "    return dataset\n",
    "\n",
    "train_dataset = get_dataset(\n",
    "    #\"H:/MachineLearningPractice/SparrowRecSys/NewCode/JavaPart/src/main/resources/webroot/sampledata/trainingSamples.csv\"\n",
    "    r\"D:\\MachineLearningPractice\\SparrowRecSys\\NewCode\\JavaPart\\src\\main\\resources\\webroot\\sampledata\\trainingSamples.csv\"\n",
    ")\n",
    "test_dataset = get_dataset(\n",
    "#     \"H:/MachineLearningPractice/SparrowRecSys/NewCode/JavaPart/src/main/resources/webroot/sampledata/testSamples.csv\"\n",
    "    r\"D:\\MachineLearningPractice\\SparrowRecSys\\NewCode\\JavaPart\\src\\main\\resources\\webroot\\sampledata\\testSamples.csv\"\n",
    ")"
   ]
  },
  {
   "cell_type": "markdown",
   "metadata": {},
   "source": [
    "# Config"
   ]
  },
  {
   "cell_type": "code",
   "execution_count": 7,
   "metadata": {},
   "outputs": [],
   "source": [
    "# Config\n",
    "RECENT_MOVIES = 5  # userRatedMovie{1-5}\n",
    "EMBEDDING_SIZE = 10"
   ]
  },
  {
   "cell_type": "markdown",
   "metadata": {},
   "source": [
    "# define input for keras model"
   ]
  },
  {
   "cell_type": "code",
   "execution_count": 8,
   "metadata": {},
   "outputs": [],
   "source": [
    "inputs = {\n",
    "    'movieAvgRating': tf.keras.layers.Input(name='movieAvgRating', shape=(), dtype='float32'),\n",
    "    'movieRatingStddev': tf.keras.layers.Input(name='movieRatingStddev', shape=(), dtype='float32'),\n",
    "    'movieRatingCount': tf.keras.layers.Input(name='movieRatingCount', shape=(), dtype='int32'),\n",
    "    'userAvgRating': tf.keras.layers.Input(name='userAvgRating', shape=(), dtype='float32'),\n",
    "    'userRatingStddev': tf.keras.layers.Input(name='userRatingStddev', shape=(), dtype='float32'),\n",
    "    'userRatingCount': tf.keras.layers.Input(name='userRatingCount', shape=(), dtype='int32'),\n",
    "    'releaseYear': tf.keras.layers.Input(name='releaseYear', shape=(), dtype='int32'),\n",
    "\n",
    "    'movieId': tf.keras.layers.Input(name='movieId', shape=(), dtype='int32'),\n",
    "    'userId': tf.keras.layers.Input(name='userId', shape=(), dtype='int32'),\n",
    "    'userRatedMovie1': tf.keras.layers.Input(name='userRatedMovie1', shape=(), dtype='int32'),\n",
    "    'userRatedMovie2': tf.keras.layers.Input(name='userRatedMovie2', shape=(), dtype='int32'),\n",
    "    'userRatedMovie3': tf.keras.layers.Input(name='userRatedMovie3', shape=(), dtype='int32'),\n",
    "    'userRatedMovie4': tf.keras.layers.Input(name='userRatedMovie4', shape=(), dtype='int32'),\n",
    "    'userRatedMovie5': tf.keras.layers.Input(name='userRatedMovie5', shape=(), dtype='int32'),\n",
    "\n",
    "    'userGenre1': tf.keras.layers.Input(name='userGenre1', shape=(), dtype='string'),\n",
    "    'userGenre2': tf.keras.layers.Input(name='userGenre2', shape=(), dtype='string'),\n",
    "    'userGenre3': tf.keras.layers.Input(name='userGenre3', shape=(), dtype='string'),\n",
    "    'userGenre4': tf.keras.layers.Input(name='userGenre4', shape=(), dtype='string'),\n",
    "    'userGenre5': tf.keras.layers.Input(name='userGenre5', shape=(), dtype='string'),\n",
    "    'movieGenre1': tf.keras.layers.Input(name='movieGenre1', shape=(), dtype='string'),\n",
    "    'movieGenre2': tf.keras.layers.Input(name='movieGenre2', shape=(), dtype='string'),\n",
    "    'movieGenre3': tf.keras.layers.Input(name='movieGenre3', shape=(), dtype='string'),\n",
    "}"
   ]
  },
  {
   "cell_type": "markdown",
   "metadata": {},
   "source": [
    "# movie id embedding feature"
   ]
  },
  {
   "cell_type": "code",
   "execution_count": 9,
   "metadata": {},
   "outputs": [],
   "source": [
    "movie_col = tf.feature_column.categorical_column_with_identity(key='movieId', num_buckets=1001)\n",
    "movie_emb_col = tf.feature_column.embedding_column(movie_col, EMBEDDING_SIZE)"
   ]
  },
  {
   "cell_type": "markdown",
   "metadata": {},
   "source": [
    "# user id embedding feature"
   ]
  },
  {
   "cell_type": "code",
   "execution_count": 10,
   "metadata": {},
   "outputs": [],
   "source": [
    "user_col = tf.feature_column.categorical_column_with_identity(key='userId', num_buckets=30001)\n",
    "user_emb_col = tf.feature_column.embedding_column(user_col, EMBEDDING_SIZE)"
   ]
  },
  {
   "cell_type": "markdown",
   "metadata": {},
   "source": [
    "# embed the genre"
   ]
  },
  {
   "cell_type": "code",
   "execution_count": 11,
   "metadata": {},
   "outputs": [],
   "source": [
    "# genre features vocabulary\n",
    "genre_vocab = ['Film-Noir', 'Action', 'Adventure', 'Horror', 'Romance', 'War', 'Comedy', 'Western', 'Documentary',\n",
    "               'Sci-Fi', 'Drama', 'Thriller',\n",
    "               'Crime', 'Fantasy', 'Animation', 'IMAX', 'Mystery', 'Children', 'Musical']\n",
    "# user genre embedding feature\n",
    "user_genre_col = tf.feature_column.categorical_column_with_vocabulary_list(key=\"userGenre1\",\n",
    "                                                                           vocabulary_list=genre_vocab)\n",
    "user_genre_emb_col = tf.feature_column.embedding_column(user_genre_col, EMBEDDING_SIZE)\n",
    "# item genre embedding feature\n",
    "item_genre_col = tf.feature_column.categorical_column_with_vocabulary_list(key=\"movieGenre1\",\n",
    "                                                                           vocabulary_list=genre_vocab)\n",
    "item_genre_emb_col = tf.feature_column.embedding_column(item_genre_col, EMBEDDING_SIZE)"
   ]
  },
  {
   "cell_type": "markdown",
   "metadata": {},
   "source": [
    "# user behaviors"
   ]
  },
  {
   "cell_type": "code",
   "execution_count": 12,
   "metadata": {},
   "outputs": [],
   "source": [
    "recent_rate_col = [\n",
    "    tf.feature_column.numeric_column(key='userRatedMovie1', default_value=0),\n",
    "    tf.feature_column.numeric_column(key='userRatedMovie2', default_value=0),\n",
    "    tf.feature_column.numeric_column(key='userRatedMovie3', default_value=0),\n",
    "    tf.feature_column.numeric_column(key='userRatedMovie4', default_value=0),\n",
    "    tf.feature_column.numeric_column(key='userRatedMovie5', default_value=0),\n",
    "]"
   ]
  },
  {
   "cell_type": "markdown",
   "metadata": {},
   "source": [
    "# user profile"
   ]
  },
  {
   "cell_type": "code",
   "execution_count": 13,
   "metadata": {},
   "outputs": [],
   "source": [
    "user_profile = [\n",
    "    user_emb_col,\n",
    "    user_genre_emb_col,\n",
    "    tf.feature_column.numeric_column('userRatingCount'),\n",
    "    tf.feature_column.numeric_column('userAvgRating'),\n",
    "    tf.feature_column.numeric_column('userRatingStddev'),\n",
    "]"
   ]
  },
  {
   "cell_type": "markdown",
   "metadata": {},
   "source": [
    "# context features"
   ]
  },
  {
   "cell_type": "code",
   "execution_count": 14,
   "metadata": {},
   "outputs": [],
   "source": [
    "context_features = [\n",
    "    item_genre_emb_col,\n",
    "    tf.feature_column.numeric_column('releaseYear'),\n",
    "    tf.feature_column.numeric_column('movieRatingCount'),\n",
    "    tf.feature_column.numeric_column('movieAvgRating'),\n",
    "    tf.feature_column.numeric_column('movieRatingStddev'),\n",
    "]"
   ]
  },
  {
   "cell_type": "markdown",
   "metadata": {},
   "source": [
    "# Build the network structure"
   ]
  },
  {
   "cell_type": "code",
   "execution_count": 16,
   "metadata": {},
   "outputs": [],
   "source": [
    "user_profile_layer = tf.keras.layers.DenseFeatures(user_profile)(inputs)\n",
    "user_behaviors_layer = tf.keras.layers.DenseFeatures(recent_rate_col)(inputs)\n",
    "candidate_emb_layer = tf.keras.layers.DenseFeatures([movie_emb_col])(inputs)\n",
    "context_features_layer = tf.keras.layers.DenseFeatures(context_features)(inputs)"
   ]
  },
  {
   "cell_type": "code",
   "execution_count": 17,
   "metadata": {},
   "outputs": [],
   "source": [
    "# Activation Unit\n",
    "user_behaviors_emb_layer = tf.keras.layers.Embedding(input_dim=1001,\n",
    "                                                     output_dim=EMBEDDING_SIZE,\n",
    "                                                     mask_zero=True)(user_behaviors_layer)  # mask zero\n",
    "repeated_candidate_emb_layer = tf.keras.layers.RepeatVector(RECENT_MOVIES)(candidate_emb_layer)"
   ]
  },
  {
   "cell_type": "code",
   "execution_count": 18,
   "metadata": {},
   "outputs": [],
   "source": [
    "activation_sub_layer = tf.keras.layers.Subtract()([user_behaviors_emb_layer,\n",
    "                                                   repeated_candidate_emb_layer])  # element-wise sub\n",
    "activation_product_layer = tf.keras.layers.Multiply()([user_behaviors_emb_layer,\n",
    "                                                       repeated_candidate_emb_layer])  # element-wise product"
   ]
  },
  {
   "cell_type": "code",
   "execution_count": 19,
   "metadata": {},
   "outputs": [],
   "source": [
    "activation_all = tf.keras.layers.concatenate([activation_sub_layer, user_behaviors_emb_layer,\n",
    "                                              repeated_candidate_emb_layer, activation_product_layer], axis=-1)"
   ]
  },
  {
   "cell_type": "code",
   "execution_count": 20,
   "metadata": {},
   "outputs": [],
   "source": [
    "activation_unit = tf.keras.layers.Dense(32)(activation_all)\n",
    "activation_unit = tf.keras.layers.PReLU()(activation_unit)\n",
    "activation_unit = tf.keras.layers.Dense(1, activation='sigmoid')(activation_unit)\n",
    "activation_unit = tf.keras.layers.Flatten()(activation_unit)\n",
    "activation_unit = tf.keras.layers.RepeatVector(EMBEDDING_SIZE)(activation_unit)\n",
    "activation_unit = tf.keras.layers.Permute((2, 1))(activation_unit)\n",
    "activation_unit = tf.keras.layers.Multiply()([user_behaviors_emb_layer, activation_unit])"
   ]
  },
  {
   "cell_type": "code",
   "execution_count": 22,
   "metadata": {},
   "outputs": [],
   "source": [
    "# sum pooling\n",
    "user_behaviors_pooled_layers = tf.keras.layers.Lambda(lambda x: tf.keras.backend.sum(x, axis=1))(activation_unit)\n",
    "\n",
    "# fc layer\n",
    "concat_layer = tf.keras.layers.concatenate([user_profile_layer, user_behaviors_pooled_layers,\n",
    "                                            candidate_emb_layer, context_features_layer])\n",
    "output_layer = tf.keras.layers.Dense(128)(concat_layer)\n",
    "output_layer = tf.keras.layers.PReLU()(output_layer)\n",
    "output_layer = tf.keras.layers.Dense(64)(output_layer)\n",
    "output_layer = tf.keras.layers.PReLU()(output_layer)\n",
    "output_layer = tf.keras.layers.Dense(1, activation='sigmoid')(output_layer)\n",
    "\n",
    "model = tf.keras.Model(inputs, output_layer)"
   ]
  },
  {
   "cell_type": "markdown",
   "metadata": {},
   "source": [
    "# Train the model"
   ]
  },
  {
   "cell_type": "code",
   "execution_count": 23,
   "metadata": {},
   "outputs": [],
   "source": [
    "# compile the model, set loss function, optimizer and evaluation metrics\n",
    "model.compile(\n",
    "    loss='binary_crossentropy',\n",
    "    optimizer='adam',\n",
    "    metrics=['accuracy', tf.keras.metrics.AUC(curve='ROC'), tf.keras.metrics.AUC(curve='PR')])"
   ]
  },
  {
   "cell_type": "code",
   "execution_count": 24,
   "metadata": {},
   "outputs": [
    {
     "name": "stdout",
     "output_type": "stream",
     "text": [
      "Epoch 1/5\n"
     ]
    },
    {
     "name": "stderr",
     "output_type": "stream",
     "text": [
      "c:\\users\\xmk23\\appdata\\local\\continuum\\anaconda3\\envs\\tf2\\lib\\site-packages\\tensorflow\\python\\keras\\engine\\functional.py:595: UserWarning: Input dict contained keys ['rating', 'timestamp', 'userAvgReleaseYear', 'userReleaseYearStddev'] which did not match any model input. They will be ignored by the model.\n",
      "  [n for n in tensors.keys() if n not in ref_input_names])\n"
     ]
    },
    {
     "name": "stdout",
     "output_type": "stream",
     "text": [
      "7403/7403 [==============================] - 81s 10ms/step - loss: 7.6831 - accuracy: 0.5641 - auc: 0.5698 - auc_1: 0.6136887 - accuracy: 0.5630 - auc:\n",
      "Epoch 2/5\n",
      "7403/7403 [==============================] - 73s 10ms/step - loss: 1.2894 - accuracy: 0.6219 - auc: 0.6486 - auc_1: 0.6856\n",
      "Epoch 3/5\n",
      "7403/7403 [==============================] - 67s 9ms/step - loss: 0.6268 - accuracy: 0.6905 - auc: 0.7400 - auc_1: 0.7632\n",
      "Epoch 4/5\n",
      "7403/7403 [==============================] - 67s 9ms/step - loss: 0.5292 - accuracy: 0.7389 - auc: 0.8070 - auc_1: 0.8273\n",
      "Epoch 5/5\n",
      "7403/7403 [==============================] - 65s 9ms/step - loss: 0.4996 - accuracy: 0.7574 - auc: 0.8317 - auc_1: 0.8535\n"
     ]
    },
    {
     "data": {
      "text/plain": [
       "<tensorflow.python.keras.callbacks.History at 0x1d630e31668>"
      ]
     },
     "execution_count": 24,
     "metadata": {},
     "output_type": "execute_result"
    }
   ],
   "source": [
    "# train the model\n",
    "model.fit(train_dataset, epochs=5)"
   ]
  },
  {
   "cell_type": "code",
   "execution_count": 25,
   "metadata": {},
   "outputs": [
    {
     "name": "stdout",
     "output_type": "stream",
     "text": [
      "1870/1870 [==============================] - 12s 4ms/step - loss: 0.6092 - accuracy: 0.6907 - auc: 0.7453 - auc_1: 0.7683\n",
      "\n",
      "\n",
      "Test Loss 0.6091870665550232, Test Accuracy 0.6906862854957581, Test ROC AUC 0.745329737663269, Test PR AUC 0.7682846784591675\n"
     ]
    }
   ],
   "source": [
    "# evaluate the model\n",
    "test_loss, test_accuracy, test_roc_auc, test_pr_auc = model.evaluate(test_dataset)\n",
    "print('\\n\\nTest Loss {}, Test Accuracy {}, Test ROC AUC {}, Test PR AUC {}'.format(test_loss, test_accuracy,\n",
    "                                                                                   test_roc_auc, test_pr_auc))\n"
   ]
  },
  {
   "cell_type": "code",
   "execution_count": 26,
   "metadata": {},
   "outputs": [
    {
     "name": "stdout",
     "output_type": "stream",
     "text": [
      "Predicted good rating: 61.91%  | Actual rating label:  Good Rating\n",
      "Predicted good rating: 43.49%  | Actual rating label:  Bad Rating\n",
      "Predicted good rating: 71.38%  | Actual rating label:  Good Rating\n",
      "Predicted good rating: 19.54%  | Actual rating label:  Bad Rating\n",
      "Predicted good rating: 55.49%  | Actual rating label:  Good Rating\n",
      "Predicted good rating: 51.82%  | Actual rating label:  Good Rating\n",
      "Predicted good rating: 52.17%  | Actual rating label:  Good Rating\n",
      "Predicted good rating: 76.92%  | Actual rating label:  Good Rating\n",
      "Predicted good rating: 23.35%  | Actual rating label:  Bad Rating\n",
      "Predicted good rating: 64.95%  | Actual rating label:  Good Rating\n",
      "Predicted good rating: 0.97%  | Actual rating label:  Bad Rating\n",
      "Predicted good rating: 55.35%  | Actual rating label:  Good Rating\n"
     ]
    }
   ],
   "source": [
    "# print some predict results\n",
    "predictions = model.predict(test_dataset)\n",
    "for prediction, goodRating in zip(predictions[:12], list(test_dataset)[0][1][:12]):\n",
    "    print(\"Predicted good rating: {:.2%}\".format(prediction[0]),\n",
    "          \" | Actual rating label: \",\n",
    "          (\"Good Rating\" if bool(goodRating) else \"Bad Rating\"))"
   ]
  },
  {
   "cell_type": "code",
   "execution_count": null,
   "metadata": {},
   "outputs": [],
   "source": []
  }
 ],
 "metadata": {
  "kernelspec": {
   "display_name": "Python 3",
   "language": "python",
   "name": "python3"
  },
  "language_info": {
   "codemirror_mode": {
    "name": "ipython",
    "version": 3
   },
   "file_extension": ".py",
   "mimetype": "text/x-python",
   "name": "python",
   "nbconvert_exporter": "python",
   "pygments_lexer": "ipython3",
   "version": "3.6.8"
  }
 },
 "nbformat": 4,
 "nbformat_minor": 4
}
