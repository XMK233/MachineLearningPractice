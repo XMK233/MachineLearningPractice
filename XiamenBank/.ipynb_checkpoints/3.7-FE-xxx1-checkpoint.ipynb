{
 "cells": [
  {
   "cell_type": "markdown",
   "metadata": {
    "id": "1VTGKBzAtohn"
   },
   "source": [
    "# Release Notes\n",
    "\n",
    "上一个版本：3.0-FE-Original, 3.6-xxx\n",
    "\n",
    "两个季度的合并起来训练。没见的效果有更好。\n",
    "\n"
   ]
  },
  {
   "cell_type": "markdown",
   "metadata": {
    "heading_collapsed": true,
    "id": "_SRLl5araf_d"
   },
   "source": [
    "# Setting working directory"
   ]
  },
  {
   "cell_type": "code",
   "execution_count": 1,
   "metadata": {
    "colab": {
     "base_uri": "https://localhost:8080/"
    },
    "executionInfo": {
     "elapsed": 15114,
     "status": "ok",
     "timestamp": 1607146985845,
     "user": {
      "displayName": "Minke Xiu",
      "photoUrl": "https://lh3.googleusercontent.com/a-/AOh14GiKrlSLM7H0tbRpIYdHPAKnVjaQdF6dZZWD9Jdd=s64",
      "userId": "01913327350585558279"
     },
     "user_tz": 300
    },
    "hidden": true,
    "id": "uYrTyv-UafC6",
    "outputId": "5a9c7d95-98dd-462f-97aa-e6325ab49f7c"
   },
   "outputs": [
    {
     "name": "stdout",
     "output_type": "stream",
     "text": [
      "Mounted at /content/drive\n"
     ]
    }
   ],
   "source": [
    "from google.colab import drive\n",
    "drive.mount('/content/drive')"
   ]
  },
  {
   "cell_type": "code",
   "execution_count": 2,
   "metadata": {
    "executionInfo": {
     "elapsed": 346,
     "status": "ok",
     "timestamp": 1607146987282,
     "user": {
      "displayName": "Minke Xiu",
      "photoUrl": "https://lh3.googleusercontent.com/a-/AOh14GiKrlSLM7H0tbRpIYdHPAKnVjaQdF6dZZWD9Jdd=s64",
      "userId": "01913327350585558279"
     },
     "user_tz": 300
    },
    "hidden": true,
    "id": "ZyoMIfsAbiNI"
   },
   "outputs": [],
   "source": [
    "import os\n",
    "os.chdir('/content/drive/My Drive/Colab Notebooks/MachineLearningPractice/XiamenIntlBank')"
   ]
  },
  {
   "cell_type": "markdown",
   "metadata": {
    "hidden": true,
    "id": "XBqtONK5azWB"
   },
   "source": [
    "Go to this place for original dataset: \n",
    "\n",
    "`'/content/drive/My Drive/Colab Notebooks/MachineLearningPractice/FinanceRiskControl/originalDataset'`"
   ]
  },
  {
   "cell_type": "code",
   "execution_count": null,
   "metadata": {
    "hidden": true,
    "id": "0B7KKhqBIlS9"
   },
   "outputs": [],
   "source": [
    "## 安装catboost和lightgbm。\n",
    "## catboost耗费显存极大，但是飞快；lightgbm好像不是那么的方便，gpu使用不起来。\n",
    "!pip install catboost\n",
    "# !pip uninstall lightgbm\n",
    "# !pip install lightgbm --install-option=--gpu --install-option=\"--opencl-include-dir=/usr/local/cuda/include/\" --install-option=\"--opencl-library=/usr/local/cuda/lib64/libOpenCL.so\""
   ]
  },
  {
   "cell_type": "markdown",
   "metadata": {
    "id": "drotXWXNMFL-"
   },
   "source": [
    "# Importing libraries and load datasets"
   ]
  },
  {
   "cell_type": "code",
   "execution_count": 1,
   "metadata": {
    "colab": {
     "base_uri": "https://localhost:8080/"
    },
    "executionInfo": {
     "elapsed": 11437,
     "status": "ok",
     "timestamp": 1607147017175,
     "user": {
      "displayName": "Minke Xiu",
      "photoUrl": "https://lh3.googleusercontent.com/a-/AOh14GiKrlSLM7H0tbRpIYdHPAKnVjaQdF6dZZWD9Jdd=s64",
      "userId": "01913327350585558279"
     },
     "user_tz": 300
    },
    "id": "4in9DfMTbPnR",
    "outputId": "690b91eb-352e-470f-f43d-fea934ced2c3"
   },
   "outputs": [],
   "source": [
    "# !pip install catboost"
   ]
  },
  {
   "cell_type": "code",
   "execution_count": 1,
   "metadata": {
    "executionInfo": {
     "elapsed": 351,
     "status": "ok",
     "timestamp": 1607151175126,
     "user": {
      "displayName": "Minke Xiu",
      "photoUrl": "https://lh3.googleusercontent.com/a-/AOh14GiKrlSLM7H0tbRpIYdHPAKnVjaQdF6dZZWD9Jdd=s64",
      "userId": "01913327350585558279"
     },
     "user_tz": 300
    },
    "id": "NY-oAIAAIggg"
   },
   "outputs": [],
   "source": [
    "import pandas as pd\n",
    "import numpy as np\n",
    "import matplotlib.pyplot as plt\n",
    "import seaborn as sns\n",
    "import datetime\n",
    "import tqdm\n",
    "from sklearn.preprocessing import LabelEncoder\n",
    "from sklearn.feature_selection import SelectKBest\n",
    "from sklearn.feature_selection import chi2\n",
    "from sklearn.preprocessing import MinMaxScaler\n",
    "import xgboost as xgb\n",
    "import lightgbm as lgb\n",
    "from catboost import CatBoostRegressor, CatBoostClassifier\n",
    "import warnings\n",
    "from sklearn.model_selection import StratifiedKFold, KFold\n",
    "from sklearn.metrics import accuracy_score, f1_score, roc_auc_score, log_loss, cohen_kappa_score\n",
    "# import tqdm\n",
    "from collections import Counter, defaultdict\n",
    "import tensorflow as tf\n",
    "import random\n",
    "warnings.filterwarnings('ignore')"
   ]
  },
  {
   "cell_type": "markdown",
   "metadata": {
    "id": "wABHFDoycf1A"
   },
   "source": [
    "# Starting feature engineering"
   ]
  },
  {
   "cell_type": "markdown",
   "metadata": {
    "id": "s5ypM1_uBK2O"
   },
   "source": [
    "## Load dataset"
   ]
  },
  {
   "cell_type": "code",
   "execution_count": 2,
   "metadata": {
    "executionInfo": {
     "elapsed": 2375,
     "status": "ok",
     "timestamp": 1607147025822,
     "user": {
      "displayName": "Minke Xiu",
      "photoUrl": "https://lh3.googleusercontent.com/a-/AOh14GiKrlSLM7H0tbRpIYdHPAKnVjaQdF6dZZWD9Jdd=s64",
      "userId": "01913327350585558279"
     },
     "user_tz": 300
    },
    "id": "Msb6jagB6IWh"
   },
   "outputs": [],
   "source": [
    "data_train_3 = pd.read_csv('preprocessedData/quarter3_merged-validLabels.csv')\n",
    "data_train_4 = pd.read_csv('preprocessedData/quarter4_merged-validLabels.csv')\n",
    "\n",
    "data_test_a = pd.read_csv('preprocessedData/quarter1_merged-validUsers.csv')"
   ]
  },
  {
   "cell_type": "code",
   "execution_count": 3,
   "metadata": {},
   "outputs": [],
   "source": [
    "data_train = pd.concat([data_train_3, data_train_4])"
   ]
  },
  {
   "cell_type": "code",
   "execution_count": 4,
   "metadata": {},
   "outputs": [
    {
     "data": {
      "text/plain": [
       "(145296, 87)"
      ]
     },
     "execution_count": 4,
     "metadata": {},
     "output_type": "execute_result"
    }
   ],
   "source": [
    "data_train.shape"
   ]
  },
  {
   "cell_type": "markdown",
   "metadata": {
    "id": "ECJ8Nv3Ya7cl"
   },
   "source": [
    "## Delete the cols that have too many null"
   ]
  },
  {
   "cell_type": "code",
   "execution_count": 5,
   "metadata": {
    "colab": {
     "base_uri": "https://localhost:8080/",
     "height": 338
    },
    "executionInfo": {
     "elapsed": 1481,
     "status": "ok",
     "timestamp": 1607147032171,
     "user": {
      "displayName": "Minke Xiu",
      "photoUrl": "https://lh3.googleusercontent.com/a-/AOh14GiKrlSLM7H0tbRpIYdHPAKnVjaQdF6dZZWD9Jdd=s64",
      "userId": "01913327350585558279"
     },
     "user_tz": 300
    },
    "id": "-Zz8L28xa7cl",
    "outputId": "4283a7c6-7659-437f-cd34-d93080da55d5"
   },
   "outputs": [
    {
     "data": {
      "image/png": "[encoded data removed]",
      "text/plain": [
       "<Figure size 432x288 with 1 Axes>"
      ]
     },
     "metadata": {},
     "output_type": "display_data"
    }
   ],
   "source": [
    "# nan可视化\n",
    "def seeWhichColumnsHaveMissingValues(data_train): \n",
    "    missing = data_train.isnull().sum()/len(data_train)\n",
    "    missing = missing[missing > 0]\n",
    "    missing.sort_values(inplace=True)\n",
    "#     print((missing))\n",
    "    missing.plot.bar()\n",
    "seeWhichColumnsHaveMissingValues(data_train)"
   ]
  },
  {
   "cell_type": "code",
   "execution_count": 6,
   "metadata": {
    "colab": {
     "base_uri": "https://localhost:8080/"
    },
    "executionInfo": {
     "elapsed": 276,
     "status": "ok",
     "timestamp": 1607147035433,
     "user": {
      "displayName": "Minke Xiu",
      "photoUrl": "https://lh3.googleusercontent.com/a-/AOh14GiKrlSLM7H0tbRpIYdHPAKnVjaQdF6dZZWD9Jdd=s64",
      "userId": "01913327350585558279"
     },
     "user_tz": 300
    },
    "id": "8VhX_Z3Qa7cl",
    "outputId": "af8dae3d-aac3-4c58-c779-b98f450c3ae8"
   },
   "outputs": [
    {
     "name": "stdout",
     "output_type": "stream",
     "text": [
      "['big_event_E5', 'big_event_E18', 'big_event_E16', 'big_event_E4', 'big_event_E14', 'big_event_E12', 'big_event_E8', 'big_event_E13', 'cust_info_I10', 'cust_info_I14', 'big_event_E7', 'cust_info_I13', 'big_event_E9', 'big_event_E11', 'cust_info_I9']\n"
     ]
    }
   ],
   "source": [
    "def seeWhichColumnsHaveMissingValuesMoreThanAThreshold(data_train, threshold): \n",
    "    missing = data_train.isnull().sum()/len(data_train)\n",
    "    missing = missing[missing > threshold]\n",
    "    missing.sort_values(inplace=True)\n",
    "    return list(missing.index)\n",
    "colsThatHaveTooManyNull = seeWhichColumnsHaveMissingValuesMoreThanAThreshold(data_train, 0.15)\n",
    "print(colsThatHaveTooManyNull)"
   ]
  },
  {
   "cell_type": "markdown",
   "metadata": {
    "id": "hjzseA7qa7cm"
   },
   "source": [
    "上述的列，空值太多(多于15%)，有可能会影响结果，故先放弃。\n",
    "\n",
    "注意，如果你训练集这样搞了，那么你测试集就得删掉一样的列，不论测试集相应的列有多少空值。"
   ]
  },
  {
   "cell_type": "code",
   "execution_count": 7,
   "metadata": {
    "colab": {
     "base_uri": "https://localhost:8080/"
    },
    "executionInfo": {
     "elapsed": 330,
     "status": "ok",
     "timestamp": 1607147036275,
     "user": {
      "displayName": "Minke Xiu",
      "photoUrl": "https://lh3.googleusercontent.com/a-/AOh14GiKrlSLM7H0tbRpIYdHPAKnVjaQdF6dZZWD9Jdd=s64",
      "userId": "01913327350585558279"
     },
     "user_tz": 300
    },
    "id": "mdqkqn_La7cm",
    "outputId": "a61fceca-74fb-45ba-abd5-e6bd594e9c94"
   },
   "outputs": [
    {
     "data": {
      "text/plain": [
       "87"
      ]
     },
     "execution_count": 7,
     "metadata": {},
     "output_type": "execute_result"
    }
   ],
   "source": [
    "len(data_train.columns)"
   ]
  },
  {
   "cell_type": "code",
   "execution_count": 8,
   "metadata": {
    "colab": {
     "base_uri": "https://localhost:8080/"
    },
    "executionInfo": {
     "elapsed": 266,
     "status": "ok",
     "timestamp": 1607147036599,
     "user": {
      "displayName": "Minke Xiu",
      "photoUrl": "https://lh3.googleusercontent.com/a-/AOh14GiKrlSLM7H0tbRpIYdHPAKnVjaQdF6dZZWD9Jdd=s64",
      "userId": "01913327350585558279"
     },
     "user_tz": 300
    },
    "id": "lwOLCOT4a7cm",
    "outputId": "73792810-a720-4c07-c256-511a58f34067"
   },
   "outputs": [
    {
     "data": {
      "text/plain": [
       "86"
      ]
     },
     "execution_count": 8,
     "metadata": {},
     "output_type": "execute_result"
    }
   ],
   "source": [
    "len(data_test_a.columns)"
   ]
  },
  {
   "cell_type": "code",
   "execution_count": 9,
   "metadata": {
    "executionInfo": {
     "elapsed": 297,
     "status": "ok",
     "timestamp": 1607147037413,
     "user": {
      "displayName": "Minke Xiu",
      "photoUrl": "https://lh3.googleusercontent.com/a-/AOh14GiKrlSLM7H0tbRpIYdHPAKnVjaQdF6dZZWD9Jdd=s64",
      "userId": "01913327350585558279"
     },
     "user_tz": 300
    },
    "id": "6MtdaJRla7cm"
   },
   "outputs": [],
   "source": [
    "data_train = data_train.drop(colsThatHaveTooManyNull, axis=1)\n",
    "data_test_a = data_test_a.drop(colsThatHaveTooManyNull, axis=1)"
   ]
  },
  {
   "cell_type": "markdown",
   "metadata": {
    "id": "xhXbv16eCFHv"
   },
   "source": [
    "## Classify the features into multiple groups"
   ]
  },
  {
   "cell_type": "code",
   "execution_count": 10,
   "metadata": {
    "executionInfo": {
     "elapsed": 379,
     "status": "ok",
     "timestamp": 1607147038416,
     "user": {
      "displayName": "Minke Xiu",
      "photoUrl": "https://lh3.googleusercontent.com/a-/AOh14GiKrlSLM7H0tbRpIYdHPAKnVjaQdF6dZZWD9Jdd=s64",
      "userId": "01913327350585558279"
     },
     "user_tz": 300
    },
    "id": "zA9BsyNKa7cm"
   },
   "outputs": [],
   "source": [
    "id_col = [\"cust_no\"]"
   ]
  },
  {
   "cell_type": "code",
   "execution_count": 11,
   "metadata": {
    "executionInfo": {
     "elapsed": 333,
     "status": "ok",
     "timestamp": 1607147038741,
     "user": {
      "displayName": "Minke Xiu",
      "photoUrl": "https://lh3.googleusercontent.com/a-/AOh14GiKrlSLM7H0tbRpIYdHPAKnVjaQdF6dZZWD9Jdd=s64",
      "userId": "01913327350585558279"
     },
     "user_tz": 300
    },
    "id": "QvUtj12XEuHp"
   },
   "outputs": [],
   "source": [
    "numerical_fea = list(data_train.select_dtypes(exclude=['object']).columns)\n",
    "object_fea = list(filter(lambda x: x not in numerical_fea,list(data_train.columns)))\n",
    "label = 'label'\n",
    "numerical_fea.remove(label)"
   ]
  },
  {
   "cell_type": "code",
   "execution_count": 12,
   "metadata": {
    "colab": {
     "base_uri": "https://localhost:8080/"
    },
    "executionInfo": {
     "elapsed": 325,
     "status": "ok",
     "timestamp": 1607147039473,
     "user": {
      "displayName": "Minke Xiu",
      "photoUrl": "https://lh3.googleusercontent.com/a-/AOh14GiKrlSLM7H0tbRpIYdHPAKnVjaQdF6dZZWD9Jdd=s64",
      "userId": "01913327350585558279"
     },
     "user_tz": 300
    },
    "id": "VH6YmDxdF_pI",
    "outputId": "6e098188-3452-48af-863b-19f63b9788b9"
   },
   "outputs": [
    {
     "name": "stdout",
     "output_type": "stream",
     "text": [
      "['aum_m1_X1', 'aum_m1_X2', 'aum_m1_X3', 'aum_m1_X4', 'aum_m1_X5', 'aum_m1_X6', 'aum_m1_X7', 'aum_m1_X8', 'aum_m2_X1', 'aum_m2_X2', 'aum_m2_X3', 'aum_m2_X4', 'aum_m2_X5', 'aum_m2_X6', 'aum_m2_X7', 'aum_m2_X8', 'aum_m3_X1', 'aum_m3_X2', 'aum_m3_X3', 'aum_m3_X4', 'aum_m3_X5', 'aum_m3_X6', 'aum_m3_X7', 'aum_m3_X8', 'behavior_m1_B1', 'behavior_m1_B2', 'behavior_m1_B3', 'behavior_m1_B4', 'behavior_m1_B5', 'behavior_m2_B1', 'behavior_m2_B2', 'behavior_m2_B3', 'behavior_m2_B4', 'behavior_m2_B5', 'behavior_m3_B1', 'behavior_m3_B2', 'behavior_m3_B3', 'behavior_m3_B4', 'behavior_m3_B5', 'behavior_m3_B7', 'big_event_E15', 'big_event_E17', 'cunkuan_m1_C1', 'cunkuan_m1_C2', 'cunkuan_m2_C1', 'cunkuan_m2_C2', 'cunkuan_m3_C1', 'cunkuan_m3_C2', 'cust_info_I2', 'cust_info_I11']\n",
      "['cust_info_I4', 'cust_info_I6', 'cust_info_I7', 'cust_info_I15', 'cust_info_I16', 'cust_info_I17', 'cust_info_I18', 'cust_info_I19', 'cust_info_I20']\n"
     ]
    }
   ],
   "source": [
    "## 过滤类别较少的和较多的列\n",
    "def get_numerical_serial_fea(data,feas):\n",
    "    numerical_serial_fea = []\n",
    "    numerical_noserial_fea = []\n",
    "    for fea in feas:\n",
    "        temp = data[fea].nunique()\n",
    "        if temp <= 10:\n",
    "            numerical_noserial_fea.append(fea)\n",
    "            continue\n",
    "        numerical_serial_fea.append(fea)\n",
    "    return numerical_serial_fea,numerical_noserial_fea\n",
    "    \n",
    "numerical_serial_fea,numerical_categorical_fea = get_numerical_serial_fea(data_train,numerical_fea)\n",
    "print(numerical_serial_fea)\n",
    "print(numerical_categorical_fea)"
   ]
  },
  {
   "cell_type": "markdown",
   "metadata": {
    "id": "nawA3zUra7cm"
   },
   "source": [
    "`big_event_E11, cust_info_I7, cust_info_I9` from numerical_categorical_fea, 类别太少，没有意义。"
   ]
  },
  {
   "cell_type": "code",
   "execution_count": 13,
   "metadata": {
    "executionInfo": {
     "elapsed": 312,
     "status": "ok",
     "timestamp": 1607147042177,
     "user": {
      "displayName": "Minke Xiu",
      "photoUrl": "https://lh3.googleusercontent.com/a-/AOh14GiKrlSLM7H0tbRpIYdHPAKnVjaQdF6dZZWD9Jdd=s64",
      "userId": "01913327350585558279"
     },
     "user_tz": 300
    },
    "id": "Or7Y6Ntya7cm"
   },
   "outputs": [],
   "source": [
    "# numerical_categorical_fea.remove(\"big_event_E11\")\n",
    "numerical_categorical_fea.remove(\"cust_info_I7\")\n",
    "# numerical_categorical_fea.remove(\"cust_info_I9\")"
   ]
  },
  {
   "cell_type": "code",
   "execution_count": 14,
   "metadata": {
    "executionInfo": {
     "elapsed": 441,
     "status": "ok",
     "timestamp": 1607147042656,
     "user": {
      "displayName": "Minke Xiu",
      "photoUrl": "https://lh3.googleusercontent.com/a-/AOh14GiKrlSLM7H0tbRpIYdHPAKnVjaQdF6dZZWD9Jdd=s64",
      "userId": "01913327350585558279"
     },
     "user_tz": 300
    },
    "id": "-YkLtZeZa7cm"
   },
   "outputs": [],
   "source": [
    "data_train.drop([\"cust_info_I7\"], axis = 1, inplace=True)\n",
    "data_test_a.drop([\"cust_info_I7\"], axis = 1, inplace=True)"
   ]
  },
  {
   "cell_type": "markdown",
   "metadata": {
    "id": "CFaueF-Ba7cm"
   },
   "source": [
    "找日期：所有在`object_fea`里面的`big_event_xx`和`behavior_m3_B6` 是时间类型的。"
   ]
  },
  {
   "cell_type": "code",
   "execution_count": 15,
   "metadata": {
    "colab": {
     "base_uri": "https://localhost:8080/"
    },
    "executionInfo": {
     "elapsed": 296,
     "status": "ok",
     "timestamp": 1607147043273,
     "user": {
      "displayName": "Minke Xiu",
      "photoUrl": "https://lh3.googleusercontent.com/a-/AOh14GiKrlSLM7H0tbRpIYdHPAKnVjaQdF6dZZWD9Jdd=s64",
      "userId": "01913327350585558279"
     },
     "user_tz": 300
    },
    "id": "NWyeNyhZa7cm",
    "outputId": "aa9cb069-3f2c-472d-f29c-4d985a604c07",
    "scrolled": true
   },
   "outputs": [
    {
     "name": "stdout",
     "output_type": "stream",
     "text": [
      "['behavior_m3_B6', 'big_event_E1', 'big_event_E2', 'big_event_E3', 'big_event_E6', 'big_event_E10']\n"
     ]
    }
   ],
   "source": [
    "date_fea = []\n",
    "for fea in object_fea:\n",
    "    if \"big_event\" in fea or \"behavior\" in fea:\n",
    "        date_fea.append(fea)\n",
    "print(date_fea)"
   ]
  },
  {
   "cell_type": "markdown",
   "metadata": {
    "id": "Na5lB3NAa7cm"
   },
   "source": [
    "找其他类型的列"
   ]
  },
  {
   "cell_type": "code",
   "execution_count": 16,
   "metadata": {
    "colab": {
     "base_uri": "https://localhost:8080/"
    },
    "executionInfo": {
     "elapsed": 276,
     "status": "ok",
     "timestamp": 1607147043943,
     "user": {
      "displayName": "Minke Xiu",
      "photoUrl": "https://lh3.googleusercontent.com/a-/AOh14GiKrlSLM7H0tbRpIYdHPAKnVjaQdF6dZZWD9Jdd=s64",
      "userId": "01913327350585558279"
     },
     "user_tz": 300
    },
    "id": "u36NxvVSa7cm",
    "outputId": "bad49d47-b77a-494b-f528-e8ca940ec238"
   },
   "outputs": [
    {
     "name": "stdout",
     "output_type": "stream",
     "text": [
      "['cust_info_I1', 'cust_info_I3', 'cust_info_I5', 'cust_info_I8', 'cust_info_I12']\n"
     ]
    }
   ],
   "source": [
    "object_categorical_fea = []\n",
    "for fea in object_fea:\n",
    "    if fea not in date_fea and fea not in id_col:\n",
    "        object_categorical_fea.append(fea)\n",
    "print(object_categorical_fea)"
   ]
  },
  {
   "cell_type": "code",
   "execution_count": 17,
   "metadata": {
    "executionInfo": {
     "elapsed": 340,
     "status": "ok",
     "timestamp": 1607147045620,
     "user": {
      "displayName": "Minke Xiu",
      "photoUrl": "https://lh3.googleusercontent.com/a-/AOh14GiKrlSLM7H0tbRpIYdHPAKnVjaQdF6dZZWD9Jdd=s64",
      "userId": "01913327350585558279"
     },
     "user_tz": 300
    },
    "id": "zi2xeIifC820"
   },
   "outputs": [],
   "source": [
    "total_list = sorted(list(data_train.columns))"
   ]
  },
  {
   "cell_type": "code",
   "execution_count": 18,
   "metadata": {
    "colab": {
     "base_uri": "https://localhost:8080/"
    },
    "executionInfo": {
     "elapsed": 193,
     "status": "ok",
     "timestamp": 1607147045770,
     "user": {
      "displayName": "Minke Xiu",
      "photoUrl": "https://lh3.googleusercontent.com/a-/AOh14GiKrlSLM7H0tbRpIYdHPAKnVjaQdF6dZZWD9Jdd=s64",
      "userId": "01913327350585558279"
     },
     "user_tz": 300
    },
    "id": "5enpq5neCJpQ",
    "outputId": "fee4085f-80a4-43d8-a044-75394fc9cedf"
   },
   "outputs": [
    {
     "data": {
      "text/plain": [
       "['cust_no']"
      ]
     },
     "execution_count": 18,
     "metadata": {},
     "output_type": "execute_result"
    }
   ],
   "source": [
    "id_col"
   ]
  },
  {
   "cell_type": "code",
   "execution_count": 19,
   "metadata": {
    "colab": {
     "base_uri": "https://localhost:8080/"
    },
    "executionInfo": {
     "elapsed": 199,
     "status": "ok",
     "timestamp": 1607147046095,
     "user": {
      "displayName": "Minke Xiu",
      "photoUrl": "https://lh3.googleusercontent.com/a-/AOh14GiKrlSLM7H0tbRpIYdHPAKnVjaQdF6dZZWD9Jdd=s64",
      "userId": "01913327350585558279"
     },
     "user_tz": 300
    },
    "id": "pf_9yAUia7cm",
    "outputId": "f80222df-5b1a-4768-b6b8-881752cb540c"
   },
   "outputs": [
    {
     "name": "stdout",
     "output_type": "stream",
     "text": [
      "['aum_m1_X1', 'aum_m1_X2', 'aum_m1_X3', 'aum_m1_X4', 'aum_m1_X5', 'aum_m1_X6', 'aum_m1_X7', 'aum_m1_X8', 'aum_m2_X1', 'aum_m2_X2', 'aum_m2_X3', 'aum_m2_X4', 'aum_m2_X5', 'aum_m2_X6', 'aum_m2_X7', 'aum_m2_X8', 'aum_m3_X1', 'aum_m3_X2', 'aum_m3_X3', 'aum_m3_X4', 'aum_m3_X5', 'aum_m3_X6', 'aum_m3_X7', 'aum_m3_X8', 'behavior_m1_B1', 'behavior_m1_B2', 'behavior_m1_B3', 'behavior_m1_B4', 'behavior_m1_B5', 'behavior_m2_B1', 'behavior_m2_B2', 'behavior_m2_B3', 'behavior_m2_B4', 'behavior_m2_B5', 'behavior_m3_B1', 'behavior_m3_B2', 'behavior_m3_B3', 'behavior_m3_B4', 'behavior_m3_B5', 'behavior_m3_B7', 'big_event_E15', 'big_event_E17', 'cunkuan_m1_C1', 'cunkuan_m1_C2', 'cunkuan_m2_C1', 'cunkuan_m2_C2', 'cunkuan_m3_C1', 'cunkuan_m3_C2', 'cust_info_I2', 'cust_info_I11']\n"
     ]
    }
   ],
   "source": [
    "print(numerical_serial_fea)"
   ]
  },
  {
   "cell_type": "code",
   "execution_count": 20,
   "metadata": {
    "colab": {
     "base_uri": "https://localhost:8080/"
    },
    "executionInfo": {
     "elapsed": 315,
     "status": "ok",
     "timestamp": 1607147046552,
     "user": {
      "displayName": "Minke Xiu",
      "photoUrl": "https://lh3.googleusercontent.com/a-/AOh14GiKrlSLM7H0tbRpIYdHPAKnVjaQdF6dZZWD9Jdd=s64",
      "userId": "01913327350585558279"
     },
     "user_tz": 300
    },
    "id": "-UuHCU1ya7cm",
    "outputId": "4b625ac5-ca10-4d3c-fb34-25e59fa9a516"
   },
   "outputs": [
    {
     "name": "stdout",
     "output_type": "stream",
     "text": [
      "['cust_info_I4', 'cust_info_I6', 'cust_info_I15', 'cust_info_I16', 'cust_info_I17', 'cust_info_I18', 'cust_info_I19', 'cust_info_I20']\n"
     ]
    }
   ],
   "source": [
    "print(numerical_categorical_fea)"
   ]
  },
  {
   "cell_type": "code",
   "execution_count": 21,
   "metadata": {
    "colab": {
     "base_uri": "https://localhost:8080/"
    },
    "executionInfo": {
     "elapsed": 352,
     "status": "ok",
     "timestamp": 1607147048327,
     "user": {
      "displayName": "Minke Xiu",
      "photoUrl": "https://lh3.googleusercontent.com/a-/AOh14GiKrlSLM7H0tbRpIYdHPAKnVjaQdF6dZZWD9Jdd=s64",
      "userId": "01913327350585558279"
     },
     "user_tz": 300
    },
    "id": "JDy3s7Ina7cm",
    "outputId": "5af3a8ab-0e15-4cbe-8cff-d78fcf3d9225"
   },
   "outputs": [
    {
     "name": "stdout",
     "output_type": "stream",
     "text": [
      "['behavior_m3_B6', 'big_event_E1', 'big_event_E2', 'big_event_E3', 'big_event_E6', 'big_event_E10']\n"
     ]
    }
   ],
   "source": [
    "print(date_fea)"
   ]
  },
  {
   "cell_type": "code",
   "execution_count": 22,
   "metadata": {
    "colab": {
     "base_uri": "https://localhost:8080/"
    },
    "executionInfo": {
     "elapsed": 180,
     "status": "ok",
     "timestamp": 1607147048461,
     "user": {
      "displayName": "Minke Xiu",
      "photoUrl": "https://lh3.googleusercontent.com/a-/AOh14GiKrlSLM7H0tbRpIYdHPAKnVjaQdF6dZZWD9Jdd=s64",
      "userId": "01913327350585558279"
     },
     "user_tz": 300
    },
    "id": "1Rwkdvpqa7cm",
    "outputId": "b4a3cf97-8dd8-42e3-a978-577caa3c222f",
    "scrolled": true
   },
   "outputs": [
    {
     "name": "stdout",
     "output_type": "stream",
     "text": [
      "['cust_info_I1', 'cust_info_I3', 'cust_info_I5', 'cust_info_I8', 'cust_info_I12']\n"
     ]
    }
   ],
   "source": [
    "print(object_categorical_fea)"
   ]
  },
  {
   "cell_type": "markdown",
   "metadata": {
    "id": "UwWr4ZjDa7cn"
   },
   "source": [
    "`object_categorical_fea` 还能继续分，有的是有等级的，有的没有等级（这些没有等级的，可以考虑进行那个啥，onehot）"
   ]
  },
  {
   "cell_type": "markdown",
   "metadata": {
    "id": "-RhCLznRa7cn"
   },
   "source": [
    "下面的代码用来检查有没有特征被漏掉。"
   ]
  },
  {
   "cell_type": "code",
   "execution_count": 23,
   "metadata": {
    "executionInfo": {
     "elapsed": 308,
     "status": "ok",
     "timestamp": 1607147049685,
     "user": {
      "displayName": "Minke Xiu",
      "photoUrl": "https://lh3.googleusercontent.com/a-/AOh14GiKrlSLM7H0tbRpIYdHPAKnVjaQdF6dZZWD9Jdd=s64",
      "userId": "01913327350585558279"
     },
     "user_tz": 300
    },
    "id": "YrnDkESDa7cn"
   },
   "outputs": [],
   "source": [
    "new_cates = numerical_categorical_fea + numerical_serial_fea + date_fea + object_categorical_fea "
   ]
  },
  {
   "cell_type": "code",
   "execution_count": 24,
   "metadata": {
    "colab": {
     "base_uri": "https://localhost:8080/"
    },
    "executionInfo": {
     "elapsed": 223,
     "status": "ok",
     "timestamp": 1607147049975,
     "user": {
      "displayName": "Minke Xiu",
      "photoUrl": "https://lh3.googleusercontent.com/a-/AOh14GiKrlSLM7H0tbRpIYdHPAKnVjaQdF6dZZWD9Jdd=s64",
      "userId": "01913327350585558279"
     },
     "user_tz": 300
    },
    "id": "oBca0b_yHHLd",
    "outputId": "0047f1dd-4071-4eee-8e4f-fa149ad7fe0a"
   },
   "outputs": [
    {
     "data": {
      "text/plain": [
       "{'cust_no', 'label'}"
      ]
     },
     "execution_count": 24,
     "metadata": {},
     "output_type": "execute_result"
    }
   ],
   "source": [
    "set(total_list) - set(new_cates)"
   ]
  },
  {
   "cell_type": "markdown",
   "metadata": {
    "id": "ebrsHJ6Qa7cn"
   },
   "source": [
    "如果空留label、ID，则无特征被遗漏。"
   ]
  },
  {
   "cell_type": "code",
   "execution_count": 25,
   "metadata": {
    "executionInfo": {
     "elapsed": 303,
     "status": "ok",
     "timestamp": 1607147052265,
     "user": {
      "displayName": "Minke Xiu",
      "photoUrl": "https://lh3.googleusercontent.com/a-/AOh14GiKrlSLM7H0tbRpIYdHPAKnVjaQdF6dZZWD9Jdd=s64",
      "userId": "01913327350585558279"
     },
     "user_tz": 300
    },
    "id": "kBCSWqv0MEFg"
   },
   "outputs": [],
   "source": [
    "# data_train = data_train.head(200)\n",
    "# data_test_a = data_test_a.head(200)"
   ]
  },
  {
   "cell_type": "markdown",
   "metadata": {
    "id": "mO9voAt2Iggz"
   },
   "source": [
    "## Fill the null. \n",
    "\n",
    "**Mind this**: Some other filling schemes can be used. "
   ]
  },
  {
   "cell_type": "code",
   "execution_count": 26,
   "metadata": {
    "id": "EvOutC_iIggu"
   },
   "outputs": [],
   "source": [
    "# data_train.isnull().sum()"
   ]
  },
  {
   "cell_type": "code",
   "execution_count": 27,
   "metadata": {
    "id": "9GIs4Eq1SSba"
   },
   "outputs": [],
   "source": [
    "# data_train[\"n14\"].head()"
   ]
  },
  {
   "cell_type": "code",
   "execution_count": 28,
   "metadata": {
    "id": "CsuIy3wdmzYf"
   },
   "outputs": [],
   "source": [
    "## Change the infinite number into NaN. \n",
    "# data_train.replace([np.inf, -np.inf], np.nan, inplace=True)\n",
    "# data_test_a.replace([np.inf, -np.inf], np.nan, inplace=True)"
   ]
  },
  {
   "cell_type": "markdown",
   "metadata": {
    "id": "_Rx4kv6DPYZ2"
   },
   "source": [
    "Lagrange interpolation"
   ]
  },
  {
   "cell_type": "code",
   "execution_count": 29,
   "metadata": {
    "id": "LwAHEKltOuq0"
   },
   "outputs": [],
   "source": [
    "# 创建函数，做插值，以空值前后5个数据（共10个数据）为例做插值  \n",
    "from scipy.interpolate import lagrange  \n",
    "\n",
    "## https://www.programmersought.com/article/37145216331/\n",
    "def fillNanWithLagr(col,nv=-1,k=3):\n",
    "    # col \"fill column vector\", nv \"empty value, default -1\", k \"Lagrangian interval, default 3\"\n",
    "    # Get the null position\n",
    "    if nv is np.nan:\n",
    "        tar = col[col.isnull()].index.tolist()\n",
    "    else:\n",
    "        tar = col[col==nv].index.tolist()\n",
    "\n",
    "    for idx in tqdm.tqdm(tar, position=0, leave=True):\n",
    "      ## you can also use tqdm.tqdm_notebook(). The graphic info is more beautiful. \n",
    "    # for idx in tqdm.tqdm(tar):\n",
    "                # Get Lagrange interval\n",
    "                # The empty value position is removed here, because the filled empty value cannot be used to calculate other empty values\n",
    "        # print(idx, end=\"\")\n",
    "        rel = col.iloc[\n",
    "            list(\n",
    "                set(list(range(idx-k,idx))+list(range(idx+1,idx+k+1))).difference(set(tar))\n",
    "            )\n",
    "        ]\n",
    "                # Keep a reasonable range\n",
    "        rel = rel[rel>=0][rel<len(col)]\n",
    "                # Fill in Lagrangian mean\n",
    "        # lagrange(arg1,arg2)(arg3)\n",
    "                # arg1 \"Iterable object index\", arg2 \"Iterable object conversion table\", arg3 \"Fill position\"\n",
    "        col.iloc[idx] = lagrange(rel.index,list(rel))(idx)\n",
    "    return col"
   ]
  },
  {
   "cell_type": "code",
   "execution_count": 30,
   "metadata": {
    "id": "weDgNR7tPWEE"
   },
   "outputs": [],
   "source": [
    "# # data_train_cp = data_train.copy()\n",
    "# # data_test_a_cp = data_test_a.copy()\n",
    "\n",
    "# for i, data in enumerate([data_train, data_test_a]):\n",
    "#     print(\"in the {} dataset:\".format(i + 1))\n",
    "#     for fea in numerical_fea:\n",
    "#         if fea == \"id\":\n",
    "#             continue\n",
    "#         print(fea)\n",
    "#         data[fea] = fillNanWithLagr(data[fea], np.nan, 5)"
   ]
  },
  {
   "cell_type": "code",
   "execution_count": 31,
   "metadata": {
    "id": "NqES9O8GgpU0"
   },
   "outputs": [],
   "source": [
    "# data_train.to_csv(\"preprocessedData/lagrangeInterpolated_train.csv\", index=False)\n",
    "# data_test_a.to_csv(\"preprocessedData/lagrangeInterpolated_test.csv\", index=False)"
   ]
  },
  {
   "cell_type": "markdown",
   "metadata": {
    "id": "bnSLGKvwPc4p"
   },
   "source": [
    "Median interpolation"
   ]
  },
  {
   "cell_type": "code",
   "execution_count": 32,
   "metadata": {
    "id": "3blBa4yKIgg0"
   },
   "outputs": [],
   "source": [
    "# #按照平均数填充数值型特征\n",
    "# data_train[numerical_fea] = data_train[numerical_fea].fillna(data_train[numerical_fea].median())\n",
    "# data_test_a[numerical_fea] = data_test_a[numerical_fea].fillna(data_train[numerical_fea].median())\n",
    "# #按照众数填充类别型特征\n",
    "# data_train[category_fea] = data_train[category_fea].fillna(data_train[category_fea].mode())\n",
    "# data_test_a[category_fea] = data_test_a[category_fea].fillna(data_train[category_fea].mode())"
   ]
  },
  {
   "cell_type": "markdown",
   "metadata": {
    "id": "xlIexCxBYMVu"
   },
   "source": [
    "`employmentLength` cannot be filled by `mode()`. I don't know why. "
   ]
  },
  {
   "cell_type": "code",
   "execution_count": 33,
   "metadata": {
    "id": "4jqp71z-YFSH"
   },
   "outputs": [],
   "source": [
    "# data_train.info()"
   ]
  },
  {
   "cell_type": "code",
   "execution_count": 34,
   "metadata": {
    "id": "AiVUxLIvdX7C"
   },
   "outputs": [],
   "source": [
    "# data_train = data_train.fillna(axis = 0, method = \"ffill\")"
   ]
  },
  {
   "cell_type": "markdown",
   "metadata": {
    "id": "uJssSa3cgFhL"
   },
   "source": [
    "No filling"
   ]
  },
  {
   "cell_type": "code",
   "execution_count": 35,
   "metadata": {
    "id": "kC0dLEzDgILa"
   },
   "outputs": [],
   "source": [
    "## No filling of any null value"
   ]
  },
  {
   "cell_type": "markdown",
   "metadata": {
    "id": "RnyS0rikLLN5"
   },
   "source": [
    "## Change `object_categorical_fea` \n",
    "\n",
    "这里面也有一些类是可以进行序列化的，比如`cust_info_I3`用户的等级, `cust_info_I10`学历, `cust_info_I14`官阶，这几个都可以序列化。\n",
    "\n",
    "鉴于这个notebook只做最原生态的处理，所以就将之简单归类了。"
   ]
  },
  {
   "cell_type": "code",
   "execution_count": 36,
   "metadata": {
    "colab": {
     "base_uri": "https://localhost:8080/"
    },
    "executionInfo": {
     "elapsed": 294,
     "status": "ok",
     "timestamp": 1607147057880,
     "user": {
      "displayName": "Minke Xiu",
      "photoUrl": "https://lh3.googleusercontent.com/a-/AOh14GiKrlSLM7H0tbRpIYdHPAKnVjaQdF6dZZWD9Jdd=s64",
      "userId": "01913327350585558279"
     },
     "user_tz": 300
    },
    "id": "TD8EAAp2a7cn",
    "outputId": "6762e44c-10fb-4b27-83d4-9886884f821f"
   },
   "outputs": [
    {
     "data": {
      "text/plain": [
       "['cust_info_I1',\n",
       " 'cust_info_I3',\n",
       " 'cust_info_I5',\n",
       " 'cust_info_I8',\n",
       " 'cust_info_I12']"
      ]
     },
     "execution_count": 36,
     "metadata": {},
     "output_type": "execute_result"
    }
   ],
   "source": [
    "object_categorical_fea"
   ]
  },
  {
   "cell_type": "markdown",
   "metadata": {
    "id": "CnVmsgwThfpD"
   },
   "source": [
    "### Scheme A\n",
    "\n",
    "对他们进行普通分类，最普通的分类，就是将他们编码为数字。不搞dummy操作。"
   ]
  },
  {
   "cell_type": "code",
   "execution_count": 37,
   "metadata": {
    "executionInfo": {
     "elapsed": 351,
     "status": "ok",
     "timestamp": 1607147060799,
     "user": {
      "displayName": "Minke Xiu",
      "photoUrl": "https://lh3.googleusercontent.com/a-/AOh14GiKrlSLM7H0tbRpIYdHPAKnVjaQdF6dZZWD9Jdd=s64",
      "userId": "01913327350585558279"
     },
     "user_tz": 300
    },
    "id": "IjU1Ryfsa7cn"
   },
   "outputs": [],
   "source": [
    "def mapTheValue(data, fea, dic):\n",
    "    \"\"\"\n",
    "    data_train is the dataset. \n",
    "    fea is the target feature. \n",
    "    dic is the mapping dictionary. \n",
    "    \"\"\"\n",
    "    data[fea] = data[fea].apply(lambda x: dic.get(x, -1)) \n",
    "\n",
    "\n",
    "## 这几个特征，是暗含了顺序\n",
    "for dt in [data_train, data_test_a]: \n",
    "    #### \n",
    "    mapTheValue(\n",
    "        dt, \"cust_info_I3\", \n",
    "        {s : i + 1 for i, s in enumerate([\"普通客户\", \"黄金\", '白金', '钻石'])}\n",
    "    )\n",
    "    ####\n",
    "#     qte = {s : i + 1 for i, s in enumerate(['文盲或半文盲', '小学教育', '初级中学教育', '技工学校毕业', '中等职业教育', '普通高级中学教育', \n",
    "#                                           '专科教育', '大学本科', '研究生教育'])}\n",
    "#     qte.update({'未知': np.nan})\n",
    "#     mapTheValue(dt, \"cust_info_I10\", {\n",
    "#         \"普通客户\": 0, \n",
    "#         \"黄金\": 1,\n",
    "#         \"白金\": 2,\n",
    "#         \"钻石\": 3,\n",
    "#     })\n",
    "    #### \n",
    "#     qte = {s : i + 1 for i, s in enumerate(['一般员工', \n",
    "#                                           '中级领导(行政级别局级以下处级以上领导或大公司中级管理人员)', \n",
    "#                                           '初级领导(行政级别处级以下领导或大公司初级管理人员)', \n",
    "#                                           '高级领导(行政级别局级及局级以上领导或大公司高级管理人员)'])}\n",
    "#     qte.update({'其他': np.nan})\n",
    "#     mapTheValue(\n",
    "#         dt, \"cust_info_I14\", ## 职务\n",
    "#         qte,\n",
    "#     )"
   ]
  },
  {
   "cell_type": "code",
   "execution_count": 38,
   "metadata": {
    "executionInfo": {
     "elapsed": 360,
     "status": "ok",
     "timestamp": 1607147061200,
     "user": {
      "displayName": "Minke Xiu",
      "photoUrl": "https://lh3.googleusercontent.com/a-/AOh14GiKrlSLM7H0tbRpIYdHPAKnVjaQdF6dZZWD9Jdd=s64",
      "userId": "01913327350585558279"
     },
     "user_tz": 300
    },
    "id": "lwuXDiYya7cn"
   },
   "outputs": [],
   "source": [
    "# data_test_a[[\"cust_info_I1\", \"cust_info_I3\"]].head()"
   ]
  },
  {
   "cell_type": "code",
   "execution_count": 39,
   "metadata": {
    "colab": {
     "base_uri": "https://localhost:8080/"
    },
    "executionInfo": {
     "elapsed": 645,
     "status": "ok",
     "timestamp": 1607147061838,
     "user": {
      "displayName": "Minke Xiu",
      "photoUrl": "https://lh3.googleusercontent.com/a-/AOh14GiKrlSLM7H0tbRpIYdHPAKnVjaQdF6dZZWD9Jdd=s64",
      "userId": "01913327350585558279"
     },
     "user_tz": 300
    },
    "id": "uIH8cAxJa7cn",
    "outputId": "cfe29fd4-9426-482c-e644-ec62f3b4c5ac"
   },
   "outputs": [
    {
     "name": "stderr",
     "output_type": "stream",
     "text": [
      "100%|████████████████████████████████████████████████████████████████████████████████████| 4/4 [00:03<00:00,  1.08it/s]\n"
     ]
    }
   ],
   "source": [
    "## 要用，就用所有的str来编码。这里算是一个修正吧。\n",
    "cust_info_q3 = pd.read_csv('originalDataset/x_train/cust_info_q3.csv')\n",
    "cust_info_q4 = pd.read_csv('originalDataset/x_train/cust_info_q4.csv')\n",
    "cust_info_q1 = pd.read_csv('originalDataset/x_test/cust_info_q1.csv')\n",
    "\n",
    "for col in tqdm.tqdm(\n",
    "    ## 把尚未编码的cust_info特征进行普通编码\n",
    "    [fea for fea in list(data_train.select_dtypes(['object']).columns) if \"cust_info\" in fea] \n",
    "): \n",
    "    ## 获取最原处的列名，也就是IXX. \n",
    "    originColName = col.split(\"_\")[-1]\n",
    "    le = LabelEncoder()\n",
    "    le.fit(list(cust_info_q3[originColName].astype(str).values) + list(cust_info_q4[originColName].astype(str).values) + list(cust_info_q1[originColName].astype(str).values))\n",
    "    data_train[col] = le.transform(list(data_train[col].astype(str).values))\n",
    "    data_test_a[col] = le.transform(list(data_test_a[col].astype(str).values))"
   ]
  },
  {
   "cell_type": "markdown",
   "metadata": {
    "id": "lSIb3612LKyr"
   },
   "source": [
    "## Change `date_fea` \n"
   ]
  },
  {
   "cell_type": "code",
   "execution_count": 40,
   "metadata": {
    "colab": {
     "base_uri": "https://localhost:8080/"
    },
    "executionInfo": {
     "elapsed": 377,
     "status": "ok",
     "timestamp": 1607147064826,
     "user": {
      "displayName": "Minke Xiu",
      "photoUrl": "https://lh3.googleusercontent.com/a-/AOh14GiKrlSLM7H0tbRpIYdHPAKnVjaQdF6dZZWD9Jdd=s64",
      "userId": "01913327350585558279"
     },
     "user_tz": 300
    },
    "id": "MpDWHm3ma7co",
    "outputId": "df8a2304-348a-4c84-a798-c633cd7ce708",
    "scrolled": true
   },
   "outputs": [
    {
     "data": {
      "text/plain": [
       "['behavior_m3_B6',\n",
       " 'big_event_E1',\n",
       " 'big_event_E2',\n",
       " 'big_event_E3',\n",
       " 'big_event_E6',\n",
       " 'big_event_E10']"
      ]
     },
     "execution_count": 40,
     "metadata": {},
     "output_type": "execute_result"
    }
   ],
   "source": [
    "date_fea"
   ]
  },
  {
   "cell_type": "markdown",
   "metadata": {
    "id": "x9WKNPVNigiL"
   },
   "source": [
    "### Scheme A\n",
    "\n",
    "最普通，直接将日期改为距离最早日期多少天。"
   ]
  },
  {
   "cell_type": "code",
   "execution_count": 41,
   "metadata": {
    "executionInfo": {
     "elapsed": 18733,
     "status": "ok",
     "timestamp": 1607147085036,
     "user": {
      "displayName": "Minke Xiu",
      "photoUrl": "https://lh3.googleusercontent.com/a-/AOh14GiKrlSLM7H0tbRpIYdHPAKnVjaQdF6dZZWD9Jdd=s64",
      "userId": "01913327350585558279"
     },
     "user_tz": 300
    },
    "id": "I6OTxb0ta7co"
   },
   "outputs": [
    {
     "name": "stdout",
     "output_type": "stream",
     "text": [
      "behavior_m3_B6\n",
      "big_event_E1\n",
      "big_event_E2\n",
      "big_event_E3\n",
      "big_event_E6\n",
      "big_event_E10\n"
     ]
    }
   ],
   "source": [
    "startdate = datetime.datetime.strptime(\n",
    "    \"2000-01-01 00:00:00\",\n",
    "    '%Y-%m-%d %H:%M:%S'\n",
    ")\n",
    "for fea in date_fea:   \n",
    "# [ \"behavior_m3_B6\",  \n",
    "# 'big_event_E1',\n",
    "#  'big_event_E2',\n",
    "#  'big_event_E3',\n",
    "#  'big_event_E6',\n",
    "#  'big_event_E10']\n",
    "    print(fea)\n",
    "    \n",
    "    data_train[fea] = data_train[fea].astype(str)\n",
    "    data_test_a[fea] = data_test_a[fea].astype(str)\n",
    "    \n",
    "    ## 这里改为与某一固定日期（千禧年第一天）的距离。否则，不同的表格，这些列所得到的数据的标准不一，这样会出事情的。\n",
    "    if fea in [\"behavior_m3_B6\"]: ## 这个列有时分秒，不只有日期。\n",
    "        for data in [data_train, data_test_a]:\n",
    "            data[fea] = pd.to_datetime(data[fea],format = '%Y-%m-%d %H:%M:%S')\n",
    "            data[fea] = data[fea].apply(lambda x: x-startdate).dt.days ## 这里或许有潜力可挖，比如，换成秒，分钟啊什么的。\n",
    "    else: ## 这些列，只有日期。\n",
    "        for data in [data_train, data_test_a]:\n",
    "            data[fea] = pd.to_datetime(data[fea],format='%Y-%m-%d')\n",
    "            data[fea] = data[fea].apply(lambda x: x-startdate).dt.days"
   ]
  },
  {
   "cell_type": "markdown",
   "metadata": {
    "id": "4gLG8fnXLLG9"
   },
   "source": [
    "## Change `numerical_serial_fea` \n"
   ]
  },
  {
   "cell_type": "markdown",
   "metadata": {
    "id": "YItCzkxOiE0b"
   },
   "source": [
    "### Scheme A\n"
   ]
  },
  {
   "cell_type": "markdown",
   "metadata": {},
   "source": [
    "对于单个月的统计量\n",
    "\n",
    "求平均：某月每一个产品平均存款金额\n",
    "\n",
    "    for i in range(3):\n",
    "        'cunkuan_m{i}_C1', 某月存款产民金额\n",
    "        'cunkuan_m{i}_C2', 某月存款产品个数\n",
    "    \n",
    "求平均：某月，每一次平均转入多少金额\n",
    "    \n",
    "    for i in range(3):\n",
    "        behavior_m{i}_B2 转账转入次数\n",
    "        behavior_m{i}_B3 转账转入金额\n",
    "    \n",
    "求平均：某月，每一次平均转出多少金额\n",
    "\n",
    "    for i in range(3):\n",
    "        'behavior_m{i}_B4', 转账转出次数\n",
    "        'behavior_m{i}_B5', 转账转出金额"
   ]
  },
  {
   "cell_type": "code",
   "execution_count": 42,
   "metadata": {},
   "outputs": [],
   "source": [
    "def calculateAvgWithinMonth_cunkuan_c12(data_train):\n",
    "#     f'cunkuan_m{i}_C1'#, 某月存款产品金额\n",
    "#     f'cunkuan_m{i}_C2'#, 某月存款产品个数\n",
    "    newCols = []\n",
    "    for i in range(1, 3+1):\n",
    "        data_train[f\"cunkuan_m{i}_C1-C2\"] = data_train[f'cunkuan_m{i}_C1'] / data_train[f'cunkuan_m{i}_C2']\n",
    "        newCols.append(f\"cunkuan_m{i}_C1-C2\")\n",
    "    return newCols\n",
    "\n",
    "newCols_data_train = calculateAvgWithinMonth_cunkuan_c12(data_train)\n",
    "newCols_data_test_a = calculateAvgWithinMonth_cunkuan_c12(data_test_a)"
   ]
  },
  {
   "cell_type": "code",
   "execution_count": 43,
   "metadata": {},
   "outputs": [],
   "source": [
    "def calculateAvgWithinMonth_behavior_b32(data_train):\n",
    "#     behavior_m{i}_B2 # 转账转入次数\n",
    "#     behavior_m{i}_B3 # 转账转入金额\n",
    "    newCols = []\n",
    "    for i in range(1, 3+1):\n",
    "        data_train[f\"behavior_m{i}_B3-B2\"] = data_train[f'behavior_m{i}_B3'] / data_train[f'behavior_m{i}_B2']\n",
    "        newCols.append(f\"behavior_m{i}_B3-B2\")\n",
    "    return newCols\n",
    "\n",
    "newCols_data_train = calculateAvgWithinMonth_behavior_b32(data_train)\n",
    "newCols_data_test_a = calculateAvgWithinMonth_behavior_b32(data_test_a)"
   ]
  },
  {
   "cell_type": "code",
   "execution_count": 44,
   "metadata": {},
   "outputs": [],
   "source": [
    "def calculateAvgWithinMonth_behavior_b54(data_train):\n",
    "#     behavior_m{i}_B2 # 转账转入次数\n",
    "#     behavior_m{i}_B3 # 转账转入金额\n",
    "    newCols = []\n",
    "    for i in range(1, 3+1):\n",
    "        data_train[f\"behavior_m{i}_B5-B4\"] = data_train[f'behavior_m{i}_B5'] / data_train[f'behavior_m{i}_B4']\n",
    "        newCols.append(f\"behavior_m{i}_B5-B4\")\n",
    "    return newCols\n",
    "\n",
    "newCols_data_train = calculateAvgWithinMonth_behavior_b54(data_train)\n",
    "newCols_data_test_a = calculateAvgWithinMonth_behavior_b54(data_test_a)"
   ]
  },
  {
   "cell_type": "markdown",
   "metadata": {},
   "source": [
    "对于单个的统计量，我们可以计算每一个月的增长率\n",
    "    \n",
    "    for i in range(1, 8+1):\n",
    "        aum_m2_X{i} 相对于 aum_m1_X{i} 增长了多少，\n",
    "        aum_m3_X{i} 相对于 aum_m2_X{i} 增长了多少，\n",
    "        aum_m3_X{i} 相对于 aum_m1_X{i} 增长了多少，\n",
    "        \n",
    "    for i in range(1, 5 + 1): \n",
    "        behavior_m2_B{i} 相对于 behavior_m1_B{i} 增长了多少，\n",
    "        behavior_m3_B{i} 相对于 behavior_m2_B{i} 增长了多少，\n",
    "        behavior_m3_B{i} 相对于 behavior_m1_B{i} 增长了多少，\n",
    "        \n",
    "    for i in range(1, 2 + 1):\n",
    "        cunkuan_m2_C{i} 相对于 cunkuan_m1_C{i} 增长了多少，\n",
    "        cunkuan_m3_C{i} 相对于 cunkuan_m2_C{i} 增长了多少，\n",
    "        cunkuan_m3_C{i} 相对于 cunkuan_m1_C{i} 增长了多少，"
   ]
  },
  {
   "cell_type": "code",
   "execution_count": 45,
   "metadata": {},
   "outputs": [],
   "source": [
    "def incrementalRate_aum_m32_m21(data_train):\n",
    "#     aum_m2_X{i} 相对于 aum_m1_X{i} 增长了多少，\n",
    "#     aum_m3_X{i} 相对于 aum_m2_X{i} 增长了多少，\n",
    "    newCols = []\n",
    "    for i in range(1, 8+1):\n",
    "        data_train[f\"aum_m21_X{i}\"] = (data_train[f\"aum_m2_X{i}\"] - data_train[f\"aum_m1_X{i}\"]) / data_train[f\"aum_m1_X{i}\"]\n",
    "        data_train[f\"aum_m32_X{i}\"] = (data_train[f\"aum_m3_X{i}\"] - data_train[f\"aum_m2_X{i}\"]) / data_train[f\"aum_m2_X{i}\"]\n",
    "        newCols.extend([f\"aum_m21_X{i}\", f\"aum_m32_X{i}\"])\n",
    "    return newCols\n",
    "\n",
    "newCols_data_train = incrementalRate_aum_m32_m21(data_train)\n",
    "newCols_data_test_a = incrementalRate_aum_m32_m21(data_test_a)"
   ]
  },
  {
   "cell_type": "code",
   "execution_count": 46,
   "metadata": {},
   "outputs": [],
   "source": [
    "def incrementalRate_behavior_m32_m21(data_train):\n",
    "#     behavior_m2_B{i} 相对于 behavior_m1_B{i} 增长了多少，\n",
    "#     behavior_m3_B{i} 相对于 behavior_m2_B{i} 增长了多少，\n",
    "    newCols = []\n",
    "    for i in range(1, 5 + 1):\n",
    "        data_train[f\"behavior_m21_B{i}\"] = (data_train[f\"behavior_m2_B{i}\"] - data_train[f\"behavior_m1_B{i}\"]) / data_train[f\"behavior_m1_B{i}\"]\n",
    "        data_train[f\"behavior_m32_B{i}\"] = (data_train[f\"behavior_m3_B{i}\"] - data_train[f\"behavior_m2_B{i}\"]) / data_train[f\"behavior_m2_B{i}\"]\n",
    "        newCols.extend([f\"behavior_m21_B{i}\", f\"behavior_m32_B{i}\"])\n",
    "    return newCols\n",
    "\n",
    "newCols_data_train = incrementalRate_behavior_m32_m21(data_train)\n",
    "newCols_data_test_a = incrementalRate_behavior_m32_m21(data_test_a)"
   ]
  },
  {
   "cell_type": "code",
   "execution_count": 47,
   "metadata": {},
   "outputs": [],
   "source": [
    "def incrementalRate_cunkuan_m32_m21(data_train):\n",
    "#     cunkuan_m2_C{i} 相对于 cunkuan_m1_C{i} 增长了多少，\n",
    "#     cunkuan_m3_C{i} 相对于 cunkuan_m2_C{i} 增长了多少，\n",
    "    newCols = []\n",
    "    for i in range(1, 2 + 1):\n",
    "        data_train[f\"cunkuan_m21_C{i}\"] = (data_train[f\"cunkuan_m2_C{i}\"] - data_train[f\"cunkuan_m1_C{i}\"]) / data_train[f\"cunkuan_m1_C{i}\"]\n",
    "        data_train[f\"cunkuan_m32_C{i}\"] = (data_train[f\"cunkuan_m3_C{i}\"] - data_train[f\"cunkuan_m2_C{i}\"]) / data_train[f\"cunkuan_m2_C{i}\"]\n",
    "        newCols.extend([f\"cunkuan_m21_C{i}\", f\"cunkuan_m32_C{i}\"])\n",
    "    return newCols\n",
    "\n",
    "newCols_data_train = incrementalRate_cunkuan_m32_m21(data_train)\n",
    "newCols_data_test_a = incrementalRate_cunkuan_m32_m21(data_test_a)"
   ]
  },
  {
   "cell_type": "code",
   "execution_count": 48,
   "metadata": {},
   "outputs": [
    {
     "data": {
      "image/png": "[encoded data removed]",
      "text/plain": [
       "<Figure size 432x288 with 1 Axes>"
      ]
     },
     "metadata": {},
     "output_type": "display_data"
    }
   ],
   "source": [
    "seeWhichColumnsHaveMissingValues(data_train)"
   ]
  },
  {
   "cell_type": "code",
   "execution_count": 49,
   "metadata": {},
   "outputs": [
    {
     "name": "stdout",
     "output_type": "stream",
     "text": [
      "['aum_m21_X4', 'aum_m32_X5', 'aum_m21_X5', 'aum_m32_X6', 'aum_m21_X6', 'aum_m32_X2', 'aum_m21_X2']\n"
     ]
    }
   ],
   "source": [
    "colsThatHaveTooManyNull = seeWhichColumnsHaveMissingValuesMoreThanAThreshold(data_train, 0.90)\n",
    "print(colsThatHaveTooManyNull)"
   ]
  },
  {
   "cell_type": "code",
   "execution_count": 50,
   "metadata": {},
   "outputs": [],
   "source": [
    "data_train = data_train.drop(colsThatHaveTooManyNull, axis=1)\n",
    "data_test_a = data_test_a.drop(colsThatHaveTooManyNull, axis=1)"
   ]
  },
  {
   "cell_type": "code",
   "execution_count": 51,
   "metadata": {},
   "outputs": [
    {
     "data": {
      "text/plain": [
       "(145296, 103)"
      ]
     },
     "execution_count": 51,
     "metadata": {},
     "output_type": "execute_result"
    }
   ],
   "source": [
    "data_train.shape"
   ]
  },
  {
   "cell_type": "markdown",
   "metadata": {
    "id": "jc7sxLQtK-JT"
   },
   "source": [
    "## Change `numerical_categorical_fea` \n"
   ]
  },
  {
   "cell_type": "markdown",
   "metadata": {
    "id": "UOQlCS3plUVI"
   },
   "source": [
    "### Scheme A"
   ]
  },
  {
   "cell_type": "code",
   "execution_count": 52,
   "metadata": {},
   "outputs": [],
   "source": [
    "numerical_serial = [col for col in data_train.columns if col not in [\"cust_no\", \"label\", \"cust_info_I1\", \"cust_info_I5\", \"cust_info_I8\", \"cust_info_I12\"] + numerical_categorical_fea]"
   ]
  },
  {
   "cell_type": "code",
   "execution_count": 53,
   "metadata": {},
   "outputs": [
    {
     "data": {
      "text/plain": [
       "['behavior_m1_B1', 'behavior_m3_B1', 'cunkuan_m21_C2', 'cunkuan_m32_C2']"
      ]
     },
     "execution_count": 53,
     "metadata": {},
     "output_type": "execute_result"
    },
    {
     "data": {
      "image/png": "[encoded data removed]",
      "text/plain": [
       "<Figure size 432x288 with 1 Axes>"
      ]
     },
     "metadata": {},
     "output_type": "display_data"
    }
   ],
   "source": [
    "def find_outliers_by_3segama(data,fea):\n",
    "    data_std = np.std(data[fea])\n",
    "    data_mean = np.mean(data[fea])\n",
    "    outliers_cut_off = data_std * 3\n",
    "    lower_rule = data_mean - outliers_cut_off\n",
    "    upper_rule = data_mean + outliers_cut_off\n",
    "    data[fea+'_outliers'] = data[fea].apply(lambda x:str('异常值') if x > upper_rule or x < lower_rule else '正常值')\n",
    "    return data\n",
    "\n",
    "data_train_cp = data_train.copy()\n",
    "feaList = []\n",
    "numList = []\n",
    "for fea in numerical_serial:\n",
    "    # if fea in ['homeOwnership', 'verificationStatus', \"applicationType\", \"initialListStatus\", \"policyCode\"]:\n",
    "    #     continue\n",
    "    data_train_cp = find_outliers_by_3segama(data_train_cp,fea)\n",
    "    valCount = data_train_cp[fea+'_outliers'].value_counts()\n",
    "    abnormalRate = 1-valCount[\"正常值\"] / len(data_train_cp)\n",
    "    if abnormalRate > 0.02:\n",
    "        feaList.append(fea)\n",
    "        numList.append(abnormalRate)\n",
    "        # print(valCount, \"\\n\") ## 获得正常值和异常值的数量\n",
    "        # print(1-valCount[\"正常值\"] / len(data_train_cp), \"\\n\") ## 获得正常值和异常值的数量\n",
    "        # print(data_train_cp.groupby(fea+'_outliers')['isDefault'].sum(), \"\\n\") ## 获得异常值和正常值里面有多少个正例\n",
    "        # print('*'*100)\n",
    "        \n",
    "tmpPd = pd.DataFrame({\n",
    "    \"column\": feaList, \n",
    "    \"abnormalRate\": numList,\n",
    "})\n",
    "tmpPd.set_index([\"column\"], inplace=True)\n",
    "tmpPd.plot(kind='bar')\n",
    "feaList"
   ]
  },
  {
   "cell_type": "code",
   "execution_count": 54,
   "metadata": {},
   "outputs": [],
   "source": [
    "def chi3(arr):\n",
    "    '''\n",
    "    计算卡方值\n",
    "    arr:频数统计表,二维numpy数组。\n",
    "    '''\n",
    "    assert(arr.ndim==2)\n",
    "    #计算每行总频数\n",
    "    R_N = arr.sum(axis=1)\n",
    "    #每列总频数\n",
    "    C_N = arr.sum(axis=0)\n",
    "    #总频数\n",
    "    N = arr.sum()\n",
    "    # 计算期望频数 C_i * R_j / N。\n",
    "    E = np.ones(arr.shape)* C_N / N\n",
    "    E = (E.T * R_N).T\n",
    "    square = (arr-E)**2 / E\n",
    "    #期望频数为0时，做除数没有意义，不计入卡方值\n",
    "    square[E==0] = 0\n",
    "    #卡方值\n",
    "    v = square.sum()\n",
    "    return v\n",
    "\n",
    "def chiMerge(df,col,target,max_groups=None,threshold=None):\n",
    "\n",
    "    '''\n",
    "    卡方分箱\n",
    "    df: pandas dataframe数据集\n",
    "    col: 需要分箱的变量名（数值型）\n",
    "    target: 类标签\n",
    "    max_groups: 最大分组数。\n",
    "    threshold: 卡方阈值，如果未指定max_groups，默认使用置信度95%设置threshold。\n",
    "    return: 包括各组的起始值的列表.\n",
    "    '''\n",
    "\n",
    "    freq_tab = pd.crosstab(df[col],df[target])\n",
    "\n",
    "    #转成numpy数组用于计算。\n",
    "    freq = freq_tab.values\n",
    "\n",
    "    #初始分组切分点，每个变量值都是切分点。每组中只包含一个变量值.\n",
    "\n",
    "    #分组区间是左闭右开的，如cutoffs = [1,2,3]，则表示区间 [1,2) , [2,3) ,[3,3+)。\n",
    "    cutoffs = freq_tab.index.values\n",
    "\n",
    "    #如果没有指定最大分组\n",
    "    if max_groups is None:    \n",
    "        #如果没有指定卡方阈值，就以95%的置信度（自由度为类数目-1）设定阈值。\n",
    "        if threshold is None:\n",
    "            #类数目\n",
    "            cls_num = freq.shape[-1]\n",
    "            threshold = chi2.isf(0.05,df= cls_num - 1)\n",
    "\n",
    "    while True:\n",
    "        minvalue = None\n",
    "        minidx = None\n",
    "        #从第1组开始，依次取两组计算卡方值，并判断是否小于当前最小的卡方\n",
    "        for i in range(len(freq) - 1):\n",
    "            v = chi3(freq[i:i+2])\n",
    "            if minvalue is None or (minvalue > v): #小于当前最小卡方，更新最小值\n",
    "                minvalue = v\n",
    "                minidx = i\n",
    "\n",
    "        #如果最小卡方值小于阈值，则合并最小卡方值的相邻两组，并继续循环\n",
    "        if  (max_groups is not None and  max_groups< len(freq) ) or (threshold is not None and minvalue < threshold):\n",
    "            #minidx后一行合并到minidx\n",
    "            tmp  = freq[minidx] + freq[minidx+1]\n",
    "            freq[minidx] = tmp\n",
    "            #删除minidx后一行\n",
    "            freq = np.delete(freq,minidx+1,0)\n",
    "            #删除对应的切分点\n",
    "            cutoffs = np.delete(cutoffs,minidx+1,0)\n",
    "\n",
    "        else: #最小卡方值不小于阈值，停止合并。\n",
    "            break\n",
    "    return cutoffs\n",
    "\n",
    "def value2group(x,cutoffs):\n",
    "\n",
    "    '''\n",
    "    将变量的值转换成相应的组。\n",
    "    x: 需要转换到分组的值\n",
    "    cutoffs: 各组的起始值。\n",
    "    return: x对应的组，如group1。从group1开始。\n",
    "    '''\n",
    "\n",
    "    #切分点从小到大排序。\n",
    "    cutoffs = sorted(cutoffs)\n",
    "    num_groups = len(cutoffs)\n",
    "\n",
    "    #异常情况：小于第一组的起始值。这里直接放到第一组。\n",
    "    #异常值建议在分组之前先处理妥善。\n",
    "    if x < cutoffs[0]:\n",
    "        return 1 #'group1'\n",
    "\n",
    "    for i in range(1,num_groups):\n",
    "        if cutoffs[i-1] <= x < cutoffs[i]:\n",
    "            return i # 'group{}'.format(i)\n",
    "\n",
    "    #最后一组，也可能会包括一些非常大的异常值。\n",
    "    return num_groups #'group{}'.format(num_groups)\n",
    "\n",
    "def calWOE(df ,var ,target):\n",
    "\n",
    "    '''\n",
    "    计算WOE编码\n",
    "    param df：数据集pandas.dataframe\n",
    "    param var：已分组的列名，无缺失值\n",
    "    param target：响应变量（0,1）\n",
    "    return：编码字典\n",
    "    '''\n",
    "    eps = 0.000001  #避免除以0\n",
    "    gbi = pd.crosstab(df[var],df[target]) + eps\n",
    "    gb = df[target].value_counts() + eps\n",
    "    gbri = gbi/gb\n",
    "    gbri['woe'] = np.log(gbri[1]/gbri[0])\n",
    "    return gbri['woe'].to_dict()\n",
    "\n",
    "def calIV(df,var,target):\n",
    "\n",
    "    '''\n",
    "    计算IV值\n",
    "    param df：数据集pandas.dataframe\n",
    "    param var：已分组的列名，无缺失值\n",
    "    param target：响应变量（0,1）\n",
    "    return：IV值\n",
    "    '''\n",
    "    eps = 0.000001  #避免除以0\n",
    "    gbi = pd.crosstab(df[var],df[target]) + eps\n",
    "    gb = df[target].value_counts() + eps\n",
    "    gbri = gbi/gb\n",
    "    gbri['woe'] = np.log(gbri[1]/gbri[0])\n",
    "    gbri['iv'] = (gbri[1] - gbri[0])*gbri['woe']\n",
    "    return gbri['iv'].sum()"
   ]
  },
  {
   "cell_type": "code",
   "execution_count": 55,
   "metadata": {},
   "outputs": [
    {
     "name": "stderr",
     "output_type": "stream",
     "text": [
      "100%|████████████████████████████████████████████████████████████████████████████████████| 4/4 [00:06<00:00,  1.74s/it]\n"
     ]
    }
   ],
   "source": [
    "for fea in tqdm.tqdm(feaList): ## [\"n0\", \"n6\", \"delinquency_2years\"]\n",
    "    try:\n",
    "        cutoffs = chiMerge(data_train, fea, 'label', max_groups=10)\n",
    "        data_train[fea] = data_train[fea].apply(value2group,args=(cutoffs,))\n",
    "        data_test_a[fea] = data_test_a[fea].apply(value2group,args=(cutoffs,))\n",
    "#         print(f\"{fea} is successful.\".format(fea))\n",
    "    except:\n",
    "        print(f\"{fea} is failed.\")"
   ]
  },
  {
   "cell_type": "code",
   "execution_count": 56,
   "metadata": {},
   "outputs": [
    {
     "data": {
      "text/plain": [
       "(145296, 103)"
      ]
     },
     "execution_count": 56,
     "metadata": {},
     "output_type": "execute_result"
    }
   ],
   "source": [
    "data_train.shape"
   ]
  },
  {
   "cell_type": "code",
   "execution_count": 57,
   "metadata": {
    "executionInfo": {
     "elapsed": 11602,
     "status": "ok",
     "timestamp": 1607147085041,
     "user": {
      "displayName": "Minke Xiu",
      "photoUrl": "https://lh3.googleusercontent.com/a-/AOh14GiKrlSLM7H0tbRpIYdHPAKnVjaQdF6dZZWD9Jdd=s64",
      "userId": "01913327350585558279"
     },
     "user_tz": 300
    },
    "id": "mFhuSEel_GjL"
   },
   "outputs": [],
   "source": [
    "while True:\n",
    "#     seeWhichColumnsHaveMissingValues(data_train)\n",
    "    colsThatHaveTooManyNull = seeWhichColumnsHaveMissingValuesMoreThanAThreshold(data_train, 0.90)\n",
    "    if len(colsThatHaveTooManyNull):\n",
    "        print(colsThatHaveTooManyNull)\n",
    "        data_train = data_train.drop(colsThatHaveTooManyNull, axis=1)\n",
    "        data_test_a = data_test_a.drop(colsThatHaveTooManyNull, axis=1)\n",
    "    else:\n",
    "        break"
   ]
  },
  {
   "cell_type": "markdown",
   "metadata": {
    "id": "f0yALhIla_ym"
   },
   "source": [
    "## Feature Generation\n",
    "\n",
    "利用 https://zhuanlan.zhihu.com/p/26444240 介绍的方法开展特征合成：\n",
    "\n",
    "```\n",
    "median(N1)_by(C1)  \\\\ 中位数\n",
    "mean(N1)_by(C1)  \\\\ 算术平均数\n",
    "mode(N1)_by(C1)  \\\\ 众数\n",
    "min(N1)_by(C1)  \\\\ 最小值\n",
    "max(N1)_by(C1)  \\\\ 最大值\n",
    "std(N1)_by(C1)  \\\\ 标准差\n",
    "var(N1)_by(C1)  \\\\ 方差\n",
    "freq(C2)_by(C1)  \\\\ 频数\n",
    "\n",
    "freq(C1) \\\\这个不需要groupby也有意义\n",
    "```\n",
    "\n",
    "上述只是一种思路。"
   ]
  },
  {
   "cell_type": "code",
   "execution_count": 115,
   "metadata": {
    "id": "Ah5J0w-12BaF"
   },
   "outputs": [],
   "source": [
    "# data_train.to_csv(\"preprocessedData/data_train-1129-a_a_a_b_b_a_x_x.csv\", index=False)\n",
    "# data_test_a.to_csv(\"preprocessedData/data_test_a-1129-a_a_a_b_b_a_x_x.csv\", index=False)"
   ]
  },
  {
   "cell_type": "code",
   "execution_count": 116,
   "metadata": {
    "id": "OwVpGhO32BaF"
   },
   "outputs": [],
   "source": [
    "# data_train = pd.read_csv(\"preprocessedData/data_train-1129-a_a_a_b_b_a_x_x.csv\")\n",
    "# data_test_a = pd.read_csv(\"preprocessedData/data_test_a-1129-a_a_a_b_b_a_x_x.csv\")"
   ]
  },
  {
   "cell_type": "code",
   "execution_count": 117,
   "metadata": {
    "id": "V_tlOvOdOKSo"
   },
   "outputs": [],
   "source": [
    "# ####\n",
    "# ## 这个适用于A-F。\n",
    "# ##\n",
    "# ####\n",
    "\n",
    "# from sklearn.feature_selection import SelectKBest\n",
    "# from scipy.stats import pearsonr\n",
    "# #选择K个最好的特征，返回选择特征后的数据\n",
    "# #第一个参数为计算评估特征是否好的函数，该函数输入特征矩阵和目标向量，\n",
    "# #输出二元组（评分，P值）的数组，数组第i项为第i个特征的评分和P值。在此定义为计算相关系数\n",
    "# #参数k为选择的特征个数\n",
    "\n",
    "# def selectNFeatures(numSelectedFeatures, data_train, y_train, fillMethod = \"ffill\"):\n",
    "#     ## 到时候，就指着返回下面两个表了\n",
    "#     selectedFeatures = []\n",
    "#     deletedFeatures = []\n",
    "\n",
    "#     ## 无脑处理：将所有的正负无穷都处理掉。\n",
    "#     data_train = data_train.replace([np.inf, -np.inf], np.nan)\n",
    "#     ## 填充方法\n",
    "#     if fillMethod in [\"ffill\", \"bfill\"]:\n",
    "#         data_train = data_train.fillna(axis = 1, method = fillMethod) # \"ffill\"\n",
    "#     else: \n",
    "#         data_train = data_train.fillna(data_train.median())  \n",
    "\n",
    "#     ## columnsThatHaveNullVal 这些列，终究是有空值的，那就放弃他们吧。\n",
    "#     tmpList = data_train.isnull().sum().to_frame('nulls')\n",
    "#     columnsThatHaveNullVal = list(tmpList[tmpList[\"nulls\"] > 0].index)\n",
    "#     deletedFeatures.extend(columnsThatHaveNullVal)\n",
    "#     data_train.drop(columnsThatHaveNullVal, axis = 1, inplace=True)\n",
    "\n",
    "#     # print(data_train.isnull().sum())\n",
    "#     # print()\n",
    "#     # print(y_train.isnull().sum())\n",
    "#     # print(data_train.head(20))\n",
    "#     # print(np.any(np.isnan(data_train)))\n",
    "\n",
    "#     selector = SelectKBest(k=numSelectedFeatures)\n",
    "#     selector.fit(data_train, y_train)\n",
    "#     colNums = selector.get_support(True)\n",
    "#     # print(colNums)\n",
    "#     for i, col in enumerate(list(data_train.columns)):\n",
    "#         if i in colNums:\n",
    "#             selectedFeatures.append(col)\n",
    "#         # else: \n",
    "#         #     deletedFeatures.append(col)\n",
    "#     # print(selectedFeatures, deletedFeatures)\n",
    "            \n",
    "#     return selectedFeatures , deletedFeatures\n",
    "\n",
    "# def combinationOfFeatures(category, serial, method, method_name, data_train, data_test_a, n):\n",
    "#     '''\n",
    "#     combine and generate some new features. \n",
    "\n",
    "#     category: list of the categorical column names\n",
    "#     serial: list of the serial column names\n",
    "#     method: [\"mean\"], [\"max\"], [\"min\"], pd.Series.model, etc..\n",
    "#     method_name: the name of the method. Must be strings. \n",
    "#     n: newly generated features, select n from them. if n == -1, then select all of the newly generated features. \n",
    "#     '''\n",
    "#     # ori_cols_train = list(data_train.columns)\n",
    "#     # ori_cols_test = list(data_test_a.columns)\n",
    "\n",
    "#     new_cols = []\n",
    "    \n",
    "#     for col in category: \n",
    "#         for numFea in serial: #half_serials + [\"isDefault\"]: # for numFea in [\"isDefault\"]: \n",
    "#             # print(\"categorical: {}, serial: {}\".format(col, numFea))\n",
    "#             temp_dict = data_train.groupby([col])[numFea].agg(method).reset_index().rename(columns={method_name: col + '_{}_{}'.format(numFea, method_name)})\n",
    "#             temp_dict.index = temp_dict[col].values\n",
    "#             temp_dict = temp_dict[col + '_{}_{}'.format(numFea, method_name)].to_dict()\n",
    "            \n",
    "#             data_train[col + '_{}_{}'.format(numFea, method_name)] = data_train[col].map(temp_dict)\n",
    "#             data_test_a[col + '_{}_{}'.format(numFea, method_name)] = data_test_a[col].map(temp_dict)\n",
    "            \n",
    "#             new_cols.append(col + '_{}_{}'.format(numFea, method_name))\n",
    "    \n",
    "#     if n >= 0: \n",
    "#         tmp_train = data_train[new_cols].copy()\n",
    "\n",
    "#         selectedFeatures, deletedFeatures = selectNFeatures(n, tmp_train, data_train[[\"isDefault\"]]) #\n",
    "\n",
    "#         data_train.drop(deletedFeatures, axis = 1, inplace=True)\n",
    "#         data_test_a.drop(deletedFeatures, axis = 1, inplace=True)\n",
    "#         # data_train = data_train[ori_cols_train + selectedFeatures]\n",
    "#         # data_test_a = data_test_a[ori_cols_test + selectedFeatures]\n",
    "\n",
    "#     elif n < 0:\n",
    "#         pass\n",
    "\n",
    "#     return data_train, data_test_a\n",
    "\n",
    "# def combinationOfFeatures_divide(feaGroup1, feaGroup2, method, df, df_test, n):\n",
    "#     ori_cols_train = list(df.columns)\n",
    "#     ori_cols_test = list(df_test.columns)\n",
    "\n",
    "#     new_cols = []\n",
    "\n",
    "#     for fea1 in feaGroup1: ## grade\n",
    "#         for fea2 in feaGroup2: ## nXX\n",
    "            \n",
    "#             df['{}_to_{}_'.format(fea1, method) + fea2] = df[fea1] / df.groupby([fea2])[fea1].transform(method)\n",
    "#             df_test['{}_to_{}_'.format(fea1, method) + fea2] = df_test[fea1] / df_test.groupby([fea2])[fea1].transform(method)\n",
    "            \n",
    "#             new_cols.append('{}_to_{}_'.format(fea1, method) + fea2)\n",
    "#     # print(new_cols)\n",
    "    \n",
    "#     if n >= 0:\n",
    "#         tmp_train = df[new_cols].copy()\n",
    "        \n",
    "#         selectedFeatures , deletedFeatures = selectNFeatures(n, tmp_train, df[[\"isDefault\"]], \"median\") # \n",
    "#         # print(data_train.columns)\n",
    "#         # print(data_train.)\n",
    "#         # print(selectedFeatures)\n",
    "        \n",
    "#         df.drop(deletedFeatures, axis = 1, inplace=True)\n",
    "#         df_test.drop(deletedFeatures, axis = 1, inplace=True)\n",
    "#         # df = df[ori_cols_train + selectedFeatures]\n",
    "#         # df_test = df_test[ori_cols_test + selectedFeatures]\n",
    "    \n",
    "#     elif n < 0:\n",
    "#         pass\n",
    "\n",
    "#     return df, df_test"
   ]
  },
  {
   "cell_type": "code",
   "execution_count": 118,
   "metadata": {
    "id": "eJl1k0dEuxyk"
   },
   "outputs": [],
   "source": [
    "####\n",
    "## 这个适用于F2及以后。\n",
    "##\n",
    "####\n",
    "from sklearn.feature_selection import SelectKBest\n",
    "from scipy.stats import pearsonr\n",
    "#选择K个最好的特征，返回选择特征后的数据\n",
    "#第一个参数为计算评估特征是否好的函数，该函数输入特征矩阵和目标向量，\n",
    "#输出二元组（评分，P值）的数组，数组第i项为第i个特征的评分和P值。在此定义为计算相关系数\n",
    "#参数k为选择的特征个数\n",
    "\n",
    "def selectNFeatures(numSelectedFeatures, data_train, y_train, fillMethod = \"ffill\"):\n",
    "    ## 到时候，就指着返回下面两个表了\n",
    "    selectedFeatures = []\n",
    "    # deletedFeatures = []\n",
    "\n",
    "    ## 无脑处理：将所有的正负无穷都处理掉。\n",
    "    data_train = data_train.replace([np.inf, -np.inf], np.nan)\n",
    "    ## 填充方法\n",
    "    if fillMethod in [\"ffill\", \"bfill\"]:\n",
    "        data_train = data_train.fillna(axis = 1, method = fillMethod) # \"ffill\"\n",
    "    else: \n",
    "        data_train = data_train.fillna(data_train.median())  \n",
    "\n",
    "    ## columnsThatHaveNullVal 这些列，终究是有空值的，那就放弃他们吧。\n",
    "    tmpList = data_train.isnull().sum().to_frame('nulls')\n",
    "    columnsThatHaveNullVal = list(tmpList[tmpList[\"nulls\"] > 0].index)\n",
    "    # deletedFeatures.extend(columnsThatHaveNullVal)\n",
    "    data_train.drop(columnsThatHaveNullVal, axis = 1, inplace=True)\n",
    "\n",
    "    # print(data_train.isnull().sum())\n",
    "    # print()\n",
    "    # print(y_train.isnull().sum())\n",
    "    # print(data_train.head(20))\n",
    "    # print(np.any(np.isnan(data_train)))\n",
    "\n",
    "    selector = SelectKBest(k=numSelectedFeatures)\n",
    "    selector.fit(data_train, y_train)\n",
    "    colNums = selector.get_support(True)\n",
    "    # print(colNums)\n",
    "    for i, col in enumerate(list(data_train.columns)):\n",
    "        if i in colNums:\n",
    "            selectedFeatures.append(col)\n",
    "        # else: \n",
    "        #     deletedFeatures.append(col)\n",
    "    # print(selectedFeatures, deletedFeatures)\n",
    "            \n",
    "    return selectedFeatures #, deletedFeatures\n",
    "\n",
    "def combinationOfFeatures(category, serial, method, method_name, data_train, data_test_a, n):\n",
    "    '''\n",
    "    combine and generate some new features. \n",
    "\n",
    "    category: list of the categorical column names\n",
    "    serial: list of the serial column names\n",
    "    method: [\"mean\"], [\"max\"], [\"min\"], pd.Series.model, etc..\n",
    "    method_name: the name of the method. Must be strings. \n",
    "    n: newly generated features, select n from them. if n == -1, then select all of the newly generated features. \n",
    "    '''\n",
    "    ori_cols_train = list(data_train.columns)\n",
    "    ori_cols_test = list(data_test_a.columns)\n",
    "\n",
    "    new_cols = []\n",
    "    \n",
    "    for col in category: \n",
    "        for numFea in serial: #half_serials + [\"isDefault\"]: # for numFea in [\"isDefault\"]: \n",
    "            # print(\"categorical: {}, serial: {}\".format(col, numFea))\n",
    "            temp_dict = data_train.groupby([col])[numFea].agg(method).reset_index().rename(columns={method_name: col + '_{}_{}'.format(numFea, method_name)})\n",
    "            temp_dict.index = temp_dict[col].values\n",
    "            temp_dict = temp_dict[col + '_{}_{}'.format(numFea, method_name)].to_dict()\n",
    "            \n",
    "            data_train[col + '_{}_{}'.format(numFea, method_name)] = data_train[col].map(temp_dict)\n",
    "            data_test_a[col + '_{}_{}'.format(numFea, method_name)] = data_test_a[col].map(temp_dict)\n",
    "            \n",
    "            new_cols.append(col + '_{}_{}'.format(numFea, method_name))\n",
    "    \n",
    "    if n >= 0: \n",
    "        tmp_train = data_train[new_cols].copy()\n",
    "\n",
    "        selectedFeatures = selectNFeatures(n, tmp_train, data_train[[\"isDefault\"]]) #, deletedFeatures\n",
    "\n",
    "        # data_train.drop(deletedFeatures, axis = 1, inplace=True)\n",
    "        # data_test_a.drop(deletedFeatures, axis = 1, inplace=True)\n",
    "        data_train = data_train[ori_cols_train + selectedFeatures]\n",
    "        data_test_a = data_test_a[ori_cols_test + selectedFeatures]\n",
    "\n",
    "    elif n < 0:\n",
    "        pass\n",
    "\n",
    "    return data_train, data_test_a\n",
    "\n",
    "def combinationOfFeatures_divide(feaGroup1, feaGroup2, method, df, df_test, n):\n",
    "    ori_cols_train = list(df.columns)\n",
    "    ori_cols_test = list(df_test.columns)\n",
    "\n",
    "    new_cols = []\n",
    "\n",
    "    for fea1 in feaGroup1: ## grade\n",
    "        for fea2 in feaGroup2: ## nXX\n",
    "            \n",
    "            df['{}_to_{}_'.format(fea1, method) + fea2] = df[fea1] / df.groupby([fea2])[fea1].transform(method)\n",
    "            df_test['{}_to_{}_'.format(fea1, method) + fea2] = df_test[fea1] / df_test.groupby([fea2])[fea1].transform(method)\n",
    "            \n",
    "            new_cols.append('{}_to_{}_'.format(fea1, method) + fea2)\n",
    "    # print(new_cols)\n",
    "    \n",
    "    if n >= 0:\n",
    "        tmp_train = df[new_cols].copy()\n",
    "        \n",
    "        selectedFeatures = selectNFeatures(n, tmp_train, df[[\"isDefault\"]], \"median\") # , deletedFeatures\n",
    "        # print(data_train.columns)\n",
    "        # print(data_train.)\n",
    "        # print(selectedFeatures)\n",
    "        \n",
    "        # df.drop(deletedFeatures, axis = 1, inplace=True)\n",
    "        # df_test.drop(deletedFeatures, axis = 1, inplace=True)\n",
    "        df = df[ori_cols_train + selectedFeatures]\n",
    "        df_test = df_test[ori_cols_test + selectedFeatures]\n",
    "    \n",
    "    elif n < 0:\n",
    "        pass\n",
    "\n",
    "    return df, df_test"
   ]
  },
  {
   "cell_type": "markdown",
   "metadata": {
    "id": "d8wxvCVFmZ-_"
   },
   "source": [
    "### Scheme A: \n",
    "\n",
    "Do nothing. "
   ]
  },
  {
   "cell_type": "markdown",
   "metadata": {},
   "source": [
    "# Last data process"
   ]
  },
  {
   "cell_type": "code",
   "execution_count": 60,
   "metadata": {},
   "outputs": [],
   "source": [
    "featuresNeedToBeRegularized = [col for col in data_train.columns if col not in \n",
    "     ### 除了 [\"cust_info_I3\", \"cust_info_I10\", \"cust_info_I14\"] 以外的所有categorical的特征，不要。\n",
    "    [fea for fea in (numerical_categorical_fea + object_categorical_fea) if fea not in [\"cust_info_I3\", \"cust_info_I10\", \"cust_info_I14\"]] \n",
    "    ### id，label，不要。\n",
    "    + [\"cust_no\", \"label\"] \n",
    "    ### 前面分箱后的特征，不要。\n",
    "    + feaList\n",
    "                               \n",
    "]\n",
    "\n",
    "##[col for col in data_train.columns if col not in [\"cust_no\", \"label\", \"cust_info_I1\", \"cust_info_I5\", \"cust_info_I8\", \"cust_info_I12\"] + numerical_categorical_fea]"
   ]
  },
  {
   "cell_type": "code",
   "execution_count": 61,
   "metadata": {},
   "outputs": [],
   "source": [
    "data_train[featuresNeedToBeRegularized] = data_train[featuresNeedToBeRegularized].apply(lambda x: (x - np.min(x)) / (np.max(x) - np.min(x)))\n",
    "data_test_a[featuresNeedToBeRegularized] = data_test_a[featuresNeedToBeRegularized].apply(lambda x: (x - np.min(x)) / (np.max(x) - np.min(x)))"
   ]
  },
  {
   "cell_type": "code",
   "execution_count": 62,
   "metadata": {},
   "outputs": [
    {
     "data": {
      "text/plain": [
       "(145296, 103)"
      ]
     },
     "execution_count": 62,
     "metadata": {},
     "output_type": "execute_result"
    }
   ],
   "source": [
    "data_train.shape"
   ]
  },
  {
   "cell_type": "markdown",
   "metadata": {
    "id": "jbNJUSRy7AJ2"
   },
   "source": [
    "## Delete the features that will not be used to fit the model\n",
    "\n",
    "No `xx_outliers` features, no labels, no original dates. "
   ]
  },
  {
   "cell_type": "code",
   "execution_count": 63,
   "metadata": {
    "colab": {
     "base_uri": "https://localhost:8080/"
    },
    "executionInfo": {
     "elapsed": 2663,
     "status": "ok",
     "timestamp": 1607147085041,
     "user": {
      "displayName": "Minke Xiu",
      "photoUrl": "https://lh3.googleusercontent.com/a-/AOh14GiKrlSLM7H0tbRpIYdHPAKnVjaQdF6dZZWD9Jdd=s64",
      "userId": "01913327350585558279"
     },
     "user_tz": 300
    },
    "id": "B2tFJmQca7co",
    "outputId": "2de1c5cf-01dc-4865-ca5f-e020b00c32da"
   },
   "outputs": [
    {
     "name": "stdout",
     "output_type": "stream",
     "text": [
      "Index(['cust_no', 'aum_m1_X1', 'aum_m1_X2', 'aum_m1_X3', 'aum_m1_X4',\n",
      "       'aum_m1_X5', 'aum_m1_X6', 'aum_m1_X7', 'aum_m1_X8', 'aum_m2_X1',\n",
      "       ...\n",
      "       'behavior_m21_B3', 'behavior_m32_B3', 'behavior_m21_B4',\n",
      "       'behavior_m32_B4', 'behavior_m21_B5', 'behavior_m32_B5',\n",
      "       'cunkuan_m21_C1', 'cunkuan_m32_C1', 'cunkuan_m21_C2', 'cunkuan_m32_C2'],\n",
      "      dtype='object', length=103)\n"
     ]
    }
   ],
   "source": [
    "print(data_train.columns)"
   ]
  },
  {
   "cell_type": "markdown",
   "metadata": {
    "id": "LHCBYBI27Eet"
   },
   "source": [
    "### Scheme A"
   ]
  },
  {
   "cell_type": "code",
   "execution_count": 64,
   "metadata": {
    "executionInfo": {
     "elapsed": 294,
     "status": "ok",
     "timestamp": 1607149119399,
     "user": {
      "displayName": "Minke Xiu",
      "photoUrl": "https://lh3.googleusercontent.com/a-/AOh14GiKrlSLM7H0tbRpIYdHPAKnVjaQdF6dZZWD9Jdd=s64",
      "userId": "01913327350585558279"
     },
     "user_tz": 300
    },
    "id": "ofVFgUvzFqpM"
   },
   "outputs": [],
   "source": [
    "features = [f for f in data_train.columns if f not in [\"cust_no\", \"label\"] and '_outliers' not in f]\n",
    "y_train = data_train['label'].map({-1: 0, 0: 1, 1: 2})\n",
    "x_train = data_train[features]\n",
    "x_test = data_test_a[features]"
   ]
  },
  {
   "cell_type": "code",
   "execution_count": 126,
   "metadata": {
    "executionInfo": {
     "elapsed": 312,
     "status": "ok",
     "timestamp": 1607150349435,
     "user": {
      "displayName": "Minke Xiu",
      "photoUrl": "https://lh3.googleusercontent.com/a-/AOh14GiKrlSLM7H0tbRpIYdHPAKnVjaQdF6dZZWD9Jdd=s64",
      "userId": "01913327350585558279"
     },
     "user_tz": 300
    },
    "id": "ZJ0sGAM8bxWn"
   },
   "outputs": [],
   "source": [
    "# x_train = x_train.head(1000)\n",
    "# x_test = x_test.head(1000)\n",
    "# y_train = y_train.head(1000)"
   ]
  },
  {
   "cell_type": "markdown",
   "metadata": {
    "id": "wdJf-IVJ75y8"
   },
   "source": [
    "# Save preprocessed data if necessary"
   ]
  },
  {
   "cell_type": "code",
   "execution_count": 65,
   "metadata": {
    "executionInfo": {
     "elapsed": 291,
     "status": "ok",
     "timestamp": 1607147089605,
     "user": {
      "displayName": "Minke Xiu",
      "photoUrl": "https://lh3.googleusercontent.com/a-/AOh14GiKrlSLM7H0tbRpIYdHPAKnVjaQdF6dZZWD9Jdd=s64",
      "userId": "01913327350585558279"
     },
     "user_tz": 300
    },
    "id": "Bvn4nd9a0AtJ"
   },
   "outputs": [],
   "source": [
    "x_train.to_csv(\"preprocessedData/x_train-3.7.csv\", index=False)\n",
    "x_test.to_csv(\"preprocessedData/x_test-3.7.csv\", index=False)\n",
    "y_train.to_csv(\"preprocessedData/y_train-3.7.csv\", index=False)"
   ]
  },
  {
   "cell_type": "markdown",
   "metadata": {
    "heading_collapsed": true,
    "id": "MUvmaksc2jSs"
   },
   "source": [
    "# Load preprocessed data if applicable"
   ]
  },
  {
   "cell_type": "code",
   "execution_count": 47,
   "metadata": {
    "executionInfo": {
     "elapsed": 296,
     "status": "ok",
     "timestamp": 1607147090317,
     "user": {
      "displayName": "Minke Xiu",
      "photoUrl": "https://lh3.googleusercontent.com/a-/AOh14GiKrlSLM7H0tbRpIYdHPAKnVjaQdF6dZZWD9Jdd=s64",
      "userId": "01913327350585558279"
     },
     "user_tz": 300
    },
    "hidden": true,
    "id": "cyz1hnkb2gxo"
   },
   "outputs": [],
   "source": [
    "# x_train = pd.read_csv(\"preprocessedData/x_train-1129-A_A_A_B_B_A_F_B.csv\")\n",
    "# x_test = pd.read_csv(\"preprocessedData/x_test-1129-A_A_A_B_B_A_F_B.csv\")\n",
    "# y_train = pd.read_csv(\"preprocessedData/y_train-1129-A_A_A_B_B_A_F_B.csv\")"
   ]
  },
  {
   "cell_type": "markdown",
   "metadata": {
    "heading_collapsed": true,
    "id": "4WQ9gcu09pNN"
   },
   "source": [
    "# Some hands on model training"
   ]
  },
  {
   "cell_type": "markdown",
   "metadata": {
    "hidden": true,
    "id": "-IYkxir4FO9I"
   },
   "source": [
    "### Scheme A\n",
    "\n",
    "普通方案. 单个模型. "
   ]
  },
  {
   "cell_type": "markdown",
   "metadata": {
    "hidden": true,
    "id": "ZHOBTMNsa7co"
   },
   "source": [
    "我们先弄出kappa的计算方式。确定实现正确了，才用到模型训练里面去。"
   ]
  },
  {
   "cell_type": "code",
   "execution_count": 164,
   "metadata": {
    "executionInfo": {
     "elapsed": 541,
     "status": "ok",
     "timestamp": 1607152113735,
     "user": {
      "displayName": "Minke Xiu",
      "photoUrl": "https://lh3.googleusercontent.com/a-/AOh14GiKrlSLM7H0tbRpIYdHPAKnVjaQdF6dZZWD9Jdd=s64",
      "userId": "01913327350585558279"
     },
     "user_tz": 300
    },
    "hidden": true,
    "id": "AOEDXFrx9pNO"
   },
   "outputs": [],
   "source": [
    "def getTheFinalVotingResult(l):\n",
    "    dic = defaultdict(list)\n",
    "    maxNum = -1\n",
    "    for i, j in Counter(l).items():\n",
    "        ## i是l里面的数字，j是i在l出现的次数\n",
    "        maxNum = max(maxNum, j)\n",
    "        ## 根据出现次数，来归类i\n",
    "        dic[j].append(i)\n",
    "    return random.choice(dic[maxNum])\n",
    "def kappa_withSklearn_lgb(y_pred, y):\n",
    "    # print(y_pred.shape)\n",
    "    index_array = np.argmax(np.reshape(y_pred, (-1, 3)), axis=-1)\n",
    "    return \"Kappa~~\", cohen_kappa_score(index_array, y.get_label().astype(int)), True\n",
    "\n",
    "def kappa_withSklearn_xgb(y_pred, y):\n",
    "    index_array = np.argmax(y_pred, axis=-1)\n",
    "    return \"Kappa\", cohen_kappa_score(index_array, y.get_label().astype(int)) * -1\n",
    "\n",
    "def kappaMyImplementation(sample_y, sample_pred): \n",
    "    ## 我自己实现的kappa \n",
    "    ## https://baike.baidu.com/item/kappa%E7%B3%BB%E6%95%B0/9385025\n",
    "    p0 = accuracy_score(sample_y, sample_pred)\n",
    "    y_count = Counter(sample_y)\n",
    "    pred_count = Counter(sample_pred)\n",
    "    n = len(sample_y)\n",
    "    s = 0\n",
    "    for l in [-1, 0, 1]:\n",
    "        ai = y_count.get(l, 0)\n",
    "        bi = pred_count.get(l, 0)\n",
    "        s += ai * bi\n",
    "    pe = s / (n * n)\n",
    "    return \"Kappa\", (p0 - pe) / (1 - pe), True\n",
    "\n",
    "def cv_model(clf, train_x, train_y, test_x, clf_name, folds = 5):\n",
    "    # folds = 5\n",
    "    seed = 2020\n",
    "    kf = KFold(n_splits=folds, shuffle=True, random_state=seed)\n",
    "\n",
    "    train = np.zeros(train_x.shape[0])\n",
    "    test = np.zeros(test_x.shape[0])\n",
    "\n",
    "    cv_scores = []\n",
    "\n",
    "    newStackingTestSet = pd.DataFrame(columns=[\"k{}\".format(i + 1) for i in range(folds)])\n",
    "\n",
    "    for i, (train_index, valid_index) in enumerate(kf.split(train_x, train_y)):\n",
    "        print('************************************ {} ************************************'.format(str(i+1)))\n",
    "        trn_x, trn_y, val_x, val_y = train_x.iloc[train_index], train_y.iloc[train_index], train_x.iloc[valid_index], train_y.iloc[valid_index]\n",
    "\n",
    "        if clf_name == \"lgb\":\n",
    "            train_matrix = clf.Dataset(trn_x, label=trn_y)\n",
    "            valid_matrix = clf.Dataset(val_x, label=val_y)\n",
    "\n",
    "            params = {\n",
    "                'boosting_type': 'gbdt',\n",
    "                'objective': 'multiclass',\n",
    "                'num_class': 3,\n",
    "#                 'metric': 'auc',\n",
    "                'min_child_weight': 5,\n",
    "                'num_leaves': 2 ** 5,\n",
    "                'lambda_l2': 10,\n",
    "                'feature_fraction': 0.8,\n",
    "                'bagging_fraction': 0.8,\n",
    "                'bagging_freq': 4,\n",
    "                'learning_rate': 0.1,\n",
    "                'seed': 2020,\n",
    "                'nthread': 28,\n",
    "                'n_jobs':24,\n",
    "                'silent': True,\n",
    "                'verbose': -1,    \n",
    "#                 'device_type': 'gpu',\n",
    "#                 'max_bin': 63\n",
    "            }\n",
    "\n",
    "            model = clf.train(params, train_matrix, 50000, valid_sets=[train_matrix, valid_matrix], \n",
    "                              verbose_eval=200, early_stopping_rounds=200, \n",
    "                              feval= kappa_withSklearn_lgb,  \n",
    "                             )\n",
    "            val_pred_ = model.predict(val_x, num_iteration=model.best_iteration)\n",
    "            print(val_pred_.shape)\n",
    "            test_pred_ = model.predict(test_x, num_iteration=model.best_iteration)\n",
    "            val_pred = np.argmax(val_pred_, axis=-1)\n",
    "            test_pred = np.argmax(test_pred_, axis=-1)\n",
    "            \n",
    "            # print(list(sorted(zip(features, model.feature_importance(\"gain\")), key=lambda x: x[1], reverse=True))[:20])\n",
    "                \n",
    "        if clf_name == \"xgb\":\n",
    "            train_matrix = clf.DMatrix(trn_x , label=trn_y)\n",
    "            valid_matrix = clf.DMatrix(val_x , label=val_y)\n",
    "            \n",
    "            params = {'booster': 'gbtree',\n",
    "                      'objective': 'multi:softprob',\n",
    "                      \"num_class\": 3, \n",
    "#                       'eval_metric': 'auc',\n",
    "                      'gamma': 1,\n",
    "                      'min_child_weight': 1.5,\n",
    "                      'max_depth': 5,\n",
    "                      'lambda': 10,\n",
    "                      'subsample': 0.7,\n",
    "                      'colsample_bytree': 0.7,\n",
    "                      'colsample_bylevel': 0.7,\n",
    "                      'eta': 0.04, \n",
    "                      'seed': 2020,\n",
    "                      'nthread': 36,\n",
    "                      \"silent\": True,\n",
    "\n",
    "#                       'tree_method': \"gpu_hist\", #  # \n",
    "                      'tree_method': 'exact',\n",
    "                      }\n",
    "            \n",
    "            watchlist = [(train_matrix, 'train'),(valid_matrix, 'eval')]\n",
    "            \n",
    "            model = clf.train(params, train_matrix, num_boost_round=50000, \n",
    "                              evals=watchlist, verbose_eval=200, early_stopping_rounds=200, \n",
    "                             feval = kappa_withSklearn_xgb\n",
    "                             )\n",
    "            # https://stackoverflow.com/questions/55579610/xgboost-attributeerror-dataframe-object-has-no-attribute-feature-names\n",
    "            val_pred_  = model.predict(valid_matrix, ntree_limit=model.best_ntree_limit)\n",
    "            test_pred_ = model.predict(xgb.DMatrix(test_x) , ntree_limit=model.best_ntree_limit)\n",
    "            val_pred = np.argmax(val_pred_, axis=-1)\n",
    "            test_pred = np.argmax(test_pred_, axis=-1)\n",
    "                 \n",
    "        if clf_name == \"cat\":\n",
    "            params = {'learning_rate': 0.05, 'depth': 5, 'l2_leaf_reg': 10, 'bootstrap_type': 'Bernoulli',\n",
    "                      'od_type': 'Iter', 'od_wait': 50, 'random_seed': 11, 'allow_writing_files': False, \n",
    "                      \"eval_metric\": \"Kappa\", \n",
    "#                       \"loss_function\": 'MultiClass', \n",
    "\n",
    "#                       \"task_type\": \"GPU\",\n",
    "                     }\n",
    "            \n",
    "            model = clf(iterations=20000, **params)\n",
    "            model.fit(trn_x, trn_y, eval_set=(val_x, val_y),\n",
    "                      cat_features=[], use_best_model=True, verbose=500)\n",
    "            \n",
    "            val_pred  = model.predict(val_x).ravel()\n",
    "            test_pred = model.predict(test_x).ravel()\n",
    "            \n",
    "        ## 下面这个test，可以考虑像如下这样进行，或者是求平均亦可。\n",
    "        # test += test_pred / kf.n_splits ## Minke's invention, no basis or reference.\n",
    "        # test += test_pred\n",
    "        ##\n",
    "        train[valid_index] = val_pred\n",
    "        cv_scores.append(cohen_kappa_score(val_y, val_pred))\n",
    "        print(sum(cv_scores)/len(cv_scores), cv_scores)\n",
    "\n",
    "        newStackingTestSet[\"k{}\".format(i + 1)] = test_pred\n",
    "\n",
    "    print(\"%s_scotrainre_list:\" % clf_name, cv_scores)\n",
    "    print(\"%s_score_mean:\" % clf_name, np.mean(cv_scores))\n",
    "    print(\"%s_score_std:\" % clf_name, np.std(cv_scores))\n",
    "    print(\"what is kf.n_splits?\", kf.n_splits)\n",
    "\n",
    "    newStackingTestSet[\"voteRst\"] = newStackingTestSet[list(newStackingTestSet.columns)].apply(getTheFinalVotingResult, axis = 1)\n",
    "    # print(newStackingTestSet)\n",
    "    print(cohen_kappa_score(y_train, train))\n",
    "\n",
    "    return train, newStackingTestSet, np.mean(cv_scores) # test / kf.n_splits"
   ]
  },
  {
   "cell_type": "code",
   "execution_count": 165,
   "metadata": {
    "executionInfo": {
     "elapsed": 252,
     "status": "ok",
     "timestamp": 1607152121286,
     "user": {
      "displayName": "Minke Xiu",
      "photoUrl": "https://lh3.googleusercontent.com/a-/AOh14GiKrlSLM7H0tbRpIYdHPAKnVjaQdF6dZZWD9Jdd=s64",
      "userId": "01913327350585558279"
     },
     "user_tz": 300
    },
    "hidden": true,
    "id": "ON43ckVt9pNO"
   },
   "outputs": [],
   "source": [
    "def lgb_model(x_train, y_train, x_test):\n",
    "    lgb_train, lgb_test, lgb_meanPerf = cv_model(lgb, x_train, y_train, x_test, \"lgb\")\n",
    "    return lgb_train, lgb_test, lgb_meanPerf\n",
    "\n",
    "def xgb_model(x_train, y_train, x_test):\n",
    "    xgb_train, xgb_test, xgb_meanPerf = cv_model(xgb, x_train, y_train, x_test, \"xgb\")\n",
    "    return xgb_train, xgb_test, xgb_meanPerf\n",
    "\n",
    "def cat_model(x_train, y_train, x_test):\n",
    "    cat_train, cat_test, cat_meanPerf = cv_model(CatBoostClassifier, x_train, y_train, x_test, \"cat\")\n",
    "    return cat_train, cat_test, cat_meanPerf"
   ]
  },
  {
   "cell_type": "code",
   "execution_count": 166,
   "metadata": {
    "colab": {
     "base_uri": "https://localhost:8080/"
    },
    "executionInfo": {
     "elapsed": 26223,
     "status": "ok",
     "timestamp": 1607152149038,
     "user": {
      "displayName": "Minke Xiu",
      "photoUrl": "https://lh3.googleusercontent.com/a-/AOh14GiKrlSLM7H0tbRpIYdHPAKnVjaQdF6dZZWD9Jdd=s64",
      "userId": "01913327350585558279"
     },
     "user_tz": 300
    },
    "hidden": true,
    "id": "Dyt-HIG2a7co",
    "outputId": "43cf032e-7b18-42a2-ba88-ff1957d48d67"
   },
   "outputs": [
    {
     "name": "stdout",
     "output_type": "stream",
     "text": [
      "************************************ 1 ************************************\n",
      "[02:35:13] WARNING: ../src/learner.cc:516: \n",
      "Parameters: { silent } might not be used.\n",
      "\n",
      "  This may not be accurate due to some parameters are only used in language bindings but\n",
      "  passed down to XGBoost core.  Or some parameters are not used but slip through this\n",
      "  verification. Please open an issue if you find above cases.\n",
      "\n",
      "\n",
      "[0]\ttrain-merror:0.31892\teval-merror:0.32150\ttrain-Kappa:-0.27092\teval-Kappa:-0.26167\n",
      "Multiple eval metrics have been passed: 'eval-Kappa' will be used for early stopping.\n",
      "\n",
      "Will train until eval-Kappa hasn't improved in 200 rounds.\n",
      "[200]\ttrain-merror:0.28785\teval-merror:0.29821\ttrain-Kappa:-0.36145\teval-Kappa:-0.33490\n",
      "[400]\ttrain-merror:0.26642\teval-merror:0.28700\ttrain-Kappa:-0.42674\teval-Kappa:-0.37809\n",
      "[600]\ttrain-merror:0.25020\teval-merror:0.28352\ttrain-Kappa:-0.47071\teval-Kappa:-0.39328\n",
      "[800]\ttrain-merror:0.23432\teval-merror:0.28258\ttrain-Kappa:-0.50912\teval-Kappa:-0.40016\n",
      "[1000]\ttrain-merror:0.22105\teval-merror:0.28258\ttrain-Kappa:-0.54112\teval-Kappa:-0.40332\n",
      "[1200]\ttrain-merror:0.20984\teval-merror:0.28179\ttrain-Kappa:-0.56727\teval-Kappa:-0.40716\n",
      "[1400]\ttrain-merror:0.19958\teval-merror:0.28201\ttrain-Kappa:-0.59039\teval-Kappa:-0.40872\n",
      "[1600]\ttrain-merror:0.19025\teval-merror:0.28186\ttrain-Kappa:-0.61174\teval-Kappa:-0.41063\n",
      "Stopping. Best iteration:\n",
      "[1573]\ttrain-merror:0.19139\teval-merror:0.28135\ttrain-Kappa:-0.60914\teval-Kappa:-0.41170\n",
      "\n",
      "0.4116969905780974 [0.4116969905780974]\n",
      "************************************ 2 ************************************\n",
      "[02:40:24] WARNING: ../src/learner.cc:516: \n",
      "Parameters: { silent } might not be used.\n",
      "\n",
      "  This may not be accurate due to some parameters are only used in language bindings but\n",
      "  passed down to XGBoost core.  Or some parameters are not used but slip through this\n",
      "  verification. Please open an issue if you find above cases.\n",
      "\n",
      "\n",
      "[0]\ttrain-merror:0.31855\teval-merror:0.32571\ttrain-Kappa:-0.26702\teval-Kappa:-0.26082\n",
      "Multiple eval metrics have been passed: 'eval-Kappa' will be used for early stopping.\n",
      "\n",
      "Will train until eval-Kappa hasn't improved in 200 rounds.\n",
      "[200]\ttrain-merror:0.28535\teval-merror:0.30409\ttrain-Kappa:-0.36402\teval-Kappa:-0.32638\n",
      "[400]\ttrain-merror:0.26379\teval-merror:0.29338\ttrain-Kappa:-0.42953\teval-Kappa:-0.36823\n",
      "[600]\ttrain-merror:0.24750\teval-merror:0.29100\ttrain-Kappa:-0.47303\teval-Kappa:-0.38122\n",
      "[800]\ttrain-merror:0.23278\teval-merror:0.28716\ttrain-Kappa:-0.50981\teval-Kappa:-0.39430\n",
      "[1000]\ttrain-merror:0.22034\teval-merror:0.28571\ttrain-Kappa:-0.53982\teval-Kappa:-0.40105\n",
      "[1200]\ttrain-merror:0.20927\teval-merror:0.28456\ttrain-Kappa:-0.56561\teval-Kappa:-0.40571\n",
      "[1400]\ttrain-merror:0.20021\teval-merror:0.28369\ttrain-Kappa:-0.58676\teval-Kappa:-0.40984\n",
      "[1600]\ttrain-merror:0.19059\teval-merror:0.28506\ttrain-Kappa:-0.60867\teval-Kappa:-0.40854\n",
      "Stopping. Best iteration:\n",
      "[1416]\ttrain-merror:0.19889\teval-merror:0.28311\ttrain-Kappa:-0.58967\teval-Kappa:-0.41129\n",
      "\n",
      "0.41149093356899813 [0.4116969905780974, 0.41128487655989887]\n",
      "************************************ 3 ************************************\n",
      "[02:45:02] WARNING: ../src/learner.cc:516: \n",
      "Parameters: { silent } might not be used.\n",
      "\n",
      "  This may not be accurate due to some parameters are only used in language bindings but\n",
      "  passed down to XGBoost core.  Or some parameters are not used but slip through this\n",
      "  verification. Please open an issue if you find above cases.\n",
      "\n",
      "\n",
      "[0]\ttrain-merror:0.32095\teval-merror:0.31834\ttrain-Kappa:-0.25486\teval-Kappa:-0.25752\n",
      "Multiple eval metrics have been passed: 'eval-Kappa' will be used for early stopping.\n",
      "\n",
      "Will train until eval-Kappa hasn't improved in 200 rounds.\n",
      "[200]\ttrain-merror:0.28689\teval-merror:0.29490\ttrain-Kappa:-0.36318\teval-Kappa:-0.34175\n",
      "[400]\ttrain-merror:0.26471\teval-merror:0.28875\ttrain-Kappa:-0.42981\teval-Kappa:-0.37213\n",
      "[600]\ttrain-merror:0.24862\teval-merror:0.28579\ttrain-Kappa:-0.47252\teval-Kappa:-0.38603\n",
      "[800]\ttrain-merror:0.23459\teval-merror:0.28297\ttrain-Kappa:-0.50791\teval-Kappa:-0.39629\n",
      "[1000]\ttrain-merror:0.22141\teval-merror:0.28065\ttrain-Kappa:-0.53975\teval-Kappa:-0.40507\n",
      "[1200]\ttrain-merror:0.20985\teval-merror:0.27986\ttrain-Kappa:-0.56681\teval-Kappa:-0.40982\n",
      "[1400]\ttrain-merror:0.19924\teval-merror:0.27964\ttrain-Kappa:-0.59097\teval-Kappa:-0.41204\n",
      "[1600]\ttrain-merror:0.19034\teval-merror:0.28014\ttrain-Kappa:-0.61131\teval-Kappa:-0.41234\n",
      "[1800]\ttrain-merror:0.18215\teval-merror:0.28137\ttrain-Kappa:-0.62958\teval-Kappa:-0.41109\n",
      "Stopping. Best iteration:\n",
      "[1603]\ttrain-merror:0.19027\teval-merror:0.27920\ttrain-Kappa:-0.61139\teval-Kappa:-0.41445\n",
      "\n",
      "0.41247765441719836 [0.4116969905780974, 0.41128487655989887, 0.41445109611359876]\n",
      "************************************ 4 ************************************\n",
      "[02:50:12] WARNING: ../src/learner.cc:516: \n",
      "Parameters: { silent } might not be used.\n",
      "\n",
      "  This may not be accurate due to some parameters are only used in language bindings but\n",
      "  passed down to XGBoost core.  Or some parameters are not used but slip through this\n",
      "  verification. Please open an issue if you find above cases.\n",
      "\n",
      "\n",
      "[0]\ttrain-merror:0.32052\teval-merror:0.32405\ttrain-Kappa:-0.26116\teval-Kappa:-0.25147\n",
      "Multiple eval metrics have been passed: 'eval-Kappa' will be used for early stopping.\n",
      "\n",
      "Will train until eval-Kappa hasn't improved in 200 rounds.\n",
      "[200]\ttrain-merror:0.28745\teval-merror:0.30018\ttrain-Kappa:-0.36147\teval-Kappa:-0.32743\n",
      "[400]\ttrain-merror:0.26482\teval-merror:0.29100\ttrain-Kappa:-0.42826\teval-Kappa:-0.36530\n",
      "[600]\ttrain-merror:0.24862\teval-merror:0.28767\ttrain-Kappa:-0.47149\teval-Kappa:-0.38053\n",
      "[800]\ttrain-merror:0.23410\teval-merror:0.28427\ttrain-Kappa:-0.50743\teval-Kappa:-0.39227\n",
      "[1000]\ttrain-merror:0.22168\teval-merror:0.28376\ttrain-Kappa:-0.53773\teval-Kappa:-0.39770\n",
      "[1200]\ttrain-merror:0.20967\teval-merror:0.28311\ttrain-Kappa:-0.56547\teval-Kappa:-0.40069\n",
      "[1400]\ttrain-merror:0.19969\teval-merror:0.28340\ttrain-Kappa:-0.58871\teval-Kappa:-0.40301\n",
      "[1600]\ttrain-merror:0.19097\teval-merror:0.28419\ttrain-Kappa:-0.60869\teval-Kappa:-0.40332\n",
      "[1800]\ttrain-merror:0.18246\teval-merror:0.28333\ttrain-Kappa:-0.62791\teval-Kappa:-0.40681\n",
      "[2000]\ttrain-merror:0.17495\teval-merror:0.28325\ttrain-Kappa:-0.64464\teval-Kappa:-0.40786\n",
      "[2200]\ttrain-merror:0.16730\teval-merror:0.28354\ttrain-Kappa:-0.66143\teval-Kappa:-0.40837\n",
      "Stopping. Best iteration:\n",
      "[2136]\ttrain-merror:0.16947\teval-merror:0.28224\ttrain-Kappa:-0.65671\teval-Kappa:-0.41088\n",
      "\n",
      "0.4120789015887649 [0.4116969905780974, 0.41128487655989887, 0.41445109611359876, 0.4108826431034648]\n",
      "************************************ 5 ************************************\n",
      "[02:56:52] WARNING: ../src/learner.cc:516: \n",
      "Parameters: { silent } might not be used.\n",
      "\n",
      "  This may not be accurate due to some parameters are only used in language bindings but\n",
      "  passed down to XGBoost core.  Or some parameters are not used but slip through this\n",
      "  verification. Please open an issue if you find above cases.\n",
      "\n",
      "\n",
      "[0]\ttrain-merror:0.31927\teval-merror:0.31906\ttrain-Kappa:-0.27304\teval-Kappa:-0.27100\n",
      "Multiple eval metrics have been passed: 'eval-Kappa' will be used for early stopping.\n",
      "\n",
      "Will train until eval-Kappa hasn't improved in 200 rounds.\n",
      "[200]\ttrain-merror:0.28649\teval-merror:0.29671\ttrain-Kappa:-0.36617\teval-Kappa:-0.34128\n",
      "[400]\ttrain-merror:0.26314\teval-merror:0.28940\ttrain-Kappa:-0.43428\teval-Kappa:-0.37320\n",
      "[600]\ttrain-merror:0.24718\teval-merror:0.28774\ttrain-Kappa:-0.47664\teval-Kappa:-0.38579\n",
      "[800]\ttrain-merror:0.23325\teval-merror:0.28651\ttrain-Kappa:-0.51088\teval-Kappa:-0.39274\n",
      "[1000]\ttrain-merror:0.22041\teval-merror:0.28398\ttrain-Kappa:-0.54188\teval-Kappa:-0.40293\n",
      "[1200]\ttrain-merror:0.21009\teval-merror:0.28354\ttrain-Kappa:-0.56594\teval-Kappa:-0.40601\n",
      "[1400]\ttrain-merror:0.19978\teval-merror:0.28217\ttrain-Kappa:-0.58959\teval-Kappa:-0.41082\n",
      "[1600]\ttrain-merror:0.19012\teval-merror:0.28094\ttrain-Kappa:-0.61147\teval-Kappa:-0.41509\n",
      "[1800]\ttrain-merror:0.18143\teval-merror:0.28289\ttrain-Kappa:-0.63080\teval-Kappa:-0.41269\n",
      "Stopping. Best iteration:\n",
      "[1609]\ttrain-merror:0.18949\teval-merror:0.28072\ttrain-Kappa:-0.61289\teval-Kappa:-0.41557\n",
      "\n",
      "0.41277731396868267 [0.4116969905780974, 0.41128487655989887, 0.41445109611359876, 0.4108826431034648, 0.41557096348835354]\n",
      "xgb_scotrainre_list: [0.4116969905780974, 0.41128487655989887, 0.41445109611359876, 0.4108826431034648, 0.41557096348835354]\n",
      "xgb_score_mean: 0.41277731396868267\n",
      "xgb_score_std: 0.0018756476237441649\n",
      "what is kf.n_splits? 5\n"
     ]
    },
    {
     "name": "stdout",
     "output_type": "stream",
     "text": [
      "0.41276082748603937\n"
     ]
    }
   ],
   "source": [
    "## 这个方法目前来看最好，但是最慢。\n",
    "xgb_train, xgb_test, xgb_meanPerf= xgb_model(x_train, y_train, x_test)"
   ]
  },
  {
   "cell_type": "markdown",
   "metadata": {
    "hidden": true,
    "id": "RuRAmeNUmYuf"
   },
   "source": [
    "性能不赖。不过问题是怎么将结果进行组合。可能需要一点以前写的代码的技巧了。"
   ]
  },
  {
   "cell_type": "code",
   "execution_count": 167,
   "metadata": {
    "executionInfo": {
     "elapsed": 708,
     "status": "ok",
     "timestamp": 1607151907848,
     "user": {
      "displayName": "Minke Xiu",
      "photoUrl": "https://lh3.googleusercontent.com/a-/AOh14GiKrlSLM7H0tbRpIYdHPAKnVjaQdF6dZZWD9Jdd=s64",
      "userId": "01913327350585558279"
     },
     "user_tz": 300
    },
    "hidden": true,
    "id": "iGWG_YyN9pNO"
   },
   "outputs": [],
   "source": [
    "testA_result = pd.read_csv('originalDataset/submission_sample.csv')\n",
    "testA_result_pred = testA_result.copy()"
   ]
  },
  {
   "cell_type": "code",
   "execution_count": 168,
   "metadata": {
    "executionInfo": {
     "elapsed": 368,
     "status": "ok",
     "timestamp": 1607151925626,
     "user": {
      "displayName": "Minke Xiu",
      "photoUrl": "https://lh3.googleusercontent.com/a-/AOh14GiKrlSLM7H0tbRpIYdHPAKnVjaQdF6dZZWD9Jdd=s64",
      "userId": "01913327350585558279"
     },
     "user_tz": 300
    },
    "hidden": true,
    "id": "C-R_jyu49pNO"
   },
   "outputs": [],
   "source": [
    "testA_result_pred[\"label\"] = xgb_test.iloc[:,-1]\n",
    "### 注释掉的两行，酌情运行。\n",
    "testA_result_pred.replace([np.inf, -np.inf], np.nan, inplace=True)\n",
    "testA_result_pred.fillna(0.0, inplace=True)\n",
    "testA_result_pred[\"label\"] = testA_result_pred[\"label\"].astype(int)"
   ]
  },
  {
   "cell_type": "code",
   "execution_count": 169,
   "metadata": {
    "executionInfo": {
     "elapsed": 451,
     "status": "ok",
     "timestamp": 1607151994123,
     "user": {
      "displayName": "Minke Xiu",
      "photoUrl": "https://lh3.googleusercontent.com/a-/AOh14GiKrlSLM7H0tbRpIYdHPAKnVjaQdF6dZZWD9Jdd=s64",
      "userId": "01913327350585558279"
     },
     "user_tz": 300
    },
    "hidden": true,
    "id": "dB11Zb7XtcbQ"
   },
   "outputs": [],
   "source": [
    "### 注意###############\n",
    "## 最后存成文件的时候，要把类别的标签改回-1，0，1.\n",
    "testA_result_pred[\"label\"] = testA_result_pred[\"label\"].map({0: -1, 1: 0, 2: 1})\n",
    "testA_result_pred.to_csv(\"submissionResults/KeepTheFeaturesAsTheyOriginallyWere_{:.4}.csv\".format(xgb_meanPerf), index=False) ## "
   ]
  },
  {
   "cell_type": "markdown",
   "metadata": {
    "hidden": true
   },
   "source": [
    "-------"
   ]
  },
  {
   "cell_type": "code",
   "execution_count": 170,
   "metadata": {
    "hidden": true
   },
   "outputs": [],
   "source": [
    "testA_result_pred[\"label\"] = xgb_test.iloc[:,-1]\n",
    "### 注释掉的两行，酌情运行。\n",
    "# testA_result_pred.replace([np.inf, -np.inf], np.nan, inplace=True)\n",
    "# testA_result_pred.fillna(0.0, inplace=True)\n",
    "testA_result_pred[\"label\"] = testA_result_pred[\"label\"].astype(int)"
   ]
  },
  {
   "cell_type": "code",
   "execution_count": 172,
   "metadata": {
    "hidden": true
   },
   "outputs": [],
   "source": [
    "### 注意###############\n",
    "## 最后存成文件的时候，要把类别的标签改回-1，0，1.\n",
    "testA_result_pred[\"label\"] = testA_result_pred[\"label\"].map({0: -1, 1: 0, 2: 1})\n",
    "testA_result_pred.to_csv(\"submissionResults/KeepTheFeaturesAsTheyOriginallyWere_{:.4}-1.csv\".format(xgb_meanPerf), index=False) ## "
   ]
  },
  {
   "cell_type": "markdown",
   "metadata": {
    "hidden": true
   },
   "source": [
    "=============="
   ]
  },
  {
   "cell_type": "code",
   "execution_count": null,
   "metadata": {
    "hidden": true,
    "id": "bDy3ssLVqIbF",
    "scrolled": true
   },
   "outputs": [],
   "source": [
    "## 这个方法很快，可以用这个方法粗略看一下效果\n",
    "cat_train, cat_test, cat_meanPerf = cat_model(x_train, y_train, x_test)"
   ]
  },
  {
   "cell_type": "code",
   "execution_count": null,
   "metadata": {
    "hidden": true,
    "id": "tsPHHrnQa7co"
   },
   "outputs": [],
   "source": [
    "# ## 貌似有问题。特慢。而且性能指标看上去很奇怪。\n",
    "# lgb_train, lgb_test, lgb_meanPerf = lgb_model(x_train, y_train, x_test)"
   ]
  },
  {
   "cell_type": "code",
   "execution_count": null,
   "metadata": {
    "hidden": true,
    "id": "B5GQcvPZa7cp"
   },
   "outputs": [],
   "source": [
    "# newStackingTrainingSet = pd.DataFrame(columns=[\"lgb\", \"cat\", \"xgb\"])\n",
    "# newStackingTrainingSet[\"lgb\"] = lgb_train\n",
    "# newStackingTrainingSet[\"cat\"] = cat_train\n",
    "# newStackingTrainingSet[\"xgb\"] = xgb_train\n",
    "\n",
    "# newStackingTestSet = pd.DataFrame(columns=[\"lgb\", \"cat\", \"xgb\"])\n",
    "# newStackingTestSet[\"lgb\"] = lgb_test\n",
    "# newStackingTestSet[\"cat\"] = cat_test\n",
    "# newStackingTestSet[\"xgb\"] = xgb_test\n",
    "\n",
    "# xgb_train_final, xgb_test_final = xgb_model(newStackingTrainingSet, y_train, newStackingTestSet)\n",
    "\n",
    "# testA_result_pred[\"isDefault\"] = xgb_test_final\n",
    "# testA_result_pred.to_csv(\"submissionResults/1129-a_a_a_b_b_a_f_b-lgb_cat_xgb+xgb-????.csv\", index=False) ##"
   ]
  },
  {
   "cell_type": "code",
   "execution_count": null,
   "metadata": {
    "hidden": true,
    "id": "z3Ze_bEoDbTG"
   },
   "outputs": [],
   "source": [
    "# testA_result_pred.to_csv(\"submissionResults/1129-a_a_a_b_b_a_f_b-xgb-7385.csv\", index=False) ## "
   ]
  },
  {
   "cell_type": "code",
   "execution_count": null,
   "metadata": {
    "hidden": true,
    "id": "tLxObE6VbCD6"
   },
   "outputs": [],
   "source": [
    "# testA_result_pred.to_csv(\"submissionResults/xgboost-1128-A_A_A_B_A_A_E_A-7379.csv\", index=False) ## "
   ]
  },
  {
   "cell_type": "code",
   "execution_count": null,
   "metadata": {
    "hidden": true,
    "id": "6Y9Nl13yXHlc"
   },
   "outputs": [],
   "source": [
    "# testA_result_pred.to_csv(\"submissionResults/xgboost-1128-A_A_A_B_B_A_D_B-7383.csv\", index=False) ## "
   ]
  },
  {
   "cell_type": "code",
   "execution_count": null,
   "metadata": {
    "hidden": true,
    "id": "0QYhLwVi9pNO"
   },
   "outputs": [],
   "source": [
    "# testA_result_pred.to_csv(\"submissionResults/xgboost-1128-A_A_A_B_B_A_C_B-????.csv\", index=False) ## 理论上应该得分较高的。但是没训练完就给我停掉了。以后再试一次。"
   ]
  },
  {
   "cell_type": "markdown",
   "metadata": {
    "hidden": true,
    "id": "i2vo5VbaJFak"
   },
   "source": [
    "### Scheme B\n",
    "\n",
    "多个模型的stacking"
   ]
  },
  {
   "cell_type": "code",
   "execution_count": null,
   "metadata": {
    "hidden": true,
    "id": "RQsnDCIKJg8e"
   },
   "outputs": [],
   "source": [
    "## 使用A方案里面的函数. "
   ]
  },
  {
   "cell_type": "code",
   "execution_count": null,
   "metadata": {
    "hidden": true,
    "id": "eM0X37aKKWWS"
   },
   "outputs": [],
   "source": [
    "## 如果有必要, 可以保存一轮. \n",
    "testA_result_pred[\"isDefault\"] = lgb_test\n",
    "testA_result_pred.to_csv(\"submissionResults/1129-a_a_a_b_b_a_f_b-lgb-7372.csv\", index=False) ## "
   ]
  },
  {
   "cell_type": "code",
   "execution_count": null,
   "metadata": {
    "colab": {
     "base_uri": "https://localhost:8080/"
    },
    "executionInfo": {
     "elapsed": 1036593,
     "status": "ok",
     "timestamp": 1606674815616,
     "user": {
      "displayName": "Minke Xiu",
      "photoUrl": "https://lh3.googleusercontent.com/a-/AOh14GiKrlSLM7H0tbRpIYdHPAKnVjaQdF6dZZWD9Jdd=s64",
      "userId": "01913327350585558279"
     },
     "user_tz": 300
    },
    "hidden": true,
    "id": "RjJIILaoJErh",
    "outputId": "fd15e41c-8b15-4b66-cee7-d2cf886a796a"
   },
   "outputs": [
    {
     "name": "stdout",
     "output_type": "stream",
     "text": [
      "************************************ 1 ************************************\n",
      "0:\tlearn: 0.3985157\ttest: 0.3965959\tbest: 0.3965959 (0)\ttotal: 139ms\tremaining: 46m 25s\n",
      "500:\tlearn: 0.3756413\ttest: 0.3743346\tbest: 0.3743346 (500)\ttotal: 37.8s\tremaining: 24m 32s\n",
      "1000:\tlearn: 0.3741548\ttest: 0.3736793\tbest: 0.3736793 (1000)\ttotal: 1m 12s\tremaining: 22m 57s\n",
      "1500:\tlearn: 0.3730979\ttest: 0.3733782\tbest: 0.3733776 (1498)\ttotal: 1m 46s\tremaining: 21m 58s\n",
      "2000:\tlearn: 0.3722170\ttest: 0.3732208\tbest: 0.3732207 (1999)\ttotal: 2m 21s\tremaining: 21m 14s\n",
      "2500:\tlearn: 0.3714033\ttest: 0.3731051\tbest: 0.3731050 (2494)\ttotal: 2m 56s\tremaining: 20m 33s\n",
      "3000:\tlearn: 0.3706215\ttest: 0.3730281\tbest: 0.3730271 (2990)\ttotal: 3m 31s\tremaining: 19m 56s\n",
      "Stopped by overfitting detector  (50 iterations wait)\n",
      "\n",
      "bestTest = 0.3730018737\n",
      "bestIteration = 3229\n",
      "\n",
      "Shrink model to first 3230 iterations.\n",
      "[0.7383488181966832]\n",
      "************************************ 2 ************************************\n",
      "0:\tlearn: 0.3979620\ttest: 0.3989038\tbest: 0.3989038 (0)\ttotal: 91.8ms\tremaining: 30m 36s\n",
      "500:\tlearn: 0.3749722\ttest: 0.3771181\tbest: 0.3771181 (500)\ttotal: 37.6s\tremaining: 24m 21s\n",
      "1000:\tlearn: 0.3734687\ttest: 0.3764046\tbest: 0.3764046 (1000)\ttotal: 1m 12s\tremaining: 22m 57s\n",
      "1500:\tlearn: 0.3724322\ttest: 0.3761237\tbest: 0.3761229 (1499)\ttotal: 1m 47s\tremaining: 22m 6s\n",
      "2000:\tlearn: 0.3715362\ttest: 0.3759640\tbest: 0.3759636 (1996)\ttotal: 2m 22s\tremaining: 21m 20s\n",
      "2500:\tlearn: 0.3707212\ttest: 0.3758562\tbest: 0.3758562 (2500)\ttotal: 2m 57s\tremaining: 20m 38s\n",
      "Stopped by overfitting detector  (50 iterations wait)\n",
      "\n",
      "bestTest = 0.3758079624\n",
      "bestIteration = 2856\n",
      "\n",
      "Shrink model to first 2857 iterations.\n",
      "[0.7383488181966832, 0.7345917025217683]\n",
      "************************************ 3 ************************************\n",
      "0:\tlearn: 0.3979996\ttest: 0.3987330\tbest: 0.3987330 (0)\ttotal: 87.1ms\tremaining: 29m 2s\n",
      "500:\tlearn: 0.3752396\ttest: 0.3762122\tbest: 0.3762122 (500)\ttotal: 37.5s\tremaining: 24m 20s\n",
      "1000:\tlearn: 0.3737321\ttest: 0.3754534\tbest: 0.3754534 (1000)\ttotal: 1m 12s\tremaining: 23m 3s\n",
      "1500:\tlearn: 0.3726812\ttest: 0.3751495\tbest: 0.3751495 (1500)\ttotal: 1m 47s\tremaining: 22m 6s\n",
      "2000:\tlearn: 0.3717900\ttest: 0.3750077\tbest: 0.3750076 (1999)\ttotal: 2m 22s\tremaining: 21m 18s\n",
      "2500:\tlearn: 0.3709752\ttest: 0.3749240\tbest: 0.3749210 (2486)\ttotal: 2m 56s\tremaining: 20m 38s\n",
      "3000:\tlearn: 0.3702161\ttest: 0.3748589\tbest: 0.3748589 (3000)\ttotal: 3m 32s\tremaining: 20m 1s\n",
      "Stopped by overfitting detector  (50 iterations wait)\n",
      "\n",
      "bestTest = 0.3748327272\n",
      "bestIteration = 3302\n",
      "\n",
      "Shrink model to first 3303 iterations.\n",
      "[0.7383488181966832, 0.7345917025217683, 0.7382851077796634]\n",
      "************************************ 4 ************************************\n",
      "0:\tlearn: 0.3980822\ttest: 0.3983889\tbest: 0.3983889 (0)\ttotal: 81.5ms\tremaining: 27m 10s\n",
      "500:\tlearn: 0.3752547\ttest: 0.3762421\tbest: 0.3762421 (500)\ttotal: 37.5s\tremaining: 24m 21s\n",
      "1000:\tlearn: 0.3737581\ttest: 0.3754927\tbest: 0.3754927 (1000)\ttotal: 1m 13s\tremaining: 23m 7s\n",
      "1500:\tlearn: 0.3727055\ttest: 0.3751996\tbest: 0.3751996 (1500)\ttotal: 1m 48s\tremaining: 22m 15s\n",
      "2000:\tlearn: 0.3717955\ttest: 0.3750442\tbest: 0.3750442 (2000)\ttotal: 2m 23s\tremaining: 21m 28s\n",
      "Stopped by overfitting detector  (50 iterations wait)\n",
      "\n",
      "bestTest = 0.3749754568\n",
      "bestIteration = 2335\n",
      "\n",
      "Shrink model to first 2336 iterations.\n",
      "[0.7383488181966832, 0.7345917025217683, 0.7382851077796634, 0.7371509966091883]\n",
      "************************************ 5 ************************************\n",
      "0:\tlearn: 0.3981558\ttest: 0.3981148\tbest: 0.3981148 (0)\ttotal: 81.3ms\tremaining: 27m 6s\n",
      "500:\tlearn: 0.3752660\ttest: 0.3761308\tbest: 0.3761308 (500)\ttotal: 37.8s\tremaining: 24m 29s\n",
      "1000:\tlearn: 0.3737822\ttest: 0.3754222\tbest: 0.3754222 (1000)\ttotal: 1m 14s\tremaining: 23m 24s\n",
      "1500:\tlearn: 0.3727141\ttest: 0.3750742\tbest: 0.3750738 (1498)\ttotal: 1m 50s\tremaining: 22m 39s\n",
      "2000:\tlearn: 0.3718256\ttest: 0.3748936\tbest: 0.3748927 (1998)\ttotal: 2m 26s\tremaining: 21m 53s\n",
      "2500:\tlearn: 0.3710026\ttest: 0.3747709\tbest: 0.3747688 (2485)\ttotal: 3m 1s\tremaining: 21m 10s\n",
      "Stopped by overfitting detector  (50 iterations wait)\n",
      "\n",
      "bestTest = 0.3747687552\n",
      "bestIteration = 2485\n",
      "\n",
      "Shrink model to first 2486 iterations.\n",
      "[0.7383488181966832, 0.7345917025217683, 0.7382851077796634, 0.7371509966091883, 0.7363740584782061]\n",
      "cat_scotrainre_list: [0.7383488181966832, 0.7345917025217683, 0.7382851077796634, 0.7371509966091883, 0.7363740584782061]\n",
      "cat_score_mean: 0.7369501367171019\n",
      "cat_score_std: 0.0013908903843579646\n",
      "what is kf.n_splits? 5\n"
     ]
    }
   ],
   "source": [
    "cat_train, cat_test = cat_model(x_train, y_train, x_test)"
   ]
  },
  {
   "cell_type": "code",
   "execution_count": null,
   "metadata": {
    "hidden": true,
    "id": "dU0PR5_lJ31p"
   },
   "outputs": [],
   "source": [
    "## 如果有必要, 可以保存一轮. \n",
    "testA_result_pred[\"isDefault\"] = cat_test\n",
    "testA_result_pred.to_csv(\"submissionResults/1129-a_a_a_b_b_a_f_b-cat-????.csv\", index=False) ## "
   ]
  },
  {
   "cell_type": "markdown",
   "metadata": {
    "hidden": true,
    "id": "lvlJg0v4MiGE"
   },
   "source": [
    "三连"
   ]
  },
  {
   "cell_type": "code",
   "execution_count": null,
   "metadata": {
    "colab": {
     "base_uri": "https://localhost:8080/"
    },
    "executionInfo": {
     "elapsed": 98251,
     "status": "ok",
     "timestamp": 1606674915865,
     "user": {
      "displayName": "Minke Xiu",
      "photoUrl": "https://lh3.googleusercontent.com/a-/AOh14GiKrlSLM7H0tbRpIYdHPAKnVjaQdF6dZZWD9Jdd=s64",
      "userId": "01913327350585558279"
     },
     "user_tz": 300
    },
    "hidden": true,
    "id": "hkjnmRj0OaEq",
    "outputId": "95a67271-7394-48a7-d7a4-a2eb7196c2bf"
   },
   "outputs": [
    {
     "name": "stdout",
     "output_type": "stream",
     "text": [
      "************************************ 1 ************************************\n",
      "[0]\ttrain-auc:0.737118\teval-auc:0.738217\n",
      "Multiple eval metrics have been passed: 'eval-auc' will be used for early stopping.\n",
      "\n",
      "Will train until eval-auc hasn't improved in 200 rounds.\n",
      "[200]\ttrain-auc:0.739597\teval-auc:0.739911\n",
      "Stopping. Best iteration:\n",
      "[163]\ttrain-auc:0.739447\teval-auc:0.739924\n",
      "\n",
      "[0.7399235409121722]\n",
      "************************************ 2 ************************************\n",
      "[0]\ttrain-auc:0.737917\teval-auc:0.734741\n",
      "Multiple eval metrics have been passed: 'eval-auc' will be used for early stopping.\n",
      "\n",
      "Will train until eval-auc hasn't improved in 200 rounds.\n",
      "[200]\ttrain-auc:0.740359\teval-auc:0.736625\n",
      "Stopping. Best iteration:\n",
      "[132]\ttrain-auc:0.740154\teval-auc:0.736661\n",
      "\n",
      "[0.7399235409121722, 0.7366608129717951]\n",
      "************************************ 3 ************************************\n",
      "[0]\ttrain-auc:0.73719\teval-auc:0.738161\n",
      "Multiple eval metrics have been passed: 'eval-auc' will be used for early stopping.\n",
      "\n",
      "Will train until eval-auc hasn't improved in 200 rounds.\n",
      "[200]\ttrain-auc:0.73962\teval-auc:0.7397\n",
      "Stopping. Best iteration:\n",
      "[54]\ttrain-auc:0.739066\teval-auc:0.739778\n",
      "\n",
      "[0.7399235409121722, 0.7366608129717951, 0.7397780700726535]\n",
      "************************************ 4 ************************************\n",
      "[0]\ttrain-auc:0.737276\teval-auc:0.737762\n",
      "Multiple eval metrics have been passed: 'eval-auc' will be used for early stopping.\n",
      "\n",
      "Will train until eval-auc hasn't improved in 200 rounds.\n",
      "[200]\ttrain-auc:0.739714\teval-auc:0.739234\n",
      "Stopping. Best iteration:\n",
      "[40]\ttrain-auc:0.739135\teval-auc:0.739325\n",
      "\n",
      "[0.7399235409121722, 0.7366608129717951, 0.7397780700726535, 0.7393248229133318]\n",
      "************************************ 5 ************************************\n",
      "[0]\ttrain-auc:0.737538\teval-auc:0.73682\n",
      "Multiple eval metrics have been passed: 'eval-auc' will be used for early stopping.\n",
      "\n",
      "Will train until eval-auc hasn't improved in 200 rounds.\n",
      "[200]\ttrain-auc:0.739855\teval-auc:0.738685\n",
      "Stopping. Best iteration:\n",
      "[80]\ttrain-auc:0.739426\teval-auc:0.738721\n",
      "\n",
      "[0.7399235409121722, 0.7366608129717951, 0.7397780700726535, 0.7393248229133318, 0.7387213783845085]\n",
      "xgb_scotrainre_list: [0.7399235409121722, 0.7366608129717951, 0.7397780700726535, 0.7393248229133318, 0.7387213783845085]\n",
      "xgb_score_mean: 0.7388817250508923\n",
      "xgb_score_std: 0.0011868708370373884\n",
      "what is kf.n_splits? 5\n"
     ]
    }
   ],
   "source": [
    " "
   ]
  },
  {
   "cell_type": "code",
   "execution_count": null,
   "metadata": {
    "hidden": true,
    "id": "RBnrDo3jTgcI"
   },
   "outputs": [],
   "source": [
    "# newStackingTrainingSet = pd.DataFrame(columns=[\"lgb\", \"cat\", \"xgb\"])\n",
    "# newStackingTrainingSet[\"lgb\"] = lgb_train\n",
    "# newStackingTrainingSet[\"cat\"] = cat_train\n",
    "# newStackingTrainingSet[\"xgb\"] = xgb_train\n",
    "# newStackingTrainingSet.head()"
   ]
  },
  {
   "cell_type": "code",
   "execution_count": null,
   "metadata": {
    "hidden": true,
    "id": "jzRsNIEkVi56"
   },
   "outputs": [],
   "source": [
    "# newStackingTestSet = pd.DataFrame(columns=[\"lgb\", \"cat\", \"xgb\"])\n",
    "# newStackingTestSet[\"lgb\"] = lgb_test\n",
    "# newStackingTestSet[\"cat\"] = cat_test\n",
    "# newStackingTestSet[\"xgb\"] = xgb_test\n",
    "# newStackingTestSet.head()"
   ]
  },
  {
   "cell_type": "code",
   "execution_count": null,
   "metadata": {
    "hidden": true,
    "id": "Tg7QO04IXO1f"
   },
   "outputs": [],
   "source": [
    "# xgb_train_final, xgb_test_final = xgb_model(newStackingTrainingSet, y_train, newStackingTestSet)"
   ]
  },
  {
   "cell_type": "code",
   "execution_count": null,
   "metadata": {
    "hidden": true,
    "id": "c9tX2pWGMm0g"
   },
   "outputs": [],
   "source": [
    "# ## 如果有必要, 可以保存一轮. \n",
    "# testA_result_pred[\"isDefault\"] = xgb_test_final\n",
    "# testA_result_pred.to_csv(\"submissionResults/1129-a_a_a_b_b_a_f_b-lgb_xgb_cat+xgb-????.csv\", index=False) ## "
   ]
  },
  {
   "cell_type": "markdown",
   "metadata": {
    "hidden": true,
    "id": "VXamrWwlMu24"
   },
   "source": [
    "二连1"
   ]
  },
  {
   "cell_type": "code",
   "execution_count": null,
   "metadata": {
    "colab": {
     "base_uri": "https://localhost:8080/"
    },
    "executionInfo": {
     "elapsed": 180944,
     "status": "ok",
     "timestamp": 1606674998581,
     "user": {
      "displayName": "Minke Xiu",
      "photoUrl": "https://lh3.googleusercontent.com/a-/AOh14GiKrlSLM7H0tbRpIYdHPAKnVjaQdF6dZZWD9Jdd=s64",
      "userId": "01913327350585558279"
     },
     "user_tz": 300
    },
    "hidden": true,
    "id": "uKx_0wYjMuSA",
    "outputId": "8d814eaf-a71b-4b72-c08c-e32b9684ad13"
   },
   "outputs": [
    {
     "name": "stdout",
     "output_type": "stream",
     "text": [
      "************************************ 1 ************************************\n",
      "[0]\ttrain-auc:0.735481\teval-auc:0.736854\n",
      "Multiple eval metrics have been passed: 'eval-auc' will be used for early stopping.\n",
      "\n",
      "Will train until eval-auc hasn't improved in 200 rounds.\n",
      "[200]\ttrain-auc:0.738361\teval-auc:0.739337\n",
      "Stopping. Best iteration:\n",
      "[72]\ttrain-auc:0.738177\teval-auc:0.739388\n",
      "\n",
      "[0.7393877295712593]\n",
      "************************************ 2 ************************************\n",
      "[0]\ttrain-auc:0.736401\teval-auc:0.733022\n",
      "Multiple eval metrics have been passed: 'eval-auc' will be used for early stopping.\n",
      "\n",
      "Will train until eval-auc hasn't improved in 200 rounds.\n",
      "[200]\ttrain-auc:0.739215\teval-auc:0.735753\n",
      "Stopping. Best iteration:\n",
      "[82]\ttrain-auc:0.739088\teval-auc:0.735801\n",
      "\n",
      "[0.7393877295712593, 0.7358009060707756]\n",
      "************************************ 3 ************************************\n",
      "[0]\ttrain-auc:0.735582\teval-auc:0.737011\n",
      "Multiple eval metrics have been passed: 'eval-auc' will be used for early stopping.\n",
      "\n",
      "Will train until eval-auc hasn't improved in 200 rounds.\n",
      "[200]\ttrain-auc:0.738379\teval-auc:0.739177\n",
      "Stopping. Best iteration:\n",
      "[58]\ttrain-auc:0.738173\teval-auc:0.739238\n",
      "\n",
      "[0.7393877295712593, 0.7358009060707756, 0.7392375463053734]\n",
      "************************************ 4 ************************************\n",
      "[0]\ttrain-auc:0.735666\teval-auc:0.735779\n",
      "Multiple eval metrics have been passed: 'eval-auc' will be used for early stopping.\n",
      "\n",
      "Will train until eval-auc hasn't improved in 200 rounds.\n",
      "[200]\ttrain-auc:0.738481\teval-auc:0.738772\n",
      "Stopping. Best iteration:\n",
      "[81]\ttrain-auc:0.738332\teval-auc:0.738799\n",
      "\n",
      "[0.7393877295712593, 0.7358009060707756, 0.7392375463053734, 0.7387989296094711]\n",
      "************************************ 5 ************************************\n",
      "[0]\ttrain-auc:0.735895\teval-auc:0.73506\n",
      "Multiple eval metrics have been passed: 'eval-auc' will be used for early stopping.\n",
      "\n",
      "Will train until eval-auc hasn't improved in 200 rounds.\n",
      "[200]\ttrain-auc:0.738781\teval-auc:0.737558\n",
      "Stopping. Best iteration:\n",
      "[62]\ttrain-auc:0.738578\teval-auc:0.73768\n",
      "\n",
      "[0.7393877295712593, 0.7358009060707756, 0.7392375463053734, 0.7387989296094711, 0.7376795786550623]\n",
      "xgb_scotrainre_list: [0.7393877295712593, 0.7358009060707756, 0.7392375463053734, 0.7387989296094711, 0.7376795786550623]\n",
      "xgb_score_mean: 0.7381809380423883\n",
      "xgb_score_std: 0.0013319604959387585\n",
      "what is kf.n_splits? 5\n"
     ]
    }
   ],
   "source": [
    "newStackingTrainingSet = pd.DataFrame(columns=[\"lgb\", \"cat\"])\n",
    "newStackingTrainingSet[\"lgb\"] = lgb_train\n",
    "newStackingTrainingSet[\"cat\"] = cat_train\n",
    "# newStackingTrainingSet[\"xgb\"] = xgb_train\n",
    "\n",
    "newStackingTestSet = pd.DataFrame(columns=[\"lgb\", \"cat\"])\n",
    "newStackingTestSet[\"lgb\"] = lgb_test\n",
    "newStackingTestSet[\"cat\"] = cat_test\n",
    "# newStackingTestSet[\"xgb\"] = xgb_test\n",
    "\n",
    "xgb_train_final, xgb_test_final = xgb_model(newStackingTrainingSet, y_train, newStackingTestSet)\n",
    "\n",
    "testA_result_pred[\"isDefault\"] = xgb_test_final\n",
    "testA_result_pred.to_csv(\"submissionResults/1129-a_a_a_b_b_a_f_b-lgb_cat+xgb-????.csv\", index=False) ## "
   ]
  },
  {
   "cell_type": "markdown",
   "metadata": {
    "hidden": true,
    "id": "Y9bJcOTlMxmL"
   },
   "source": [
    "二连2"
   ]
  },
  {
   "cell_type": "code",
   "execution_count": null,
   "metadata": {
    "colab": {
     "base_uri": "https://localhost:8080/"
    },
    "executionInfo": {
     "elapsed": 252833,
     "status": "ok",
     "timestamp": 1606675070479,
     "user": {
      "displayName": "Minke Xiu",
      "photoUrl": "https://lh3.googleusercontent.com/a-/AOh14GiKrlSLM7H0tbRpIYdHPAKnVjaQdF6dZZWD9Jdd=s64",
      "userId": "01913327350585558279"
     },
     "user_tz": 300
    },
    "hidden": true,
    "id": "Pb6XSR8-M0s6",
    "outputId": "d3b73129-4ce4-46d0-9ce0-65fbf0e4d3f2"
   },
   "outputs": [
    {
     "name": "stdout",
     "output_type": "stream",
     "text": [
      "************************************ 1 ************************************\n",
      "[0]\ttrain-auc:0.737329\teval-auc:0.73841\n",
      "Multiple eval metrics have been passed: 'eval-auc' will be used for early stopping.\n",
      "\n",
      "Will train until eval-auc hasn't improved in 200 rounds.\n",
      "[200]\ttrain-auc:0.73898\teval-auc:0.739619\n",
      "Stopping. Best iteration:\n",
      "[24]\ttrain-auc:0.738759\teval-auc:0.739758\n",
      "\n",
      "[0.7397576966719892]\n",
      "************************************ 2 ************************************\n",
      "[0]\ttrain-auc:0.738173\teval-auc:0.735127\n",
      "Multiple eval metrics have been passed: 'eval-auc' will be used for early stopping.\n",
      "\n",
      "Will train until eval-auc hasn't improved in 200 rounds.\n",
      "[200]\ttrain-auc:0.739764\teval-auc:0.73647\n",
      "Stopping. Best iteration:\n",
      "[47]\ttrain-auc:0.739573\teval-auc:0.73659\n",
      "\n",
      "[0.7397576966719892, 0.7365901209883987]\n",
      "************************************ 3 ************************************\n",
      "[0]\ttrain-auc:0.737413\teval-auc:0.738178\n",
      "Multiple eval metrics have been passed: 'eval-auc' will be used for early stopping.\n",
      "\n",
      "Will train until eval-auc hasn't improved in 200 rounds.\n",
      "[200]\ttrain-auc:0.73901\teval-auc:0.739455\n",
      "Stopping. Best iteration:\n",
      "[32]\ttrain-auc:0.73878\teval-auc:0.739601\n",
      "\n",
      "[0.7397576966719892, 0.7365901209883987, 0.7396014087459107]\n",
      "************************************ 4 ************************************\n",
      "[0]\ttrain-auc:0.737406\teval-auc:0.737589\n",
      "Multiple eval metrics have been passed: 'eval-auc' will be used for early stopping.\n",
      "\n",
      "Will train until eval-auc hasn't improved in 200 rounds.\n",
      "[200]\ttrain-auc:0.739107\teval-auc:0.739075\n",
      "Stopping. Best iteration:\n",
      "[66]\ttrain-auc:0.7389\teval-auc:0.739209\n",
      "\n",
      "[0.7397576966719892, 0.7365901209883987, 0.7396014087459107, 0.7392085974461047]\n",
      "************************************ 5 ************************************\n",
      "[0]\ttrain-auc:0.73757\teval-auc:0.737475\n",
      "Multiple eval metrics have been passed: 'eval-auc' will be used for early stopping.\n",
      "\n",
      "Will train until eval-auc hasn't improved in 200 rounds.\n",
      "[200]\ttrain-auc:0.739248\teval-auc:0.738563\n",
      "Stopping. Best iteration:\n",
      "[17]\ttrain-auc:0.738988\teval-auc:0.738688\n",
      "\n",
      "[0.7397576966719892, 0.7365901209883987, 0.7396014087459107, 0.7392085974461047, 0.7386882045540842]\n",
      "xgb_scotrainre_list: [0.7397576966719892, 0.7365901209883987, 0.7396014087459107, 0.7392085974461047, 0.7386882045540842]\n",
      "xgb_score_mean: 0.7387692056812976\n",
      "xgb_score_std: 0.0011504531962532268\n",
      "what is kf.n_splits? 5\n"
     ]
    }
   ],
   "source": [
    "newStackingTrainingSet = pd.DataFrame(columns=[\"lgb\", \"xgb\"])\n",
    "newStackingTrainingSet[\"lgb\"] = lgb_train\n",
    "# newStackingTrainingSet[\"cat\"] = cat_train\n",
    "newStackingTrainingSet[\"xgb\"] = xgb_train\n",
    "\n",
    "newStackingTestSet = pd.DataFrame(columns=[\"lgb\", \"xgb\"])\n",
    "newStackingTestSet[\"lgb\"] = lgb_test\n",
    "# newStackingTestSet[\"cat\"] = cat_test\n",
    "newStackingTestSet[\"xgb\"] = xgb_test\n",
    "\n",
    "xgb_train_final, xgb_test_final = xgb_model(newStackingTrainingSet, y_train, newStackingTestSet)\n",
    "\n",
    "testA_result_pred[\"isDefault\"] = xgb_test_final\n",
    "testA_result_pred.to_csv(\"submissionResults/1129-a_a_a_b_b_a_f_b-lgb_xgb+xgb-????.csv\", index=False) ## "
   ]
  },
  {
   "cell_type": "markdown",
   "metadata": {
    "hidden": true,
    "id": "kaIkI270MzL-"
   },
   "source": [
    "二连3"
   ]
  },
  {
   "cell_type": "code",
   "execution_count": null,
   "metadata": {
    "colab": {
     "base_uri": "https://localhost:8080/"
    },
    "executionInfo": {
     "elapsed": 321225,
     "status": "ok",
     "timestamp": 1606675138880,
     "user": {
      "displayName": "Minke Xiu",
      "photoUrl": "https://lh3.googleusercontent.com/a-/AOh14GiKrlSLM7H0tbRpIYdHPAKnVjaQdF6dZZWD9Jdd=s64",
      "userId": "01913327350585558279"
     },
     "user_tz": 300
    },
    "hidden": true,
    "id": "scXtotjuM2Hs",
    "outputId": "b379d17f-e296-4ae8-bfb4-28612fc7a674"
   },
   "outputs": [
    {
     "name": "stdout",
     "output_type": "stream",
     "text": [
      "************************************ 1 ************************************\n",
      "[0]\ttrain-auc:0.737329\teval-auc:0.73841\n",
      "Multiple eval metrics have been passed: 'eval-auc' will be used for early stopping.\n",
      "\n",
      "Will train until eval-auc hasn't improved in 200 rounds.\n",
      "[200]\ttrain-auc:0.738783\teval-auc:0.739602\n",
      "Stopping. Best iteration:\n",
      "[29]\ttrain-auc:0.7386\teval-auc:0.739739\n",
      "\n",
      "[0.7397392697121947]\n",
      "************************************ 2 ************************************\n",
      "[0]\ttrain-auc:0.738173\teval-auc:0.735127\n",
      "Multiple eval metrics have been passed: 'eval-auc' will be used for early stopping.\n",
      "\n",
      "Will train until eval-auc hasn't improved in 200 rounds.\n",
      "[200]\ttrain-auc:0.739618\teval-auc:0.73633\n",
      "Stopping. Best iteration:\n",
      "[24]\ttrain-auc:0.739422\teval-auc:0.736446\n",
      "\n",
      "[0.7397392697121947, 0.7364457435182439]\n",
      "************************************ 3 ************************************\n",
      "[0]\ttrain-auc:0.737413\teval-auc:0.738178\n",
      "Multiple eval metrics have been passed: 'eval-auc' will be used for early stopping.\n",
      "\n",
      "Will train until eval-auc hasn't improved in 200 rounds.\n",
      "[200]\ttrain-auc:0.738792\teval-auc:0.739519\n",
      "Stopping. Best iteration:\n",
      "[47]\ttrain-auc:0.738607\teval-auc:0.739657\n",
      "\n",
      "[0.7397392697121947, 0.7364457435182439, 0.739657298138128]\n",
      "************************************ 4 ************************************\n",
      "[0]\ttrain-auc:0.737406\teval-auc:0.737589\n",
      "Multiple eval metrics have been passed: 'eval-auc' will be used for early stopping.\n",
      "\n",
      "Will train until eval-auc hasn't improved in 200 rounds.\n",
      "[200]\ttrain-auc:0.739018\teval-auc:0.738665\n",
      "Stopping. Best iteration:\n",
      "[16]\ttrain-auc:0.738782\teval-auc:0.738847\n",
      "\n",
      "[0.7397392697121947, 0.7364457435182439, 0.739657298138128, 0.7388469677739288]\n",
      "************************************ 5 ************************************\n",
      "[0]\ttrain-auc:0.73757\teval-auc:0.737475\n",
      "Multiple eval metrics have been passed: 'eval-auc' will be used for early stopping.\n",
      "\n",
      "Will train until eval-auc hasn't improved in 200 rounds.\n",
      "[200]\ttrain-auc:0.739079\teval-auc:0.738468\n",
      "Stopping. Best iteration:\n",
      "[16]\ttrain-auc:0.738864\teval-auc:0.738629\n",
      "\n",
      "[0.7397392697121947, 0.7364457435182439, 0.739657298138128, 0.7388469677739288, 0.7386292462933519]\n",
      "xgb_scotrainre_list: [0.7397392697121947, 0.7364457435182439, 0.739657298138128, 0.7388469677739288, 0.7386292462933519]\n",
      "xgb_score_mean: 0.7386637050871695\n",
      "xgb_score_std: 0.0011914858417605484\n",
      "what is kf.n_splits? 5\n"
     ]
    }
   ],
   "source": [
    "newStackingTrainingSet = pd.DataFrame(columns=[\"cat\", \"xgb\"])\n",
    "# newStackingTrainingSet[\"lgb\"] = lgb_train\n",
    "newStackingTrainingSet[\"cat\"] = cat_train\n",
    "newStackingTrainingSet[\"xgb\"] = xgb_train\n",
    "\n",
    "newStackingTestSet = pd.DataFrame(columns=[\"cat\", \"xgb\"])\n",
    "# newStackingTestSet[\"lgb\"] = lgb_test\n",
    "newStackingTestSet[\"cat\"] = cat_test\n",
    "newStackingTestSet[\"xgb\"] = xgb_test\n",
    "\n",
    "xgb_train_final, xgb_test_final = xgb_model(newStackingTrainingSet, y_train, newStackingTestSet)\n",
    "\n",
    "testA_result_pred[\"isDefault\"] = xgb_test_final\n",
    "testA_result_pred.to_csv(\"submissionResults/1129-a_a_a_b_b_a_f_b-cat_xgb+xgb-????.csv\", index=False) ## "
   ]
  },
  {
   "cell_type": "markdown",
   "metadata": {
    "heading_collapsed": true,
    "id": "kmVWMMJwyzUO"
   },
   "source": [
    "# -------(Recycle bin)-------------"
   ]
  },
  {
   "cell_type": "code",
   "execution_count": null,
   "metadata": {
    "hidden": true,
    "id": "imQT__-Mmnsb"
   },
   "outputs": [],
   "source": [
    "# new_cols = []\n",
    "\n",
    "# for col in numerical_category_manyValues: \n",
    "#     for numFea in object_serial + numerical_serial + [\"isDefault\"]: #half_serials + [\"isDefault\"]: # for numFea in [\"isDefault\"]: \n",
    "#         temp_dict = data_train.groupby([col])[numFea].agg(['mean']).reset_index().rename(columns={'mean': col + '_{}_mean'.format(numFea)})\n",
    "#         temp_dict.index = temp_dict[col].values\n",
    "#         temp_dict = temp_dict[col + '_{}_mean'.format(numFea)].to_dict()\n",
    "#         data_train[col + '_{}_mean'.format(numFea)] = data_train[col].map(temp_dict)\n",
    "#         data_test_a[col + '_{}_mean'.format(numFea)] = data_test_a[col].map(temp_dict)\n",
    "#         new_cols.append(col + '_{}_mean'.format(numFea))"
   ]
  },
  {
   "cell_type": "code",
   "execution_count": null,
   "metadata": {
    "hidden": true,
    "id": "HNM7fDoctckM"
   },
   "outputs": [],
   "source": [
    "# data_train[new_cols].isnull().sum().max()"
   ]
  },
  {
   "cell_type": "code",
   "execution_count": null,
   "metadata": {
    "hidden": true,
    "id": "iYsLd6ZpqSNv"
   },
   "outputs": [],
   "source": [
    "# from sklearn.feature_selection import SelectKBest\n",
    "# from scipy.stats import pearsonr\n",
    "# #选择K个最好的特征，返回选择特征后的数据\n",
    "# #第一个参数为计算评估特征是否好的函数，该函数输入特征矩阵和目标向量，\n",
    "# #输出二元组（评分，P值）的数组，数组第i项为第i个特征的评分和P值。在此定义为计算相关系数\n",
    "# #参数k为选择的特征个数"
   ]
  },
  {
   "cell_type": "code",
   "execution_count": null,
   "metadata": {
    "hidden": true,
    "id": "YYggb1t_rU-c"
   },
   "outputs": [],
   "source": [
    "# def selectNFeatures(numSelectedFeatures, data_train, y_train):\n",
    "\n",
    "#     data_train = data_train.fillna(axis = 1, method = \"ffill\")\n",
    "\n",
    "#     selector = SelectKBest(k=numSelectedFeatures)\n",
    "#     selector.fit(data_train, y_train)\n",
    "#     colNums = selector.get_support(True)\n",
    "#     selectedFeatures = []\n",
    "#     deletedFeatures = []\n",
    "#     for i, col in enumerate(list(data_train.columns)):\n",
    "#         if i in colNums:\n",
    "#             selectedFeatures.append(col)\n",
    "#         else: \n",
    "#             deletedFeatures.append(col)\n",
    "#     # len(selectedFeatures)\n",
    "#     # data_train = data_train[selectedFeatures]\n",
    "#     # data_test_a = data_test_a[selectedFeatures]\n",
    "#     return selectedFeatures, deletedFeatures"
   ]
  },
  {
   "cell_type": "code",
   "execution_count": null,
   "metadata": {
    "hidden": true,
    "id": "Qz0ItDYisG66"
   },
   "outputs": [],
   "source": [
    "# selectedFeatures, deletedFeatures = selectNFeatures(5, data_train[new_cols], data_train[[\"isDefault\"]])"
   ]
  },
  {
   "cell_type": "code",
   "execution_count": null,
   "metadata": {
    "hidden": true,
    "id": "NYC0ZNgJuaRB"
   },
   "outputs": [],
   "source": [
    "# data_train.drop(deletedFeatures, axis = 1, inplace=True)\n",
    "# data_test_a.drop(deletedFeatures, axis = 1, inplace=True)"
   ]
  },
  {
   "cell_type": "code",
   "execution_count": null,
   "metadata": {
    "hidden": true,
    "id": "FBFRzTgiujZC"
   },
   "outputs": [],
   "source": [
    "# data_train.shape"
   ]
  },
  {
   "cell_type": "markdown",
   "metadata": {
    "hidden": true,
    "id": "yVRPP-ssuwhN"
   },
   "source": [
    "-------------------"
   ]
  },
  {
   "cell_type": "code",
   "execution_count": null,
   "metadata": {
    "colab": {
     "base_uri": "https://localhost:8080/",
     "height": 217
    },
    "executionInfo": {
     "elapsed": 546,
     "status": "ok",
     "timestamp": 1606621317519,
     "user": {
      "displayName": "Minke Xiu",
      "photoUrl": "https://lh3.googleusercontent.com/a-/AOh14GiKrlSLM7H0tbRpIYdHPAKnVjaQdF6dZZWD9Jdd=s64",
      "userId": "01913327350585558279"
     },
     "user_tz": 300
    },
    "hidden": true,
    "id": "nLyaD_La75y8",
    "outputId": "d6eef3af-2153-4503-bd28-41422a3d2503"
   },
   "outputs": [
    {
     "data": {
      "text/html": [
       "<div>\n",
       "<style scoped>\n",
       "    .dataframe tbody tr th:only-of-type {\n",
       "        vertical-align: middle;\n",
       "    }\n",
       "\n",
       "    .dataframe tbody tr th {\n",
       "        vertical-align: top;\n",
       "    }\n",
       "\n",
       "    .dataframe thead th {\n",
       "        text-align: right;\n",
       "    }\n",
       "</style>\n",
       "<table border=\"1\" class=\"dataframe\">\n",
       "  <thead>\n",
       "    <tr style=\"text-align: right;\">\n",
       "      <th></th>\n",
       "      <th>loanAmnt</th>\n",
       "      <th>term</th>\n",
       "      <th>interestRate</th>\n",
       "      <th>installment</th>\n",
       "      <th>grade</th>\n",
       "      <th>subGrade</th>\n",
       "      <th>employmentTitle</th>\n",
       "      <th>employmentLength</th>\n",
       "      <th>homeOwnership</th>\n",
       "      <th>annualIncome</th>\n",
       "      <th>verificationStatus</th>\n",
       "      <th>purpose</th>\n",
       "      <th>postCode</th>\n",
       "      <th>regionCode</th>\n",
       "      <th>dti</th>\n",
       "      <th>delinquency_2years</th>\n",
       "      <th>ficoRangeLow</th>\n",
       "      <th>ficoRangeHigh</th>\n",
       "      <th>openAcc</th>\n",
       "      <th>pubRec</th>\n",
       "      <th>pubRecBankruptcies</th>\n",
       "      <th>revolBal</th>\n",
       "      <th>revolUtil</th>\n",
       "      <th>totalAcc</th>\n",
       "      <th>initialListStatus</th>\n",
       "      <th>applicationType</th>\n",
       "      <th>title</th>\n",
       "      <th>n0</th>\n",
       "      <th>n1</th>\n",
       "      <th>n2</th>\n",
       "      <th>n3</th>\n",
       "      <th>n4</th>\n",
       "      <th>n5</th>\n",
       "      <th>n6</th>\n",
       "      <th>n7</th>\n",
       "      <th>n8</th>\n",
       "      <th>n9</th>\n",
       "      <th>n10</th>\n",
       "      <th>n11</th>\n",
       "      <th>n12</th>\n",
       "      <th>n13</th>\n",
       "      <th>n14</th>\n",
       "      <th>issueYear</th>\n",
       "      <th>issueMonth</th>\n",
       "      <th>earliesCreditLineYear</th>\n",
       "      <th>earliesCreditLineMonth</th>\n",
       "      <th>issueDateDT</th>\n",
       "      <th>earliesCreditLineDT</th>\n",
       "      <th>grade_target_mean</th>\n",
       "      <th>subGrade_target_mean</th>\n",
       "      <th>grade_to_mean_n0</th>\n",
       "      <th>grade_to_std_n0</th>\n",
       "      <th>grade_to_mean_n1</th>\n",
       "      <th>grade_to_std_n1</th>\n",
       "      <th>grade_to_mean_n2</th>\n",
       "      <th>grade_to_std_n2</th>\n",
       "      <th>grade_to_mean_n3</th>\n",
       "      <th>grade_to_std_n3</th>\n",
       "      <th>grade_to_mean_n4</th>\n",
       "      <th>grade_to_std_n4</th>\n",
       "      <th>grade_to_mean_n5</th>\n",
       "      <th>grade_to_std_n5</th>\n",
       "      <th>grade_to_mean_n6</th>\n",
       "      <th>grade_to_std_n6</th>\n",
       "      <th>grade_to_mean_n7</th>\n",
       "      <th>grade_to_std_n7</th>\n",
       "      <th>grade_to_mean_n8</th>\n",
       "      <th>grade_to_std_n8</th>\n",
       "      <th>grade_to_mean_n9</th>\n",
       "      <th>grade_to_std_n9</th>\n",
       "      <th>grade_to_mean_n10</th>\n",
       "      <th>grade_to_std_n10</th>\n",
       "      <th>grade_to_mean_n11</th>\n",
       "      <th>grade_to_std_n11</th>\n",
       "      <th>grade_to_mean_n12</th>\n",
       "      <th>grade_to_std_n12</th>\n",
       "      <th>grade_to_mean_n13</th>\n",
       "      <th>grade_to_std_n13</th>\n",
       "      <th>grade_to_mean_n14</th>\n",
       "      <th>grade_to_std_n14</th>\n",
       "    </tr>\n",
       "  </thead>\n",
       "  <tbody>\n",
       "    <tr>\n",
       "      <th>0</th>\n",
       "      <td>35000.0</td>\n",
       "      <td>5</td>\n",
       "      <td>19.52</td>\n",
       "      <td>917.97</td>\n",
       "      <td>4</td>\n",
       "      <td>21</td>\n",
       "      <td>320.0</td>\n",
       "      <td>2.0</td>\n",
       "      <td>2</td>\n",
       "      <td>110000.0</td>\n",
       "      <td>2</td>\n",
       "      <td>1</td>\n",
       "      <td>137.0</td>\n",
       "      <td>32</td>\n",
       "      <td>17.05</td>\n",
       "      <td>1</td>\n",
       "      <td>730.0</td>\n",
       "      <td>734.0</td>\n",
       "      <td>7.0</td>\n",
       "      <td>0.0</td>\n",
       "      <td>0.0</td>\n",
       "      <td>24178.0</td>\n",
       "      <td>48.9</td>\n",
       "      <td>27.0</td>\n",
       "      <td>0</td>\n",
       "      <td>0</td>\n",
       "      <td>1.0</td>\n",
       "      <td>1</td>\n",
       "      <td>2.0</td>\n",
       "      <td>2.0</td>\n",
       "      <td>2.0</td>\n",
       "      <td>4.0</td>\n",
       "      <td>9.0</td>\n",
       "      <td>3</td>\n",
       "      <td>4.0</td>\n",
       "      <td>12.0</td>\n",
       "      <td>2.0</td>\n",
       "      <td>7.0</td>\n",
       "      <td>0.0</td>\n",
       "      <td>0.0</td>\n",
       "      <td>0.0</td>\n",
       "      <td>2.0</td>\n",
       "      <td>2014</td>\n",
       "      <td>7</td>\n",
       "      <td>2001</td>\n",
       "      <td>8</td>\n",
       "      <td>2587</td>\n",
       "      <td>-2130</td>\n",
       "      <td>0.384291</td>\n",
       "      <td>0.376903</td>\n",
       "      <td>2.342075</td>\n",
       "      <td>3.088858</td>\n",
       "      <td>2.340208</td>\n",
       "      <td>3.132197</td>\n",
       "      <td>2.483341</td>\n",
       "      <td>3.090070</td>\n",
       "      <td>2.483341</td>\n",
       "      <td>3.090070</td>\n",
       "      <td>2.290512</td>\n",
       "      <td>3.122960</td>\n",
       "      <td>2.361338</td>\n",
       "      <td>3.124309</td>\n",
       "      <td>2.307407</td>\n",
       "      <td>3.131416</td>\n",
       "      <td>2.272681</td>\n",
       "      <td>3.148661</td>\n",
       "      <td>2.293558</td>\n",
       "      <td>3.124742</td>\n",
       "      <td>2.476104</td>\n",
       "      <td>3.091823</td>\n",
       "      <td>2.290444</td>\n",
       "      <td>3.184266</td>\n",
       "      <td>2.290364</td>\n",
       "      <td>3.092694</td>\n",
       "      <td>2.279907</td>\n",
       "      <td>3.100432</td>\n",
       "      <td>2.294389</td>\n",
       "      <td>3.094492</td>\n",
       "      <td>2.290853</td>\n",
       "      <td>3.168627</td>\n",
       "    </tr>\n",
       "    <tr>\n",
       "      <th>1</th>\n",
       "      <td>18000.0</td>\n",
       "      <td>5</td>\n",
       "      <td>18.49</td>\n",
       "      <td>461.90</td>\n",
       "      <td>3</td>\n",
       "      <td>16</td>\n",
       "      <td>219843.0</td>\n",
       "      <td>5.0</td>\n",
       "      <td>0</td>\n",
       "      <td>46000.0</td>\n",
       "      <td>2</td>\n",
       "      <td>0</td>\n",
       "      <td>156.0</td>\n",
       "      <td>18</td>\n",
       "      <td>27.83</td>\n",
       "      <td>1</td>\n",
       "      <td>700.0</td>\n",
       "      <td>704.0</td>\n",
       "      <td>13.0</td>\n",
       "      <td>0.0</td>\n",
       "      <td>0.0</td>\n",
       "      <td>15096.0</td>\n",
       "      <td>38.9</td>\n",
       "      <td>18.0</td>\n",
       "      <td>1</td>\n",
       "      <td>0</td>\n",
       "      <td>1723.0</td>\n",
       "      <td>10</td>\n",
       "      <td>NaN</td>\n",
       "      <td>NaN</td>\n",
       "      <td>NaN</td>\n",
       "      <td>10.0</td>\n",
       "      <td>NaN</td>\n",
       "      <td>10</td>\n",
       "      <td>NaN</td>\n",
       "      <td>NaN</td>\n",
       "      <td>NaN</td>\n",
       "      <td>13.0</td>\n",
       "      <td>NaN</td>\n",
       "      <td>NaN</td>\n",
       "      <td>NaN</td>\n",
       "      <td>NaN</td>\n",
       "      <td>2012</td>\n",
       "      <td>8</td>\n",
       "      <td>2002</td>\n",
       "      <td>5</td>\n",
       "      <td>1888</td>\n",
       "      <td>-1857</td>\n",
       "      <td>0.303852</td>\n",
       "      <td>0.297572</td>\n",
       "      <td>1.932132</td>\n",
       "      <td>2.218701</td>\n",
       "      <td>NaN</td>\n",
       "      <td>NaN</td>\n",
       "      <td>NaN</td>\n",
       "      <td>NaN</td>\n",
       "      <td>NaN</td>\n",
       "      <td>NaN</td>\n",
       "      <td>1.799617</td>\n",
       "      <td>2.244387</td>\n",
       "      <td>NaN</td>\n",
       "      <td>NaN</td>\n",
       "      <td>1.930988</td>\n",
       "      <td>2.218109</td>\n",
       "      <td>NaN</td>\n",
       "      <td>NaN</td>\n",
       "      <td>NaN</td>\n",
       "      <td>NaN</td>\n",
       "      <td>NaN</td>\n",
       "      <td>NaN</td>\n",
       "      <td>1.721298</td>\n",
       "      <td>2.303035</td>\n",
       "      <td>NaN</td>\n",
       "      <td>NaN</td>\n",
       "      <td>NaN</td>\n",
       "      <td>NaN</td>\n",
       "      <td>NaN</td>\n",
       "      <td>NaN</td>\n",
       "      <td>NaN</td>\n",
       "      <td>NaN</td>\n",
       "    </tr>\n",
       "    <tr>\n",
       "      <th>2</th>\n",
       "      <td>12000.0</td>\n",
       "      <td>5</td>\n",
       "      <td>16.99</td>\n",
       "      <td>298.17</td>\n",
       "      <td>3</td>\n",
       "      <td>17</td>\n",
       "      <td>31698.0</td>\n",
       "      <td>8.0</td>\n",
       "      <td>0</td>\n",
       "      <td>74000.0</td>\n",
       "      <td>2</td>\n",
       "      <td>0</td>\n",
       "      <td>337.0</td>\n",
       "      <td>14</td>\n",
       "      <td>22.77</td>\n",
       "      <td>1</td>\n",
       "      <td>675.0</td>\n",
       "      <td>679.0</td>\n",
       "      <td>11.0</td>\n",
       "      <td>0.0</td>\n",
       "      <td>0.0</td>\n",
       "      <td>4606.0</td>\n",
       "      <td>51.8</td>\n",
       "      <td>27.0</td>\n",
       "      <td>0</td>\n",
       "      <td>0</td>\n",
       "      <td>0.0</td>\n",
       "      <td>1</td>\n",
       "      <td>0.0</td>\n",
       "      <td>3.0</td>\n",
       "      <td>3.0</td>\n",
       "      <td>0.0</td>\n",
       "      <td>0.0</td>\n",
       "      <td>5</td>\n",
       "      <td>4.0</td>\n",
       "      <td>5.0</td>\n",
       "      <td>3.0</td>\n",
       "      <td>11.0</td>\n",
       "      <td>0.0</td>\n",
       "      <td>0.0</td>\n",
       "      <td>0.0</td>\n",
       "      <td>4.0</td>\n",
       "      <td>2015</td>\n",
       "      <td>10</td>\n",
       "      <td>2006</td>\n",
       "      <td>5</td>\n",
       "      <td>3044</td>\n",
       "      <td>-396</td>\n",
       "      <td>0.303852</td>\n",
       "      <td>0.304015</td>\n",
       "      <td>1.756556</td>\n",
       "      <td>2.316643</td>\n",
       "      <td>1.529430</td>\n",
       "      <td>2.161567</td>\n",
       "      <td>1.816601</td>\n",
       "      <td>2.341786</td>\n",
       "      <td>1.816601</td>\n",
       "      <td>2.341786</td>\n",
       "      <td>1.366029</td>\n",
       "      <td>2.233178</td>\n",
       "      <td>1.197880</td>\n",
       "      <td>2.284330</td>\n",
       "      <td>1.678801</td>\n",
       "      <td>2.262293</td>\n",
       "      <td>1.704511</td>\n",
       "      <td>2.361495</td>\n",
       "      <td>1.577005</td>\n",
       "      <td>2.332637</td>\n",
       "      <td>1.813296</td>\n",
       "      <td>2.344317</td>\n",
       "      <td>1.707234</td>\n",
       "      <td>2.308753</td>\n",
       "      <td>1.717773</td>\n",
       "      <td>2.319520</td>\n",
       "      <td>1.709930</td>\n",
       "      <td>2.325324</td>\n",
       "      <td>1.720792</td>\n",
       "      <td>2.320869</td>\n",
       "      <td>1.444127</td>\n",
       "      <td>2.264665</td>\n",
       "    </tr>\n",
       "    <tr>\n",
       "      <th>3</th>\n",
       "      <td>11000.0</td>\n",
       "      <td>3</td>\n",
       "      <td>7.26</td>\n",
       "      <td>340.96</td>\n",
       "      <td>0</td>\n",
       "      <td>3</td>\n",
       "      <td>46854.0</td>\n",
       "      <td>10.0</td>\n",
       "      <td>1</td>\n",
       "      <td>118000.0</td>\n",
       "      <td>1</td>\n",
       "      <td>4</td>\n",
       "      <td>148.0</td>\n",
       "      <td>11</td>\n",
       "      <td>17.21</td>\n",
       "      <td>1</td>\n",
       "      <td>685.0</td>\n",
       "      <td>689.0</td>\n",
       "      <td>9.0</td>\n",
       "      <td>0.0</td>\n",
       "      <td>0.0</td>\n",
       "      <td>9948.0</td>\n",
       "      <td>52.6</td>\n",
       "      <td>28.0</td>\n",
       "      <td>1</td>\n",
       "      <td>0</td>\n",
       "      <td>4.0</td>\n",
       "      <td>4</td>\n",
       "      <td>4.0</td>\n",
       "      <td>6.0</td>\n",
       "      <td>6.0</td>\n",
       "      <td>4.0</td>\n",
       "      <td>16.0</td>\n",
       "      <td>3</td>\n",
       "      <td>7.0</td>\n",
       "      <td>21.0</td>\n",
       "      <td>6.0</td>\n",
       "      <td>9.0</td>\n",
       "      <td>0.0</td>\n",
       "      <td>0.0</td>\n",
       "      <td>0.0</td>\n",
       "      <td>1.0</td>\n",
       "      <td>2015</td>\n",
       "      <td>8</td>\n",
       "      <td>1999</td>\n",
       "      <td>5</td>\n",
       "      <td>2983</td>\n",
       "      <td>-2953</td>\n",
       "      <td>0.060375</td>\n",
       "      <td>0.067221</td>\n",
       "      <td>0.000000</td>\n",
       "      <td>0.000000</td>\n",
       "      <td>0.000000</td>\n",
       "      <td>0.000000</td>\n",
       "      <td>0.000000</td>\n",
       "      <td>0.000000</td>\n",
       "      <td>0.000000</td>\n",
       "      <td>0.000000</td>\n",
       "      <td>0.000000</td>\n",
       "      <td>0.000000</td>\n",
       "      <td>0.000000</td>\n",
       "      <td>0.000000</td>\n",
       "      <td>0.000000</td>\n",
       "      <td>0.000000</td>\n",
       "      <td>0.000000</td>\n",
       "      <td>0.000000</td>\n",
       "      <td>0.000000</td>\n",
       "      <td>0.000000</td>\n",
       "      <td>0.000000</td>\n",
       "      <td>0.000000</td>\n",
       "      <td>0.000000</td>\n",
       "      <td>0.000000</td>\n",
       "      <td>0.000000</td>\n",
       "      <td>0.000000</td>\n",
       "      <td>0.000000</td>\n",
       "      <td>0.000000</td>\n",
       "      <td>0.000000</td>\n",
       "      <td>0.000000</td>\n",
       "      <td>0.000000</td>\n",
       "      <td>0.000000</td>\n",
       "    </tr>\n",
       "    <tr>\n",
       "      <th>4</th>\n",
       "      <td>3000.0</td>\n",
       "      <td>3</td>\n",
       "      <td>12.99</td>\n",
       "      <td>101.07</td>\n",
       "      <td>2</td>\n",
       "      <td>11</td>\n",
       "      <td>54.0</td>\n",
       "      <td>NaN</td>\n",
       "      <td>1</td>\n",
       "      <td>29000.0</td>\n",
       "      <td>2</td>\n",
       "      <td>10</td>\n",
       "      <td>301.0</td>\n",
       "      <td>21</td>\n",
       "      <td>32.16</td>\n",
       "      <td>1</td>\n",
       "      <td>690.0</td>\n",
       "      <td>694.0</td>\n",
       "      <td>12.0</td>\n",
       "      <td>0.0</td>\n",
       "      <td>0.0</td>\n",
       "      <td>2942.0</td>\n",
       "      <td>32.0</td>\n",
       "      <td>27.0</td>\n",
       "      <td>0</td>\n",
       "      <td>0</td>\n",
       "      <td>11.0</td>\n",
       "      <td>2</td>\n",
       "      <td>2.0</td>\n",
       "      <td>7.0</td>\n",
       "      <td>7.0</td>\n",
       "      <td>2.0</td>\n",
       "      <td>4.0</td>\n",
       "      <td>4</td>\n",
       "      <td>10.0</td>\n",
       "      <td>15.0</td>\n",
       "      <td>7.0</td>\n",
       "      <td>12.0</td>\n",
       "      <td>0.0</td>\n",
       "      <td>0.0</td>\n",
       "      <td>0.0</td>\n",
       "      <td>4.0</td>\n",
       "      <td>2016</td>\n",
       "      <td>3</td>\n",
       "      <td>1977</td>\n",
       "      <td>8</td>\n",
       "      <td>3196</td>\n",
       "      <td>-10896</td>\n",
       "      <td>0.225020</td>\n",
       "      <td>0.206892</td>\n",
       "      <td>1.054598</td>\n",
       "      <td>1.575441</td>\n",
       "      <td>1.170104</td>\n",
       "      <td>1.566099</td>\n",
       "      <td>1.101956</td>\n",
       "      <td>1.569043</td>\n",
       "      <td>1.101956</td>\n",
       "      <td>1.569043</td>\n",
       "      <td>1.096810</td>\n",
       "      <td>1.571810</td>\n",
       "      <td>1.075744</td>\n",
       "      <td>1.566738</td>\n",
       "      <td>1.139659</td>\n",
       "      <td>1.525187</td>\n",
       "      <td>1.142249</td>\n",
       "      <td>1.541740</td>\n",
       "      <td>1.163517</td>\n",
       "      <td>1.554608</td>\n",
       "      <td>1.103551</td>\n",
       "      <td>1.566999</td>\n",
       "      <td>1.143978</td>\n",
       "      <td>1.543316</td>\n",
       "      <td>1.145182</td>\n",
       "      <td>1.546347</td>\n",
       "      <td>1.139954</td>\n",
       "      <td>1.550216</td>\n",
       "      <td>1.147194</td>\n",
       "      <td>1.547246</td>\n",
       "      <td>0.962751</td>\n",
       "      <td>1.509776</td>\n",
       "    </tr>\n",
       "  </tbody>\n",
       "</table>\n",
       "</div>"
      ],
      "text/plain": [
       "   loanAmnt  term  ...  grade_to_mean_n14  grade_to_std_n14\n",
       "0   35000.0     5  ...           2.290853          3.168627\n",
       "1   18000.0     5  ...                NaN               NaN\n",
       "2   12000.0     5  ...           1.444127          2.264665\n",
       "3   11000.0     3  ...           0.000000          0.000000\n",
       "4    3000.0     3  ...           0.962751          1.509776\n",
       "\n",
       "[5 rows x 80 columns]"
      ]
     },
     "execution_count": 28,
     "metadata": {
      "tags": []
     },
     "output_type": "execute_result"
    }
   ],
   "source": [
    "x_train.head()"
   ]
  },
  {
   "cell_type": "code",
   "execution_count": null,
   "metadata": {
    "colab": {
     "base_uri": "https://localhost:8080/"
    },
    "executionInfo": {
     "elapsed": 765,
     "status": "ok",
     "timestamp": 1606623764354,
     "user": {
      "displayName": "Minke Xiu",
      "photoUrl": "https://lh3.googleusercontent.com/a-/AOh14GiKrlSLM7H0tbRpIYdHPAKnVjaQdF6dZZWD9Jdd=s64",
      "userId": "01913327350585558279"
     },
     "user_tz": 300
    },
    "hidden": true,
    "id": "Mt9UkyMj75y8",
    "outputId": "d1e8ae2d-3555-48dd-bf91-c17559ff057f"
   },
   "outputs": [
    {
     "data": {
      "text/plain": [
       "(800000, 80)"
      ]
     },
     "execution_count": 27,
     "metadata": {
      "tags": []
     },
     "output_type": "execute_result"
    }
   ],
   "source": [
    "x_train.shape"
   ]
  },
  {
   "cell_type": "code",
   "execution_count": null,
   "metadata": {
    "colab": {
     "base_uri": "https://localhost:8080/"
    },
    "executionInfo": {
     "elapsed": 490,
     "status": "ok",
     "timestamp": 1606623765834,
     "user": {
      "displayName": "Minke Xiu",
      "photoUrl": "https://lh3.googleusercontent.com/a-/AOh14GiKrlSLM7H0tbRpIYdHPAKnVjaQdF6dZZWD9Jdd=s64",
      "userId": "01913327350585558279"
     },
     "user_tz": 300
    },
    "hidden": true,
    "id": "Je1lLn_r9b9J",
    "outputId": "4a26de47-0b34-48d8-f64a-ec2fd65be400"
   },
   "outputs": [
    {
     "data": {
      "text/plain": [
       "(200000, 80)"
      ]
     },
     "execution_count": 28,
     "metadata": {
      "tags": []
     },
     "output_type": "execute_result"
    }
   ],
   "source": [
    "x_test.shape"
   ]
  },
  {
   "cell_type": "code",
   "execution_count": null,
   "metadata": {
    "hidden": true,
    "id": "Bpow4Rnz75y9"
   },
   "outputs": [],
   "source": [
    "# x_train.isnull().sum()"
   ]
  },
  {
   "cell_type": "code",
   "execution_count": null,
   "metadata": {
    "hidden": true,
    "id": "Gtz0yVpc75y9"
   },
   "outputs": [],
   "source": [
    "# x_train = x_train.fillna(axis = 0, method = \"ffill\")\n",
    "# x_test = x_test.fillna(axis = 0, method = \"ffill\")"
   ]
  },
  {
   "cell_type": "code",
   "execution_count": null,
   "metadata": {
    "hidden": true,
    "id": "UK76uXtb75y9"
   },
   "outputs": [],
   "source": [
    "x_train.to_csv(\"preprocessedData/x_train-1110-3.7-1.csv\", index=False)\n",
    "x_test.to_csv(\"preprocessedData/x_test-1110-3.7-1.csv\", index=False)\n",
    "y_train.to_csv(\"preprocessedData/y_train-1110-3.7-1.csv\", index=False)"
   ]
  },
  {
   "cell_type": "markdown",
   "metadata": {
    "hidden": true,
    "id": "hwNUPMYNh6UC"
   },
   "source": [
    "## Optimize the memory size of the dataset\n",
    "\n",
    "No need to do this here. It is useless. \n",
    "\n",
    "You need to do it after you load the data for training model. So you have to use this method in other notebooks. "
   ]
  },
  {
   "cell_type": "code",
   "execution_count": null,
   "metadata": {
    "hidden": true,
    "id": "c86XITW4h6UD"
   },
   "outputs": [],
   "source": [
    "# reduce_mem_usage 函数通过调整数据类型，帮助我们减少数据在内存中占用的空间\n",
    "def reduce_mem_usage(df):\n",
    "    \"\"\" iterate through all the columns of a dataframe and modify the data type\n",
    "        to reduce memory usage.        \n",
    "    \"\"\"\n",
    "    start_mem = df.memory_usage().sum() \n",
    "    print('Memory usage of dataframe is {:.2f} MB'.format(start_mem))\n",
    "    \n",
    "    for col in df.columns:\n",
    "        col_type = df[col].dtype\n",
    "        \n",
    "        if col_type != object:\n",
    "            c_min = df[col].min()\n",
    "            c_max = df[col].max()\n",
    "            if str(col_type)[:3] == 'int':\n",
    "                if c_min > np.iinfo(np.int8).min and c_max < np.iinfo(np.int8).max:\n",
    "                    df[col] = df[col].astype(np.int8)\n",
    "                elif c_min > np.iinfo(np.int16).min and c_max < np.iinfo(np.int16).max:\n",
    "                    df[col] = df[col].astype(np.int16)\n",
    "                elif c_min > np.iinfo(np.int32).min and c_max < np.iinfo(np.int32).max:\n",
    "                    df[col] = df[col].astype(np.int32)\n",
    "                elif c_min > np.iinfo(np.int64).min and c_max < np.iinfo(np.int64).max:\n",
    "                    df[col] = df[col].astype(np.int64)  \n",
    "            else:\n",
    "                if c_min > np.finfo(np.float16).min and c_max < np.finfo(np.float16).max:\n",
    "                    df[col] = df[col].astype(np.float16)\n",
    "                elif c_min > np.finfo(np.float32).min and c_max < np.finfo(np.float32).max:\n",
    "                    df[col] = df[col].astype(np.float32)\n",
    "                else:\n",
    "                    df[col] = df[col].astype(np.float64)\n",
    "        else:\n",
    "            df[col] = df[col].astype('category')\n",
    "\n",
    "    end_mem = df.memory_usage().sum() \n",
    "    print('Memory usage after optimization is: {:.2f} MB'.format(end_mem))\n",
    "    print('Decreased by {:.1f}%'.format(100 * (start_mem - end_mem) / start_mem))\n",
    "    return df"
   ]
  },
  {
   "cell_type": "code",
   "execution_count": null,
   "metadata": {
    "hidden": true,
    "id": "qCTRhPGEh6UE"
   },
   "outputs": [],
   "source": [
    "# x_train_small = reduce_mem_usage(x_train)\n",
    "# x_test_small = reduce_mem_usage(x_test)"
   ]
  },
  {
   "cell_type": "markdown",
   "metadata": {
    "hidden": true,
    "id": "6JyBck_410PY"
   },
   "source": [
    "## Change the distribution of the data"
   ]
  },
  {
   "cell_type": "code",
   "execution_count": null,
   "metadata": {
    "hidden": true,
    "id": "o3sGaKAoEUr9"
   },
   "outputs": [],
   "source": [
    "x_train_cp1 = x_train.copy()\n",
    "x_test_cp1 = x_test.copy()"
   ]
  },
  {
   "cell_type": "code",
   "execution_count": null,
   "metadata": {
    "hidden": true,
    "id": "dCo67QQGIia4"
   },
   "outputs": [],
   "source": [
    "x_train = x_train_cp1.copy()\n",
    "x_test = x_test.copy()"
   ]
  },
  {
   "cell_type": "markdown",
   "metadata": {
    "hidden": true,
    "id": "8ffAB5HC14Pf"
   },
   "source": [
    "### Log all of the numerical data"
   ]
  },
  {
   "cell_type": "code",
   "execution_count": null,
   "metadata": {
    "hidden": true,
    "id": "A0GUIDpG13wO"
   },
   "outputs": [],
   "source": [
    "for data in [x_train, x_test]:\n",
    "    for fea in numerical_serial_fea:\n",
    "        if fea in [\"id\", \"purpose\", \"regionCode\"]: ## 这几个, 没法进行log操作.\n",
    "            continue\n",
    "        data[fea] = data[fea].apply(np.log1p)"
   ]
  },
  {
   "cell_type": "code",
   "execution_count": null,
   "metadata": {
    "colab": {
     "base_uri": "https://localhost:8080/",
     "height": 251
    },
    "executionInfo": {
     "elapsed": 364,
     "status": "ok",
     "timestamp": 1604608760419,
     "user": {
      "displayName": "Minke Xiu",
      "photoUrl": "https://lh3.googleusercontent.com/a-/AOh14GiKrlSLM7H0tbRpIYdHPAKnVjaQdF6dZZWD9Jdd=s64",
      "userId": "01913327350585558279"
     },
     "user_tz": 300
    },
    "hidden": true,
    "id": "6f5sWi8fHcF0",
    "outputId": "a0892e9e-2eb5-41eb-94fd-b142145f0fbb"
   },
   "outputs": [
    {
     "data": {
      "text/html": [
       "<div>\n",
       "<style scoped>\n",
       "    .dataframe tbody tr th:only-of-type {\n",
       "        vertical-align: middle;\n",
       "    }\n",
       "\n",
       "    .dataframe tbody tr th {\n",
       "        vertical-align: top;\n",
       "    }\n",
       "\n",
       "    .dataframe thead th {\n",
       "        text-align: right;\n",
       "    }\n",
       "</style>\n",
       "<table border=\"1\" class=\"dataframe\">\n",
       "  <thead>\n",
       "    <tr style=\"text-align: right;\">\n",
       "      <th></th>\n",
       "      <th>loanAmnt</th>\n",
       "      <th>term</th>\n",
       "      <th>interestRate</th>\n",
       "      <th>installment</th>\n",
       "      <th>grade</th>\n",
       "      <th>subGrade</th>\n",
       "      <th>employmentTitle</th>\n",
       "      <th>employmentLength</th>\n",
       "      <th>annualIncome</th>\n",
       "      <th>postCode</th>\n",
       "      <th>dti</th>\n",
       "      <th>delinquency_2years</th>\n",
       "      <th>ficoRangeLow</th>\n",
       "      <th>ficoRangeHigh</th>\n",
       "      <th>openAcc</th>\n",
       "      <th>pubRec</th>\n",
       "      <th>pubRecBankruptcies</th>\n",
       "      <th>revolBal</th>\n",
       "      <th>revolUtil</th>\n",
       "      <th>totalAcc</th>\n",
       "      <th>initialListStatus</th>\n",
       "      <th>applicationType</th>\n",
       "      <th>title</th>\n",
       "      <th>policyCode</th>\n",
       "      <th>n0</th>\n",
       "      <th>n1</th>\n",
       "      <th>n2</th>\n",
       "      <th>n3</th>\n",
       "      <th>n4</th>\n",
       "      <th>n5</th>\n",
       "      <th>n6</th>\n",
       "      <th>n7</th>\n",
       "      <th>n8</th>\n",
       "      <th>n9</th>\n",
       "      <th>n10</th>\n",
       "      <th>n11</th>\n",
       "      <th>n12</th>\n",
       "      <th>n13</th>\n",
       "      <th>n14</th>\n",
       "      <th>issueDateDT</th>\n",
       "      <th>...</th>\n",
       "      <th>regionCode_43</th>\n",
       "      <th>regionCode_44</th>\n",
       "      <th>regionCode_45</th>\n",
       "      <th>regionCode_46</th>\n",
       "      <th>regionCode_47</th>\n",
       "      <th>regionCode_48</th>\n",
       "      <th>regionCode_49</th>\n",
       "      <th>regionCode_50</th>\n",
       "      <th>grade_target_mean</th>\n",
       "      <th>subGrade_target_mean</th>\n",
       "      <th>grade_to_mean_n0</th>\n",
       "      <th>grade_to_std_n0</th>\n",
       "      <th>grade_to_mean_n1</th>\n",
       "      <th>grade_to_std_n1</th>\n",
       "      <th>grade_to_mean_n2</th>\n",
       "      <th>grade_to_std_n2</th>\n",
       "      <th>grade_to_mean_n3</th>\n",
       "      <th>grade_to_std_n3</th>\n",
       "      <th>grade_to_mean_n4</th>\n",
       "      <th>grade_to_std_n4</th>\n",
       "      <th>grade_to_mean_n5</th>\n",
       "      <th>grade_to_std_n5</th>\n",
       "      <th>grade_to_mean_n6</th>\n",
       "      <th>grade_to_std_n6</th>\n",
       "      <th>grade_to_mean_n7</th>\n",
       "      <th>grade_to_std_n7</th>\n",
       "      <th>grade_to_mean_n8</th>\n",
       "      <th>grade_to_std_n8</th>\n",
       "      <th>grade_to_mean_n9</th>\n",
       "      <th>grade_to_std_n9</th>\n",
       "      <th>grade_to_mean_n10</th>\n",
       "      <th>grade_to_std_n10</th>\n",
       "      <th>grade_to_mean_n11</th>\n",
       "      <th>grade_to_std_n11</th>\n",
       "      <th>grade_to_mean_n12</th>\n",
       "      <th>grade_to_std_n12</th>\n",
       "      <th>grade_to_mean_n13</th>\n",
       "      <th>grade_to_std_n13</th>\n",
       "      <th>grade_to_mean_n14</th>\n",
       "      <th>grade_to_std_n14</th>\n",
       "    </tr>\n",
       "  </thead>\n",
       "  <tbody>\n",
       "    <tr>\n",
       "      <th>0</th>\n",
       "      <td>10.463132</td>\n",
       "      <td>5</td>\n",
       "      <td>3.021400</td>\n",
       "      <td>6.823253</td>\n",
       "      <td>4</td>\n",
       "      <td>21</td>\n",
       "      <td>12.165391</td>\n",
       "      <td>1.098612</td>\n",
       "      <td>11.608245</td>\n",
       "      <td>3.806662</td>\n",
       "      <td>2.893146</td>\n",
       "      <td>0.0</td>\n",
       "      <td>6.594413</td>\n",
       "      <td>6.599870</td>\n",
       "      <td>2.079442</td>\n",
       "      <td>0.0</td>\n",
       "      <td>0.0</td>\n",
       "      <td>10.093240</td>\n",
       "      <td>3.910021</td>\n",
       "      <td>3.332205</td>\n",
       "      <td>0</td>\n",
       "      <td>0</td>\n",
       "      <td>1.098612</td>\n",
       "      <td>1.0</td>\n",
       "      <td>0.000000</td>\n",
       "      <td>1.098612</td>\n",
       "      <td>1.098612</td>\n",
       "      <td>1.098612</td>\n",
       "      <td>1.609438</td>\n",
       "      <td>2.302585</td>\n",
       "      <td>2.197225</td>\n",
       "      <td>1.609438</td>\n",
       "      <td>2.564949</td>\n",
       "      <td>1.098612</td>\n",
       "      <td>2.079442</td>\n",
       "      <td>0.0</td>\n",
       "      <td>0.0</td>\n",
       "      <td>0.000000e+00</td>\n",
       "      <td>1.098612</td>\n",
       "      <td>2587</td>\n",
       "      <td>...</td>\n",
       "      <td>0</td>\n",
       "      <td>0</td>\n",
       "      <td>0</td>\n",
       "      <td>0</td>\n",
       "      <td>0</td>\n",
       "      <td>0</td>\n",
       "      <td>0</td>\n",
       "      <td>0</td>\n",
       "      <td>0.384291</td>\n",
       "      <td>0.376903</td>\n",
       "      <td>2.343157</td>\n",
       "      <td>3.087470</td>\n",
       "      <td>2.340208</td>\n",
       "      <td>3.132197</td>\n",
       "      <td>2.483341</td>\n",
       "      <td>3.090070</td>\n",
       "      <td>2.483341</td>\n",
       "      <td>3.090070</td>\n",
       "      <td>2.290512</td>\n",
       "      <td>3.122960</td>\n",
       "      <td>2.361338</td>\n",
       "      <td>3.124309</td>\n",
       "      <td>2.321539</td>\n",
       "      <td>3.098429</td>\n",
       "      <td>2.272681</td>\n",
       "      <td>3.148661</td>\n",
       "      <td>2.293558</td>\n",
       "      <td>3.124742</td>\n",
       "      <td>2.476104</td>\n",
       "      <td>3.091823</td>\n",
       "      <td>2.290444</td>\n",
       "      <td>3.184266</td>\n",
       "      <td>2.291804</td>\n",
       "      <td>3.090643</td>\n",
       "      <td>2.292831</td>\n",
       "      <td>3.091214</td>\n",
       "      <td>2.302359</td>\n",
       "      <td>3.088676</td>\n",
       "      <td>2.290853</td>\n",
       "      <td>3.168627</td>\n",
       "    </tr>\n",
       "    <tr>\n",
       "      <th>1</th>\n",
       "      <td>9.798183</td>\n",
       "      <td>5</td>\n",
       "      <td>2.969902</td>\n",
       "      <td>6.137511</td>\n",
       "      <td>3</td>\n",
       "      <td>16</td>\n",
       "      <td>11.559189</td>\n",
       "      <td>1.791759</td>\n",
       "      <td>10.736418</td>\n",
       "      <td>4.189655</td>\n",
       "      <td>3.361417</td>\n",
       "      <td>0.0</td>\n",
       "      <td>6.552508</td>\n",
       "      <td>6.558198</td>\n",
       "      <td>2.639057</td>\n",
       "      <td>0.0</td>\n",
       "      <td>0.0</td>\n",
       "      <td>9.622251</td>\n",
       "      <td>3.686376</td>\n",
       "      <td>2.944439</td>\n",
       "      <td>1</td>\n",
       "      <td>0</td>\n",
       "      <td>8.752740</td>\n",
       "      <td>1.0</td>\n",
       "      <td>NaN</td>\n",
       "      <td>NaN</td>\n",
       "      <td>1.575551</td>\n",
       "      <td>1.575551</td>\n",
       "      <td>2.397895</td>\n",
       "      <td>NaN</td>\n",
       "      <td>2.803331</td>\n",
       "      <td>2.564964</td>\n",
       "      <td>NaN</td>\n",
       "      <td>1.575551</td>\n",
       "      <td>2.639057</td>\n",
       "      <td>0.0</td>\n",
       "      <td>0.0</td>\n",
       "      <td>1.171916e-16</td>\n",
       "      <td>2.917780</td>\n",
       "      <td>1888</td>\n",
       "      <td>...</td>\n",
       "      <td>0</td>\n",
       "      <td>0</td>\n",
       "      <td>0</td>\n",
       "      <td>0</td>\n",
       "      <td>0</td>\n",
       "      <td>0</td>\n",
       "      <td>0</td>\n",
       "      <td>0</td>\n",
       "      <td>0.303852</td>\n",
       "      <td>0.297572</td>\n",
       "      <td>1.000000</td>\n",
       "      <td>NaN</td>\n",
       "      <td>1.000000</td>\n",
       "      <td>NaN</td>\n",
       "      <td>1.000000</td>\n",
       "      <td>NaN</td>\n",
       "      <td>1.000000</td>\n",
       "      <td>NaN</td>\n",
       "      <td>1.799617</td>\n",
       "      <td>2.244387</td>\n",
       "      <td>1.000000</td>\n",
       "      <td>NaN</td>\n",
       "      <td>1.000000</td>\n",
       "      <td>NaN</td>\n",
       "      <td>1.000000</td>\n",
       "      <td>NaN</td>\n",
       "      <td>1.000000</td>\n",
       "      <td>NaN</td>\n",
       "      <td>1.000000</td>\n",
       "      <td>NaN</td>\n",
       "      <td>1.721298</td>\n",
       "      <td>2.303035</td>\n",
       "      <td>1.718853</td>\n",
       "      <td>2.317982</td>\n",
       "      <td>1.719624</td>\n",
       "      <td>2.318411</td>\n",
       "      <td>1.000000</td>\n",
       "      <td>NaN</td>\n",
       "      <td>1.000000</td>\n",
       "      <td>NaN</td>\n",
       "    </tr>\n",
       "    <tr>\n",
       "      <th>2</th>\n",
       "      <td>9.392745</td>\n",
       "      <td>5</td>\n",
       "      <td>2.889816</td>\n",
       "      <td>5.701012</td>\n",
       "      <td>3</td>\n",
       "      <td>17</td>\n",
       "      <td>12.152202</td>\n",
       "      <td>2.197225</td>\n",
       "      <td>11.211834</td>\n",
       "      <td>5.587249</td>\n",
       "      <td>3.168424</td>\n",
       "      <td>0.0</td>\n",
       "      <td>6.516193</td>\n",
       "      <td>6.522093</td>\n",
       "      <td>2.484907</td>\n",
       "      <td>0.0</td>\n",
       "      <td>0.0</td>\n",
       "      <td>8.435332</td>\n",
       "      <td>3.966511</td>\n",
       "      <td>3.332205</td>\n",
       "      <td>0</td>\n",
       "      <td>0</td>\n",
       "      <td>0.693147</td>\n",
       "      <td>1.0</td>\n",
       "      <td>0.000000</td>\n",
       "      <td>0.000000</td>\n",
       "      <td>1.386294</td>\n",
       "      <td>1.386294</td>\n",
       "      <td>0.000000</td>\n",
       "      <td>0.000000</td>\n",
       "      <td>3.091042</td>\n",
       "      <td>1.609438</td>\n",
       "      <td>1.791759</td>\n",
       "      <td>1.386294</td>\n",
       "      <td>2.484907</td>\n",
       "      <td>0.0</td>\n",
       "      <td>0.0</td>\n",
       "      <td>0.000000e+00</td>\n",
       "      <td>1.609438</td>\n",
       "      <td>3044</td>\n",
       "      <td>...</td>\n",
       "      <td>0</td>\n",
       "      <td>0</td>\n",
       "      <td>0</td>\n",
       "      <td>0</td>\n",
       "      <td>0</td>\n",
       "      <td>0</td>\n",
       "      <td>0</td>\n",
       "      <td>0</td>\n",
       "      <td>0.303852</td>\n",
       "      <td>0.304015</td>\n",
       "      <td>1.757368</td>\n",
       "      <td>2.315603</td>\n",
       "      <td>1.531220</td>\n",
       "      <td>2.161958</td>\n",
       "      <td>1.816601</td>\n",
       "      <td>2.341786</td>\n",
       "      <td>1.816601</td>\n",
       "      <td>2.341786</td>\n",
       "      <td>1.369429</td>\n",
       "      <td>2.229075</td>\n",
       "      <td>1.217917</td>\n",
       "      <td>2.250570</td>\n",
       "      <td>1.660906</td>\n",
       "      <td>2.248760</td>\n",
       "      <td>1.704511</td>\n",
       "      <td>2.361495</td>\n",
       "      <td>1.577005</td>\n",
       "      <td>2.332637</td>\n",
       "      <td>1.813296</td>\n",
       "      <td>2.344317</td>\n",
       "      <td>1.707234</td>\n",
       "      <td>2.308753</td>\n",
       "      <td>1.718853</td>\n",
       "      <td>2.317982</td>\n",
       "      <td>1.719624</td>\n",
       "      <td>2.318411</td>\n",
       "      <td>1.726769</td>\n",
       "      <td>2.316507</td>\n",
       "      <td>1.444127</td>\n",
       "      <td>2.264665</td>\n",
       "    </tr>\n",
       "    <tr>\n",
       "      <th>3</th>\n",
       "      <td>9.305741</td>\n",
       "      <td>3</td>\n",
       "      <td>2.111425</td>\n",
       "      <td>5.834694</td>\n",
       "      <td>0</td>\n",
       "      <td>3</td>\n",
       "      <td>12.427747</td>\n",
       "      <td>2.397895</td>\n",
       "      <td>11.678448</td>\n",
       "      <td>4.043051</td>\n",
       "      <td>2.901971</td>\n",
       "      <td>0.0</td>\n",
       "      <td>6.530878</td>\n",
       "      <td>6.536692</td>\n",
       "      <td>2.302585</td>\n",
       "      <td>0.0</td>\n",
       "      <td>0.0</td>\n",
       "      <td>9.205227</td>\n",
       "      <td>3.981549</td>\n",
       "      <td>3.367296</td>\n",
       "      <td>1</td>\n",
       "      <td>0</td>\n",
       "      <td>10.173591</td>\n",
       "      <td>1.0</td>\n",
       "      <td>1.945910</td>\n",
       "      <td>1.609438</td>\n",
       "      <td>1.945910</td>\n",
       "      <td>1.945910</td>\n",
       "      <td>1.609438</td>\n",
       "      <td>2.833213</td>\n",
       "      <td>1.609438</td>\n",
       "      <td>2.079442</td>\n",
       "      <td>3.091042</td>\n",
       "      <td>1.945910</td>\n",
       "      <td>2.302585</td>\n",
       "      <td>0.0</td>\n",
       "      <td>0.0</td>\n",
       "      <td>0.000000e+00</td>\n",
       "      <td>0.693147</td>\n",
       "      <td>2983</td>\n",
       "      <td>...</td>\n",
       "      <td>0</td>\n",
       "      <td>0</td>\n",
       "      <td>0</td>\n",
       "      <td>0</td>\n",
       "      <td>0</td>\n",
       "      <td>0</td>\n",
       "      <td>0</td>\n",
       "      <td>0</td>\n",
       "      <td>0.060375</td>\n",
       "      <td>0.067221</td>\n",
       "      <td>0.000000</td>\n",
       "      <td>0.000000</td>\n",
       "      <td>0.000000</td>\n",
       "      <td>0.000000</td>\n",
       "      <td>0.000000</td>\n",
       "      <td>0.000000</td>\n",
       "      <td>0.000000</td>\n",
       "      <td>0.000000</td>\n",
       "      <td>0.000000</td>\n",
       "      <td>0.000000</td>\n",
       "      <td>0.000000</td>\n",
       "      <td>0.000000</td>\n",
       "      <td>0.000000</td>\n",
       "      <td>0.000000</td>\n",
       "      <td>0.000000</td>\n",
       "      <td>0.000000</td>\n",
       "      <td>0.000000</td>\n",
       "      <td>0.000000</td>\n",
       "      <td>0.000000</td>\n",
       "      <td>0.000000</td>\n",
       "      <td>0.000000</td>\n",
       "      <td>0.000000</td>\n",
       "      <td>0.000000</td>\n",
       "      <td>0.000000</td>\n",
       "      <td>0.000000</td>\n",
       "      <td>0.000000</td>\n",
       "      <td>0.000000</td>\n",
       "      <td>0.000000</td>\n",
       "      <td>0.000000</td>\n",
       "      <td>0.000000</td>\n",
       "    </tr>\n",
       "    <tr>\n",
       "      <th>4</th>\n",
       "      <td>8.006701</td>\n",
       "      <td>3</td>\n",
       "      <td>2.638343</td>\n",
       "      <td>4.625659</td>\n",
       "      <td>2</td>\n",
       "      <td>11</td>\n",
       "      <td>12.453983</td>\n",
       "      <td>2.126529</td>\n",
       "      <td>10.275086</td>\n",
       "      <td>5.429346</td>\n",
       "      <td>3.501344</td>\n",
       "      <td>0.0</td>\n",
       "      <td>6.538140</td>\n",
       "      <td>6.543912</td>\n",
       "      <td>2.564949</td>\n",
       "      <td>0.0</td>\n",
       "      <td>0.0</td>\n",
       "      <td>7.987185</td>\n",
       "      <td>3.496508</td>\n",
       "      <td>3.332205</td>\n",
       "      <td>0</td>\n",
       "      <td>0</td>\n",
       "      <td>6.815640</td>\n",
       "      <td>1.0</td>\n",
       "      <td>0.693147</td>\n",
       "      <td>1.098612</td>\n",
       "      <td>2.079442</td>\n",
       "      <td>2.079442</td>\n",
       "      <td>1.098612</td>\n",
       "      <td>1.609438</td>\n",
       "      <td>2.302585</td>\n",
       "      <td>2.397895</td>\n",
       "      <td>2.772589</td>\n",
       "      <td>2.079442</td>\n",
       "      <td>2.564949</td>\n",
       "      <td>0.0</td>\n",
       "      <td>0.0</td>\n",
       "      <td>0.000000e+00</td>\n",
       "      <td>1.609438</td>\n",
       "      <td>3196</td>\n",
       "      <td>...</td>\n",
       "      <td>0</td>\n",
       "      <td>0</td>\n",
       "      <td>0</td>\n",
       "      <td>0</td>\n",
       "      <td>0</td>\n",
       "      <td>0</td>\n",
       "      <td>0</td>\n",
       "      <td>0</td>\n",
       "      <td>0.225020</td>\n",
       "      <td>0.206892</td>\n",
       "      <td>1.054598</td>\n",
       "      <td>1.575441</td>\n",
       "      <td>1.170104</td>\n",
       "      <td>1.566099</td>\n",
       "      <td>1.101956</td>\n",
       "      <td>1.569043</td>\n",
       "      <td>1.101956</td>\n",
       "      <td>1.569043</td>\n",
       "      <td>1.096810</td>\n",
       "      <td>1.571810</td>\n",
       "      <td>1.075744</td>\n",
       "      <td>1.566738</td>\n",
       "      <td>1.154910</td>\n",
       "      <td>1.534359</td>\n",
       "      <td>1.142249</td>\n",
       "      <td>1.541740</td>\n",
       "      <td>1.163517</td>\n",
       "      <td>1.554608</td>\n",
       "      <td>1.103551</td>\n",
       "      <td>1.566999</td>\n",
       "      <td>1.143978</td>\n",
       "      <td>1.543316</td>\n",
       "      <td>1.145902</td>\n",
       "      <td>1.545322</td>\n",
       "      <td>1.146416</td>\n",
       "      <td>1.545607</td>\n",
       "      <td>1.151179</td>\n",
       "      <td>1.544338</td>\n",
       "      <td>0.962751</td>\n",
       "      <td>1.509776</td>\n",
       "    </tr>\n",
       "  </tbody>\n",
       "</table>\n",
       "<p>5 rows × 143 columns</p>\n",
       "</div>"
      ],
      "text/plain": [
       "    loanAmnt  term  ...  grade_to_mean_n14  grade_to_std_n14\n",
       "0  10.463132     5  ...           2.290853          3.168627\n",
       "1   9.798183     5  ...           1.000000               NaN\n",
       "2   9.392745     5  ...           1.444127          2.264665\n",
       "3   9.305741     3  ...           0.000000          0.000000\n",
       "4   8.006701     3  ...           0.962751          1.509776\n",
       "\n",
       "[5 rows x 143 columns]"
      ]
     },
     "execution_count": 46,
     "metadata": {
      "tags": []
     },
     "output_type": "execute_result"
    }
   ],
   "source": [
    "x_train.head()"
   ]
  },
  {
   "cell_type": "code",
   "execution_count": null,
   "metadata": {
    "colab": {
     "base_uri": "https://localhost:8080/",
     "height": 251
    },
    "executionInfo": {
     "elapsed": 382,
     "status": "ok",
     "timestamp": 1604608766869,
     "user": {
      "displayName": "Minke Xiu",
      "photoUrl": "https://lh3.googleusercontent.com/a-/AOh14GiKrlSLM7H0tbRpIYdHPAKnVjaQdF6dZZWD9Jdd=s64",
      "userId": "01913327350585558279"
     },
     "user_tz": 300
    },
    "hidden": true,
    "id": "zbzhNIzkHeub",
    "outputId": "359d4980-62de-4928-8c1b-96ebb5de5056"
   },
   "outputs": [
    {
     "data": {
      "text/html": [
       "<div>\n",
       "<style scoped>\n",
       "    .dataframe tbody tr th:only-of-type {\n",
       "        vertical-align: middle;\n",
       "    }\n",
       "\n",
       "    .dataframe tbody tr th {\n",
       "        vertical-align: top;\n",
       "    }\n",
       "\n",
       "    .dataframe thead th {\n",
       "        text-align: right;\n",
       "    }\n",
       "</style>\n",
       "<table border=\"1\" class=\"dataframe\">\n",
       "  <thead>\n",
       "    <tr style=\"text-align: right;\">\n",
       "      <th></th>\n",
       "      <th>loanAmnt</th>\n",
       "      <th>term</th>\n",
       "      <th>interestRate</th>\n",
       "      <th>installment</th>\n",
       "      <th>grade</th>\n",
       "      <th>subGrade</th>\n",
       "      <th>employmentTitle</th>\n",
       "      <th>employmentLength</th>\n",
       "      <th>annualIncome</th>\n",
       "      <th>postCode</th>\n",
       "      <th>dti</th>\n",
       "      <th>delinquency_2years</th>\n",
       "      <th>ficoRangeLow</th>\n",
       "      <th>ficoRangeHigh</th>\n",
       "      <th>openAcc</th>\n",
       "      <th>pubRec</th>\n",
       "      <th>pubRecBankruptcies</th>\n",
       "      <th>revolBal</th>\n",
       "      <th>revolUtil</th>\n",
       "      <th>totalAcc</th>\n",
       "      <th>initialListStatus</th>\n",
       "      <th>applicationType</th>\n",
       "      <th>title</th>\n",
       "      <th>policyCode</th>\n",
       "      <th>n0</th>\n",
       "      <th>n1</th>\n",
       "      <th>n2</th>\n",
       "      <th>n3</th>\n",
       "      <th>n4</th>\n",
       "      <th>n5</th>\n",
       "      <th>n6</th>\n",
       "      <th>n7</th>\n",
       "      <th>n8</th>\n",
       "      <th>n9</th>\n",
       "      <th>n10</th>\n",
       "      <th>n11</th>\n",
       "      <th>n12</th>\n",
       "      <th>n13</th>\n",
       "      <th>n14</th>\n",
       "      <th>issueDateDT</th>\n",
       "      <th>...</th>\n",
       "      <th>regionCode_43</th>\n",
       "      <th>regionCode_44</th>\n",
       "      <th>regionCode_45</th>\n",
       "      <th>regionCode_46</th>\n",
       "      <th>regionCode_47</th>\n",
       "      <th>regionCode_48</th>\n",
       "      <th>regionCode_49</th>\n",
       "      <th>regionCode_50</th>\n",
       "      <th>grade_target_mean</th>\n",
       "      <th>subGrade_target_mean</th>\n",
       "      <th>grade_to_mean_n0</th>\n",
       "      <th>grade_to_std_n0</th>\n",
       "      <th>grade_to_mean_n1</th>\n",
       "      <th>grade_to_std_n1</th>\n",
       "      <th>grade_to_mean_n2</th>\n",
       "      <th>grade_to_std_n2</th>\n",
       "      <th>grade_to_mean_n3</th>\n",
       "      <th>grade_to_std_n3</th>\n",
       "      <th>grade_to_mean_n4</th>\n",
       "      <th>grade_to_std_n4</th>\n",
       "      <th>grade_to_mean_n5</th>\n",
       "      <th>grade_to_std_n5</th>\n",
       "      <th>grade_to_mean_n6</th>\n",
       "      <th>grade_to_std_n6</th>\n",
       "      <th>grade_to_mean_n7</th>\n",
       "      <th>grade_to_std_n7</th>\n",
       "      <th>grade_to_mean_n8</th>\n",
       "      <th>grade_to_std_n8</th>\n",
       "      <th>grade_to_mean_n9</th>\n",
       "      <th>grade_to_std_n9</th>\n",
       "      <th>grade_to_mean_n10</th>\n",
       "      <th>grade_to_std_n10</th>\n",
       "      <th>grade_to_mean_n11</th>\n",
       "      <th>grade_to_std_n11</th>\n",
       "      <th>grade_to_mean_n12</th>\n",
       "      <th>grade_to_std_n12</th>\n",
       "      <th>grade_to_mean_n13</th>\n",
       "      <th>grade_to_std_n13</th>\n",
       "      <th>grade_to_mean_n14</th>\n",
       "      <th>grade_to_std_n14</th>\n",
       "    </tr>\n",
       "  </thead>\n",
       "  <tbody>\n",
       "    <tr>\n",
       "      <th>0</th>\n",
       "      <td>35000.0</td>\n",
       "      <td>5</td>\n",
       "      <td>19.52</td>\n",
       "      <td>917.97</td>\n",
       "      <td>4</td>\n",
       "      <td>21</td>\n",
       "      <td>192026</td>\n",
       "      <td>2.000000</td>\n",
       "      <td>110000.0</td>\n",
       "      <td>44</td>\n",
       "      <td>17.05</td>\n",
       "      <td>0.0</td>\n",
       "      <td>730.0</td>\n",
       "      <td>734.0</td>\n",
       "      <td>7.0</td>\n",
       "      <td>0.0</td>\n",
       "      <td>0.0</td>\n",
       "      <td>24178.0</td>\n",
       "      <td>48.9</td>\n",
       "      <td>27.0</td>\n",
       "      <td>0</td>\n",
       "      <td>0</td>\n",
       "      <td>2</td>\n",
       "      <td>1.0</td>\n",
       "      <td>0.000000</td>\n",
       "      <td>2.000000</td>\n",
       "      <td>2.000000</td>\n",
       "      <td>2.000000</td>\n",
       "      <td>4.0</td>\n",
       "      <td>9.000000</td>\n",
       "      <td>8.000000</td>\n",
       "      <td>4.00000</td>\n",
       "      <td>12.00000</td>\n",
       "      <td>2.000000</td>\n",
       "      <td>7.0</td>\n",
       "      <td>0.0</td>\n",
       "      <td>0.0</td>\n",
       "      <td>0.000000e+00</td>\n",
       "      <td>2.000000</td>\n",
       "      <td>2587</td>\n",
       "      <td>...</td>\n",
       "      <td>0</td>\n",
       "      <td>0</td>\n",
       "      <td>0</td>\n",
       "      <td>0</td>\n",
       "      <td>0</td>\n",
       "      <td>0</td>\n",
       "      <td>0</td>\n",
       "      <td>0</td>\n",
       "      <td>0.384291</td>\n",
       "      <td>0.376903</td>\n",
       "      <td>2.343157</td>\n",
       "      <td>3.087470</td>\n",
       "      <td>2.340208</td>\n",
       "      <td>3.132197</td>\n",
       "      <td>2.483341</td>\n",
       "      <td>3.090070</td>\n",
       "      <td>2.483341</td>\n",
       "      <td>3.090070</td>\n",
       "      <td>2.290512</td>\n",
       "      <td>3.122960</td>\n",
       "      <td>2.361338</td>\n",
       "      <td>3.124309</td>\n",
       "      <td>2.321539</td>\n",
       "      <td>3.098429</td>\n",
       "      <td>2.272681</td>\n",
       "      <td>3.148661</td>\n",
       "      <td>2.293558</td>\n",
       "      <td>3.124742</td>\n",
       "      <td>2.476104</td>\n",
       "      <td>3.091823</td>\n",
       "      <td>2.290444</td>\n",
       "      <td>3.184266</td>\n",
       "      <td>2.291804</td>\n",
       "      <td>3.090643</td>\n",
       "      <td>2.292831</td>\n",
       "      <td>3.091214</td>\n",
       "      <td>2.302359</td>\n",
       "      <td>3.088676</td>\n",
       "      <td>2.290853</td>\n",
       "      <td>3.168627</td>\n",
       "    </tr>\n",
       "    <tr>\n",
       "      <th>1</th>\n",
       "      <td>18000.0</td>\n",
       "      <td>5</td>\n",
       "      <td>18.49</td>\n",
       "      <td>461.90</td>\n",
       "      <td>3</td>\n",
       "      <td>16</td>\n",
       "      <td>104734</td>\n",
       "      <td>5.000000</td>\n",
       "      <td>46000.0</td>\n",
       "      <td>65</td>\n",
       "      <td>27.83</td>\n",
       "      <td>0.0</td>\n",
       "      <td>700.0</td>\n",
       "      <td>704.0</td>\n",
       "      <td>13.0</td>\n",
       "      <td>0.0</td>\n",
       "      <td>0.0</td>\n",
       "      <td>15096.0</td>\n",
       "      <td>38.9</td>\n",
       "      <td>18.0</td>\n",
       "      <td>1</td>\n",
       "      <td>0</td>\n",
       "      <td>6327</td>\n",
       "      <td>1.0</td>\n",
       "      <td>-29.500403</td>\n",
       "      <td>-8.833409</td>\n",
       "      <td>3.833404</td>\n",
       "      <td>3.833404</td>\n",
       "      <td>10.0</td>\n",
       "      <td>-41.000365</td>\n",
       "      <td>15.499512</td>\n",
       "      <td>12.00019</td>\n",
       "      <td>-18.00007</td>\n",
       "      <td>3.833404</td>\n",
       "      <td>13.0</td>\n",
       "      <td>0.0</td>\n",
       "      <td>0.0</td>\n",
       "      <td>1.171916e-16</td>\n",
       "      <td>17.500178</td>\n",
       "      <td>1888</td>\n",
       "      <td>...</td>\n",
       "      <td>0</td>\n",
       "      <td>0</td>\n",
       "      <td>0</td>\n",
       "      <td>0</td>\n",
       "      <td>0</td>\n",
       "      <td>0</td>\n",
       "      <td>0</td>\n",
       "      <td>0</td>\n",
       "      <td>0.303852</td>\n",
       "      <td>0.297572</td>\n",
       "      <td>1.000000</td>\n",
       "      <td>NaN</td>\n",
       "      <td>1.000000</td>\n",
       "      <td>NaN</td>\n",
       "      <td>1.000000</td>\n",
       "      <td>NaN</td>\n",
       "      <td>1.000000</td>\n",
       "      <td>NaN</td>\n",
       "      <td>1.799617</td>\n",
       "      <td>2.244387</td>\n",
       "      <td>1.000000</td>\n",
       "      <td>NaN</td>\n",
       "      <td>1.000000</td>\n",
       "      <td>NaN</td>\n",
       "      <td>1.000000</td>\n",
       "      <td>NaN</td>\n",
       "      <td>1.000000</td>\n",
       "      <td>NaN</td>\n",
       "      <td>1.000000</td>\n",
       "      <td>NaN</td>\n",
       "      <td>1.721298</td>\n",
       "      <td>2.303035</td>\n",
       "      <td>1.718853</td>\n",
       "      <td>2.317982</td>\n",
       "      <td>1.719624</td>\n",
       "      <td>2.318411</td>\n",
       "      <td>1.000000</td>\n",
       "      <td>NaN</td>\n",
       "      <td>1.000000</td>\n",
       "      <td>NaN</td>\n",
       "    </tr>\n",
       "    <tr>\n",
       "      <th>2</th>\n",
       "      <td>12000.0</td>\n",
       "      <td>5</td>\n",
       "      <td>16.99</td>\n",
       "      <td>298.17</td>\n",
       "      <td>3</td>\n",
       "      <td>17</td>\n",
       "      <td>189510</td>\n",
       "      <td>8.000000</td>\n",
       "      <td>74000.0</td>\n",
       "      <td>266</td>\n",
       "      <td>22.77</td>\n",
       "      <td>0.0</td>\n",
       "      <td>675.0</td>\n",
       "      <td>679.0</td>\n",
       "      <td>11.0</td>\n",
       "      <td>0.0</td>\n",
       "      <td>0.0</td>\n",
       "      <td>4606.0</td>\n",
       "      <td>51.8</td>\n",
       "      <td>27.0</td>\n",
       "      <td>0</td>\n",
       "      <td>0</td>\n",
       "      <td>1</td>\n",
       "      <td>1.0</td>\n",
       "      <td>0.000000</td>\n",
       "      <td>0.000000</td>\n",
       "      <td>3.000000</td>\n",
       "      <td>3.000000</td>\n",
       "      <td>0.0</td>\n",
       "      <td>0.000000</td>\n",
       "      <td>21.000000</td>\n",
       "      <td>4.00000</td>\n",
       "      <td>5.00000</td>\n",
       "      <td>3.000000</td>\n",
       "      <td>11.0</td>\n",
       "      <td>0.0</td>\n",
       "      <td>0.0</td>\n",
       "      <td>0.000000e+00</td>\n",
       "      <td>4.000000</td>\n",
       "      <td>3044</td>\n",
       "      <td>...</td>\n",
       "      <td>0</td>\n",
       "      <td>0</td>\n",
       "      <td>0</td>\n",
       "      <td>0</td>\n",
       "      <td>0</td>\n",
       "      <td>0</td>\n",
       "      <td>0</td>\n",
       "      <td>0</td>\n",
       "      <td>0.303852</td>\n",
       "      <td>0.304015</td>\n",
       "      <td>1.757368</td>\n",
       "      <td>2.315603</td>\n",
       "      <td>1.531220</td>\n",
       "      <td>2.161958</td>\n",
       "      <td>1.816601</td>\n",
       "      <td>2.341786</td>\n",
       "      <td>1.816601</td>\n",
       "      <td>2.341786</td>\n",
       "      <td>1.369429</td>\n",
       "      <td>2.229075</td>\n",
       "      <td>1.217917</td>\n",
       "      <td>2.250570</td>\n",
       "      <td>1.660906</td>\n",
       "      <td>2.248760</td>\n",
       "      <td>1.704511</td>\n",
       "      <td>2.361495</td>\n",
       "      <td>1.577005</td>\n",
       "      <td>2.332637</td>\n",
       "      <td>1.813296</td>\n",
       "      <td>2.344317</td>\n",
       "      <td>1.707234</td>\n",
       "      <td>2.308753</td>\n",
       "      <td>1.718853</td>\n",
       "      <td>2.317982</td>\n",
       "      <td>1.719624</td>\n",
       "      <td>2.318411</td>\n",
       "      <td>1.726769</td>\n",
       "      <td>2.316507</td>\n",
       "      <td>1.444127</td>\n",
       "      <td>2.264665</td>\n",
       "    </tr>\n",
       "    <tr>\n",
       "      <th>3</th>\n",
       "      <td>11000.0</td>\n",
       "      <td>3</td>\n",
       "      <td>7.26</td>\n",
       "      <td>340.96</td>\n",
       "      <td>0</td>\n",
       "      <td>3</td>\n",
       "      <td>249632</td>\n",
       "      <td>10.000000</td>\n",
       "      <td>118000.0</td>\n",
       "      <td>56</td>\n",
       "      <td>17.21</td>\n",
       "      <td>0.0</td>\n",
       "      <td>685.0</td>\n",
       "      <td>689.0</td>\n",
       "      <td>9.0</td>\n",
       "      <td>0.0</td>\n",
       "      <td>0.0</td>\n",
       "      <td>9948.0</td>\n",
       "      <td>52.6</td>\n",
       "      <td>28.0</td>\n",
       "      <td>1</td>\n",
       "      <td>0</td>\n",
       "      <td>26201</td>\n",
       "      <td>1.0</td>\n",
       "      <td>6.000000</td>\n",
       "      <td>4.000000</td>\n",
       "      <td>6.000000</td>\n",
       "      <td>6.000000</td>\n",
       "      <td>4.0</td>\n",
       "      <td>16.000000</td>\n",
       "      <td>4.000000</td>\n",
       "      <td>7.00000</td>\n",
       "      <td>21.00000</td>\n",
       "      <td>6.000000</td>\n",
       "      <td>9.0</td>\n",
       "      <td>0.0</td>\n",
       "      <td>0.0</td>\n",
       "      <td>0.000000e+00</td>\n",
       "      <td>1.000000</td>\n",
       "      <td>2983</td>\n",
       "      <td>...</td>\n",
       "      <td>0</td>\n",
       "      <td>0</td>\n",
       "      <td>0</td>\n",
       "      <td>0</td>\n",
       "      <td>0</td>\n",
       "      <td>0</td>\n",
       "      <td>0</td>\n",
       "      <td>0</td>\n",
       "      <td>0.060375</td>\n",
       "      <td>0.067221</td>\n",
       "      <td>0.000000</td>\n",
       "      <td>0.000000</td>\n",
       "      <td>0.000000</td>\n",
       "      <td>0.000000</td>\n",
       "      <td>0.000000</td>\n",
       "      <td>0.000000</td>\n",
       "      <td>0.000000</td>\n",
       "      <td>0.000000</td>\n",
       "      <td>0.000000</td>\n",
       "      <td>0.000000</td>\n",
       "      <td>0.000000</td>\n",
       "      <td>0.000000</td>\n",
       "      <td>0.000000</td>\n",
       "      <td>0.000000</td>\n",
       "      <td>0.000000</td>\n",
       "      <td>0.000000</td>\n",
       "      <td>0.000000</td>\n",
       "      <td>0.000000</td>\n",
       "      <td>0.000000</td>\n",
       "      <td>0.000000</td>\n",
       "      <td>0.000000</td>\n",
       "      <td>0.000000</td>\n",
       "      <td>0.000000</td>\n",
       "      <td>0.000000</td>\n",
       "      <td>0.000000</td>\n",
       "      <td>0.000000</td>\n",
       "      <td>0.000000</td>\n",
       "      <td>0.000000</td>\n",
       "      <td>0.000000</td>\n",
       "      <td>0.000000</td>\n",
       "    </tr>\n",
       "    <tr>\n",
       "      <th>4</th>\n",
       "      <td>3000.0</td>\n",
       "      <td>3</td>\n",
       "      <td>12.99</td>\n",
       "      <td>101.07</td>\n",
       "      <td>2</td>\n",
       "      <td>11</td>\n",
       "      <td>256268</td>\n",
       "      <td>7.385708</td>\n",
       "      <td>29000.0</td>\n",
       "      <td>227</td>\n",
       "      <td>32.16</td>\n",
       "      <td>0.0</td>\n",
       "      <td>690.0</td>\n",
       "      <td>694.0</td>\n",
       "      <td>12.0</td>\n",
       "      <td>0.0</td>\n",
       "      <td>0.0</td>\n",
       "      <td>2942.0</td>\n",
       "      <td>32.0</td>\n",
       "      <td>27.0</td>\n",
       "      <td>0</td>\n",
       "      <td>0</td>\n",
       "      <td>911</td>\n",
       "      <td>1.0</td>\n",
       "      <td>1.000000</td>\n",
       "      <td>2.000000</td>\n",
       "      <td>7.000000</td>\n",
       "      <td>7.000000</td>\n",
       "      <td>2.0</td>\n",
       "      <td>4.000000</td>\n",
       "      <td>9.000000</td>\n",
       "      <td>10.00000</td>\n",
       "      <td>15.00000</td>\n",
       "      <td>7.000000</td>\n",
       "      <td>12.0</td>\n",
       "      <td>0.0</td>\n",
       "      <td>0.0</td>\n",
       "      <td>0.000000e+00</td>\n",
       "      <td>4.000000</td>\n",
       "      <td>3196</td>\n",
       "      <td>...</td>\n",
       "      <td>0</td>\n",
       "      <td>0</td>\n",
       "      <td>0</td>\n",
       "      <td>0</td>\n",
       "      <td>0</td>\n",
       "      <td>0</td>\n",
       "      <td>0</td>\n",
       "      <td>0</td>\n",
       "      <td>0.225020</td>\n",
       "      <td>0.206892</td>\n",
       "      <td>1.054598</td>\n",
       "      <td>1.575441</td>\n",
       "      <td>1.170104</td>\n",
       "      <td>1.566099</td>\n",
       "      <td>1.101956</td>\n",
       "      <td>1.569043</td>\n",
       "      <td>1.101956</td>\n",
       "      <td>1.569043</td>\n",
       "      <td>1.096810</td>\n",
       "      <td>1.571810</td>\n",
       "      <td>1.075744</td>\n",
       "      <td>1.566738</td>\n",
       "      <td>1.154910</td>\n",
       "      <td>1.534359</td>\n",
       "      <td>1.142249</td>\n",
       "      <td>1.541740</td>\n",
       "      <td>1.163517</td>\n",
       "      <td>1.554608</td>\n",
       "      <td>1.103551</td>\n",
       "      <td>1.566999</td>\n",
       "      <td>1.143978</td>\n",
       "      <td>1.543316</td>\n",
       "      <td>1.145902</td>\n",
       "      <td>1.545322</td>\n",
       "      <td>1.146416</td>\n",
       "      <td>1.545607</td>\n",
       "      <td>1.151179</td>\n",
       "      <td>1.544338</td>\n",
       "      <td>0.962751</td>\n",
       "      <td>1.509776</td>\n",
       "    </tr>\n",
       "  </tbody>\n",
       "</table>\n",
       "<p>5 rows × 143 columns</p>\n",
       "</div>"
      ],
      "text/plain": [
       "   loanAmnt  term  ...  grade_to_mean_n14  grade_to_std_n14\n",
       "0   35000.0     5  ...           2.290853          3.168627\n",
       "1   18000.0     5  ...           1.000000               NaN\n",
       "2   12000.0     5  ...           1.444127          2.264665\n",
       "3   11000.0     3  ...           0.000000          0.000000\n",
       "4    3000.0     3  ...           0.962751          1.509776\n",
       "\n",
       "[5 rows x 143 columns]"
      ]
     },
     "execution_count": 47,
     "metadata": {
      "tags": []
     },
     "output_type": "execute_result"
    }
   ],
   "source": [
    "x_train_cp1.head()"
   ]
  },
  {
   "cell_type": "markdown",
   "metadata": {
    "hidden": true,
    "id": "B5NP4AX7knR2"
   },
   "source": [
    "### Log some of the feature"
   ]
  },
  {
   "cell_type": "markdown",
   "metadata": {
    "hidden": true,
    "id": "N-aBCoL5kqJV"
   },
   "source": [
    "`interestRate`, `annualIncome`, `openAcc`, `revolBal`, `totalAcc`, `n1` to `n10`"
   ]
  },
  {
   "cell_type": "code",
   "execution_count": null,
   "metadata": {
    "hidden": true,
    "id": "YbGQC5OQkpr3"
   },
   "outputs": [],
   "source": [
    "for data in [x_train, x_test]:\n",
    "    for fea in [\"interestRate\", \"annualIncome\", \"openAcc\", \"revolBal\", \"totalAcc\", \n",
    "                'n1','n2','n3','n4','n5','n6','n7','n8','n9','n10']:\n",
    "        data[fea] = data[fea].apply(np.log1p)"
   ]
  }
 ],
 "metadata": {
  "accelerator": "GPU",
  "colab": {
   "collapsed_sections": [
    "d8wxvCVFmZ-_",
    "kmVWMMJwyzUO",
    "6JyBck_410PY",
    "8ffAB5HC14Pf"
   ],
   "machine_shape": "hm",
   "name": "3.1-FE-KeepTheFeaturesAsTheyOriginallyWere.ipynb",
   "provenance": [],
   "toc_visible": true
  },
  "kernelspec": {
   "display_name": "Python 3",
   "language": "python",
   "name": "python3"
  },
  "language_info": {
   "codemirror_mode": {
    "name": "ipython",
    "version": 3
   },
   "file_extension": ".py",
   "mimetype": "text/x-python",
   "name": "python",
   "nbconvert_exporter": "python",
   "pygments_lexer": "ipython3",
   "version": "3.6.8"
  },
  "toc": {
   "base_numbering": 1,
   "nav_menu": {},
   "number_sections": true,
   "sideBar": true,
   "skip_h1_title": false,
   "title_cell": "Table of Contents",
   "title_sidebar": "Contents",
   "toc_cell": false,
   "toc_position": {
    "height": "calc(100% - 180px)",
    "left": "10px",
    "top": "150px",
    "width": "336px"
   },
   "toc_section_display": true,
   "toc_window_display": true
  }
 },
 "nbformat": 4,
 "nbformat_minor": 1
}
