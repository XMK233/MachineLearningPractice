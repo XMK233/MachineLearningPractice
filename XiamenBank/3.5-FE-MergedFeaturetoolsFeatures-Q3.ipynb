{
 "cells": [
  {
   "cell_type": "markdown",
   "metadata": {
    "id": "1VTGKBzAtohn"
   },
   "source": [
    "# Release Notes\n",
    "\n",
    "上一个版本：`3.4-FE-SomeAvgAndIncrementalProportion-ChangeHP_CAT, 2.1-EDA-FeaturetoolsAggScheme1-Qx`\n",
    "\n",
    "用的是季度4的。"
   ]
  },
  {
   "cell_type": "markdown",
   "metadata": {
    "heading_collapsed": true,
    "id": "_SRLl5araf_d"
   },
   "source": [
    "# Setting working directory"
   ]
  },
  {
   "cell_type": "code",
   "execution_count": 1,
   "metadata": {
    "colab": {
     "base_uri": "https://localhost:8080/"
    },
    "executionInfo": {
     "elapsed": 15114,
     "status": "ok",
     "timestamp": 1607146985845,
     "user": {
      "displayName": "Minke Xiu",
      "photoUrl": "https://lh3.googleusercontent.com/a-/AOh14GiKrlSLM7H0tbRpIYdHPAKnVjaQdF6dZZWD9Jdd=s64",
      "userId": "01913327350585558279"
     },
     "user_tz": 300
    },
    "hidden": true,
    "id": "uYrTyv-UafC6",
    "outputId": "5a9c7d95-98dd-462f-97aa-e6325ab49f7c"
   },
   "outputs": [
    {
     "name": "stdout",
     "output_type": "stream",
     "text": [
      "Mounted at /content/drive\n"
     ]
    }
   ],
   "source": [
    "from google.colab import drive\n",
    "drive.mount('/content/drive')"
   ]
  },
  {
   "cell_type": "code",
   "execution_count": 2,
   "metadata": {
    "executionInfo": {
     "elapsed": 346,
     "status": "ok",
     "timestamp": 1607146987282,
     "user": {
      "displayName": "Minke Xiu",
      "photoUrl": "https://lh3.googleusercontent.com/a-/AOh14GiKrlSLM7H0tbRpIYdHPAKnVjaQdF6dZZWD9Jdd=s64",
      "userId": "01913327350585558279"
     },
     "user_tz": 300
    },
    "hidden": true,
    "id": "ZyoMIfsAbiNI"
   },
   "outputs": [
    {
     "ename": "FileNotFoundError",
     "evalue": "[WinError 3] The system cannot find the path specified: '/content/drive/My Drive/Colab Notebooks/MachineLearningPractice/XiamenIntlBank'",
     "output_type": "error",
     "traceback": [
      "\u001b[1;31m---------------------------------------------------------------------------\u001b[0m",
      "\u001b[1;31mFileNotFoundError\u001b[0m                         Traceback (most recent call last)",
      "\u001b[1;32m<ipython-input-2-a2b09970cabc>\u001b[0m in \u001b[0;36m<module>\u001b[1;34m()\u001b[0m\n\u001b[0;32m      1\u001b[0m \u001b[1;32mimport\u001b[0m \u001b[0mos\u001b[0m\u001b[1;33m\u001b[0m\u001b[1;33m\u001b[0m\u001b[0m\n\u001b[1;32m----> 2\u001b[1;33m \u001b[0mos\u001b[0m\u001b[1;33m.\u001b[0m\u001b[0mchdir\u001b[0m\u001b[1;33m(\u001b[0m\u001b[1;34m'/content/drive/My Drive/Colab Notebooks/MachineLearningPractice/XiamenIntlBank'\u001b[0m\u001b[1;33m)\u001b[0m\u001b[1;33m\u001b[0m\u001b[1;33m\u001b[0m\u001b[0m\n\u001b[0m",
      "\u001b[1;31mFileNotFoundError\u001b[0m: [WinError 3] The system cannot find the path specified: '/content/drive/My Drive/Colab Notebooks/MachineLearningPractice/XiamenIntlBank'"
     ]
    }
   ],
   "source": [
    "import os\n",
    "os.chdir('/content/drive/My Drive/Colab Notebooks/MachineLearningPractice/XiamenIntlBank')"
   ]
  },
  {
   "cell_type": "markdown",
   "metadata": {
    "hidden": true,
    "id": "XBqtONK5azWB"
   },
   "source": [
    "Go to this place for original dataset: \n",
    "\n",
    "`'/content/drive/My Drive/Colab Notebooks/MachineLearningPractice/FinanceRiskControl/originalDataset'`"
   ]
  },
  {
   "cell_type": "code",
   "execution_count": null,
   "metadata": {
    "hidden": true,
    "id": "0B7KKhqBIlS9"
   },
   "outputs": [],
   "source": [
    "## 安装catboost和lightgbm。\n",
    "## catboost耗费显存极大，但是飞快；lightgbm好像不是那么的方便，gpu使用不起来。\n",
    "# !pip install catboost\n",
    "\n",
    "# !pip install featuretools"
   ]
  },
  {
   "cell_type": "markdown",
   "metadata": {
    "id": "drotXWXNMFL-"
   },
   "source": [
    "# Importing libraries and load datasets"
   ]
  },
  {
   "cell_type": "code",
   "execution_count": 1,
   "metadata": {
    "executionInfo": {
     "elapsed": 351,
     "status": "ok",
     "timestamp": 1607151175126,
     "user": {
      "displayName": "Minke Xiu",
      "photoUrl": "https://lh3.googleusercontent.com/a-/AOh14GiKrlSLM7H0tbRpIYdHPAKnVjaQdF6dZZWD9Jdd=s64",
      "userId": "01913327350585558279"
     },
     "user_tz": 300
    },
    "id": "NY-oAIAAIggg"
   },
   "outputs": [],
   "source": [
    "import pandas as pd\n",
    "import numpy as np\n",
    "import matplotlib.pyplot as plt\n",
    "import seaborn as sns\n",
    "import datetime, tqdm, re, random, warnings\n",
    "warnings.filterwarnings('ignore')\n",
    "from sklearn.preprocessing import LabelEncoder\n",
    "from sklearn.feature_selection import SelectKBest\n",
    "from sklearn.feature_selection import chi2\n",
    "from sklearn.preprocessing import MinMaxScaler\n",
    "import xgboost as xgb\n",
    "import lightgbm as lgb\n",
    "from catboost import CatBoostRegressor, CatBoostClassifier\n",
    "from sklearn.model_selection import StratifiedKFold, KFold\n",
    "from sklearn.metrics import accuracy_score, f1_score, roc_auc_score, log_loss, cohen_kappa_score\n",
    "from collections import Counter, defaultdict\n",
    "import tensorflow as tf\n",
    "import featuretools"
   ]
  },
  {
   "cell_type": "markdown",
   "metadata": {
    "id": "wABHFDoycf1A"
   },
   "source": [
    "# Rudimentary processing\n",
    "\n",
    "Like encoding some object type data"
   ]
  },
  {
   "cell_type": "markdown",
   "metadata": {
    "id": "s5ypM1_uBK2O"
   },
   "source": [
    "## Load dataset"
   ]
  },
  {
   "cell_type": "code",
   "execution_count": 2,
   "metadata": {
    "executionInfo": {
     "elapsed": 2375,
     "status": "ok",
     "timestamp": 1607147025822,
     "user": {
      "displayName": "Minke Xiu",
      "photoUrl": "https://lh3.googleusercontent.com/a-/AOh14GiKrlSLM7H0tbRpIYdHPAKnVjaQdF6dZZWD9Jdd=s64",
      "userId": "01913327350585558279"
     },
     "user_tz": 300
    },
    "id": "Msb6jagB6IWh"
   },
   "outputs": [],
   "source": [
    "data_train = pd.read_csv('preprocessedData/quarter3_merged-validLabels.csv')\n",
    "data_test_a = pd.read_csv('preprocessedData/quarter1_merged-validUsers.csv')"
   ]
  },
  {
   "cell_type": "markdown",
   "metadata": {
    "id": "ECJ8Nv3Ya7cl"
   },
   "source": [
    "## Delete the cols that have too many nulls"
   ]
  },
  {
   "cell_type": "code",
   "execution_count": 3,
   "metadata": {
    "colab": {
     "base_uri": "https://localhost:8080/",
     "height": 338
    },
    "executionInfo": {
     "elapsed": 1481,
     "status": "ok",
     "timestamp": 1607147032171,
     "user": {
      "displayName": "Minke Xiu",
      "photoUrl": "https://lh3.googleusercontent.com/a-/AOh14GiKrlSLM7H0tbRpIYdHPAKnVjaQdF6dZZWD9Jdd=s64",
      "userId": "01913327350585558279"
     },
     "user_tz": 300
    },
    "id": "-Zz8L28xa7cl",
    "outputId": "4283a7c6-7659-437f-cd34-d93080da55d5"
   },
   "outputs": [
    {
     "data": {
      "image/png": "[encoded data removed]",
      "text/plain": [
       "<Figure size 432x288 with 1 Axes>"
      ]
     },
     "metadata": {},
     "output_type": "display_data"
    }
   ],
   "source": [
    "# nan可视化\n",
    "def seeWhichColumnsHaveMissingValues(data_train): \n",
    "    missing = data_train.isnull().sum()/len(data_train)\n",
    "    missing = missing[missing > 0]\n",
    "    missing.sort_values(inplace=True)\n",
    "#     print((missing))\n",
    "    missing.plot.bar()\n",
    "seeWhichColumnsHaveMissingValues(data_train)"
   ]
  },
  {
   "cell_type": "code",
   "execution_count": 4,
   "metadata": {
    "colab": {
     "base_uri": "https://localhost:8080/"
    },
    "executionInfo": {
     "elapsed": 276,
     "status": "ok",
     "timestamp": 1607147035433,
     "user": {
      "displayName": "Minke Xiu",
      "photoUrl": "https://lh3.googleusercontent.com/a-/AOh14GiKrlSLM7H0tbRpIYdHPAKnVjaQdF6dZZWD9Jdd=s64",
      "userId": "01913327350585558279"
     },
     "user_tz": 300
    },
    "id": "8VhX_Z3Qa7cl",
    "outputId": "af8dae3d-aac3-4c58-c779-b98f450c3ae8"
   },
   "outputs": [
    {
     "name": "stdout",
     "output_type": "stream",
     "text": [
      "['big_event_E5', 'big_event_E18', 'big_event_E16', 'big_event_E4', 'big_event_E14', 'big_event_E12', 'big_event_E13', 'big_event_E8', 'cust_info_I10', 'cust_info_I14', 'big_event_E7', 'cust_info_I13', 'big_event_E9', 'big_event_E11', 'cust_info_I9']\n"
     ]
    }
   ],
   "source": [
    "def seeWhichColumnsHaveMissingValuesMoreThanAThreshold(data_train, threshold): \n",
    "    missing = data_train.isnull().sum()/len(data_train)\n",
    "    missing = missing[missing > threshold]\n",
    "    missing.sort_values(inplace=True)\n",
    "    return list(missing.index)\n",
    "colsThatHaveTooManyNull = seeWhichColumnsHaveMissingValuesMoreThanAThreshold(data_train, 0.15)\n",
    "print(colsThatHaveTooManyNull)"
   ]
  },
  {
   "cell_type": "markdown",
   "metadata": {
    "id": "hjzseA7qa7cm"
   },
   "source": [
    "上述的列，空值太多(多于15%)，有可能会影响结果，故先放弃。\n",
    "\n",
    "注意，如果你训练集这样搞了，那么你测试集就得删掉一样的列，不论测试集相应的列有多少空值。"
   ]
  },
  {
   "cell_type": "code",
   "execution_count": 5,
   "metadata": {
    "colab": {
     "base_uri": "https://localhost:8080/"
    },
    "executionInfo": {
     "elapsed": 330,
     "status": "ok",
     "timestamp": 1607147036275,
     "user": {
      "displayName": "Minke Xiu",
      "photoUrl": "https://lh3.googleusercontent.com/a-/AOh14GiKrlSLM7H0tbRpIYdHPAKnVjaQdF6dZZWD9Jdd=s64",
      "userId": "01913327350585558279"
     },
     "user_tz": 300
    },
    "id": "mdqkqn_La7cm",
    "outputId": "a61fceca-74fb-45ba-abd5-e6bd594e9c94"
   },
   "outputs": [
    {
     "data": {
      "text/plain": [
       "87"
      ]
     },
     "execution_count": 5,
     "metadata": {},
     "output_type": "execute_result"
    }
   ],
   "source": [
    "len(data_train.columns)"
   ]
  },
  {
   "cell_type": "code",
   "execution_count": 6,
   "metadata": {
    "colab": {
     "base_uri": "https://localhost:8080/"
    },
    "executionInfo": {
     "elapsed": 266,
     "status": "ok",
     "timestamp": 1607147036599,
     "user": {
      "displayName": "Minke Xiu",
      "photoUrl": "https://lh3.googleusercontent.com/a-/AOh14GiKrlSLM7H0tbRpIYdHPAKnVjaQdF6dZZWD9Jdd=s64",
      "userId": "01913327350585558279"
     },
     "user_tz": 300
    },
    "id": "lwOLCOT4a7cm",
    "outputId": "73792810-a720-4c07-c256-511a58f34067"
   },
   "outputs": [
    {
     "data": {
      "text/plain": [
       "86"
      ]
     },
     "execution_count": 6,
     "metadata": {},
     "output_type": "execute_result"
    }
   ],
   "source": [
    "len(data_test_a.columns)"
   ]
  },
  {
   "cell_type": "code",
   "execution_count": 7,
   "metadata": {
    "executionInfo": {
     "elapsed": 297,
     "status": "ok",
     "timestamp": 1607147037413,
     "user": {
      "displayName": "Minke Xiu",
      "photoUrl": "https://lh3.googleusercontent.com/a-/AOh14GiKrlSLM7H0tbRpIYdHPAKnVjaQdF6dZZWD9Jdd=s64",
      "userId": "01913327350585558279"
     },
     "user_tz": 300
    },
    "id": "6MtdaJRla7cm"
   },
   "outputs": [],
   "source": [
    "data_train = data_train.drop(colsThatHaveTooManyNull, axis=1)\n",
    "data_test_a = data_test_a.drop(colsThatHaveTooManyNull, axis=1)"
   ]
  },
  {
   "cell_type": "markdown",
   "metadata": {
    "id": "xhXbv16eCFHv"
   },
   "source": [
    "## Classify the features into multiple groups"
   ]
  },
  {
   "cell_type": "code",
   "execution_count": 8,
   "metadata": {
    "executionInfo": {
     "elapsed": 379,
     "status": "ok",
     "timestamp": 1607147038416,
     "user": {
      "displayName": "Minke Xiu",
      "photoUrl": "https://lh3.googleusercontent.com/a-/AOh14GiKrlSLM7H0tbRpIYdHPAKnVjaQdF6dZZWD9Jdd=s64",
      "userId": "01913327350585558279"
     },
     "user_tz": 300
    },
    "id": "zA9BsyNKa7cm"
   },
   "outputs": [],
   "source": [
    "id_col = [\"cust_no\"]"
   ]
  },
  {
   "cell_type": "code",
   "execution_count": 9,
   "metadata": {
    "executionInfo": {
     "elapsed": 333,
     "status": "ok",
     "timestamp": 1607147038741,
     "user": {
      "displayName": "Minke Xiu",
      "photoUrl": "https://lh3.googleusercontent.com/a-/AOh14GiKrlSLM7H0tbRpIYdHPAKnVjaQdF6dZZWD9Jdd=s64",
      "userId": "01913327350585558279"
     },
     "user_tz": 300
    },
    "id": "QvUtj12XEuHp"
   },
   "outputs": [],
   "source": [
    "numerical_fea = list(data_train.select_dtypes(exclude=['object']).columns)\n",
    "object_fea = list(filter(lambda x: x not in numerical_fea,list(data_train.columns)))\n",
    "label = 'label'\n",
    "numerical_fea.remove(label)"
   ]
  },
  {
   "cell_type": "code",
   "execution_count": 10,
   "metadata": {
    "colab": {
     "base_uri": "https://localhost:8080/"
    },
    "executionInfo": {
     "elapsed": 325,
     "status": "ok",
     "timestamp": 1607147039473,
     "user": {
      "displayName": "Minke Xiu",
      "photoUrl": "https://lh3.googleusercontent.com/a-/AOh14GiKrlSLM7H0tbRpIYdHPAKnVjaQdF6dZZWD9Jdd=s64",
      "userId": "01913327350585558279"
     },
     "user_tz": 300
    },
    "id": "VH6YmDxdF_pI",
    "outputId": "6e098188-3452-48af-863b-19f63b9788b9"
   },
   "outputs": [
    {
     "name": "stdout",
     "output_type": "stream",
     "text": [
      "['aum_m1_X1', 'aum_m1_X2', 'aum_m1_X3', 'aum_m1_X4', 'aum_m1_X5', 'aum_m1_X6', 'aum_m1_X7', 'aum_m1_X8', 'aum_m2_X1', 'aum_m2_X2', 'aum_m2_X3', 'aum_m2_X4', 'aum_m2_X5', 'aum_m2_X6', 'aum_m2_X7', 'aum_m2_X8', 'aum_m3_X1', 'aum_m3_X2', 'aum_m3_X3', 'aum_m3_X4', 'aum_m3_X5', 'aum_m3_X6', 'aum_m3_X7', 'aum_m3_X8', 'behavior_m1_B1', 'behavior_m1_B2', 'behavior_m1_B3', 'behavior_m1_B4', 'behavior_m1_B5', 'behavior_m2_B1', 'behavior_m2_B2', 'behavior_m2_B3', 'behavior_m2_B4', 'behavior_m2_B5', 'behavior_m3_B1', 'behavior_m3_B2', 'behavior_m3_B3', 'behavior_m3_B4', 'behavior_m3_B5', 'behavior_m3_B7', 'big_event_E15', 'big_event_E17', 'cunkuan_m1_C1', 'cunkuan_m1_C2', 'cunkuan_m2_C1', 'cunkuan_m2_C2', 'cunkuan_m3_C1', 'cunkuan_m3_C2', 'cust_info_I2', 'cust_info_I11']\n",
      "['cust_info_I4', 'cust_info_I6', 'cust_info_I7', 'cust_info_I15', 'cust_info_I16', 'cust_info_I17', 'cust_info_I18', 'cust_info_I19', 'cust_info_I20']\n"
     ]
    }
   ],
   "source": [
    "## 过滤类别较少的和较多的列\n",
    "def get_numerical_serial_fea(data,feas):\n",
    "    numerical_serial_fea = []\n",
    "    numerical_noserial_fea = []\n",
    "    for fea in feas:\n",
    "        temp = data[fea].nunique()\n",
    "        if temp <= 10:\n",
    "            numerical_noserial_fea.append(fea)\n",
    "            continue\n",
    "        numerical_serial_fea.append(fea)\n",
    "    return numerical_serial_fea,numerical_noserial_fea\n",
    "    \n",
    "numerical_serial_fea,numerical_categorical_fea = get_numerical_serial_fea(data_train,numerical_fea)\n",
    "print(numerical_serial_fea)\n",
    "print(numerical_categorical_fea)"
   ]
  },
  {
   "cell_type": "markdown",
   "metadata": {
    "id": "nawA3zUra7cm"
   },
   "source": [
    "`big_event_E11, cust_info_I7, cust_info_I9` from numerical_categorical_fea, 类别太少，没有意义。"
   ]
  },
  {
   "cell_type": "code",
   "execution_count": 11,
   "metadata": {
    "executionInfo": {
     "elapsed": 312,
     "status": "ok",
     "timestamp": 1607147042177,
     "user": {
      "displayName": "Minke Xiu",
      "photoUrl": "https://lh3.googleusercontent.com/a-/AOh14GiKrlSLM7H0tbRpIYdHPAKnVjaQdF6dZZWD9Jdd=s64",
      "userId": "01913327350585558279"
     },
     "user_tz": 300
    },
    "id": "Or7Y6Ntya7cm"
   },
   "outputs": [],
   "source": [
    "# numerical_categorical_fea.remove(\"big_event_E11\")\n",
    "numerical_categorical_fea.remove(\"cust_info_I7\")\n",
    "# numerical_categorical_fea.remove(\"cust_info_I9\")"
   ]
  },
  {
   "cell_type": "code",
   "execution_count": 12,
   "metadata": {
    "executionInfo": {
     "elapsed": 441,
     "status": "ok",
     "timestamp": 1607147042656,
     "user": {
      "displayName": "Minke Xiu",
      "photoUrl": "https://lh3.googleusercontent.com/a-/AOh14GiKrlSLM7H0tbRpIYdHPAKnVjaQdF6dZZWD9Jdd=s64",
      "userId": "01913327350585558279"
     },
     "user_tz": 300
    },
    "id": "-YkLtZeZa7cm"
   },
   "outputs": [],
   "source": [
    "data_train.drop([\"cust_info_I7\"], axis = 1, inplace=True)\n",
    "data_test_a.drop([\"cust_info_I7\"], axis = 1, inplace=True)"
   ]
  },
  {
   "cell_type": "markdown",
   "metadata": {
    "id": "CFaueF-Ba7cm"
   },
   "source": [
    "找日期：所有在`object_fea`里面的`big_event_xx`和`behavior_m3_B6` 是时间类型的。"
   ]
  },
  {
   "cell_type": "code",
   "execution_count": 13,
   "metadata": {
    "colab": {
     "base_uri": "https://localhost:8080/"
    },
    "executionInfo": {
     "elapsed": 296,
     "status": "ok",
     "timestamp": 1607147043273,
     "user": {
      "displayName": "Minke Xiu",
      "photoUrl": "https://lh3.googleusercontent.com/a-/AOh14GiKrlSLM7H0tbRpIYdHPAKnVjaQdF6dZZWD9Jdd=s64",
      "userId": "01913327350585558279"
     },
     "user_tz": 300
    },
    "id": "NWyeNyhZa7cm",
    "outputId": "aa9cb069-3f2c-472d-f29c-4d985a604c07",
    "scrolled": true
   },
   "outputs": [
    {
     "name": "stdout",
     "output_type": "stream",
     "text": [
      "['behavior_m3_B6', 'big_event_E1', 'big_event_E2', 'big_event_E3', 'big_event_E6', 'big_event_E10']\n"
     ]
    }
   ],
   "source": [
    "date_fea = []\n",
    "for fea in object_fea:\n",
    "    if \"big_event\" in fea or \"behavior\" in fea:\n",
    "        date_fea.append(fea)\n",
    "print(date_fea)"
   ]
  },
  {
   "cell_type": "markdown",
   "metadata": {
    "id": "Na5lB3NAa7cm"
   },
   "source": [
    "找其他类型的列"
   ]
  },
  {
   "cell_type": "code",
   "execution_count": 14,
   "metadata": {
    "colab": {
     "base_uri": "https://localhost:8080/"
    },
    "executionInfo": {
     "elapsed": 276,
     "status": "ok",
     "timestamp": 1607147043943,
     "user": {
      "displayName": "Minke Xiu",
      "photoUrl": "https://lh3.googleusercontent.com/a-/AOh14GiKrlSLM7H0tbRpIYdHPAKnVjaQdF6dZZWD9Jdd=s64",
      "userId": "01913327350585558279"
     },
     "user_tz": 300
    },
    "id": "u36NxvVSa7cm",
    "outputId": "bad49d47-b77a-494b-f528-e8ca940ec238"
   },
   "outputs": [
    {
     "name": "stdout",
     "output_type": "stream",
     "text": [
      "['cust_info_I1', 'cust_info_I3', 'cust_info_I5', 'cust_info_I8', 'cust_info_I12']\n"
     ]
    }
   ],
   "source": [
    "object_categorical_fea = []\n",
    "for fea in object_fea:\n",
    "    if fea not in date_fea and fea not in id_col:\n",
    "        object_categorical_fea.append(fea)\n",
    "print(object_categorical_fea)"
   ]
  },
  {
   "cell_type": "code",
   "execution_count": 15,
   "metadata": {
    "executionInfo": {
     "elapsed": 340,
     "status": "ok",
     "timestamp": 1607147045620,
     "user": {
      "displayName": "Minke Xiu",
      "photoUrl": "https://lh3.googleusercontent.com/a-/AOh14GiKrlSLM7H0tbRpIYdHPAKnVjaQdF6dZZWD9Jdd=s64",
      "userId": "01913327350585558279"
     },
     "user_tz": 300
    },
    "id": "zi2xeIifC820"
   },
   "outputs": [],
   "source": [
    "total_list = sorted(list(data_train.columns))"
   ]
  },
  {
   "cell_type": "code",
   "execution_count": 16,
   "metadata": {
    "colab": {
     "base_uri": "https://localhost:8080/"
    },
    "executionInfo": {
     "elapsed": 193,
     "status": "ok",
     "timestamp": 1607147045770,
     "user": {
      "displayName": "Minke Xiu",
      "photoUrl": "https://lh3.googleusercontent.com/a-/AOh14GiKrlSLM7H0tbRpIYdHPAKnVjaQdF6dZZWD9Jdd=s64",
      "userId": "01913327350585558279"
     },
     "user_tz": 300
    },
    "id": "5enpq5neCJpQ",
    "outputId": "fee4085f-80a4-43d8-a044-75394fc9cedf"
   },
   "outputs": [
    {
     "data": {
      "text/plain": [
       "['cust_no']"
      ]
     },
     "execution_count": 16,
     "metadata": {},
     "output_type": "execute_result"
    }
   ],
   "source": [
    "id_col"
   ]
  },
  {
   "cell_type": "code",
   "execution_count": 17,
   "metadata": {
    "colab": {
     "base_uri": "https://localhost:8080/"
    },
    "executionInfo": {
     "elapsed": 199,
     "status": "ok",
     "timestamp": 1607147046095,
     "user": {
      "displayName": "Minke Xiu",
      "photoUrl": "https://lh3.googleusercontent.com/a-/AOh14GiKrlSLM7H0tbRpIYdHPAKnVjaQdF6dZZWD9Jdd=s64",
      "userId": "01913327350585558279"
     },
     "user_tz": 300
    },
    "id": "pf_9yAUia7cm",
    "outputId": "f80222df-5b1a-4768-b6b8-881752cb540c"
   },
   "outputs": [
    {
     "name": "stdout",
     "output_type": "stream",
     "text": [
      "['aum_m1_X1', 'aum_m1_X2', 'aum_m1_X3', 'aum_m1_X4', 'aum_m1_X5', 'aum_m1_X6', 'aum_m1_X7', 'aum_m1_X8', 'aum_m2_X1', 'aum_m2_X2', 'aum_m2_X3', 'aum_m2_X4', 'aum_m2_X5', 'aum_m2_X6', 'aum_m2_X7', 'aum_m2_X8', 'aum_m3_X1', 'aum_m3_X2', 'aum_m3_X3', 'aum_m3_X4', 'aum_m3_X5', 'aum_m3_X6', 'aum_m3_X7', 'aum_m3_X8', 'behavior_m1_B1', 'behavior_m1_B2', 'behavior_m1_B3', 'behavior_m1_B4', 'behavior_m1_B5', 'behavior_m2_B1', 'behavior_m2_B2', 'behavior_m2_B3', 'behavior_m2_B4', 'behavior_m2_B5', 'behavior_m3_B1', 'behavior_m3_B2', 'behavior_m3_B3', 'behavior_m3_B4', 'behavior_m3_B5', 'behavior_m3_B7', 'big_event_E15', 'big_event_E17', 'cunkuan_m1_C1', 'cunkuan_m1_C2', 'cunkuan_m2_C1', 'cunkuan_m2_C2', 'cunkuan_m3_C1', 'cunkuan_m3_C2', 'cust_info_I2', 'cust_info_I11']\n"
     ]
    }
   ],
   "source": [
    "print(numerical_serial_fea)"
   ]
  },
  {
   "cell_type": "code",
   "execution_count": 18,
   "metadata": {
    "colab": {
     "base_uri": "https://localhost:8080/"
    },
    "executionInfo": {
     "elapsed": 315,
     "status": "ok",
     "timestamp": 1607147046552,
     "user": {
      "displayName": "Minke Xiu",
      "photoUrl": "https://lh3.googleusercontent.com/a-/AOh14GiKrlSLM7H0tbRpIYdHPAKnVjaQdF6dZZWD9Jdd=s64",
      "userId": "01913327350585558279"
     },
     "user_tz": 300
    },
    "id": "-UuHCU1ya7cm",
    "outputId": "4b625ac5-ca10-4d3c-fb34-25e59fa9a516"
   },
   "outputs": [
    {
     "name": "stdout",
     "output_type": "stream",
     "text": [
      "['cust_info_I4', 'cust_info_I6', 'cust_info_I15', 'cust_info_I16', 'cust_info_I17', 'cust_info_I18', 'cust_info_I19', 'cust_info_I20']\n"
     ]
    }
   ],
   "source": [
    "print(numerical_categorical_fea)"
   ]
  },
  {
   "cell_type": "code",
   "execution_count": 19,
   "metadata": {
    "colab": {
     "base_uri": "https://localhost:8080/"
    },
    "executionInfo": {
     "elapsed": 352,
     "status": "ok",
     "timestamp": 1607147048327,
     "user": {
      "displayName": "Minke Xiu",
      "photoUrl": "https://lh3.googleusercontent.com/a-/AOh14GiKrlSLM7H0tbRpIYdHPAKnVjaQdF6dZZWD9Jdd=s64",
      "userId": "01913327350585558279"
     },
     "user_tz": 300
    },
    "id": "JDy3s7Ina7cm",
    "outputId": "5af3a8ab-0e15-4cbe-8cff-d78fcf3d9225"
   },
   "outputs": [
    {
     "name": "stdout",
     "output_type": "stream",
     "text": [
      "['behavior_m3_B6', 'big_event_E1', 'big_event_E2', 'big_event_E3', 'big_event_E6', 'big_event_E10']\n"
     ]
    }
   ],
   "source": [
    "print(date_fea)"
   ]
  },
  {
   "cell_type": "code",
   "execution_count": 20,
   "metadata": {
    "colab": {
     "base_uri": "https://localhost:8080/"
    },
    "executionInfo": {
     "elapsed": 180,
     "status": "ok",
     "timestamp": 1607147048461,
     "user": {
      "displayName": "Minke Xiu",
      "photoUrl": "https://lh3.googleusercontent.com/a-/AOh14GiKrlSLM7H0tbRpIYdHPAKnVjaQdF6dZZWD9Jdd=s64",
      "userId": "01913327350585558279"
     },
     "user_tz": 300
    },
    "id": "1Rwkdvpqa7cm",
    "outputId": "b4a3cf97-8dd8-42e3-a978-577caa3c222f",
    "scrolled": true
   },
   "outputs": [
    {
     "name": "stdout",
     "output_type": "stream",
     "text": [
      "['cust_info_I1', 'cust_info_I3', 'cust_info_I5', 'cust_info_I8', 'cust_info_I12']\n"
     ]
    }
   ],
   "source": [
    "print(object_categorical_fea)"
   ]
  },
  {
   "cell_type": "markdown",
   "metadata": {
    "id": "UwWr4ZjDa7cn"
   },
   "source": [
    "`object_categorical_fea` 还能继续分，有的是有等级的，有的没有等级（这些没有等级的，可以考虑进行那个啥，onehot）"
   ]
  },
  {
   "cell_type": "markdown",
   "metadata": {
    "id": "-RhCLznRa7cn"
   },
   "source": [
    "下面的代码用来检查有没有特征被漏掉。"
   ]
  },
  {
   "cell_type": "code",
   "execution_count": 21,
   "metadata": {
    "executionInfo": {
     "elapsed": 308,
     "status": "ok",
     "timestamp": 1607147049685,
     "user": {
      "displayName": "Minke Xiu",
      "photoUrl": "https://lh3.googleusercontent.com/a-/AOh14GiKrlSLM7H0tbRpIYdHPAKnVjaQdF6dZZWD9Jdd=s64",
      "userId": "01913327350585558279"
     },
     "user_tz": 300
    },
    "id": "YrnDkESDa7cn"
   },
   "outputs": [],
   "source": [
    "new_cates = numerical_categorical_fea + numerical_serial_fea + date_fea + object_categorical_fea "
   ]
  },
  {
   "cell_type": "code",
   "execution_count": 22,
   "metadata": {
    "colab": {
     "base_uri": "https://localhost:8080/"
    },
    "executionInfo": {
     "elapsed": 223,
     "status": "ok",
     "timestamp": 1607147049975,
     "user": {
      "displayName": "Minke Xiu",
      "photoUrl": "https://lh3.googleusercontent.com/a-/AOh14GiKrlSLM7H0tbRpIYdHPAKnVjaQdF6dZZWD9Jdd=s64",
      "userId": "01913327350585558279"
     },
     "user_tz": 300
    },
    "id": "oBca0b_yHHLd",
    "outputId": "0047f1dd-4071-4eee-8e4f-fa149ad7fe0a"
   },
   "outputs": [
    {
     "data": {
      "text/plain": [
       "{'cust_no', 'label'}"
      ]
     },
     "execution_count": 22,
     "metadata": {},
     "output_type": "execute_result"
    }
   ],
   "source": [
    "set(total_list) - set(new_cates)"
   ]
  },
  {
   "cell_type": "markdown",
   "metadata": {
    "id": "ebrsHJ6Qa7cn"
   },
   "source": [
    "如果空留label、ID，则无特征被遗漏。"
   ]
  },
  {
   "cell_type": "markdown",
   "metadata": {
    "id": "RnyS0rikLLN5"
   },
   "source": [
    "## Change `object_categorical_fea` \n",
    "\n",
    "这里面也有一些类是可以进行序列化的，比如`cust_info_I3`用户的等级, `cust_info_I10`学历, `cust_info_I14`官阶，这几个都可以序列化。\n",
    "\n",
    "鉴于这个notebook只做最原生态的处理，所以就将之简单归类了。"
   ]
  },
  {
   "cell_type": "code",
   "execution_count": 23,
   "metadata": {
    "colab": {
     "base_uri": "https://localhost:8080/"
    },
    "executionInfo": {
     "elapsed": 294,
     "status": "ok",
     "timestamp": 1607147057880,
     "user": {
      "displayName": "Minke Xiu",
      "photoUrl": "https://lh3.googleusercontent.com/a-/AOh14GiKrlSLM7H0tbRpIYdHPAKnVjaQdF6dZZWD9Jdd=s64",
      "userId": "01913327350585558279"
     },
     "user_tz": 300
    },
    "id": "TD8EAAp2a7cn",
    "outputId": "6762e44c-10fb-4b27-83d4-9886884f821f"
   },
   "outputs": [
    {
     "data": {
      "text/plain": [
       "['cust_info_I1',\n",
       " 'cust_info_I3',\n",
       " 'cust_info_I5',\n",
       " 'cust_info_I8',\n",
       " 'cust_info_I12']"
      ]
     },
     "execution_count": 23,
     "metadata": {},
     "output_type": "execute_result"
    }
   ],
   "source": [
    "object_categorical_fea"
   ]
  },
  {
   "cell_type": "markdown",
   "metadata": {
    "id": "CnVmsgwThfpD"
   },
   "source": [
    "对他们进行普通分类，最普通的分类，就是将他们编码为数字。不搞dummy操作。"
   ]
  },
  {
   "cell_type": "code",
   "execution_count": 24,
   "metadata": {
    "executionInfo": {
     "elapsed": 351,
     "status": "ok",
     "timestamp": 1607147060799,
     "user": {
      "displayName": "Minke Xiu",
      "photoUrl": "https://lh3.googleusercontent.com/a-/AOh14GiKrlSLM7H0tbRpIYdHPAKnVjaQdF6dZZWD9Jdd=s64",
      "userId": "01913327350585558279"
     },
     "user_tz": 300
    },
    "id": "IjU1Ryfsa7cn",
    "scrolled": true
   },
   "outputs": [
    {
     "name": "stderr",
     "output_type": "stream",
     "text": [
      "100%|████████████████████████████████████████████████████████████████████████████████████| 4/4 [00:04<00:00,  1.23s/it]\n"
     ]
    }
   ],
   "source": [
    "def mapTheValue(data, fea, dic):\n",
    "    \"\"\"\n",
    "    data_train is the dataset. \n",
    "    fea is the target feature. \n",
    "    dic is the mapping dictionary. \n",
    "    \"\"\"\n",
    "    data[fea] = data[fea].apply(lambda x: dic.get(x, -1)) \n",
    "\n",
    "\n",
    "## 这两个特征，是暗含了顺序\n",
    "for dt in [data_train, data_test_a]: \n",
    "    mapTheValue(dt, \"cust_info_I3\", {\n",
    "        \"普通客户\": 0, \n",
    "        \"黄金\": 1,\n",
    "        \"白金\": 2,\n",
    "        \"钻石\": 3,\n",
    "    })\n",
    "    \n",
    "# for col in tqdm.tqdm([\"cust_info_I1\", 'cust_info_I5', 'cust_info_I8', 'cust_info_I12']): \n",
    "#     le = LabelEncoder()\n",
    "#     le.fit(list(data_train[col].astype(str).values) + list(data_test_a[col].astype(str).values))\n",
    "#     data_train[col] = le.transform(list(data_train[col].astype(str).values))\n",
    "#     data_test_a[col] = le.transform(list(data_test_a[col].astype(str).values))\n",
    "\n",
    "## 要用，就用所有的str来编码。这里算是一个修正吧。\n",
    "cust_info_q3 = pd.read_csv('originalDataset/x_train/cust_info_q3.csv')\n",
    "cust_info_q4 = pd.read_csv('originalDataset/x_train/cust_info_q4.csv')\n",
    "cust_info_q1 = pd.read_csv('originalDataset/x_test/cust_info_q1.csv')\n",
    "\n",
    "for col in tqdm.tqdm([\"cust_info_I1\", 'cust_info_I5', 'cust_info_I8', 'cust_info_I12']): \n",
    "    ## 获取最原处的列名，也就是IXX. \n",
    "    originColName = col.split(\"_\")[-1]\n",
    "    le = LabelEncoder()\n",
    "    le.fit(list(cust_info_q3[originColName].astype(str).values) + list(cust_info_q4[originColName].astype(str).values) + list(cust_info_q1[originColName].astype(str).values))\n",
    "    data_train[col] = le.transform(list(data_train[col].astype(str).values))\n",
    "    data_test_a[col] = le.transform(list(data_test_a[col].astype(str).values))"
   ]
  },
  {
   "cell_type": "code",
   "execution_count": 25,
   "metadata": {
    "id": "Ah5J0w-12BaF"
   },
   "outputs": [],
   "source": [
    "# data_train.to_csv(\"preprocessedData/data_train-1129-a_a_a_b_b_a_x_x.csv\", index=False)\n",
    "# data_test_a.to_csv(\"preprocessedData/data_test_a-1129-a_a_a_b_b_a_x_x.csv\", index=False)"
   ]
  },
  {
   "cell_type": "code",
   "execution_count": 26,
   "metadata": {
    "id": "OwVpGhO32BaF"
   },
   "outputs": [],
   "source": [
    "# data_train = pd.read_csv(\"preprocessedData/data_train-1129-a_a_a_b_b_a_x_x.csv\")\n",
    "# data_test_a = pd.read_csv(\"preprocessedData/data_test_a-1129-a_a_a_b_b_a_x_x.csv\")"
   ]
  },
  {
   "cell_type": "markdown",
   "metadata": {
    "id": "lSIb3612LKyr"
   },
   "source": [
    "## Change `date_fea`\n"
   ]
  },
  {
   "cell_type": "code",
   "execution_count": 27,
   "metadata": {
    "colab": {
     "base_uri": "https://localhost:8080/"
    },
    "executionInfo": {
     "elapsed": 377,
     "status": "ok",
     "timestamp": 1607147064826,
     "user": {
      "displayName": "Minke Xiu",
      "photoUrl": "https://lh3.googleusercontent.com/a-/AOh14GiKrlSLM7H0tbRpIYdHPAKnVjaQdF6dZZWD9Jdd=s64",
      "userId": "01913327350585558279"
     },
     "user_tz": 300
    },
    "id": "MpDWHm3ma7co",
    "outputId": "df8a2304-348a-4c84-a798-c633cd7ce708"
   },
   "outputs": [
    {
     "data": {
      "text/plain": [
       "['behavior_m3_B6',\n",
       " 'big_event_E1',\n",
       " 'big_event_E2',\n",
       " 'big_event_E3',\n",
       " 'big_event_E6',\n",
       " 'big_event_E10']"
      ]
     },
     "execution_count": 27,
     "metadata": {},
     "output_type": "execute_result"
    }
   ],
   "source": [
    "date_fea"
   ]
  },
  {
   "cell_type": "markdown",
   "metadata": {
    "id": "x9WKNPVNigiL"
   },
   "source": [
    "注意，date特征和date_DT类型的特征，在入模之前必须要处理成数字才行。\n",
    "\n",
    "最普通，直接将日期改为距离新千年第一天多少天。"
   ]
  },
  {
   "cell_type": "code",
   "execution_count": 28,
   "metadata": {
    "executionInfo": {
     "elapsed": 18733,
     "status": "ok",
     "timestamp": 1607147085036,
     "user": {
      "displayName": "Minke Xiu",
      "photoUrl": "https://lh3.googleusercontent.com/a-/AOh14GiKrlSLM7H0tbRpIYdHPAKnVjaQdF6dZZWD9Jdd=s64",
      "userId": "01913327350585558279"
     },
     "user_tz": 300
    },
    "id": "I6OTxb0ta7co"
   },
   "outputs": [
    {
     "name": "stdout",
     "output_type": "stream",
     "text": [
      "behavior_m3_B6\n",
      "big_event_E1\n",
      "big_event_E2\n",
      "big_event_E3\n",
      "big_event_E6\n",
      "big_event_E10\n"
     ]
    }
   ],
   "source": [
    "startdate = datetime.datetime.strptime(\n",
    "    \"2000-01-01 00:00:00\",\n",
    "    '%Y-%m-%d %H:%M:%S'\n",
    ")\n",
    "for fea in [ \"behavior_m3_B6\",  \n",
    "            'big_event_E1',\n",
    "             'big_event_E2',\n",
    "             'big_event_E3',\n",
    "             'big_event_E6',\n",
    "             'big_event_E10']:   \n",
    "    print(fea)\n",
    "    \n",
    "    data_train[fea] = data_train[fea].astype(str)\n",
    "    data_test_a[fea] = data_test_a[fea].astype(str)\n",
    "    \n",
    "    ## 这里改为与某一固定日期（千禧年第一天）的距离。否则，不同的表格，这些列所得到的数据的标准不一，这样会出事情的。\n",
    "    if fea in [\"behavior_m3_B6\"]: ## 这个列有时分秒，不只有日期。\n",
    "        for data in [data_train, data_test_a]:\n",
    "            data[fea] = pd.to_datetime(data[fea],format = '%Y-%m-%d %H:%M:%S')\n",
    "            data[fea] = data[fea].apply(lambda x: x-startdate).dt.days ## 这里或许有潜力可挖，比如，换成秒，分钟啊什么的。\n",
    "    else: ## 这些列，只有日期。\n",
    "        for data in [data_train, data_test_a]:\n",
    "            data[fea] = pd.to_datetime(data[fea],format='%Y-%m-%d')\n",
    "            data[fea] = data[fea].apply(lambda x: x-startdate).dt.days"
   ]
  },
  {
   "cell_type": "markdown",
   "metadata": {
    "id": "f0yALhIla_ym"
   },
   "source": [
    "# Feature Generation\n",
    "\n",
    "利用 https://zhuanlan.zhihu.com/p/26444240 介绍的方法开展特征合成：\n",
    "\n",
    "```\n",
    "median(N1)_by(C1)  \\\\ 中位数\n",
    "mean(N1)_by(C1)  \\\\ 算术平均数\n",
    "mode(N1)_by(C1)  \\\\ 众数\n",
    "min(N1)_by(C1)  \\\\ 最小值\n",
    "max(N1)_by(C1)  \\\\ 最大值\n",
    "std(N1)_by(C1)  \\\\ 标准差\n",
    "var(N1)_by(C1)  \\\\ 方差\n",
    "freq(C2)_by(C1)  \\\\ 频数\n",
    "\n",
    "freq(C1) \\\\这个不需要groupby也有意义\n",
    "```\n",
    "\n",
    "上述只是一种思路。"
   ]
  },
  {
   "cell_type": "markdown",
   "metadata": {},
   "source": [
    "## Do something on numerical features. "
   ]
  },
  {
   "cell_type": "markdown",
   "metadata": {},
   "source": [
    "对于单个月的统计量\n",
    "\n",
    "求平均：某月每一个产品平均存款金额\n",
    "\n",
    "    for i in range(3):\n",
    "        'cunkuan_m{i}_C1', 某月存款产民金额\n",
    "        'cunkuan_m{i}_C2', 某月存款产品个数\n",
    "    \n",
    "求平均：某月，每一次平均转入多少金额\n",
    "    \n",
    "    for i in range(3):\n",
    "        behavior_m{i}_B2 转账转入次数\n",
    "        behavior_m{i}_B3 转账转入金额\n",
    "    \n",
    "求平均：某月，每一次平均转出多少金额\n",
    "\n",
    "    for i in range(3):\n",
    "        'behavior_m{i}_B4', 转账转出次数\n",
    "        'behavior_m{i}_B5', 转账转出金额"
   ]
  },
  {
   "cell_type": "code",
   "execution_count": 29,
   "metadata": {},
   "outputs": [],
   "source": [
    "def calculateAvgWithinMonth_cunkuan_c12(data_train):\n",
    "#     f'cunkuan_m{i}_C1'#, 某月存款产品金额\n",
    "#     f'cunkuan_m{i}_C2'#, 某月存款产品个数\n",
    "    newCols = []\n",
    "    for i in range(1, 3+1):\n",
    "        data_train[f\"cunkuan_m{i}_C1-C2\"] = data_train[f'cunkuan_m{i}_C1'] / data_train[f'cunkuan_m{i}_C2']\n",
    "        newCols.append(f\"cunkuan_m{i}_C1-C2\")\n",
    "    return newCols\n",
    "\n",
    "newCols_data_train = calculateAvgWithinMonth_cunkuan_c12(data_train)\n",
    "newCols_data_test_a = calculateAvgWithinMonth_cunkuan_c12(data_test_a)"
   ]
  },
  {
   "cell_type": "code",
   "execution_count": 30,
   "metadata": {},
   "outputs": [],
   "source": [
    "def calculateAvgWithinMonth_behavior_b32(data_train):\n",
    "#     behavior_m{i}_B2 # 转账转入次数\n",
    "#     behavior_m{i}_B3 # 转账转入金额\n",
    "    newCols = []\n",
    "    for i in range(1, 3+1):\n",
    "        data_train[f\"behavior_m{i}_B3-B2\"] = data_train[f'behavior_m{i}_B3'] / data_train[f'behavior_m{i}_B2']\n",
    "        newCols.append(f\"behavior_m{i}_B3-B2\")\n",
    "    return newCols\n",
    "\n",
    "newCols_data_train = calculateAvgWithinMonth_behavior_b32(data_train)\n",
    "newCols_data_test_a = calculateAvgWithinMonth_behavior_b32(data_test_a)"
   ]
  },
  {
   "cell_type": "code",
   "execution_count": 31,
   "metadata": {},
   "outputs": [],
   "source": [
    "def calculateAvgWithinMonth_behavior_b54(data_train):\n",
    "#     behavior_m{i}_B2 # 转账转入次数\n",
    "#     behavior_m{i}_B3 # 转账转入金额\n",
    "    newCols = []\n",
    "    for i in range(1, 3+1):\n",
    "        data_train[f\"behavior_m{i}_B5-B4\"] = data_train[f'behavior_m{i}_B5'] / data_train[f'behavior_m{i}_B4']\n",
    "        newCols.append(f\"behavior_m{i}_B5-B4\")\n",
    "    return newCols\n",
    "\n",
    "newCols_data_train = calculateAvgWithinMonth_behavior_b54(data_train)\n",
    "newCols_data_test_a = calculateAvgWithinMonth_behavior_b54(data_test_a)"
   ]
  },
  {
   "cell_type": "markdown",
   "metadata": {},
   "source": [
    "对于单个的统计量，我们可以计算每一个月的增长率\n",
    "    \n",
    "    for i in range(1, 8+1):\n",
    "        aum_m2_X{i} 相对于 aum_m1_X{i} 增长了多少，\n",
    "        aum_m3_X{i} 相对于 aum_m2_X{i} 增长了多少，\n",
    "        aum_m3_X{i} 相对于 aum_m1_X{i} 增长了多少，\n",
    "        \n",
    "    for i in range(1, 5 + 1): \n",
    "        behavior_m2_B{i} 相对于 behavior_m1_B{i} 增长了多少，\n",
    "        behavior_m3_B{i} 相对于 behavior_m2_B{i} 增长了多少，\n",
    "        behavior_m3_B{i} 相对于 behavior_m1_B{i} 增长了多少，\n",
    "        \n",
    "    for i in range(1, 2 + 1):\n",
    "        cunkuan_m2_C{i} 相对于 cunkuan_m1_C{i} 增长了多少，\n",
    "        cunkuan_m3_C{i} 相对于 cunkuan_m2_C{i} 增长了多少，\n",
    "        cunkuan_m3_C{i} 相对于 cunkuan_m1_C{i} 增长了多少，"
   ]
  },
  {
   "cell_type": "code",
   "execution_count": 32,
   "metadata": {},
   "outputs": [],
   "source": [
    "def incrementalRate_aum_m32_m21(data_train):\n",
    "#     aum_m2_X{i} 相对于 aum_m1_X{i} 增长了多少，\n",
    "#     aum_m3_X{i} 相对于 aum_m2_X{i} 增长了多少，\n",
    "    newCols = []\n",
    "    for i in range(1, 8+1):\n",
    "        data_train[f\"aum_m21_X{i}\"] = (data_train[f\"aum_m2_X{i}\"] - data_train[f\"aum_m1_X{i}\"]) / data_train[f\"aum_m1_X{i}\"]\n",
    "        data_train[f\"aum_m32_X{i}\"] = (data_train[f\"aum_m3_X{i}\"] - data_train[f\"aum_m2_X{i}\"]) / data_train[f\"aum_m2_X{i}\"]\n",
    "        newCols.extend([f\"aum_m21_X{i}\", f\"aum_m32_X{i}\"])\n",
    "    return newCols\n",
    "\n",
    "newCols_data_train = incrementalRate_aum_m32_m21(data_train)\n",
    "newCols_data_test_a = incrementalRate_aum_m32_m21(data_test_a)"
   ]
  },
  {
   "cell_type": "code",
   "execution_count": 33,
   "metadata": {},
   "outputs": [],
   "source": [
    "def incrementalRate_behavior_m32_m21(data_train):\n",
    "#     behavior_m2_B{i} 相对于 behavior_m1_B{i} 增长了多少，\n",
    "#     behavior_m3_B{i} 相对于 behavior_m2_B{i} 增长了多少，\n",
    "    newCols = []\n",
    "    for i in range(1, 5 + 1):\n",
    "        data_train[f\"behavior_m21_B{i}\"] = (data_train[f\"behavior_m2_B{i}\"] - data_train[f\"behavior_m1_B{i}\"]) / data_train[f\"behavior_m1_B{i}\"]\n",
    "        data_train[f\"behavior_m32_B{i}\"] = (data_train[f\"behavior_m3_B{i}\"] - data_train[f\"behavior_m2_B{i}\"]) / data_train[f\"behavior_m2_B{i}\"]\n",
    "        newCols.extend([f\"behavior_m21_B{i}\", f\"behavior_m32_B{i}\"])\n",
    "    return newCols\n",
    "\n",
    "newCols_data_train = incrementalRate_behavior_m32_m21(data_train)\n",
    "newCols_data_test_a = incrementalRate_behavior_m32_m21(data_test_a)"
   ]
  },
  {
   "cell_type": "code",
   "execution_count": 34,
   "metadata": {},
   "outputs": [],
   "source": [
    "def incrementalRate_cunkuan_m32_m21(data_train):\n",
    "#     cunkuan_m2_C{i} 相对于 cunkuan_m1_C{i} 增长了多少，\n",
    "#     cunkuan_m3_C{i} 相对于 cunkuan_m2_C{i} 增长了多少，\n",
    "    newCols = []\n",
    "    for i in range(1, 2 + 1):\n",
    "        data_train[f\"cunkuan_m21_C{i}\"] = (data_train[f\"cunkuan_m2_C{i}\"] - data_train[f\"cunkuan_m1_C{i}\"]) / data_train[f\"cunkuan_m1_C{i}\"]\n",
    "        data_train[f\"cunkuan_m32_C{i}\"] = (data_train[f\"cunkuan_m3_C{i}\"] - data_train[f\"cunkuan_m2_C{i}\"]) / data_train[f\"cunkuan_m2_C{i}\"]\n",
    "        newCols.extend([f\"cunkuan_m21_C{i}\", f\"cunkuan_m32_C{i}\"])\n",
    "    return newCols\n",
    "\n",
    "newCols_data_train = incrementalRate_cunkuan_m32_m21(data_train)\n",
    "newCols_data_test_a = incrementalRate_cunkuan_m32_m21(data_test_a)"
   ]
  },
  {
   "cell_type": "code",
   "execution_count": 35,
   "metadata": {
    "scrolled": false
   },
   "outputs": [
    {
     "data": {
      "text/html": [
       "<div>\n",
       "<style scoped>\n",
       "    .dataframe tbody tr th:only-of-type {\n",
       "        vertical-align: middle;\n",
       "    }\n",
       "\n",
       "    .dataframe tbody tr th {\n",
       "        vertical-align: top;\n",
       "    }\n",
       "\n",
       "    .dataframe thead th {\n",
       "        text-align: right;\n",
       "    }\n",
       "</style>\n",
       "<table border=\"1\" class=\"dataframe\">\n",
       "  <thead>\n",
       "    <tr style=\"text-align: right;\">\n",
       "      <th></th>\n",
       "      <th>cunkuan_m21_C1</th>\n",
       "      <th>cunkuan_m32_C1</th>\n",
       "      <th>cunkuan_m21_C2</th>\n",
       "      <th>cunkuan_m32_C2</th>\n",
       "    </tr>\n",
       "  </thead>\n",
       "  <tbody>\n",
       "    <tr>\n",
       "      <th>0</th>\n",
       "      <td>0.232967</td>\n",
       "      <td>1.897814e-01</td>\n",
       "      <td>0.000000</td>\n",
       "      <td>0.000000</td>\n",
       "    </tr>\n",
       "    <tr>\n",
       "      <th>1</th>\n",
       "      <td>0.000000</td>\n",
       "      <td>3.084167e-01</td>\n",
       "      <td>0.333333</td>\n",
       "      <td>0.000000</td>\n",
       "    </tr>\n",
       "    <tr>\n",
       "      <th>2</th>\n",
       "      <td>0.000000</td>\n",
       "      <td>1.428287e-07</td>\n",
       "      <td>0.000000</td>\n",
       "      <td>0.000000</td>\n",
       "    </tr>\n",
       "    <tr>\n",
       "      <th>3</th>\n",
       "      <td>0.000000</td>\n",
       "      <td>-1.907692e-01</td>\n",
       "      <td>0.000000</td>\n",
       "      <td>-0.333333</td>\n",
       "    </tr>\n",
       "    <tr>\n",
       "      <th>4</th>\n",
       "      <td>0.000000</td>\n",
       "      <td>1.045058e-02</td>\n",
       "      <td>0.000000</td>\n",
       "      <td>-0.250000</td>\n",
       "    </tr>\n",
       "  </tbody>\n",
       "</table>\n",
       "</div>"
      ],
      "text/plain": [
       "   cunkuan_m21_C1  cunkuan_m32_C1  cunkuan_m21_C2  cunkuan_m32_C2\n",
       "0        0.232967    1.897814e-01        0.000000        0.000000\n",
       "1        0.000000    3.084167e-01        0.333333        0.000000\n",
       "2        0.000000    1.428287e-07        0.000000        0.000000\n",
       "3        0.000000   -1.907692e-01        0.000000       -0.333333\n",
       "4        0.000000    1.045058e-02        0.000000       -0.250000"
      ]
     },
     "execution_count": 35,
     "metadata": {},
     "output_type": "execute_result"
    }
   ],
   "source": [
    "data_train[newCols_data_train].head()"
   ]
  },
  {
   "cell_type": "markdown",
   "metadata": {},
   "source": [
    "生成了很多空值。就处理一下吧。"
   ]
  },
  {
   "cell_type": "code",
   "execution_count": 36,
   "metadata": {},
   "outputs": [
    {
     "data": {
      "image/png": "[encoded data removed]",
      "text/plain": [
       "<Figure size 432x288 with 1 Axes>"
      ]
     },
     "metadata": {},
     "output_type": "display_data"
    }
   ],
   "source": [
    "seeWhichColumnsHaveMissingValues(data_train)"
   ]
  },
  {
   "cell_type": "code",
   "execution_count": 37,
   "metadata": {},
   "outputs": [
    {
     "name": "stdout",
     "output_type": "stream",
     "text": [
      "['behavior_m32_B1', 'behavior_m32_B3', 'behavior_m32_B2', 'behavior_m21_B1', 'behavior_m21_B3', 'behavior_m21_B2', 'behavior_m3_B3-B2', 'aum_m32_X1', 'behavior_m32_B5', 'behavior_m32_B4', 'behavior_m1_B3-B2', 'behavior_m21_B5', 'behavior_m21_B4', 'aum_m21_X1', 'behavior_m2_B3-B2', 'behavior_m3_B5-B4', 'behavior_m1_B5-B4', 'behavior_m2_B5-B4', 'aum_m32_X8', 'aum_m21_X8', 'aum_m32_X7', 'aum_m21_X7', 'aum_m32_X4', 'aum_m21_X4', 'aum_m32_X5', 'aum_m21_X5', 'aum_m32_X6', 'aum_m21_X6', 'aum_m32_X2', 'aum_m21_X2']\n"
     ]
    }
   ],
   "source": [
    "colsThatHaveTooManyNull = seeWhichColumnsHaveMissingValuesMoreThanAThreshold(data_train, 0.15)\n",
    "print(colsThatHaveTooManyNull)"
   ]
  },
  {
   "cell_type": "code",
   "execution_count": 38,
   "metadata": {},
   "outputs": [],
   "source": [
    "data_train = data_train.drop(colsThatHaveTooManyNull, axis=1)\n",
    "data_test_a = data_test_a.drop(colsThatHaveTooManyNull, axis=1)"
   ]
  },
  {
   "cell_type": "code",
   "execution_count": 39,
   "metadata": {},
   "outputs": [
    {
     "data": {
      "text/plain": [
       "(69126, 80)"
      ]
     },
     "execution_count": 39,
     "metadata": {},
     "output_type": "execute_result"
    }
   ],
   "source": [
    "data_train.shape"
   ]
  },
  {
   "cell_type": "markdown",
   "metadata": {},
   "source": [
    "# Combine the `featuretools` data\n",
    "\n",
    "这一部分重要。"
   ]
  },
  {
   "cell_type": "code",
   "execution_count": 40,
   "metadata": {
    "scrolled": true
   },
   "outputs": [
    {
     "name": "stdout",
     "output_type": "stream",
     "text": [
      "aum_m-sum.csv 1\n",
      "aum_m-max.csv 2\n",
      "aum_m-mode.csv 3\n",
      "aum_m-min.csv 4\n",
      "aum_m-count.csv 5\n",
      "aum_m-num_unique.csv 6\n",
      "aum_m-mean.csv 7\n",
      "aum_m-percent_true.csv 8\n",
      "aum_m-std.csv 9\n",
      "aum_m-skew.csv 10\n",
      "behavior_m-sum.csv 11\n",
      "behavior_m-max.csv 12\n",
      "behavior_m-mode.csv 13\n",
      "behavior_m-min.csv 14\n",
      "behavior_m-count.csv 15\n",
      "behavior_m-num_unique.csv 16\n",
      "behavior_m-mean.csv 17\n",
      "behavior_m-percent_true.csv 18\n",
      "behavior_m-std.csv 19\n",
      "behavior_m-skew.csv 20\n",
      "cunkuan_m-sum.csv 21\n",
      "cunkuan_m-max.csv 22\n",
      "cunkuan_m-mode.csv 23\n",
      "cunkuan_m-min.csv 24\n",
      "cunkuan_m-count.csv 25\n",
      "cunkuan_m-num_unique.csv 26\n",
      "cunkuan_m-mean.csv 27\n",
      "cunkuan_m-percent_true.csv 28\n",
      "cunkuan_m-std.csv 29\n",
      "cunkuan_m-skew.csv 30\n",
      "big_event-sum.csv 31\n",
      "big_event-max.csv 32\n",
      "big_event-mode.csv 33\n",
      "big_event-min.csv 34\n",
      "big_event-count.csv 35\n",
      "big_event-num_unique.csv 36\n",
      "big_event-mean.csv 37\n",
      "big_event-percent_true.csv 38\n",
      "big_event-std.csv 39\n",
      "big_event-skew.csv 40\n",
      "aum_m-sum.csv 1\n",
      "aum_m-max.csv 2\n",
      "aum_m-mode.csv 3\n",
      "aum_m-min.csv 4\n",
      "aum_m-count.csv 5\n",
      "aum_m-num_unique.csv 6\n",
      "aum_m-mean.csv 7\n",
      "aum_m-percent_true.csv 8\n",
      "aum_m-std.csv 9\n",
      "aum_m-skew.csv 10\n",
      "behavior_m-sum.csv 11\n",
      "behavior_m-max.csv 12\n",
      "behavior_m-mode.csv 13\n",
      "behavior_m-min.csv 14\n",
      "behavior_m-count.csv 15\n",
      "behavior_m-num_unique.csv 16\n",
      "behavior_m-mean.csv 17\n",
      "behavior_m-percent_true.csv 18\n",
      "behavior_m-std.csv 19\n",
      "behavior_m-skew.csv 20\n",
      "cunkuan_m-sum.csv 21\n",
      "cunkuan_m-max.csv 22\n",
      "cunkuan_m-mode.csv 23\n",
      "cunkuan_m-min.csv 24\n",
      "cunkuan_m-count.csv 25\n",
      "cunkuan_m-num_unique.csv 26\n",
      "cunkuan_m-mean.csv 27\n",
      "cunkuan_m-percent_true.csv 28\n",
      "cunkuan_m-std.csv 29\n",
      "cunkuan_m-skew.csv 30\n",
      "big_event-sum.csv 31\n",
      "big_event-max.csv 32\n",
      "big_event-mode.csv 33\n",
      "big_event-min.csv 34\n",
      "big_event-count.csv 35\n",
      "big_event-num_unique.csv 36\n",
      "big_event-mean.csv 37\n",
      "big_event-percent_true.csv 38\n",
      "big_event-std.csv 39\n",
      "big_event-skew.csv 40\n"
     ]
    }
   ],
   "source": [
    "def getNewlyGeneratedFeaturetoolsFeature(directory):\n",
    "    counter = 0\n",
    "    newFeatures = pd.DataFrame()\n",
    "    custNoCol = pd.DataFrame()\n",
    "    for etyId in [\"aum_m\", \"behavior_m\", \"cunkuan_m\", \"big_event\", ]:\n",
    "        for agg in [\"sum\", \"max\", \"mode\", \"min\", \"count\", \"num_unique\", \"mean\", \"percent_true\", \"std\", \"skew\", ]: \n",
    "            counter += 1\n",
    "            print(f\"{etyId}-{agg}.csv\", counter)\n",
    "            features = pd.read_csv(f\"preprocessedData/{directory}/{etyId}-{agg}.csv\")\n",
    "            custNoCol = features[[\"cust_no\"]]\n",
    "            ## 把原始的Ixx列都删掉，然后和原列整合\n",
    "            features.drop(\n",
    "                [col for col in features.columns if re.search(\"^I\\d+$\", col) != None] + [\"cust_no\"], \n",
    "                axis = 1, \n",
    "                inplace=True\n",
    "            )\n",
    "            newFeatures = pd.concat([newFeatures, features], axis=1)\n",
    "    newFeatures = pd.concat([custNoCol, newFeatures], axis=1)\n",
    "    return newFeatures\n",
    "\n",
    "newFeatures_q4 = getNewlyGeneratedFeaturetoolsFeature(\"featuretools-agg-q3-scheme1\")\n",
    "newFeatures_q1 = getNewlyGeneratedFeaturetoolsFeature(\"featuretools-agg-q1-scheme1\")"
   ]
  },
  {
   "cell_type": "code",
   "execution_count": 41,
   "metadata": {},
   "outputs": [],
   "source": [
    "data_train = pd.merge(data_train, newFeatures_q4, how='inner', on=['cust_no'])\n",
    "data_test_a = pd.merge(data_test_a, newFeatures_q1, how='inner', on=['cust_no'])"
   ]
  },
  {
   "cell_type": "code",
   "execution_count": 42,
   "metadata": {},
   "outputs": [
    {
     "data": {
      "text/plain": [
       "(69126, 476)"
      ]
     },
     "execution_count": 42,
     "metadata": {},
     "output_type": "execute_result"
    }
   ],
   "source": [
    "data_train.shape"
   ]
  },
  {
   "cell_type": "markdown",
   "metadata": {},
   "source": [
    "删掉null太多的列。"
   ]
  },
  {
   "cell_type": "code",
   "execution_count": 43,
   "metadata": {},
   "outputs": [
    {
     "name": "stdout",
     "output_type": "stream",
     "text": [
      "['MEAN(big_event.big_event_E5)', 'MIN(big_event.big_event_E5)', 'MAX(big_event.big_event_E5)', 'MEAN(big_event.big_event_E18)', 'MIN(big_event.big_event_E18)', 'MAX(big_event.big_event_E18)', 'MIN(big_event.big_event_E16)', 'MEAN(big_event.big_event_E16)', 'MAX(big_event.big_event_E16)', 'MEAN(big_event.big_event_E4)', 'MIN(big_event.big_event_E4)', 'MAX(big_event.big_event_E4)', 'MIN(big_event.big_event_E14)', 'MAX(big_event.big_event_E14)', 'MEAN(big_event.big_event_E14)', 'MAX(big_event.big_event_E12)', 'MEAN(big_event.big_event_E12)', 'MIN(big_event.big_event_E12)', 'MEAN(big_event.big_event_E13)', 'MIN(big_event.big_event_E13)', 'MAX(big_event.big_event_E13)', 'MEAN(big_event.big_event_E8)', 'MAX(big_event.big_event_E8)', 'MIN(big_event.big_event_E8)', 'MEAN(big_event.big_event_E7)', 'MAX(big_event.big_event_E7)', 'MIN(big_event.big_event_E7)', 'MEAN(big_event.big_event_E9)', 'MIN(big_event.big_event_E9)', 'MAX(big_event.big_event_E9)', 'SKEW(cunkuan_m.cunkuan_m1_C1)', 'SKEW(cunkuan_m.cunkuan_m1_C2)', 'SKEW(cunkuan_m.cunkuan_m2_C1)', 'MEAN(big_event.big_event_E11)', 'MIN(big_event.big_event_E11)', 'SKEW(cunkuan_m.cunkuan_m2_C2)', 'SKEW(cunkuan_m.cunkuan_m3_C1)', 'SKEW(cunkuan_m.cunkuan_m3_C2)', 'STD(cunkuan_m.cunkuan_m2_C2)', 'MAX(big_event.big_event_E11)', 'STD(cunkuan_m.cunkuan_m2_C1)', 'STD(cunkuan_m.cunkuan_m3_C1)', 'STD(cunkuan_m.cunkuan_m3_C2)', 'STD(aum_m.aum_m1_X1)', 'STD(big_event.big_event_E1)', 'SKEW(big_event.big_event_E11)', 'SKEW(big_event.big_event_E12)', 'SKEW(big_event.big_event_E13)', 'SKEW(big_event.big_event_E14)', 'SKEW(big_event.big_event_E15)', 'SKEW(big_event.big_event_E16)', 'SKEW(big_event.big_event_E10)', 'SKEW(big_event.big_event_E17)', 'SKEW(big_event.big_event_E2)', 'SKEW(big_event.big_event_E3)', 'SKEW(big_event.big_event_E4)', 'SKEW(big_event.big_event_E5)', 'SKEW(big_event.big_event_E6)', 'SKEW(big_event.big_event_E7)', 'SKEW(big_event.big_event_E18)', 'SKEW(big_event.big_event_E1)', 'STD(big_event.big_event_E9)', 'STD(big_event.big_event_E8)', 'STD(big_event.big_event_E10)', 'STD(big_event.big_event_E11)', 'STD(big_event.big_event_E12)', 'STD(big_event.big_event_E13)', 'STD(big_event.big_event_E14)', 'STD(big_event.big_event_E15)', 'STD(big_event.big_event_E16)', 'STD(big_event.big_event_E17)', 'STD(big_event.big_event_E18)', 'STD(big_event.big_event_E2)', 'STD(big_event.big_event_E3)', 'STD(big_event.big_event_E4)', 'STD(big_event.big_event_E5)', 'STD(big_event.big_event_E6)', 'STD(big_event.big_event_E7)', 'STD(cunkuan_m.cunkuan_m1_C2)', 'SKEW(big_event.big_event_E8)', 'STD(cunkuan_m.cunkuan_m1_C1)', 'SKEW(behavior_m.behavior_m3_B5)', 'STD(aum_m.aum_m3_X6)', 'STD(aum_m.aum_m3_X7)', 'STD(aum_m.aum_m3_X8)', 'SKEW(aum_m.aum_m1_X1)', 'SKEW(aum_m.aum_m1_X2)', 'SKEW(aum_m.aum_m1_X3)', 'SKEW(aum_m.aum_m1_X4)', 'STD(aum_m.aum_m3_X5)', 'SKEW(aum_m.aum_m1_X5)', 'SKEW(aum_m.aum_m1_X7)', 'SKEW(aum_m.aum_m1_X8)', 'SKEW(aum_m.aum_m2_X1)', 'SKEW(aum_m.aum_m2_X2)', 'SKEW(aum_m.aum_m2_X3)', 'SKEW(aum_m.aum_m2_X4)', 'SKEW(aum_m.aum_m2_X5)', 'SKEW(aum_m.aum_m1_X6)', 'SKEW(aum_m.aum_m2_X6)', 'STD(aum_m.aum_m3_X4)', 'STD(aum_m.aum_m3_X2)', 'STD(aum_m.aum_m1_X2)', 'STD(aum_m.aum_m1_X3)', 'STD(aum_m.aum_m1_X4)', 'STD(aum_m.aum_m1_X5)', 'STD(aum_m.aum_m1_X6)', 'STD(aum_m.aum_m1_X7)', 'STD(aum_m.aum_m1_X8)', 'STD(aum_m.aum_m3_X3)', 'STD(aum_m.aum_m2_X1)', 'STD(aum_m.aum_m2_X3)', 'STD(aum_m.aum_m2_X4)', 'STD(aum_m.aum_m2_X5)', 'STD(aum_m.aum_m2_X6)', 'STD(aum_m.aum_m2_X7)', 'STD(aum_m.aum_m2_X8)', 'STD(aum_m.aum_m3_X1)', 'STD(aum_m.aum_m2_X2)', 'SKEW(aum_m.aum_m2_X7)', 'SKEW(aum_m.aum_m2_X8)', 'SKEW(aum_m.aum_m3_X1)', 'STD(behavior_m.behavior_m3_B5)', 'STD(behavior_m.behavior_m3_B7)', 'SKEW(behavior_m.behavior_m1_B1)', 'SKEW(behavior_m.behavior_m1_B2)', 'SKEW(behavior_m.behavior_m1_B3)', 'SKEW(behavior_m.behavior_m1_B4)', 'SKEW(behavior_m.behavior_m1_B5)', 'STD(behavior_m.behavior_m3_B4)', 'SKEW(behavior_m.behavior_m2_B1)', 'SKEW(behavior_m.behavior_m2_B3)', 'SKEW(behavior_m.behavior_m2_B4)', 'SKEW(behavior_m.behavior_m2_B5)', 'SKEW(behavior_m.behavior_m3_B1)', 'SKEW(behavior_m.behavior_m3_B2)', 'SKEW(behavior_m.behavior_m3_B3)', 'SKEW(behavior_m.behavior_m3_B4)', 'SKEW(behavior_m.behavior_m2_B2)', 'STD(behavior_m.behavior_m3_B3)', 'STD(behavior_m.behavior_m3_B2)', 'STD(behavior_m.behavior_m3_B1)', 'SKEW(aum_m.aum_m3_X2)', 'SKEW(aum_m.aum_m3_X3)', 'SKEW(aum_m.aum_m3_X4)', 'SKEW(aum_m.aum_m3_X5)', 'SKEW(aum_m.aum_m3_X6)', 'SKEW(aum_m.aum_m3_X7)', 'SKEW(aum_m.aum_m3_X8)', 'STD(behavior_m.behavior_m1_B1)', 'STD(behavior_m.behavior_m1_B2)', 'STD(behavior_m.behavior_m1_B3)', 'STD(behavior_m.behavior_m1_B4)', 'STD(behavior_m.behavior_m1_B5)', 'STD(behavior_m.behavior_m2_B1)', 'STD(behavior_m.behavior_m2_B2)', 'STD(behavior_m.behavior_m2_B3)', 'STD(behavior_m.behavior_m2_B4)', 'STD(behavior_m.behavior_m2_B5)', 'SKEW(behavior_m.behavior_m3_B7)', 'SKEW(big_event.big_event_E9)']\n"
     ]
    }
   ],
   "source": [
    "while True:\n",
    "#     seeWhichColumnsHaveMissingValues(data_train)\n",
    "    colsThatHaveTooManyNull = seeWhichColumnsHaveMissingValuesMoreThanAThreshold(data_train, 0.15)\n",
    "    if len(colsThatHaveTooManyNull):\n",
    "        print(colsThatHaveTooManyNull)\n",
    "        data_train = data_train.drop(colsThatHaveTooManyNull, axis=1)\n",
    "        data_test_a = data_test_a.drop(colsThatHaveTooManyNull, axis=1)\n",
    "    else:\n",
    "        break"
   ]
  },
  {
   "cell_type": "code",
   "execution_count": 44,
   "metadata": {},
   "outputs": [],
   "source": [
    "# data_train = data_train.drop(colsThatHaveTooManyNull, axis=1)\n",
    "# data_test_a = data_test_a.drop(colsThatHaveTooManyNull, axis=1)\n",
    "# data_train.shape"
   ]
  },
  {
   "cell_type": "code",
   "execution_count": 45,
   "metadata": {},
   "outputs": [
    {
     "data": {
      "text/html": [
       "<div>\n",
       "<style scoped>\n",
       "    .dataframe tbody tr th:only-of-type {\n",
       "        vertical-align: middle;\n",
       "    }\n",
       "\n",
       "    .dataframe tbody tr th {\n",
       "        vertical-align: top;\n",
       "    }\n",
       "\n",
       "    .dataframe thead th {\n",
       "        text-align: right;\n",
       "    }\n",
       "</style>\n",
       "<table border=\"1\" class=\"dataframe\">\n",
       "  <thead>\n",
       "    <tr style=\"text-align: right;\">\n",
       "      <th></th>\n",
       "      <th>cust_no</th>\n",
       "      <th>aum_m1_X1</th>\n",
       "      <th>aum_m1_X2</th>\n",
       "      <th>aum_m1_X3</th>\n",
       "      <th>aum_m1_X4</th>\n",
       "      <th>aum_m1_X5</th>\n",
       "      <th>aum_m1_X6</th>\n",
       "      <th>aum_m1_X7</th>\n",
       "      <th>aum_m1_X8</th>\n",
       "      <th>aum_m2_X1</th>\n",
       "      <th>...</th>\n",
       "      <th>MIN(big_event.big_event_E3)</th>\n",
       "      <th>MIN(big_event.big_event_E6)</th>\n",
       "      <th>COUNT(big_event)</th>\n",
       "      <th>MEAN(big_event.big_event_E1)</th>\n",
       "      <th>MEAN(big_event.big_event_E10)</th>\n",
       "      <th>MEAN(big_event.big_event_E15)</th>\n",
       "      <th>MEAN(big_event.big_event_E17)</th>\n",
       "      <th>MEAN(big_event.big_event_E2)</th>\n",
       "      <th>MEAN(big_event.big_event_E3)</th>\n",
       "      <th>MEAN(big_event.big_event_E6)</th>\n",
       "    </tr>\n",
       "  </thead>\n",
       "  <tbody>\n",
       "    <tr>\n",
       "      <th>0</th>\n",
       "      <td>0xb2d30bf6</td>\n",
       "      <td>0.0</td>\n",
       "      <td>0.0</td>\n",
       "      <td>15774.75</td>\n",
       "      <td>0.0</td>\n",
       "      <td>0.0</td>\n",
       "      <td>0.0</td>\n",
       "      <td>0.0</td>\n",
       "      <td>0.0</td>\n",
       "      <td>0.0</td>\n",
       "      <td>...</td>\n",
       "      <td>6423.0</td>\n",
       "      <td>7044.0</td>\n",
       "      <td>1</td>\n",
       "      <td>6422.0</td>\n",
       "      <td>7211.0</td>\n",
       "      <td>0.0</td>\n",
       "      <td>0.0</td>\n",
       "      <td>6423.0</td>\n",
       "      <td>6423.0</td>\n",
       "      <td>7044.0</td>\n",
       "    </tr>\n",
       "    <tr>\n",
       "      <th>1</th>\n",
       "      <td>0xb2d0c143</td>\n",
       "      <td>110000.0</td>\n",
       "      <td>0.0</td>\n",
       "      <td>20000.30</td>\n",
       "      <td>0.0</td>\n",
       "      <td>0.0</td>\n",
       "      <td>0.0</td>\n",
       "      <td>0.0</td>\n",
       "      <td>0.0</td>\n",
       "      <td>130000.0</td>\n",
       "      <td>...</td>\n",
       "      <td>5674.0</td>\n",
       "      <td>6859.0</td>\n",
       "      <td>1</td>\n",
       "      <td>5674.0</td>\n",
       "      <td>6949.0</td>\n",
       "      <td>0.0</td>\n",
       "      <td>0.0</td>\n",
       "      <td>5674.0</td>\n",
       "      <td>5674.0</td>\n",
       "      <td>6859.0</td>\n",
       "    </tr>\n",
       "    <tr>\n",
       "      <th>2</th>\n",
       "      <td>0xb2d6004d</td>\n",
       "      <td>70000.0</td>\n",
       "      <td>0.0</td>\n",
       "      <td>13.93</td>\n",
       "      <td>0.0</td>\n",
       "      <td>0.0</td>\n",
       "      <td>0.0</td>\n",
       "      <td>0.0</td>\n",
       "      <td>0.0</td>\n",
       "      <td>70000.0</td>\n",
       "      <td>...</td>\n",
       "      <td>6907.0</td>\n",
       "      <td>6907.0</td>\n",
       "      <td>1</td>\n",
       "      <td>6907.0</td>\n",
       "      <td>7037.0</td>\n",
       "      <td>0.0</td>\n",
       "      <td>0.0</td>\n",
       "      <td>6907.0</td>\n",
       "      <td>6907.0</td>\n",
       "      <td>6907.0</td>\n",
       "    </tr>\n",
       "    <tr>\n",
       "      <th>3</th>\n",
       "      <td>0xb2d5a839</td>\n",
       "      <td>153000.0</td>\n",
       "      <td>0.0</td>\n",
       "      <td>0.00</td>\n",
       "      <td>0.0</td>\n",
       "      <td>0.0</td>\n",
       "      <td>0.0</td>\n",
       "      <td>0.0</td>\n",
       "      <td>0.0</td>\n",
       "      <td>153000.0</td>\n",
       "      <td>...</td>\n",
       "      <td>6856.0</td>\n",
       "      <td>6880.0</td>\n",
       "      <td>1</td>\n",
       "      <td>6856.0</td>\n",
       "      <td>6928.0</td>\n",
       "      <td>30000.0</td>\n",
       "      <td>20000.0</td>\n",
       "      <td>6856.0</td>\n",
       "      <td>6856.0</td>\n",
       "      <td>6880.0</td>\n",
       "    </tr>\n",
       "    <tr>\n",
       "      <th>4</th>\n",
       "      <td>0xb2d63b24</td>\n",
       "      <td>167000.0</td>\n",
       "      <td>0.0</td>\n",
       "      <td>8.99</td>\n",
       "      <td>0.0</td>\n",
       "      <td>0.0</td>\n",
       "      <td>0.0</td>\n",
       "      <td>0.0</td>\n",
       "      <td>0.0</td>\n",
       "      <td>167000.0</td>\n",
       "      <td>...</td>\n",
       "      <td>6968.0</td>\n",
       "      <td>7209.0</td>\n",
       "      <td>1</td>\n",
       "      <td>6948.0</td>\n",
       "      <td>7208.0</td>\n",
       "      <td>0.0</td>\n",
       "      <td>0.0</td>\n",
       "      <td>6968.0</td>\n",
       "      <td>6968.0</td>\n",
       "      <td>7209.0</td>\n",
       "    </tr>\n",
       "  </tbody>\n",
       "</table>\n",
       "<p>5 rows × 315 columns</p>\n",
       "</div>"
      ],
      "text/plain": [
       "      cust_no  aum_m1_X1  aum_m1_X2  aum_m1_X3  aum_m1_X4  aum_m1_X5  \\\n",
       "0  0xb2d30bf6        0.0        0.0   15774.75        0.0        0.0   \n",
       "1  0xb2d0c143   110000.0        0.0   20000.30        0.0        0.0   \n",
       "2  0xb2d6004d    70000.0        0.0      13.93        0.0        0.0   \n",
       "3  0xb2d5a839   153000.0        0.0       0.00        0.0        0.0   \n",
       "4  0xb2d63b24   167000.0        0.0       8.99        0.0        0.0   \n",
       "\n",
       "   aum_m1_X6  aum_m1_X7  aum_m1_X8  aum_m2_X1  ...  \\\n",
       "0        0.0        0.0        0.0        0.0  ...   \n",
       "1        0.0        0.0        0.0   130000.0  ...   \n",
       "2        0.0        0.0        0.0    70000.0  ...   \n",
       "3        0.0        0.0        0.0   153000.0  ...   \n",
       "4        0.0        0.0        0.0   167000.0  ...   \n",
       "\n",
       "   MIN(big_event.big_event_E3)  MIN(big_event.big_event_E6)  COUNT(big_event)  \\\n",
       "0                       6423.0                       7044.0                 1   \n",
       "1                       5674.0                       6859.0                 1   \n",
       "2                       6907.0                       6907.0                 1   \n",
       "3                       6856.0                       6880.0                 1   \n",
       "4                       6968.0                       7209.0                 1   \n",
       "\n",
       "   MEAN(big_event.big_event_E1)  MEAN(big_event.big_event_E10)  \\\n",
       "0                        6422.0                         7211.0   \n",
       "1                        5674.0                         6949.0   \n",
       "2                        6907.0                         7037.0   \n",
       "3                        6856.0                         6928.0   \n",
       "4                        6948.0                         7208.0   \n",
       "\n",
       "   MEAN(big_event.big_event_E15)  MEAN(big_event.big_event_E17)  \\\n",
       "0                            0.0                            0.0   \n",
       "1                            0.0                            0.0   \n",
       "2                            0.0                            0.0   \n",
       "3                        30000.0                        20000.0   \n",
       "4                            0.0                            0.0   \n",
       "\n",
       "   MEAN(big_event.big_event_E2)  MEAN(big_event.big_event_E3)  \\\n",
       "0                        6423.0                        6423.0   \n",
       "1                        5674.0                        5674.0   \n",
       "2                        6907.0                        6907.0   \n",
       "3                        6856.0                        6856.0   \n",
       "4                        6968.0                        6968.0   \n",
       "\n",
       "   MEAN(big_event.big_event_E6)  \n",
       "0                        7044.0  \n",
       "1                        6859.0  \n",
       "2                        6907.0  \n",
       "3                        6880.0  \n",
       "4                        7209.0  \n",
       "\n",
       "[5 rows x 315 columns]"
      ]
     },
     "execution_count": 45,
     "metadata": {},
     "output_type": "execute_result"
    }
   ],
   "source": [
    "data_train.head()"
   ]
  },
  {
   "cell_type": "markdown",
   "metadata": {},
   "source": [
    "# Last data processing"
   ]
  },
  {
   "cell_type": "markdown",
   "metadata": {},
   "source": [
    "~~可以再填充一轮na，~~"
   ]
  },
  {
   "cell_type": "code",
   "execution_count": 46,
   "metadata": {},
   "outputs": [],
   "source": [
    "# x_train.fillna(method='ffill', inplace=True)\n",
    "# x_test.fillna(method='ffill', inplace=True)"
   ]
  },
  {
   "cell_type": "markdown",
   "metadata": {},
   "source": [
    "然后做一下什么归一化. "
   ]
  },
  {
   "cell_type": "code",
   "execution_count": 47,
   "metadata": {},
   "outputs": [],
   "source": [
    "featuresExceptForIDAndLabel = [col for col in data_train.columns if col not in [\"cust_no\", \"label\"]]"
   ]
  },
  {
   "cell_type": "code",
   "execution_count": 48,
   "metadata": {},
   "outputs": [],
   "source": [
    "data_train[featuresExceptForIDAndLabel] = data_train[featuresExceptForIDAndLabel].apply(lambda x: (x - np.min(x)) / (np.max(x) - np.min(x)))\n",
    "data_test_a[featuresExceptForIDAndLabel] = data_test_a[featuresExceptForIDAndLabel].apply(lambda x: (x - np.min(x)) / (np.max(x) - np.min(x)))"
   ]
  },
  {
   "cell_type": "markdown",
   "metadata": {},
   "source": [
    "未来，可以做：\n",
    "* 分箱\n",
    "* 异常值处理\n",
    "* 特征选择，选取最重要的几个特征"
   ]
  },
  {
   "cell_type": "code",
   "execution_count": 49,
   "metadata": {},
   "outputs": [
    {
     "data": {
      "text/plain": [
       "(69126, 315)"
      ]
     },
     "execution_count": 49,
     "metadata": {},
     "output_type": "execute_result"
    }
   ],
   "source": [
    "data_train.shape"
   ]
  },
  {
   "cell_type": "code",
   "execution_count": 50,
   "metadata": {},
   "outputs": [
    {
     "data": {
      "text/plain": [
       "Index(['cust_no', 'aum_m1_X1', 'aum_m1_X2', 'aum_m1_X3', 'aum_m1_X4',\n",
       "       'aum_m1_X5', 'aum_m1_X6', 'aum_m1_X7', 'aum_m1_X8', 'aum_m2_X1',\n",
       "       ...\n",
       "       'MIN(big_event.big_event_E3)', 'MIN(big_event.big_event_E6)',\n",
       "       'COUNT(big_event)', 'MEAN(big_event.big_event_E1)',\n",
       "       'MEAN(big_event.big_event_E10)', 'MEAN(big_event.big_event_E15)',\n",
       "       'MEAN(big_event.big_event_E17)', 'MEAN(big_event.big_event_E2)',\n",
       "       'MEAN(big_event.big_event_E3)', 'MEAN(big_event.big_event_E6)'],\n",
       "      dtype='object', length=315)"
      ]
     },
     "execution_count": 50,
     "metadata": {},
     "output_type": "execute_result"
    }
   ],
   "source": [
    "data_train.columns"
   ]
  },
  {
   "cell_type": "markdown",
   "metadata": {
    "id": "jbNJUSRy7AJ2"
   },
   "source": [
    "# Delete the features that will not be used to fit the model\n",
    "\n",
    "No `xx_outliers` features, no labels, no original dates. "
   ]
  },
  {
   "cell_type": "code",
   "execution_count": 51,
   "metadata": {
    "executionInfo": {
     "elapsed": 294,
     "status": "ok",
     "timestamp": 1607149119399,
     "user": {
      "displayName": "Minke Xiu",
      "photoUrl": "https://lh3.googleusercontent.com/a-/AOh14GiKrlSLM7H0tbRpIYdHPAKnVjaQdF6dZZWD9Jdd=s64",
      "userId": "01913327350585558279"
     },
     "user_tz": 300
    },
    "id": "ofVFgUvzFqpM"
   },
   "outputs": [],
   "source": [
    "features = [f for f in data_train.columns if f not in [\"cust_no\", \"label\"] and '_outliers' not in f]\n",
    "y_train = data_train['label'].map({-1: 0, 0: 1, 1: 2})\n",
    "x_train = data_train[features]\n",
    "x_test = data_test_a[features]"
   ]
  },
  {
   "cell_type": "markdown",
   "metadata": {
    "id": "wdJf-IVJ75y8"
   },
   "source": [
    "# Save preprocessed data if necessary"
   ]
  },
  {
   "cell_type": "code",
   "execution_count": 52,
   "metadata": {
    "executionInfo": {
     "elapsed": 291,
     "status": "ok",
     "timestamp": 1607147089605,
     "user": {
      "displayName": "Minke Xiu",
      "photoUrl": "https://lh3.googleusercontent.com/a-/AOh14GiKrlSLM7H0tbRpIYdHPAKnVjaQdF6dZZWD9Jdd=s64",
      "userId": "01913327350585558279"
     },
     "user_tz": 300
    },
    "id": "Bvn4nd9a0AtJ"
   },
   "outputs": [],
   "source": [
    "x_train.to_csv(\"preprocessedData/x_train-3.5-q3.csv\", index=False)\n",
    "x_test.to_csv(\"preprocessedData/x_test-3.5-q3.csv\", index=False)\n",
    "y_train.to_csv(\"preprocessedData/y_train-3.5-q3.csv\", index=False)"
   ]
  },
  {
   "cell_type": "markdown",
   "metadata": {
    "id": "MUvmaksc2jSs"
   },
   "source": [
    "# Load preprocessed data if applicable"
   ]
  },
  {
   "cell_type": "code",
   "execution_count": 50,
   "metadata": {
    "executionInfo": {
     "elapsed": 296,
     "status": "ok",
     "timestamp": 1607147090317,
     "user": {
      "displayName": "Minke Xiu",
      "photoUrl": "https://lh3.googleusercontent.com/a-/AOh14GiKrlSLM7H0tbRpIYdHPAKnVjaQdF6dZZWD9Jdd=s64",
      "userId": "01913327350585558279"
     },
     "user_tz": 300
    },
    "id": "cyz1hnkb2gxo"
   },
   "outputs": [],
   "source": [
    "x_train = pd.read_csv(\"preprocessedData/x_train-3.5-q3.csv\")\n",
    "x_test = pd.read_csv(\"preprocessedData/x_test-3.5-q3.csv\")\n",
    "y_train = pd.read_csv(\"preprocessedData/y_train-3.5-q3.csv\", header=None)"
   ]
  },
  {
   "cell_type": "code",
   "execution_count": 61,
   "metadata": {},
   "outputs": [
    {
     "name": "stdout",
     "output_type": "stream",
     "text": [
      "['COUNT(aum_m)', 'MODE(behavior_m.YEAR(behavior_m3_B6))', 'COUNT(behavior_m)', 'SUM(big_event.big_event_E11)', 'COUNT(big_event)']\n"
     ]
    },
    {
     "data": {
      "image/png": "[encoded data removed]",
      "text/plain": [
       "<Figure size 432x288 with 1 Axes>"
      ]
     },
     "metadata": {},
     "output_type": "display_data"
    }
   ],
   "source": [
    "def seeWhichColumnsHaveMissingValues(data_train): \n",
    "    missing = data_train.isnull().sum()/len(data_train)\n",
    "    missing = missing[missing > 0]\n",
    "    missing.sort_values(inplace=True)\n",
    "#     print((missing))\n",
    "    missing.plot.bar()\n",
    "\n",
    "def seeWhichColumnsHaveMissingValuesMoreThanAThreshold(data_train, threshold): \n",
    "    missing = data_train.isnull().sum()/len(data_train)\n",
    "    missing = missing[missing > threshold]\n",
    "    missing.sort_values(inplace=True)\n",
    "    return list(missing.index)\n",
    "\n",
    "## 不知道为什么，x_train还有null很多的列。为什么之前那一轮筛查的时候没发现？\n",
    "while True:\n",
    "    colsThatHaveTooManyNull = seeWhichColumnsHaveMissingValuesMoreThanAThreshold(x_train, 0.15)\n",
    "    if len(colsThatHaveTooManyNull):\n",
    "        print(colsThatHaveTooManyNull)\n",
    "        x_train = x_train.drop(colsThatHaveTooManyNull, axis=1)\n",
    "        x_test = x_test.drop(colsThatHaveTooManyNull, axis=1)\n",
    "    else:\n",
    "        break"
   ]
  },
  {
   "cell_type": "code",
   "execution_count": 48,
   "metadata": {
    "executionInfo": {
     "elapsed": 312,
     "status": "ok",
     "timestamp": 1607150349435,
     "user": {
      "displayName": "Minke Xiu",
      "photoUrl": "https://lh3.googleusercontent.com/a-/AOh14GiKrlSLM7H0tbRpIYdHPAKnVjaQdF6dZZWD9Jdd=s64",
      "userId": "01913327350585558279"
     },
     "user_tz": 300
    },
    "id": "ZJ0sGAM8bxWn"
   },
   "outputs": [],
   "source": [
    "# x_train = x_train.head(1000)\n",
    "# x_test = x_test.head(1000)\n",
    "# y_train = y_train.head(1000)"
   ]
  },
  {
   "cell_type": "markdown",
   "metadata": {
    "id": "4WQ9gcu09pNN"
   },
   "source": [
    "# Some hands on model training"
   ]
  },
  {
   "cell_type": "code",
   "execution_count": 52,
   "metadata": {
    "executionInfo": {
     "elapsed": 708,
     "status": "ok",
     "timestamp": 1607151907848,
     "user": {
      "displayName": "Minke Xiu",
      "photoUrl": "https://lh3.googleusercontent.com/a-/AOh14GiKrlSLM7H0tbRpIYdHPAKnVjaQdF6dZZWD9Jdd=s64",
      "userId": "01913327350585558279"
     },
     "user_tz": 300
    },
    "id": "iGWG_YyN9pNO"
   },
   "outputs": [],
   "source": [
    "testA_result = pd.read_csv('originalDataset/submission_sample.csv')\n",
    "testA_result_pred = testA_result.copy()"
   ]
  },
  {
   "cell_type": "markdown",
   "metadata": {
    "id": "-IYkxir4FO9I"
   },
   "source": [
    "### Scheme A\n",
    "\n",
    "普通方案. 单个模型. \n",
    "\n",
    "似乎啊，不用stratifiedkfold，有的时候效果更好欸。但是如果用的话，会不会更稳呢？\n",
    "    \n",
    "    我感觉不会。因为用了StratifiedKFold, 那么拟合出来的模型就适应于原有的label分布，而真实的label分布是怎样的谁知道呢。没有道理认为测试集的数据label分布会和训练集一样。那么，在训练的时候保持训练集的label分布，意义何在？"
   ]
  },
  {
   "cell_type": "code",
   "execution_count": 53,
   "metadata": {
    "executionInfo": {
     "elapsed": 541,
     "status": "ok",
     "timestamp": 1607152113735,
     "user": {
      "displayName": "Minke Xiu",
      "photoUrl": "https://lh3.googleusercontent.com/a-/AOh14GiKrlSLM7H0tbRpIYdHPAKnVjaQdF6dZZWD9Jdd=s64",
      "userId": "01913327350585558279"
     },
     "user_tz": 300
    },
    "id": "AOEDXFrx9pNO"
   },
   "outputs": [],
   "source": [
    "def getTheFinalVotingResult(l):\n",
    "    dic = defaultdict(list)\n",
    "    maxNum = -1\n",
    "    for i, j in Counter(l).items():\n",
    "        ## i是l里面的数字，j是i在l出现的次数\n",
    "        maxNum = max(maxNum, j)\n",
    "        ## 根据出现次数，来归类i\n",
    "        dic[j].append(i)\n",
    "    return random.choice(dic[maxNum])\n",
    "\n",
    "def kappa_withSklearn_lgb(y_pred, y):\n",
    "    # print(y_pred.shape)\n",
    "    index_array = np.argmax(np.reshape(y_pred, (-1, 3)), axis=-1)\n",
    "    return \"Kappa~~\", cohen_kappa_score(index_array, y.get_label().astype(int)), True\n",
    "\n",
    "def kappa_withSklearn_xgb(y_pred, y):\n",
    "    index_array = np.argmax(y_pred, axis=-1)\n",
    "    return \"Kappa\", cohen_kappa_score(index_array, y.get_label().astype(int)) * -1\n",
    "\n",
    "def kappaMyImplementation(sample_y, sample_pred): \n",
    "    ## 我自己实现的kappa \n",
    "    ## https://baike.baidu.com/item/kappa%E7%B3%BB%E6%95%B0/9385025\n",
    "    p0 = accuracy_score(sample_y, sample_pred)\n",
    "    y_count = Counter(sample_y)\n",
    "    pred_count = Counter(sample_pred)\n",
    "    n = len(sample_y)\n",
    "    s = 0\n",
    "    for l in [-1, 0, 1]:\n",
    "        ai = y_count.get(l, 0)\n",
    "        bi = pred_count.get(l, 0)\n",
    "        s += ai * bi\n",
    "    pe = s / (n * n)\n",
    "    return \"Kappa\", (p0 - pe) / (1 - pe), True\n",
    "\n",
    "def cv_model(clf, train_x, train_y, test_x, clf_name, folds = 5):\n",
    "    # folds = 5\n",
    "    seed = 2020\n",
    "    kf = KFold(n_splits=folds, shuffle=True, random_state=seed)\n",
    "\n",
    "    train = np.zeros(train_x.shape[0])\n",
    "    test = np.zeros(test_x.shape[0])\n",
    "\n",
    "    cv_scores = []\n",
    "\n",
    "    newStackingTestSet = pd.DataFrame(columns=[\"k{}\".format(i + 1) for i in range(folds)])\n",
    "\n",
    "    for i, (train_index, valid_index) in enumerate(kf.split(train_x, train_y)):\n",
    "        print('************************************ {} ************************************'.format(str(i+1)))\n",
    "        trn_x, trn_y, val_x, val_y = train_x.iloc[train_index], train_y.iloc[train_index], train_x.iloc[valid_index], train_y.iloc[valid_index]\n",
    "\n",
    "        if clf_name == \"lgb\":\n",
    "            train_matrix = clf.Dataset(trn_x, label=trn_y)\n",
    "            valid_matrix = clf.Dataset(val_x, label=val_y)\n",
    "\n",
    "            params = {\n",
    "                'boosting_type': 'gbdt',\n",
    "                'objective': 'multiclass',\n",
    "                'num_class': 3,\n",
    "#                 'metric': 'auc',\n",
    "                'min_child_weight': 5,\n",
    "                'num_leaves': 2 ** 5,\n",
    "                'lambda_l2': 10,\n",
    "                'feature_fraction': 0.8,\n",
    "                'bagging_fraction': 0.8,\n",
    "                'bagging_freq': 4,\n",
    "                'learning_rate': 0.1,\n",
    "                'seed': 2020,\n",
    "                'nthread': 28,\n",
    "                'n_jobs':24,\n",
    "                'silent': True,\n",
    "                'verbose': -1,    \n",
    "#                 'device_type': 'gpu',\n",
    "#                 'max_bin': 63\n",
    "            }\n",
    "\n",
    "            model = clf.train(params, train_matrix, 50000, valid_sets=[train_matrix, valid_matrix], \n",
    "                              verbose_eval=200, early_stopping_rounds=200, \n",
    "                              feval= kappa_withSklearn_lgb,  \n",
    "                             )\n",
    "            val_pred_ = model.predict(val_x, num_iteration=model.best_iteration)\n",
    "            print(val_pred_.shape)\n",
    "            test_pred_ = model.predict(test_x, num_iteration=model.best_iteration)\n",
    "            val_pred = np.argmax(val_pred_, axis=-1)\n",
    "            test_pred = np.argmax(test_pred_, axis=-1)\n",
    "            \n",
    "            # print(list(sorted(zip(features, model.feature_importance(\"gain\")), key=lambda x: x[1], reverse=True))[:20])\n",
    "                \n",
    "        if clf_name == \"xgb\":\n",
    "            train_matrix = clf.DMatrix(trn_x , label=trn_y)\n",
    "            valid_matrix = clf.DMatrix(val_x , label=val_y)\n",
    "            \n",
    "            params = {'booster': 'gbtree',\n",
    "                      'objective': 'multi:softprob',\n",
    "                      \"num_class\": 3, \n",
    "#                       'eval_metric': 'auc',\n",
    "                      'gamma': 1,\n",
    "                      'min_child_weight': 1.5,\n",
    "                      'max_depth': 5,\n",
    "                      'lambda': 10,\n",
    "                      'subsample': 0.7,\n",
    "                      'colsample_bytree': 0.7,\n",
    "                      'colsample_bylevel': 0.7,\n",
    "                      'eta': 0.04, \n",
    "                      'seed': 2020,\n",
    "                      'nthread': 36,\n",
    "                      \"silent\": True,\n",
    "\n",
    "                      'tree_method': \"gpu_hist\", #  # \n",
    "#                       'tree_method': 'exact',\n",
    "                      }\n",
    "            \n",
    "            watchlist = [(train_matrix, 'train'),(valid_matrix, 'eval')]\n",
    "            \n",
    "            model = clf.train(params, train_matrix, num_boost_round=50000, \n",
    "                              evals=watchlist, verbose_eval=200, early_stopping_rounds=200, \n",
    "                             feval = kappa_withSklearn_xgb\n",
    "                             )\n",
    "            # https://stackoverflow.com/questions/55579610/xgboost-attributeerror-dataframe-object-has-no-attribute-feature-names\n",
    "            val_pred_  = model.predict(valid_matrix, ntree_limit=model.best_ntree_limit)\n",
    "            test_pred_ = model.predict(xgb.DMatrix(test_x) , ntree_limit=model.best_ntree_limit)\n",
    "            val_pred = np.argmax(val_pred_, axis=-1)\n",
    "            test_pred = np.argmax(test_pred_, axis=-1)\n",
    "                 \n",
    "        if clf_name == \"cat\":\n",
    "            ## https://catboost.ai/docs/concepts/python-reference_parameters-list.html\n",
    "            params = {\n",
    "                'learning_rate': 0.1, \n",
    "                'depth': 10, ## 曾经测试过15，但是一旦设置到15，就会奇慢无比\n",
    "                'l2_leaf_reg': 50, ## 设为20，能够达到40xx的分数。 \n",
    "                'bootstrap_type': \"Bernoulli\", ## \"Bayesian\"比Bernoulli 略强点. 然后我们试试Bernoulli和subsample参数的组合吧。\n",
    "                # \"bagging_temperature\": 2, ## 这个参数要跟bayesian bootstrap方法组合起来用。\n",
    "                \"subsample\": 0.7, ## 窝槽，bernoulli+subsample加起来很吊啊。。。\n",
    "                # \"sampling_frequency\": \"PerTree\", ## 这个设了没设一样。\n",
    "\n",
    "                \"grow_policy\": \"Depthwise\", ## 这个有奇效。应该还有潜力可挖。\n",
    "                \"min_data_in_leaf\": 2, ## 这个也有效果。默认是1，我估计这样搞就太精确了，容易导致过拟合。所以把区间放大一点效果反倒好。\n",
    "                ## 上面两个，能够达到4236的分数。\n",
    "\n",
    "                # \"grow_policy\": \"Lossguide\", ## grow_policy 很6啊，又有进步。卧槽。还能行不。\n",
    "                # \"min_data_in_leaf\": 2, ## 这个也有效果。默认是1，我估计这样搞就太精确了，容易导致过拟合。所以把区间放大一点也可以。\n",
    "                # \"max_leaves\": 50, \n",
    "                # 上面三个的组合，能够达到4221左右。\n",
    "\n",
    "                ## 如果要用这个参数，不要弄onehot。都交给catboost吧。\n",
    "                \"one_hot_max_size\": 255, ## 能提高一点点。0.0002吧。\n",
    "\n",
    "                # ## 如果要用这个参数，就要保持原来的datetime列? 搞不懂，照这个试了，不行。估计是因为有nan的原因。\n",
    "                # \"has_time\": True,\n",
    "\n",
    "                ## 设置的大了，性能可能会下降。原档案警告如上。\n",
    "                \"fold_permutation_block\": 2, ## 可能有效。可以关注一下。 设为2，达到了4250\n",
    "                \n",
    "                ## 对于多分类，应该默认是牛顿法。我们换梯度试试。\n",
    "                ## 没用。拉垮。\n",
    "                # \"leaf_estimation_method\": \"Gradient\",\n",
    "\n",
    "                ## 到后期拉垮。\n",
    "                # \"leaf_estimation_iterations\": 1,\n",
    "                # \"leaf_estimation_backtracking\": \"No\",\n",
    "\n",
    "                ## 到后期拉垮。\n",
    "                # \"fold_len_multiplier\": 10,\n",
    "\n",
    "                ## Balanced跑了两次，最高得到了4286的结果。不太稳定。\n",
    "                \"auto_class_weights\": \"SqrtBalanced\",## 得到了4484，升级明显，多测几次，看看是不是偶然 \n",
    "\n",
    "                ## 这个参数酌情不设吧。因为这个的作用应该跟StratifiedKFold一样吧。\n",
    "                \"allow_const_label\": True,\n",
    "\n",
    "                'od_type': 'Iter', \n",
    "                'od_wait': 300, ## 300目前最好。感觉还有潜力，可以进一步挖掘。但是现在先改改别的参数吧。\n",
    "                \n",
    "                ## 大于128，也就是默认值，会让成绩稳定在4496左右。酌情设吧。小于默认值是不行的。\n",
    "                # \"border_count\": 128, \n",
    "\n",
    "                ## MinEntropy和默认值比较好，其他的比较拉垮。\n",
    "                \"feature_border_type\": \"MinEntropy\", \n",
    "\n",
    "                # \"simple_ctr\": 'Buckets',\n",
    "\n",
    "                ## 以下，我感觉没什么可设的\n",
    "                'random_seed': 11, \n",
    "                'allow_writing_files': False, \n",
    "                \"task_type\": \"GPU\",\n",
    "                \"eval_metric\": \"Kappa\", \n",
    "                # \"loss_function\": 'MultiClass ', ## 如果用了MultiClass，是3990. 目测用不用这个，效果一致。\n",
    "            }\n",
    "            ### 原参数\n",
    "#             params = {\n",
    "#                 'learning_rate': 0.05, \n",
    "#                 'depth': 5, \n",
    "#                 'l2_leaf_reg': 10, \n",
    "#                 'bootstrap_type': 'Bernoulli',\n",
    "#                 'od_type': 'Iter', \n",
    "#                 'od_wait': 50, \n",
    "#                 'random_seed': 11, \n",
    "#                 'allow_writing_files': False, \n",
    "#                 \"eval_metric\": \"Kappa\", \n",
    "# #                 \"loss_function\": 'MultiClass', \n",
    "# #                 \"task_type\": \"GPU\",\n",
    "#             }\n",
    "            \n",
    "            model = clf(iterations=20000, **params)\n",
    "            model.fit(trn_x, trn_y, eval_set=(val_x, val_y),\n",
    "                      cat_features=[], use_best_model=True, verbose=500)\n",
    "            \n",
    "            val_pred  = model.predict(val_x).ravel()\n",
    "            test_pred = model.predict(test_x).ravel()\n",
    "            \n",
    "        ## 下面这个test，可以考虑像如下这样进行，或者是求平均亦可。\n",
    "        # test += test_pred / kf.n_splits ## Minke's invention, no basis or reference.\n",
    "        # test += test_pred\n",
    "        ##\n",
    "        train[valid_index] = val_pred\n",
    "        cv_scores.append(cohen_kappa_score(val_y, val_pred))\n",
    "        print(sum(cv_scores)/len(cv_scores), cv_scores)\n",
    "\n",
    "        newStackingTestSet[\"k{}\".format(i + 1)] = test_pred\n",
    "\n",
    "    print(\"%s_scotrainre_list:\" % clf_name, cv_scores)\n",
    "    print(\"%s_score_mean:\" % clf_name, np.mean(cv_scores))\n",
    "    print(\"%s_score_std:\" % clf_name, np.std(cv_scores))\n",
    "    print(\"what is kf.n_splits?\", kf.n_splits)\n",
    "\n",
    "    newStackingTestSet[\"voteRst\"] = newStackingTestSet[list(newStackingTestSet.columns)].apply(getTheFinalVotingResult, axis = 1)\n",
    "    # print(newStackingTestSet)\n",
    "    # print(cohen_kappa_score(y_train, train))\n",
    "\n",
    "    return train, newStackingTestSet, np.mean(cv_scores) # test / kf.n_splits"
   ]
  },
  {
   "cell_type": "code",
   "execution_count": 54,
   "metadata": {
    "executionInfo": {
     "elapsed": 252,
     "status": "ok",
     "timestamp": 1607152121286,
     "user": {
      "displayName": "Minke Xiu",
      "photoUrl": "https://lh3.googleusercontent.com/a-/AOh14GiKrlSLM7H0tbRpIYdHPAKnVjaQdF6dZZWD9Jdd=s64",
      "userId": "01913327350585558279"
     },
     "user_tz": 300
    },
    "id": "ON43ckVt9pNO"
   },
   "outputs": [],
   "source": [
    "def lgb_model(x_train, y_train, x_test):\n",
    "    lgb_train, lgb_test, lgb_meanPerf = cv_model(lgb, x_train, y_train, x_test, \"lgb\")\n",
    "    return lgb_train, lgb_test, lgb_meanPerf\n",
    "\n",
    "def xgb_model(x_train, y_train, x_test):\n",
    "    xgb_train, xgb_test, xgb_meanPerf = cv_model(xgb, x_train, y_train, x_test, \"xgb\")\n",
    "    return xgb_train, xgb_test, xgb_meanPerf\n",
    "\n",
    "def cat_model(x_train, y_train, x_test):\n",
    "    cat_train, cat_test, cat_meanPerf = cv_model(CatBoostClassifier, x_train, y_train, x_test, \"cat\")\n",
    "    return cat_train, cat_test, cat_meanPerf"
   ]
  },
  {
   "cell_type": "code",
   "execution_count": null,
   "metadata": {},
   "outputs": [],
   "source": [
    "cat_train, cat_test, cat_meanPerf = cat_model(x_train, y_train, x_test)"
   ]
  },
  {
   "cell_type": "code",
   "execution_count": 170,
   "metadata": {},
   "outputs": [],
   "source": [
    "testA_result_pred[\"label\"] = cat_test.iloc[:,-1]\n",
    "### 注释掉的两行，酌情运行。\n",
    "# testA_result_pred.replace([np.inf, -np.inf], np.nan, inplace=True)\n",
    "# testA_result_pred.fillna(0.0, inplace=True)\n",
    "testA_result_pred[\"label\"] = testA_result_pred[\"label\"].astype(int)"
   ]
  },
  {
   "cell_type": "code",
   "execution_count": 172,
   "metadata": {},
   "outputs": [],
   "source": [
    "### 注意###############\n",
    "## 最后存成文件的时候，要把类别的标签改回-1，0，1.\n",
    "testA_result_pred[\"label\"] = testA_result_pred[\"label\"].map({0: -1, 1: 0, 2: 1})\n",
    "testA_result_pred.to_csv(\"submissionResults/SomeAvgAndIncrementalProportion_ChangeHP-cat-{:.4}.csv\".format(cat_meanPerf), index=False) ## "
   ]
  },
  {
   "cell_type": "markdown",
   "metadata": {},
   "source": [
    "-------"
   ]
  },
  {
   "cell_type": "code",
   "execution_count": null,
   "metadata": {
    "colab": {
     "base_uri": "https://localhost:8080/"
    },
    "executionInfo": {
     "elapsed": 26223,
     "status": "ok",
     "timestamp": 1607152149038,
     "user": {
      "displayName": "Minke Xiu",
      "photoUrl": "https://lh3.googleusercontent.com/a-/AOh14GiKrlSLM7H0tbRpIYdHPAKnVjaQdF6dZZWD9Jdd=s64",
      "userId": "01913327350585558279"
     },
     "user_tz": 300
    },
    "id": "Dyt-HIG2a7co",
    "outputId": "43cf032e-7b18-42a2-ba88-ff1957d48d67"
   },
   "outputs": [],
   "source": [
    "## 这个方法目前来看最好，但是最慢。\n",
    "# xgb_train, xgb_test, xgb_meanPerf= xgb_model(x_train, y_train, x_test)"
   ]
  },
  {
   "cell_type": "code",
   "execution_count": 168,
   "metadata": {
    "executionInfo": {
     "elapsed": 368,
     "status": "ok",
     "timestamp": 1607151925626,
     "user": {
      "displayName": "Minke Xiu",
      "photoUrl": "https://lh3.googleusercontent.com/a-/AOh14GiKrlSLM7H0tbRpIYdHPAKnVjaQdF6dZZWD9Jdd=s64",
      "userId": "01913327350585558279"
     },
     "user_tz": 300
    },
    "id": "C-R_jyu49pNO"
   },
   "outputs": [],
   "source": [
    "# testA_result_pred[\"label\"] = xgb_test.iloc[:,-1]\n",
    "# ### 注释掉的两行，酌情运行。\n",
    "# testA_result_pred.replace([np.inf, -np.inf], np.nan, inplace=True)\n",
    "# testA_result_pred.fillna(0.0, inplace=True)\n",
    "# testA_result_pred[\"label\"] = testA_result_pred[\"label\"].astype(int)"
   ]
  },
  {
   "cell_type": "code",
   "execution_count": 169,
   "metadata": {
    "executionInfo": {
     "elapsed": 451,
     "status": "ok",
     "timestamp": 1607151994123,
     "user": {
      "displayName": "Minke Xiu",
      "photoUrl": "https://lh3.googleusercontent.com/a-/AOh14GiKrlSLM7H0tbRpIYdHPAKnVjaQdF6dZZWD9Jdd=s64",
      "userId": "01913327350585558279"
     },
     "user_tz": 300
    },
    "id": "dB11Zb7XtcbQ"
   },
   "outputs": [],
   "source": [
    "# ### 注意###############\n",
    "# ## 最后存成文件的时候，要把类别的标签改回-1，0，1.\n",
    "# testA_result_pred[\"label\"] = testA_result_pred[\"label\"].map({0: -1, 1: 0, 2: 1})\n",
    "# testA_result_pred.to_csv(\"submissionResults/SomeAvgAndIncrementalProportion_{:.4}-1.csv\".format(xgb_meanPerf), index=False) ## "
   ]
  }
 ],
 "metadata": {
  "accelerator": "GPU",
  "colab": {
   "collapsed_sections": [
    "d8wxvCVFmZ-_",
    "kmVWMMJwyzUO",
    "6JyBck_410PY",
    "8ffAB5HC14Pf"
   ],
   "machine_shape": "hm",
   "name": "3.1-FE-KeepTheFeaturesAsTheyOriginallyWere.ipynb",
   "provenance": [],
   "toc_visible": true
  },
  "kernelspec": {
   "display_name": "Python 3",
   "language": "python",
   "name": "python3"
  },
  "language_info": {
   "codemirror_mode": {
    "name": "ipython",
    "version": 3
   },
   "file_extension": ".py",
   "mimetype": "text/x-python",
   "name": "python",
   "nbconvert_exporter": "python",
   "pygments_lexer": "ipython3",
   "version": "3.6.8"
  },
  "toc": {
   "base_numbering": 1,
   "nav_menu": {},
   "number_sections": true,
   "sideBar": true,
   "skip_h1_title": false,
   "title_cell": "Table of Contents",
   "title_sidebar": "Contents",
   "toc_cell": false,
   "toc_position": {
    "height": "calc(100% - 180px)",
    "left": "10px",
    "top": "150px",
    "width": "336px"
   },
   "toc_section_display": true,
   "toc_window_display": true
  }
 },
 "nbformat": 4,
 "nbformat_minor": 1
}
