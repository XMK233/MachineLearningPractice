{
 "cells": [
  {
   "cell_type": "markdown",
   "metadata": {
    "id": "1VTGKBzAtohn"
   },
   "source": [
    "# Release Notes\n",
    "\n",
    "    这个部分就作为版本记录吧。记录这个版本来自于哪一个版本。 \n",
    "\n",
    "上一个版本：3.10-FeatureEngineering-MyFEPlan-1128。\n",
    "\n",
    "相对于上一个版本的重大改动：删掉了后面部分没用的代码。如果想取回，参见上一个版本。\n",
    "\n",
    "更早版本记录：3.8.1系列。\n",
    "\n",
    "\n",
    "\n"
   ]
  },
  {
   "cell_type": "markdown",
   "metadata": {
    "id": "_SRLl5araf_d"
   },
   "source": [
    "# Setting working directory"
   ]
  },
  {
   "cell_type": "code",
   "execution_count": 1,
   "metadata": {
    "colab": {
     "base_uri": "https://localhost:8080/"
    },
    "executionInfo": {
     "elapsed": 16754,
     "status": "ok",
     "timestamp": 1608676373590,
     "user": {
      "displayName": "Minke Xiu",
      "photoUrl": "https://lh3.googleusercontent.com/a-/AOh14GiKrlSLM7H0tbRpIYdHPAKnVjaQdF6dZZWD9Jdd=s64",
      "userId": "01913327350585558279"
     },
     "user_tz": 300
    },
    "id": "uYrTyv-UafC6",
    "outputId": "1e252c9f-1f78-4328-8e5b-26d47d1eacda"
   },
   "outputs": [
    {
     "name": "stdout",
     "output_type": "stream",
     "text": [
      "Mounted at /content/drive\n"
     ]
    }
   ],
   "source": [
    "from google.colab import drive\n",
    "drive.mount('/content/drive')"
   ]
  },
  {
   "cell_type": "markdown",
   "metadata": {
    "id": "XBqtONK5azWB"
   },
   "source": [
    "Go to this place for original dataset: \n",
    "\n",
    "`'/content/drive/My Drive/Colab Notebooks/MachineLearningPractice/FinanceRiskControl/originalDataset'`"
   ]
  },
  {
   "cell_type": "markdown",
   "metadata": {
    "id": "drotXWXNMFL-"
   },
   "source": [
    "# Importing libraries and load datasets"
   ]
  },
  {
   "cell_type": "code",
   "execution_count": 2,
   "metadata": {
    "colab": {
     "base_uri": "https://localhost:8080/"
    },
    "executionInfo": {
     "elapsed": 25613,
     "status": "ok",
     "timestamp": 1608676382791,
     "user": {
      "displayName": "Minke Xiu",
      "photoUrl": "https://lh3.googleusercontent.com/a-/AOh14GiKrlSLM7H0tbRpIYdHPAKnVjaQdF6dZZWD9Jdd=s64",
      "userId": "01913327350585558279"
     },
     "user_tz": 300
    },
    "id": "0B7KKhqBIlS9",
    "outputId": "07d9d71f-4d89-4784-9391-f8c7211958b7"
   },
   "outputs": [
    {
     "name": "stdout",
     "output_type": "stream",
     "text": [
      "Collecting catboost\n",
      "\u001b[?25l  Downloading https://files.pythonhosted.org/packages/7e/c1/c1c4707013f9e2f8a96899dd3a87f66c9167d6d776a6dc8fe7ec8678d446/catboost-0.24.3-cp36-none-manylinux1_x86_64.whl (66.3MB)\n",
      "\u001b[K     |████████████████████████████████| 66.3MB 81kB/s \n",
      "\u001b[?25hRequirement already satisfied: plotly in /usr/local/lib/python3.6/dist-packages (from catboost) (4.4.1)\n",
      "Requirement already satisfied: six in /usr/local/lib/python3.6/dist-packages (from catboost) (1.15.0)\n",
      "Requirement already satisfied: pandas>=0.24.0 in /usr/local/lib/python3.6/dist-packages (from catboost) (1.1.5)\n",
      "Requirement already satisfied: scipy in /usr/local/lib/python3.6/dist-packages (from catboost) (1.4.1)\n",
      "Requirement already satisfied: matplotlib in /usr/local/lib/python3.6/dist-packages (from catboost) (3.2.2)\n",
      "Requirement already satisfied: graphviz in /usr/local/lib/python3.6/dist-packages (from catboost) (0.10.1)\n",
      "Requirement already satisfied: numpy>=1.16.0 in /usr/local/lib/python3.6/dist-packages (from catboost) (1.19.4)\n",
      "Requirement already satisfied: retrying>=1.3.3 in /usr/local/lib/python3.6/dist-packages (from plotly->catboost) (1.3.3)\n",
      "Requirement already satisfied: pytz>=2017.2 in /usr/local/lib/python3.6/dist-packages (from pandas>=0.24.0->catboost) (2018.9)\n",
      "Requirement already satisfied: python-dateutil>=2.7.3 in /usr/local/lib/python3.6/dist-packages (from pandas>=0.24.0->catboost) (2.8.1)\n",
      "Requirement already satisfied: kiwisolver>=1.0.1 in /usr/local/lib/python3.6/dist-packages (from matplotlib->catboost) (1.3.1)\n",
      "Requirement already satisfied: cycler>=0.10 in /usr/local/lib/python3.6/dist-packages (from matplotlib->catboost) (0.10.0)\n",
      "Requirement already satisfied: pyparsing!=2.0.4,!=2.1.2,!=2.1.6,>=2.0.1 in /usr/local/lib/python3.6/dist-packages (from matplotlib->catboost) (2.4.7)\n",
      "Installing collected packages: catboost\n",
      "Successfully installed catboost-0.24.3\n"
     ]
    }
   ],
   "source": [
    "## 安装catboost和lightgbm。\n",
    "## catboost耗费显存极大，但是飞快；lightgbm好像不是那么的方便，gpu使用不起来。\n",
    "!pip install catboost\n",
    "# !pip uninstall lightgbm\n",
    "# !pip install lightgbm --install-option=--gpu --install-option=\"--opencl-include-dir=/usr/local/cuda/include/\" --install-option=\"--opencl-library=/usr/local/cuda/lib64/libOpenCL.so\""
   ]
  },
  {
   "cell_type": "code",
   "execution_count": 3,
   "metadata": {
    "executionInfo": {
     "elapsed": 1602,
     "status": "ok",
     "timestamp": 1608676392704,
     "user": {
      "displayName": "Minke Xiu",
      "photoUrl": "https://lh3.googleusercontent.com/a-/AOh14GiKrlSLM7H0tbRpIYdHPAKnVjaQdF6dZZWD9Jdd=s64",
      "userId": "01913327350585558279"
     },
     "user_tz": 300
    },
    "id": "NY-oAIAAIggg"
   },
   "outputs": [],
   "source": [
    "import pandas as pd\n",
    "import numpy as np\n",
    "import matplotlib.pyplot as plt\n",
    "import seaborn as sns\n",
    "import datetime\n",
    "import tqdm\n",
    "from sklearn.preprocessing import LabelEncoder\n",
    "from sklearn.feature_selection import SelectKBest\n",
    "from sklearn.feature_selection import chi2\n",
    "from sklearn.preprocessing import MinMaxScaler\n",
    "import xgboost as xgb\n",
    "import lightgbm as lgb\n",
    "from catboost import CatBoostRegressor, CatBoostClassifier\n",
    "import warnings\n",
    "from sklearn.model_selection import StratifiedKFold, KFold\n",
    "from sklearn.metrics import accuracy_score, f1_score, roc_auc_score, log_loss\n",
    "# import tqdm\n",
    "warnings.filterwarnings('ignore')"
   ]
  },
  {
   "cell_type": "code",
   "execution_count": 4,
   "metadata": {
    "executionInfo": {
     "elapsed": 1489,
     "status": "ok",
     "timestamp": 1608676392951,
     "user": {
      "displayName": "Minke Xiu",
      "photoUrl": "https://lh3.googleusercontent.com/a-/AOh14GiKrlSLM7H0tbRpIYdHPAKnVjaQdF6dZZWD9Jdd=s64",
      "userId": "01913327350585558279"
     },
     "user_tz": 300
    },
    "id": "ZyoMIfsAbiNI"
   },
   "outputs": [],
   "source": [
    "import os\n",
    "os.chdir('/content/drive/My Drive/Colab Notebooks/MachineLearningPractice/FinanceRiskControl')"
   ]
  },
  {
   "cell_type": "markdown",
   "metadata": {
    "id": "wABHFDoycf1A"
   },
   "source": [
    "# Starting feature engineering"
   ]
  },
  {
   "cell_type": "markdown",
   "metadata": {
    "id": "s5ypM1_uBK2O"
   },
   "source": [
    "## Load dataset"
   ]
  },
  {
   "cell_type": "code",
   "execution_count": null,
   "metadata": {
    "id": "Msb6jagB6IWh"
   },
   "outputs": [],
   "source": [
    "data_train = pd.read_csv('originalDataset/train.csv')\n",
    "data_test_a = pd.read_csv('originalDataset/testA.csv')"
   ]
  },
  {
   "cell_type": "markdown",
   "metadata": {
    "id": "WSxFJ8u0VzQV"
   },
   "source": [
    "## Numerical features and category features"
   ]
  },
  {
   "cell_type": "code",
   "execution_count": null,
   "metadata": {
    "id": "Jg2JwCA7cca4"
   },
   "outputs": [],
   "source": [
    "# numerical_fea = list(data_train.select_dtypes(exclude=['object']).columns)\n",
    "# category_fea = list(filter(lambda x: x not in numerical_fea,list(data_train.columns)))\n",
    "# label = 'isDefault'\n",
    "# numerical_fea.remove(label)"
   ]
  },
  {
   "cell_type": "code",
   "execution_count": null,
   "metadata": {
    "id": "QvUtj12XEuHp"
   },
   "outputs": [],
   "source": [
    "# category_fea"
   ]
  },
  {
   "cell_type": "code",
   "execution_count": null,
   "metadata": {
    "id": "VH6YmDxdF_pI"
   },
   "outputs": [],
   "source": [
    "# #过滤数值型类别特征\n",
    "# def get_numerical_serial_fea(data,feas):\n",
    "#     numerical_serial_fea = []\n",
    "#     numerical_noserial_fea = []\n",
    "#     for fea in feas:\n",
    "#         temp = data[fea].nunique()\n",
    "#         if temp <= 10:\n",
    "#             numerical_noserial_fea.append(fea)\n",
    "#             continue\n",
    "#         numerical_serial_fea.append(fea)\n",
    "#     return numerical_serial_fea,numerical_noserial_fea\n",
    "# numerical_serial_fea,numerical_noserial_fea = get_numerical_serial_fea(data_train,numerical_fea)"
   ]
  },
  {
   "cell_type": "code",
   "execution_count": null,
   "metadata": {
    "id": "15ExkdSsTG1W"
   },
   "outputs": [],
   "source": [
    "# numerical_fea"
   ]
  },
  {
   "cell_type": "code",
   "execution_count": null,
   "metadata": {
    "id": "FMtRDsPvTHsM"
   },
   "outputs": [],
   "source": [
    "# numerical_noserial_fea"
   ]
  },
  {
   "cell_type": "code",
   "execution_count": null,
   "metadata": {
    "id": "oolqsm3DTIaq"
   },
   "outputs": [],
   "source": [
    "# category_fea"
   ]
  },
  {
   "cell_type": "markdown",
   "metadata": {
    "id": "xhXbv16eCFHv"
   },
   "source": [
    "## Classify the features into multiple categories"
   ]
  },
  {
   "cell_type": "code",
   "execution_count": null,
   "metadata": {
    "id": "zi2xeIifC820"
   },
   "outputs": [],
   "source": [
    "total_list = sorted(list(data_train.columns))"
   ]
  },
  {
   "cell_type": "code",
   "execution_count": 5,
   "metadata": {
    "executionInfo": {
     "elapsed": 552,
     "status": "ok",
     "timestamp": 1608676396109,
     "user": {
      "displayName": "Minke Xiu",
      "photoUrl": "https://lh3.googleusercontent.com/a-/AOh14GiKrlSLM7H0tbRpIYdHPAKnVjaQdF6dZZWD9Jdd=s64",
      "userId": "01913327350585558279"
     },
     "user_tz": 300
    },
    "id": "5enpq5neCJpQ"
   },
   "outputs": [],
   "source": [
    "numerical_category_fewValues = [\n",
    "    \"homeOwnership\", \n",
    "    \"verificationStatus\",\n",
    "    \"initialListStatus\",\n",
    "    \"applicationType\",\n",
    "    \"n11\",\n",
    "    \"n12\",\n",
    "]"
   ]
  },
  {
   "cell_type": "code",
   "execution_count": 6,
   "metadata": {
    "executionInfo": {
     "elapsed": 829,
     "status": "ok",
     "timestamp": 1608676396563,
     "user": {
      "displayName": "Minke Xiu",
      "photoUrl": "https://lh3.googleusercontent.com/a-/AOh14GiKrlSLM7H0tbRpIYdHPAKnVjaQdF6dZZWD9Jdd=s64",
      "userId": "01913327350585558279"
     },
     "user_tz": 300
    },
    "id": "3aUytHFWDXtx"
   },
   "outputs": [],
   "source": [
    "numerical_category_manyValues = [\n",
    "    \"regionCode\",\n",
    "    \"employmentTitle\",\n",
    "    \"purpose\",\n",
    "    \"postCode\",\n",
    "    \"title\",\n",
    "]"
   ]
  },
  {
   "cell_type": "code",
   "execution_count": 7,
   "metadata": {
    "executionInfo": {
     "elapsed": 793,
     "status": "ok",
     "timestamp": 1608676396838,
     "user": {
      "displayName": "Minke Xiu",
      "photoUrl": "https://lh3.googleusercontent.com/a-/AOh14GiKrlSLM7H0tbRpIYdHPAKnVjaQdF6dZZWD9Jdd=s64",
      "userId": "01913327350585558279"
     },
     "user_tz": 300
    },
    "id": "W5n8fFqDEK65"
   },
   "outputs": [],
   "source": [
    "date_type = [\n",
    "    \"issueDate\", \n",
    "    \"earliesCreditLine\"\n",
    "]"
   ]
  },
  {
   "cell_type": "code",
   "execution_count": 8,
   "metadata": {
    "executionInfo": {
     "elapsed": 810,
     "status": "ok",
     "timestamp": 1608676397175,
     "user": {
      "displayName": "Minke Xiu",
      "photoUrl": "https://lh3.googleusercontent.com/a-/AOh14GiKrlSLM7H0tbRpIYdHPAKnVjaQdF6dZZWD9Jdd=s64",
      "userId": "01913327350585558279"
     },
     "user_tz": 300
    },
    "id": "c5fVuNakEmdm"
   },
   "outputs": [],
   "source": [
    "numerical_serial = [\n",
    "    \"loanAmnt\",\"interestRate\",\"installment\",\"annualIncome\",\"dti\",\"delinquency_2years\",\"ficoRangeLow\",\"ficoRangeHigh\",\"openAcc\",\n",
    "    \"pubRec\",\"pubRecBankruptcies\",\"revolBal\",\"revolUtil\",\"totalAcc\",\"n0\",\"n1\",\"n2\",\"n3\",\n",
    "    \"n4\",\"n5\",\"n6\",\"n7\",\"n8\",\"n9\",\"n10\",\"n13\",\"n14\",\n",
    "    \"term\", \n",
    "]"
   ]
  },
  {
   "cell_type": "code",
   "execution_count": 9,
   "metadata": {
    "executionInfo": {
     "elapsed": 522,
     "status": "ok",
     "timestamp": 1608676397180,
     "user": {
      "displayName": "Minke Xiu",
      "photoUrl": "https://lh3.googleusercontent.com/a-/AOh14GiKrlSLM7H0tbRpIYdHPAKnVjaQdF6dZZWD9Jdd=s64",
      "userId": "01913327350585558279"
     },
     "user_tz": 300
    },
    "id": "XpXIbUNVGPsx"
   },
   "outputs": [],
   "source": [
    "object_serial = [\n",
    "    \"grade\",\n",
    "    \"subGrade\", \n",
    "    \"employmentLength\"\n",
    "]"
   ]
  },
  {
   "cell_type": "code",
   "execution_count": 10,
   "metadata": {
    "executionInfo": {
     "elapsed": 501,
     "status": "ok",
     "timestamp": 1608676399693,
     "user": {
      "displayName": "Minke Xiu",
      "photoUrl": "https://lh3.googleusercontent.com/a-/AOh14GiKrlSLM7H0tbRpIYdHPAKnVjaQdF6dZZWD9Jdd=s64",
      "userId": "01913327350585558279"
     },
     "user_tz": 300
    },
    "id": "f29Dbv1EGZO3"
   },
   "outputs": [],
   "source": [
    "# len(numerical_category_fewValues) + len(numerical_category_manyValues) + len(date_type) + len(numerical_serial) + len(object_serial)\n",
    "new_cates = numerical_category_fewValues + numerical_category_manyValues + date_type + numerical_serial + object_serial"
   ]
  },
  {
   "cell_type": "code",
   "execution_count": null,
   "metadata": {
    "colab": {
     "base_uri": "https://localhost:8080/"
    },
    "executionInfo": {
     "elapsed": 1349,
     "status": "ok",
     "timestamp": 1608662559987,
     "user": {
      "displayName": "Minke Xiu",
      "photoUrl": "https://lh3.googleusercontent.com/a-/AOh14GiKrlSLM7H0tbRpIYdHPAKnVjaQdF6dZZWD9Jdd=s64",
      "userId": "01913327350585558279"
     },
     "user_tz": 300
    },
    "id": "oBca0b_yHHLd",
    "outputId": "77de670e-ac92-4a95-9d0f-d4c457de750f"
   },
   "outputs": [
    {
     "data": {
      "text/plain": [
       "{'id', 'isDefault', 'policyCode'}"
      ]
     },
     "execution_count": 11,
     "metadata": {
      "tags": []
     },
     "output_type": "execute_result"
    }
   ],
   "source": [
    "set(total_list) - set(new_cates)"
   ]
  },
  {
   "cell_type": "code",
   "execution_count": null,
   "metadata": {
    "id": "kBCSWqv0MEFg"
   },
   "outputs": [],
   "source": [
    "# data_train = data_train.head(200)\n",
    "# data_test_a = data_test_a.head(200)"
   ]
  },
  {
   "cell_type": "markdown",
   "metadata": {
    "id": "mO9voAt2Iggz"
   },
   "source": [
    "## Fill the null. \n",
    "\n",
    "**Mind this**: Some other filling schemes can be used. "
   ]
  },
  {
   "cell_type": "code",
   "execution_count": null,
   "metadata": {
    "id": "EvOutC_iIggu"
   },
   "outputs": [],
   "source": [
    "# data_train.isnull().sum()"
   ]
  },
  {
   "cell_type": "code",
   "execution_count": null,
   "metadata": {
    "id": "9GIs4Eq1SSba"
   },
   "outputs": [],
   "source": [
    "# data_train[\"n14\"].head()"
   ]
  },
  {
   "cell_type": "code",
   "execution_count": null,
   "metadata": {
    "id": "CsuIy3wdmzYf"
   },
   "outputs": [],
   "source": [
    "## Change the infinite number into NaN. \n",
    "# data_train.replace([np.inf, -np.inf], np.nan, inplace=True)\n",
    "# data_test_a.replace([np.inf, -np.inf], np.nan, inplace=True)"
   ]
  },
  {
   "cell_type": "markdown",
   "metadata": {
    "id": "_Rx4kv6DPYZ2"
   },
   "source": [
    "Lagrange interpolation"
   ]
  },
  {
   "cell_type": "code",
   "execution_count": null,
   "metadata": {
    "id": "LwAHEKltOuq0"
   },
   "outputs": [],
   "source": [
    "# 创建函数，做插值，以空值前后5个数据（共10个数据）为例做插值  \n",
    "from scipy.interpolate import lagrange  \n",
    "\n",
    "## https://www.programmersought.com/article/37145216331/\n",
    "def fillNanWithLagr(col,nv=-1,k=3):\n",
    "    # col \"fill column vector\", nv \"empty value, default -1\", k \"Lagrangian interval, default 3\"\n",
    "    # Get the null position\n",
    "    if nv is np.nan:\n",
    "        tar = col[col.isnull()].index.tolist()\n",
    "    else:\n",
    "        tar = col[col==nv].index.tolist()\n",
    "\n",
    "    for idx in tqdm.tqdm(tar, position=0, leave=True):\n",
    "      ## you can also use tqdm.tqdm_notebook(). The graphic info is more beautiful. \n",
    "    # for idx in tqdm.tqdm(tar):\n",
    "                # Get Lagrange interval\n",
    "                # The empty value position is removed here, because the filled empty value cannot be used to calculate other empty values\n",
    "        # print(idx, end=\"\")\n",
    "        rel = col.iloc[\n",
    "            list(\n",
    "                set(list(range(idx-k,idx))+list(range(idx+1,idx+k+1))).difference(set(tar))\n",
    "            )\n",
    "        ]\n",
    "                # Keep a reasonable range\n",
    "        rel = rel[rel>=0][rel<len(col)]\n",
    "                # Fill in Lagrangian mean\n",
    "        # lagrange(arg1,arg2)(arg3)\n",
    "                # arg1 \"Iterable object index\", arg2 \"Iterable object conversion table\", arg3 \"Fill position\"\n",
    "        col.iloc[idx] = lagrange(rel.index,list(rel))(idx)\n",
    "    return col"
   ]
  },
  {
   "cell_type": "code",
   "execution_count": null,
   "metadata": {
    "id": "weDgNR7tPWEE"
   },
   "outputs": [],
   "source": [
    "# # data_train_cp = data_train.copy()\n",
    "# # data_test_a_cp = data_test_a.copy()\n",
    "\n",
    "# for i, data in enumerate([data_train, data_test_a]):\n",
    "#     print(\"in the {} dataset:\".format(i + 1))\n",
    "#     for fea in numerical_fea:\n",
    "#         if fea == \"id\":\n",
    "#             continue\n",
    "#         print(fea)\n",
    "#         data[fea] = fillNanWithLagr(data[fea], np.nan, 5)"
   ]
  },
  {
   "cell_type": "code",
   "execution_count": null,
   "metadata": {
    "id": "NqES9O8GgpU0"
   },
   "outputs": [],
   "source": [
    "# data_train.to_csv(\"preprocessedData/lagrangeInterpolated_train.csv\", index=False)\n",
    "# data_test_a.to_csv(\"preprocessedData/lagrangeInterpolated_test.csv\", index=False)"
   ]
  },
  {
   "cell_type": "markdown",
   "metadata": {
    "id": "bnSLGKvwPc4p"
   },
   "source": [
    "Median interpolation"
   ]
  },
  {
   "cell_type": "code",
   "execution_count": null,
   "metadata": {
    "id": "3blBa4yKIgg0"
   },
   "outputs": [],
   "source": [
    "# #按照平均数填充数值型特征\n",
    "# data_train[numerical_fea] = data_train[numerical_fea].fillna(data_train[numerical_fea].median())\n",
    "# data_test_a[numerical_fea] = data_test_a[numerical_fea].fillna(data_train[numerical_fea].median())\n",
    "# #按照众数填充类别型特征\n",
    "# data_train[category_fea] = data_train[category_fea].fillna(data_train[category_fea].mode())\n",
    "# data_test_a[category_fea] = data_test_a[category_fea].fillna(data_train[category_fea].mode())"
   ]
  },
  {
   "cell_type": "markdown",
   "metadata": {
    "id": "xlIexCxBYMVu"
   },
   "source": [
    "`employmentLength` cannot be filled by `mode()`. I don't know why. "
   ]
  },
  {
   "cell_type": "code",
   "execution_count": null,
   "metadata": {
    "id": "4jqp71z-YFSH"
   },
   "outputs": [],
   "source": [
    "# data_train.info()"
   ]
  },
  {
   "cell_type": "code",
   "execution_count": null,
   "metadata": {
    "id": "AiVUxLIvdX7C"
   },
   "outputs": [],
   "source": [
    "# data_train = data_train.fillna(axis = 0, method = \"ffill\")"
   ]
  },
  {
   "cell_type": "markdown",
   "metadata": {
    "id": "uJssSa3cgFhL"
   },
   "source": [
    "### Scheme A\n",
    "\n",
    "No filling"
   ]
  },
  {
   "cell_type": "code",
   "execution_count": null,
   "metadata": {
    "id": "kC0dLEzDgILa"
   },
   "outputs": [],
   "source": [
    "## No filling of any null value"
   ]
  },
  {
   "cell_type": "markdown",
   "metadata": {
    "id": "9wiVU53BmsMU"
   },
   "source": [
    "### Scheme B\n",
    "\n",
    "Fill for the first round."
   ]
  },
  {
   "cell_type": "code",
   "execution_count": null,
   "metadata": {
    "id": "f8wiREjwmrko"
   },
   "outputs": [],
   "source": [
    "for fea in numerical_serial:\n",
    "    #按照平均数填充数值型特征\n",
    "    data_train[fea] = data_train[fea].fillna(data_train[fea].median())\n",
    "    data_test_a[fea] = data_test_a[fea].fillna(data_train[fea].median())\n",
    "\n",
    "for fea in numerical_category_fewValues + numerical_category_manyValues + object_serial + date_type:\n",
    "    #按照众数填充类别型特征\n",
    "    data_train[fea] = data_train[fea].fillna(data_train[fea].mode())\n",
    "    data_test_a[fea] = data_test_a[fea].fillna(data_train[fea].mode())"
   ]
  },
  {
   "cell_type": "markdown",
   "metadata": {
    "id": "RnyS0rikLLN5"
   },
   "source": [
    "## Change `object_serial` \n"
   ]
  },
  {
   "cell_type": "markdown",
   "metadata": {
    "id": "CnVmsgwThfpD"
   },
   "source": [
    "### Scheme A\n",
    "\n",
    "Change the `subGrade`, `grade`, `employmentLength`"
   ]
  },
  {
   "cell_type": "code",
   "execution_count": null,
   "metadata": {
    "colab": {
     "base_uri": "https://localhost:8080/"
    },
    "executionInfo": {
     "elapsed": 2088,
     "status": "ok",
     "timestamp": 1608662579604,
     "user": {
      "displayName": "Minke Xiu",
      "photoUrl": "https://lh3.googleusercontent.com/a-/AOh14GiKrlSLM7H0tbRpIYdHPAKnVjaQdF6dZZWD9Jdd=s64",
      "userId": "01913327350585558279"
     },
     "user_tz": 300
    },
    "id": "FreJDuG_LIuh",
    "outputId": "2ec75191-b37d-41d2-b91b-b5fccf08fb7f"
   },
   "outputs": [
    {
     "name": "stderr",
     "output_type": "stream",
     "text": [
      "100%|██████████| 2/2 [00:01<00:00,  1.50it/s]\n"
     ]
    }
   ],
   "source": [
    "for col in tqdm.tqdm(['subGrade', 'grade']): #, 'homeOwnership', 'verificationStatus', 'purpose', 'regionCode'\n",
    "    le = LabelEncoder()\n",
    "    le.fit(list(data_train[col].astype(str).values) + list(data_test_a[col].astype(str).values))\n",
    "    data_train[col] = le.transform(list(data_train[col].astype(str).values))\n",
    "    data_test_a[col] = le.transform(list(data_test_a[col].astype(str).values))"
   ]
  },
  {
   "cell_type": "code",
   "execution_count": null,
   "metadata": {
    "colab": {
     "base_uri": "https://localhost:8080/"
    },
    "executionInfo": {
     "elapsed": 1798,
     "status": "ok",
     "timestamp": 1608662579605,
     "user": {
      "displayName": "Minke Xiu",
      "photoUrl": "https://lh3.googleusercontent.com/a-/AOh14GiKrlSLM7H0tbRpIYdHPAKnVjaQdF6dZZWD9Jdd=s64",
      "userId": "01913327350585558279"
     },
     "user_tz": 300
    },
    "id": "JZ2m6pVCVAIr",
    "outputId": "f539bce1-0f95-4222-9574-c47c8bab448b"
   },
   "outputs": [
    {
     "data": {
      "text/plain": [
       "1 year        52489\n",
       "10+ years    262753\n",
       "2 years       72358\n",
       "3 years       64152\n",
       "4 years       47985\n",
       "5 years       50102\n",
       "6 years       37254\n",
       "7 years       35407\n",
       "8 years       36192\n",
       "9 years       30272\n",
       "< 1 year      64237\n",
       "NaN           46799\n",
       "Name: employmentLength, dtype: int64"
      ]
     },
     "execution_count": 15,
     "metadata": {
      "tags": []
     },
     "output_type": "execute_result"
    }
   ],
   "source": [
    "data_train['employmentLength'].value_counts(dropna=False).sort_index()"
   ]
  },
  {
   "cell_type": "code",
   "execution_count": null,
   "metadata": {
    "id": "xcsd7KF0VAI1"
   },
   "outputs": [],
   "source": [
    "def employmentLength_to_int(s):\n",
    "    if pd.isnull(s):\n",
    "        return s\n",
    "    else:\n",
    "        return np.int8(s.split()[0]) ## mind this. use the int type in np, not general python int. \n",
    "    \n",
    "for data in [data_train, data_test_a]:\n",
    "    data['employmentLength'].replace(to_replace='10+ years', value='10 years', inplace=True)\n",
    "    data['employmentLength'].replace('< 1 year', '0 years', inplace=True)\n",
    "    data['employmentLength'] = data['employmentLength'].apply(employmentLength_to_int)"
   ]
  },
  {
   "cell_type": "code",
   "execution_count": null,
   "metadata": {
    "colab": {
     "base_uri": "https://localhost:8080/"
    },
    "executionInfo": {
     "elapsed": 2575,
     "status": "ok",
     "timestamp": 1608662581145,
     "user": {
      "displayName": "Minke Xiu",
      "photoUrl": "https://lh3.googleusercontent.com/a-/AOh14GiKrlSLM7H0tbRpIYdHPAKnVjaQdF6dZZWD9Jdd=s64",
      "userId": "01913327350585558279"
     },
     "user_tz": 300
    },
    "id": "mzGstFmhpLWE",
    "outputId": "8e630858-9f26-4f1f-e735-51ad89f19fc1"
   },
   "outputs": [
    {
     "data": {
      "text/plain": [
       "0     2.0\n",
       "1     5.0\n",
       "2     8.0\n",
       "3    10.0\n",
       "4     NaN\n",
       "Name: employmentLength, dtype: float64"
      ]
     },
     "execution_count": 17,
     "metadata": {
      "tags": []
     },
     "output_type": "execute_result"
    }
   ],
   "source": [
    "data_train[\"employmentLength\"].head()"
   ]
  },
  {
   "cell_type": "code",
   "execution_count": null,
   "metadata": {
    "id": "0UlmbYw2WlIV"
   },
   "outputs": [],
   "source": [
    "## `employmentLength` can be filled by `mean()`. Great.\n",
    "# data_train['employmentLength'].fillna(data_train[\"employmentLength\"].mean(), inplace = True)\n",
    "# data_test_a['employmentLength'].fillna(data_test_a[\"employmentLength\"].mean(), inplace = True)\n",
    "# data_train.info()"
   ]
  },
  {
   "cell_type": "markdown",
   "metadata": {
    "id": "lSIb3612LKyr"
   },
   "source": [
    "## Change `date_type` \n"
   ]
  },
  {
   "cell_type": "markdown",
   "metadata": {
    "id": "x9WKNPVNigiL"
   },
   "source": [
    "### Scheme A"
   ]
  },
  {
   "cell_type": "code",
   "execution_count": null,
   "metadata": {
    "id": "qLOoKqeeMIpn"
   },
   "outputs": [],
   "source": [
    "#转化成时间格式\n",
    "for data in [data_train, data_test_a]:\n",
    "    # data['issueDate'] = pd.to_datetime(data['issueDate'],format='%Y-%m-%d')\n",
    "    # #构造时间特征\n",
    "    data['issueYear'] = data['issueDate'].apply(lambda x: int(x.split(\"-\")[0]))\n",
    "    data['issueMonth'] = data['issueDate'].apply(lambda x: int(x.split(\"-\")[1]))"
   ]
  },
  {
   "cell_type": "code",
   "execution_count": null,
   "metadata": {
    "id": "yOsGv9ExOIvS"
   },
   "outputs": [],
   "source": [
    "#转化成时间格式\n",
    "def monthMapping(monthStr):\n",
    "    dic = {\n",
    "        \"Jan\": 1, \n",
    "        \"Feb\": 2, \n",
    "        \"Mar\": 3,\n",
    "        \"Apr\": 4,\n",
    "        \"May\": 5, \n",
    "        \"Jun\": 6, \n",
    "        \"Jul\": 7, \n",
    "        \"Aug\": 8, \n",
    "        \"Sep\": 9,\n",
    "        \"Oct\": 10, \n",
    "        \"Nov\": 11,\n",
    "        \"Dec\": 12\n",
    "    }\n",
    "    return dic[monthStr]\n",
    "\n",
    "for data in [data_train, data_test_a]:\n",
    "    # data['issueDate'] = pd.to_datetime(data['issueDate'],format='%Y-%m-%d')\n",
    "    # #构造时间特征\n",
    "    data['earliesCreditLineYear'] = data['earliesCreditLine'].apply(lambda x: int(x.split(\"-\")[1]))\n",
    "    data['earliesCreditLineMonth'] = data['earliesCreditLine'].apply(lambda x: monthMapping(x.split(\"-\")[0]))"
   ]
  },
  {
   "cell_type": "code",
   "execution_count": null,
   "metadata": {
    "id": "tZ5R-ZcqPsds"
   },
   "outputs": [],
   "source": [
    "#转化成时间格式\n",
    "startdate = datetime.datetime.strptime('2007-06-01', '%Y-%m-%d')\n",
    "for data in [data_train, data_test_a]:\n",
    "    data['issueDate'] = pd.to_datetime(data['issueDate'],format='%Y-%m-%d')\n",
    "    #构造时间特征\n",
    "    data['issueDateDT'] = data['issueDate'].apply(lambda x: x-startdate).dt.days"
   ]
  },
  {
   "cell_type": "code",
   "execution_count": null,
   "metadata": {
    "id": "zUEqXqvuP0pR"
   },
   "outputs": [],
   "source": [
    "startmonth = datetime.datetime.strptime('2007-06-01', '%Y-%m-%d')\n",
    "for data in [data_train, data_test_a]:\n",
    "    data[\"earliesCreditLine\"] = data[\"earliesCreditLine\"].apply(lambda x: datetime.datetime.strptime(x, '%b-%Y'))\n",
    "    data[\"earliesCreditLineDT\"] = data[\"earliesCreditLine\"].apply(lambda x: x-startdate).dt.days"
   ]
  },
  {
   "cell_type": "code",
   "execution_count": 11,
   "metadata": {
    "colab": {
     "base_uri": "https://localhost:8080/"
    },
    "executionInfo": {
     "elapsed": 815,
     "status": "ok",
     "timestamp": 1608676405171,
     "user": {
      "displayName": "Minke Xiu",
      "photoUrl": "https://lh3.googleusercontent.com/a-/AOh14GiKrlSLM7H0tbRpIYdHPAKnVjaQdF6dZZWD9Jdd=s64",
      "userId": "01913327350585558279"
     },
     "user_tz": 300
    },
    "id": "qMSuUN94QFaF",
    "outputId": "f4e45b08-1da4-4f44-8fd5-566cc91ace99"
   },
   "outputs": [
    {
     "data": {
      "text/plain": [
       "['issueDate',\n",
       " 'earliesCreditLine',\n",
       " 'issueDateDT',\n",
       " 'earliesCreditLineDT',\n",
       " 'earliesCreditLineYear',\n",
       " 'earliesCreditLineMonth',\n",
       " 'issueYear',\n",
       " 'issueMonth']"
      ]
     },
     "execution_count": 11,
     "metadata": {
      "tags": []
     },
     "output_type": "execute_result"
    }
   ],
   "source": [
    "date_type += [\n",
    "    \"issueDateDT\", \"earliesCreditLineDT\", \"earliesCreditLineYear\", \"earliesCreditLineMonth\", \n",
    "    \"issueYear\", \"issueMonth\"\n",
    "]\n",
    "date_type"
   ]
  },
  {
   "cell_type": "code",
   "execution_count": null,
   "metadata": {
    "id": "99LqUO_cw5Mp"
   },
   "outputs": [],
   "source": [
    "# data_train.to_csv(\"preprocessedData/data_train-1222-b_a_a.csv\", index=False)\n",
    "# data_test_a.to_csv(\"preprocessedData/data_test_a-1222-b_a_a.csv\", index=False)"
   ]
  },
  {
   "cell_type": "code",
   "execution_count": null,
   "metadata": {
    "id": "HGvimMkOw5My"
   },
   "outputs": [],
   "source": [
    "data_train = pd.read_csv(\"preprocessedData/data_train-1222-b_a_a.csv\")\n",
    "data_test_a = pd.read_csv(\"preprocessedData/data_test_a-1222-b_a_a.csv\")"
   ]
  },
  {
   "cell_type": "markdown",
   "metadata": {
    "id": "4gLG8fnXLLG9"
   },
   "source": [
    "## Change `numerical_serial` \n"
   ]
  },
  {
   "cell_type": "code",
   "execution_count": null,
   "metadata": {
    "id": "saKQMMVBjGlf"
   },
   "outputs": [],
   "source": [
    "def find_outliers_by_3segama(data,fea):\n",
    "    data_std = np.std(data[fea])\n",
    "    data_mean = np.mean(data[fea])\n",
    "    outliers_cut_off = data_std * 3\n",
    "    lower_rule = data_mean - outliers_cut_off\n",
    "    upper_rule = data_mean + outliers_cut_off\n",
    "    data[fea+'_outliers'] = data[fea].apply(lambda x:str('异常值') if x > upper_rule or x < lower_rule else '正常值')\n",
    "    return data"
   ]
  },
  {
   "cell_type": "code",
   "execution_count": null,
   "metadata": {
    "id": "bCNyhymtjMNy"
   },
   "outputs": [],
   "source": [
    "data_train_cp = data_train.copy()\n",
    "feaList = []\n",
    "numList = []\n",
    "for fea in numerical_serial:\n",
    "    # if fea in ['homeOwnership', 'verificationStatus', \"applicationType\", \"initialListStatus\", \"policyCode\"]:\n",
    "    #     continue\n",
    "    data_train_cp = find_outliers_by_3segama(data_train_cp,fea)\n",
    "    valCount = data_train_cp[fea+'_outliers'].value_counts()\n",
    "    abnormalRate = 1-valCount[\"正常值\"] / len(data_train_cp)\n",
    "    if abnormalRate > 0.00001:\n",
    "        feaList.append(fea)\n",
    "        numList.append(abnormalRate)\n",
    "        # print(valCount, \"\\n\") ## 获得正常值和异常值的数量\n",
    "        # print(1-valCount[\"正常值\"] / len(data_train_cp), \"\\n\") ## 获得正常值和异常值的数量\n",
    "        # print(data_train_cp.groupby(fea+'_outliers')['isDefault'].sum(), \"\\n\") ## 获得异常值和正常值里面有多少个正例\n",
    "        # print('*'*100)"
   ]
  },
  {
   "cell_type": "code",
   "execution_count": null,
   "metadata": {
    "colab": {
     "base_uri": "https://localhost:8080/",
     "height": 390
    },
    "executionInfo": {
     "elapsed": 7032,
     "status": "ok",
     "timestamp": 1608663327193,
     "user": {
      "displayName": "Minke Xiu",
      "photoUrl": "https://lh3.googleusercontent.com/a-/AOh14GiKrlSLM7H0tbRpIYdHPAKnVjaQdF6dZZWD9Jdd=s64",
      "userId": "01913327350585558279"
     },
     "user_tz": 300
    },
    "id": "Y0ZJeulBnZpZ",
    "outputId": "bd3e695a-e3e9-44a5-dcfe-3e2bf520a02e"
   },
   "outputs": [
    {
     "data": {
      "text/plain": [
       "<matplotlib.axes._subplots.AxesSubplot at 0x7f9a275df0f0>"
      ]
     },
     "execution_count": 13,
     "metadata": {
      "tags": []
     },
     "output_type": "execute_result"
    },
    {
     "data": {
      "image/png": "[encoded data removed]",
      "text/plain": [
       "<Figure size 432x288 with 1 Axes>"
      ]
     },
     "metadata": {
      "needs_background": "light",
      "tags": []
     },
     "output_type": "display_data"
    }
   ],
   "source": [
    "tmpPd = pd.DataFrame({\n",
    "    \"column\": feaList, \n",
    "    \"abnormalRate\": numList,\n",
    "})\n",
    "tmpPd.set_index([\"column\"], inplace=True)\n",
    "tmpPd.plot(kind='bar')"
   ]
  },
  {
   "cell_type": "code",
   "execution_count": null,
   "metadata": {
    "id": "tOgmsxfoYvoU"
   },
   "outputs": [],
   "source": [
    "import numpy as np\n",
    "from scipy.stats import chi\n",
    "import pandas as pd\n",
    "from pandas import DataFrame,Series\n",
    "import scipy\n",
    "\n",
    "def chi3(arr):\n",
    "    '''\n",
    "    计算卡方值\n",
    "    arr:频数统计表,二维numpy数组。\n",
    "    '''\n",
    "    assert(arr.ndim==2)\n",
    "    #计算每行总频数\n",
    "    R_N = arr.sum(axis=1)\n",
    "    #每列总频数\n",
    "    C_N = arr.sum(axis=0)\n",
    "    #总频数\n",
    "    N = arr.sum()\n",
    "    # 计算期望频数 C_i * R_j / N。\n",
    "    E = np.ones(arr.shape)* C_N / N\n",
    "    E = (E.T * R_N).T\n",
    "    square = (arr-E)**2 / E\n",
    "    #期望频数为0时，做除数没有意义，不计入卡方值\n",
    "    square[E==0] = 0\n",
    "    #卡方值\n",
    "    v = square.sum()\n",
    "    return v\n",
    "\n",
    "def chiMerge(df,col,target,max_groups=None,threshold=None):\n",
    "\n",
    "    '''\n",
    "    卡方分箱\n",
    "    df: pandas dataframe数据集\n",
    "    col: 需要分箱的变量名（数值型）\n",
    "    target: 类标签\n",
    "    max_groups: 最大分组数。\n",
    "    threshold: 卡方阈值，如果未指定max_groups，默认使用置信度95%设置threshold。\n",
    "    return: 包括各组的起始值的列表.\n",
    "    '''\n",
    "\n",
    "    freq_tab = pd.crosstab(df[col],df[target])\n",
    "\n",
    "    #转成numpy数组用于计算。\n",
    "    freq = freq_tab.values\n",
    "\n",
    "    #初始分组切分点，每个变量值都是切分点。每组中只包含一个变量值.\n",
    "\n",
    "    #分组区间是左闭右开的，如cutoffs = [1,2,3]，则表示区间 [1,2) , [2,3) ,[3,3+)。\n",
    "    cutoffs = freq_tab.index.values\n",
    "\n",
    "    #如果没有指定最大分组\n",
    "    if max_groups is None:    \n",
    "        #如果没有指定卡方阈值，就以95%的置信度（自由度为类数目-1）设定阈值。\n",
    "        if threshold is None:\n",
    "            #类数目\n",
    "            cls_num = freq.shape[-1]\n",
    "            threshold = chi2.isf(0.05,df= cls_num - 1)\n",
    "\n",
    "    while True:\n",
    "        minvalue = None\n",
    "        minidx = None\n",
    "        #从第1组开始，依次取两组计算卡方值，并判断是否小于当前最小的卡方\n",
    "        for i in range(len(freq) - 1):\n",
    "            v = chi3(freq[i:i+2])\n",
    "            if minvalue is None or (minvalue > v): #小于当前最小卡方，更新最小值\n",
    "                minvalue = v\n",
    "                minidx = i\n",
    "\n",
    "        #如果最小卡方值小于阈值，则合并最小卡方值的相邻两组，并继续循环\n",
    "        if  (max_groups is not None and  max_groups< len(freq) ) or (threshold is not None and minvalue < threshold):\n",
    "            #minidx后一行合并到minidx\n",
    "            tmp  = freq[minidx] + freq[minidx+1]\n",
    "            freq[minidx] = tmp\n",
    "            #删除minidx后一行\n",
    "            freq = np.delete(freq,minidx+1,0)\n",
    "            #删除对应的切分点\n",
    "            cutoffs = np.delete(cutoffs,minidx+1,0)\n",
    "\n",
    "        else: #最小卡方值不小于阈值，停止合并。\n",
    "            break\n",
    "    return cutoffs\n",
    "\n",
    "def value2group(x,cutoffs):\n",
    "\n",
    "    '''\n",
    "    将变量的值转换成相应的组。\n",
    "    x: 需要转换到分组的值\n",
    "    cutoffs: 各组的起始值。\n",
    "    return: x对应的组，如group1。从group1开始。\n",
    "    '''\n",
    "\n",
    "    #切分点从小到大排序。\n",
    "    cutoffs = sorted(cutoffs)\n",
    "    num_groups = len(cutoffs)\n",
    "\n",
    "    #异常情况：小于第一组的起始值。这里直接放到第一组。\n",
    "    #异常值建议在分组之前先处理妥善。\n",
    "    if x < cutoffs[0]:\n",
    "        return 1 #'group1'\n",
    "\n",
    "    for i in range(1,num_groups):\n",
    "        if cutoffs[i-1] <= x < cutoffs[i]:\n",
    "            return i # 'group{}'.format(i)\n",
    "\n",
    "    #最后一组，也可能会包括一些非常大的异常值。\n",
    "    return num_groups #'group{}'.format(num_groups)\n",
    "\n",
    "def calWOE(df ,var ,target):\n",
    "\n",
    "    '''\n",
    "    计算WOE编码\n",
    "    param df：数据集pandas.dataframe\n",
    "    param var：已分组的列名，无缺失值\n",
    "    param target：响应变量（0,1）\n",
    "    return：编码字典\n",
    "    '''\n",
    "    eps = 0.000001  #避免除以0\n",
    "    gbi = pd.crosstab(df[var],df[target]) + eps\n",
    "    gb = df[target].value_counts() + eps\n",
    "    gbri = gbi/gb\n",
    "    gbri['woe'] = np.log(gbri[1]/gbri[0])\n",
    "    return gbri['woe'].to_dict()\n",
    "\n",
    "def calIV(df,var,target):\n",
    "\n",
    "    '''\n",
    "    计算IV值\n",
    "    param df：数据集pandas.dataframe\n",
    "    param var：已分组的列名，无缺失值\n",
    "    param target：响应变量（0,1）\n",
    "    return：IV值\n",
    "    '''\n",
    "    eps = 0.000001  #避免除以0\n",
    "    gbi = pd.crosstab(df[var],df[target]) + eps\n",
    "    gb = df[target].value_counts() + eps\n",
    "    gbri = gbi/gb\n",
    "    gbri['woe'] = np.log(gbri[1]/gbri[0])\n",
    "    gbri['iv'] = (gbri[1] - gbri[0])*gbri['woe']\n",
    "    return gbri['iv'].sum()"
   ]
  },
  {
   "cell_type": "markdown",
   "metadata": {
    "id": "YItCzkxOiE0b"
   },
   "source": [
    "### Scheme A\n",
    "\n",
    "See abnormal values. Bin the columns that having many abnormal values. 我们仅查看异常值率大于0.015的。"
   ]
  },
  {
   "cell_type": "markdown",
   "metadata": {
    "id": "uHERJFZTjnFU"
   },
   "source": [
    "`delinquency_2years, n0, n6` having abnormal values more than 1.5\\%. "
   ]
  },
  {
   "cell_type": "code",
   "execution_count": null,
   "metadata": {
    "colab": {
     "base_uri": "https://localhost:8080/"
    },
    "executionInfo": {
     "elapsed": 16003,
     "status": "ok",
     "timestamp": 1608663339485,
     "user": {
      "displayName": "Minke Xiu",
      "photoUrl": "https://lh3.googleusercontent.com/a-/AOh14GiKrlSLM7H0tbRpIYdHPAKnVjaQdF6dZZWD9Jdd=s64",
      "userId": "01913327350585558279"
     },
     "user_tz": 300
    },
    "id": "pnzcq50dj5AP",
    "outputId": "a0aa5a32-e151-4494-f69a-a4b509402623"
   },
   "outputs": [
    {
     "name": "stdout",
     "output_type": "stream",
     "text": [
      "for feature: n0...\n",
      "for feature: n6...\n",
      "for feature: delinquency_2years...\n"
     ]
    }
   ],
   "source": [
    "for fea in [\"n0\", \"n6\", \"delinquency_2years\"]:\n",
    "    print(\"for feature: {}...\".format(fea))\n",
    "    cutoffs = chiMerge(data_train, fea,'isDefault',max_groups=10)\n",
    "    data_train[fea] = data_train[fea].apply(value2group,args=(cutoffs,))\n",
    "    data_test_a[fea] = data_test_a[fea].apply(value2group,args=(cutoffs,))"
   ]
  },
  {
   "cell_type": "markdown",
   "metadata": {
    "id": "M8n18J7qKwD8"
   },
   "source": [
    "### Scheme B\n",
    "\n",
    "对全部的有异常值的列进行分箱"
   ]
  },
  {
   "cell_type": "code",
   "execution_count": null,
   "metadata": {
    "colab": {
     "base_uri": "https://localhost:8080/"
    },
    "executionInfo": {
     "elapsed": 276551,
     "status": "error",
     "timestamp": 1608660608898,
     "user": {
      "displayName": "Minke Xiu",
      "photoUrl": "https://lh3.googleusercontent.com/a-/AOh14GiKrlSLM7H0tbRpIYdHPAKnVjaQdF6dZZWD9Jdd=s64",
      "userId": "01913327350585558279"
     },
     "user_tz": 300
    },
    "id": "ktGfDN4LK1tj",
    "outputId": "3685b8c7-b948-4198-eef4-5f0bb6c72b5b"
   },
   "outputs": [
    {
     "name": "stderr",
     "output_type": "stream",
     "text": [
      "\r",
      "  0%|          | 0/26 [00:00<?, ?it/s]"
     ]
    },
    {
     "name": "stdout",
     "output_type": "stream",
     "text": [
      "for feature: interestRate...\n"
     ]
    },
    {
     "name": "stderr",
     "output_type": "stream",
     "text": [
      "\r",
      "  4%|▍         | 1/26 [00:11<04:41, 11.28s/it]"
     ]
    },
    {
     "name": "stdout",
     "output_type": "stream",
     "text": [
      "for feature: installment...\n"
     ]
    },
    {
     "ename": "KeyboardInterrupt",
     "evalue": "ignored",
     "output_type": "error",
     "traceback": [
      "\u001b[0;31m---------------------------------------------------------------------------\u001b[0m",
      "\u001b[0;31mKeyboardInterrupt\u001b[0m                         Traceback (most recent call last)",
      "\u001b[0;32m<ipython-input-30-ba6b8841bcb6>\u001b[0m in \u001b[0;36m<module>\u001b[0;34m()\u001b[0m\n\u001b[1;32m     29\u001b[0m           \u001b[0;31m#   ]:\u001b[0m\u001b[0;34m\u001b[0m\u001b[0;34m\u001b[0m\u001b[0;34m\u001b[0m\u001b[0m\n\u001b[1;32m     30\u001b[0m     \u001b[0mprint\u001b[0m\u001b[0;34m(\u001b[0m\u001b[0;34m\"for feature: {}...\"\u001b[0m\u001b[0;34m.\u001b[0m\u001b[0mformat\u001b[0m\u001b[0;34m(\u001b[0m\u001b[0mfea\u001b[0m\u001b[0;34m)\u001b[0m\u001b[0;34m)\u001b[0m\u001b[0;34m\u001b[0m\u001b[0;34m\u001b[0m\u001b[0m\n\u001b[0;32m---> 31\u001b[0;31m     \u001b[0mcutoffs\u001b[0m \u001b[0;34m=\u001b[0m \u001b[0mchiMerge\u001b[0m\u001b[0;34m(\u001b[0m\u001b[0mdata_train\u001b[0m\u001b[0;34m,\u001b[0m \u001b[0mfea\u001b[0m\u001b[0;34m,\u001b[0m\u001b[0;34m'isDefault'\u001b[0m\u001b[0;34m,\u001b[0m\u001b[0mmax_groups\u001b[0m\u001b[0;34m=\u001b[0m\u001b[0;36m10\u001b[0m\u001b[0;34m)\u001b[0m\u001b[0;34m\u001b[0m\u001b[0;34m\u001b[0m\u001b[0m\n\u001b[0m\u001b[1;32m     32\u001b[0m     \u001b[0mdata_train\u001b[0m\u001b[0;34m[\u001b[0m\u001b[0mfea\u001b[0m\u001b[0;34m]\u001b[0m \u001b[0;34m=\u001b[0m \u001b[0mdata_train\u001b[0m\u001b[0;34m[\u001b[0m\u001b[0mfea\u001b[0m\u001b[0;34m]\u001b[0m\u001b[0;34m.\u001b[0m\u001b[0mapply\u001b[0m\u001b[0;34m(\u001b[0m\u001b[0mvalue2group\u001b[0m\u001b[0;34m,\u001b[0m\u001b[0margs\u001b[0m\u001b[0;34m=\u001b[0m\u001b[0;34m(\u001b[0m\u001b[0mcutoffs\u001b[0m\u001b[0;34m,\u001b[0m\u001b[0;34m)\u001b[0m\u001b[0;34m)\u001b[0m\u001b[0;34m\u001b[0m\u001b[0;34m\u001b[0m\u001b[0m\n\u001b[1;32m     33\u001b[0m     \u001b[0mdata_test_a\u001b[0m\u001b[0;34m[\u001b[0m\u001b[0mfea\u001b[0m\u001b[0;34m]\u001b[0m \u001b[0;34m=\u001b[0m \u001b[0mdata_test_a\u001b[0m\u001b[0;34m[\u001b[0m\u001b[0mfea\u001b[0m\u001b[0;34m]\u001b[0m\u001b[0;34m.\u001b[0m\u001b[0mapply\u001b[0m\u001b[0;34m(\u001b[0m\u001b[0mvalue2group\u001b[0m\u001b[0;34m,\u001b[0m\u001b[0margs\u001b[0m\u001b[0;34m=\u001b[0m\u001b[0;34m(\u001b[0m\u001b[0mcutoffs\u001b[0m\u001b[0;34m,\u001b[0m\u001b[0;34m)\u001b[0m\u001b[0;34m)\u001b[0m\u001b[0;34m\u001b[0m\u001b[0;34m\u001b[0m\u001b[0m\n",
      "\u001b[0;32m<ipython-input-29-15a7fd1a1f13>\u001b[0m in \u001b[0;36mchiMerge\u001b[0;34m(df, col, target, max_groups, threshold)\u001b[0m\n\u001b[1;32m     62\u001b[0m         \u001b[0;31m#从第1组开始，依次取两组计算卡方值，并判断是否小于当前最小的卡方\u001b[0m\u001b[0;34m\u001b[0m\u001b[0;34m\u001b[0m\u001b[0;34m\u001b[0m\u001b[0m\n\u001b[1;32m     63\u001b[0m         \u001b[0;32mfor\u001b[0m \u001b[0mi\u001b[0m \u001b[0;32min\u001b[0m \u001b[0mrange\u001b[0m\u001b[0;34m(\u001b[0m\u001b[0mlen\u001b[0m\u001b[0;34m(\u001b[0m\u001b[0mfreq\u001b[0m\u001b[0;34m)\u001b[0m \u001b[0;34m-\u001b[0m \u001b[0;36m1\u001b[0m\u001b[0;34m)\u001b[0m\u001b[0;34m:\u001b[0m\u001b[0;34m\u001b[0m\u001b[0;34m\u001b[0m\u001b[0m\n\u001b[0;32m---> 64\u001b[0;31m             \u001b[0mv\u001b[0m \u001b[0;34m=\u001b[0m \u001b[0mchi3\u001b[0m\u001b[0;34m(\u001b[0m\u001b[0mfreq\u001b[0m\u001b[0;34m[\u001b[0m\u001b[0mi\u001b[0m\u001b[0;34m:\u001b[0m\u001b[0mi\u001b[0m\u001b[0;34m+\u001b[0m\u001b[0;36m2\u001b[0m\u001b[0;34m]\u001b[0m\u001b[0;34m)\u001b[0m\u001b[0;34m\u001b[0m\u001b[0;34m\u001b[0m\u001b[0m\n\u001b[0m\u001b[1;32m     65\u001b[0m             \u001b[0;32mif\u001b[0m \u001b[0mminvalue\u001b[0m \u001b[0;32mis\u001b[0m \u001b[0;32mNone\u001b[0m \u001b[0;32mor\u001b[0m \u001b[0;34m(\u001b[0m\u001b[0mminvalue\u001b[0m \u001b[0;34m>\u001b[0m \u001b[0mv\u001b[0m\u001b[0;34m)\u001b[0m\u001b[0;34m:\u001b[0m \u001b[0;31m#小于当前最小卡方，更新最小值\u001b[0m\u001b[0;34m\u001b[0m\u001b[0;34m\u001b[0m\u001b[0m\n\u001b[1;32m     66\u001b[0m                 \u001b[0mminvalue\u001b[0m \u001b[0;34m=\u001b[0m \u001b[0mv\u001b[0m\u001b[0;34m\u001b[0m\u001b[0;34m\u001b[0m\u001b[0m\n",
      "\u001b[0;32m<ipython-input-29-15a7fd1a1f13>\u001b[0m in \u001b[0;36mchi3\u001b[0;34m(arr)\u001b[0m\n\u001b[1;32m     18\u001b[0m     \u001b[0mN\u001b[0m \u001b[0;34m=\u001b[0m \u001b[0marr\u001b[0m\u001b[0;34m.\u001b[0m\u001b[0msum\u001b[0m\u001b[0;34m(\u001b[0m\u001b[0;34m)\u001b[0m\u001b[0;34m\u001b[0m\u001b[0;34m\u001b[0m\u001b[0m\n\u001b[1;32m     19\u001b[0m     \u001b[0;31m# 计算期望频数 C_i * R_j / N。\u001b[0m\u001b[0;34m\u001b[0m\u001b[0;34m\u001b[0m\u001b[0;34m\u001b[0m\u001b[0m\n\u001b[0;32m---> 20\u001b[0;31m     \u001b[0mE\u001b[0m \u001b[0;34m=\u001b[0m \u001b[0mnp\u001b[0m\u001b[0;34m.\u001b[0m\u001b[0mones\u001b[0m\u001b[0;34m(\u001b[0m\u001b[0marr\u001b[0m\u001b[0;34m.\u001b[0m\u001b[0mshape\u001b[0m\u001b[0;34m)\u001b[0m\u001b[0;34m*\u001b[0m \u001b[0mC_N\u001b[0m \u001b[0;34m/\u001b[0m \u001b[0mN\u001b[0m\u001b[0;34m\u001b[0m\u001b[0;34m\u001b[0m\u001b[0m\n\u001b[0m\u001b[1;32m     21\u001b[0m     \u001b[0mE\u001b[0m \u001b[0;34m=\u001b[0m \u001b[0;34m(\u001b[0m\u001b[0mE\u001b[0m\u001b[0;34m.\u001b[0m\u001b[0mT\u001b[0m \u001b[0;34m*\u001b[0m \u001b[0mR_N\u001b[0m\u001b[0;34m)\u001b[0m\u001b[0;34m.\u001b[0m\u001b[0mT\u001b[0m\u001b[0;34m\u001b[0m\u001b[0;34m\u001b[0m\u001b[0m\n\u001b[1;32m     22\u001b[0m     \u001b[0msquare\u001b[0m \u001b[0;34m=\u001b[0m \u001b[0;34m(\u001b[0m\u001b[0marr\u001b[0m\u001b[0;34m-\u001b[0m\u001b[0mE\u001b[0m\u001b[0;34m)\u001b[0m\u001b[0;34m**\u001b[0m\u001b[0;36m2\u001b[0m \u001b[0;34m/\u001b[0m \u001b[0mE\u001b[0m\u001b[0;34m\u001b[0m\u001b[0;34m\u001b[0m\u001b[0m\n",
      "\u001b[0;32m/usr/local/lib/python3.6/dist-packages/numpy/core/numeric.py\u001b[0m in \u001b[0;36mones\u001b[0;34m(shape, dtype, order)\u001b[0m\n\u001b[1;32m    191\u001b[0m     \"\"\"\n\u001b[1;32m    192\u001b[0m     \u001b[0ma\u001b[0m \u001b[0;34m=\u001b[0m \u001b[0mempty\u001b[0m\u001b[0;34m(\u001b[0m\u001b[0mshape\u001b[0m\u001b[0;34m,\u001b[0m \u001b[0mdtype\u001b[0m\u001b[0;34m,\u001b[0m \u001b[0morder\u001b[0m\u001b[0;34m)\u001b[0m\u001b[0;34m\u001b[0m\u001b[0;34m\u001b[0m\u001b[0m\n\u001b[0;32m--> 193\u001b[0;31m     \u001b[0mmultiarray\u001b[0m\u001b[0;34m.\u001b[0m\u001b[0mcopyto\u001b[0m\u001b[0;34m(\u001b[0m\u001b[0ma\u001b[0m\u001b[0;34m,\u001b[0m \u001b[0;36m1\u001b[0m\u001b[0;34m,\u001b[0m \u001b[0mcasting\u001b[0m\u001b[0;34m=\u001b[0m\u001b[0;34m'unsafe'\u001b[0m\u001b[0;34m)\u001b[0m\u001b[0;34m\u001b[0m\u001b[0;34m\u001b[0m\u001b[0m\n\u001b[0m\u001b[1;32m    194\u001b[0m     \u001b[0;32mreturn\u001b[0m \u001b[0ma\u001b[0m\u001b[0;34m\u001b[0m\u001b[0;34m\u001b[0m\u001b[0m\n\u001b[1;32m    195\u001b[0m \u001b[0;34m\u001b[0m\u001b[0m\n",
      "\u001b[0;32m<__array_function__ internals>\u001b[0m in \u001b[0;36mcopyto\u001b[0;34m(*args, **kwargs)\u001b[0m\n",
      "\u001b[0;31mKeyboardInterrupt\u001b[0m: "
     ]
    }
   ],
   "source": [
    "for fea in tqdm.tqdm(feaList):\n",
    "          # [\n",
    "          #   'interestRate',\n",
    "          #   #'installment', #\n",
    "          #   #'annualIncome',#\n",
    "          #   #'dti', #\n",
    "          #   'delinquency_2years',\n",
    "          #   'ficoRangeLow',\n",
    "          #   'ficoRangeHigh',\n",
    "          #   'openAcc',\n",
    "          #   'pubRec',\n",
    "          #   'pubRecBankruptcies',\n",
    "          #   #'revolBal', #\n",
    "          #   'revolUtil',\n",
    "          #   'totalAcc',\n",
    "          #   'n0',\n",
    "          #   'n1',\n",
    "          #   'n2',\n",
    "          #   'n3',\n",
    "          #   'n4',\n",
    "          #   'n5',\n",
    "          #   'n6',\n",
    "          #   'n7',\n",
    "          #   'n8',\n",
    "          #   'n9',\n",
    "          #   'n10',\n",
    "          #   'n13',\n",
    "          #   'n14'\n",
    "          #   ]:\n",
    "    print(\"for feature: {}...\".format(fea))\n",
    "    cutoffs = chiMerge(data_train, fea,'isDefault',max_groups=10)\n",
    "    data_train[fea] = data_train[fea].apply(value2group,args=(cutoffs,))\n",
    "    data_test_a[fea] = data_test_a[fea].apply(value2group,args=(cutoffs,))"
   ]
  },
  {
   "cell_type": "markdown",
   "metadata": {
    "id": "jc7sxLQtK-JT"
   },
   "source": [
    "## Change `numerical_category_fewValues` \n"
   ]
  },
  {
   "cell_type": "markdown",
   "metadata": {
    "id": "UOQlCS3plUVI"
   },
   "source": [
    "### Scheme A\n",
    "\n",
    "numerical_category_fewValues 被dummy了。"
   ]
  },
  {
   "cell_type": "code",
   "execution_count": null,
   "metadata": {
    "id": "0Q-ht4-Tbqas"
   },
   "outputs": [],
   "source": [
    "data_train = pd.get_dummies(data_train, columns=numerical_category_fewValues, drop_first=True)\n",
    "data_test_a = pd.get_dummies(data_test_a, columns=numerical_category_fewValues, drop_first=True)\n"
   ]
  },
  {
   "cell_type": "code",
   "execution_count": null,
   "metadata": {
    "id": "m0eIIg8hdfxy"
   },
   "outputs": [],
   "source": [
    "# data[[\"n11\", \"n12\"]].head()\n",
    "# for data in [data_train, data_test_a]:\n",
    "#     data[[\"n11\", \"n12\"]] = data[[\"n11\", \"n12\"]].astype(int)"
   ]
  },
  {
   "cell_type": "markdown",
   "metadata": {
    "id": "atbKBjpQ_Bjx"
   },
   "source": [
    "### Scheme B\n",
    "\n",
    "不使用 dummy"
   ]
  },
  {
   "cell_type": "code",
   "execution_count": null,
   "metadata": {
    "id": "mFhuSEel_GjL"
   },
   "outputs": [],
   "source": [
    "## Nothing is done. "
   ]
  },
  {
   "cell_type": "markdown",
   "metadata": {
    "id": "px1qhjzqLKmu"
   },
   "source": [
    "## Change `numerical_category_manyValues` \n"
   ]
  },
  {
   "cell_type": "markdown",
   "metadata": {
    "id": "_GsIiXUilNhR"
   },
   "source": [
    "###  Scheme A\n",
    "\n",
    "不做处理"
   ]
  },
  {
   "cell_type": "code",
   "execution_count": null,
   "metadata": {
    "id": "b9pHXyi4_Mff"
   },
   "outputs": [],
   "source": [
    "## Nothing is done"
   ]
  },
  {
   "cell_type": "markdown",
   "metadata": {
    "id": "f0yALhIla_ym"
   },
   "source": [
    "## Feature Generation\n",
    "\n",
    "利用 https://zhuanlan.zhihu.com/p/26444240 介绍的方法开展特征合成：\n",
    "\n",
    "```\n",
    "median(N1)_by(C1)  \\\\ 中位数\n",
    "mean(N1)_by(C1)  \\\\ 算术平均数\n",
    "mode(N1)_by(C1)  \\\\ 众数\n",
    "min(N1)_by(C1)  \\\\ 最小值\n",
    "max(N1)_by(C1)  \\\\ 最大值\n",
    "std(N1)_by(C1)  \\\\ 标准差\n",
    "var(N1)_by(C1)  \\\\ 方差\n",
    "freq(C2)_by(C1)  \\\\ 频数\n",
    "\n",
    "freq(C1) \\\\这个不需要groupby也有意义\n",
    "```"
   ]
  },
  {
   "cell_type": "code",
   "execution_count": null,
   "metadata": {
    "id": "Ah5J0w-12BaF"
   },
   "outputs": [],
   "source": [
    "# data_train.to_csv(\"preprocessedData/data_train-1129-a_a_a_b_b_a_x_x.csv\", index=False)\n",
    "# data_test_a.to_csv(\"preprocessedData/data_test_a-1129-a_a_a_b_b_a_x_x.csv\", index=False)"
   ]
  },
  {
   "cell_type": "code",
   "execution_count": null,
   "metadata": {
    "id": "OwVpGhO32BaF"
   },
   "outputs": [],
   "source": [
    "# data_train = pd.read_csv(\"preprocessedData/data_train-1129-a_a_a_b_b_a_x_x.csv\")\n",
    "# data_test_a = pd.read_csv(\"preprocessedData/data_test_a-1129-a_a_a_b_b_a_x_x.csv\")"
   ]
  },
  {
   "cell_type": "code",
   "execution_count": null,
   "metadata": {
    "id": "V_tlOvOdOKSo"
   },
   "outputs": [],
   "source": [
    "# ####\n",
    "# ## 这个适用于A-F。\n",
    "# ##\n",
    "# ####\n",
    "\n",
    "# from sklearn.feature_selection import SelectKBest\n",
    "# from scipy.stats import pearsonr\n",
    "# #选择K个最好的特征，返回选择特征后的数据\n",
    "# #第一个参数为计算评估特征是否好的函数，该函数输入特征矩阵和目标向量，\n",
    "# #输出二元组（评分，P值）的数组，数组第i项为第i个特征的评分和P值。在此定义为计算相关系数\n",
    "# #参数k为选择的特征个数\n",
    "\n",
    "# def selectNFeatures(numSelectedFeatures, data_train, y_train, fillMethod = \"ffill\"):\n",
    "#     ## 到时候，就指着返回下面两个表了\n",
    "#     selectedFeatures = []\n",
    "#     deletedFeatures = []\n",
    "\n",
    "#     ## 无脑处理：将所有的正负无穷都处理掉。\n",
    "#     data_train = data_train.replace([np.inf, -np.inf], np.nan)\n",
    "#     ## 填充方法\n",
    "#     if fillMethod in [\"ffill\", \"bfill\"]:\n",
    "#         data_train = data_train.fillna(axis = 1, method = fillMethod) # \"ffill\"\n",
    "#     else: \n",
    "#         data_train = data_train.fillna(data_train.median())  \n",
    "\n",
    "#     ## columnsThatHaveNullVal 这些列，终究是有空值的，那就放弃他们吧。\n",
    "#     tmpList = data_train.isnull().sum().to_frame('nulls')\n",
    "#     columnsThatHaveNullVal = list(tmpList[tmpList[\"nulls\"] > 0].index)\n",
    "#     deletedFeatures.extend(columnsThatHaveNullVal)\n",
    "#     data_train.drop(columnsThatHaveNullVal, axis = 1, inplace=True)\n",
    "\n",
    "#     # print(data_train.isnull().sum())\n",
    "#     # print()\n",
    "#     # print(y_train.isnull().sum())\n",
    "#     # print(data_train.head(20))\n",
    "#     # print(np.any(np.isnan(data_train)))\n",
    "\n",
    "#     selector = SelectKBest(k=numSelectedFeatures)\n",
    "#     selector.fit(data_train, y_train)\n",
    "#     colNums = selector.get_support(True)\n",
    "#     # print(colNums)\n",
    "#     for i, col in enumerate(list(data_train.columns)):\n",
    "#         if i in colNums:\n",
    "#             selectedFeatures.append(col)\n",
    "#         # else: \n",
    "#         #     deletedFeatures.append(col)\n",
    "#     # print(selectedFeatures, deletedFeatures)\n",
    "            \n",
    "#     return selectedFeatures , deletedFeatures\n",
    "\n",
    "# def combinationOfFeatures(category, serial, method, method_name, data_train, data_test_a, n):\n",
    "#     '''\n",
    "#     combine and generate some new features. \n",
    "\n",
    "#     category: list of the categorical column names\n",
    "#     serial: list of the serial column names\n",
    "#     method: [\"mean\"], [\"max\"], [\"min\"], pd.Series.model, etc..\n",
    "#     method_name: the name of the method. Must be strings. \n",
    "#     n: newly generated features, select n from them. if n == -1, then select all of the newly generated features. \n",
    "#     '''\n",
    "#     # ori_cols_train = list(data_train.columns)\n",
    "#     # ori_cols_test = list(data_test_a.columns)\n",
    "\n",
    "#     new_cols = []\n",
    "    \n",
    "#     for col in category: \n",
    "#         for numFea in serial: #half_serials + [\"isDefault\"]: # for numFea in [\"isDefault\"]: \n",
    "#             # print(\"categorical: {}, serial: {}\".format(col, numFea))\n",
    "#             temp_dict = data_train.groupby([col])[numFea].agg(method).reset_index().rename(columns={method_name: col + '_{}_{}'.format(numFea, method_name)})\n",
    "#             temp_dict.index = temp_dict[col].values\n",
    "#             temp_dict = temp_dict[col + '_{}_{}'.format(numFea, method_name)].to_dict()\n",
    "            \n",
    "#             data_train[col + '_{}_{}'.format(numFea, method_name)] = data_train[col].map(temp_dict)\n",
    "#             data_test_a[col + '_{}_{}'.format(numFea, method_name)] = data_test_a[col].map(temp_dict)\n",
    "            \n",
    "#             new_cols.append(col + '_{}_{}'.format(numFea, method_name))\n",
    "    \n",
    "#     if n >= 0: \n",
    "#         tmp_train = data_train[new_cols].copy()\n",
    "\n",
    "#         selectedFeatures, deletedFeatures = selectNFeatures(n, tmp_train, data_train[[\"isDefault\"]]) #\n",
    "\n",
    "#         data_train.drop(deletedFeatures, axis = 1, inplace=True)\n",
    "#         data_test_a.drop(deletedFeatures, axis = 1, inplace=True)\n",
    "#         # data_train = data_train[ori_cols_train + selectedFeatures]\n",
    "#         # data_test_a = data_test_a[ori_cols_test + selectedFeatures]\n",
    "\n",
    "#     elif n < 0:\n",
    "#         pass\n",
    "\n",
    "#     return data_train, data_test_a\n",
    "\n",
    "# def combinationOfFeatures_divide(feaGroup1, feaGroup2, method, df, df_test, n):\n",
    "#     ori_cols_train = list(df.columns)\n",
    "#     ori_cols_test = list(df_test.columns)\n",
    "\n",
    "#     new_cols = []\n",
    "\n",
    "#     for fea1 in feaGroup1: ## grade\n",
    "#         for fea2 in feaGroup2: ## nXX\n",
    "            \n",
    "#             df['{}_to_{}_'.format(fea1, method) + fea2] = df[fea1] / df.groupby([fea2])[fea1].transform(method)\n",
    "#             df_test['{}_to_{}_'.format(fea1, method) + fea2] = df_test[fea1] / df_test.groupby([fea2])[fea1].transform(method)\n",
    "            \n",
    "#             new_cols.append('{}_to_{}_'.format(fea1, method) + fea2)\n",
    "#     # print(new_cols)\n",
    "    \n",
    "#     if n >= 0:\n",
    "#         tmp_train = df[new_cols].copy()\n",
    "        \n",
    "#         selectedFeatures , deletedFeatures = selectNFeatures(n, tmp_train, df[[\"isDefault\"]], \"median\") # \n",
    "#         # print(data_train.columns)\n",
    "#         # print(data_train.)\n",
    "#         # print(selectedFeatures)\n",
    "        \n",
    "#         df.drop(deletedFeatures, axis = 1, inplace=True)\n",
    "#         df_test.drop(deletedFeatures, axis = 1, inplace=True)\n",
    "#         # df = df[ori_cols_train + selectedFeatures]\n",
    "#         # df_test = df_test[ori_cols_test + selectedFeatures]\n",
    "    \n",
    "#     elif n < 0:\n",
    "#         pass\n",
    "\n",
    "#     return df, df_test"
   ]
  },
  {
   "cell_type": "code",
   "execution_count": null,
   "metadata": {
    "id": "eJl1k0dEuxyk"
   },
   "outputs": [],
   "source": [
    "####\n",
    "## 这个适用于F2及以后。\n",
    "##\n",
    "####\n",
    "from sklearn.feature_selection import SelectKBest\n",
    "from scipy.stats import pearsonr\n",
    "#选择K个最好的特征，返回选择特征后的数据\n",
    "#第一个参数为计算评估特征是否好的函数，该函数输入特征矩阵和目标向量，\n",
    "#输出二元组（评分，P值）的数组，数组第i项为第i个特征的评分和P值。在此定义为计算相关系数\n",
    "#参数k为选择的特征个数\n",
    "\n",
    "def selectNFeatures(numSelectedFeatures, data_train, y_train, fillMethod = \"ffill\"):\n",
    "    ## 到时候，就指着返回下面两个表了\n",
    "    selectedFeatures = []\n",
    "    # deletedFeatures = []\n",
    "\n",
    "    ## 无脑处理：将所有的正负无穷都处理掉。\n",
    "    data_train = data_train.replace([np.inf, -np.inf], np.nan)\n",
    "    ## 填充方法\n",
    "    if fillMethod in [\"ffill\", \"bfill\"]:\n",
    "        data_train = data_train.fillna(axis = 1, method = fillMethod) # \"ffill\"\n",
    "    else: \n",
    "        for fea in data_train.columns:\n",
    "            data_train[fea] = data_train[fea].fillna(data_train[fea].median())  \n",
    "\n",
    "    ## columnsThatHaveNullVal 这些列，终究是有空值的，那就放弃他们吧。\n",
    "    tmpList = data_train.isnull().sum().to_frame('nulls')\n",
    "    columnsThatHaveNullVal = list(tmpList[tmpList[\"nulls\"] > 0].index)\n",
    "    # deletedFeatures.extend(columnsThatHaveNullVal)\n",
    "    data_train.drop(columnsThatHaveNullVal, axis = 1, inplace=True)\n",
    "\n",
    "    # print(data_train.isnull().sum())\n",
    "    # print()\n",
    "    # print(y_train.isnull().sum())\n",
    "    # print(data_train.head(20))\n",
    "    # print(np.any(np.isnan(data_train)))\n",
    "\n",
    "    selector = SelectKBest(k=numSelectedFeatures)\n",
    "    selector.fit(data_train, y_train)\n",
    "    colNums = selector.get_support(True)\n",
    "    # print(colNums)\n",
    "    for i, col in enumerate(list(data_train.columns)):\n",
    "        if i in colNums:\n",
    "            selectedFeatures.append(col)\n",
    "        # else: \n",
    "        #     deletedFeatures.append(col)\n",
    "    # print(selectedFeatures, deletedFeatures)\n",
    "            \n",
    "    return selectedFeatures #, deletedFeatures\n",
    "\n",
    "def combinationOfFeatures(category, serial, method, method_name, data_train, data_test_a, n):\n",
    "    '''\n",
    "    combine and generate some new features. \n",
    "\n",
    "    category: list of the categorical column names\n",
    "    serial: list of the serial column names\n",
    "    method: [\"mean\"], [\"max\"], [\"min\"], pd.Series.model, etc..\n",
    "    method_name: the name of the method. Must be strings. \n",
    "    n: newly generated features, select n from them. if n == -1, then select all of the newly generated features. \n",
    "    '''\n",
    "    ori_cols_train = list(data_train.columns)\n",
    "    ori_cols_test = list(data_test_a.columns)\n",
    "\n",
    "    new_cols = []\n",
    "    \n",
    "    for col in category: \n",
    "        for numFea in serial: #half_serials + [\"isDefault\"]: # for numFea in [\"isDefault\"]: \n",
    "            # print(\"categorical: {}, serial: {}\".format(col, numFea))\n",
    "            temp_dict = data_train.groupby([col])[numFea].agg(method).reset_index().rename(columns={method_name: col + '_{}_{}'.format(numFea, method_name)})\n",
    "            temp_dict.index = temp_dict[col].values\n",
    "            temp_dict = temp_dict[col + '_{}_{}'.format(numFea, method_name)].to_dict()\n",
    "            \n",
    "            data_train[col + '_{}_{}'.format(numFea, method_name)] = data_train[col].map(temp_dict)\n",
    "            data_test_a[col + '_{}_{}'.format(numFea, method_name)] = data_test_a[col].map(temp_dict)\n",
    "            \n",
    "            new_cols.append(col + '_{}_{}'.format(numFea, method_name))\n",
    "    \n",
    "    if n >= 0: \n",
    "        tmp_train = data_train[new_cols].copy()\n",
    "\n",
    "        selectedFeatures = selectNFeatures(n, tmp_train, data_train[[\"isDefault\"]]) #, deletedFeatures\n",
    "\n",
    "        # data_train.drop(deletedFeatures, axis = 1, inplace=True)\n",
    "        # data_test_a.drop(deletedFeatures, axis = 1, inplace=True)\n",
    "        data_train = data_train[ori_cols_train + selectedFeatures]\n",
    "        data_test_a = data_test_a[ori_cols_test + selectedFeatures]\n",
    "\n",
    "    elif n < 0:\n",
    "        pass\n",
    "\n",
    "    return data_train, data_test_a\n",
    "\n",
    "def combinationOfFeatures_divide(feaGroup1, feaGroup2, method, df, df_test, n):\n",
    "    ori_cols_train = list(df.columns)\n",
    "    ori_cols_test = list(df_test.columns)\n",
    "\n",
    "    new_cols = []\n",
    "\n",
    "    for fea1 in feaGroup1: ## grade\n",
    "        for fea2 in feaGroup2: ## nXX\n",
    "            \n",
    "            df['{}_to_{}_'.format(fea1, method) + fea2] = df[fea1] / df.groupby([fea2])[fea1].transform(method)\n",
    "            df_test['{}_to_{}_'.format(fea1, method) + fea2] = df_test[fea1] / df_test.groupby([fea2])[fea1].transform(method)\n",
    "            \n",
    "            new_cols.append('{}_to_{}_'.format(fea1, method) + fea2)\n",
    "    # print(new_cols)\n",
    "    \n",
    "    if n >= 0:\n",
    "        tmp_train = df[new_cols].copy()\n",
    "        \n",
    "        selectedFeatures = selectNFeatures(n, tmp_train, df[[\"isDefault\"]], \"median\") # , deletedFeatures\n",
    "        # print(data_train.columns)\n",
    "        # print(data_train.)\n",
    "        # print(selectedFeatures)\n",
    "        \n",
    "        # df.drop(deletedFeatures, axis = 1, inplace=True)\n",
    "        # df_test.drop(deletedFeatures, axis = 1, inplace=True)\n",
    "        df = df[ori_cols_train + selectedFeatures]\n",
    "        df_test = df_test[ori_cols_test + selectedFeatures]\n",
    "    \n",
    "    elif n < 0:\n",
    "        pass\n",
    "\n",
    "    return df, df_test\n",
    "\n",
    "def combinationOfFeatures_multi(category, serial, methods, data_train, data_test_a, n):\n",
    "    '''\n",
    "    combine and generate some new features. \n",
    "\n",
    "    category: list of the categorical column names\n",
    "    serial: list of the serial column names\n",
    "    method: [\"mean\"], [\"max\"], [\"min\"], pd.Series.model, etc..\n",
    "    method_name: the name of the method. Must be strings. \n",
    "    n: newly generated features, select n from them. if n == -1, then select all of the newly generated features. \n",
    "    '''\n",
    "    ori_cols_train = list(data_train.columns)\n",
    "    ori_cols_test = list(data_test_a.columns)\n",
    "\n",
    "    new_cols = []\n",
    "    \n",
    "    for method in tqdm.tqdm_notebook(methods): \n",
    "        method_name = method\n",
    "        for col in category: \n",
    "            for numFea in serial: #half_serials + [\"isDefault\"]: # for numFea in [\"isDefault\"]: \n",
    "                # print(\"categorical: {}, serial: {}\".format(col, numFea))\n",
    "                temp_dict = data_train.groupby([col])[numFea].agg([method]).reset_index().rename(columns={method_name: col + '_{}_{}'.format(numFea, method_name)})\n",
    "                temp_dict.index = temp_dict[col].values\n",
    "                temp_dict = temp_dict[col + '_{}_{}'.format(numFea, method_name)].to_dict()\n",
    "\n",
    "                data_train[col + '_{}_{}'.format(numFea, method_name)] = data_train[col].map(temp_dict)\n",
    "                data_test_a[col + '_{}_{}'.format(numFea, method_name)] = data_test_a[col].map(temp_dict)\n",
    "\n",
    "                new_cols.append(col + '_{}_{}'.format(numFea, method_name))\n",
    "    \n",
    "    if n >= 0: \n",
    "        tmp_train = data_train[new_cols].copy()\n",
    "\n",
    "        selectedFeatures = selectNFeatures(n, tmp_train, data_train[[\"label\"]]) #, deletedFeatures\n",
    "\n",
    "        # data_train.drop(deletedFeatures, axis = 1, inplace=True)\n",
    "        # data_test_a.drop(deletedFeatures, axis = 1, inplace=True)\n",
    "        data_train = data_train[ori_cols_train + selectedFeatures]\n",
    "        data_test_a = data_test_a[ori_cols_test + selectedFeatures]\n",
    "\n",
    "    elif n < 0:\n",
    "        pass\n",
    "\n",
    "    return data_train, data_test_a\n",
    "\n",
    "def combinationOfFeatures_divide_multi(feaGroup1, feaGroup2, methods, df, df_test, n):\n",
    "    ori_cols_train = list(df.columns)\n",
    "    ori_cols_test = list(df_test.columns)\n",
    "\n",
    "    new_cols = []\n",
    "    \n",
    "    for method in tqdm.tqdm_notebook(methods):\n",
    "        for fea1 in feaGroup1: ## grade\n",
    "            for fea2 in feaGroup2: ## nXX\n",
    "\n",
    "                df['{}_to_{}_'.format(fea1, method) + fea2] = df[fea1] / df.groupby([fea2])[fea1].transform(method)\n",
    "                df_test['{}_to_{}_'.format(fea1, method) + fea2] = df_test[fea1] / df_test.groupby([fea2])[fea1].transform(method)\n",
    "\n",
    "                new_cols.append('{}_to_{}_'.format(fea1, method) + fea2)\n",
    "        # print(new_cols)\n",
    "    \n",
    "    if n >= 0:\n",
    "        tmp_train = df[new_cols].copy()\n",
    "        \n",
    "        selectedFeatures = selectNFeatures(n, tmp_train, df[[\"label\"]], \"median\") # , deletedFeatures\n",
    "        # print(data_train.columns)\n",
    "        # print(data_train.)\n",
    "        # print(selectedFeatures)\n",
    "        \n",
    "        # df.drop(deletedFeatures, axis = 1, inplace=True)\n",
    "        # df_test.drop(deletedFeatures, axis = 1, inplace=True)\n",
    "        df = df[ori_cols_train + selectedFeatures]\n",
    "        df_test = df_test[ori_cols_test + selectedFeatures]\n",
    "    \n",
    "    elif n < 0:\n",
    "        pass\n",
    "\n",
    "    return df, df_test"
   ]
  },
  {
   "cell_type": "markdown",
   "metadata": {
    "id": "d8wxvCVFmZ-_"
   },
   "source": [
    "### Scheme A: \n",
    "\n",
    "那我们着重应对的就是`numerical_category_manyValues, date_type`和`object_serial, numerical_serial`可以组合处理一下。\n",
    "\n",
    "怎么做呢？根据C1列的取值对N1列进行分组。比如C1能取1，2，3三个值，然后根据这三个值把N1进行分组。然后获得1对应的N1分组的平均值、平均值、众数、中位数、最大值、最小值、标准差、方差、频数，然后用获得的这些值创建新的列。\n",
    "\n",
    "取5个值？"
   ]
  },
  {
   "cell_type": "code",
   "execution_count": null,
   "metadata": {
    "colab": {
     "base_uri": "https://localhost:8080/"
    },
    "executionInfo": {
     "elapsed": 444,
     "status": "ok",
     "timestamp": 1606619625112,
     "user": {
      "displayName": "Minke Xiu",
      "photoUrl": "https://lh3.googleusercontent.com/a-/AOh14GiKrlSLM7H0tbRpIYdHPAKnVjaQdF6dZZWD9Jdd=s64",
      "userId": "01913327350585558279"
     },
     "user_tz": 300
    },
    "id": "7B4RvUWV_eVg",
    "outputId": "636223b9-dcfd-43b6-9b8a-afd3f30b2add"
   },
   "outputs": [
    {
     "data": {
      "text/plain": [
       "(800000, 53)"
      ]
     },
     "execution_count": 31,
     "metadata": {
      "tags": []
     },
     "output_type": "execute_result"
    }
   ],
   "source": [
    "data_train.shape"
   ]
  },
  {
   "cell_type": "code",
   "execution_count": null,
   "metadata": {
    "id": "K6BqNnCJ0-OP"
   },
   "outputs": [],
   "source": [
    "data_train, data_test_a = combinationOfFeatures(\n",
    "    numerical_category_manyValues + ['earliesCreditLineYear', 'earliesCreditLineMonth', 'issueYear', 'issueMonth'], \n",
    "    object_serial + numerical_serial + [\"isDefault\"],\n",
    "    [\"median\"], \n",
    "    \"median\", \n",
    "    data_train, \n",
    "    data_test_a, \n",
    "    5\n",
    ")"
   ]
  },
  {
   "cell_type": "code",
   "execution_count": null,
   "metadata": {
    "id": "tnnz_lBLxfG4"
   },
   "outputs": [],
   "source": [
    "data_train, data_test_a = combinationOfFeatures(\n",
    "    numerical_category_manyValues + ['earliesCreditLineYear', 'earliesCreditLineMonth', 'issueYear', 'issueMonth'], \n",
    "    object_serial + numerical_serial + [\"isDefault\"],\n",
    "    [\"mean\"], \n",
    "    \"mean\", \n",
    "    data_train, \n",
    "    data_test_a, \n",
    "    5\n",
    ")"
   ]
  },
  {
   "cell_type": "code",
   "execution_count": null,
   "metadata": {
    "id": "rVl7KJN-1F7l"
   },
   "outputs": [],
   "source": [
    "## 失败，这种方法目测是用不了的。\n",
    "# data_train, data_test_a = combinationOfFeatures(\n",
    "#     numerical_category_manyValues + ['earliesCreditLineYear', 'earliesCreditLineMonth', 'issueYear', 'issueMonth'], \n",
    "#     object_serial + numerical_serial + [\"isDefault\"],\n",
    "#     pd.Series.mode,\n",
    "#     \"mode\",\n",
    "#     data_train, \n",
    "#     data_test_a, \n",
    "#     5\n",
    "# )"
   ]
  },
  {
   "cell_type": "code",
   "execution_count": null,
   "metadata": {
    "id": "fdimIZiv0SWH"
   },
   "outputs": [],
   "source": [
    "data_train, data_test_a = combinationOfFeatures(\n",
    "    numerical_category_manyValues + ['earliesCreditLineYear', 'earliesCreditLineMonth', 'issueYear', 'issueMonth'], \n",
    "    object_serial + numerical_serial + [\"isDefault\"],\n",
    "    [\"max\"], \n",
    "    \"max\", \n",
    "    data_train, \n",
    "    data_test_a, \n",
    "    5\n",
    ")"
   ]
  },
  {
   "cell_type": "code",
   "execution_count": null,
   "metadata": {
    "id": "zMC7znNG0amO"
   },
   "outputs": [],
   "source": [
    "data_train, data_test_a = combinationOfFeatures(\n",
    "    numerical_category_manyValues + ['earliesCreditLineYear', 'earliesCreditLineMonth', 'issueYear', 'issueMonth'], \n",
    "    object_serial + numerical_serial + [\"isDefault\"],\n",
    "    [\"min\"], \n",
    "    \"min\", \n",
    "    data_train, \n",
    "    data_test_a, \n",
    "    5\n",
    ")"
   ]
  },
  {
   "cell_type": "code",
   "execution_count": null,
   "metadata": {
    "id": "grz1elrR0kvY"
   },
   "outputs": [],
   "source": [
    "data_train, data_test_a = combinationOfFeatures(\n",
    "    numerical_category_manyValues + ['earliesCreditLineYear', 'earliesCreditLineMonth', 'issueYear', 'issueMonth'], \n",
    "    object_serial + numerical_serial + [\"isDefault\"],\n",
    "    [\"std\"], \n",
    "    \"std\", \n",
    "    data_train, \n",
    "    data_test_a, \n",
    "    5\n",
    ")"
   ]
  },
  {
   "cell_type": "code",
   "execution_count": null,
   "metadata": {
    "id": "VR89ej7W1MLe"
   },
   "outputs": [],
   "source": [
    "data_train, data_test_a = combinationOfFeatures(\n",
    "    numerical_category_manyValues + ['earliesCreditLineYear', 'earliesCreditLineMonth', 'issueYear', 'issueMonth'], \n",
    "    object_serial + numerical_serial + [\"isDefault\"],\n",
    "    [\"var\"], \n",
    "    \"var\", \n",
    "    data_train, \n",
    "    data_test_a, \n",
    "    5\n",
    ")"
   ]
  },
  {
   "cell_type": "code",
   "execution_count": null,
   "metadata": {
    "id": "jelxGQLz1TSC"
   },
   "outputs": [],
   "source": [
    "data_train, data_test_a = combinationOfFeatures(\n",
    "    numerical_category_manyValues + ['earliesCreditLineYear', 'earliesCreditLineMonth', 'issueYear', 'issueMonth'], \n",
    "    object_serial + numerical_serial + [\"isDefault\"],\n",
    "    [\"count\"],\n",
    "    \"count\",  \n",
    "    data_train, \n",
    "    data_test_a, \n",
    "    5\n",
    ")"
   ]
  },
  {
   "cell_type": "code",
   "execution_count": null,
   "metadata": {
    "id": "q93M7d5Da_yn"
   },
   "outputs": [],
   "source": [
    "# for col in numerical_category_manyValues: \n",
    "#     for numFea in [\"isDefault\"]: #half_serials + [\"isDefault\"]: # for numFea in object_serial + numerical_serial + [\"isDefault\"]:\n",
    "#         temp_dict = data_train.groupby([col])[numFea].agg(['mean']).reset_index().rename(columns={'mean': col + '_{}_mean'.format(numFea)})\n",
    "#         temp_dict.index = temp_dict[col].values\n",
    "#         # print(temp_dict.head())\n",
    "#         temp_dict = temp_dict[col + '_{}_mean'.format(numFea)].to_dict()\n",
    "#         # print(col, \" \", temp_dict, sum(temp_dict.values()), \"\\n\")\n",
    "#         data_train[col + '_{}_mean'.format(numFea)] = data_train[col].map(temp_dict)\n",
    "#         data_test_a[col + '_{}_mean'.format(numFea)] = data_test_a[col].map(temp_dict)\n",
    "# data_train.head()"
   ]
  },
  {
   "cell_type": "code",
   "execution_count": null,
   "metadata": {
    "id": "ZgAG6k1Da_yq"
   },
   "outputs": [],
   "source": [
    "# for col in numerical_category_manyValues: \n",
    "#     for numFea in [\"isDefault\"]: #object_serial + numerical_serial:\n",
    "#         temp_dict = data_train.groupby([col])[numFea].agg(['max']).reset_index().rename(columns={'max': col + '_{}_max'.format(numFea)})\n",
    "#         temp_dict.index = temp_dict[col].values\n",
    "#         # print(temp_dict.head())\n",
    "#         temp_dict = temp_dict[col + '_{}_max'.format(numFea)].to_dict()\n",
    "#         # print(col, \" \", temp_dict, sum(temp_dict.values()), \"\\n\")\n",
    "#         data_train[col + '_{}_max'.format(numFea)] = data_train[col].map(temp_dict)\n",
    "#         data_test_a[col + '_{}_max'.format(numFea)] = data_test_a[col].map(temp_dict)\n",
    "# data_train.head()"
   ]
  },
  {
   "cell_type": "code",
   "execution_count": null,
   "metadata": {
    "id": "32fOUK76a_yw"
   },
   "outputs": [],
   "source": [
    "# for col in numerical_category_manyValues: \n",
    "#     for numFea in [\"isDefault\"]: #object_serial + numerical_serial:\n",
    "#         temp_dict = data_train.groupby([col])[numFea].agg(['min']).reset_index().rename(columns={'min': col + '_{}_min'.format(numFea)})\n",
    "#         temp_dict.index = temp_dict[col].values\n",
    "#         # print(temp_dict.head())\n",
    "#         temp_dict = temp_dict[col + '_{}_min'.format(numFea)].to_dict()\n",
    "#         # print(col, \" \", temp_dict, sum(temp_dict.values()), \"\\n\")\n",
    "#         data_train[col + '_{}_min'.format(numFea)] = data_train[col].map(temp_dict)\n",
    "#         data_test_a[col + '_{}_min'.format(numFea)] = data_test_a[col].map(temp_dict)\n",
    "# data_train.head()"
   ]
  },
  {
   "cell_type": "code",
   "execution_count": null,
   "metadata": {
    "id": "Hb0dEWYFa_yz"
   },
   "outputs": [],
   "source": [
    "# for col in numerical_category_manyValues: \n",
    "#     for numFea in [\"isDefault\"]: #half_serials + [\"isDefault\"]: # for numFea in object_serial + numerical_serial:\n",
    "#         temp_dict = data_train.groupby([col])[numFea].agg(['std']).reset_index().rename(columns={'std': col + '_{}_std'.format(numFea)})\n",
    "#         temp_dict.index = temp_dict[col].values\n",
    "#         # print(temp_dict.head())\n",
    "#         temp_dict = temp_dict[col + '_{}_std'.format(numFea)].to_dict()\n",
    "#         # print(col, \" \", temp_dict, sum(temp_dict.values()), \"\\n\")\n",
    "#         data_train[col + '_{}_std'.format(numFea)] = data_train[col].map(temp_dict)\n",
    "#         data_test_a[col + '_{}_std'.format(numFea)] = data_test_a[col].map(temp_dict)\n",
    "# data_train.head()"
   ]
  },
  {
   "cell_type": "code",
   "execution_count": null,
   "metadata": {
    "colab": {
     "base_uri": "https://localhost:8080/"
    },
    "executionInfo": {
     "elapsed": 641,
     "status": "ok",
     "timestamp": 1606618704970,
     "user": {
      "displayName": "Minke Xiu",
      "photoUrl": "https://lh3.googleusercontent.com/a-/AOh14GiKrlSLM7H0tbRpIYdHPAKnVjaQdF6dZZWD9Jdd=s64",
      "userId": "01913327350585558279"
     },
     "user_tz": 300
    },
    "id": "bslgSsOK7ljK",
    "outputId": "8693f6c0-9fe1-4ccc-8cf1-704f67ff73fe"
   },
   "outputs": [
    {
     "data": {
      "text/plain": [
       "Index(['id', 'loanAmnt', 'term', 'interestRate', 'installment', 'grade',\n",
       "       'subGrade', 'employmentTitle', 'employmentLength', 'annualIncome',\n",
       "       'issueDate', 'isDefault', 'purpose', 'postCode', 'regionCode', 'dti',\n",
       "       'delinquency_2years', 'ficoRangeLow', 'ficoRangeHigh', 'openAcc',\n",
       "       'pubRec', 'pubRecBankruptcies', 'revolBal', 'revolUtil', 'totalAcc',\n",
       "       'earliesCreditLine', 'title', 'policyCode', 'n0', 'n1', 'n2', 'n3',\n",
       "       'n4', 'n5', 'n6', 'n7', 'n8', 'n9', 'n10', 'n13', 'n14', 'issueYear',\n",
       "       'issueMonth', 'earliesCreditLineYear', 'earliesCreditLineMonth',\n",
       "       'issueDateDT', 'earliesCreditLineDT', 'homeOwnership_1',\n",
       "       'homeOwnership_2', 'homeOwnership_3', 'homeOwnership_4',\n",
       "       'homeOwnership_5', 'verificationStatus_1', 'verificationStatus_2',\n",
       "       'initialListStatus_1', 'applicationType_1', 'n11_1.0', 'n11_2.0',\n",
       "       'n11_3.0', 'n11_4.0', 'n12_1.0', 'n12_2.0', 'n12_3.0', 'n12_4.0',\n",
       "       'employmentTitle_grade_median', 'employmentTitle_subGrade_median',\n",
       "       'employmentTitle_interestRate_median',\n",
       "       'employmentTitle_isDefault_median', 'title_isDefault_median',\n",
       "       'employmentTitle_grade_mean', 'employmentTitle_subGrade_mean',\n",
       "       'employmentTitle_interestRate_mean', 'employmentTitle_isDefault_mean',\n",
       "       'title_isDefault_mean', 'employmentTitle_grade_max',\n",
       "       'employmentTitle_subGrade_max', 'employmentTitle_interestRate_max',\n",
       "       'employmentTitle_isDefault_max', 'title_isDefault_max',\n",
       "       'employmentTitle_grade_min', 'employmentTitle_subGrade_min',\n",
       "       'employmentTitle_term_min', 'employmentTitle_isDefault_min',\n",
       "       'title_isDefault_min', 'employmentTitle_isDefault_std',\n",
       "       'postCode_isDefault_std', 'title_isDefault_std',\n",
       "       'issueYear_annualIncome_std', 'issueYear_isDefault_std',\n",
       "       'employmentTitle_isDefault_var', 'postCode_isDefault_var',\n",
       "       'title_isDefault_var', 'issueYear_n13_var', 'issueYear_isDefault_var',\n",
       "       'title_n4_count', 'title_n9_count', 'title_n10_count',\n",
       "       'title_n13_count', 'title_n14_count'],\n",
       "      dtype='object')"
      ]
     },
     "execution_count": 37,
     "metadata": {
      "tags": []
     },
     "output_type": "execute_result"
    }
   ],
   "source": [
    "data_train.columns"
   ]
  },
  {
   "cell_type": "markdown",
   "metadata": {
    "id": "0Ha_TAmA_99j"
   },
   "source": [
    "### Scheme B: \n",
    "\n",
    "跟A大体一样，就是新增几个列，少取几个值。\n",
    "\n",
    "取5个值？"
   ]
  },
  {
   "cell_type": "code",
   "execution_count": null,
   "metadata": {
    "colab": {
     "base_uri": "https://localhost:8080/"
    },
    "executionInfo": {
     "elapsed": 444,
     "status": "ok",
     "timestamp": 1606619625112,
     "user": {
      "displayName": "Minke Xiu",
      "photoUrl": "https://lh3.googleusercontent.com/a-/AOh14GiKrlSLM7H0tbRpIYdHPAKnVjaQdF6dZZWD9Jdd=s64",
      "userId": "01913327350585558279"
     },
     "user_tz": 300
    },
    "id": "YoDTrgSA_99k",
    "outputId": "636223b9-dcfd-43b6-9b8a-afd3f30b2add"
   },
   "outputs": [
    {
     "data": {
      "text/plain": [
       "(800000, 53)"
      ]
     },
     "execution_count": 31,
     "metadata": {
      "tags": []
     },
     "output_type": "execute_result"
    }
   ],
   "source": [
    "data_train.shape"
   ]
  },
  {
   "cell_type": "code",
   "execution_count": null,
   "metadata": {
    "id": "4ROI60EL_99k"
   },
   "outputs": [],
   "source": [
    "data_train, data_test_a = combinationOfFeatures(\n",
    "    numerical_category_manyValues + ['earliesCreditLineYear', 'earliesCreditLineMonth', 'issueYear', 'issueMonth'] + numerical_category_fewValues, \n",
    "    object_serial + numerical_serial + [\"isDefault\"],\n",
    "    [\"median\"], \n",
    "    \"median\", \n",
    "    data_train, \n",
    "    data_test_a, \n",
    "    3\n",
    ")"
   ]
  },
  {
   "cell_type": "code",
   "execution_count": null,
   "metadata": {
    "id": "FOU6V-n7_99k"
   },
   "outputs": [],
   "source": [
    "data_train, data_test_a = combinationOfFeatures(\n",
    "    numerical_category_manyValues + ['earliesCreditLineYear', 'earliesCreditLineMonth', 'issueYear', 'issueMonth'] + numerical_category_fewValues, \n",
    "    object_serial + numerical_serial + [\"isDefault\"],\n",
    "    [\"mean\"], \n",
    "    \"mean\", \n",
    "    data_train, \n",
    "    data_test_a, \n",
    "    3\n",
    ")"
   ]
  },
  {
   "cell_type": "code",
   "execution_count": null,
   "metadata": {
    "id": "qvOqB1wc_99k"
   },
   "outputs": [],
   "source": [
    "## 失败，这种方法目测是用不了的。\n",
    "# data_train, data_test_a = combinationOfFeatures(\n",
    "#     numerical_category_manyValues + ['earliesCreditLineYear', 'earliesCreditLineMonth', 'issueYear', 'issueMonth'], \n",
    "#     object_serial + numerical_serial + [\"isDefault\"],\n",
    "#     pd.Series.mode,\n",
    "#     \"mode\",\n",
    "#     data_train, \n",
    "#     data_test_a, \n",
    "#     5\n",
    "# )"
   ]
  },
  {
   "cell_type": "code",
   "execution_count": null,
   "metadata": {
    "id": "rrcAL__N_99k"
   },
   "outputs": [],
   "source": [
    "data_train, data_test_a = combinationOfFeatures(\n",
    "    numerical_category_manyValues + ['earliesCreditLineYear', 'earliesCreditLineMonth', 'issueYear', 'issueMonth'] + numerical_category_fewValues, \n",
    "    object_serial + numerical_serial + [\"isDefault\"],\n",
    "    [\"max\"], \n",
    "    \"max\", \n",
    "    data_train, \n",
    "    data_test_a, \n",
    "    3\n",
    ")"
   ]
  },
  {
   "cell_type": "code",
   "execution_count": null,
   "metadata": {
    "id": "caroFwrZ_99k"
   },
   "outputs": [],
   "source": [
    "data_train, data_test_a = combinationOfFeatures(\n",
    "    numerical_category_manyValues + ['earliesCreditLineYear', 'earliesCreditLineMonth', 'issueYear', 'issueMonth'] + numerical_category_fewValues, \n",
    "    object_serial + numerical_serial + [\"isDefault\"],\n",
    "    [\"min\"], \n",
    "    \"min\", \n",
    "    data_train, \n",
    "    data_test_a, \n",
    "    3\n",
    ")"
   ]
  },
  {
   "cell_type": "code",
   "execution_count": null,
   "metadata": {
    "id": "2hqqidQ1_99k"
   },
   "outputs": [],
   "source": [
    "data_train, data_test_a = combinationOfFeatures(\n",
    "    numerical_category_manyValues + ['earliesCreditLineYear', 'earliesCreditLineMonth', 'issueYear', 'issueMonth'] + numerical_category_fewValues, \n",
    "    object_serial + numerical_serial + [\"isDefault\"],\n",
    "    [\"std\"], \n",
    "    \"std\", \n",
    "    data_train, \n",
    "    data_test_a, \n",
    "    3\n",
    ")"
   ]
  },
  {
   "cell_type": "code",
   "execution_count": null,
   "metadata": {
    "id": "0MoDDFoo_99k"
   },
   "outputs": [],
   "source": [
    "data_train, data_test_a = combinationOfFeatures(\n",
    "    numerical_category_manyValues + ['earliesCreditLineYear', 'earliesCreditLineMonth', 'issueYear', 'issueMonth'] + numerical_category_fewValues, \n",
    "    object_serial + numerical_serial + [\"isDefault\"],\n",
    "    [\"var\"], \n",
    "    \"var\", \n",
    "    data_train, \n",
    "    data_test_a, \n",
    "    3\n",
    ")"
   ]
  },
  {
   "cell_type": "code",
   "execution_count": null,
   "metadata": {
    "id": "fP6EwF0Z_99k"
   },
   "outputs": [],
   "source": [
    "data_train, data_test_a = combinationOfFeatures(\n",
    "    numerical_category_manyValues + ['earliesCreditLineYear', 'earliesCreditLineMonth', 'issueYear', 'issueMonth'] + numerical_category_fewValues, \n",
    "    object_serial + numerical_serial + [\"isDefault\"],\n",
    "    [\"count\"],\n",
    "    \"count\",  \n",
    "    data_train, \n",
    "    data_test_a, \n",
    "    3\n",
    ")"
   ]
  },
  {
   "cell_type": "code",
   "execution_count": null,
   "metadata": {
    "colab": {
     "base_uri": "https://localhost:8080/"
    },
    "executionInfo": {
     "elapsed": 443247,
     "status": "ok",
     "timestamp": 1606620367236,
     "user": {
      "displayName": "Minke Xiu",
      "photoUrl": "https://lh3.googleusercontent.com/a-/AOh14GiKrlSLM7H0tbRpIYdHPAKnVjaQdF6dZZWD9Jdd=s64",
      "userId": "01913327350585558279"
     },
     "user_tz": 300
    },
    "id": "l9TA1K1t_99k",
    "outputId": "3d7ca296-255b-4879-d26d-3d66b78cc03c"
   },
   "outputs": [
    {
     "data": {
      "text/plain": [
       "Index(['id', 'loanAmnt', 'term', 'interestRate', 'installment', 'grade',\n",
       "       'subGrade', 'employmentTitle', 'employmentLength', 'homeOwnership',\n",
       "       'annualIncome', 'verificationStatus', 'issueDate', 'isDefault',\n",
       "       'purpose', 'postCode', 'regionCode', 'dti', 'delinquency_2years',\n",
       "       'ficoRangeLow', 'ficoRangeHigh', 'openAcc', 'pubRec',\n",
       "       'pubRecBankruptcies', 'revolBal', 'revolUtil', 'totalAcc',\n",
       "       'initialListStatus', 'applicationType', 'earliesCreditLine', 'title',\n",
       "       'policyCode', 'n0', 'n1', 'n2', 'n3', 'n4', 'n5', 'n6', 'n7', 'n8',\n",
       "       'n9', 'n10', 'n11', 'n12', 'n13', 'n14', 'issueYear', 'issueMonth',\n",
       "       'earliesCreditLineYear', 'earliesCreditLineMonth', 'issueDateDT',\n",
       "       'earliesCreditLineDT', 'employmentTitle_subGrade_median',\n",
       "       'employmentTitle_isDefault_median', 'title_isDefault_median',\n",
       "       'employmentTitle_subGrade_mean', 'employmentTitle_isDefault_mean',\n",
       "       'title_isDefault_mean', 'employmentTitle_isDefault_max',\n",
       "       'title_isDefault_max', 'verificationStatus_n3_max',\n",
       "       'employmentTitle_isDefault_min', 'title_isDefault_min',\n",
       "       'verificationStatus_ficoRangeHigh_min', 'employmentTitle_isDefault_std',\n",
       "       'verificationStatus_loanAmnt_std',\n",
       "       'verificationStatus_interestRate_std', 'employmentTitle_isDefault_var',\n",
       "       'title_isDefault_var', 'verificationStatus_isDefault_var',\n",
       "       'title_n4_count', 'title_n10_count', 'title_n14_count'],\n",
       "      dtype='object')"
      ]
     },
     "execution_count": 41,
     "metadata": {
      "tags": []
     },
     "output_type": "execute_result"
    }
   ],
   "source": [
    "data_train.columns"
   ]
  },
  {
   "cell_type": "markdown",
   "metadata": {
    "id": "3jbbZfOKFKIP"
   },
   "source": [
    "### Scheme C\n",
    "\n",
    "传统的方法"
   ]
  },
  {
   "cell_type": "code",
   "execution_count": null,
   "metadata": {
    "id": "Wmvp9nzmIhSS"
   },
   "outputs": [],
   "source": [
    "for col in ['grade', 'subGrade']: \n",
    "    temp_dict = data_train.groupby([col])['isDefault'].agg(['mean']).reset_index().rename(columns={'mean': col + '_target_mean'})\n",
    "    temp_dict.index = temp_dict[col].values\n",
    "    temp_dict = temp_dict[col + '_target_mean'].to_dict()\n",
    "\n",
    "    data_train[col + '_target_mean'] = data_train[col].map(temp_dict)\n",
    "    data_test_a[col + '_target_mean'] = data_test_a[col].map(temp_dict)"
   ]
  },
  {
   "cell_type": "code",
   "execution_count": null,
   "metadata": {
    "id": "PNpIeqzuIjHM"
   },
   "outputs": [],
   "source": [
    "# 其他衍生变量 mean 和 std\n",
    "for df in [data_train, data_test_a]:\n",
    "    for item in ['n0','n1','n2','n3','n4','n5','n6','n7','n8','n9','n10','n11','n12','n13','n14']:\n",
    "        df['grade_to_mean_' + item] = df['grade'] / df.groupby([item])['grade'].transform('mean')\n",
    "        df['grade_to_std_' + item] = df['grade'] / df.groupby([item])['grade'].transform('std')"
   ]
  },
  {
   "cell_type": "markdown",
   "metadata": {
    "id": "Q7xfAfOeQdkV"
   },
   "source": [
    "### Scheme D\n",
    "\n",
    "在C方案的基础上，增加一点点特征，不要多，就5个。"
   ]
  },
  {
   "cell_type": "code",
   "execution_count": null,
   "metadata": {
    "id": "UthGLXBiQq_t"
   },
   "outputs": [],
   "source": [
    "for col in ['grade', 'subGrade']: \n",
    "    temp_dict = data_train.groupby([col])['isDefault'].agg(['mean']).reset_index().rename(columns={'mean': col + '_target_mean'})\n",
    "    temp_dict.index = temp_dict[col].values\n",
    "    temp_dict = temp_dict[col + '_target_mean'].to_dict()\n",
    "\n",
    "    data_train[col + '_target_mean'] = data_train[col].map(temp_dict)\n",
    "    data_test_a[col + '_target_mean'] = data_test_a[col].map(temp_dict)"
   ]
  },
  {
   "cell_type": "code",
   "execution_count": null,
   "metadata": {
    "id": "a2DdYo1NQq_t"
   },
   "outputs": [],
   "source": [
    "# 其他衍生变量 mean 和 std\n",
    "for df in [data_train, data_test_a]:\n",
    "    for item in ['n0','n1','n2','n3','n4','n5','n6','n7','n8','n9','n10','n11','n12','n13','n14']:\n",
    "        df['grade_to_mean_' + item] = df['grade'] / df.groupby([item])['grade'].transform('mean')\n",
    "        df['grade_to_std_' + item] = df['grade'] / df.groupby([item])['grade'].transform('std')"
   ]
  },
  {
   "cell_type": "code",
   "execution_count": null,
   "metadata": {
    "id": "eb3hgSGXQc3h"
   },
   "outputs": [],
   "source": [
    "data_train, data_test_a = combinationOfFeatures(\n",
    "    numerical_category_manyValues + ['earliesCreditLineYear', 'earliesCreditLineMonth', 'issueYear', 'issueMonth'], \n",
    "    object_serial + numerical_serial, # + [\"isDefault\"],\n",
    "    [\"median\"], \n",
    "    \"median\", \n",
    "    data_train, \n",
    "    data_test_a, \n",
    "    5\n",
    ")"
   ]
  },
  {
   "cell_type": "code",
   "execution_count": null,
   "metadata": {
    "id": "k3mSlB9ESojf"
   },
   "outputs": [],
   "source": [
    "data_train.shape"
   ]
  },
  {
   "cell_type": "markdown",
   "metadata": {
    "id": "Urt2K0y-p4qg"
   },
   "source": [
    "### Scheme G"
   ]
  },
  {
   "cell_type": "code",
   "execution_count": null,
   "metadata": {
    "id": "KLk06X1sv9SO"
   },
   "outputs": [],
   "source": [
    "for col in ['grade', 'subGrade']: \n",
    "    temp_dict = data_train.groupby([col])['isDefault'].agg(['mean']).reset_index().rename(columns={'mean': col + '_target_mean'})\n",
    "    temp_dict.index = temp_dict[col].values\n",
    "    temp_dict = temp_dict[col + '_target_mean'].to_dict()\n",
    "\n",
    "    data_train[col + '_target_mean'] = data_train[col].map(temp_dict)\n",
    "    data_test_a[col + '_target_mean'] = data_test_a[col].map(temp_dict)"
   ]
  },
  {
   "cell_type": "code",
   "execution_count": null,
   "metadata": {
    "id": "TO8aAxpTwCQK"
   },
   "outputs": [],
   "source": [
    "# 其他衍生变量 mean 和 std\n",
    "for df in [data_train, data_test_a]:\n",
    "    for item in ['n0','n1','n2','n3','n4','n5','n6','n7','n8','n9','n10','n11','n12','n13','n14']:\n",
    "        df['grade_to_mean_' + item] = df['grade'] / df.groupby([item])['grade'].transform('mean')\n",
    "        df['grade_to_std_' + item] = df['grade'] / df.groupby([item])['grade'].transform('std')"
   ]
  },
  {
   "cell_type": "code",
   "execution_count": null,
   "metadata": {
    "id": "uRceMwOrzMeO"
   },
   "outputs": [],
   "source": [
    "data_train, data_test_a = combinationOfFeatures(\n",
    "    numerical_category_manyValues + ['earliesCreditLineYear', 'earliesCreditLineMonth', 'issueYear', 'issueMonth'], \n",
    "    object_serial + numerical_serial, # + [\"isDefault\"],\n",
    "    [\"median\"], \n",
    "    \"median\", \n",
    "    data_train, \n",
    "    data_test_a, \n",
    "    5\n",
    ")\n",
    "\n",
    "data_train, data_test_a = combinationOfFeatures(\n",
    "    numerical_category_manyValues + ['earliesCreditLineYear', 'earliesCreditLineMonth', 'issueYear', 'issueMonth'], \n",
    "    object_serial + numerical_serial, # + [\"isDefault\"],\n",
    "    [\"max\"], \n",
    "    \"max\", \n",
    "    data_train, \n",
    "    data_test_a, \n",
    "    5\n",
    ")\n",
    "\n",
    "data_train, data_test_a = combinationOfFeatures(\n",
    "    numerical_category_manyValues + ['earliesCreditLineYear', 'earliesCreditLineMonth', 'issueYear', 'issueMonth'], \n",
    "    object_serial + numerical_serial, # + [\"isDefault\"],\n",
    "    [\"min\"], \n",
    "    \"min\", \n",
    "    data_train, \n",
    "    data_test_a, \n",
    "    5\n",
    ")"
   ]
  },
  {
   "cell_type": "markdown",
   "metadata": {
    "id": "wW4kFqq0cLqT"
   },
   "source": [
    "### Scheme E\n",
    "\n",
    "在D的基础上，做了一些适应于（`numerical_category_fewValues`被dummy）后的改变。"
   ]
  },
  {
   "cell_type": "code",
   "execution_count": null,
   "metadata": {
    "colab": {
     "base_uri": "https://localhost:8080/"
    },
    "executionInfo": {
     "elapsed": 855,
     "status": "ok",
     "timestamp": 1606627250029,
     "user": {
      "displayName": "Minke Xiu",
      "photoUrl": "https://lh3.googleusercontent.com/a-/AOh14GiKrlSLM7H0tbRpIYdHPAKnVjaQdF6dZZWD9Jdd=s64",
      "userId": "01913327350585558279"
     },
     "user_tz": 300
    },
    "id": "dkkfn89Icj1j",
    "outputId": "b7e747a7-ae37-4363-fa29-730883c791b6"
   },
   "outputs": [
    {
     "data": {
      "text/plain": [
       "['homeOwnership',\n",
       " 'verificationStatus',\n",
       " 'initialListStatus',\n",
       " 'applicationType',\n",
       " 'n11',\n",
       " 'n12']"
      ]
     },
     "execution_count": 25,
     "metadata": {
      "tags": []
     },
     "output_type": "execute_result"
    }
   ],
   "source": [
    "numerical_category_fewValues"
   ]
  },
  {
   "cell_type": "code",
   "execution_count": null,
   "metadata": {
    "id": "UGrEITVUcNzr"
   },
   "outputs": [],
   "source": [
    "for col in ['grade', 'subGrade']: \n",
    "    temp_dict = data_train.groupby([col])['isDefault'].agg(['mean']).reset_index().rename(columns={'mean': col + '_target_mean'})\n",
    "    temp_dict.index = temp_dict[col].values\n",
    "    temp_dict = temp_dict[col + '_target_mean'].to_dict()\n",
    "\n",
    "    data_train[col + '_target_mean'] = data_train[col].map(temp_dict)\n",
    "    data_test_a[col + '_target_mean'] = data_test_a[col].map(temp_dict)"
   ]
  },
  {
   "cell_type": "code",
   "execution_count": null,
   "metadata": {
    "id": "k5pOAvcEcNzr"
   },
   "outputs": [],
   "source": [
    "# 其他衍生变量 mean 和 std\n",
    "for df in [data_train, data_test_a]:\n",
    "    for item in ['n0','n1','n2','n3','n4','n5','n6','n7','n8','n9','n10','n13','n14']: # 'n11','n12',\n",
    "        df['grade_to_mean_' + item] = df['grade'] / df.groupby([item])['grade'].transform('mean')\n",
    "        df['grade_to_std_' + item] = df['grade'] / df.groupby([item])['grade'].transform('std')"
   ]
  },
  {
   "cell_type": "code",
   "execution_count": null,
   "metadata": {
    "id": "pIPlnJOOcNzr"
   },
   "outputs": [],
   "source": [
    "data_train, data_test_a = combinationOfFeatures(\n",
    "    numerical_category_manyValues + ['earliesCreditLineYear', 'earliesCreditLineMonth', 'issueYear', 'issueMonth'], \n",
    "    object_serial + numerical_serial, # + [\"isDefault\"],\n",
    "    [\"median\"], \n",
    "    \"median\", \n",
    "    data_train, \n",
    "    data_test_a, \n",
    "    5\n",
    ")"
   ]
  },
  {
   "cell_type": "code",
   "execution_count": null,
   "metadata": {
    "colab": {
     "base_uri": "https://localhost:8080/"
    },
    "executionInfo": {
     "elapsed": 491,
     "status": "ok",
     "timestamp": 1606627355940,
     "user": {
      "displayName": "Minke Xiu",
      "photoUrl": "https://lh3.googleusercontent.com/a-/AOh14GiKrlSLM7H0tbRpIYdHPAKnVjaQdF6dZZWD9Jdd=s64",
      "userId": "01913327350585558279"
     },
     "user_tz": 300
    },
    "id": "ytGN4FthcNzr",
    "outputId": "51d945cb-666b-468a-b868-26d9233c5004"
   },
   "outputs": [
    {
     "data": {
      "text/plain": [
       "(800000, 97)"
      ]
     },
     "execution_count": 32,
     "metadata": {
      "tags": []
     },
     "output_type": "execute_result"
    }
   ],
   "source": [
    "data_train.shape"
   ]
  },
  {
   "cell_type": "markdown",
   "metadata": {
    "id": "3WGqcHRzjBT8"
   },
   "source": [
    "### Scheme F\n",
    "\n",
    "还没写完呢，别着急"
   ]
  },
  {
   "cell_type": "markdown",
   "metadata": {
    "id": "i-abrPVxzO_p"
   },
   "source": [
    "先来两波这个啥？我也说不上来。"
   ]
  },
  {
   "cell_type": "code",
   "execution_count": null,
   "metadata": {
    "id": "ddMyWHZFnaD8"
   },
   "outputs": [],
   "source": [
    "data_train, data_test_a = combinationOfFeatures_divide(\n",
    "    object_serial, #[\"grade\", \"subGrade\"], \n",
    "    ['n0','n1','n2','n3','n4','n5','n6','n7','n8','n9','n10',\"n11\", \"n12\", 'n13','n14'], \n",
    "    \"std\", \n",
    "    data_train,\n",
    "    data_test_a, \n",
    "    10,\n",
    ")"
   ]
  },
  {
   "cell_type": "code",
   "execution_count": null,
   "metadata": {
    "id": "nJ-OEkCbjA2s"
   },
   "outputs": [],
   "source": [
    "data_train, data_test_a = combinationOfFeatures_divide(\n",
    "    object_serial, #[\"grade\", \"subGrade\", \"\"], \n",
    "    ['n0','n1','n2','n3','n4','n5','n6','n7','n8','n9','n10',\"n11\", \"n12\", 'n13','n14'], \n",
    "    \"mean\", \n",
    "    data_train,\n",
    "    data_test_a, \n",
    "    10,\n",
    ")"
   ]
  },
  {
   "cell_type": "code",
   "execution_count": null,
   "metadata": {
    "colab": {
     "base_uri": "https://localhost:8080/"
    },
    "executionInfo": {
     "elapsed": 2749,
     "status": "ok",
     "timestamp": 1607268489491,
     "user": {
      "displayName": "Minke Xiu",
      "photoUrl": "https://lh3.googleusercontent.com/a-/AOh14GiKrlSLM7H0tbRpIYdHPAKnVjaQdF6dZZWD9Jdd=s64",
      "userId": "01913327350585558279"
     },
     "user_tz": 300
    },
    "id": "Cf768AgRyzSw",
    "outputId": "868c2e9c-4521-4475-9812-3f88a60873ef"
   },
   "outputs": [
    {
     "data": {
      "text/plain": [
       "(800000, 73)"
      ]
     },
     "execution_count": 37,
     "metadata": {
      "tags": []
     },
     "output_type": "execute_result"
    }
   ],
   "source": [
    "data_train.shape"
   ]
  },
  {
   "cell_type": "markdown",
   "metadata": {
    "id": "FO2hpctFzUqB"
   },
   "source": [
    "再来一大波这些东西，我更是说不上来了。"
   ]
  },
  {
   "cell_type": "code",
   "execution_count": null,
   "metadata": {
    "id": "E4cZaTCylAo5"
   },
   "outputs": [],
   "source": [
    "data_train, data_test_a = combinationOfFeatures(\n",
    "    numerical_category_fewValues + numerical_category_manyValues + ['earliesCreditLineYear', 'earliesCreditLineMonth', 'issueYear', 'issueMonth'], \n",
    "    object_serial + numerical_serial,# + [\"isDefault\"],\n",
    "    [\"median\"], \n",
    "    \"median\", \n",
    "    data_train, \n",
    "    data_test_a, \n",
    "    2\n",
    ")"
   ]
  },
  {
   "cell_type": "code",
   "execution_count": null,
   "metadata": {
    "id": "9ssrhPc1lAo5"
   },
   "outputs": [],
   "source": [
    "data_train, data_test_a = combinationOfFeatures(\n",
    "    numerical_category_fewValues + numerical_category_manyValues + ['earliesCreditLineYear', 'earliesCreditLineMonth', 'issueYear', 'issueMonth'], \n",
    "    object_serial + numerical_serial,# + [\"isDefault\"],\n",
    "    [\"mean\"], \n",
    "    \"mean\", \n",
    "    data_train, \n",
    "    data_test_a, \n",
    "    2\n",
    ")"
   ]
  },
  {
   "cell_type": "code",
   "execution_count": null,
   "metadata": {
    "id": "KWH4cyq2lAo5"
   },
   "outputs": [],
   "source": [
    "data_train, data_test_a = combinationOfFeatures(\n",
    "    numerical_category_fewValues + numerical_category_manyValues + ['earliesCreditLineYear', 'earliesCreditLineMonth', 'issueYear', 'issueMonth'], \n",
    "    object_serial + numerical_serial,# + [\"isDefault\"],\n",
    "    [\"max\"], \n",
    "    \"max\", \n",
    "    data_train, \n",
    "    data_test_a, \n",
    "    2\n",
    ")"
   ]
  },
  {
   "cell_type": "code",
   "execution_count": null,
   "metadata": {
    "id": "WiFCYXiqlAo5"
   },
   "outputs": [],
   "source": [
    "data_train, data_test_a = combinationOfFeatures(\n",
    "    numerical_category_fewValues + numerical_category_manyValues + ['earliesCreditLineYear', 'earliesCreditLineMonth', 'issueYear', 'issueMonth'], \n",
    "    object_serial + numerical_serial,# + [\"isDefault\"],\n",
    "    [\"min\"], \n",
    "    \"min\", \n",
    "    data_train, \n",
    "    data_test_a, \n",
    "    2\n",
    ")"
   ]
  },
  {
   "cell_type": "code",
   "execution_count": null,
   "metadata": {
    "id": "erLO24A1lAo5"
   },
   "outputs": [],
   "source": [
    "data_train, data_test_a = combinationOfFeatures(\n",
    "    numerical_category_fewValues + numerical_category_manyValues + ['earliesCreditLineYear', 'earliesCreditLineMonth', 'issueYear', 'issueMonth'], \n",
    "    object_serial + numerical_serial,# + [\"isDefault\"],\n",
    "    [\"std\"], \n",
    "    \"std\", \n",
    "    data_train, \n",
    "    data_test_a, \n",
    "    2\n",
    ")"
   ]
  },
  {
   "cell_type": "code",
   "execution_count": null,
   "metadata": {
    "id": "YjTYJkm5lAo5"
   },
   "outputs": [],
   "source": [
    "data_train, data_test_a = combinationOfFeatures(\n",
    "    numerical_category_fewValues + numerical_category_manyValues + ['earliesCreditLineYear', 'earliesCreditLineMonth', 'issueYear', 'issueMonth'], \n",
    "    object_serial + numerical_serial,# + [\"isDefault\"],\n",
    "    [\"var\"], \n",
    "    \"var\", \n",
    "    data_train, \n",
    "    data_test_a, \n",
    "    2\n",
    ")"
   ]
  },
  {
   "cell_type": "code",
   "execution_count": null,
   "metadata": {
    "id": "B5kyER2llAo6"
   },
   "outputs": [],
   "source": [
    "data_train, data_test_a = combinationOfFeatures(\n",
    "    numerical_category_fewValues + numerical_category_manyValues + ['earliesCreditLineYear', 'earliesCreditLineMonth', 'issueYear', 'issueMonth'], \n",
    "    object_serial + numerical_serial,# + [\"isDefault\"],\n",
    "    [\"count\"],\n",
    "    \"count\",  \n",
    "    data_train, \n",
    "    data_test_a, \n",
    "    2\n",
    ")"
   ]
  },
  {
   "cell_type": "code",
   "execution_count": null,
   "metadata": {
    "colab": {
     "base_uri": "https://localhost:8080/"
    },
    "executionInfo": {
     "elapsed": 504651,
     "status": "ok",
     "timestamp": 1607269000304,
     "user": {
      "displayName": "Minke Xiu",
      "photoUrl": "https://lh3.googleusercontent.com/a-/AOh14GiKrlSLM7H0tbRpIYdHPAKnVjaQdF6dZZWD9Jdd=s64",
      "userId": "01913327350585558279"
     },
     "user_tz": 300
    },
    "id": "FbYmlzXY1qZF",
    "outputId": "053b4620-6852-484c-a9ab-9ab9a2fe3f5f"
   },
   "outputs": [
    {
     "data": {
      "text/plain": [
       "(800000, 87)"
      ]
     },
     "execution_count": 45,
     "metadata": {
      "tags": []
     },
     "output_type": "execute_result"
    }
   ],
   "source": [
    "data_train.shape"
   ]
  },
  {
   "cell_type": "markdown",
   "metadata": {
    "id": "6X3ts1ZgrHQ4"
   },
   "source": [
    "### Scheme F1\n",
    "\n",
    "在F的基础上再做一点调整。"
   ]
  },
  {
   "cell_type": "markdown",
   "metadata": {
    "id": "5m_sboGWrHQ4"
   },
   "source": [
    "先来两波这个啥？我也说不上来。"
   ]
  },
  {
   "cell_type": "code",
   "execution_count": null,
   "metadata": {
    "id": "1-QR_YWGrHQ4"
   },
   "outputs": [],
   "source": [
    "data_train, data_test_a = combinationOfFeatures_divide(\n",
    "    object_serial, #[\"grade\", \"subGrade\"], \n",
    "    ['n0','n1','n2','n3','n4','n5','n6','n7','n8','n9','n10',\"n11\", \"n12\", 'n13','n14'], \n",
    "    \"std\", \n",
    "    data_train,\n",
    "    data_test_a, \n",
    "    10,\n",
    ")"
   ]
  },
  {
   "cell_type": "code",
   "execution_count": null,
   "metadata": {
    "id": "chZ5e8NkrHQ4"
   },
   "outputs": [],
   "source": [
    "data_train, data_test_a = combinationOfFeatures_divide(\n",
    "    object_serial, #[\"grade\", \"subGrade\", \"\"], \n",
    "    ['n0','n1','n2','n3','n4','n5','n6','n7','n8','n9','n10',\"n11\", \"n12\", 'n13','n14'], \n",
    "    \"mean\", \n",
    "    data_train,\n",
    "    data_test_a, \n",
    "    10,\n",
    ")"
   ]
  },
  {
   "cell_type": "code",
   "execution_count": null,
   "metadata": {
    "colab": {
     "base_uri": "https://localhost:8080/"
    },
    "executionInfo": {
     "elapsed": 775,
     "status": "ok",
     "timestamp": 1606698230252,
     "user": {
      "displayName": "Minke Xiu",
      "photoUrl": "https://lh3.googleusercontent.com/a-/AOh14GiKrlSLM7H0tbRpIYdHPAKnVjaQdF6dZZWD9Jdd=s64",
      "userId": "01913327350585558279"
     },
     "user_tz": 300
    },
    "id": "c8x--2q3rHQ4",
    "outputId": "08d79da7-1002-44f1-d890-79af27bb68a5"
   },
   "outputs": [
    {
     "data": {
      "text/plain": [
       "(800000, 73)"
      ]
     },
     "execution_count": 15,
     "metadata": {
      "tags": []
     },
     "output_type": "execute_result"
    }
   ],
   "source": [
    "data_train.shape"
   ]
  },
  {
   "cell_type": "markdown",
   "metadata": {
    "id": "9dIkwxvyrHQ5"
   },
   "source": [
    "再来一大波这些东西，我更是说不上来了。"
   ]
  },
  {
   "cell_type": "code",
   "execution_count": null,
   "metadata": {
    "id": "koP8pZElrHQ5"
   },
   "outputs": [],
   "source": [
    "data_train, data_test_a = combinationOfFeatures(\n",
    "    numerical_category_fewValues + numerical_category_manyValues + ['earliesCreditLineYear', 'earliesCreditLineMonth', 'issueYear', 'issueMonth'], \n",
    "    object_serial + numerical_serial,# + [\"isDefault\"],\n",
    "    [\"median\"], \n",
    "    \"median\", \n",
    "    data_train, \n",
    "    data_test_a, \n",
    "    5\n",
    ")\n",
    "data_train.shape"
   ]
  },
  {
   "cell_type": "code",
   "execution_count": null,
   "metadata": {
    "id": "_Ohcx0yvrHQ5"
   },
   "outputs": [],
   "source": [
    "data_train, data_test_a = combinationOfFeatures(\n",
    "    numerical_category_fewValues + numerical_category_manyValues + ['earliesCreditLineYear', 'earliesCreditLineMonth', 'issueYear', 'issueMonth'], \n",
    "    object_serial + numerical_serial,# + [\"isDefault\"],\n",
    "    [\"mean\"], \n",
    "    \"mean\", \n",
    "    data_train, \n",
    "    data_test_a, \n",
    "    5\n",
    ")\n",
    "data_train.shape"
   ]
  },
  {
   "cell_type": "code",
   "execution_count": null,
   "metadata": {
    "id": "3nxcZBdGrHQ5"
   },
   "outputs": [],
   "source": [
    "data_train, data_test_a = combinationOfFeatures(\n",
    "    numerical_category_fewValues + numerical_category_manyValues + ['earliesCreditLineYear', 'earliesCreditLineMonth', 'issueYear', 'issueMonth'], \n",
    "    object_serial + numerical_serial,# + [\"isDefault\"],\n",
    "    [\"max\"], \n",
    "    \"max\", \n",
    "    data_train, \n",
    "    data_test_a, \n",
    "    5\n",
    ")\n",
    "data_train.shape"
   ]
  },
  {
   "cell_type": "code",
   "execution_count": null,
   "metadata": {
    "id": "vjs9twrlrHQ5"
   },
   "outputs": [],
   "source": [
    "data_train, data_test_a = combinationOfFeatures(\n",
    "    numerical_category_fewValues + numerical_category_manyValues + ['earliesCreditLineYear', 'earliesCreditLineMonth', 'issueYear', 'issueMonth'], \n",
    "    object_serial + numerical_serial,# + [\"isDefault\"],\n",
    "    [\"min\"], \n",
    "    \"min\", \n",
    "    data_train, \n",
    "    data_test_a, \n",
    "    5\n",
    ")\n",
    "data_train.shape"
   ]
  },
  {
   "cell_type": "code",
   "execution_count": null,
   "metadata": {
    "id": "672Nud4PrHQ5"
   },
   "outputs": [],
   "source": [
    "data_train, data_test_a = combinationOfFeatures(\n",
    "    numerical_category_fewValues + numerical_category_manyValues + ['earliesCreditLineYear', 'earliesCreditLineMonth', 'issueYear', 'issueMonth'], \n",
    "    object_serial + numerical_serial,# + [\"isDefault\"],\n",
    "    [\"std\"], \n",
    "    \"std\", \n",
    "    data_train, \n",
    "    data_test_a, \n",
    "    5\n",
    ")\n",
    "data_train.shape"
   ]
  },
  {
   "cell_type": "code",
   "execution_count": null,
   "metadata": {
    "id": "86Ybg6nirHQ5"
   },
   "outputs": [],
   "source": [
    "data_train, data_test_a = combinationOfFeatures(\n",
    "    numerical_category_fewValues + numerical_category_manyValues + ['earliesCreditLineYear', 'earliesCreditLineMonth', 'issueYear', 'issueMonth'], \n",
    "    object_serial + numerical_serial,# + [\"isDefault\"],\n",
    "    [\"var\"], \n",
    "    \"var\", \n",
    "    data_train, \n",
    "    data_test_a, \n",
    "    5\n",
    ")\n",
    "data_train.shape"
   ]
  },
  {
   "cell_type": "code",
   "execution_count": null,
   "metadata": {
    "id": "PrrJwGI6rHQ5"
   },
   "outputs": [],
   "source": [
    "data_train, data_test_a = combinationOfFeatures(\n",
    "    numerical_category_fewValues + numerical_category_manyValues + ['earliesCreditLineYear', 'earliesCreditLineMonth', 'issueYear', 'issueMonth'], \n",
    "    object_serial + numerical_serial,# + [\"isDefault\"],\n",
    "    [\"count\"],\n",
    "    \"count\",  \n",
    "    data_train, \n",
    "    data_test_a, \n",
    "    5\n",
    ")\n",
    "data_train.shape"
   ]
  },
  {
   "cell_type": "code",
   "execution_count": null,
   "metadata": {
    "colab": {
     "base_uri": "https://localhost:8080/"
    },
    "executionInfo": {
     "elapsed": 784,
     "status": "ok",
     "timestamp": 1606698739800,
     "user": {
      "displayName": "Minke Xiu",
      "photoUrl": "https://lh3.googleusercontent.com/a-/AOh14GiKrlSLM7H0tbRpIYdHPAKnVjaQdF6dZZWD9Jdd=s64",
      "userId": "01913327350585558279"
     },
     "user_tz": 300
    },
    "id": "_Zf-f7bxrHQ5",
    "outputId": "b35de16e-708a-4435-e758-d2a115d4f884"
   },
   "outputs": [
    {
     "data": {
      "text/plain": [
       "(800000, 108)"
      ]
     },
     "execution_count": 24,
     "metadata": {
      "tags": []
     },
     "output_type": "execute_result"
    }
   ],
   "source": [
    "data_train.shape"
   ]
  },
  {
   "cell_type": "markdown",
   "metadata": {
    "id": "bFsbmxfKyJYE"
   },
   "source": [
    "### Scheme F2\n",
    "\n",
    "在F的基础上再做一点调整。"
   ]
  },
  {
   "cell_type": "markdown",
   "metadata": {
    "id": "S3BfAO6DyJYF"
   },
   "source": [
    "再来一大波这些东西，我更是说不上来了。"
   ]
  },
  {
   "cell_type": "code",
   "execution_count": null,
   "metadata": {
    "colab": {
     "base_uri": "https://localhost:8080/"
    },
    "executionInfo": {
     "elapsed": 79924,
     "status": "ok",
     "timestamp": 1606710488559,
     "user": {
      "displayName": "Minke Xiu",
      "photoUrl": "https://lh3.googleusercontent.com/a-/AOh14GiKrlSLM7H0tbRpIYdHPAKnVjaQdF6dZZWD9Jdd=s64",
      "userId": "01913327350585558279"
     },
     "user_tz": 300
    },
    "id": "X_kvzKBOyJYF",
    "outputId": "ab0a417c-87c2-4929-a17b-a88739c537f5"
   },
   "outputs": [
    {
     "data": {
      "text/plain": [
       "(800000, 58)"
      ]
     },
     "execution_count": 12,
     "metadata": {
      "tags": []
     },
     "output_type": "execute_result"
    }
   ],
   "source": [
    "data_train, data_test_a = combinationOfFeatures(\n",
    "    numerical_category_fewValues + numerical_category_manyValues + ['earliesCreditLineYear', 'earliesCreditLineMonth', 'issueYear', 'issueMonth'], \n",
    "    object_serial + numerical_serial,# + [\"isDefault\"],\n",
    "    [\"median\"], \n",
    "    \"median\", \n",
    "    data_train, \n",
    "    data_test_a, \n",
    "    10\n",
    ")\n",
    "data_train.shape"
   ]
  },
  {
   "cell_type": "code",
   "execution_count": null,
   "metadata": {
    "colab": {
     "base_uri": "https://localhost:8080/"
    },
    "executionInfo": {
     "elapsed": 65517,
     "status": "ok",
     "timestamp": 1606710583121,
     "user": {
      "displayName": "Minke Xiu",
      "photoUrl": "https://lh3.googleusercontent.com/a-/AOh14GiKrlSLM7H0tbRpIYdHPAKnVjaQdF6dZZWD9Jdd=s64",
      "userId": "01913327350585558279"
     },
     "user_tz": 300
    },
    "id": "S_7ZIyaGyJYF",
    "outputId": "1cf88f59-83be-4616-e3e6-8e2f2e14bc5d"
   },
   "outputs": [
    {
     "data": {
      "text/plain": [
       "(800000, 63)"
      ]
     },
     "execution_count": 13,
     "metadata": {
      "tags": []
     },
     "output_type": "execute_result"
    }
   ],
   "source": [
    "data_train, data_test_a = combinationOfFeatures(\n",
    "    numerical_category_fewValues + numerical_category_manyValues + ['earliesCreditLineYear', 'earliesCreditLineMonth', 'issueYear', 'issueMonth'], \n",
    "    object_serial + numerical_serial,# + [\"isDefault\"],\n",
    "    [\"mean\"], \n",
    "    \"mean\", \n",
    "    data_train, \n",
    "    data_test_a, \n",
    "    10\n",
    ")\n",
    "data_train.shape"
   ]
  },
  {
   "cell_type": "code",
   "execution_count": null,
   "metadata": {
    "colab": {
     "base_uri": "https://localhost:8080/"
    },
    "executionInfo": {
     "elapsed": 72479,
     "status": "ok",
     "timestamp": 1606710700896,
     "user": {
      "displayName": "Minke Xiu",
      "photoUrl": "https://lh3.googleusercontent.com/a-/AOh14GiKrlSLM7H0tbRpIYdHPAKnVjaQdF6dZZWD9Jdd=s64",
      "userId": "01913327350585558279"
     },
     "user_tz": 300
    },
    "id": "Cr4c6Zh1yJYF",
    "outputId": "b0cec6c6-5809-46c8-b781-d8264308bd05"
   },
   "outputs": [
    {
     "data": {
      "text/plain": [
       "(800000, 68)"
      ]
     },
     "execution_count": 14,
     "metadata": {
      "tags": []
     },
     "output_type": "execute_result"
    }
   ],
   "source": [
    "data_train, data_test_a = combinationOfFeatures(\n",
    "    numerical_category_fewValues + numerical_category_manyValues + ['earliesCreditLineYear', 'earliesCreditLineMonth', 'issueYear', 'issueMonth'], \n",
    "    object_serial + numerical_serial,# + [\"isDefault\"],\n",
    "    [\"max\"], \n",
    "    \"max\", \n",
    "    data_train, \n",
    "    data_test_a, \n",
    "    10\n",
    ")\n",
    "data_train.shape"
   ]
  },
  {
   "cell_type": "code",
   "execution_count": null,
   "metadata": {
    "colab": {
     "base_uri": "https://localhost:8080/"
    },
    "executionInfo": {
     "elapsed": 153883,
     "status": "ok",
     "timestamp": 1606710784236,
     "user": {
      "displayName": "Minke Xiu",
      "photoUrl": "https://lh3.googleusercontent.com/a-/AOh14GiKrlSLM7H0tbRpIYdHPAKnVjaQdF6dZZWD9Jdd=s64",
      "userId": "01913327350585558279"
     },
     "user_tz": 300
    },
    "id": "pjd1spLFyJYF",
    "outputId": "da1efc8b-cdd7-4cc0-a3dc-db9e8c53890e"
   },
   "outputs": [
    {
     "data": {
      "text/plain": [
       "(800000, 78)"
      ]
     },
     "execution_count": 15,
     "metadata": {
      "tags": []
     },
     "output_type": "execute_result"
    }
   ],
   "source": [
    "data_train, data_test_a = combinationOfFeatures(\n",
    "    numerical_category_fewValues + numerical_category_manyValues + ['earliesCreditLineYear', 'earliesCreditLineMonth', 'issueYear', 'issueMonth'], \n",
    "    object_serial + numerical_serial,# + [\"isDefault\"],\n",
    "    [\"min\"], \n",
    "    \"min\", \n",
    "    data_train, \n",
    "    data_test_a, \n",
    "    10\n",
    ")\n",
    "data_train.shape"
   ]
  },
  {
   "cell_type": "code",
   "execution_count": null,
   "metadata": {
    "colab": {
     "base_uri": "https://localhost:8080/"
    },
    "executionInfo": {
     "elapsed": 224327,
     "status": "ok",
     "timestamp": 1606710856948,
     "user": {
      "displayName": "Minke Xiu",
      "photoUrl": "https://lh3.googleusercontent.com/a-/AOh14GiKrlSLM7H0tbRpIYdHPAKnVjaQdF6dZZWD9Jdd=s64",
      "userId": "01913327350585558279"
     },
     "user_tz": 300
    },
    "id": "dypPUambyJYF",
    "outputId": "8160334a-fb9c-4933-910f-cc05601f0bff"
   },
   "outputs": [
    {
     "data": {
      "text/plain": [
       "(800000, 83)"
      ]
     },
     "execution_count": 16,
     "metadata": {
      "tags": []
     },
     "output_type": "execute_result"
    }
   ],
   "source": [
    "data_train, data_test_a = combinationOfFeatures(\n",
    "    numerical_category_fewValues + numerical_category_manyValues + ['earliesCreditLineYear', 'earliesCreditLineMonth', 'issueYear', 'issueMonth'], \n",
    "    object_serial + numerical_serial,# + [\"isDefault\"],\n",
    "    [\"std\"], \n",
    "    \"std\", \n",
    "    data_train, \n",
    "    data_test_a, \n",
    "    10\n",
    ")\n",
    "data_train.shape"
   ]
  },
  {
   "cell_type": "code",
   "execution_count": null,
   "metadata": {
    "colab": {
     "base_uri": "https://localhost:8080/"
    },
    "executionInfo": {
     "elapsed": 298863,
     "status": "ok",
     "timestamp": 1606710931965,
     "user": {
      "displayName": "Minke Xiu",
      "photoUrl": "https://lh3.googleusercontent.com/a-/AOh14GiKrlSLM7H0tbRpIYdHPAKnVjaQdF6dZZWD9Jdd=s64",
      "userId": "01913327350585558279"
     },
     "user_tz": 300
    },
    "id": "dRziWRHMyJYF",
    "outputId": "024c9f39-d867-4ee4-dad3-129569726223"
   },
   "outputs": [
    {
     "data": {
      "text/plain": [
       "(800000, 88)"
      ]
     },
     "execution_count": 17,
     "metadata": {
      "tags": []
     },
     "output_type": "execute_result"
    }
   ],
   "source": [
    "data_train, data_test_a = combinationOfFeatures(\n",
    "    numerical_category_fewValues + numerical_category_manyValues + ['earliesCreditLineYear', 'earliesCreditLineMonth', 'issueYear', 'issueMonth'], \n",
    "    object_serial + numerical_serial,# + [\"isDefault\"],\n",
    "    [\"var\"], \n",
    "    \"var\", \n",
    "    data_train, \n",
    "    data_test_a, \n",
    "    5\n",
    ")\n",
    "data_train.shape"
   ]
  },
  {
   "cell_type": "code",
   "execution_count": null,
   "metadata": {
    "colab": {
     "base_uri": "https://localhost:8080/"
    },
    "executionInfo": {
     "elapsed": 381547,
     "status": "ok",
     "timestamp": 1606711015226,
     "user": {
      "displayName": "Minke Xiu",
      "photoUrl": "https://lh3.googleusercontent.com/a-/AOh14GiKrlSLM7H0tbRpIYdHPAKnVjaQdF6dZZWD9Jdd=s64",
      "userId": "01913327350585558279"
     },
     "user_tz": 300
    },
    "id": "VmLB9wyDyJYF",
    "outputId": "5adbf2e7-9528-4f5f-fa03-2ffe6c387b00"
   },
   "outputs": [
    {
     "data": {
      "text/plain": [
       "(800000, 93)"
      ]
     },
     "execution_count": 18,
     "metadata": {
      "tags": []
     },
     "output_type": "execute_result"
    }
   ],
   "source": [
    "data_train, data_test_a = combinationOfFeatures(\n",
    "    numerical_category_fewValues + numerical_category_manyValues + ['earliesCreditLineYear', 'earliesCreditLineMonth', 'issueYear', 'issueMonth'], \n",
    "    object_serial + numerical_serial,# + [\"isDefault\"],\n",
    "    [\"count\"],\n",
    "    \"count\",  \n",
    "    data_train, \n",
    "    data_test_a, \n",
    "    10\n",
    ")\n",
    "data_train.shape"
   ]
  },
  {
   "cell_type": "code",
   "execution_count": null,
   "metadata": {
    "id": "WqfEhGqBcje_"
   },
   "outputs": [],
   "source": [
    "# data_train.to_csv(\"preprocessedData/data_train-1129-a_a_a_b_b_a_f1_x.csv\", index=False)\n",
    "# data_test_a.to_csv(\"preprocessedData/data_test_a-1129-a_a_a_b_b_a_f1_x.csv\", index=False)"
   ]
  },
  {
   "cell_type": "markdown",
   "metadata": {
    "id": "Yj_YHFfLnPTD"
   },
   "source": [
    "上面这一波操作，已经做过，可以参考下列的中间结果。"
   ]
  },
  {
   "cell_type": "code",
   "execution_count": null,
   "metadata": {
    "colab": {
     "base_uri": "https://localhost:8080/"
    },
    "executionInfo": {
     "elapsed": 9428,
     "status": "ok",
     "timestamp": 1606719574802,
     "user": {
      "displayName": "Minke Xiu",
      "photoUrl": "https://lh3.googleusercontent.com/a-/AOh14GiKrlSLM7H0tbRpIYdHPAKnVjaQdF6dZZWD9Jdd=s64",
      "userId": "01913327350585558279"
     },
     "user_tz": 300
    },
    "id": "qjHwFDm5nKUQ",
    "outputId": "5334e434-ca1e-46ab-e0a2-39a9a6983920"
   },
   "outputs": [
    {
     "data": {
      "text/plain": [
       "(800000, 93)"
      ]
     },
     "execution_count": 29,
     "metadata": {
      "tags": []
     },
     "output_type": "execute_result"
    }
   ],
   "source": [
    "# data_train = pd.read_csv(\"preprocessedData/data_train-1129-a_a_a_b_b_a_f1_x.csv\")\n",
    "# data_test_a = pd.read_csv(\"preprocessedData/data_test_a-1129-a_a_a_b_b_a_f1_x.csv\")\n",
    "# data_train.shape"
   ]
  },
  {
   "cell_type": "code",
   "execution_count": null,
   "metadata": {
    "id": "NM682LCo3Nwp"
   },
   "outputs": [],
   "source": [
    "# data_train, data_test_a = combinationOfFeatures_divide(\n",
    "#     object_serial, numerical_serial\n",
    "#     method, \n",
    "#     data_train,\n",
    "#     data_test_a, \n",
    "#     10,\n",
    "# )"
   ]
  },
  {
   "cell_type": "code",
   "execution_count": null,
   "metadata": {
    "colab": {
     "base_uri": "https://localhost:8080/"
    },
    "executionInfo": {
     "elapsed": 731,
     "status": "ok",
     "timestamp": 1606719831069,
     "user": {
      "displayName": "Minke Xiu",
      "photoUrl": "https://lh3.googleusercontent.com/a-/AOh14GiKrlSLM7H0tbRpIYdHPAKnVjaQdF6dZZWD9Jdd=s64",
      "userId": "01913327350585558279"
     },
     "user_tz": 300
    },
    "id": "HjwvseOU5AKq",
    "outputId": "ec1d0e20-8df2-4486-d828-475659e390a9"
   },
   "outputs": [
    {
     "data": {
      "text/plain": [
       "[['median', 'mean'],\n",
       " ['median', 'max'],\n",
       " ['median', 'min'],\n",
       " ['median', 'std'],\n",
       " ['median', 'var'],\n",
       " ['median', 'count'],\n",
       " ['mean', 'median'],\n",
       " ['mean', 'max'],\n",
       " ['mean', 'min'],\n",
       " ['mean', 'std'],\n",
       " ['mean', 'var'],\n",
       " ['mean', 'count'],\n",
       " ['max', 'median'],\n",
       " ['max', 'mean'],\n",
       " ['max', 'min'],\n",
       " ['max', 'std'],\n",
       " ['max', 'var'],\n",
       " ['max', 'count'],\n",
       " ['min', 'median'],\n",
       " ['min', 'mean'],\n",
       " ['min', 'max'],\n",
       " ['min', 'std'],\n",
       " ['min', 'var'],\n",
       " ['min', 'count'],\n",
       " ['std', 'median'],\n",
       " ['std', 'mean'],\n",
       " ['std', 'max'],\n",
       " ['std', 'min'],\n",
       " ['std', 'var'],\n",
       " ['std', 'count'],\n",
       " ['var', 'median'],\n",
       " ['var', 'mean'],\n",
       " ['var', 'max'],\n",
       " ['var', 'min'],\n",
       " ['var', 'std'],\n",
       " ['var', 'count'],\n",
       " ['count', 'median'],\n",
       " ['count', 'mean'],\n",
       " ['count', 'max'],\n",
       " ['count', 'min'],\n",
       " ['count', 'std'],\n",
       " ['count', 'var']]"
      ]
     },
     "execution_count": 34,
     "metadata": {
      "tags": []
     },
     "output_type": "execute_result"
    }
   ],
   "source": [
    "from itertools import combinations, permutations\n",
    "hhd = map(lambda x: list(x), list(\n",
    "    permutations(\n",
    "        [\"median\", \"mean\", \"max\", \"min\", \"std\", \"var\", \"count\"],\n",
    "        2\n",
    "    )\n",
    "))\n",
    "list(hhd)"
   ]
  },
  {
   "cell_type": "code",
   "execution_count": null,
   "metadata": {
    "id": "PAOxhErg3rDW"
   },
   "outputs": [],
   "source": [
    "def generateDivideFeatures_combination1(data_train, data_test_a, features1, features2): \n",
    "    ### 怎么计算最后新增的特征数量？\n",
    "    #### method的总数 * combinationOfFeatures_divide最后一个参数\n",
    "    # for fea in tqdm.tqdm_notebook(features1):\n",
    "    for method in tqdm.tqdm_notebook(['median', 'std'],): #\"median\", \"mean\", \"max\", \"min\", \"std\", \"var\", \"count\"\n",
    "        data_train, data_test_a = combinationOfFeatures_divide(\n",
    "            features1,\n",
    "            features2, \n",
    "            method, \n",
    "            data_train,\n",
    "            data_test_a, \n",
    "            15,\n",
    "        )\n",
    "    return data_train, data_test_a"
   ]
  },
  {
   "cell_type": "code",
   "execution_count": null,
   "metadata": {
    "colab": {
     "base_uri": "https://localhost:8080/",
     "height": 83,
     "referenced_widgets": [
      "5b065155514348e58974dbb072ee942f",
      "0aa0299f19594019af110947bfa99324",
      "04eb96c3074a406d9a1f903ca4732bfe",
      "77a7971e41a44d528e307f56fccc3a07",
      "f6277a8b2a9d471abdca3d6566073630",
      "10dcdfaa4a04444b8502fce8118ccd62",
      "8519e1978b674a8db82d610d6cec8af2",
      "222573456ecb430eb4a38b2f3279bbfe"
     ]
    },
    "executionInfo": {
     "elapsed": 25200,
     "status": "ok",
     "timestamp": 1606719600028,
     "user": {
      "displayName": "Minke Xiu",
      "photoUrl": "https://lh3.googleusercontent.com/a-/AOh14GiKrlSLM7H0tbRpIYdHPAKnVjaQdF6dZZWD9Jdd=s64",
      "userId": "01913327350585558279"
     },
     "user_tz": 300
    },
    "id": "fl_8dUtE3rDW",
    "outputId": "5f0706ee-ed1f-49de-9270-110773c0b9b9"
   },
   "outputs": [
    {
     "data": {
      "application/vnd.jupyter.widget-view+json": {
       "model_id": "5b065155514348e58974dbb072ee942f",
       "version_major": 2,
       "version_minor": 0
      },
      "text/plain": [
       "HBox(children=(FloatProgress(value=0.0, max=4.0), HTML(value='')))"
      ]
     },
     "metadata": {
      "tags": []
     },
     "output_type": "display_data"
    },
    {
     "name": "stdout",
     "output_type": "stream",
     "text": [
      "\n"
     ]
    },
    {
     "data": {
      "text/plain": [
       "(800000, 153)"
      ]
     },
     "execution_count": 31,
     "metadata": {
      "tags": []
     },
     "output_type": "execute_result"
    }
   ],
   "source": [
    "data_train, data_test_a = generateDivideFeatures_combination1(\n",
    "    data_train, data_test_a, \n",
    "    object_serial, numerical_serial\n",
    ")\n",
    "data_train.shape"
   ]
  },
  {
   "cell_type": "markdown",
   "metadata": {
    "id": "TG7hHkmC3MZB"
   },
   "source": [
    "-----------------------------"
   ]
  },
  {
   "cell_type": "markdown",
   "metadata": {
    "id": "tCXQXoYyyJYE"
   },
   "source": [
    "先来几波这个啥？我也说不上来。"
   ]
  },
  {
   "cell_type": "code",
   "execution_count": null,
   "metadata": {
    "id": "zUR7HrDoySt0"
   },
   "outputs": [],
   "source": [
    "# from itertools import combinations, permutations\n",
    "# hhd = map(lambda x: list(x), list(\n",
    "#     permutations(\n",
    "#         [\"median\", \"mean\", \"max\", \"min\", \"std\", \"var\", \"count\"],\n",
    "#         2\n",
    "#     )\n",
    "# ))\n",
    "# list(hhd)"
   ]
  },
  {
   "cell_type": "code",
   "execution_count": null,
   "metadata": {
    "id": "axMP5m1p9m3T"
   },
   "outputs": [],
   "source": [
    "# data_train = pd.read_csv(\"preprocessedData/data_train-1129-a_a_a_b_b_a_x_x.csv\")\n",
    "# data_test_a = pd.read_csv(\"preprocessedData/data_test_a-1129-a_a_a_b_b_a_x_x.csv\")\n",
    "# data_train.shape"
   ]
  },
  {
   "cell_type": "code",
   "execution_count": null,
   "metadata": {
    "id": "uLewJM4wzMgc"
   },
   "outputs": [],
   "source": [
    "def generateDivideFeatures_combination(data_train, data_test_a, features1, features2): \n",
    "    ### 怎么计算最后新增的特征数量？\n",
    "    #### len(feature1) * method的总数 * combinationOfFeatures_divide最后一个参数\n",
    "    for fea in tqdm.tqdm_notebook(features1):\n",
    "        for method in ['median', 'mean']: #\"median\", \"mean\", \"max\", \"min\", \"std\", \"var\", \"count\"\n",
    "            data_train, data_test_a = combinationOfFeatures_divide(\n",
    "                [fea], \n",
    "                features2, \n",
    "                method, \n",
    "                data_train,\n",
    "                data_test_a, \n",
    "                10,\n",
    "            )\n",
    "    return data_train, data_test_a"
   ]
  },
  {
   "cell_type": "code",
   "execution_count": null,
   "metadata": {
    "id": "4WJeQzQxoS3o"
   },
   "outputs": [],
   "source": [
    "# data_train, data_test_a = generateDivideFeatures_combination(\n",
    "#     data_train, data_test_a, \n",
    "#     object_serial, numerical_serial\n",
    "# )\n",
    "# data_train.shape"
   ]
  },
  {
   "cell_type": "markdown",
   "metadata": {
    "id": "SdcAw0VIbAnQ"
   },
   "source": [
    "------------------------------------"
   ]
  },
  {
   "cell_type": "code",
   "execution_count": null,
   "metadata": {
    "id": "wnRHB4Ax3tna"
   },
   "outputs": [],
   "source": [
    "# data_train, data_test_a = generateDivideFeatures_combination(\n",
    "#     data_train, data_test_a, \n",
    "#     numerical_category_fewValues, numerical_category_manyValues\n",
    "# )\n",
    "# data_train.shape"
   ]
  },
  {
   "cell_type": "code",
   "execution_count": null,
   "metadata": {
    "id": "YaQRIh3-4TVj"
   },
   "outputs": [],
   "source": [
    "# data_train, data_test_a = generateDivideFeatures_combination(\n",
    "#     data_train, data_test_a, \n",
    "#     [\"homeOwnership\", \"verificationStatus\", \"initialListStatus\", \"n12\"], \n",
    "#     [\n",
    "#         \"issueDateDT\", \"earliesCreditLineDT\", \"earliesCreditLineYear\", \"earliesCreditLineMonth\", \n",
    "#         \"issueYear\", \"issueMonth\"\n",
    "#     ]\n",
    "# )\n",
    "# data_train.shape"
   ]
  },
  {
   "cell_type": "code",
   "execution_count": null,
   "metadata": {
    "id": "ny8TeBJu5mR0"
   },
   "outputs": [],
   "source": [
    "# data_train, data_test_a = generateDivideFeatures_combination(\n",
    "#     data_train, data_test_a, \n",
    "#     numerical_category_fewValues, numerical_serial\n",
    "# )\n",
    "# data_train.shape"
   ]
  },
  {
   "cell_type": "code",
   "execution_count": null,
   "metadata": {
    "id": "jn_CUu0g5rfu"
   },
   "outputs": [],
   "source": [
    "## 失败。\n",
    "# data_train, data_test_a = generateDivideFeatures_combination(\n",
    "#     data_train, data_test_a, \n",
    "#     [ \"applicationType\", \"n11\", \"n12\"], # \"verificationStatus\",\"initialListStatus\",\n",
    "#     object_serial\n",
    "# )\n",
    "# data_train.shape"
   ]
  },
  {
   "cell_type": "markdown",
   "metadata": {
    "id": "0GCMehW_a-t-"
   },
   "source": [
    "-------------------------"
   ]
  },
  {
   "cell_type": "code",
   "execution_count": null,
   "metadata": {
    "id": "xjQfZQNX8Oxj"
   },
   "outputs": [],
   "source": [
    "# data_train, data_test_a = generateDivideFeatures_combination(\n",
    "#     data_train, data_test_a, \n",
    "#     numerical_category_manyValues, numerical_category_fewValues\n",
    "# )\n",
    "# data_train.shape"
   ]
  },
  {
   "cell_type": "code",
   "execution_count": null,
   "metadata": {
    "id": "SmsA5SeeLcTZ"
   },
   "outputs": [],
   "source": [
    "# data_train, data_test_a = generateDivideFeatures_combination(\n",
    "#     data_train, data_test_a, \n",
    "#     numerical_category_manyValues, [\n",
    "#         \"issueDateDT\", \"earliesCreditLineDT\", \"earliesCreditLineYear\", \"earliesCreditLineMonth\", \n",
    "#         \"issueYear\", \"issueMonth\"\n",
    "#     ]\n",
    "# )\n",
    "# data_train.shape"
   ]
  },
  {
   "cell_type": "code",
   "execution_count": null,
   "metadata": {
    "id": "8ZdAuBM2LzR0"
   },
   "outputs": [],
   "source": [
    "# data_train, data_test_a = generateDivideFeatures_combination(\n",
    "#     data_train, data_test_a, \n",
    "#     numerical_category_manyValues, numerical_serial\n",
    "# )\n",
    "# data_train.shape"
   ]
  },
  {
   "cell_type": "code",
   "execution_count": null,
   "metadata": {
    "id": "Gq0SnZmOL6dP"
   },
   "outputs": [],
   "source": [
    "## 有错，暂时不弄\n",
    "# data_train, data_test_a = generateDivideFeatures_combination(\n",
    "#     data_train, data_test_a, \n",
    "#     numerical_category_manyValues, object_serial\n",
    "# )\n",
    "# data_train.shape"
   ]
  },
  {
   "cell_type": "markdown",
   "metadata": {
    "id": "_R7HVFh4a5hA"
   },
   "source": [
    "---------------------------------"
   ]
  },
  {
   "cell_type": "code",
   "execution_count": null,
   "metadata": {
    "id": "MLFwSvvpMzeh"
   },
   "outputs": [],
   "source": [
    "# data_train, data_test_a = generateDivideFeatures_combination(\n",
    "#     data_train, data_test_a, \n",
    "#     [\n",
    "#         \"issueDateDT\", \"earliesCreditLineDT\", \"earliesCreditLineYear\", \"earliesCreditLineMonth\", \n",
    "#         \"issueYear\", \"issueMonth\"\n",
    "#     ], numerical_category_fewValues\n",
    "# )\n",
    "# data_train.shape"
   ]
  },
  {
   "cell_type": "code",
   "execution_count": null,
   "metadata": {
    "id": "wDGFy3kEM-R8"
   },
   "outputs": [],
   "source": [
    "# data_train, data_test_a = generateDivideFeatures_combination(\n",
    "#     data_train, data_test_a, \n",
    "#     [\n",
    "#         \"issueDateDT\", \"earliesCreditLineDT\", \"earliesCreditLineYear\", \"earliesCreditLineMonth\", \n",
    "#         \"issueYear\", \"issueMonth\"\n",
    "#     ], numerical_category_manyValues\n",
    "# )\n",
    "# data_train.shape"
   ]
  },
  {
   "cell_type": "code",
   "execution_count": null,
   "metadata": {
    "id": "0EOjJSG3M4ai"
   },
   "outputs": [],
   "source": [
    "# data_train, data_test_a = generateDivideFeatures_combination(\n",
    "#     data_train, data_test_a, \n",
    "#     [\n",
    "#         \"issueDateDT\", \"earliesCreditLineDT\", \"earliesCreditLineYear\", \"earliesCreditLineMonth\", \n",
    "#         \"issueYear\", \"issueMonth\"\n",
    "#     ], numerical_serial\n",
    "# )\n",
    "# data_train.shape"
   ]
  },
  {
   "cell_type": "code",
   "execution_count": null,
   "metadata": {
    "id": "iovJMRg1NHc6"
   },
   "outputs": [],
   "source": [
    "# data_train, data_test_a = generateDivideFeatures_combination(\n",
    "#     data_train, data_test_a, \n",
    "#     [\n",
    "#         \"issueDateDT\", \"earliesCreditLineDT\", \"earliesCreditLineYear\", \"earliesCreditLineMonth\", \n",
    "#         \"issueYear\", \"issueMonth\"\n",
    "#     ], object_serial\n",
    "# )\n",
    "# data_train.shape"
   ]
  },
  {
   "cell_type": "markdown",
   "metadata": {
    "id": "-RXT4aPYa1tC"
   },
   "source": [
    "---------------------------"
   ]
  },
  {
   "cell_type": "code",
   "execution_count": null,
   "metadata": {
    "id": "HNiae5piNW-G"
   },
   "outputs": [],
   "source": [
    "## 先不弄\n",
    "# data_train, data_test_a = generateDivideFeatures_combination(\n",
    "#     data_train, data_test_a, \n",
    "#     numerical_serial, numerical_category_fewValues\n",
    "# )\n",
    "# data_train.shape"
   ]
  },
  {
   "cell_type": "code",
   "execution_count": null,
   "metadata": {
    "id": "CW73k5KqNazQ"
   },
   "outputs": [],
   "source": [
    "## 先不弄\n",
    "# data_train, data_test_a = generateDivideFeatures_combination(\n",
    "#     data_train, data_test_a, \n",
    "#     numerical_serial, numerical_category_manyValues\n",
    "# )\n",
    "# data_train.shape"
   ]
  },
  {
   "cell_type": "code",
   "execution_count": null,
   "metadata": {
    "id": "sc6mSfk8Na_Q"
   },
   "outputs": [],
   "source": [
    "## 先不弄\n",
    "# data_train, data_test_a = generateDivideFeatures_combination(\n",
    "#     data_train, data_test_a, \n",
    "#     numerical_serial, [\n",
    "#         \"issueDateDT\", \"earliesCreditLineDT\", \"earliesCreditLineYear\", \"earliesCreditLineMonth\", \n",
    "#         \"issueYear\", \"issueMonth\"\n",
    "#     ]\n",
    "# )\n",
    "# data_train.shape"
   ]
  },
  {
   "cell_type": "code",
   "execution_count": null,
   "metadata": {
    "id": "eM2xh-OpNbI2"
   },
   "outputs": [],
   "source": [
    "## 先不弄\n",
    "# data_train, data_test_a = generateDivideFeatures_combination(\n",
    "#     data_train, data_test_a, \n",
    "#     numerical_serial, object_serial\n",
    "# )\n",
    "# data_train.shape"
   ]
  },
  {
   "cell_type": "markdown",
   "metadata": {
    "id": "GJnOZ8buazhc"
   },
   "source": [
    "------------------------"
   ]
  },
  {
   "cell_type": "code",
   "execution_count": null,
   "metadata": {
    "id": "LpNsGDESNkI_"
   },
   "outputs": [],
   "source": [
    "# data_train, data_test_a = generateDivideFeatures_combination(\n",
    "#     data_train, data_test_a, \n",
    "#     object_serial, numerical_category_fewValues\n",
    "# )\n",
    "# data_train.shape"
   ]
  },
  {
   "cell_type": "code",
   "execution_count": null,
   "metadata": {
    "id": "d9bQq7OANkrj"
   },
   "outputs": [],
   "source": [
    "# data_train, data_test_a = generateDivideFeatures_combination(\n",
    "#     data_train, data_test_a, \n",
    "#     object_serial, numerical_category_manyValues\n",
    "# )\n",
    "# data_train.shape"
   ]
  },
  {
   "cell_type": "code",
   "execution_count": null,
   "metadata": {
    "id": "GFAP8Q3MNhFj"
   },
   "outputs": [],
   "source": [
    "# data_train, data_test_a = generateDivideFeatures_combination(\n",
    "#     data_train, data_test_a, \n",
    "#     object_serial, [\n",
    "#         \"issueDateDT\", \"earliesCreditLineDT\", \"earliesCreditLineYear\", \"earliesCreditLineMonth\", \n",
    "#         \"issueYear\", \"issueMonth\"\n",
    "#     ]\n",
    "# )\n",
    "# data_train.shape"
   ]
  },
  {
   "cell_type": "code",
   "execution_count": null,
   "metadata": {
    "id": "xzd1gpyQNk1L"
   },
   "outputs": [],
   "source": [
    "# data_train, data_test_a = generateDivideFeatures_combination(\n",
    "#     data_train, data_test_a, \n",
    "#     object_serial, numerical_serial\n",
    "# )\n",
    "# data_train.shape"
   ]
  },
  {
   "cell_type": "markdown",
   "metadata": {
    "id": "mf_z_YjnzVRJ"
   },
   "source": [
    "--------------"
   ]
  },
  {
   "cell_type": "code",
   "execution_count": null,
   "metadata": {
    "id": "REdKXP7jyJYE"
   },
   "outputs": [],
   "source": [
    "## 先不弄\n",
    "# data_train, data_test_a = combinationOfFeatures_divide(\n",
    "#     object_serial, #[\"grade\", \"subGrade\"], \n",
    "#     ['n0','n1','n2','n3','n4','n5','n6','n7','n8','n9','n10',\"n11\", \"n12\", 'n13','n14'], \n",
    "#     \"std\", \n",
    "#     data_train,\n",
    "#     data_test_a, \n",
    "#     10,\n",
    "# )"
   ]
  },
  {
   "cell_type": "code",
   "execution_count": null,
   "metadata": {
    "id": "ExVuVmn0yJYE"
   },
   "outputs": [],
   "source": [
    "## 先不弄\n",
    "# data_train, data_test_a = combinationOfFeatures_divide(\n",
    "#     object_serial, #[\"grade\", \"subGrade\", \"\"], \n",
    "#     ['n0','n1','n2','n3','n4','n5','n6','n7','n8','n9','n10',\"n11\", \"n12\", 'n13','n14'], \n",
    "#     \"mean\", \n",
    "#     data_train,\n",
    "#     data_test_a, \n",
    "#     10,\n",
    "# )"
   ]
  },
  {
   "cell_type": "code",
   "execution_count": null,
   "metadata": {
    "colab": {
     "base_uri": "https://localhost:8080/"
    },
    "executionInfo": {
     "elapsed": 775,
     "status": "ok",
     "timestamp": 1606698230252,
     "user": {
      "displayName": "Minke Xiu",
      "photoUrl": "https://lh3.googleusercontent.com/a-/AOh14GiKrlSLM7H0tbRpIYdHPAKnVjaQdF6dZZWD9Jdd=s64",
      "userId": "01913327350585558279"
     },
     "user_tz": 300
    },
    "id": "VGhG2Vi0yJYE",
    "outputId": "08d79da7-1002-44f1-d890-79af27bb68a5"
   },
   "outputs": [
    {
     "data": {
      "text/plain": [
       "(800000, 73)"
      ]
     },
     "execution_count": 15,
     "metadata": {
      "tags": []
     },
     "output_type": "execute_result"
    }
   ],
   "source": [
    "# data_train.shape"
   ]
  },
  {
   "cell_type": "markdown",
   "metadata": {
    "id": "jbNJUSRy7AJ2"
   },
   "source": [
    "## Delete the features that will not be used to fit the model\n",
    "\n",
    "No `xx_outliers` features, no labels, no original dates. "
   ]
  },
  {
   "cell_type": "markdown",
   "metadata": {
    "id": "LHCBYBI27Eet"
   },
   "source": [
    "### Scheme A\n",
    "\n",
    "以后的scheme，可以考虑删掉一些被编码过的特征。但是这次，我们没删。"
   ]
  },
  {
   "cell_type": "code",
   "execution_count": null,
   "metadata": {
    "id": "aR5lqfWB7AJ2"
   },
   "outputs": [],
   "source": [
    "features = [f for f in data_train.columns if f not in ['id', 'isDefault', \"policyCode\", \"issueDate\", \"earliesCreditLine\"] and '_outliers' not in f]\n",
    "features.remove(\"n11_4.0\")\n",
    "features.remove(\"n12_4.0\")\n",
    "# data_train = data_train[(data_train[\"n11_4\"] != 1) & (data_train[\"n12_4\"] != 1)]\n",
    "y_train = data_train['isDefault']\n",
    "x_train = data_train[features]\n",
    "x_test = data_test_a[features]"
   ]
  },
  {
   "cell_type": "markdown",
   "metadata": {
    "id": "L1Fey4xeFqpM"
   },
   "source": [
    "### Scheme B"
   ]
  },
  {
   "cell_type": "code",
   "execution_count": null,
   "metadata": {
    "id": "ofVFgUvzFqpM"
   },
   "outputs": [],
   "source": [
    "features = [f for f in data_train.columns if f not in ['id', 'isDefault', \"policyCode\", \"issueDate\", \"earliesCreditLine\"] and '_outliers' not in f]\n",
    "y_train = data_train['isDefault']\n",
    "x_train = data_train[features]\n",
    "x_test = data_test_a[features]"
   ]
  },
  {
   "cell_type": "markdown",
   "metadata": {
    "id": "wdJf-IVJ75y8"
   },
   "source": [
    "# Save preprocessed data if necessary"
   ]
  },
  {
   "cell_type": "code",
   "execution_count": null,
   "metadata": {
    "id": "Bvn4nd9a0AtJ"
   },
   "outputs": [],
   "source": [
    "x_train.to_csv(\"preprocessedData/x_train-1222-.csv\", index=False)\n",
    "x_test.to_csv(\"preprocessedData/x_test-1222-.csv\", index=False)\n",
    "y_train.to_csv(\"preprocessedData/y_train-1222-.csv\", index=False)"
   ]
  },
  {
   "cell_type": "markdown",
   "metadata": {
    "id": "MUvmaksc2jSs"
   },
   "source": [
    "# Load preprocessed data if applicable"
   ]
  },
  {
   "cell_type": "code",
   "execution_count": 12,
   "metadata": {
    "executionInfo": {
     "elapsed": 15515,
     "status": "ok",
     "timestamp": 1608676430460,
     "user": {
      "displayName": "Minke Xiu",
      "photoUrl": "https://lh3.googleusercontent.com/a-/AOh14GiKrlSLM7H0tbRpIYdHPAKnVjaQdF6dZZWD9Jdd=s64",
      "userId": "01913327350585558279"
     },
     "user_tz": 300
    },
    "id": "cyz1hnkb2gxo"
   },
   "outputs": [],
   "source": [
    "x_train = pd.read_csv(\"preprocessedData/x_train-1222-.csv\")\n",
    "x_test = pd.read_csv(\"preprocessedData/x_test-1222-.csv\")\n",
    "y_train = pd.read_csv(\"preprocessedData/y_train-1222-.csv\")"
   ]
  },
  {
   "cell_type": "markdown",
   "metadata": {
    "id": "f6Y9U8uA1zED"
   },
   "source": []
  },
  {
   "cell_type": "markdown",
   "metadata": {
    "id": "4WQ9gcu09pNN"
   },
   "source": [
    "# Some hands on model training"
   ]
  },
  {
   "cell_type": "markdown",
   "metadata": {
    "id": "-IYkxir4FO9I"
   },
   "source": [
    "### Scheme A\n",
    "\n",
    "普通方案. 单个模型. "
   ]
  },
  {
   "cell_type": "code",
   "execution_count": null,
   "metadata": {
    "id": "7Li6WmM50xpA"
   },
   "outputs": [],
   "source": [
    "# cat_feas = numerical_category_fewValues + numerical_category_manyValues + object_serial"
   ]
  },
  {
   "cell_type": "code",
   "execution_count": 19,
   "metadata": {
    "executionInfo": {
     "elapsed": 742,
     "status": "ok",
     "timestamp": 1608676558827,
     "user": {
      "displayName": "Minke Xiu",
      "photoUrl": "https://lh3.googleusercontent.com/a-/AOh14GiKrlSLM7H0tbRpIYdHPAKnVjaQdF6dZZWD9Jdd=s64",
      "userId": "01913327350585558279"
     },
     "user_tz": 300
    },
    "id": "CaMC9rUk041z"
   },
   "outputs": [],
   "source": [
    "x_train_dummied = x_train.copy()\n",
    "x_test_dummied = x_test.copy()"
   ]
  },
  {
   "cell_type": "code",
   "execution_count": 20,
   "metadata": {
    "colab": {
     "base_uri": "https://localhost:8080/"
    },
    "executionInfo": {
     "elapsed": 892,
     "status": "ok",
     "timestamp": 1608676559304,
     "user": {
      "displayName": "Minke Xiu",
      "photoUrl": "https://lh3.googleusercontent.com/a-/AOh14GiKrlSLM7H0tbRpIYdHPAKnVjaQdF6dZZWD9Jdd=s64",
      "userId": "01913327350585558279"
     },
     "user_tz": 300
    },
    "id": "56lPf-536I1-",
    "outputId": "b74a4123-6f39-4aa4-fb95-fcd3963790b2"
   },
   "outputs": [
    {
     "data": {
      "text/plain": [
       "(1000000, 95)"
      ]
     },
     "execution_count": 20,
     "metadata": {
      "tags": []
     },
     "output_type": "execute_result"
    }
   ],
   "source": [
    "x_combination = pd.concat([x_train_dummied, x_test_dummied])\n",
    "x_combination.shape"
   ]
  },
  {
   "cell_type": "code",
   "execution_count": 21,
   "metadata": {
    "executionInfo": {
     "elapsed": 1891,
     "status": "ok",
     "timestamp": 1608676560669,
     "user": {
      "displayName": "Minke Xiu",
      "photoUrl": "https://lh3.googleusercontent.com/a-/AOh14GiKrlSLM7H0tbRpIYdHPAKnVjaQdF6dZZWD9Jdd=s64",
      "userId": "01913327350585558279"
     },
     "user_tz": 300
    },
    "id": "AUwtjXjC6QZ2"
   },
   "outputs": [],
   "source": [
    "x_combination = pd.get_dummies(x_combination, columns=numerical_category_fewValues + object_serial, drop_first=True)"
   ]
  },
  {
   "cell_type": "code",
   "execution_count": 22,
   "metadata": {
    "colab": {
     "base_uri": "https://localhost:8080/"
    },
    "executionInfo": {
     "elapsed": 439,
     "status": "ok",
     "timestamp": 1608676562437,
     "user": {
      "displayName": "Minke Xiu",
      "photoUrl": "https://lh3.googleusercontent.com/a-/AOh14GiKrlSLM7H0tbRpIYdHPAKnVjaQdF6dZZWD9Jdd=s64",
      "userId": "01913327350585558279"
     },
     "user_tz": 300
    },
    "id": "7XkyrlAr6eQC",
    "outputId": "b5e89b98-0c86-4977-836e-ad0352195529"
   },
   "outputs": [
    {
     "data": {
      "text/plain": [
       "(200000, 153)"
      ]
     },
     "execution_count": 22,
     "metadata": {
      "tags": []
     },
     "output_type": "execute_result"
    }
   ],
   "source": [
    "x_train_dummied = x_combination.iloc[0:len(x_train)]\n",
    "x_test_dummied = x_combination.iloc[len(x_train):]\n",
    "x_test_dummied.shape"
   ]
  },
  {
   "cell_type": "code",
   "execution_count": 23,
   "metadata": {
    "executionInfo": {
     "elapsed": 518,
     "status": "ok",
     "timestamp": 1608676585823,
     "user": {
      "displayName": "Minke Xiu",
      "photoUrl": "https://lh3.googleusercontent.com/a-/AOh14GiKrlSLM7H0tbRpIYdHPAKnVjaQdF6dZZWD9Jdd=s64",
      "userId": "01913327350585558279"
     },
     "user_tz": 300
    },
    "id": "AOEDXFrx9pNO"
   },
   "outputs": [],
   "source": [
    "scale_pos_weight = len(y_train[y_train[\"isDefault\"] == 0]) / len(y_train[y_train[\"isDefault\"] == 1])\n",
    "\n",
    "categorical_fea_index = []\n",
    "for i, col in enumerate(x_train.columns):\n",
    "    if col in numerical_category_fewValues + numerical_category_manyValues + object_serial:\n",
    "        categorical_fea_index.append(i)\n",
    "categorical_fea_index\n",
    "\n",
    "def cv_model(clf, train_x, train_y, test_x, clf_name, folds = 5):\n",
    "    # folds = 5\n",
    "    seed = 2020\n",
    "    kf = KFold(n_splits=folds, shuffle=True, random_state=seed)\n",
    "\n",
    "    train = np.zeros(train_x.shape[0])\n",
    "    test = np.zeros(test_x.shape[0])\n",
    "\n",
    "    cv_scores = []\n",
    "\n",
    "    for i, (train_index, valid_index) in enumerate(kf.split(train_x, train_y)):\n",
    "        print('************************************ {} ************************************'.format(str(i+1)))\n",
    "        trn_x, trn_y, val_x, val_y = train_x.iloc[train_index], train_y.iloc[train_index], train_x.iloc[valid_index], train_y.iloc[valid_index]\n",
    "\n",
    "        if clf_name == \"lgb\":\n",
    "            train_matrix = clf.Dataset(trn_x, label=trn_y)\n",
    "            valid_matrix = clf.Dataset(val_x, label=val_y)\n",
    "\n",
    "            params = {\n",
    "                'boosting_type': 'gbdt',\n",
    "                'objective': 'binary',\n",
    "                'metric': 'auc',\n",
    "                'min_child_weight': 5,\n",
    "                'num_leaves': 2 ** 5,\n",
    "                'lambda_l2': 10,\n",
    "                'feature_fraction': 0.8,\n",
    "                'bagging_fraction': 0.8,\n",
    "                'bagging_freq': 4,\n",
    "                'learning_rate': 0.1,\n",
    "                'seed': 2020,\n",
    "                'nthread': 28,\n",
    "                'n_jobs':24,\n",
    "                'silent': True,\n",
    "                'verbose': -1,    \n",
    "                # 'device_type': 'gpu',\n",
    "                'max_bin': 63,\n",
    "\n",
    "                \"categorical_feature\": categorical_fea_index\n",
    "            }\n",
    "\n",
    "            model = clf.train(params, train_matrix, 50000, valid_sets=[train_matrix, valid_matrix], verbose_eval=200,early_stopping_rounds=200)\n",
    "            val_pred = model.predict(val_x, num_iteration=model.best_iteration)\n",
    "            test_pred = model.predict(test_x, num_iteration=model.best_iteration)\n",
    "            \n",
    "            # print(list(sorted(zip(features, model.feature_importance(\"gain\")), key=lambda x: x[1], reverse=True))[:20])\n",
    "                \n",
    "        if clf_name == \"xgb\":\n",
    "            train_matrix = clf.DMatrix(trn_x , label=trn_y)\n",
    "            valid_matrix = clf.DMatrix(val_x , label=val_y)\n",
    "            \n",
    "            params = {'booster': 'gbtree',\n",
    "                      'objective': 'binary:logistic',\n",
    "                      'eval_metric': 'auc',\n",
    "                      'gamma': 1,\n",
    "                      'min_child_weight': 1.5,\n",
    "                      'max_depth': 5,\n",
    "                      'lambda': 10,\n",
    "                      'subsample': 0.7,\n",
    "                      'colsample_bytree': 0.7,\n",
    "                      'colsample_bylevel': 0.7,\n",
    "                      'eta': 0.04,\n",
    "                      'tree_method': \"gpu_hist\", #'exact',\n",
    "                      'seed': 2020,\n",
    "                      'nthread': 36,\n",
    "                      \"silent\": True,\n",
    "                      # \"scale_pos_weight\": scale_pos_weight, 设置了更拉垮。\n",
    "                      }\n",
    "            \n",
    "            watchlist = [(train_matrix, 'train'),(valid_matrix, 'eval')]\n",
    "            \n",
    "            model = clf.train(params, train_matrix, num_boost_round=50000, evals=watchlist, verbose_eval=200, early_stopping_rounds=200)\n",
    "            # https://stackoverflow.com/questions/55579610/xgboost-attributeerror-dataframe-object-has-no-attribute-feature-names\n",
    "            val_pred  = model.predict(valid_matrix, ntree_limit=model.best_ntree_limit)\n",
    "            test_pred = model.predict(xgb.DMatrix(test_x) , ntree_limit=model.best_ntree_limit)\n",
    "         \n",
    "        if clf_name == \"cat\":\n",
    "            # params = {'learning_rate': 0.05, 'depth': 5, 'l2_leaf_reg': 10, 'bootstrap_type': 'Bernoulli',\n",
    "            #           'od_type': 'Iter', 'od_wait': 50, 'random_seed': 11, 'allow_writing_files': False, \"task_type\": \"GPU\"}\n",
    "            params = {'learning_rate': 0.1, # 0.1, \n",
    "                      'depth': 7, # 7, # 10, \n",
    "                      'l2_leaf_reg': 100, #10, #50, \n",
    "                      'bootstrap_type': 'Bernoulli', \n",
    "                      'od_type': 'Iter', \n",
    "                      'od_wait': 300, #50, #300, \n",
    "                      ### \n",
    "                      'random_seed': 11, \n",
    "                      'allow_writing_files': False, \n",
    "                      \"task_type\": \"GPU\", \n",
    "                      \"eval_metric\": \"AUC\",\n",
    "                      # ### \n",
    "                      # \"subsample\": 0.7, \"grow_policy\": \"Depthwise\", \n",
    "                      \"min_data_in_leaf\": 50, \n",
    "                      # \"one_hot_max_size\": 255, \n",
    "                      # \"auto_class_weights\": \"SqrtBalanced\", \n",
    "                      # \"feature_border_type\": \"MinEntropy\", \n",
    "\n",
    "                      # \"fold_permutation_block\": 2, \n",
    "                      # \"allow_const_label\": True, \n",
    "                      }\n",
    "\n",
    "            model = clf(iterations=20000, **params)\n",
    "            model.fit(\n",
    "                trn_x, trn_y, \n",
    "                eval_set=(val_x, val_y),\n",
    "                cat_features = [], #categorical_fea_index, # numerical_category_fewValues + numerical_category_manyValues + object_serial, \n",
    "                use_best_model=True, \n",
    "                verbose=500\n",
    "            )\n",
    "            \n",
    "            val_pred  = model.predict(val_x)\n",
    "            test_pred = model.predict(test_x)\n",
    "        \n",
    "        # if clf_name == \"cat_clf\":\n",
    "        #     # params = {'learning_rate': 0.05, 'depth': 5, 'l2_leaf_reg': 10, 'bootstrap_type': 'Bernoulli',\n",
    "        #     #           'od_type': 'Iter', 'od_wait': 50, 'random_seed': 11, 'allow_writing_files': False, \"task_type\": \"GPU\"}\n",
    "        #     params = {'learning_rate': 0.1, # 0.1, \n",
    "        #               'depth': 7, # 7, # 10, \n",
    "        #               'l2_leaf_reg': 100, #10, #50, \n",
    "        #               'bootstrap_type': 'Bernoulli', \n",
    "        #               'od_type': 'Iter', \n",
    "        #               'od_wait': 300, #50, #300, \n",
    "        #               ### \n",
    "        #               'random_seed': 11, \n",
    "        #               'allow_writing_files': False, \n",
    "        #               \"task_type\": \"GPU\", \n",
    "        #               \"eval_metric\": \"AUC\",\n",
    "        #               # ### \n",
    "        #               # \"subsample\": 0.7, \"grow_policy\": \"Depthwise\", \n",
    "        #               \"min_data_in_leaf\": 20, \n",
    "        #               # \"one_hot_max_size\": 255, \n",
    "        #               \"auto_class_weights\": \"SqrtBalanced\", \n",
    "        #               # \"feature_border_type\": \"MinEntropy\", \n",
    "\n",
    "        #               # \"fold_permutation_block\": 2, \n",
    "        #               # \"allow_const_label\": True, \n",
    "        #               }\n",
    "\n",
    "        #     model = clf(iterations=20000, **params)\n",
    "        #     model.fit(trn_x, trn_y, eval_set=(val_x, val_y),\n",
    "        #               cat_features=[], use_best_model=True, verbose=500)\n",
    "            \n",
    "        #     val_pred  = model.predict(val_x)\n",
    "        #     test_pred = model.predict(test_x)\n",
    "            \n",
    "        ## 下面这个test，可以考虑像如下这样进行，或者是求平均亦可。\n",
    "        # test += test_pred / kf.n_splits ## Minke's invention, no basis or reference.\n",
    "        test += test_pred\n",
    "        ##\n",
    "        train[valid_index] = val_pred\n",
    "        cv_scores.append(roc_auc_score(val_y, val_pred))\n",
    "        \n",
    "        print(sum(cv_scores)/len(cv_scores), cv_scores)\n",
    "        \n",
    "    print(\"%s_scotrainre_list:\" % clf_name, cv_scores)\n",
    "    print(\"%s_score_mean:\" % clf_name, np.mean(cv_scores))\n",
    "    print(\"%s_score_std:\" % clf_name, np.std(cv_scores))\n",
    "    print(\"what is kf.n_splits?\", kf.n_splits)\n",
    "    return train, test / kf.n_splits"
   ]
  },
  {
   "cell_type": "code",
   "execution_count": 24,
   "metadata": {
    "executionInfo": {
     "elapsed": 928,
     "status": "ok",
     "timestamp": 1608676588021,
     "user": {
      "displayName": "Minke Xiu",
      "photoUrl": "https://lh3.googleusercontent.com/a-/AOh14GiKrlSLM7H0tbRpIYdHPAKnVjaQdF6dZZWD9Jdd=s64",
      "userId": "01913327350585558279"
     },
     "user_tz": 300
    },
    "id": "ON43ckVt9pNO"
   },
   "outputs": [],
   "source": [
    "def lgb_model(x_train, y_train, x_test):\n",
    "    lgb_train, lgb_test = cv_model(lgb, x_train, y_train, x_test, \"lgb\")\n",
    "    return lgb_train, lgb_test\n",
    "\n",
    "def xgb_model(x_train, y_train, x_test):\n",
    "    xgb_train, xgb_test = cv_model(xgb, x_train, y_train, x_test, \"xgb\")\n",
    "    return xgb_train, xgb_test\n",
    "\n",
    "def cat_model(x_train, y_train, x_test):\n",
    "    cat_train, cat_test = cv_model(CatBoostRegressor, x_train, y_train, x_test, \"cat\")\n",
    "    return cat_train, cat_test\n",
    "\n",
    "def cat_model_clf(x_train, y_train, x_test):\n",
    "    cat_train, cat_test = cv_model(CatBoostClassifier, x_train, y_train, x_test, \"cat_clf\")\n",
    "    return cat_train, cat_test"
   ]
  },
  {
   "cell_type": "code",
   "execution_count": null,
   "metadata": {
    "id": "bDy3ssLVqIbF"
   },
   "outputs": [],
   "source": [
    "## 这个方法很快，可以用这个方法粗略看一下效果\n",
    "cat_train, cat_test = cat_model(x_train_dummied, y_train, x_test_dummied)"
   ]
  },
  {
   "cell_type": "code",
   "execution_count": 25,
   "metadata": {
    "colab": {
     "base_uri": "https://localhost:8080/"
    },
    "executionInfo": {
     "elapsed": 998126,
     "status": "ok",
     "timestamp": 1608677588428,
     "user": {
      "displayName": "Minke Xiu",
      "photoUrl": "https://lh3.googleusercontent.com/a-/AOh14GiKrlSLM7H0tbRpIYdHPAKnVjaQdF6dZZWD9Jdd=s64",
      "userId": "01913327350585558279"
     },
     "user_tz": 300
    },
    "id": "--f-4Qnq9pNO",
    "outputId": "a4410b5d-df5f-47fe-818c-f8e33374dcb9"
   },
   "outputs": [
    {
     "name": "stdout",
     "output_type": "stream",
     "text": [
      "************************************ 1 ************************************\n",
      "[0]\ttrain-auc:0.700228\teval-auc:0.701522\n",
      "Multiple eval metrics have been passed: 'eval-auc' will be used for early stopping.\n",
      "\n",
      "Will train until eval-auc hasn't improved in 200 rounds.\n",
      "[200]\ttrain-auc:0.734023\teval-auc:0.730568\n",
      "[400]\ttrain-auc:0.742624\teval-auc:0.734738\n",
      "[600]\ttrain-auc:0.748429\teval-auc:0.736315\n",
      "[800]\ttrain-auc:0.753089\teval-auc:0.737159\n",
      "[1000]\ttrain-auc:0.757348\teval-auc:0.737736\n",
      "[1200]\ttrain-auc:0.761205\teval-auc:0.738059\n",
      "[1400]\ttrain-auc:0.764979\teval-auc:0.738204\n",
      "[1600]\ttrain-auc:0.768549\teval-auc:0.738392\n",
      "[1800]\ttrain-auc:0.772083\teval-auc:0.738506\n",
      "[2000]\ttrain-auc:0.775457\teval-auc:0.738459\n",
      "Stopping. Best iteration:\n",
      "[1900]\ttrain-auc:0.773769\teval-auc:0.73852\n",
      "\n",
      "0.7385198085383855 [0.7385198085383855]\n",
      "************************************ 2 ************************************\n",
      "[0]\ttrain-auc:0.701317\teval-auc:0.697211\n",
      "Multiple eval metrics have been passed: 'eval-auc' will be used for early stopping.\n",
      "\n",
      "Will train until eval-auc hasn't improved in 200 rounds.\n",
      "[200]\ttrain-auc:0.734829\teval-auc:0.726935\n",
      "[400]\ttrain-auc:0.743505\teval-auc:0.731159\n",
      "[600]\ttrain-auc:0.749177\teval-auc:0.732948\n",
      "[800]\ttrain-auc:0.753989\teval-auc:0.734033\n",
      "[1000]\ttrain-auc:0.758255\teval-auc:0.734628\n",
      "[1200]\ttrain-auc:0.762192\teval-auc:0.734991\n",
      "[1400]\ttrain-auc:0.76589\teval-auc:0.735239\n",
      "[1600]\ttrain-auc:0.769464\teval-auc:0.735387\n",
      "[1800]\ttrain-auc:0.772812\teval-auc:0.735461\n",
      "Stopping. Best iteration:\n",
      "[1730]\ttrain-auc:0.771651\teval-auc:0.735502\n",
      "\n",
      "0.7370110014459322 [0.7385198085383855, 0.735502194353479]\n",
      "************************************ 3 ************************************\n",
      "[0]\ttrain-auc:0.700554\teval-auc:0.699615\n",
      "Multiple eval metrics have been passed: 'eval-auc' will be used for early stopping.\n",
      "\n",
      "Will train until eval-auc hasn't improved in 200 rounds.\n",
      "[200]\ttrain-auc:0.734172\teval-auc:0.730301\n",
      "[400]\ttrain-auc:0.742904\teval-auc:0.734447\n",
      "[600]\ttrain-auc:0.748712\teval-auc:0.736194\n",
      "[800]\ttrain-auc:0.753438\teval-auc:0.737107\n",
      "[1000]\ttrain-auc:0.757677\teval-auc:0.737624\n",
      "[1200]\ttrain-auc:0.761587\teval-auc:0.73777\n",
      "[1400]\ttrain-auc:0.765305\teval-auc:0.737957\n",
      "[1600]\ttrain-auc:0.768873\teval-auc:0.738016\n",
      "[1800]\ttrain-auc:0.77227\teval-auc:0.738115\n",
      "Stopping. Best iteration:\n",
      "[1719]\ttrain-auc:0.770963\teval-auc:0.738145\n",
      "\n",
      "0.7373889446150511 [0.7385198085383855, 0.735502194353479, 0.7381448309532886]\n",
      "************************************ 4 ************************************\n",
      "[0]\ttrain-auc:0.700409\teval-auc:0.701011\n",
      "Multiple eval metrics have been passed: 'eval-auc' will be used for early stopping.\n",
      "\n",
      "Will train until eval-auc hasn't improved in 200 rounds.\n",
      "[200]\ttrain-auc:0.73427\teval-auc:0.729638\n",
      "[400]\ttrain-auc:0.742785\teval-auc:0.734029\n",
      "[600]\ttrain-auc:0.748534\teval-auc:0.735816\n",
      "[800]\ttrain-auc:0.753298\teval-auc:0.736818\n",
      "[1000]\ttrain-auc:0.757608\teval-auc:0.737445\n",
      "[1200]\ttrain-auc:0.761516\teval-auc:0.737857\n",
      "[1400]\ttrain-auc:0.765292\teval-auc:0.738173\n",
      "[1600]\ttrain-auc:0.768943\teval-auc:0.738293\n",
      "[1800]\ttrain-auc:0.772357\teval-auc:0.73833\n",
      "[2000]\ttrain-auc:0.775705\teval-auc:0.738441\n",
      "Stopping. Best iteration:\n",
      "[1956]\ttrain-auc:0.775004\teval-auc:0.738485\n",
      "\n",
      "0.7376630353223225 [0.7385198085383855, 0.735502194353479, 0.7381448309532886, 0.7384853074441365]\n",
      "************************************ 5 ************************************\n",
      "[0]\ttrain-auc:0.700336\teval-auc:0.699822\n",
      "Multiple eval metrics have been passed: 'eval-auc' will be used for early stopping.\n",
      "\n",
      "Will train until eval-auc hasn't improved in 200 rounds.\n",
      "[200]\ttrain-auc:0.734581\teval-auc:0.728826\n",
      "[400]\ttrain-auc:0.7431\teval-auc:0.732993\n",
      "[600]\ttrain-auc:0.748802\teval-auc:0.734661\n",
      "[800]\ttrain-auc:0.753483\teval-auc:0.735695\n",
      "[1000]\ttrain-auc:0.757816\teval-auc:0.736375\n",
      "[1200]\ttrain-auc:0.761731\teval-auc:0.736691\n",
      "[1400]\ttrain-auc:0.765555\teval-auc:0.736958\n",
      "[1600]\ttrain-auc:0.769101\teval-auc:0.737041\n",
      "[1800]\ttrain-auc:0.77248\teval-auc:0.737155\n",
      "[2000]\ttrain-auc:0.775809\teval-auc:0.73721\n",
      "Stopping. Best iteration:\n",
      "[1894]\ttrain-auc:0.774\teval-auc:0.737245\n",
      "\n",
      "0.7375794449175078 [0.7385198085383855, 0.735502194353479, 0.7381448309532886, 0.7384853074441365, 0.7372450832982492]\n",
      "xgb_scotrainre_list: [0.7385198085383855, 0.735502194353479, 0.7381448309532886, 0.7384853074441365, 0.7372450832982492]\n",
      "xgb_score_mean: 0.7375794449175078\n",
      "xgb_score_std: 0.0011358960889331147\n",
      "what is kf.n_splits? 5\n"
     ]
    }
   ],
   "source": [
    "xgb_train, xgb_test = xgb_model(x_train_dummied, y_train, x_test_dummied)"
   ]
  },
  {
   "cell_type": "markdown",
   "metadata": {
    "id": "Lrn3-QZk3khU"
   },
   "source": [
    "-----------------------"
   ]
  },
  {
   "cell_type": "code",
   "execution_count": null,
   "metadata": {
    "id": "iGWG_YyN9pNO"
   },
   "outputs": [],
   "source": [
    "testA_result = pd.read_csv('originalDataset/sample_submit.csv')\n",
    "testA_result_pred = testA_result.copy()"
   ]
  },
  {
   "cell_type": "code",
   "execution_count": null,
   "metadata": {
    "id": "C-R_jyu49pNO"
   },
   "outputs": [],
   "source": [
    "testA_result_pred[\"isDefault\"] = cat_test"
   ]
  },
  {
   "cell_type": "code",
   "execution_count": null,
   "metadata": {
    "id": "lZS02cdDxDzE"
   },
   "outputs": [],
   "source": [
    "testA_result_pred.to_csv(\"submissionResults/1129-a_a_a_b_b_a_f_b-cat-7363.csv\", index=False) ## "
   ]
  },
  {
   "cell_type": "code",
   "execution_count": null,
   "metadata": {
    "id": "dB11Zb7XtcbQ"
   },
   "outputs": [],
   "source": [
    "# testA_result_pred.to_csv(\"submissionResults/1129-a_a_a_b_b_a_f1_b-xgb-7386.csv\", index=False) ## "
   ]
  },
  {
   "cell_type": "code",
   "execution_count": null,
   "metadata": {
    "id": "z3Ze_bEoDbTG"
   },
   "outputs": [],
   "source": [
    "# testA_result_pred.to_csv(\"submissionResults/1129-a_a_a_b_b_a_f_b-xgb-7385.csv\", index=False) ## "
   ]
  },
  {
   "cell_type": "code",
   "execution_count": null,
   "metadata": {
    "id": "tLxObE6VbCD6"
   },
   "outputs": [],
   "source": [
    "# testA_result_pred.to_csv(\"submissionResults/xgboost-1128-A_A_A_B_A_A_E_A-7379.csv\", index=False) ## "
   ]
  },
  {
   "cell_type": "code",
   "execution_count": null,
   "metadata": {
    "id": "6Y9Nl13yXHlc"
   },
   "outputs": [],
   "source": [
    "# testA_result_pred.to_csv(\"submissionResults/xgboost-1128-A_A_A_B_B_A_D_B-7383.csv\", index=False) ## "
   ]
  },
  {
   "cell_type": "code",
   "execution_count": null,
   "metadata": {
    "id": "0QYhLwVi9pNO"
   },
   "outputs": [],
   "source": [
    "# testA_result_pred.to_csv(\"submissionResults/xgboost-1128-A_A_A_B_B_A_C_B-????.csv\", index=False) ## 理论上应该得分较高的。但是没训练完就给我停掉了。以后再试一次。"
   ]
  },
  {
   "cell_type": "markdown",
   "metadata": {
    "id": "i2vo5VbaJFak"
   },
   "source": [
    "### Scheme B\n",
    "\n",
    "多个模型的stacking"
   ]
  },
  {
   "cell_type": "code",
   "execution_count": null,
   "metadata": {
    "id": "sNlakrBf3_n2"
   },
   "outputs": [],
   "source": [
    "testA_result = pd.read_csv('originalDataset/sample_submit.csv')\n",
    "testA_result_pred = testA_result.copy()"
   ]
  },
  {
   "cell_type": "code",
   "execution_count": null,
   "metadata": {
    "colab": {
     "base_uri": "https://localhost:8080/"
    },
    "executionInfo": {
     "elapsed": 1294976,
     "status": "ok",
     "timestamp": 1608667844028,
     "user": {
      "displayName": "Minke Xiu",
      "photoUrl": "https://lh3.googleusercontent.com/a-/AOh14GiKrlSLM7H0tbRpIYdHPAKnVjaQdF6dZZWD9Jdd=s64",
      "userId": "01913327350585558279"
     },
     "user_tz": 300
    },
    "id": "OThENu_S37Yy",
    "outputId": "1a6fea54-a06b-4679-8a02-fc788622458c"
   },
   "outputs": [
    {
     "name": "stdout",
     "output_type": "stream",
     "text": [
      "************************************ 1 ************************************\n",
      "[0]\ttrain-auc:0.699971\teval-auc:0.702442\n",
      "Multiple eval metrics have been passed: 'eval-auc' will be used for early stopping.\n",
      "\n",
      "Will train until eval-auc hasn't improved in 200 rounds.\n",
      "[200]\ttrain-auc:0.732723\teval-auc:0.729869\n",
      "[400]\ttrain-auc:0.741469\teval-auc:0.734454\n",
      "[600]\ttrain-auc:0.74697\teval-auc:0.736171\n",
      "[800]\ttrain-auc:0.75138\teval-auc:0.737134\n",
      "[1000]\ttrain-auc:0.755162\teval-auc:0.737745\n",
      "[1200]\ttrain-auc:0.758748\teval-auc:0.738172\n",
      "[1400]\ttrain-auc:0.762269\teval-auc:0.738477\n",
      "[1600]\ttrain-auc:0.765421\teval-auc:0.7387\n",
      "[1800]\ttrain-auc:0.76858\teval-auc:0.738807\n",
      "[2000]\ttrain-auc:0.771655\teval-auc:0.738912\n",
      "[2200]\ttrain-auc:0.774602\teval-auc:0.738965\n",
      "[2400]\ttrain-auc:0.777486\teval-auc:0.739014\n",
      "[2600]\ttrain-auc:0.780162\teval-auc:0.739022\n",
      "[2800]\ttrain-auc:0.782828\teval-auc:0.739045\n",
      "Stopping. Best iteration:\n",
      "[2737]\ttrain-auc:0.781992\teval-auc:0.739075\n",
      "\n",
      "0.7390754027756576 [0.7390754027756576]\n",
      "************************************ 2 ************************************\n",
      "[0]\ttrain-auc:0.700854\teval-auc:0.696798\n",
      "Multiple eval metrics have been passed: 'eval-auc' will be used for early stopping.\n",
      "\n",
      "Will train until eval-auc hasn't improved in 200 rounds.\n",
      "[200]\ttrain-auc:0.733743\teval-auc:0.72617\n",
      "[400]\ttrain-auc:0.742452\teval-auc:0.731067\n",
      "[600]\ttrain-auc:0.74788\teval-auc:0.732916\n",
      "[800]\ttrain-auc:0.75237\teval-auc:0.734079\n",
      "[1000]\ttrain-auc:0.756316\teval-auc:0.73479\n",
      "[1200]\ttrain-auc:0.759762\teval-auc:0.735145\n",
      "[1400]\ttrain-auc:0.763238\teval-auc:0.735381\n",
      "[1600]\ttrain-auc:0.76648\teval-auc:0.735562\n",
      "[1800]\ttrain-auc:0.769517\teval-auc:0.735714\n",
      "Stopping. Best iteration:\n",
      "[1783]\ttrain-auc:0.769269\teval-auc:0.73575\n",
      "\n",
      "0.737412823940488 [0.7390754027756576, 0.7357502451053185]\n",
      "************************************ 3 ************************************\n",
      "[0]\ttrain-auc:0.699762\teval-auc:0.699382\n",
      "Multiple eval metrics have been passed: 'eval-auc' will be used for early stopping.\n",
      "\n",
      "Will train until eval-auc hasn't improved in 200 rounds.\n",
      "[200]\ttrain-auc:0.732735\teval-auc:0.729751\n",
      "[400]\ttrain-auc:0.741526\teval-auc:0.73434\n",
      "[600]\ttrain-auc:0.747067\teval-auc:0.736361\n",
      "[800]\ttrain-auc:0.751534\teval-auc:0.737392\n",
      "[1000]\ttrain-auc:0.755475\teval-auc:0.738021\n",
      "[1200]\ttrain-auc:0.759177\teval-auc:0.73824\n",
      "[1400]\ttrain-auc:0.762558\teval-auc:0.738544\n",
      "[1600]\ttrain-auc:0.76591\teval-auc:0.738611\n",
      "[1800]\ttrain-auc:0.76902\teval-auc:0.738738\n",
      "[2000]\ttrain-auc:0.772121\teval-auc:0.73886\n",
      "[2200]\ttrain-auc:0.775008\teval-auc:0.738895\n",
      "[2400]\ttrain-auc:0.778031\teval-auc:0.738848\n",
      "Stopping. Best iteration:\n",
      "[2282]\ttrain-auc:0.776294\teval-auc:0.738903\n",
      "\n",
      "0.7379094041816795 [0.7390754027756576, 0.7357502451053185, 0.7389025646640627]\n",
      "************************************ 4 ************************************\n",
      "[0]\ttrain-auc:0.700667\teval-auc:0.700828\n",
      "Multiple eval metrics have been passed: 'eval-auc' will be used for early stopping.\n",
      "\n",
      "Will train until eval-auc hasn't improved in 200 rounds.\n",
      "[200]\ttrain-auc:0.732976\teval-auc:0.729019\n",
      "[400]\ttrain-auc:0.741575\teval-auc:0.733891\n",
      "[600]\ttrain-auc:0.747043\teval-auc:0.73586\n",
      "[800]\ttrain-auc:0.751428\teval-auc:0.736925\n",
      "[1000]\ttrain-auc:0.755351\teval-auc:0.737639\n",
      "[1200]\ttrain-auc:0.758923\teval-auc:0.738054\n",
      "[1400]\ttrain-auc:0.762396\teval-auc:0.738446\n",
      "[1600]\ttrain-auc:0.765785\teval-auc:0.738705\n",
      "[1800]\ttrain-auc:0.768951\teval-auc:0.73881\n",
      "[2000]\ttrain-auc:0.771958\teval-auc:0.738848\n",
      "Stopping. Best iteration:\n",
      "[1888]\ttrain-auc:0.770322\teval-auc:0.738895\n",
      "\n",
      "0.7381558952806806 [0.7390754027756576, 0.7357502451053185, 0.7389025646640627, 0.7388953685776836]\n",
      "************************************ 5 ************************************\n",
      "[0]\ttrain-auc:0.699939\teval-auc:0.698465\n",
      "Multiple eval metrics have been passed: 'eval-auc' will be used for early stopping.\n",
      "\n",
      "Will train until eval-auc hasn't improved in 200 rounds.\n",
      "[200]\ttrain-auc:0.733413\teval-auc:0.728\n",
      "[400]\ttrain-auc:0.742016\teval-auc:0.732487\n",
      "[600]\ttrain-auc:0.74738\teval-auc:0.734282\n",
      "[800]\ttrain-auc:0.751915\teval-auc:0.735507\n",
      "[1000]\ttrain-auc:0.755752\teval-auc:0.736161\n",
      "[1200]\ttrain-auc:0.759296\teval-auc:0.736671\n",
      "[1400]\ttrain-auc:0.762756\teval-auc:0.73705\n",
      "[1600]\ttrain-auc:0.765943\teval-auc:0.737279\n",
      "[1800]\ttrain-auc:0.769082\teval-auc:0.737465\n",
      "[2000]\ttrain-auc:0.772081\teval-auc:0.737574\n",
      "[2200]\ttrain-auc:0.775078\teval-auc:0.737665\n",
      "[2400]\ttrain-auc:0.777918\teval-auc:0.737568\n",
      "Stopping. Best iteration:\n",
      "[2202]\ttrain-auc:0.775097\teval-auc:0.737674\n",
      "\n",
      "0.738059417925888 [0.7390754027756576, 0.7357502451053185, 0.7389025646640627, 0.7388953685776836, 0.7376735085067174]\n",
      "xgb_scotrainre_list: [0.7390754027756576, 0.7357502451053185, 0.7389025646640627, 0.7388953685776836, 0.7376735085067174]\n",
      "xgb_score_mean: 0.738059417925888\n",
      "xgb_score_std: 0.001258820108224756\n",
      "what is kf.n_splits? 5\n"
     ]
    }
   ],
   "source": [
    "xgb_train, xgb_test = xgb_model(x_train_dummied, y_train, x_test_dummied)"
   ]
  },
  {
   "cell_type": "code",
   "execution_count": null,
   "metadata": {
    "id": "jZbba0Xc4D9e"
   },
   "outputs": [],
   "source": [
    "testA_result_pred[\"isDefault\"] = xgb_test\n",
    "testA_result_pred.to_csv(\"submissionResults/1222-???-xgb-???.csv\", index=False) ## "
   ]
  },
  {
   "cell_type": "code",
   "execution_count": null,
   "metadata": {
    "id": "RQsnDCIKJg8e"
   },
   "outputs": [],
   "source": [
    "## 使用A方案里面的函数. "
   ]
  },
  {
   "cell_type": "code",
   "execution_count": null,
   "metadata": {
    "colab": {
     "base_uri": "https://localhost:8080/"
    },
    "executionInfo": {
     "elapsed": 404823,
     "status": "ok",
     "timestamp": 1608670735832,
     "user": {
      "displayName": "Minke Xiu",
      "photoUrl": "https://lh3.googleusercontent.com/a-/AOh14GiKrlSLM7H0tbRpIYdHPAKnVjaQdF6dZZWD9Jdd=s64",
      "userId": "01913327350585558279"
     },
     "user_tz": 300
    },
    "id": "v3I2JV3LJUvi",
    "outputId": "ba4a0bf7-3f5e-4103-b7e9-9b73539ae0dc"
   },
   "outputs": [
    {
     "name": "stdout",
     "output_type": "stream",
     "text": [
      "************************************ 1 ************************************\n",
      "Training until validation scores don't improve for 200 rounds.\n",
      "[200]\ttraining's auc: 0.792364\tvalid_1's auc: 0.727051\n",
      "Early stopping, best iteration is:\n",
      "[72]\ttraining's auc: 0.764082\tvalid_1's auc: 0.728959\n",
      "0.7289596706359373 [0.7289596706359373]\n",
      "************************************ 2 ************************************\n",
      "Training until validation scores don't improve for 200 rounds.\n",
      "[200]\ttraining's auc: 0.79335\tvalid_1's auc: 0.724138\n",
      "Early stopping, best iteration is:\n",
      "[83]\ttraining's auc: 0.768776\tvalid_1's auc: 0.726067\n",
      "0.727513213782639 [0.7289596706359373, 0.7260667569293409]\n",
      "************************************ 3 ************************************\n",
      "Training until validation scores don't improve for 200 rounds.\n",
      "[200]\ttraining's auc: 0.792208\tvalid_1's auc: 0.726149\n",
      "Early stopping, best iteration is:\n",
      "[70]\ttraining's auc: 0.763696\tvalid_1's auc: 0.728271\n",
      "0.7277658066683035 [0.7289596706359373, 0.7260667569293409, 0.7282709924396324]\n",
      "************************************ 4 ************************************\n",
      "Training until validation scores don't improve for 200 rounds.\n",
      "[200]\ttraining's auc: 0.792658\tvalid_1's auc: 0.725687\n",
      "Early stopping, best iteration is:\n",
      "[76]\ttraining's auc: 0.765883\tvalid_1's auc: 0.727847\n",
      "0.7277860699895196 [0.7289596706359373, 0.7260667569293409, 0.7282709924396324, 0.7278468599531678]\n",
      "************************************ 5 ************************************\n",
      "Training until validation scores don't improve for 200 rounds.\n",
      "[200]\ttraining's auc: 0.793375\tvalid_1's auc: 0.726483\n",
      "Early stopping, best iteration is:\n",
      "[97]\ttraining's auc: 0.772912\tvalid_1's auc: 0.727944\n",
      "0.7278176015878175 [0.7289596706359373, 0.7260667569293409, 0.7282709924396324, 0.7278468599531678, 0.727943727981009]\n",
      "lgb_scotrainre_list: [0.7289596706359373, 0.7260667569293409, 0.7282709924396324, 0.7278468599531678, 0.727943727981009]\n",
      "lgb_score_mean: 0.7278176015878175\n",
      "lgb_score_std: 0.000958342935728259\n",
      "what is kf.n_splits? 5\n"
     ]
    }
   ],
   "source": [
    "lgb_train, lgb_test = lgb_model(x_train, y_train, x_test)"
   ]
  },
  {
   "cell_type": "code",
   "execution_count": null,
   "metadata": {
    "id": "eM0X37aKKWWS"
   },
   "outputs": [],
   "source": [
    "## 如果有必要, 可以保存一轮. \n",
    "testA_result_pred[\"isDefault\"] = lgb_test\n",
    "testA_result_pred.to_csv(\"submissionResults/1222-????-lgb-????.csv\", index=False) ## "
   ]
  },
  {
   "cell_type": "code",
   "execution_count": null,
   "metadata": {
    "colab": {
     "base_uri": "https://localhost:8080/"
    },
    "executionInfo": {
     "elapsed": 774285,
     "status": "ok",
     "timestamp": 1608666114058,
     "user": {
      "displayName": "Minke Xiu",
      "photoUrl": "https://lh3.googleusercontent.com/a-/AOh14GiKrlSLM7H0tbRpIYdHPAKnVjaQdF6dZZWD9Jdd=s64",
      "userId": "01913327350585558279"
     },
     "user_tz": 300
    },
    "id": "RjJIILaoJErh",
    "outputId": "37d94153-c8a6-4478-81d9-e0fab37c9fbf"
   },
   "outputs": [
    {
     "name": "stdout",
     "output_type": "stream",
     "text": [
      "************************************ 1 ************************************\n",
      "0:\tlearn: 0.7033336\ttest: 0.7047200\tbest: 0.7047200 (0)\ttotal: 66.8ms\tremaining: 22m 15s\n",
      "500:\tlearn: 0.7471239\ttest: 0.7362583\tbest: 0.7362593 (499)\ttotal: 41s\tremaining: 26m 36s\n",
      "1000:\tlearn: 0.7573418\ttest: 0.7372667\tbest: 0.7372728 (973)\ttotal: 1m 21s\tremaining: 25m 53s\n",
      "bestTest = 0.7373488922\n",
      "bestIteration = 1091\n",
      "Shrink model to first 1092 iterations.\n",
      "0.7373488941574745 [0.7373488941574745]\n",
      "************************************ 2 ************************************\n",
      "0:\tlearn: 0.7042973\ttest: 0.7009080\tbest: 0.7009080 (0)\ttotal: 63.7ms\tremaining: 21m 12s\n",
      "500:\tlearn: 0.7478220\ttest: 0.7331419\tbest: 0.7331419 (500)\ttotal: 41.1s\tremaining: 26m 39s\n",
      "1000:\tlearn: 0.7575791\ttest: 0.7344095\tbest: 0.7344188 (951)\ttotal: 1m 21s\tremaining: 25m 54s\n",
      "1500:\tlearn: 0.7659017\ttest: 0.7345052\tbest: 0.7345446 (1428)\ttotal: 2m 2s\tremaining: 25m 9s\n",
      "bestTest = 0.7345446024\n",
      "bestIteration = 1428\n",
      "Shrink model to first 1429 iterations.\n",
      "0.7359467481548891 [0.7373488941574745, 0.7345446021523038]\n",
      "************************************ 3 ************************************\n",
      "0:\tlearn: 0.7034098\ttest: 0.7040740\tbest: 0.7040740 (0)\ttotal: 63.8ms\tremaining: 21m 15s\n",
      "500:\tlearn: 0.7468085\ttest: 0.7362738\tbest: 0.7362738 (500)\ttotal: 41s\tremaining: 26m 34s\n",
      "1000:\tlearn: 0.7574123\ttest: 0.7375294\tbest: 0.7375638 (975)\ttotal: 1m 21s\tremaining: 25m 52s\n",
      "1500:\tlearn: 0.7661918\ttest: 0.7378337\tbest: 0.7378689 (1449)\ttotal: 2m 2s\tremaining: 25m 9s\n",
      "bestTest = 0.7378689376\n",
      "bestIteration = 1449\n",
      "Shrink model to first 1450 iterations.\n",
      "0.7365874747098787 [0.7373488941574745, 0.7345446021523038, 0.737868927819858]\n",
      "************************************ 4 ************************************\n",
      "0:\tlearn: 0.7026147\ttest: 0.7025977\tbest: 0.7025977 (0)\ttotal: 63.5ms\tremaining: 21m 10s\n",
      "500:\tlearn: 0.7468107\ttest: 0.7358392\tbest: 0.7358392 (500)\ttotal: 41s\tremaining: 26m 37s\n",
      "1000:\tlearn: 0.7567952\ttest: 0.7372350\tbest: 0.7372380 (997)\ttotal: 1m 21s\tremaining: 25m 49s\n",
      "1500:\tlearn: 0.7652719\ttest: 0.7376269\tbest: 0.7376381 (1495)\ttotal: 2m 2s\tremaining: 25m 4s\n",
      "2000:\tlearn: 0.7726854\ttest: 0.7377458\tbest: 0.7378198 (1980)\ttotal: 2m 42s\tremaining: 24m 24s\n",
      "bestTest = 0.7378198191\n",
      "bestIteration = 1980\n",
      "Shrink model to first 1981 iterations.\n",
      "0.7368955634132837 [0.7373488941574745, 0.7345446021523038, 0.737868927819858, 0.7378198295234986]\n",
      "************************************ 5 ************************************\n",
      "0:\tlearn: 0.7036608\ttest: 0.7034601\tbest: 0.7034601 (0)\ttotal: 67.2ms\tremaining: 22m 24s\n",
      "500:\tlearn: 0.7473986\ttest: 0.7343615\tbest: 0.7343615 (500)\ttotal: 42.4s\tremaining: 27m 31s\n",
      "1000:\tlearn: 0.7574616\ttest: 0.7356139\tbest: 0.7356139 (1000)\ttotal: 1m 23s\tremaining: 26m 26s\n",
      "1500:\tlearn: 0.7656210\ttest: 0.7359454\tbest: 0.7360065 (1435)\ttotal: 2m 4s\tremaining: 25m 36s\n",
      "2000:\tlearn: 0.7735752\ttest: 0.7361319\tbest: 0.7362313 (1846)\ttotal: 2m 45s\tremaining: 24m 48s\n",
      "bestTest = 0.7362312614\n",
      "bestIteration = 1846\n",
      "Shrink model to first 1847 iterations.\n",
      "0.736762703322638 [0.7373488941574745, 0.7345446021523038, 0.737868927819858, 0.7378198295234986, 0.7362312629600554]\n",
      "cat_scotrainre_list: [0.7373488941574745, 0.7345446021523038, 0.737868927819858, 0.7378198295234986, 0.7362312629600554]\n",
      "cat_score_mean: 0.736762703322638\n",
      "cat_score_std: 0.0012559673402172474\n",
      "what is kf.n_splits? 5\n"
     ]
    }
   ],
   "source": [
    "## 这个方法很快，可以用这个方法粗略看一下效果\n",
    "cat_train, cat_test = cat_model(x_train_dummied, y_train, x_test_dummied)"
   ]
  },
  {
   "cell_type": "code",
   "execution_count": null,
   "metadata": {
    "id": "dU0PR5_lJ31p"
   },
   "outputs": [],
   "source": [
    "## 如果有必要, 可以保存一轮. \n",
    "testA_result_pred[\"isDefault\"] = cat_test\n",
    "testA_result_pred.to_csv(\"submissionResults/1222-????-cat-????.csv\", index=False) ## "
   ]
  },
  {
   "cell_type": "markdown",
   "metadata": {
    "id": "lvlJg0v4MiGE"
   },
   "source": [
    "三连"
   ]
  },
  {
   "cell_type": "code",
   "execution_count": null,
   "metadata": {
    "colab": {
     "base_uri": "https://localhost:8080/"
    },
    "executionInfo": {
     "elapsed": 96298,
     "status": "ok",
     "timestamp": 1608671154514,
     "user": {
      "displayName": "Minke Xiu",
      "photoUrl": "https://lh3.googleusercontent.com/a-/AOh14GiKrlSLM7H0tbRpIYdHPAKnVjaQdF6dZZWD9Jdd=s64",
      "userId": "01913327350585558279"
     },
     "user_tz": 300
    },
    "id": "hkjnmRj0OaEq",
    "outputId": "73f44e07-03ac-4f4c-ed37-31eaede81950"
   },
   "outputs": [
    {
     "name": "stdout",
     "output_type": "stream",
     "text": [
      "************************************ 1 ************************************\n",
      "[0]\ttrain-auc:0.736243\teval-auc:0.736959\n",
      "Multiple eval metrics have been passed: 'eval-auc' will be used for early stopping.\n",
      "\n",
      "Will train until eval-auc hasn't improved in 200 rounds.\n",
      "[200]\ttrain-auc:0.739949\teval-auc:0.739997\n",
      "Stopping. Best iteration:\n",
      "[104]\ttrain-auc:0.739622\teval-auc:0.740066\n",
      "\n",
      "0.7400655115248977 [0.7400655115248977]\n",
      "************************************ 2 ************************************\n",
      "[0]\ttrain-auc:0.737173\teval-auc:0.733824\n",
      "Multiple eval metrics have been passed: 'eval-auc' will be used for early stopping.\n",
      "\n",
      "Will train until eval-auc hasn't improved in 200 rounds.\n",
      "[200]\ttrain-auc:0.740794\teval-auc:0.736809\n",
      "Stopping. Best iteration:\n",
      "[112]\ttrain-auc:0.740482\teval-auc:0.736862\n",
      "\n",
      "0.7384636278742629 [0.7400655115248977, 0.736861744223628]\n",
      "************************************ 3 ************************************\n",
      "[0]\ttrain-auc:0.736343\teval-auc:0.737301\n",
      "Multiple eval metrics have been passed: 'eval-auc' will be used for early stopping.\n",
      "\n",
      "Will train until eval-auc hasn't improved in 200 rounds.\n",
      "[200]\ttrain-auc:0.739989\teval-auc:0.739942\n",
      "Stopping. Best iteration:\n",
      "[78]\ttrain-auc:0.739553\teval-auc:0.740006\n",
      "\n",
      "0.7389778433358045 [0.7400655115248977, 0.736861744223628, 0.7400062742588877]\n",
      "************************************ 4 ************************************\n",
      "[0]\ttrain-auc:0.736515\teval-auc:0.736801\n",
      "Multiple eval metrics have been passed: 'eval-auc' will be used for early stopping.\n",
      "\n",
      "Will train until eval-auc hasn't improved in 200 rounds.\n",
      "[200]\ttrain-auc:0.740004\teval-auc:0.739745\n",
      "Stopping. Best iteration:\n",
      "[107]\ttrain-auc:0.739678\teval-auc:0.739769\n",
      "\n",
      "0.7391756246820619 [0.7400655115248977, 0.736861744223628, 0.7400062742588877, 0.7397689687208339]\n",
      "************************************ 5 ************************************\n",
      "[0]\ttrain-auc:0.736608\teval-auc:0.735806\n",
      "Multiple eval metrics have been passed: 'eval-auc' will be used for early stopping.\n",
      "\n",
      "Will train until eval-auc hasn't improved in 200 rounds.\n",
      "[200]\ttrain-auc:0.740214\teval-auc:0.73892\n",
      "Stopping. Best iteration:\n",
      "[102]\ttrain-auc:0.739872\teval-auc:0.738989\n",
      "\n",
      "0.739138359184899 [0.7400655115248977, 0.736861744223628, 0.7400062742588877, 0.7397689687208339, 0.738989297196248]\n",
      "xgb_scotrainre_list: [0.7400655115248977, 0.736861744223628, 0.7400062742588877, 0.7397689687208339, 0.738989297196248]\n",
      "xgb_score_mean: 0.739138359184899\n",
      "xgb_score_std: 0.0012013119147313255\n",
      "what is kf.n_splits? 5\n"
     ]
    }
   ],
   "source": [
    "newStackingTrainingSet = pd.DataFrame(columns=[\"lgb\", \"cat\", \"xgb\"])\n",
    "newStackingTrainingSet[\"lgb\"] = lgb_train\n",
    "newStackingTrainingSet[\"cat\"] = cat_train\n",
    "newStackingTrainingSet[\"xgb\"] = xgb_train\n",
    "\n",
    "newStackingTestSet = pd.DataFrame(columns=[\"lgb\", \"cat\", \"xgb\"])\n",
    "newStackingTestSet[\"lgb\"] = lgb_test\n",
    "newStackingTestSet[\"cat\"] = cat_test\n",
    "newStackingTestSet[\"xgb\"] = xgb_test\n",
    "\n",
    "xgb_train_final, xgb_test_final = xgb_model(newStackingTrainingSet, y_train, newStackingTestSet)\n",
    "\n",
    "testA_result_pred[\"isDefault\"] = xgb_test_final\n",
    "testA_result_pred.to_csv(\"submissionResults/1222-????-lgb_cat_xgb+xgb-????.csv\", index=False) ## "
   ]
  },
  {
   "cell_type": "code",
   "execution_count": null,
   "metadata": {
    "id": "RBnrDo3jTgcI"
   },
   "outputs": [],
   "source": [
    "# newStackingTrainingSet = pd.DataFrame(columns=[\"lgb\", \"cat\", \"xgb\"])\n",
    "# newStackingTrainingSet[\"lgb\"] = lgb_train\n",
    "# newStackingTrainingSet[\"cat\"] = cat_train\n",
    "# newStackingTrainingSet[\"xgb\"] = xgb_train\n",
    "# newStackingTrainingSet.head()"
   ]
  },
  {
   "cell_type": "code",
   "execution_count": null,
   "metadata": {
    "id": "jzRsNIEkVi56"
   },
   "outputs": [],
   "source": [
    "# newStackingTestSet = pd.DataFrame(columns=[\"lgb\", \"cat\", \"xgb\"])\n",
    "# newStackingTestSet[\"lgb\"] = lgb_test\n",
    "# newStackingTestSet[\"cat\"] = cat_test\n",
    "# newStackingTestSet[\"xgb\"] = xgb_test\n",
    "# newStackingTestSet.head()"
   ]
  },
  {
   "cell_type": "code",
   "execution_count": null,
   "metadata": {
    "id": "Tg7QO04IXO1f"
   },
   "outputs": [],
   "source": [
    "# xgb_train_final, xgb_test_final = xgb_model(newStackingTrainingSet, y_train, newStackingTestSet)"
   ]
  },
  {
   "cell_type": "code",
   "execution_count": null,
   "metadata": {
    "id": "c9tX2pWGMm0g"
   },
   "outputs": [],
   "source": [
    "# ## 如果有必要, 可以保存一轮. \n",
    "# testA_result_pred[\"isDefault\"] = xgb_test_final\n",
    "# testA_result_pred.to_csv(\"submissionResults/1129-a_a_a_b_b_a_f_b-lgb_xgb_cat+xgb-????.csv\", index=False) ## "
   ]
  },
  {
   "cell_type": "markdown",
   "metadata": {
    "id": "VXamrWwlMu24"
   },
   "source": [
    "二连1"
   ]
  },
  {
   "cell_type": "code",
   "execution_count": null,
   "metadata": {
    "colab": {
     "base_uri": "https://localhost:8080/"
    },
    "executionInfo": {
     "elapsed": 180944,
     "status": "ok",
     "timestamp": 1606674998581,
     "user": {
      "displayName": "Minke Xiu",
      "photoUrl": "https://lh3.googleusercontent.com/a-/AOh14GiKrlSLM7H0tbRpIYdHPAKnVjaQdF6dZZWD9Jdd=s64",
      "userId": "01913327350585558279"
     },
     "user_tz": 300
    },
    "id": "uKx_0wYjMuSA",
    "outputId": "8d814eaf-a71b-4b72-c08c-e32b9684ad13"
   },
   "outputs": [
    {
     "name": "stdout",
     "output_type": "stream",
     "text": [
      "************************************ 1 ************************************\n",
      "[0]\ttrain-auc:0.735481\teval-auc:0.736854\n",
      "Multiple eval metrics have been passed: 'eval-auc' will be used for early stopping.\n",
      "\n",
      "Will train until eval-auc hasn't improved in 200 rounds.\n",
      "[200]\ttrain-auc:0.738361\teval-auc:0.739337\n",
      "Stopping. Best iteration:\n",
      "[72]\ttrain-auc:0.738177\teval-auc:0.739388\n",
      "\n",
      "[0.7393877295712593]\n",
      "************************************ 2 ************************************\n",
      "[0]\ttrain-auc:0.736401\teval-auc:0.733022\n",
      "Multiple eval metrics have been passed: 'eval-auc' will be used for early stopping.\n",
      "\n",
      "Will train until eval-auc hasn't improved in 200 rounds.\n",
      "[200]\ttrain-auc:0.739215\teval-auc:0.735753\n",
      "Stopping. Best iteration:\n",
      "[82]\ttrain-auc:0.739088\teval-auc:0.735801\n",
      "\n",
      "[0.7393877295712593, 0.7358009060707756]\n",
      "************************************ 3 ************************************\n",
      "[0]\ttrain-auc:0.735582\teval-auc:0.737011\n",
      "Multiple eval metrics have been passed: 'eval-auc' will be used for early stopping.\n",
      "\n",
      "Will train until eval-auc hasn't improved in 200 rounds.\n",
      "[200]\ttrain-auc:0.738379\teval-auc:0.739177\n",
      "Stopping. Best iteration:\n",
      "[58]\ttrain-auc:0.738173\teval-auc:0.739238\n",
      "\n",
      "[0.7393877295712593, 0.7358009060707756, 0.7392375463053734]\n",
      "************************************ 4 ************************************\n",
      "[0]\ttrain-auc:0.735666\teval-auc:0.735779\n",
      "Multiple eval metrics have been passed: 'eval-auc' will be used for early stopping.\n",
      "\n",
      "Will train until eval-auc hasn't improved in 200 rounds.\n",
      "[200]\ttrain-auc:0.738481\teval-auc:0.738772\n",
      "Stopping. Best iteration:\n",
      "[81]\ttrain-auc:0.738332\teval-auc:0.738799\n",
      "\n",
      "[0.7393877295712593, 0.7358009060707756, 0.7392375463053734, 0.7387989296094711]\n",
      "************************************ 5 ************************************\n",
      "[0]\ttrain-auc:0.735895\teval-auc:0.73506\n",
      "Multiple eval metrics have been passed: 'eval-auc' will be used for early stopping.\n",
      "\n",
      "Will train until eval-auc hasn't improved in 200 rounds.\n",
      "[200]\ttrain-auc:0.738781\teval-auc:0.737558\n",
      "Stopping. Best iteration:\n",
      "[62]\ttrain-auc:0.738578\teval-auc:0.73768\n",
      "\n",
      "[0.7393877295712593, 0.7358009060707756, 0.7392375463053734, 0.7387989296094711, 0.7376795786550623]\n",
      "xgb_scotrainre_list: [0.7393877295712593, 0.7358009060707756, 0.7392375463053734, 0.7387989296094711, 0.7376795786550623]\n",
      "xgb_score_mean: 0.7381809380423883\n",
      "xgb_score_std: 0.0013319604959387585\n",
      "what is kf.n_splits? 5\n"
     ]
    }
   ],
   "source": [
    "newStackingTrainingSet = pd.DataFrame(columns=[\"lgb\", \"cat\"])\n",
    "newStackingTrainingSet[\"lgb\"] = lgb_train\n",
    "newStackingTrainingSet[\"cat\"] = cat_train\n",
    "# newStackingTrainingSet[\"xgb\"] = xgb_train\n",
    "\n",
    "newStackingTestSet = pd.DataFrame(columns=[\"lgb\", \"cat\"])\n",
    "newStackingTestSet[\"lgb\"] = lgb_test\n",
    "newStackingTestSet[\"cat\"] = cat_test\n",
    "# newStackingTestSet[\"xgb\"] = xgb_test\n",
    "\n",
    "xgb_train_final, xgb_test_final = xgb_model(newStackingTrainingSet, y_train, newStackingTestSet)\n",
    "\n",
    "testA_result_pred[\"isDefault\"] = xgb_test_final\n",
    "testA_result_pred.to_csv(\"submissionResults/1129-a_a_a_b_b_a_f_b-lgb_cat+xgb-????.csv\", index=False) ## "
   ]
  },
  {
   "cell_type": "markdown",
   "metadata": {
    "id": "Y9bJcOTlMxmL"
   },
   "source": [
    "二连2"
   ]
  },
  {
   "cell_type": "code",
   "execution_count": null,
   "metadata": {
    "colab": {
     "base_uri": "https://localhost:8080/"
    },
    "executionInfo": {
     "elapsed": 252833,
     "status": "ok",
     "timestamp": 1606675070479,
     "user": {
      "displayName": "Minke Xiu",
      "photoUrl": "https://lh3.googleusercontent.com/a-/AOh14GiKrlSLM7H0tbRpIYdHPAKnVjaQdF6dZZWD9Jdd=s64",
      "userId": "01913327350585558279"
     },
     "user_tz": 300
    },
    "id": "Pb6XSR8-M0s6",
    "outputId": "d3b73129-4ce4-46d0-9ce0-65fbf0e4d3f2"
   },
   "outputs": [
    {
     "name": "stdout",
     "output_type": "stream",
     "text": [
      "************************************ 1 ************************************\n",
      "[0]\ttrain-auc:0.737329\teval-auc:0.73841\n",
      "Multiple eval metrics have been passed: 'eval-auc' will be used for early stopping.\n",
      "\n",
      "Will train until eval-auc hasn't improved in 200 rounds.\n",
      "[200]\ttrain-auc:0.73898\teval-auc:0.739619\n",
      "Stopping. Best iteration:\n",
      "[24]\ttrain-auc:0.738759\teval-auc:0.739758\n",
      "\n",
      "[0.7397576966719892]\n",
      "************************************ 2 ************************************\n",
      "[0]\ttrain-auc:0.738173\teval-auc:0.735127\n",
      "Multiple eval metrics have been passed: 'eval-auc' will be used for early stopping.\n",
      "\n",
      "Will train until eval-auc hasn't improved in 200 rounds.\n",
      "[200]\ttrain-auc:0.739764\teval-auc:0.73647\n",
      "Stopping. Best iteration:\n",
      "[47]\ttrain-auc:0.739573\teval-auc:0.73659\n",
      "\n",
      "[0.7397576966719892, 0.7365901209883987]\n",
      "************************************ 3 ************************************\n",
      "[0]\ttrain-auc:0.737413\teval-auc:0.738178\n",
      "Multiple eval metrics have been passed: 'eval-auc' will be used for early stopping.\n",
      "\n",
      "Will train until eval-auc hasn't improved in 200 rounds.\n",
      "[200]\ttrain-auc:0.73901\teval-auc:0.739455\n",
      "Stopping. Best iteration:\n",
      "[32]\ttrain-auc:0.73878\teval-auc:0.739601\n",
      "\n",
      "[0.7397576966719892, 0.7365901209883987, 0.7396014087459107]\n",
      "************************************ 4 ************************************\n",
      "[0]\ttrain-auc:0.737406\teval-auc:0.737589\n",
      "Multiple eval metrics have been passed: 'eval-auc' will be used for early stopping.\n",
      "\n",
      "Will train until eval-auc hasn't improved in 200 rounds.\n",
      "[200]\ttrain-auc:0.739107\teval-auc:0.739075\n",
      "Stopping. Best iteration:\n",
      "[66]\ttrain-auc:0.7389\teval-auc:0.739209\n",
      "\n",
      "[0.7397576966719892, 0.7365901209883987, 0.7396014087459107, 0.7392085974461047]\n",
      "************************************ 5 ************************************\n",
      "[0]\ttrain-auc:0.73757\teval-auc:0.737475\n",
      "Multiple eval metrics have been passed: 'eval-auc' will be used for early stopping.\n",
      "\n",
      "Will train until eval-auc hasn't improved in 200 rounds.\n",
      "[200]\ttrain-auc:0.739248\teval-auc:0.738563\n",
      "Stopping. Best iteration:\n",
      "[17]\ttrain-auc:0.738988\teval-auc:0.738688\n",
      "\n",
      "[0.7397576966719892, 0.7365901209883987, 0.7396014087459107, 0.7392085974461047, 0.7386882045540842]\n",
      "xgb_scotrainre_list: [0.7397576966719892, 0.7365901209883987, 0.7396014087459107, 0.7392085974461047, 0.7386882045540842]\n",
      "xgb_score_mean: 0.7387692056812976\n",
      "xgb_score_std: 0.0011504531962532268\n",
      "what is kf.n_splits? 5\n"
     ]
    }
   ],
   "source": [
    "newStackingTrainingSet = pd.DataFrame(columns=[\"lgb\", \"xgb\"])\n",
    "newStackingTrainingSet[\"lgb\"] = lgb_train\n",
    "# newStackingTrainingSet[\"cat\"] = cat_train\n",
    "newStackingTrainingSet[\"xgb\"] = xgb_train\n",
    "\n",
    "newStackingTestSet = pd.DataFrame(columns=[\"lgb\", \"xgb\"])\n",
    "newStackingTestSet[\"lgb\"] = lgb_test\n",
    "# newStackingTestSet[\"cat\"] = cat_test\n",
    "newStackingTestSet[\"xgb\"] = xgb_test\n",
    "\n",
    "xgb_train_final, xgb_test_final = xgb_model(newStackingTrainingSet, y_train, newStackingTestSet)\n",
    "\n",
    "testA_result_pred[\"isDefault\"] = xgb_test_final\n",
    "testA_result_pred.to_csv(\"submissionResults/1129-a_a_a_b_b_a_f_b-lgb_xgb+xgb-????.csv\", index=False) ## "
   ]
  },
  {
   "cell_type": "markdown",
   "metadata": {
    "id": "kaIkI270MzL-"
   },
   "source": [
    "二连3"
   ]
  },
  {
   "cell_type": "code",
   "execution_count": null,
   "metadata": {
    "colab": {
     "base_uri": "https://localhost:8080/"
    },
    "executionInfo": {
     "elapsed": 321225,
     "status": "ok",
     "timestamp": 1606675138880,
     "user": {
      "displayName": "Minke Xiu",
      "photoUrl": "https://lh3.googleusercontent.com/a-/AOh14GiKrlSLM7H0tbRpIYdHPAKnVjaQdF6dZZWD9Jdd=s64",
      "userId": "01913327350585558279"
     },
     "user_tz": 300
    },
    "id": "scXtotjuM2Hs",
    "outputId": "b379d17f-e296-4ae8-bfb4-28612fc7a674"
   },
   "outputs": [
    {
     "name": "stdout",
     "output_type": "stream",
     "text": [
      "************************************ 1 ************************************\n",
      "[0]\ttrain-auc:0.737329\teval-auc:0.73841\n",
      "Multiple eval metrics have been passed: 'eval-auc' will be used for early stopping.\n",
      "\n",
      "Will train until eval-auc hasn't improved in 200 rounds.\n",
      "[200]\ttrain-auc:0.738783\teval-auc:0.739602\n",
      "Stopping. Best iteration:\n",
      "[29]\ttrain-auc:0.7386\teval-auc:0.739739\n",
      "\n",
      "[0.7397392697121947]\n",
      "************************************ 2 ************************************\n",
      "[0]\ttrain-auc:0.738173\teval-auc:0.735127\n",
      "Multiple eval metrics have been passed: 'eval-auc' will be used for early stopping.\n",
      "\n",
      "Will train until eval-auc hasn't improved in 200 rounds.\n",
      "[200]\ttrain-auc:0.739618\teval-auc:0.73633\n",
      "Stopping. Best iteration:\n",
      "[24]\ttrain-auc:0.739422\teval-auc:0.736446\n",
      "\n",
      "[0.7397392697121947, 0.7364457435182439]\n",
      "************************************ 3 ************************************\n",
      "[0]\ttrain-auc:0.737413\teval-auc:0.738178\n",
      "Multiple eval metrics have been passed: 'eval-auc' will be used for early stopping.\n",
      "\n",
      "Will train until eval-auc hasn't improved in 200 rounds.\n",
      "[200]\ttrain-auc:0.738792\teval-auc:0.739519\n",
      "Stopping. Best iteration:\n",
      "[47]\ttrain-auc:0.738607\teval-auc:0.739657\n",
      "\n",
      "[0.7397392697121947, 0.7364457435182439, 0.739657298138128]\n",
      "************************************ 4 ************************************\n",
      "[0]\ttrain-auc:0.737406\teval-auc:0.737589\n",
      "Multiple eval metrics have been passed: 'eval-auc' will be used for early stopping.\n",
      "\n",
      "Will train until eval-auc hasn't improved in 200 rounds.\n",
      "[200]\ttrain-auc:0.739018\teval-auc:0.738665\n",
      "Stopping. Best iteration:\n",
      "[16]\ttrain-auc:0.738782\teval-auc:0.738847\n",
      "\n",
      "[0.7397392697121947, 0.7364457435182439, 0.739657298138128, 0.7388469677739288]\n",
      "************************************ 5 ************************************\n",
      "[0]\ttrain-auc:0.73757\teval-auc:0.737475\n",
      "Multiple eval metrics have been passed: 'eval-auc' will be used for early stopping.\n",
      "\n",
      "Will train until eval-auc hasn't improved in 200 rounds.\n",
      "[200]\ttrain-auc:0.739079\teval-auc:0.738468\n",
      "Stopping. Best iteration:\n",
      "[16]\ttrain-auc:0.738864\teval-auc:0.738629\n",
      "\n",
      "[0.7397392697121947, 0.7364457435182439, 0.739657298138128, 0.7388469677739288, 0.7386292462933519]\n",
      "xgb_scotrainre_list: [0.7397392697121947, 0.7364457435182439, 0.739657298138128, 0.7388469677739288, 0.7386292462933519]\n",
      "xgb_score_mean: 0.7386637050871695\n",
      "xgb_score_std: 0.0011914858417605484\n",
      "what is kf.n_splits? 5\n"
     ]
    }
   ],
   "source": [
    "newStackingTrainingSet = pd.DataFrame(columns=[\"cat\", \"xgb\"])\n",
    "# newStackingTrainingSet[\"lgb\"] = lgb_train\n",
    "newStackingTrainingSet[\"cat\"] = cat_train\n",
    "newStackingTrainingSet[\"xgb\"] = xgb_train\n",
    "\n",
    "newStackingTestSet = pd.DataFrame(columns=[\"cat\", \"xgb\"])\n",
    "# newStackingTestSet[\"lgb\"] = lgb_test\n",
    "newStackingTestSet[\"cat\"] = cat_test\n",
    "newStackingTestSet[\"xgb\"] = xgb_test\n",
    "\n",
    "xgb_train_final, xgb_test_final = xgb_model(newStackingTrainingSet, y_train, newStackingTestSet)\n",
    "\n",
    "testA_result_pred[\"isDefault\"] = xgb_test_final\n",
    "testA_result_pred.to_csv(\"submissionResults/1129-a_a_a_b_b_a_f_b-cat_xgb+xgb-????.csv\", index=False) ## "
   ]
  },
  {
   "cell_type": "markdown",
   "metadata": {
    "id": "kmVWMMJwyzUO"
   },
   "source": [
    "# -------(Recycle bin)-------------"
   ]
  },
  {
   "cell_type": "code",
   "execution_count": null,
   "metadata": {
    "id": "imQT__-Mmnsb"
   },
   "outputs": [],
   "source": [
    "# new_cols = []\n",
    "\n",
    "# for col in numerical_category_manyValues: \n",
    "#     for numFea in object_serial + numerical_serial + [\"isDefault\"]: #half_serials + [\"isDefault\"]: # for numFea in [\"isDefault\"]: \n",
    "#         temp_dict = data_train.groupby([col])[numFea].agg(['mean']).reset_index().rename(columns={'mean': col + '_{}_mean'.format(numFea)})\n",
    "#         temp_dict.index = temp_dict[col].values\n",
    "#         temp_dict = temp_dict[col + '_{}_mean'.format(numFea)].to_dict()\n",
    "#         data_train[col + '_{}_mean'.format(numFea)] = data_train[col].map(temp_dict)\n",
    "#         data_test_a[col + '_{}_mean'.format(numFea)] = data_test_a[col].map(temp_dict)\n",
    "#         new_cols.append(col + '_{}_mean'.format(numFea))"
   ]
  },
  {
   "cell_type": "code",
   "execution_count": null,
   "metadata": {
    "id": "HNM7fDoctckM"
   },
   "outputs": [],
   "source": [
    "# data_train[new_cols].isnull().sum().max()"
   ]
  },
  {
   "cell_type": "code",
   "execution_count": null,
   "metadata": {
    "id": "iYsLd6ZpqSNv"
   },
   "outputs": [],
   "source": [
    "# from sklearn.feature_selection import SelectKBest\n",
    "# from scipy.stats import pearsonr\n",
    "# #选择K个最好的特征，返回选择特征后的数据\n",
    "# #第一个参数为计算评估特征是否好的函数，该函数输入特征矩阵和目标向量，\n",
    "# #输出二元组（评分，P值）的数组，数组第i项为第i个特征的评分和P值。在此定义为计算相关系数\n",
    "# #参数k为选择的特征个数"
   ]
  },
  {
   "cell_type": "code",
   "execution_count": null,
   "metadata": {
    "id": "YYggb1t_rU-c"
   },
   "outputs": [],
   "source": [
    "# def selectNFeatures(numSelectedFeatures, data_train, y_train):\n",
    "\n",
    "#     data_train = data_train.fillna(axis = 1, method = \"ffill\")\n",
    "\n",
    "#     selector = SelectKBest(k=numSelectedFeatures)\n",
    "#     selector.fit(data_train, y_train)\n",
    "#     colNums = selector.get_support(True)\n",
    "#     selectedFeatures = []\n",
    "#     deletedFeatures = []\n",
    "#     for i, col in enumerate(list(data_train.columns)):\n",
    "#         if i in colNums:\n",
    "#             selectedFeatures.append(col)\n",
    "#         else: \n",
    "#             deletedFeatures.append(col)\n",
    "#     # len(selectedFeatures)\n",
    "#     # data_train = data_train[selectedFeatures]\n",
    "#     # data_test_a = data_test_a[selectedFeatures]\n",
    "#     return selectedFeatures, deletedFeatures"
   ]
  },
  {
   "cell_type": "code",
   "execution_count": null,
   "metadata": {
    "id": "Qz0ItDYisG66"
   },
   "outputs": [],
   "source": [
    "# selectedFeatures, deletedFeatures = selectNFeatures(5, data_train[new_cols], data_train[[\"isDefault\"]])"
   ]
  },
  {
   "cell_type": "code",
   "execution_count": null,
   "metadata": {
    "id": "NYC0ZNgJuaRB"
   },
   "outputs": [],
   "source": [
    "# data_train.drop(deletedFeatures, axis = 1, inplace=True)\n",
    "# data_test_a.drop(deletedFeatures, axis = 1, inplace=True)"
   ]
  },
  {
   "cell_type": "code",
   "execution_count": null,
   "metadata": {
    "id": "FBFRzTgiujZC"
   },
   "outputs": [],
   "source": [
    "# data_train.shape"
   ]
  },
  {
   "cell_type": "markdown",
   "metadata": {
    "id": "yVRPP-ssuwhN"
   },
   "source": [
    "-------------------"
   ]
  },
  {
   "cell_type": "code",
   "execution_count": null,
   "metadata": {
    "colab": {
     "base_uri": "https://localhost:8080/",
     "height": 217
    },
    "executionInfo": {
     "elapsed": 546,
     "status": "ok",
     "timestamp": 1606621317519,
     "user": {
      "displayName": "Minke Xiu",
      "photoUrl": "https://lh3.googleusercontent.com/a-/AOh14GiKrlSLM7H0tbRpIYdHPAKnVjaQdF6dZZWD9Jdd=s64",
      "userId": "01913327350585558279"
     },
     "user_tz": 300
    },
    "id": "nLyaD_La75y8",
    "outputId": "d6eef3af-2153-4503-bd28-41422a3d2503"
   },
   "outputs": [
    {
     "data": {
      "text/html": [
       "<div>\n",
       "<style scoped>\n",
       "    .dataframe tbody tr th:only-of-type {\n",
       "        vertical-align: middle;\n",
       "    }\n",
       "\n",
       "    .dataframe tbody tr th {\n",
       "        vertical-align: top;\n",
       "    }\n",
       "\n",
       "    .dataframe thead th {\n",
       "        text-align: right;\n",
       "    }\n",
       "</style>\n",
       "<table border=\"1\" class=\"dataframe\">\n",
       "  <thead>\n",
       "    <tr style=\"text-align: right;\">\n",
       "      <th></th>\n",
       "      <th>loanAmnt</th>\n",
       "      <th>term</th>\n",
       "      <th>interestRate</th>\n",
       "      <th>installment</th>\n",
       "      <th>grade</th>\n",
       "      <th>subGrade</th>\n",
       "      <th>employmentTitle</th>\n",
       "      <th>employmentLength</th>\n",
       "      <th>homeOwnership</th>\n",
       "      <th>annualIncome</th>\n",
       "      <th>verificationStatus</th>\n",
       "      <th>purpose</th>\n",
       "      <th>postCode</th>\n",
       "      <th>regionCode</th>\n",
       "      <th>dti</th>\n",
       "      <th>delinquency_2years</th>\n",
       "      <th>ficoRangeLow</th>\n",
       "      <th>ficoRangeHigh</th>\n",
       "      <th>openAcc</th>\n",
       "      <th>pubRec</th>\n",
       "      <th>pubRecBankruptcies</th>\n",
       "      <th>revolBal</th>\n",
       "      <th>revolUtil</th>\n",
       "      <th>totalAcc</th>\n",
       "      <th>initialListStatus</th>\n",
       "      <th>applicationType</th>\n",
       "      <th>title</th>\n",
       "      <th>n0</th>\n",
       "      <th>n1</th>\n",
       "      <th>n2</th>\n",
       "      <th>n3</th>\n",
       "      <th>n4</th>\n",
       "      <th>n5</th>\n",
       "      <th>n6</th>\n",
       "      <th>n7</th>\n",
       "      <th>n8</th>\n",
       "      <th>n9</th>\n",
       "      <th>n10</th>\n",
       "      <th>n11</th>\n",
       "      <th>n12</th>\n",
       "      <th>n13</th>\n",
       "      <th>n14</th>\n",
       "      <th>issueYear</th>\n",
       "      <th>issueMonth</th>\n",
       "      <th>earliesCreditLineYear</th>\n",
       "      <th>earliesCreditLineMonth</th>\n",
       "      <th>issueDateDT</th>\n",
       "      <th>earliesCreditLineDT</th>\n",
       "      <th>grade_target_mean</th>\n",
       "      <th>subGrade_target_mean</th>\n",
       "      <th>grade_to_mean_n0</th>\n",
       "      <th>grade_to_std_n0</th>\n",
       "      <th>grade_to_mean_n1</th>\n",
       "      <th>grade_to_std_n1</th>\n",
       "      <th>grade_to_mean_n2</th>\n",
       "      <th>grade_to_std_n2</th>\n",
       "      <th>grade_to_mean_n3</th>\n",
       "      <th>grade_to_std_n3</th>\n",
       "      <th>grade_to_mean_n4</th>\n",
       "      <th>grade_to_std_n4</th>\n",
       "      <th>grade_to_mean_n5</th>\n",
       "      <th>grade_to_std_n5</th>\n",
       "      <th>grade_to_mean_n6</th>\n",
       "      <th>grade_to_std_n6</th>\n",
       "      <th>grade_to_mean_n7</th>\n",
       "      <th>grade_to_std_n7</th>\n",
       "      <th>grade_to_mean_n8</th>\n",
       "      <th>grade_to_std_n8</th>\n",
       "      <th>grade_to_mean_n9</th>\n",
       "      <th>grade_to_std_n9</th>\n",
       "      <th>grade_to_mean_n10</th>\n",
       "      <th>grade_to_std_n10</th>\n",
       "      <th>grade_to_mean_n11</th>\n",
       "      <th>grade_to_std_n11</th>\n",
       "      <th>grade_to_mean_n12</th>\n",
       "      <th>grade_to_std_n12</th>\n",
       "      <th>grade_to_mean_n13</th>\n",
       "      <th>grade_to_std_n13</th>\n",
       "      <th>grade_to_mean_n14</th>\n",
       "      <th>grade_to_std_n14</th>\n",
       "    </tr>\n",
       "  </thead>\n",
       "  <tbody>\n",
       "    <tr>\n",
       "      <th>0</th>\n",
       "      <td>35000.0</td>\n",
       "      <td>5</td>\n",
       "      <td>19.52</td>\n",
       "      <td>917.97</td>\n",
       "      <td>4</td>\n",
       "      <td>21</td>\n",
       "      <td>320.0</td>\n",
       "      <td>2.0</td>\n",
       "      <td>2</td>\n",
       "      <td>110000.0</td>\n",
       "      <td>2</td>\n",
       "      <td>1</td>\n",
       "      <td>137.0</td>\n",
       "      <td>32</td>\n",
       "      <td>17.05</td>\n",
       "      <td>1</td>\n",
       "      <td>730.0</td>\n",
       "      <td>734.0</td>\n",
       "      <td>7.0</td>\n",
       "      <td>0.0</td>\n",
       "      <td>0.0</td>\n",
       "      <td>24178.0</td>\n",
       "      <td>48.9</td>\n",
       "      <td>27.0</td>\n",
       "      <td>0</td>\n",
       "      <td>0</td>\n",
       "      <td>1.0</td>\n",
       "      <td>1</td>\n",
       "      <td>2.0</td>\n",
       "      <td>2.0</td>\n",
       "      <td>2.0</td>\n",
       "      <td>4.0</td>\n",
       "      <td>9.0</td>\n",
       "      <td>3</td>\n",
       "      <td>4.0</td>\n",
       "      <td>12.0</td>\n",
       "      <td>2.0</td>\n",
       "      <td>7.0</td>\n",
       "      <td>0.0</td>\n",
       "      <td>0.0</td>\n",
       "      <td>0.0</td>\n",
       "      <td>2.0</td>\n",
       "      <td>2014</td>\n",
       "      <td>7</td>\n",
       "      <td>2001</td>\n",
       "      <td>8</td>\n",
       "      <td>2587</td>\n",
       "      <td>-2130</td>\n",
       "      <td>0.384291</td>\n",
       "      <td>0.376903</td>\n",
       "      <td>2.342075</td>\n",
       "      <td>3.088858</td>\n",
       "      <td>2.340208</td>\n",
       "      <td>3.132197</td>\n",
       "      <td>2.483341</td>\n",
       "      <td>3.090070</td>\n",
       "      <td>2.483341</td>\n",
       "      <td>3.090070</td>\n",
       "      <td>2.290512</td>\n",
       "      <td>3.122960</td>\n",
       "      <td>2.361338</td>\n",
       "      <td>3.124309</td>\n",
       "      <td>2.307407</td>\n",
       "      <td>3.131416</td>\n",
       "      <td>2.272681</td>\n",
       "      <td>3.148661</td>\n",
       "      <td>2.293558</td>\n",
       "      <td>3.124742</td>\n",
       "      <td>2.476104</td>\n",
       "      <td>3.091823</td>\n",
       "      <td>2.290444</td>\n",
       "      <td>3.184266</td>\n",
       "      <td>2.290364</td>\n",
       "      <td>3.092694</td>\n",
       "      <td>2.279907</td>\n",
       "      <td>3.100432</td>\n",
       "      <td>2.294389</td>\n",
       "      <td>3.094492</td>\n",
       "      <td>2.290853</td>\n",
       "      <td>3.168627</td>\n",
       "    </tr>\n",
       "    <tr>\n",
       "      <th>1</th>\n",
       "      <td>18000.0</td>\n",
       "      <td>5</td>\n",
       "      <td>18.49</td>\n",
       "      <td>461.90</td>\n",
       "      <td>3</td>\n",
       "      <td>16</td>\n",
       "      <td>219843.0</td>\n",
       "      <td>5.0</td>\n",
       "      <td>0</td>\n",
       "      <td>46000.0</td>\n",
       "      <td>2</td>\n",
       "      <td>0</td>\n",
       "      <td>156.0</td>\n",
       "      <td>18</td>\n",
       "      <td>27.83</td>\n",
       "      <td>1</td>\n",
       "      <td>700.0</td>\n",
       "      <td>704.0</td>\n",
       "      <td>13.0</td>\n",
       "      <td>0.0</td>\n",
       "      <td>0.0</td>\n",
       "      <td>15096.0</td>\n",
       "      <td>38.9</td>\n",
       "      <td>18.0</td>\n",
       "      <td>1</td>\n",
       "      <td>0</td>\n",
       "      <td>1723.0</td>\n",
       "      <td>10</td>\n",
       "      <td>NaN</td>\n",
       "      <td>NaN</td>\n",
       "      <td>NaN</td>\n",
       "      <td>10.0</td>\n",
       "      <td>NaN</td>\n",
       "      <td>10</td>\n",
       "      <td>NaN</td>\n",
       "      <td>NaN</td>\n",
       "      <td>NaN</td>\n",
       "      <td>13.0</td>\n",
       "      <td>NaN</td>\n",
       "      <td>NaN</td>\n",
       "      <td>NaN</td>\n",
       "      <td>NaN</td>\n",
       "      <td>2012</td>\n",
       "      <td>8</td>\n",
       "      <td>2002</td>\n",
       "      <td>5</td>\n",
       "      <td>1888</td>\n",
       "      <td>-1857</td>\n",
       "      <td>0.303852</td>\n",
       "      <td>0.297572</td>\n",
       "      <td>1.932132</td>\n",
       "      <td>2.218701</td>\n",
       "      <td>NaN</td>\n",
       "      <td>NaN</td>\n",
       "      <td>NaN</td>\n",
       "      <td>NaN</td>\n",
       "      <td>NaN</td>\n",
       "      <td>NaN</td>\n",
       "      <td>1.799617</td>\n",
       "      <td>2.244387</td>\n",
       "      <td>NaN</td>\n",
       "      <td>NaN</td>\n",
       "      <td>1.930988</td>\n",
       "      <td>2.218109</td>\n",
       "      <td>NaN</td>\n",
       "      <td>NaN</td>\n",
       "      <td>NaN</td>\n",
       "      <td>NaN</td>\n",
       "      <td>NaN</td>\n",
       "      <td>NaN</td>\n",
       "      <td>1.721298</td>\n",
       "      <td>2.303035</td>\n",
       "      <td>NaN</td>\n",
       "      <td>NaN</td>\n",
       "      <td>NaN</td>\n",
       "      <td>NaN</td>\n",
       "      <td>NaN</td>\n",
       "      <td>NaN</td>\n",
       "      <td>NaN</td>\n",
       "      <td>NaN</td>\n",
       "    </tr>\n",
       "    <tr>\n",
       "      <th>2</th>\n",
       "      <td>12000.0</td>\n",
       "      <td>5</td>\n",
       "      <td>16.99</td>\n",
       "      <td>298.17</td>\n",
       "      <td>3</td>\n",
       "      <td>17</td>\n",
       "      <td>31698.0</td>\n",
       "      <td>8.0</td>\n",
       "      <td>0</td>\n",
       "      <td>74000.0</td>\n",
       "      <td>2</td>\n",
       "      <td>0</td>\n",
       "      <td>337.0</td>\n",
       "      <td>14</td>\n",
       "      <td>22.77</td>\n",
       "      <td>1</td>\n",
       "      <td>675.0</td>\n",
       "      <td>679.0</td>\n",
       "      <td>11.0</td>\n",
       "      <td>0.0</td>\n",
       "      <td>0.0</td>\n",
       "      <td>4606.0</td>\n",
       "      <td>51.8</td>\n",
       "      <td>27.0</td>\n",
       "      <td>0</td>\n",
       "      <td>0</td>\n",
       "      <td>0.0</td>\n",
       "      <td>1</td>\n",
       "      <td>0.0</td>\n",
       "      <td>3.0</td>\n",
       "      <td>3.0</td>\n",
       "      <td>0.0</td>\n",
       "      <td>0.0</td>\n",
       "      <td>5</td>\n",
       "      <td>4.0</td>\n",
       "      <td>5.0</td>\n",
       "      <td>3.0</td>\n",
       "      <td>11.0</td>\n",
       "      <td>0.0</td>\n",
       "      <td>0.0</td>\n",
       "      <td>0.0</td>\n",
       "      <td>4.0</td>\n",
       "      <td>2015</td>\n",
       "      <td>10</td>\n",
       "      <td>2006</td>\n",
       "      <td>5</td>\n",
       "      <td>3044</td>\n",
       "      <td>-396</td>\n",
       "      <td>0.303852</td>\n",
       "      <td>0.304015</td>\n",
       "      <td>1.756556</td>\n",
       "      <td>2.316643</td>\n",
       "      <td>1.529430</td>\n",
       "      <td>2.161567</td>\n",
       "      <td>1.816601</td>\n",
       "      <td>2.341786</td>\n",
       "      <td>1.816601</td>\n",
       "      <td>2.341786</td>\n",
       "      <td>1.366029</td>\n",
       "      <td>2.233178</td>\n",
       "      <td>1.197880</td>\n",
       "      <td>2.284330</td>\n",
       "      <td>1.678801</td>\n",
       "      <td>2.262293</td>\n",
       "      <td>1.704511</td>\n",
       "      <td>2.361495</td>\n",
       "      <td>1.577005</td>\n",
       "      <td>2.332637</td>\n",
       "      <td>1.813296</td>\n",
       "      <td>2.344317</td>\n",
       "      <td>1.707234</td>\n",
       "      <td>2.308753</td>\n",
       "      <td>1.717773</td>\n",
       "      <td>2.319520</td>\n",
       "      <td>1.709930</td>\n",
       "      <td>2.325324</td>\n",
       "      <td>1.720792</td>\n",
       "      <td>2.320869</td>\n",
       "      <td>1.444127</td>\n",
       "      <td>2.264665</td>\n",
       "    </tr>\n",
       "    <tr>\n",
       "      <th>3</th>\n",
       "      <td>11000.0</td>\n",
       "      <td>3</td>\n",
       "      <td>7.26</td>\n",
       "      <td>340.96</td>\n",
       "      <td>0</td>\n",
       "      <td>3</td>\n",
       "      <td>46854.0</td>\n",
       "      <td>10.0</td>\n",
       "      <td>1</td>\n",
       "      <td>118000.0</td>\n",
       "      <td>1</td>\n",
       "      <td>4</td>\n",
       "      <td>148.0</td>\n",
       "      <td>11</td>\n",
       "      <td>17.21</td>\n",
       "      <td>1</td>\n",
       "      <td>685.0</td>\n",
       "      <td>689.0</td>\n",
       "      <td>9.0</td>\n",
       "      <td>0.0</td>\n",
       "      <td>0.0</td>\n",
       "      <td>9948.0</td>\n",
       "      <td>52.6</td>\n",
       "      <td>28.0</td>\n",
       "      <td>1</td>\n",
       "      <td>0</td>\n",
       "      <td>4.0</td>\n",
       "      <td>4</td>\n",
       "      <td>4.0</td>\n",
       "      <td>6.0</td>\n",
       "      <td>6.0</td>\n",
       "      <td>4.0</td>\n",
       "      <td>16.0</td>\n",
       "      <td>3</td>\n",
       "      <td>7.0</td>\n",
       "      <td>21.0</td>\n",
       "      <td>6.0</td>\n",
       "      <td>9.0</td>\n",
       "      <td>0.0</td>\n",
       "      <td>0.0</td>\n",
       "      <td>0.0</td>\n",
       "      <td>1.0</td>\n",
       "      <td>2015</td>\n",
       "      <td>8</td>\n",
       "      <td>1999</td>\n",
       "      <td>5</td>\n",
       "      <td>2983</td>\n",
       "      <td>-2953</td>\n",
       "      <td>0.060375</td>\n",
       "      <td>0.067221</td>\n",
       "      <td>0.000000</td>\n",
       "      <td>0.000000</td>\n",
       "      <td>0.000000</td>\n",
       "      <td>0.000000</td>\n",
       "      <td>0.000000</td>\n",
       "      <td>0.000000</td>\n",
       "      <td>0.000000</td>\n",
       "      <td>0.000000</td>\n",
       "      <td>0.000000</td>\n",
       "      <td>0.000000</td>\n",
       "      <td>0.000000</td>\n",
       "      <td>0.000000</td>\n",
       "      <td>0.000000</td>\n",
       "      <td>0.000000</td>\n",
       "      <td>0.000000</td>\n",
       "      <td>0.000000</td>\n",
       "      <td>0.000000</td>\n",
       "      <td>0.000000</td>\n",
       "      <td>0.000000</td>\n",
       "      <td>0.000000</td>\n",
       "      <td>0.000000</td>\n",
       "      <td>0.000000</td>\n",
       "      <td>0.000000</td>\n",
       "      <td>0.000000</td>\n",
       "      <td>0.000000</td>\n",
       "      <td>0.000000</td>\n",
       "      <td>0.000000</td>\n",
       "      <td>0.000000</td>\n",
       "      <td>0.000000</td>\n",
       "      <td>0.000000</td>\n",
       "    </tr>\n",
       "    <tr>\n",
       "      <th>4</th>\n",
       "      <td>3000.0</td>\n",
       "      <td>3</td>\n",
       "      <td>12.99</td>\n",
       "      <td>101.07</td>\n",
       "      <td>2</td>\n",
       "      <td>11</td>\n",
       "      <td>54.0</td>\n",
       "      <td>NaN</td>\n",
       "      <td>1</td>\n",
       "      <td>29000.0</td>\n",
       "      <td>2</td>\n",
       "      <td>10</td>\n",
       "      <td>301.0</td>\n",
       "      <td>21</td>\n",
       "      <td>32.16</td>\n",
       "      <td>1</td>\n",
       "      <td>690.0</td>\n",
       "      <td>694.0</td>\n",
       "      <td>12.0</td>\n",
       "      <td>0.0</td>\n",
       "      <td>0.0</td>\n",
       "      <td>2942.0</td>\n",
       "      <td>32.0</td>\n",
       "      <td>27.0</td>\n",
       "      <td>0</td>\n",
       "      <td>0</td>\n",
       "      <td>11.0</td>\n",
       "      <td>2</td>\n",
       "      <td>2.0</td>\n",
       "      <td>7.0</td>\n",
       "      <td>7.0</td>\n",
       "      <td>2.0</td>\n",
       "      <td>4.0</td>\n",
       "      <td>4</td>\n",
       "      <td>10.0</td>\n",
       "      <td>15.0</td>\n",
       "      <td>7.0</td>\n",
       "      <td>12.0</td>\n",
       "      <td>0.0</td>\n",
       "      <td>0.0</td>\n",
       "      <td>0.0</td>\n",
       "      <td>4.0</td>\n",
       "      <td>2016</td>\n",
       "      <td>3</td>\n",
       "      <td>1977</td>\n",
       "      <td>8</td>\n",
       "      <td>3196</td>\n",
       "      <td>-10896</td>\n",
       "      <td>0.225020</td>\n",
       "      <td>0.206892</td>\n",
       "      <td>1.054598</td>\n",
       "      <td>1.575441</td>\n",
       "      <td>1.170104</td>\n",
       "      <td>1.566099</td>\n",
       "      <td>1.101956</td>\n",
       "      <td>1.569043</td>\n",
       "      <td>1.101956</td>\n",
       "      <td>1.569043</td>\n",
       "      <td>1.096810</td>\n",
       "      <td>1.571810</td>\n",
       "      <td>1.075744</td>\n",
       "      <td>1.566738</td>\n",
       "      <td>1.139659</td>\n",
       "      <td>1.525187</td>\n",
       "      <td>1.142249</td>\n",
       "      <td>1.541740</td>\n",
       "      <td>1.163517</td>\n",
       "      <td>1.554608</td>\n",
       "      <td>1.103551</td>\n",
       "      <td>1.566999</td>\n",
       "      <td>1.143978</td>\n",
       "      <td>1.543316</td>\n",
       "      <td>1.145182</td>\n",
       "      <td>1.546347</td>\n",
       "      <td>1.139954</td>\n",
       "      <td>1.550216</td>\n",
       "      <td>1.147194</td>\n",
       "      <td>1.547246</td>\n",
       "      <td>0.962751</td>\n",
       "      <td>1.509776</td>\n",
       "    </tr>\n",
       "  </tbody>\n",
       "</table>\n",
       "</div>"
      ],
      "text/plain": [
       "   loanAmnt  term  ...  grade_to_mean_n14  grade_to_std_n14\n",
       "0   35000.0     5  ...           2.290853          3.168627\n",
       "1   18000.0     5  ...                NaN               NaN\n",
       "2   12000.0     5  ...           1.444127          2.264665\n",
       "3   11000.0     3  ...           0.000000          0.000000\n",
       "4    3000.0     3  ...           0.962751          1.509776\n",
       "\n",
       "[5 rows x 80 columns]"
      ]
     },
     "execution_count": 28,
     "metadata": {
      "tags": []
     },
     "output_type": "execute_result"
    }
   ],
   "source": [
    "x_train.head()"
   ]
  },
  {
   "cell_type": "code",
   "execution_count": null,
   "metadata": {
    "colab": {
     "base_uri": "https://localhost:8080/"
    },
    "executionInfo": {
     "elapsed": 765,
     "status": "ok",
     "timestamp": 1606623764354,
     "user": {
      "displayName": "Minke Xiu",
      "photoUrl": "https://lh3.googleusercontent.com/a-/AOh14GiKrlSLM7H0tbRpIYdHPAKnVjaQdF6dZZWD9Jdd=s64",
      "userId": "01913327350585558279"
     },
     "user_tz": 300
    },
    "id": "Mt9UkyMj75y8",
    "outputId": "d1e8ae2d-3555-48dd-bf91-c17559ff057f"
   },
   "outputs": [
    {
     "data": {
      "text/plain": [
       "(800000, 80)"
      ]
     },
     "execution_count": 27,
     "metadata": {
      "tags": []
     },
     "output_type": "execute_result"
    }
   ],
   "source": [
    "x_train.shape"
   ]
  },
  {
   "cell_type": "code",
   "execution_count": null,
   "metadata": {
    "colab": {
     "base_uri": "https://localhost:8080/"
    },
    "executionInfo": {
     "elapsed": 490,
     "status": "ok",
     "timestamp": 1606623765834,
     "user": {
      "displayName": "Minke Xiu",
      "photoUrl": "https://lh3.googleusercontent.com/a-/AOh14GiKrlSLM7H0tbRpIYdHPAKnVjaQdF6dZZWD9Jdd=s64",
      "userId": "01913327350585558279"
     },
     "user_tz": 300
    },
    "id": "Je1lLn_r9b9J",
    "outputId": "4a26de47-0b34-48d8-f64a-ec2fd65be400"
   },
   "outputs": [
    {
     "data": {
      "text/plain": [
       "(200000, 80)"
      ]
     },
     "execution_count": 28,
     "metadata": {
      "tags": []
     },
     "output_type": "execute_result"
    }
   ],
   "source": [
    "x_test.shape"
   ]
  },
  {
   "cell_type": "code",
   "execution_count": null,
   "metadata": {
    "id": "Bpow4Rnz75y9"
   },
   "outputs": [],
   "source": [
    "# x_train.isnull().sum()"
   ]
  },
  {
   "cell_type": "code",
   "execution_count": null,
   "metadata": {
    "id": "Gtz0yVpc75y9"
   },
   "outputs": [],
   "source": [
    "# x_train = x_train.fillna(axis = 0, method = \"ffill\")\n",
    "# x_test = x_test.fillna(axis = 0, method = \"ffill\")"
   ]
  },
  {
   "cell_type": "code",
   "execution_count": null,
   "metadata": {
    "id": "UK76uXtb75y9"
   },
   "outputs": [],
   "source": [
    "x_train.to_csv(\"preprocessedData/x_train-1110-3.7-1.csv\", index=False)\n",
    "x_test.to_csv(\"preprocessedData/x_test-1110-3.7-1.csv\", index=False)\n",
    "y_train.to_csv(\"preprocessedData/y_train-1110-3.7-1.csv\", index=False)"
   ]
  },
  {
   "cell_type": "markdown",
   "metadata": {
    "id": "hwNUPMYNh6UC"
   },
   "source": [
    "## Optimize the memory size of the dataset\n",
    "\n",
    "No need to do this here. It is useless. \n",
    "\n",
    "You need to do it after you load the data for training model. So you have to use this method in other notebooks. "
   ]
  },
  {
   "cell_type": "code",
   "execution_count": null,
   "metadata": {
    "id": "c86XITW4h6UD"
   },
   "outputs": [],
   "source": [
    "# reduce_mem_usage 函数通过调整数据类型，帮助我们减少数据在内存中占用的空间\n",
    "def reduce_mem_usage(df):\n",
    "    \"\"\" iterate through all the columns of a dataframe and modify the data type\n",
    "        to reduce memory usage.        \n",
    "    \"\"\"\n",
    "    start_mem = df.memory_usage().sum() \n",
    "    print('Memory usage of dataframe is {:.2f} MB'.format(start_mem))\n",
    "    \n",
    "    for col in df.columns:\n",
    "        col_type = df[col].dtype\n",
    "        \n",
    "        if col_type != object:\n",
    "            c_min = df[col].min()\n",
    "            c_max = df[col].max()\n",
    "            if str(col_type)[:3] == 'int':\n",
    "                if c_min > np.iinfo(np.int8).min and c_max < np.iinfo(np.int8).max:\n",
    "                    df[col] = df[col].astype(np.int8)\n",
    "                elif c_min > np.iinfo(np.int16).min and c_max < np.iinfo(np.int16).max:\n",
    "                    df[col] = df[col].astype(np.int16)\n",
    "                elif c_min > np.iinfo(np.int32).min and c_max < np.iinfo(np.int32).max:\n",
    "                    df[col] = df[col].astype(np.int32)\n",
    "                elif c_min > np.iinfo(np.int64).min and c_max < np.iinfo(np.int64).max:\n",
    "                    df[col] = df[col].astype(np.int64)  \n",
    "            else:\n",
    "                if c_min > np.finfo(np.float16).min and c_max < np.finfo(np.float16).max:\n",
    "                    df[col] = df[col].astype(np.float16)\n",
    "                elif c_min > np.finfo(np.float32).min and c_max < np.finfo(np.float32).max:\n",
    "                    df[col] = df[col].astype(np.float32)\n",
    "                else:\n",
    "                    df[col] = df[col].astype(np.float64)\n",
    "        else:\n",
    "            df[col] = df[col].astype('category')\n",
    "\n",
    "    end_mem = df.memory_usage().sum() \n",
    "    print('Memory usage after optimization is: {:.2f} MB'.format(end_mem))\n",
    "    print('Decreased by {:.1f}%'.format(100 * (start_mem - end_mem) / start_mem))\n",
    "    return df"
   ]
  },
  {
   "cell_type": "code",
   "execution_count": null,
   "metadata": {
    "id": "qCTRhPGEh6UE"
   },
   "outputs": [],
   "source": [
    "# x_train_small = reduce_mem_usage(x_train)\n",
    "# x_test_small = reduce_mem_usage(x_test)"
   ]
  },
  {
   "cell_type": "markdown",
   "metadata": {
    "id": "6JyBck_410PY"
   },
   "source": [
    "## Change the distribution of the data"
   ]
  },
  {
   "cell_type": "code",
   "execution_count": null,
   "metadata": {
    "id": "o3sGaKAoEUr9"
   },
   "outputs": [],
   "source": [
    "x_train_cp1 = x_train.copy()\n",
    "x_test_cp1 = x_test.copy()"
   ]
  },
  {
   "cell_type": "code",
   "execution_count": null,
   "metadata": {
    "id": "dCo67QQGIia4"
   },
   "outputs": [],
   "source": [
    "x_train = x_train_cp1.copy()\n",
    "x_test = x_test.copy()"
   ]
  },
  {
   "cell_type": "markdown",
   "metadata": {
    "id": "8ffAB5HC14Pf"
   },
   "source": [
    "### Log all of the numerical data"
   ]
  },
  {
   "cell_type": "code",
   "execution_count": null,
   "metadata": {
    "id": "A0GUIDpG13wO"
   },
   "outputs": [],
   "source": [
    "for data in [x_train, x_test]:\n",
    "    for fea in numerical_serial_fea:\n",
    "        if fea in [\"id\", \"purpose\", \"regionCode\"]: ## 这几个, 没法进行log操作.\n",
    "            continue\n",
    "        data[fea] = data[fea].apply(np.log1p)"
   ]
  },
  {
   "cell_type": "code",
   "execution_count": null,
   "metadata": {
    "colab": {
     "base_uri": "https://localhost:8080/",
     "height": 251
    },
    "executionInfo": {
     "elapsed": 364,
     "status": "ok",
     "timestamp": 1604608760419,
     "user": {
      "displayName": "Minke Xiu",
      "photoUrl": "https://lh3.googleusercontent.com/a-/AOh14GiKrlSLM7H0tbRpIYdHPAKnVjaQdF6dZZWD9Jdd=s64",
      "userId": "01913327350585558279"
     },
     "user_tz": 300
    },
    "id": "6f5sWi8fHcF0",
    "outputId": "a0892e9e-2eb5-41eb-94fd-b142145f0fbb"
   },
   "outputs": [
    {
     "data": {
      "text/html": [
       "<div>\n",
       "<style scoped>\n",
       "    .dataframe tbody tr th:only-of-type {\n",
       "        vertical-align: middle;\n",
       "    }\n",
       "\n",
       "    .dataframe tbody tr th {\n",
       "        vertical-align: top;\n",
       "    }\n",
       "\n",
       "    .dataframe thead th {\n",
       "        text-align: right;\n",
       "    }\n",
       "</style>\n",
       "<table border=\"1\" class=\"dataframe\">\n",
       "  <thead>\n",
       "    <tr style=\"text-align: right;\">\n",
       "      <th></th>\n",
       "      <th>loanAmnt</th>\n",
       "      <th>term</th>\n",
       "      <th>interestRate</th>\n",
       "      <th>installment</th>\n",
       "      <th>grade</th>\n",
       "      <th>subGrade</th>\n",
       "      <th>employmentTitle</th>\n",
       "      <th>employmentLength</th>\n",
       "      <th>annualIncome</th>\n",
       "      <th>postCode</th>\n",
       "      <th>dti</th>\n",
       "      <th>delinquency_2years</th>\n",
       "      <th>ficoRangeLow</th>\n",
       "      <th>ficoRangeHigh</th>\n",
       "      <th>openAcc</th>\n",
       "      <th>pubRec</th>\n",
       "      <th>pubRecBankruptcies</th>\n",
       "      <th>revolBal</th>\n",
       "      <th>revolUtil</th>\n",
       "      <th>totalAcc</th>\n",
       "      <th>initialListStatus</th>\n",
       "      <th>applicationType</th>\n",
       "      <th>title</th>\n",
       "      <th>policyCode</th>\n",
       "      <th>n0</th>\n",
       "      <th>n1</th>\n",
       "      <th>n2</th>\n",
       "      <th>n3</th>\n",
       "      <th>n4</th>\n",
       "      <th>n5</th>\n",
       "      <th>n6</th>\n",
       "      <th>n7</th>\n",
       "      <th>n8</th>\n",
       "      <th>n9</th>\n",
       "      <th>n10</th>\n",
       "      <th>n11</th>\n",
       "      <th>n12</th>\n",
       "      <th>n13</th>\n",
       "      <th>n14</th>\n",
       "      <th>issueDateDT</th>\n",
       "      <th>...</th>\n",
       "      <th>regionCode_43</th>\n",
       "      <th>regionCode_44</th>\n",
       "      <th>regionCode_45</th>\n",
       "      <th>regionCode_46</th>\n",
       "      <th>regionCode_47</th>\n",
       "      <th>regionCode_48</th>\n",
       "      <th>regionCode_49</th>\n",
       "      <th>regionCode_50</th>\n",
       "      <th>grade_target_mean</th>\n",
       "      <th>subGrade_target_mean</th>\n",
       "      <th>grade_to_mean_n0</th>\n",
       "      <th>grade_to_std_n0</th>\n",
       "      <th>grade_to_mean_n1</th>\n",
       "      <th>grade_to_std_n1</th>\n",
       "      <th>grade_to_mean_n2</th>\n",
       "      <th>grade_to_std_n2</th>\n",
       "      <th>grade_to_mean_n3</th>\n",
       "      <th>grade_to_std_n3</th>\n",
       "      <th>grade_to_mean_n4</th>\n",
       "      <th>grade_to_std_n4</th>\n",
       "      <th>grade_to_mean_n5</th>\n",
       "      <th>grade_to_std_n5</th>\n",
       "      <th>grade_to_mean_n6</th>\n",
       "      <th>grade_to_std_n6</th>\n",
       "      <th>grade_to_mean_n7</th>\n",
       "      <th>grade_to_std_n7</th>\n",
       "      <th>grade_to_mean_n8</th>\n",
       "      <th>grade_to_std_n8</th>\n",
       "      <th>grade_to_mean_n9</th>\n",
       "      <th>grade_to_std_n9</th>\n",
       "      <th>grade_to_mean_n10</th>\n",
       "      <th>grade_to_std_n10</th>\n",
       "      <th>grade_to_mean_n11</th>\n",
       "      <th>grade_to_std_n11</th>\n",
       "      <th>grade_to_mean_n12</th>\n",
       "      <th>grade_to_std_n12</th>\n",
       "      <th>grade_to_mean_n13</th>\n",
       "      <th>grade_to_std_n13</th>\n",
       "      <th>grade_to_mean_n14</th>\n",
       "      <th>grade_to_std_n14</th>\n",
       "    </tr>\n",
       "  </thead>\n",
       "  <tbody>\n",
       "    <tr>\n",
       "      <th>0</th>\n",
       "      <td>10.463132</td>\n",
       "      <td>5</td>\n",
       "      <td>3.021400</td>\n",
       "      <td>6.823253</td>\n",
       "      <td>4</td>\n",
       "      <td>21</td>\n",
       "      <td>12.165391</td>\n",
       "      <td>1.098612</td>\n",
       "      <td>11.608245</td>\n",
       "      <td>3.806662</td>\n",
       "      <td>2.893146</td>\n",
       "      <td>0.0</td>\n",
       "      <td>6.594413</td>\n",
       "      <td>6.599870</td>\n",
       "      <td>2.079442</td>\n",
       "      <td>0.0</td>\n",
       "      <td>0.0</td>\n",
       "      <td>10.093240</td>\n",
       "      <td>3.910021</td>\n",
       "      <td>3.332205</td>\n",
       "      <td>0</td>\n",
       "      <td>0</td>\n",
       "      <td>1.098612</td>\n",
       "      <td>1.0</td>\n",
       "      <td>0.000000</td>\n",
       "      <td>1.098612</td>\n",
       "      <td>1.098612</td>\n",
       "      <td>1.098612</td>\n",
       "      <td>1.609438</td>\n",
       "      <td>2.302585</td>\n",
       "      <td>2.197225</td>\n",
       "      <td>1.609438</td>\n",
       "      <td>2.564949</td>\n",
       "      <td>1.098612</td>\n",
       "      <td>2.079442</td>\n",
       "      <td>0.0</td>\n",
       "      <td>0.0</td>\n",
       "      <td>0.000000e+00</td>\n",
       "      <td>1.098612</td>\n",
       "      <td>2587</td>\n",
       "      <td>...</td>\n",
       "      <td>0</td>\n",
       "      <td>0</td>\n",
       "      <td>0</td>\n",
       "      <td>0</td>\n",
       "      <td>0</td>\n",
       "      <td>0</td>\n",
       "      <td>0</td>\n",
       "      <td>0</td>\n",
       "      <td>0.384291</td>\n",
       "      <td>0.376903</td>\n",
       "      <td>2.343157</td>\n",
       "      <td>3.087470</td>\n",
       "      <td>2.340208</td>\n",
       "      <td>3.132197</td>\n",
       "      <td>2.483341</td>\n",
       "      <td>3.090070</td>\n",
       "      <td>2.483341</td>\n",
       "      <td>3.090070</td>\n",
       "      <td>2.290512</td>\n",
       "      <td>3.122960</td>\n",
       "      <td>2.361338</td>\n",
       "      <td>3.124309</td>\n",
       "      <td>2.321539</td>\n",
       "      <td>3.098429</td>\n",
       "      <td>2.272681</td>\n",
       "      <td>3.148661</td>\n",
       "      <td>2.293558</td>\n",
       "      <td>3.124742</td>\n",
       "      <td>2.476104</td>\n",
       "      <td>3.091823</td>\n",
       "      <td>2.290444</td>\n",
       "      <td>3.184266</td>\n",
       "      <td>2.291804</td>\n",
       "      <td>3.090643</td>\n",
       "      <td>2.292831</td>\n",
       "      <td>3.091214</td>\n",
       "      <td>2.302359</td>\n",
       "      <td>3.088676</td>\n",
       "      <td>2.290853</td>\n",
       "      <td>3.168627</td>\n",
       "    </tr>\n",
       "    <tr>\n",
       "      <th>1</th>\n",
       "      <td>9.798183</td>\n",
       "      <td>5</td>\n",
       "      <td>2.969902</td>\n",
       "      <td>6.137511</td>\n",
       "      <td>3</td>\n",
       "      <td>16</td>\n",
       "      <td>11.559189</td>\n",
       "      <td>1.791759</td>\n",
       "      <td>10.736418</td>\n",
       "      <td>4.189655</td>\n",
       "      <td>3.361417</td>\n",
       "      <td>0.0</td>\n",
       "      <td>6.552508</td>\n",
       "      <td>6.558198</td>\n",
       "      <td>2.639057</td>\n",
       "      <td>0.0</td>\n",
       "      <td>0.0</td>\n",
       "      <td>9.622251</td>\n",
       "      <td>3.686376</td>\n",
       "      <td>2.944439</td>\n",
       "      <td>1</td>\n",
       "      <td>0</td>\n",
       "      <td>8.752740</td>\n",
       "      <td>1.0</td>\n",
       "      <td>NaN</td>\n",
       "      <td>NaN</td>\n",
       "      <td>1.575551</td>\n",
       "      <td>1.575551</td>\n",
       "      <td>2.397895</td>\n",
       "      <td>NaN</td>\n",
       "      <td>2.803331</td>\n",
       "      <td>2.564964</td>\n",
       "      <td>NaN</td>\n",
       "      <td>1.575551</td>\n",
       "      <td>2.639057</td>\n",
       "      <td>0.0</td>\n",
       "      <td>0.0</td>\n",
       "      <td>1.171916e-16</td>\n",
       "      <td>2.917780</td>\n",
       "      <td>1888</td>\n",
       "      <td>...</td>\n",
       "      <td>0</td>\n",
       "      <td>0</td>\n",
       "      <td>0</td>\n",
       "      <td>0</td>\n",
       "      <td>0</td>\n",
       "      <td>0</td>\n",
       "      <td>0</td>\n",
       "      <td>0</td>\n",
       "      <td>0.303852</td>\n",
       "      <td>0.297572</td>\n",
       "      <td>1.000000</td>\n",
       "      <td>NaN</td>\n",
       "      <td>1.000000</td>\n",
       "      <td>NaN</td>\n",
       "      <td>1.000000</td>\n",
       "      <td>NaN</td>\n",
       "      <td>1.000000</td>\n",
       "      <td>NaN</td>\n",
       "      <td>1.799617</td>\n",
       "      <td>2.244387</td>\n",
       "      <td>1.000000</td>\n",
       "      <td>NaN</td>\n",
       "      <td>1.000000</td>\n",
       "      <td>NaN</td>\n",
       "      <td>1.000000</td>\n",
       "      <td>NaN</td>\n",
       "      <td>1.000000</td>\n",
       "      <td>NaN</td>\n",
       "      <td>1.000000</td>\n",
       "      <td>NaN</td>\n",
       "      <td>1.721298</td>\n",
       "      <td>2.303035</td>\n",
       "      <td>1.718853</td>\n",
       "      <td>2.317982</td>\n",
       "      <td>1.719624</td>\n",
       "      <td>2.318411</td>\n",
       "      <td>1.000000</td>\n",
       "      <td>NaN</td>\n",
       "      <td>1.000000</td>\n",
       "      <td>NaN</td>\n",
       "    </tr>\n",
       "    <tr>\n",
       "      <th>2</th>\n",
       "      <td>9.392745</td>\n",
       "      <td>5</td>\n",
       "      <td>2.889816</td>\n",
       "      <td>5.701012</td>\n",
       "      <td>3</td>\n",
       "      <td>17</td>\n",
       "      <td>12.152202</td>\n",
       "      <td>2.197225</td>\n",
       "      <td>11.211834</td>\n",
       "      <td>5.587249</td>\n",
       "      <td>3.168424</td>\n",
       "      <td>0.0</td>\n",
       "      <td>6.516193</td>\n",
       "      <td>6.522093</td>\n",
       "      <td>2.484907</td>\n",
       "      <td>0.0</td>\n",
       "      <td>0.0</td>\n",
       "      <td>8.435332</td>\n",
       "      <td>3.966511</td>\n",
       "      <td>3.332205</td>\n",
       "      <td>0</td>\n",
       "      <td>0</td>\n",
       "      <td>0.693147</td>\n",
       "      <td>1.0</td>\n",
       "      <td>0.000000</td>\n",
       "      <td>0.000000</td>\n",
       "      <td>1.386294</td>\n",
       "      <td>1.386294</td>\n",
       "      <td>0.000000</td>\n",
       "      <td>0.000000</td>\n",
       "      <td>3.091042</td>\n",
       "      <td>1.609438</td>\n",
       "      <td>1.791759</td>\n",
       "      <td>1.386294</td>\n",
       "      <td>2.484907</td>\n",
       "      <td>0.0</td>\n",
       "      <td>0.0</td>\n",
       "      <td>0.000000e+00</td>\n",
       "      <td>1.609438</td>\n",
       "      <td>3044</td>\n",
       "      <td>...</td>\n",
       "      <td>0</td>\n",
       "      <td>0</td>\n",
       "      <td>0</td>\n",
       "      <td>0</td>\n",
       "      <td>0</td>\n",
       "      <td>0</td>\n",
       "      <td>0</td>\n",
       "      <td>0</td>\n",
       "      <td>0.303852</td>\n",
       "      <td>0.304015</td>\n",
       "      <td>1.757368</td>\n",
       "      <td>2.315603</td>\n",
       "      <td>1.531220</td>\n",
       "      <td>2.161958</td>\n",
       "      <td>1.816601</td>\n",
       "      <td>2.341786</td>\n",
       "      <td>1.816601</td>\n",
       "      <td>2.341786</td>\n",
       "      <td>1.369429</td>\n",
       "      <td>2.229075</td>\n",
       "      <td>1.217917</td>\n",
       "      <td>2.250570</td>\n",
       "      <td>1.660906</td>\n",
       "      <td>2.248760</td>\n",
       "      <td>1.704511</td>\n",
       "      <td>2.361495</td>\n",
       "      <td>1.577005</td>\n",
       "      <td>2.332637</td>\n",
       "      <td>1.813296</td>\n",
       "      <td>2.344317</td>\n",
       "      <td>1.707234</td>\n",
       "      <td>2.308753</td>\n",
       "      <td>1.718853</td>\n",
       "      <td>2.317982</td>\n",
       "      <td>1.719624</td>\n",
       "      <td>2.318411</td>\n",
       "      <td>1.726769</td>\n",
       "      <td>2.316507</td>\n",
       "      <td>1.444127</td>\n",
       "      <td>2.264665</td>\n",
       "    </tr>\n",
       "    <tr>\n",
       "      <th>3</th>\n",
       "      <td>9.305741</td>\n",
       "      <td>3</td>\n",
       "      <td>2.111425</td>\n",
       "      <td>5.834694</td>\n",
       "      <td>0</td>\n",
       "      <td>3</td>\n",
       "      <td>12.427747</td>\n",
       "      <td>2.397895</td>\n",
       "      <td>11.678448</td>\n",
       "      <td>4.043051</td>\n",
       "      <td>2.901971</td>\n",
       "      <td>0.0</td>\n",
       "      <td>6.530878</td>\n",
       "      <td>6.536692</td>\n",
       "      <td>2.302585</td>\n",
       "      <td>0.0</td>\n",
       "      <td>0.0</td>\n",
       "      <td>9.205227</td>\n",
       "      <td>3.981549</td>\n",
       "      <td>3.367296</td>\n",
       "      <td>1</td>\n",
       "      <td>0</td>\n",
       "      <td>10.173591</td>\n",
       "      <td>1.0</td>\n",
       "      <td>1.945910</td>\n",
       "      <td>1.609438</td>\n",
       "      <td>1.945910</td>\n",
       "      <td>1.945910</td>\n",
       "      <td>1.609438</td>\n",
       "      <td>2.833213</td>\n",
       "      <td>1.609438</td>\n",
       "      <td>2.079442</td>\n",
       "      <td>3.091042</td>\n",
       "      <td>1.945910</td>\n",
       "      <td>2.302585</td>\n",
       "      <td>0.0</td>\n",
       "      <td>0.0</td>\n",
       "      <td>0.000000e+00</td>\n",
       "      <td>0.693147</td>\n",
       "      <td>2983</td>\n",
       "      <td>...</td>\n",
       "      <td>0</td>\n",
       "      <td>0</td>\n",
       "      <td>0</td>\n",
       "      <td>0</td>\n",
       "      <td>0</td>\n",
       "      <td>0</td>\n",
       "      <td>0</td>\n",
       "      <td>0</td>\n",
       "      <td>0.060375</td>\n",
       "      <td>0.067221</td>\n",
       "      <td>0.000000</td>\n",
       "      <td>0.000000</td>\n",
       "      <td>0.000000</td>\n",
       "      <td>0.000000</td>\n",
       "      <td>0.000000</td>\n",
       "      <td>0.000000</td>\n",
       "      <td>0.000000</td>\n",
       "      <td>0.000000</td>\n",
       "      <td>0.000000</td>\n",
       "      <td>0.000000</td>\n",
       "      <td>0.000000</td>\n",
       "      <td>0.000000</td>\n",
       "      <td>0.000000</td>\n",
       "      <td>0.000000</td>\n",
       "      <td>0.000000</td>\n",
       "      <td>0.000000</td>\n",
       "      <td>0.000000</td>\n",
       "      <td>0.000000</td>\n",
       "      <td>0.000000</td>\n",
       "      <td>0.000000</td>\n",
       "      <td>0.000000</td>\n",
       "      <td>0.000000</td>\n",
       "      <td>0.000000</td>\n",
       "      <td>0.000000</td>\n",
       "      <td>0.000000</td>\n",
       "      <td>0.000000</td>\n",
       "      <td>0.000000</td>\n",
       "      <td>0.000000</td>\n",
       "      <td>0.000000</td>\n",
       "      <td>0.000000</td>\n",
       "    </tr>\n",
       "    <tr>\n",
       "      <th>4</th>\n",
       "      <td>8.006701</td>\n",
       "      <td>3</td>\n",
       "      <td>2.638343</td>\n",
       "      <td>4.625659</td>\n",
       "      <td>2</td>\n",
       "      <td>11</td>\n",
       "      <td>12.453983</td>\n",
       "      <td>2.126529</td>\n",
       "      <td>10.275086</td>\n",
       "      <td>5.429346</td>\n",
       "      <td>3.501344</td>\n",
       "      <td>0.0</td>\n",
       "      <td>6.538140</td>\n",
       "      <td>6.543912</td>\n",
       "      <td>2.564949</td>\n",
       "      <td>0.0</td>\n",
       "      <td>0.0</td>\n",
       "      <td>7.987185</td>\n",
       "      <td>3.496508</td>\n",
       "      <td>3.332205</td>\n",
       "      <td>0</td>\n",
       "      <td>0</td>\n",
       "      <td>6.815640</td>\n",
       "      <td>1.0</td>\n",
       "      <td>0.693147</td>\n",
       "      <td>1.098612</td>\n",
       "      <td>2.079442</td>\n",
       "      <td>2.079442</td>\n",
       "      <td>1.098612</td>\n",
       "      <td>1.609438</td>\n",
       "      <td>2.302585</td>\n",
       "      <td>2.397895</td>\n",
       "      <td>2.772589</td>\n",
       "      <td>2.079442</td>\n",
       "      <td>2.564949</td>\n",
       "      <td>0.0</td>\n",
       "      <td>0.0</td>\n",
       "      <td>0.000000e+00</td>\n",
       "      <td>1.609438</td>\n",
       "      <td>3196</td>\n",
       "      <td>...</td>\n",
       "      <td>0</td>\n",
       "      <td>0</td>\n",
       "      <td>0</td>\n",
       "      <td>0</td>\n",
       "      <td>0</td>\n",
       "      <td>0</td>\n",
       "      <td>0</td>\n",
       "      <td>0</td>\n",
       "      <td>0.225020</td>\n",
       "      <td>0.206892</td>\n",
       "      <td>1.054598</td>\n",
       "      <td>1.575441</td>\n",
       "      <td>1.170104</td>\n",
       "      <td>1.566099</td>\n",
       "      <td>1.101956</td>\n",
       "      <td>1.569043</td>\n",
       "      <td>1.101956</td>\n",
       "      <td>1.569043</td>\n",
       "      <td>1.096810</td>\n",
       "      <td>1.571810</td>\n",
       "      <td>1.075744</td>\n",
       "      <td>1.566738</td>\n",
       "      <td>1.154910</td>\n",
       "      <td>1.534359</td>\n",
       "      <td>1.142249</td>\n",
       "      <td>1.541740</td>\n",
       "      <td>1.163517</td>\n",
       "      <td>1.554608</td>\n",
       "      <td>1.103551</td>\n",
       "      <td>1.566999</td>\n",
       "      <td>1.143978</td>\n",
       "      <td>1.543316</td>\n",
       "      <td>1.145902</td>\n",
       "      <td>1.545322</td>\n",
       "      <td>1.146416</td>\n",
       "      <td>1.545607</td>\n",
       "      <td>1.151179</td>\n",
       "      <td>1.544338</td>\n",
       "      <td>0.962751</td>\n",
       "      <td>1.509776</td>\n",
       "    </tr>\n",
       "  </tbody>\n",
       "</table>\n",
       "<p>5 rows × 143 columns</p>\n",
       "</div>"
      ],
      "text/plain": [
       "    loanAmnt  term  ...  grade_to_mean_n14  grade_to_std_n14\n",
       "0  10.463132     5  ...           2.290853          3.168627\n",
       "1   9.798183     5  ...           1.000000               NaN\n",
       "2   9.392745     5  ...           1.444127          2.264665\n",
       "3   9.305741     3  ...           0.000000          0.000000\n",
       "4   8.006701     3  ...           0.962751          1.509776\n",
       "\n",
       "[5 rows x 143 columns]"
      ]
     },
     "execution_count": 46,
     "metadata": {
      "tags": []
     },
     "output_type": "execute_result"
    }
   ],
   "source": [
    "x_train.head()"
   ]
  },
  {
   "cell_type": "code",
   "execution_count": null,
   "metadata": {
    "colab": {
     "base_uri": "https://localhost:8080/",
     "height": 251
    },
    "executionInfo": {
     "elapsed": 382,
     "status": "ok",
     "timestamp": 1604608766869,
     "user": {
      "displayName": "Minke Xiu",
      "photoUrl": "https://lh3.googleusercontent.com/a-/AOh14GiKrlSLM7H0tbRpIYdHPAKnVjaQdF6dZZWD9Jdd=s64",
      "userId": "01913327350585558279"
     },
     "user_tz": 300
    },
    "id": "zbzhNIzkHeub",
    "outputId": "359d4980-62de-4928-8c1b-96ebb5de5056"
   },
   "outputs": [
    {
     "data": {
      "text/html": [
       "<div>\n",
       "<style scoped>\n",
       "    .dataframe tbody tr th:only-of-type {\n",
       "        vertical-align: middle;\n",
       "    }\n",
       "\n",
       "    .dataframe tbody tr th {\n",
       "        vertical-align: top;\n",
       "    }\n",
       "\n",
       "    .dataframe thead th {\n",
       "        text-align: right;\n",
       "    }\n",
       "</style>\n",
       "<table border=\"1\" class=\"dataframe\">\n",
       "  <thead>\n",
       "    <tr style=\"text-align: right;\">\n",
       "      <th></th>\n",
       "      <th>loanAmnt</th>\n",
       "      <th>term</th>\n",
       "      <th>interestRate</th>\n",
       "      <th>installment</th>\n",
       "      <th>grade</th>\n",
       "      <th>subGrade</th>\n",
       "      <th>employmentTitle</th>\n",
       "      <th>employmentLength</th>\n",
       "      <th>annualIncome</th>\n",
       "      <th>postCode</th>\n",
       "      <th>dti</th>\n",
       "      <th>delinquency_2years</th>\n",
       "      <th>ficoRangeLow</th>\n",
       "      <th>ficoRangeHigh</th>\n",
       "      <th>openAcc</th>\n",
       "      <th>pubRec</th>\n",
       "      <th>pubRecBankruptcies</th>\n",
       "      <th>revolBal</th>\n",
       "      <th>revolUtil</th>\n",
       "      <th>totalAcc</th>\n",
       "      <th>initialListStatus</th>\n",
       "      <th>applicationType</th>\n",
       "      <th>title</th>\n",
       "      <th>policyCode</th>\n",
       "      <th>n0</th>\n",
       "      <th>n1</th>\n",
       "      <th>n2</th>\n",
       "      <th>n3</th>\n",
       "      <th>n4</th>\n",
       "      <th>n5</th>\n",
       "      <th>n6</th>\n",
       "      <th>n7</th>\n",
       "      <th>n8</th>\n",
       "      <th>n9</th>\n",
       "      <th>n10</th>\n",
       "      <th>n11</th>\n",
       "      <th>n12</th>\n",
       "      <th>n13</th>\n",
       "      <th>n14</th>\n",
       "      <th>issueDateDT</th>\n",
       "      <th>...</th>\n",
       "      <th>regionCode_43</th>\n",
       "      <th>regionCode_44</th>\n",
       "      <th>regionCode_45</th>\n",
       "      <th>regionCode_46</th>\n",
       "      <th>regionCode_47</th>\n",
       "      <th>regionCode_48</th>\n",
       "      <th>regionCode_49</th>\n",
       "      <th>regionCode_50</th>\n",
       "      <th>grade_target_mean</th>\n",
       "      <th>subGrade_target_mean</th>\n",
       "      <th>grade_to_mean_n0</th>\n",
       "      <th>grade_to_std_n0</th>\n",
       "      <th>grade_to_mean_n1</th>\n",
       "      <th>grade_to_std_n1</th>\n",
       "      <th>grade_to_mean_n2</th>\n",
       "      <th>grade_to_std_n2</th>\n",
       "      <th>grade_to_mean_n3</th>\n",
       "      <th>grade_to_std_n3</th>\n",
       "      <th>grade_to_mean_n4</th>\n",
       "      <th>grade_to_std_n4</th>\n",
       "      <th>grade_to_mean_n5</th>\n",
       "      <th>grade_to_std_n5</th>\n",
       "      <th>grade_to_mean_n6</th>\n",
       "      <th>grade_to_std_n6</th>\n",
       "      <th>grade_to_mean_n7</th>\n",
       "      <th>grade_to_std_n7</th>\n",
       "      <th>grade_to_mean_n8</th>\n",
       "      <th>grade_to_std_n8</th>\n",
       "      <th>grade_to_mean_n9</th>\n",
       "      <th>grade_to_std_n9</th>\n",
       "      <th>grade_to_mean_n10</th>\n",
       "      <th>grade_to_std_n10</th>\n",
       "      <th>grade_to_mean_n11</th>\n",
       "      <th>grade_to_std_n11</th>\n",
       "      <th>grade_to_mean_n12</th>\n",
       "      <th>grade_to_std_n12</th>\n",
       "      <th>grade_to_mean_n13</th>\n",
       "      <th>grade_to_std_n13</th>\n",
       "      <th>grade_to_mean_n14</th>\n",
       "      <th>grade_to_std_n14</th>\n",
       "    </tr>\n",
       "  </thead>\n",
       "  <tbody>\n",
       "    <tr>\n",
       "      <th>0</th>\n",
       "      <td>35000.0</td>\n",
       "      <td>5</td>\n",
       "      <td>19.52</td>\n",
       "      <td>917.97</td>\n",
       "      <td>4</td>\n",
       "      <td>21</td>\n",
       "      <td>192026</td>\n",
       "      <td>2.000000</td>\n",
       "      <td>110000.0</td>\n",
       "      <td>44</td>\n",
       "      <td>17.05</td>\n",
       "      <td>0.0</td>\n",
       "      <td>730.0</td>\n",
       "      <td>734.0</td>\n",
       "      <td>7.0</td>\n",
       "      <td>0.0</td>\n",
       "      <td>0.0</td>\n",
       "      <td>24178.0</td>\n",
       "      <td>48.9</td>\n",
       "      <td>27.0</td>\n",
       "      <td>0</td>\n",
       "      <td>0</td>\n",
       "      <td>2</td>\n",
       "      <td>1.0</td>\n",
       "      <td>0.000000</td>\n",
       "      <td>2.000000</td>\n",
       "      <td>2.000000</td>\n",
       "      <td>2.000000</td>\n",
       "      <td>4.0</td>\n",
       "      <td>9.000000</td>\n",
       "      <td>8.000000</td>\n",
       "      <td>4.00000</td>\n",
       "      <td>12.00000</td>\n",
       "      <td>2.000000</td>\n",
       "      <td>7.0</td>\n",
       "      <td>0.0</td>\n",
       "      <td>0.0</td>\n",
       "      <td>0.000000e+00</td>\n",
       "      <td>2.000000</td>\n",
       "      <td>2587</td>\n",
       "      <td>...</td>\n",
       "      <td>0</td>\n",
       "      <td>0</td>\n",
       "      <td>0</td>\n",
       "      <td>0</td>\n",
       "      <td>0</td>\n",
       "      <td>0</td>\n",
       "      <td>0</td>\n",
       "      <td>0</td>\n",
       "      <td>0.384291</td>\n",
       "      <td>0.376903</td>\n",
       "      <td>2.343157</td>\n",
       "      <td>3.087470</td>\n",
       "      <td>2.340208</td>\n",
       "      <td>3.132197</td>\n",
       "      <td>2.483341</td>\n",
       "      <td>3.090070</td>\n",
       "      <td>2.483341</td>\n",
       "      <td>3.090070</td>\n",
       "      <td>2.290512</td>\n",
       "      <td>3.122960</td>\n",
       "      <td>2.361338</td>\n",
       "      <td>3.124309</td>\n",
       "      <td>2.321539</td>\n",
       "      <td>3.098429</td>\n",
       "      <td>2.272681</td>\n",
       "      <td>3.148661</td>\n",
       "      <td>2.293558</td>\n",
       "      <td>3.124742</td>\n",
       "      <td>2.476104</td>\n",
       "      <td>3.091823</td>\n",
       "      <td>2.290444</td>\n",
       "      <td>3.184266</td>\n",
       "      <td>2.291804</td>\n",
       "      <td>3.090643</td>\n",
       "      <td>2.292831</td>\n",
       "      <td>3.091214</td>\n",
       "      <td>2.302359</td>\n",
       "      <td>3.088676</td>\n",
       "      <td>2.290853</td>\n",
       "      <td>3.168627</td>\n",
       "    </tr>\n",
       "    <tr>\n",
       "      <th>1</th>\n",
       "      <td>18000.0</td>\n",
       "      <td>5</td>\n",
       "      <td>18.49</td>\n",
       "      <td>461.90</td>\n",
       "      <td>3</td>\n",
       "      <td>16</td>\n",
       "      <td>104734</td>\n",
       "      <td>5.000000</td>\n",
       "      <td>46000.0</td>\n",
       "      <td>65</td>\n",
       "      <td>27.83</td>\n",
       "      <td>0.0</td>\n",
       "      <td>700.0</td>\n",
       "      <td>704.0</td>\n",
       "      <td>13.0</td>\n",
       "      <td>0.0</td>\n",
       "      <td>0.0</td>\n",
       "      <td>15096.0</td>\n",
       "      <td>38.9</td>\n",
       "      <td>18.0</td>\n",
       "      <td>1</td>\n",
       "      <td>0</td>\n",
       "      <td>6327</td>\n",
       "      <td>1.0</td>\n",
       "      <td>-29.500403</td>\n",
       "      <td>-8.833409</td>\n",
       "      <td>3.833404</td>\n",
       "      <td>3.833404</td>\n",
       "      <td>10.0</td>\n",
       "      <td>-41.000365</td>\n",
       "      <td>15.499512</td>\n",
       "      <td>12.00019</td>\n",
       "      <td>-18.00007</td>\n",
       "      <td>3.833404</td>\n",
       "      <td>13.0</td>\n",
       "      <td>0.0</td>\n",
       "      <td>0.0</td>\n",
       "      <td>1.171916e-16</td>\n",
       "      <td>17.500178</td>\n",
       "      <td>1888</td>\n",
       "      <td>...</td>\n",
       "      <td>0</td>\n",
       "      <td>0</td>\n",
       "      <td>0</td>\n",
       "      <td>0</td>\n",
       "      <td>0</td>\n",
       "      <td>0</td>\n",
       "      <td>0</td>\n",
       "      <td>0</td>\n",
       "      <td>0.303852</td>\n",
       "      <td>0.297572</td>\n",
       "      <td>1.000000</td>\n",
       "      <td>NaN</td>\n",
       "      <td>1.000000</td>\n",
       "      <td>NaN</td>\n",
       "      <td>1.000000</td>\n",
       "      <td>NaN</td>\n",
       "      <td>1.000000</td>\n",
       "      <td>NaN</td>\n",
       "      <td>1.799617</td>\n",
       "      <td>2.244387</td>\n",
       "      <td>1.000000</td>\n",
       "      <td>NaN</td>\n",
       "      <td>1.000000</td>\n",
       "      <td>NaN</td>\n",
       "      <td>1.000000</td>\n",
       "      <td>NaN</td>\n",
       "      <td>1.000000</td>\n",
       "      <td>NaN</td>\n",
       "      <td>1.000000</td>\n",
       "      <td>NaN</td>\n",
       "      <td>1.721298</td>\n",
       "      <td>2.303035</td>\n",
       "      <td>1.718853</td>\n",
       "      <td>2.317982</td>\n",
       "      <td>1.719624</td>\n",
       "      <td>2.318411</td>\n",
       "      <td>1.000000</td>\n",
       "      <td>NaN</td>\n",
       "      <td>1.000000</td>\n",
       "      <td>NaN</td>\n",
       "    </tr>\n",
       "    <tr>\n",
       "      <th>2</th>\n",
       "      <td>12000.0</td>\n",
       "      <td>5</td>\n",
       "      <td>16.99</td>\n",
       "      <td>298.17</td>\n",
       "      <td>3</td>\n",
       "      <td>17</td>\n",
       "      <td>189510</td>\n",
       "      <td>8.000000</td>\n",
       "      <td>74000.0</td>\n",
       "      <td>266</td>\n",
       "      <td>22.77</td>\n",
       "      <td>0.0</td>\n",
       "      <td>675.0</td>\n",
       "      <td>679.0</td>\n",
       "      <td>11.0</td>\n",
       "      <td>0.0</td>\n",
       "      <td>0.0</td>\n",
       "      <td>4606.0</td>\n",
       "      <td>51.8</td>\n",
       "      <td>27.0</td>\n",
       "      <td>0</td>\n",
       "      <td>0</td>\n",
       "      <td>1</td>\n",
       "      <td>1.0</td>\n",
       "      <td>0.000000</td>\n",
       "      <td>0.000000</td>\n",
       "      <td>3.000000</td>\n",
       "      <td>3.000000</td>\n",
       "      <td>0.0</td>\n",
       "      <td>0.000000</td>\n",
       "      <td>21.000000</td>\n",
       "      <td>4.00000</td>\n",
       "      <td>5.00000</td>\n",
       "      <td>3.000000</td>\n",
       "      <td>11.0</td>\n",
       "      <td>0.0</td>\n",
       "      <td>0.0</td>\n",
       "      <td>0.000000e+00</td>\n",
       "      <td>4.000000</td>\n",
       "      <td>3044</td>\n",
       "      <td>...</td>\n",
       "      <td>0</td>\n",
       "      <td>0</td>\n",
       "      <td>0</td>\n",
       "      <td>0</td>\n",
       "      <td>0</td>\n",
       "      <td>0</td>\n",
       "      <td>0</td>\n",
       "      <td>0</td>\n",
       "      <td>0.303852</td>\n",
       "      <td>0.304015</td>\n",
       "      <td>1.757368</td>\n",
       "      <td>2.315603</td>\n",
       "      <td>1.531220</td>\n",
       "      <td>2.161958</td>\n",
       "      <td>1.816601</td>\n",
       "      <td>2.341786</td>\n",
       "      <td>1.816601</td>\n",
       "      <td>2.341786</td>\n",
       "      <td>1.369429</td>\n",
       "      <td>2.229075</td>\n",
       "      <td>1.217917</td>\n",
       "      <td>2.250570</td>\n",
       "      <td>1.660906</td>\n",
       "      <td>2.248760</td>\n",
       "      <td>1.704511</td>\n",
       "      <td>2.361495</td>\n",
       "      <td>1.577005</td>\n",
       "      <td>2.332637</td>\n",
       "      <td>1.813296</td>\n",
       "      <td>2.344317</td>\n",
       "      <td>1.707234</td>\n",
       "      <td>2.308753</td>\n",
       "      <td>1.718853</td>\n",
       "      <td>2.317982</td>\n",
       "      <td>1.719624</td>\n",
       "      <td>2.318411</td>\n",
       "      <td>1.726769</td>\n",
       "      <td>2.316507</td>\n",
       "      <td>1.444127</td>\n",
       "      <td>2.264665</td>\n",
       "    </tr>\n",
       "    <tr>\n",
       "      <th>3</th>\n",
       "      <td>11000.0</td>\n",
       "      <td>3</td>\n",
       "      <td>7.26</td>\n",
       "      <td>340.96</td>\n",
       "      <td>0</td>\n",
       "      <td>3</td>\n",
       "      <td>249632</td>\n",
       "      <td>10.000000</td>\n",
       "      <td>118000.0</td>\n",
       "      <td>56</td>\n",
       "      <td>17.21</td>\n",
       "      <td>0.0</td>\n",
       "      <td>685.0</td>\n",
       "      <td>689.0</td>\n",
       "      <td>9.0</td>\n",
       "      <td>0.0</td>\n",
       "      <td>0.0</td>\n",
       "      <td>9948.0</td>\n",
       "      <td>52.6</td>\n",
       "      <td>28.0</td>\n",
       "      <td>1</td>\n",
       "      <td>0</td>\n",
       "      <td>26201</td>\n",
       "      <td>1.0</td>\n",
       "      <td>6.000000</td>\n",
       "      <td>4.000000</td>\n",
       "      <td>6.000000</td>\n",
       "      <td>6.000000</td>\n",
       "      <td>4.0</td>\n",
       "      <td>16.000000</td>\n",
       "      <td>4.000000</td>\n",
       "      <td>7.00000</td>\n",
       "      <td>21.00000</td>\n",
       "      <td>6.000000</td>\n",
       "      <td>9.0</td>\n",
       "      <td>0.0</td>\n",
       "      <td>0.0</td>\n",
       "      <td>0.000000e+00</td>\n",
       "      <td>1.000000</td>\n",
       "      <td>2983</td>\n",
       "      <td>...</td>\n",
       "      <td>0</td>\n",
       "      <td>0</td>\n",
       "      <td>0</td>\n",
       "      <td>0</td>\n",
       "      <td>0</td>\n",
       "      <td>0</td>\n",
       "      <td>0</td>\n",
       "      <td>0</td>\n",
       "      <td>0.060375</td>\n",
       "      <td>0.067221</td>\n",
       "      <td>0.000000</td>\n",
       "      <td>0.000000</td>\n",
       "      <td>0.000000</td>\n",
       "      <td>0.000000</td>\n",
       "      <td>0.000000</td>\n",
       "      <td>0.000000</td>\n",
       "      <td>0.000000</td>\n",
       "      <td>0.000000</td>\n",
       "      <td>0.000000</td>\n",
       "      <td>0.000000</td>\n",
       "      <td>0.000000</td>\n",
       "      <td>0.000000</td>\n",
       "      <td>0.000000</td>\n",
       "      <td>0.000000</td>\n",
       "      <td>0.000000</td>\n",
       "      <td>0.000000</td>\n",
       "      <td>0.000000</td>\n",
       "      <td>0.000000</td>\n",
       "      <td>0.000000</td>\n",
       "      <td>0.000000</td>\n",
       "      <td>0.000000</td>\n",
       "      <td>0.000000</td>\n",
       "      <td>0.000000</td>\n",
       "      <td>0.000000</td>\n",
       "      <td>0.000000</td>\n",
       "      <td>0.000000</td>\n",
       "      <td>0.000000</td>\n",
       "      <td>0.000000</td>\n",
       "      <td>0.000000</td>\n",
       "      <td>0.000000</td>\n",
       "    </tr>\n",
       "    <tr>\n",
       "      <th>4</th>\n",
       "      <td>3000.0</td>\n",
       "      <td>3</td>\n",
       "      <td>12.99</td>\n",
       "      <td>101.07</td>\n",
       "      <td>2</td>\n",
       "      <td>11</td>\n",
       "      <td>256268</td>\n",
       "      <td>7.385708</td>\n",
       "      <td>29000.0</td>\n",
       "      <td>227</td>\n",
       "      <td>32.16</td>\n",
       "      <td>0.0</td>\n",
       "      <td>690.0</td>\n",
       "      <td>694.0</td>\n",
       "      <td>12.0</td>\n",
       "      <td>0.0</td>\n",
       "      <td>0.0</td>\n",
       "      <td>2942.0</td>\n",
       "      <td>32.0</td>\n",
       "      <td>27.0</td>\n",
       "      <td>0</td>\n",
       "      <td>0</td>\n",
       "      <td>911</td>\n",
       "      <td>1.0</td>\n",
       "      <td>1.000000</td>\n",
       "      <td>2.000000</td>\n",
       "      <td>7.000000</td>\n",
       "      <td>7.000000</td>\n",
       "      <td>2.0</td>\n",
       "      <td>4.000000</td>\n",
       "      <td>9.000000</td>\n",
       "      <td>10.00000</td>\n",
       "      <td>15.00000</td>\n",
       "      <td>7.000000</td>\n",
       "      <td>12.0</td>\n",
       "      <td>0.0</td>\n",
       "      <td>0.0</td>\n",
       "      <td>0.000000e+00</td>\n",
       "      <td>4.000000</td>\n",
       "      <td>3196</td>\n",
       "      <td>...</td>\n",
       "      <td>0</td>\n",
       "      <td>0</td>\n",
       "      <td>0</td>\n",
       "      <td>0</td>\n",
       "      <td>0</td>\n",
       "      <td>0</td>\n",
       "      <td>0</td>\n",
       "      <td>0</td>\n",
       "      <td>0.225020</td>\n",
       "      <td>0.206892</td>\n",
       "      <td>1.054598</td>\n",
       "      <td>1.575441</td>\n",
       "      <td>1.170104</td>\n",
       "      <td>1.566099</td>\n",
       "      <td>1.101956</td>\n",
       "      <td>1.569043</td>\n",
       "      <td>1.101956</td>\n",
       "      <td>1.569043</td>\n",
       "      <td>1.096810</td>\n",
       "      <td>1.571810</td>\n",
       "      <td>1.075744</td>\n",
       "      <td>1.566738</td>\n",
       "      <td>1.154910</td>\n",
       "      <td>1.534359</td>\n",
       "      <td>1.142249</td>\n",
       "      <td>1.541740</td>\n",
       "      <td>1.163517</td>\n",
       "      <td>1.554608</td>\n",
       "      <td>1.103551</td>\n",
       "      <td>1.566999</td>\n",
       "      <td>1.143978</td>\n",
       "      <td>1.543316</td>\n",
       "      <td>1.145902</td>\n",
       "      <td>1.545322</td>\n",
       "      <td>1.146416</td>\n",
       "      <td>1.545607</td>\n",
       "      <td>1.151179</td>\n",
       "      <td>1.544338</td>\n",
       "      <td>0.962751</td>\n",
       "      <td>1.509776</td>\n",
       "    </tr>\n",
       "  </tbody>\n",
       "</table>\n",
       "<p>5 rows × 143 columns</p>\n",
       "</div>"
      ],
      "text/plain": [
       "   loanAmnt  term  ...  grade_to_mean_n14  grade_to_std_n14\n",
       "0   35000.0     5  ...           2.290853          3.168627\n",
       "1   18000.0     5  ...           1.000000               NaN\n",
       "2   12000.0     5  ...           1.444127          2.264665\n",
       "3   11000.0     3  ...           0.000000          0.000000\n",
       "4    3000.0     3  ...           0.962751          1.509776\n",
       "\n",
       "[5 rows x 143 columns]"
      ]
     },
     "execution_count": 47,
     "metadata": {
      "tags": []
     },
     "output_type": "execute_result"
    }
   ],
   "source": [
    "x_train_cp1.head()"
   ]
  },
  {
   "cell_type": "markdown",
   "metadata": {
    "id": "B5NP4AX7knR2"
   },
   "source": [
    "### Log some of the feature"
   ]
  },
  {
   "cell_type": "markdown",
   "metadata": {
    "id": "N-aBCoL5kqJV"
   },
   "source": [
    "`interestRate`, `annualIncome`, `openAcc`, `revolBal`, `totalAcc`, `n1` to `n10`"
   ]
  },
  {
   "cell_type": "code",
   "execution_count": null,
   "metadata": {
    "id": "YbGQC5OQkpr3"
   },
   "outputs": [],
   "source": [
    "for data in [x_train, x_test]:\n",
    "    for fea in [\"interestRate\", \"annualIncome\", \"openAcc\", \"revolBal\", \"totalAcc\", \n",
    "                'n1','n2','n3','n4','n5','n6','n7','n8','n9','n10']:\n",
    "        data[fea] = data[fea].apply(np.log1p)"
   ]
  }
 ],
 "metadata": {
  "accelerator": "GPU",
  "colab": {
   "authorship_tag": "ABX9TyNIfBJgKOgjCKEcqt1hwqjD",
   "collapsed_sections": [
    "WSxFJ8u0VzQV",
    "M8n18J7qKwD8",
    "UOQlCS3plUVI",
    "d8wxvCVFmZ-_",
    "0Ha_TAmA_99j",
    "3jbbZfOKFKIP",
    "Q7xfAfOeQdkV",
    "wW4kFqq0cLqT",
    "3WGqcHRzjBT8",
    "6X3ts1ZgrHQ4",
    "bFsbmxfKyJYE",
    "kmVWMMJwyzUO",
    "6JyBck_410PY",
    "8ffAB5HC14Pf"
   ],
   "machine_shape": "hm",
   "name": "3.11-FeatureEngineering-7391.ipynb",
   "provenance": [],
   "toc_visible": true
  },
  "kernelspec": {
   "display_name": "Python 3",
   "language": "python",
   "name": "python3"
  },
  "language_info": {
   "codemirror_mode": {
    "name": "ipython",
    "version": 3
   },
   "file_extension": ".py",
   "mimetype": "text/x-python",
   "name": "python",
   "nbconvert_exporter": "python",
   "pygments_lexer": "ipython3",
   "version": "3.6.8"
  },
  "toc": {
   "base_numbering": 1,
   "nav_menu": {},
   "number_sections": true,
   "sideBar": true,
   "skip_h1_title": false,
   "title_cell": "Table of Contents",
   "title_sidebar": "Contents",
   "toc_cell": false,
   "toc_position": {
    "height": "calc(100% - 180px)",
    "left": "10px",
    "top": "150px",
    "width": "336px"
   },
   "toc_section_display": true,
   "toc_window_display": true
  },
  "widgets": {
   "application/vnd.jupyter.widget-state+json": {
    "04eb96c3074a406d9a1f903ca4732bfe": {
     "model_module": "@jupyter-widgets/controls",
     "model_name": "FloatProgressModel",
     "state": {
      "_dom_classes": [],
      "_model_module": "@jupyter-widgets/controls",
      "_model_module_version": "1.5.0",
      "_model_name": "FloatProgressModel",
      "_view_count": null,
      "_view_module": "@jupyter-widgets/controls",
      "_view_module_version": "1.5.0",
      "_view_name": "ProgressView",
      "bar_style": "success",
      "description": "100%",
      "description_tooltip": null,
      "layout": "IPY_MODEL_10dcdfaa4a04444b8502fce8118ccd62",
      "max": 4,
      "min": 0,
      "orientation": "horizontal",
      "style": "IPY_MODEL_f6277a8b2a9d471abdca3d6566073630",
      "value": 4
     }
    },
    "0aa0299f19594019af110947bfa99324": {
     "model_module": "@jupyter-widgets/base",
     "model_name": "LayoutModel",
     "state": {
      "_model_module": "@jupyter-widgets/base",
      "_model_module_version": "1.2.0",
      "_model_name": "LayoutModel",
      "_view_count": null,
      "_view_module": "@jupyter-widgets/base",
      "_view_module_version": "1.2.0",
      "_view_name": "LayoutView",
      "align_content": null,
      "align_items": null,
      "align_self": null,
      "border": null,
      "bottom": null,
      "display": null,
      "flex": null,
      "flex_flow": null,
      "grid_area": null,
      "grid_auto_columns": null,
      "grid_auto_flow": null,
      "grid_auto_rows": null,
      "grid_column": null,
      "grid_gap": null,
      "grid_row": null,
      "grid_template_areas": null,
      "grid_template_columns": null,
      "grid_template_rows": null,
      "height": null,
      "justify_content": null,
      "justify_items": null,
      "left": null,
      "margin": null,
      "max_height": null,
      "max_width": null,
      "min_height": null,
      "min_width": null,
      "object_fit": null,
      "object_position": null,
      "order": null,
      "overflow": null,
      "overflow_x": null,
      "overflow_y": null,
      "padding": null,
      "right": null,
      "top": null,
      "visibility": null,
      "width": null
     }
    },
    "10dcdfaa4a04444b8502fce8118ccd62": {
     "model_module": "@jupyter-widgets/base",
     "model_name": "LayoutModel",
     "state": {
      "_model_module": "@jupyter-widgets/base",
      "_model_module_version": "1.2.0",
      "_model_name": "LayoutModel",
      "_view_count": null,
      "_view_module": "@jupyter-widgets/base",
      "_view_module_version": "1.2.0",
      "_view_name": "LayoutView",
      "align_content": null,
      "align_items": null,
      "align_self": null,
      "border": null,
      "bottom": null,
      "display": null,
      "flex": null,
      "flex_flow": null,
      "grid_area": null,
      "grid_auto_columns": null,
      "grid_auto_flow": null,
      "grid_auto_rows": null,
      "grid_column": null,
      "grid_gap": null,
      "grid_row": null,
      "grid_template_areas": null,
      "grid_template_columns": null,
      "grid_template_rows": null,
      "height": null,
      "justify_content": null,
      "justify_items": null,
      "left": null,
      "margin": null,
      "max_height": null,
      "max_width": null,
      "min_height": null,
      "min_width": null,
      "object_fit": null,
      "object_position": null,
      "order": null,
      "overflow": null,
      "overflow_x": null,
      "overflow_y": null,
      "padding": null,
      "right": null,
      "top": null,
      "visibility": null,
      "width": null
     }
    },
    "222573456ecb430eb4a38b2f3279bbfe": {
     "model_module": "@jupyter-widgets/base",
     "model_name": "LayoutModel",
     "state": {
      "_model_module": "@jupyter-widgets/base",
      "_model_module_version": "1.2.0",
      "_model_name": "LayoutModel",
      "_view_count": null,
      "_view_module": "@jupyter-widgets/base",
      "_view_module_version": "1.2.0",
      "_view_name": "LayoutView",
      "align_content": null,
      "align_items": null,
      "align_self": null,
      "border": null,
      "bottom": null,
      "display": null,
      "flex": null,
      "flex_flow": null,
      "grid_area": null,
      "grid_auto_columns": null,
      "grid_auto_flow": null,
      "grid_auto_rows": null,
      "grid_column": null,
      "grid_gap": null,
      "grid_row": null,
      "grid_template_areas": null,
      "grid_template_columns": null,
      "grid_template_rows": null,
      "height": null,
      "justify_content": null,
      "justify_items": null,
      "left": null,
      "margin": null,
      "max_height": null,
      "max_width": null,
      "min_height": null,
      "min_width": null,
      "object_fit": null,
      "object_position": null,
      "order": null,
      "overflow": null,
      "overflow_x": null,
      "overflow_y": null,
      "padding": null,
      "right": null,
      "top": null,
      "visibility": null,
      "width": null
     }
    },
    "5b065155514348e58974dbb072ee942f": {
     "model_module": "@jupyter-widgets/controls",
     "model_name": "HBoxModel",
     "state": {
      "_dom_classes": [],
      "_model_module": "@jupyter-widgets/controls",
      "_model_module_version": "1.5.0",
      "_model_name": "HBoxModel",
      "_view_count": null,
      "_view_module": "@jupyter-widgets/controls",
      "_view_module_version": "1.5.0",
      "_view_name": "HBoxView",
      "box_style": "",
      "children": [
       "IPY_MODEL_04eb96c3074a406d9a1f903ca4732bfe",
       "IPY_MODEL_77a7971e41a44d528e307f56fccc3a07"
      ],
      "layout": "IPY_MODEL_0aa0299f19594019af110947bfa99324"
     }
    },
    "77a7971e41a44d528e307f56fccc3a07": {
     "model_module": "@jupyter-widgets/controls",
     "model_name": "HTMLModel",
     "state": {
      "_dom_classes": [],
      "_model_module": "@jupyter-widgets/controls",
      "_model_module_version": "1.5.0",
      "_model_name": "HTMLModel",
      "_view_count": null,
      "_view_module": "@jupyter-widgets/controls",
      "_view_module_version": "1.5.0",
      "_view_name": "HTMLView",
      "description": "",
      "description_tooltip": null,
      "layout": "IPY_MODEL_222573456ecb430eb4a38b2f3279bbfe",
      "placeholder": "​",
      "style": "IPY_MODEL_8519e1978b674a8db82d610d6cec8af2",
      "value": " 4/4 [00:24&lt;00:00,  6.13s/it]"
     }
    },
    "8519e1978b674a8db82d610d6cec8af2": {
     "model_module": "@jupyter-widgets/controls",
     "model_name": "DescriptionStyleModel",
     "state": {
      "_model_module": "@jupyter-widgets/controls",
      "_model_module_version": "1.5.0",
      "_model_name": "DescriptionStyleModel",
      "_view_count": null,
      "_view_module": "@jupyter-widgets/base",
      "_view_module_version": "1.2.0",
      "_view_name": "StyleView",
      "description_width": ""
     }
    },
    "f6277a8b2a9d471abdca3d6566073630": {
     "model_module": "@jupyter-widgets/controls",
     "model_name": "ProgressStyleModel",
     "state": {
      "_model_module": "@jupyter-widgets/controls",
      "_model_module_version": "1.5.0",
      "_model_name": "ProgressStyleModel",
      "_view_count": null,
      "_view_module": "@jupyter-widgets/base",
      "_view_module_version": "1.2.0",
      "_view_name": "StyleView",
      "bar_color": null,
      "description_width": "initial"
     }
    }
   }
  }
 },
 "nbformat": 4,
 "nbformat_minor": 1
}
