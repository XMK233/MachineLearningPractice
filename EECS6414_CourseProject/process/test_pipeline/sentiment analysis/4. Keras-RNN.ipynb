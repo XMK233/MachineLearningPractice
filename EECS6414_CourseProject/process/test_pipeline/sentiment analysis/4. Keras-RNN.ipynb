{
 "cells": [
  {
   "cell_type": "markdown",
   "metadata": {},
   "source": [
    "### 1. 数据预处理。"
   ]
  },
  {
   "cell_type": "code",
   "execution_count": 2,
   "metadata": {},
   "outputs": [
    {
     "name": "stdout",
     "output_type": "stream",
     "text": [
      "Downloading data from https://storage.googleapis.com/tensorflow/tf-keras-datasets/imdb.npz\n",
      "17465344/17464789 [==============================] - 0s 0us/step\n",
      "25000 train sequences\n",
      "25000 test sequences\n",
      "trainX shape: (25000, 80)\n",
      "testX shape: (25000, 80)\n"
     ]
    }
   ],
   "source": [
    "from tensorflow.keras.preprocessing import sequence\n",
    "from tensorflow.keras.models import Sequential\n",
    "from tensorflow.keras.layers import Dense, Embedding\n",
    "from tensorflow.keras.layers import LSTM\n",
    "from tensorflow.keras.datasets import imdb\n",
    "\n",
    "max_features = 20000\n",
    "maxlen = 80  \n",
    "batch_size = 32\n",
    "\n",
    "# 加载数据并将单词转化为ID，max_features给出了最多使用的单词数。\n",
    "(trainX, trainY), (testX, testY) = imdb.load_data(num_words=max_features)\n",
    "print(len(trainX), 'train sequences')\n",
    "print(len(testX), 'test sequences')\n",
    "\n",
    "# 在自然语言中，每一段话的长度是不一样的，但循环神经网络的循环长度是固定的，\n",
    "# 所以这里需要先将所有段落统一成固定长度。\n",
    "trainX = sequence.pad_sequences(trainX, maxlen=maxlen)\n",
    "testX = sequence.pad_sequences(testX, maxlen=maxlen)\n",
    "print('trainX shape:', trainX.shape)\n",
    "print('testX shape:', testX.shape)"
   ]
  },
  {
   "cell_type": "code",
   "execution_count": 6,
   "metadata": {},
   "outputs": [
    {
     "ename": "AttributeError",
     "evalue": "'numpy.ndarray' object has no attribute 'head'",
     "output_type": "error",
     "traceback": [
      "\u001b[1;31m---------------------------------------------------------------------------\u001b[0m",
      "\u001b[1;31mAttributeError\u001b[0m                            Traceback (most recent call last)",
      "\u001b[1;32m<ipython-input-6-a96c63fa7189>\u001b[0m in \u001b[0;36m<module>\u001b[1;34m()\u001b[0m\n\u001b[1;32m----> 1\u001b[1;33m \u001b[0mtrainX\u001b[0m\u001b[1;33m.\u001b[0m\u001b[0mhead\u001b[0m\u001b[1;33m(\u001b[0m\u001b[1;33m)\u001b[0m\u001b[1;33m\u001b[0m\u001b[0m\n\u001b[0m",
      "\u001b[1;31mAttributeError\u001b[0m: 'numpy.ndarray' object has no attribute 'head'"
     ]
    }
   ],
   "source": []
  },
  {
   "cell_type": "markdown",
   "metadata": {},
   "source": [
    "### 2. 定义模型。"
   ]
  },
  {
   "cell_type": "code",
   "execution_count": 3,
   "metadata": {},
   "outputs": [],
   "source": [
    "model = Sequential()\n",
    "model.add(Embedding(max_features, 128))\n",
    "model.add(LSTM(128, dropout=0.2, recurrent_dropout=0.2))\n",
    "model.add(Dense(1, activation='sigmoid'))\n",
    "\n",
    "model.compile(loss='binary_crossentropy',\n",
    "              optimizer='adam',\n",
    "              metrics=['accuracy'])"
   ]
  },
  {
   "cell_type": "markdown",
   "metadata": {},
   "source": [
    "### 3. 训练、评测模型。"
   ]
  },
  {
   "cell_type": "code",
   "execution_count": 4,
   "metadata": {},
   "outputs": [
    {
     "name": "stderr",
     "output_type": "stream",
     "text": [
      "C:\\Users\\xmk233\\Anaconda3\\lib\\site-packages\\tensorflow\\python\\ops\\gradients_impl.py:112: UserWarning: Converting sparse IndexedSlices to a dense Tensor of unknown shape. This may consume a large amount of memory.\n",
      "  \"Converting sparse IndexedSlices to a dense Tensor of unknown shape. \"\n"
     ]
    },
    {
     "name": "stdout",
     "output_type": "stream",
     "text": [
      "Train on 25000 samples, validate on 25000 samples\n",
      "Epoch 1/10\n",
      "25000/25000 [==============================] - 324s 13ms/step - loss: 0.4627 - acc: 0.7791 - val_loss: 0.4133 - val_acc: 0.8203\n",
      "Epoch 2/10\n",
      "25000/25000 [==============================] - 137s 5ms/step - loss: 0.2975 - acc: 0.8799 - val_loss: 0.3956 - val_acc: 0.8350\n",
      "Epoch 3/10\n",
      "25000/25000 [==============================] - 137s 5ms/step - loss: 0.2081 - acc: 0.9193 - val_loss: 0.4363 - val_acc: 0.8343\n",
      "Epoch 4/10\n",
      "25000/25000 [==============================] - 141s 6ms/step - loss: 0.1488 - acc: 0.9451 - val_loss: 0.4527 - val_acc: 0.8285\n",
      "Epoch 5/10\n",
      "25000/25000 [==============================] - 146s 6ms/step - loss: 0.1098 - acc: 0.9608 - val_loss: 0.5622 - val_acc: 0.8316\n",
      "Epoch 6/10\n",
      "25000/25000 [==============================] - 143s 6ms/step - loss: 0.0781 - acc: 0.9717 - val_loss: 0.5918 - val_acc: 0.8256\n",
      "Epoch 7/10\n",
      "25000/25000 [==============================] - 143s 6ms/step - loss: 0.0551 - acc: 0.9825 - val_loss: 0.6963 - val_acc: 0.8162\n",
      "Epoch 8/10\n",
      "25000/25000 [==============================] - 142s 6ms/step - loss: 0.0464 - acc: 0.9841 - val_loss: 0.7280 - val_acc: 0.8194\n",
      "Epoch 9/10\n",
      "25000/25000 [==============================] - 143s 6ms/step - loss: 0.0420 - acc: 0.9865 - val_loss: 0.7247 - val_acc: 0.8165\n",
      "Epoch 10/10\n",
      "25000/25000 [==============================] - 145s 6ms/step - loss: 0.0267 - acc: 0.9916 - val_loss: 0.9757 - val_acc: 0.8138\n",
      "25000/25000 [==============================] - 28s 1ms/step\n",
      "Test loss: 0.9756936444199086\n",
      "Test accuracy: 0.8138\n"
     ]
    }
   ],
   "source": [
    "model.fit(trainX, trainY,\n",
    "          batch_size=batch_size,\n",
    "          epochs=10,\n",
    "          validation_data=(testX, testY))\n",
    "\n",
    "score = model.evaluate(testX, testY, batch_size=batch_size)\n",
    "print('Test loss:', score[0])\n",
    "print('Test accuracy:', score[1])"
   ]
  },
  {
   "cell_type": "code",
   "execution_count": 5,
   "metadata": {},
   "outputs": [],
   "source": [
    "checkpoint_path = \"sentiment_model\"\n",
    "model.save(checkpoint_path)"
   ]
  },
  {
   "cell_type": "code",
   "execution_count": null,
   "metadata": {},
   "outputs": [],
   "source": [
    "newModel = keras.models.load_model(checkpoint_path)\n",
    "loss, acc = newModel.evaluate(test_images, test_labels)"
   ]
  },
  {
   "cell_type": "markdown",
   "metadata": {},
   "source": [
    "I don't think this method will do any help to the research. But keep as an idea. \n",
    "\n",
    "https://www.jianshu.com/p/6b16b592b08d\n"
   ]
  }
 ],
 "metadata": {
  "kernelspec": {
   "display_name": "Python 3",
   "language": "python",
   "name": "python3"
  },
  "language_info": {
   "codemirror_mode": {
    "name": "ipython",
    "version": 3
   },
   "file_extension": ".py",
   "mimetype": "text/x-python",
   "name": "python",
   "nbconvert_exporter": "python",
   "pygments_lexer": "ipython3",
   "version": "3.6.5"
  }
 },
 "nbformat": 4,
 "nbformat_minor": 2
}
