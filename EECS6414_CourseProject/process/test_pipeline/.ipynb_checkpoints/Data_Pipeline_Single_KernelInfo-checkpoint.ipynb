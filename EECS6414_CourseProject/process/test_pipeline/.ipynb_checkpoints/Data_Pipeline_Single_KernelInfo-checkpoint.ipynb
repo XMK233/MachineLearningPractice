{
 "cells": [
  {
   "cell_type": "markdown",
   "metadata": {},
   "source": [
    "# Exclude Kerneler"
   ]
  },
  {
   "cell_type": "code",
   "execution_count": null,
   "metadata": {
    "collapsed": true
   },
   "outputs": [],
   "source": [
    "# -*- coding: utf-8 -*-\n",
    "import sys, os, json\n",
    "DATA_STORE = \"J:\\\\EECS_6414\\\\Data\\\\TEST_DATASET\"\n",
    "\n",
    "kernel_ids = []\n",
    "counter = 0\n",
    "limit = 3\n",
    "for fn in os.listdir(DATA_STORE):\n",
    "    if \"KernelInfo\" not in fn:\n",
    "        continue\n",
    "    print(fn)\n",
    "    # counter += 1\n",
    "    if counter >= limit:\n",
    "        break\n",
    "    #####\n",
    "    with open(os.path.join(DATA_STORE, fn), \"r\") as f:\n",
    "        kernels = json.load(f)\n",
    "    for kernel in kernels:\n",
    "        # key = list(kernel.keys())[0]\n",
    "        value = kernel[\"info\"]\n",
    "        if value[\"author\"][\"displayName\"] == \"Kaggle Kerneler\":\n",
    "            continue\n",
    "        kernel_ids.append(kernel)\n",
    "        # counter+=1\n",
    "\n",
    "with open(os.path.join(DATA_STORE, \"combined_v1.json\"), \"w\") as f:\n",
    "    kernels = json.dump(kernel_ids, f)\n",
    "print(len(kernel_ids))"
   ]
  },
  {
   "cell_type": "markdown",
   "metadata": {},
   "source": [
    "# get files of kernels for this pipeline"
   ]
  },
  {
   "cell_type": "code",
   "execution_count": null,
   "metadata": {},
   "outputs": [],
   "source": [
    "# -*- coding: utf-8 -*-\n",
    "import json, os, shutil\n",
    "json_path = \"J:\\\\EECS_6414\\\\Data\\\\TEST_DATASET\\\\combined_v1.json\"\n",
    "file_from = \"J:\\\\EECS_6414\\\\Data\\\\19-02-03\\\\files\"\n",
    "file_to = \"J:\\EECS_6414\\Data\\TEST_DATASET\\\\files\"\n",
    "if not os.path.exists(file_to):\n",
    "    os.makedirs(file_to)\n",
    "with open(json_path, \"r\") as j:\n",
    "    kernels = json.load(j)\n",
    "for kernel in kernels:\n",
    "   title = kernel[\"title\"]\n",
    "   shutil.copytree(os.path.join(file_from, title),\n",
    "                   os.path.join(file_to, title))\n",
    "print(\"ok\")\n"
   ]
  },
  {
   "cell_type": "markdown",
   "metadata": {},
   "source": [
    "# Download Authors and Datasets from Kaggle using Spider in \"crawler\"\n",
    "* I don't know why, only 1 item in all of the 2 will be download. Whatever, this is not the top concern now. "
   ]
  },
  {
   "cell_type": "markdown",
   "metadata": {},
   "source": [
    "# Parse Author"
   ]
  },
  {
   "cell_type": "code",
   "execution_count": 15,
   "metadata": {},
   "outputs": [
    {
     "name": "stdout",
     "output_type": "stream",
     "text": [
      "aagundez\n",
      "['39', '19']\n",
      "aantonova\n",
      "['45', '1']\n",
      "abdelwahedassklou\n",
      "['21', '1']\n",
      "abdullahsahin\n",
      "['61', '2']\n",
      "abhilashawasthi\n",
      "abhishek\n",
      "['1107']\n"
     ]
    },
    {
     "ename": "IndexError",
     "evalue": "list index out of range",
     "output_type": "error",
     "traceback": [
      "\u001b[1;31m---------------------------------------------------------------------------\u001b[0m",
      "\u001b[1;31mIndexError\u001b[0m                                Traceback (most recent call last)",
      "\u001b[1;32m<ipython-input-15-4cb15923a44b>\u001b[0m in \u001b[0;36m<module>\u001b[1;34m()\u001b[0m\n\u001b[0;32m     41\u001b[0m         \u001b[0mauthor\u001b[0m\u001b[1;33m,\u001b[0m\u001b[1;33m\u001b[0m\u001b[0m\n\u001b[0;32m     42\u001b[0m         \u001b[0m_\u001b[0m\u001b[1;33m[\u001b[0m\u001b[1;36m0\u001b[0m\u001b[1;33m]\u001b[0m\u001b[1;33m,\u001b[0m \u001b[0m_\u001b[0m\u001b[1;33m[\u001b[0m\u001b[1;36m1\u001b[0m\u001b[1;33m]\u001b[0m\u001b[1;33m,\u001b[0m \u001b[0m_\u001b[0m\u001b[1;33m[\u001b[0m\u001b[1;36m2\u001b[0m\u001b[1;33m]\u001b[0m\u001b[1;33m,\u001b[0m\u001b[1;33m\u001b[0m\u001b[0m\n\u001b[1;32m---> 43\u001b[1;33m         \u001b[0mfollow\u001b[0m\u001b[1;33m[\u001b[0m\u001b[1;36m0\u001b[0m\u001b[1;33m]\u001b[0m\u001b[1;33m,\u001b[0m \u001b[0mfollow\u001b[0m\u001b[1;33m[\u001b[0m\u001b[1;36m1\u001b[0m\u001b[1;33m]\u001b[0m\u001b[1;33m,\u001b[0m\u001b[1;33m\u001b[0m\u001b[0m\n\u001b[0m\u001b[0;32m     44\u001b[0m         \u001b[0mtier\u001b[0m\u001b[1;33m\u001b[0m\u001b[0m\n\u001b[0;32m     45\u001b[0m     ))\n",
      "\u001b[1;31mIndexError\u001b[0m: list index out of range"
     ]
    }
   ],
   "source": [
    "import json, os, shutil\n",
    "from lxml import etree\n",
    "\n",
    "def rank_tier(string):\n",
    "    if \"novice\" in string: \n",
    "        return 0\n",
    "    elif \"contributor\" in string:\n",
    "        return 1\n",
    "    elif \"expert\" in string:\n",
    "        return 2\n",
    "    elif \"master\" in string:\n",
    "        return 3\n",
    "    elif \"grandmaster\" in string:\n",
    "        return 4\n",
    "\n",
    "Author_path = \"J:\\\\EECS_6414\\\\Data\\\\TEST_DATASET\\\\author_pages\"\n",
    "csv_file = \"J:\\\\EECS_6414\\\\Data\\\\TEST_DATASET\\\\author_stats.csv\"\n",
    "c = open(csv_file, \"w\")\n",
    "c.write(\"author,competition,kernel,discussion,follower,following,tier\\n\")\n",
    "counter = 0\n",
    "for page_name in os.listdir(Author_path):\n",
    "    author = page_name.split(\".\")[0]\n",
    "    print(author)\n",
    "    \n",
    "    with open(os.path.join(Author_path, page_name), \"r\", encoding= \"utf-8\") as f:                              \n",
    "        html = f.read()\n",
    "    page_source = etree.HTML(html)\n",
    "    ###########\n",
    "    # this part is for dealing with the problem\n",
    "    # of: too many request.\n",
    "    # we have to abondon those \"too many requests\" pages temprarily.\n",
    "    ###########\n",
    "    if page_source.xpath(\"/html/body/pre/text()\") != []:\n",
    "        continue\n",
    "    ###########\n",
    "    _ = page_source.xpath(\"//span[@class='pageheader__link-count']/span/text()\")\n",
    "    follow = page_source.xpath(\"//div[@class='profile__user-followers-item']/text()\")\n",
    "    tier = rank_tier(page_source.xpath(\"//a[@title='Progression']/p[2]/text()\")[0])\n",
    "    print(follow)\n",
    "    c.write(\"{},{},{},{},{},{},{}\\n\".format(\n",
    "        author,\n",
    "        _[0], _[1], _[2],\n",
    "        follow[0], follow[1],\n",
    "        tier\n",
    "    ))\n",
    "    counter += 1\n",
    "c.close()\n",
    "print(\"хорошо, total number is: {}\".format(counter))"
   ]
  },
  {
   "cell_type": "code",
   "execution_count": null,
   "metadata": {},
   "outputs": [],
   "source": []
  }
 ],
 "metadata": {
  "kernelspec": {
   "display_name": "Python 3",
   "language": "python",
   "name": "python3"
  },
  "language_info": {
   "codemirror_mode": {
    "name": "ipython",
    "version": 3
   },
   "file_extension": ".py",
   "mimetype": "text/x-python",
   "name": "python",
   "nbconvert_exporter": "python",
   "pygments_lexer": "ipython3",
   "version": "3.6.5"
  }
 },
 "nbformat": 4,
 "nbformat_minor": 1
}
