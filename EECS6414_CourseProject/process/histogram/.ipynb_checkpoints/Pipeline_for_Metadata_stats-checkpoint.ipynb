{
 "cells": [
  {
   "cell_type": "markdown",
   "metadata": {},
   "source": [
    "\"黄花堆积堪尽数，木叶卷去又一春。\" ---- 修·学诗"
   ]
  },
  {
   "cell_type": "markdown",
   "metadata": {},
   "source": [
    "appearing times of each kernels vote. "
   ]
  },
  {
   "cell_type": "code",
   "execution_count": 2,
   "metadata": {},
   "outputs": [
    {
     "data": {
      "text/plain": [
       "0       170851\n",
       "1        15952\n",
       "2         6873\n",
       "3         3952\n",
       "4         2638\n",
       "5         1833\n",
       "6         1348\n",
       "7         1100\n",
       "8          893\n",
       "9          753\n",
       "10         631\n",
       "11         546\n",
       "12         487\n",
       "13         396\n",
       "14         354\n",
       "15         291\n",
       "16         277\n",
       "17         274\n",
       "18         244\n",
       "20         180\n",
       "19         178\n",
       "21         159\n",
       "22         150\n",
       "23         130\n",
       "24         117\n",
       "26         114\n",
       "25         106\n",
       "28          98\n",
       "27          93\n",
       "30          89\n",
       "         ...  \n",
       "280          1\n",
       "597          1\n",
       "214          1\n",
       "663          1\n",
       "535          1\n",
       "706          1\n",
       "470          1\n",
       "194          1\n",
       "2120         1\n",
       "278          1\n",
       "2421         1\n",
       "283          1\n",
       "290          1\n",
       "595          1\n",
       "324          1\n",
       "242          1\n",
       "417          1\n",
       "289          1\n",
       "720          1\n",
       "370          1\n",
       "160          1\n",
       "498          1\n",
       "337          1\n",
       "926          1\n",
       "755          1\n",
       "565          1\n",
       "338          1\n",
       "339          1\n",
       "883          1\n",
       "541          1\n",
       "Name: 0, Length: 379, dtype: int64"
      ]
     },
     "execution_count": 2,
     "metadata": {},
     "output_type": "execute_result"
    }
   ],
   "source": [
    "import csv\n",
    "import pandas as pd\n",
    "import matplotlib.pyplot as plt\n",
    "import numpy as np\n",
    "\n",
    "data = pd.read_csv(\"VoteNumberThatEachKernelHas.csv\")\n",
    "cnt = data[\"0\"].value_counts()\n",
    "cnt"
   ]
  },
  {
   "cell_type": "markdown",
   "metadata": {},
   "source": [
    "How many kernels thera are that have more than 5 kernels. "
   ]
  },
  {
   "cell_type": "code",
   "execution_count": 13,
   "metadata": {},
   "outputs": [
    {
     "data": {
      "text/plain": [
       "13444"
      ]
     },
     "execution_count": 13,
     "metadata": {},
     "output_type": "execute_result"
    }
   ],
   "source": [
    "cnt[5:].sum()"
   ]
  },
  {
   "cell_type": "markdown",
   "metadata": {},
   "source": [
    "How many kernels thera are that have more than 10 kernels. "
   ]
  },
  {
   "cell_type": "code",
   "execution_count": 14,
   "metadata": {},
   "outputs": [
    {
     "data": {
      "text/plain": [
       "7517"
      ]
     },
     "execution_count": 14,
     "metadata": {},
     "output_type": "execute_result"
    }
   ],
   "source": [
    "cnt[10:].sum()"
   ]
  },
  {
   "cell_type": "markdown",
   "metadata": {},
   "source": [
    "Density Graph"
   ]
  },
  {
   "cell_type": "code",
   "execution_count": 20,
   "metadata": {},
   "outputs": [
    {
     "data": {
      "image/png": "[encoded data removed]",
      "text/plain": [
       "<Figure size 432x288 with 1 Axes>"
      ]
     },
     "metadata": {},
     "output_type": "display_data"
    }
   ],
   "source": [
    "plt.figure()\n",
    "plt.hist(data[\"0\"], bins= 300, density= True)\n",
    "plt.show()"
   ]
  },
  {
   "cell_type": "code",
   "execution_count": null,
   "metadata": {},
   "outputs": [],
   "source": [
    "fig1, ax1 = plt.subplots(figsize=(8, 10))\n",
    "plt.hist(data[\"0\"], bins= 300, density= True)\n",
    "fig1.savefig(\"neneda\" + \".pdf\")\n",
    "plt.show()"
   ]
  },
  {
   "cell_type": "code",
   "execution_count": 14,
   "metadata": {},
   "outputs": [
    {
     "data": {
      "image/png": "[encoded data removed]",
      "text/plain": [
       "<Figure size 432x288 with 1 Axes>"
      ]
     },
     "metadata": {},
     "output_type": "display_data"
    }
   ],
   "source": [
    "plt.figure()\n",
    "plt.hist(cnt, bins= 100)\n",
    "plt.show()"
   ]
  }
 ],
 "metadata": {
  "kernelspec": {
   "display_name": "Python 3",
   "language": "python",
   "name": "python3"
  },
  "language_info": {
   "codemirror_mode": {
    "name": "ipython",
    "version": 3
   },
   "file_extension": ".py",
   "mimetype": "text/x-python",
   "name": "python",
   "nbconvert_exporter": "python",
   "pygments_lexer": "ipython3",
   "version": "3.6.5"
  }
 },
 "nbformat": 4,
 "nbformat_minor": 2
}
