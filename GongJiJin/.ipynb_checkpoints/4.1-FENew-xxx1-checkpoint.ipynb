{
 "cells": [
  {
   "cell_type": "markdown",
   "metadata": {
    "heading_collapsed": true
   },
   "source": [
    "# Google Colab Settings"
   ]
  },
  {
   "cell_type": "code",
   "execution_count": 1,
   "metadata": {
    "colab": {
     "base_uri": "https://localhost:8080/"
    },
    "executionInfo": {
     "elapsed": 11077,
     "status": "ok",
     "timestamp": 1608077263594,
     "user": {
      "displayName": "Minke Xiu",
      "photoUrl": "https://lh3.googleusercontent.com/a-/AOh14GiKrlSLM7H0tbRpIYdHPAKnVjaQdF6dZZWD9Jdd=s64",
      "userId": "01913327350585558279"
     },
     "user_tz": 300
    },
    "hidden": true,
    "id": "R4WSZnaj3fHM",
    "outputId": "049215f2-f48c-4bc0-fd56-3f9c450fa573"
   },
   "outputs": [
    {
     "name": "stdout",
     "output_type": "stream",
     "text": [
      "Collecting catboost\n",
      "\u001b[?25l  Downloading https://files.pythonhosted.org/packages/7e/c1/c1c4707013f9e2f8a96899dd3a87f66c9167d6d776a6dc8fe7ec8678d446/catboost-0.24.3-cp36-none-manylinux1_x86_64.whl (66.3MB)\n",
      "\u001b[K     |████████████████████████████████| 66.3MB 68kB/s \n",
      "\u001b[?25hRequirement already satisfied: plotly in /usr/local/lib/python3.6/dist-packages (from catboost) (4.4.1)\n",
      "Requirement already satisfied: pandas>=0.24.0 in /usr/local/lib/python3.6/dist-packages (from catboost) (1.1.5)\n",
      "Requirement already satisfied: graphviz in /usr/local/lib/python3.6/dist-packages (from catboost) (0.10.1)\n",
      "Requirement already satisfied: numpy>=1.16.0 in /usr/local/lib/python3.6/dist-packages (from catboost) (1.18.5)\n",
      "Requirement already satisfied: scipy in /usr/local/lib/python3.6/dist-packages (from catboost) (1.4.1)\n",
      "Requirement already satisfied: six in /usr/local/lib/python3.6/dist-packages (from catboost) (1.15.0)\n",
      "Requirement already satisfied: matplotlib in /usr/local/lib/python3.6/dist-packages (from catboost) (3.2.2)\n",
      "Requirement already satisfied: retrying>=1.3.3 in /usr/local/lib/python3.6/dist-packages (from plotly->catboost) (1.3.3)\n",
      "Requirement already satisfied: python-dateutil>=2.7.3 in /usr/local/lib/python3.6/dist-packages (from pandas>=0.24.0->catboost) (2.8.1)\n",
      "Requirement already satisfied: pytz>=2017.2 in /usr/local/lib/python3.6/dist-packages (from pandas>=0.24.0->catboost) (2018.9)\n",
      "Requirement already satisfied: pyparsing!=2.0.4,!=2.1.2,!=2.1.6,>=2.0.1 in /usr/local/lib/python3.6/dist-packages (from matplotlib->catboost) (2.4.7)\n",
      "Requirement already satisfied: kiwisolver>=1.0.1 in /usr/local/lib/python3.6/dist-packages (from matplotlib->catboost) (1.3.1)\n",
      "Requirement already satisfied: cycler>=0.10 in /usr/local/lib/python3.6/dist-packages (from matplotlib->catboost) (0.10.0)\n",
      "Installing collected packages: catboost\n",
      "Successfully installed catboost-0.24.3\n"
     ]
    }
   ],
   "source": [
    "!pip install catboost"
   ]
  },
  {
   "cell_type": "code",
   "execution_count": 2,
   "metadata": {
    "colab": {
     "base_uri": "https://localhost:8080/"
    },
    "executionInfo": {
     "elapsed": 32807,
     "status": "ok",
     "timestamp": 1608077288003,
     "user": {
      "displayName": "Minke Xiu",
      "photoUrl": "https://lh3.googleusercontent.com/a-/AOh14GiKrlSLM7H0tbRpIYdHPAKnVjaQdF6dZZWD9Jdd=s64",
      "userId": "01913327350585558279"
     },
     "user_tz": 300
    },
    "hidden": true,
    "id": "RFA4fqg23hMr",
    "outputId": "d60047ad-bf61-4fa9-8d26-2c834f7b8961"
   },
   "outputs": [
    {
     "name": "stdout",
     "output_type": "stream",
     "text": [
      "Mounted at /content/drive\n"
     ]
    }
   ],
   "source": [
    "from google.colab import drive\n",
    "drive.mount('/content/drive')"
   ]
  },
  {
   "cell_type": "markdown",
   "metadata": {
    "id": "NdYJX6zk3XlC"
   },
   "source": [
    "# Release note\n",
    "\n",
    "全新套路，https://github.com/jiahengqi/datacastle_shixin/blob/master/runner.py"
   ]
  },
  {
   "cell_type": "code",
   "execution_count": 1,
   "metadata": {
    "executionInfo": {
     "elapsed": 511,
     "status": "ok",
     "timestamp": 1608080807763,
     "user": {
      "displayName": "Minke Xiu",
      "photoUrl": "https://lh3.googleusercontent.com/a-/AOh14GiKrlSLM7H0tbRpIYdHPAKnVjaQdF6dZZWD9Jdd=s64",
      "userId": "01913327350585558279"
     },
     "user_tz": 300
    },
    "id": "tdPDqSZR3XlK"
   },
   "outputs": [],
   "source": [
    "import pickle,os,warnings\n",
    "import pandas as pd\n",
    "import numpy as np\n",
    "from collections import Counter\n",
    "from tqdm import trange\n",
    "from sklearn.model_selection import train_test_split, StratifiedKFold, KFold\n",
    "from sklearn.metrics import roc_auc_score\n",
    "from lightgbm import LGBMClassifier\n",
    "from catboost import CatBoostClassifier\n",
    "warnings.filterwarnings('ignore')"
   ]
  },
  {
   "cell_type": "code",
   "execution_count": 2,
   "metadata": {
    "executionInfo": {
     "elapsed": 1106,
     "status": "ok",
     "timestamp": 1608080295823,
     "user": {
      "displayName": "Minke Xiu",
      "photoUrl": "https://lh3.googleusercontent.com/a-/AOh14GiKrlSLM7H0tbRpIYdHPAKnVjaQdF6dZZWD9Jdd=s64",
      "userId": "01913327350585558279"
     },
     "user_tz": 300
    },
    "id": "4oUYkcq43lBi"
   },
   "outputs": [],
   "source": [
    "# import os\n",
    "# os.chdir('/content/drive/My Drive/Colab Notebooks/MachineLearningPractice/GongJiJin')"
   ]
  },
  {
   "cell_type": "code",
   "execution_count": 3,
   "metadata": {
    "executionInfo": {
     "elapsed": 1050,
     "status": "ok",
     "timestamp": 1608080296092,
     "user": {
      "displayName": "Minke Xiu",
      "photoUrl": "https://lh3.googleusercontent.com/a-/AOh14GiKrlSLM7H0tbRpIYdHPAKnVjaQdF6dZZWD9Jdd=s64",
      "userId": "01913327350585558279"
     },
     "user_tz": 300
    },
    "id": "4KdBorpF3XlL"
   },
   "outputs": [],
   "source": [
    "# def score(data,model):\n",
    "#     y_pred=model.predict_proba(data[feat])[:, 1]\n",
    "#     return roc_auc_score(data.Label, y_pred)"
   ]
  },
  {
   "cell_type": "code",
   "execution_count": 14,
   "metadata": {
    "executionInfo": {
     "elapsed": 780,
     "status": "ok",
     "timestamp": 1608080296823,
     "user": {
      "displayName": "Minke Xiu",
      "photoUrl": "https://lh3.googleusercontent.com/a-/AOh14GiKrlSLM7H0tbRpIYdHPAKnVjaQdF6dZZWD9Jdd=s64",
      "userId": "01913327350585558279"
     },
     "user_tz": 300
    },
    "id": "Rkv0FZ2M3XlM"
   },
   "outputs": [],
   "source": [
    "# data_train = pd.read_csv('originalDataset/train.csv')\n",
    "# data_test_a = pd.read_csv('originalDataset/test.csv')\n",
    "\n",
    "train = pd.read_csv('originalDataset/train.csv')\n",
    "train_y = train.label\n",
    "test = pd.read_csv('originalDataset/test.csv')"
   ]
  },
  {
   "cell_type": "code",
   "execution_count": 15,
   "metadata": {
    "executionInfo": {
     "elapsed": 473,
     "status": "ok",
     "timestamp": 1608080298485,
     "user": {
      "displayName": "Minke Xiu",
      "photoUrl": "https://lh3.googleusercontent.com/a-/AOh14GiKrlSLM7H0tbRpIYdHPAKnVjaQdF6dZZWD9Jdd=s64",
      "userId": "01913327350585558279"
     },
     "user_tz": 300
    },
    "id": "f5jiCcdj3XlM"
   },
   "outputs": [],
   "source": [
    "featuresToDiscard = [\"HYZK\", \"ZHIYE\", \"ZHICHEN\", \"ZHIWU\", \"XUELI\"]\n",
    "train.drop(featuresToDiscard, axis = 1, inplace = True)\n",
    "test.drop(featuresToDiscard, axis = 1, inplace = True)"
   ]
  },
  {
   "cell_type": "code",
   "execution_count": 16,
   "metadata": {
    "colab": {
     "base_uri": "https://localhost:8080/"
    },
    "executionInfo": {
     "elapsed": 754,
     "status": "ok",
     "timestamp": 1608080299004,
     "user": {
      "displayName": "Minke Xiu",
      "photoUrl": "https://lh3.googleusercontent.com/a-/AOh14GiKrlSLM7H0tbRpIYdHPAKnVjaQdF6dZZWD9Jdd=s64",
      "userId": "01913327350585558279"
     },
     "user_tz": 300
    },
    "id": "51v9bL4s3XlM",
    "outputId": "31890666-afe7-49ab-9711-f74e5685313f"
   },
   "outputs": [
    {
     "name": "stdout",
     "output_type": "stream",
     "text": [
      "serial features:  ['GRJCJS', 'GRZHYE', 'GRZHSNJZYE', 'GRZHDNGJYE', 'GRYJCE', 'DWYJCE', 'DKFFE', 'DKYE', 'DKLL']\n",
      "categorical features:  ['XINGBIE', 'DWJJLX', 'DWSSHY', 'GRZHZT']\n"
     ]
    }
   ],
   "source": [
    "## 过滤类别较少的和较多的列\n",
    "def get_numerical_serial_fea(data,feas):\n",
    "    numerical_serial_fea = []\n",
    "    numerical_noserial_fea = []\n",
    "    for fea in feas:\n",
    "        temp = data[fea].nunique()\n",
    "        if temp <= 40:\n",
    "            numerical_noserial_fea.append(fea)\n",
    "            continue\n",
    "        numerical_serial_fea.append(fea)\n",
    "    return numerical_serial_fea,numerical_noserial_fea\n",
    "    \n",
    "serial_fea_, categorical_fea_ = get_numerical_serial_fea(train,train.columns)\n",
    "categorical_fea = list(filter(lambda x: x not in [\"DKLL\", \"label\"], categorical_fea_))\n",
    "serial_fea = list(filter(lambda x: x not in [\"id\", \"CSNY\"], serial_fea_))\n",
    "serial_fea.append(\"DKLL\")\n",
    "print(\"serial features: \", serial_fea)\n",
    "print(\"categorical features: \", categorical_fea)"
   ]
  },
  {
   "cell_type": "code",
   "execution_count": 17,
   "metadata": {
    "executionInfo": {
     "elapsed": 652,
     "status": "ok",
     "timestamp": 1608080299195,
     "user": {
      "displayName": "Minke Xiu",
      "photoUrl": "https://lh3.googleusercontent.com/a-/AOh14GiKrlSLM7H0tbRpIYdHPAKnVjaQdF6dZZWD9Jdd=s64",
      "userId": "01913327350585558279"
     },
     "user_tz": 300
    },
    "id": "l2MlFOkl3XlO"
   },
   "outputs": [],
   "source": [
    "cat_feat = categorical_fea #['登记机关', '行业代码', '行业门类', '企业类型']\n",
    "feat = serial_fea #list(set(train.columns)-set(train.select_dtypes(object))-set(['Label', 'ID'])-set(cat_feat))\n",
    "remove_col = []\n",
    "for col in feat:\n",
    "    if train[col].nunique() < 2:\n",
    "        remove_col.append(col)\n",
    "feat = list(set(feat) - set(remove_col))"
   ]
  },
  {
   "cell_type": "code",
   "execution_count": 18,
   "metadata": {
    "colab": {
     "base_uri": "https://localhost:8080/"
    },
    "executionInfo": {
     "elapsed": 712,
     "status": "ok",
     "timestamp": 1608080301230,
     "user": {
      "displayName": "Minke Xiu",
      "photoUrl": "https://lh3.googleusercontent.com/a-/AOh14GiKrlSLM7H0tbRpIYdHPAKnVjaQdF6dZZWD9Jdd=s64",
      "userId": "01913327350585558279"
     },
     "user_tz": 300
    },
    "id": "U8mEDx_i3XlO",
    "outputId": "5810f680-2d15-4bb8-d36e-9b4b3501d536"
   },
   "outputs": [
    {
     "data": {
      "text/plain": [
       "['XINGBIE', 'DWJJLX', 'DWSSHY', 'GRZHZT']"
      ]
     },
     "execution_count": 18,
     "metadata": {},
     "output_type": "execute_result"
    }
   ],
   "source": [
    "cat_feat"
   ]
  },
  {
   "cell_type": "code",
   "execution_count": 19,
   "metadata": {
    "colab": {
     "base_uri": "https://localhost:8080/"
    },
    "executionInfo": {
     "elapsed": 276,
     "status": "ok",
     "timestamp": 1608080301425,
     "user": {
      "displayName": "Minke Xiu",
      "photoUrl": "https://lh3.googleusercontent.com/a-/AOh14GiKrlSLM7H0tbRpIYdHPAKnVjaQdF6dZZWD9Jdd=s64",
      "userId": "01913327350585558279"
     },
     "user_tz": 300
    },
    "id": "mIPq4E033XlO",
    "outputId": "5ba4ad2d-da09-4602-8e0d-ca800eb80183"
   },
   "outputs": [
    {
     "data": {
      "text/plain": [
       "['DKLL',\n",
       " 'GRJCJS',\n",
       " 'DKFFE',\n",
       " 'GRZHDNGJYE',\n",
       " 'GRZHYE',\n",
       " 'DKYE',\n",
       " 'DWYJCE',\n",
       " 'GRZHSNJZYE',\n",
       " 'GRYJCE']"
      ]
     },
     "execution_count": 19,
     "metadata": {},
     "output_type": "execute_result"
    }
   ],
   "source": [
    "feat"
   ]
  },
  {
   "cell_type": "code",
   "execution_count": 20,
   "metadata": {
    "executionInfo": {
     "elapsed": 400,
     "status": "ok",
     "timestamp": 1608080302388,
     "user": {
      "displayName": "Minke Xiu",
      "photoUrl": "https://lh3.googleusercontent.com/a-/AOh14GiKrlSLM7H0tbRpIYdHPAKnVjaQdF6dZZWD9Jdd=s64",
      "userId": "01913327350585558279"
     },
     "user_tz": 300
    },
    "id": "sP26tnB_3XlP"
   },
   "outputs": [],
   "source": [
    "class Feat:\n",
    "    def __init__(self, config):\n",
    "        self.config = config\n",
    "    \n",
    "    def fit(self, x, y):\n",
    "        pass\n",
    "\n",
    "    def transform(self, x):\n",
    "        pass\n",
    "    \n",
    "    def fit_transform(self, x, y):\n",
    "        self.fit(x, y)\n",
    "        self.transform(x)\n",
    "        \n",
    "class CatCount(Feat):\n",
    "    def transform(self, x):\n",
    "        for col in self.config['cat_columns']:\n",
    "            df_count = x[col].value_counts()\n",
    "            x[f'{col}_catcount'] = x[col].map(df_count)\n",
    "\n",
    "class CatCountRank(Feat):\n",
    "    def fit(self, x, y):\n",
    "        self.fit_dict = {}\n",
    "        for col in self.config['cat_columns']:\n",
    "            counter =  Counter(x[col]).most_common()\n",
    "            self.fit_dict[col] = {k: i for (i, (k, v)) in enumerate(counter)}\n",
    "\n",
    "    def transform(self, x):\n",
    "        for col in self.config['cat_columns']:\n",
    "            x[f'{col}_countrank'] = x[col].map(self.fit_dict[col])"
   ]
  },
  {
   "cell_type": "code",
   "execution_count": 21,
   "metadata": {
    "executionInfo": {
     "elapsed": 708,
     "status": "ok",
     "timestamp": 1608080303608,
     "user": {
      "displayName": "Minke Xiu",
      "photoUrl": "https://lh3.googleusercontent.com/a-/AOh14GiKrlSLM7H0tbRpIYdHPAKnVjaQdF6dZZWD9Jdd=s64",
      "userId": "01913327350585558279"
     },
     "user_tz": 300
    },
    "id": "LvD6Sang3XlP"
   },
   "outputs": [],
   "source": [
    "config = {}\n",
    "config['cat_columns'] = cat_feat"
   ]
  },
  {
   "cell_type": "code",
   "execution_count": 22,
   "metadata": {
    "executionInfo": {
     "elapsed": 393,
     "status": "ok",
     "timestamp": 1608080304312,
     "user": {
      "displayName": "Minke Xiu",
      "photoUrl": "https://lh3.googleusercontent.com/a-/AOh14GiKrlSLM7H0tbRpIYdHPAKnVjaQdF6dZZWD9Jdd=s64",
      "userId": "01913327350585558279"
     },
     "user_tz": 300
    },
    "id": "qIpotPpx3XlP"
   },
   "outputs": [],
   "source": [
    "categorical_fea_index = []\n",
    "for i, col in enumerate(train.columns):\n",
    "    if col in cat_feat:\n",
    "        categorical_fea_index.append(i)\n",
    "\n",
    "params = {\n",
    "    'boosting_type': 'gbdt',\n",
    "    'objective': 'binary',\n",
    "    'min_child_weight': 5,\n",
    "    'num_leaves': 2 ** 5,\n",
    "    'lambda_l2': 10,\n",
    "    'feature_fraction': 0.8,\n",
    "    'bagging_fraction': 0.8,\n",
    "    'bagging_freq': 4,\n",
    "    'learning_rate': 0.1,\n",
    "    'seed': 2020,\n",
    "    'nthread': 28,\n",
    "    'n_jobs':24,\n",
    "    'verbose': -1,\n",
    "\n",
    "    ## \n",
    "    \"categorical_feature\": categorical_fea_index, #\"name:{}\".format(\",\".join(categorical_fea)),\n",
    "\n",
    "    #########\n",
    "#                 'silent': True,\n",
    "    # 'metric': 'auc',\n",
    "}"
   ]
  },
  {
   "cell_type": "markdown",
   "metadata": {},
   "source": [
    "比较重要的数据处理步骤来了哦，注意，别盲目跑代码cell了。"
   ]
  },
  {
   "cell_type": "code",
   "execution_count": 13,
   "metadata": {
    "colab": {
     "base_uri": "https://localhost:8080/"
    },
    "executionInfo": {
     "elapsed": 44344,
     "status": "ok",
     "timestamp": 1608080349192,
     "user": {
      "displayName": "Minke Xiu",
      "photoUrl": "https://lh3.googleusercontent.com/a-/AOh14GiKrlSLM7H0tbRpIYdHPAKnVjaQdF6dZZWD9Jdd=s64",
      "userId": "01913327350585558279"
     },
     "user_tz": 300
    },
    "id": "y1BNwfrB3XlQ",
    "outputId": "09a58d25-ff4d-452b-b156-ad7869e5f5ec"
   },
   "outputs": [
    {
     "name": "stderr",
     "output_type": "stream",
     "text": [
      "\r",
      "  0%|                                                                                            | 0/9 [00:00<?, ?it/s]"
     ]
    },
    {
     "name": "stdout",
     "output_type": "stream",
     "text": [
      "[LightGBM] [Warning] num_threads is set with n_jobs=24, nthread=28 will be ignored. Current value: num_threads=24\n",
      "[LightGBM] [Warning] feature_fraction is set=0.8, colsample_bytree=1.0 will be ignored. Current value: feature_fraction=0.8\n",
      "[LightGBM] [Warning] bagging_fraction is set=0.8, subsample=1.0 will be ignored. Current value: bagging_fraction=0.8\n",
      "[LightGBM] [Warning] lambda_l2 is set=10, reg_lambda=0.0 will be ignored. Current value: lambda_l2=10\n",
      "[LightGBM] [Warning] bagging_freq is set=4, subsample_freq=0 will be ignored. Current value: bagging_freq=4\n"
     ]
    },
    {
     "name": "stderr",
     "output_type": "stream",
     "text": [
      "\r",
      " 11%|█████████▎                                                                          | 1/9 [00:02<00:21,  2.69s/it]"
     ]
    },
    {
     "name": "stdout",
     "output_type": "stream",
     "text": [
      "DKLL|GRYJCE|sub           1\n",
      "DKLL|GRYJCE|add           1\n",
      "GRYJCE|DKLL|div           5\n",
      "DKLL|GRYJCE|mul           6\n",
      "DKLL|GRYJCE|div           9\n",
      "GRJCJS|DKLL|div          13\n",
      "DKLL|DWYJCE|sub          14\n",
      "DKLL|DWYJCE|add          15\n",
      "GRZHSNJZYE               16\n",
      "DKLL|GRZHSNJZYE|sub      19\n",
      "DKLL|GRZHSNJZYE|add      20\n",
      "DKLL|DKFFE|add           21\n",
      "GRZHSNJZYE|DKLL|div      21\n",
      "DKYE|DKLL|div            22\n",
      "DKLL|DKFFE|sub           23\n",
      "GRZHYE|DKLL|div          23\n",
      "GRYJCE                   24\n",
      "DKLL|GRZHSNJZYE|div      24\n",
      "DKLL|GRZHSNJZYE|mul      25\n",
      "DKLL|GRZHYE|sub          26\n",
      "GRZHDNGJYE|DKLL|div      26\n",
      "DKLL|GRZHDNGJYE|mul      26\n",
      "DKLL|GRZHYE|add          27\n",
      "DKLL|GRJCJS|sub          27\n",
      "DKLL|GRJCJS|div          27\n",
      "DKFFE|DKLL|div           28\n",
      "DWYJCE|DKLL|div          28\n",
      "DKLL|DWYJCE|mul          28\n",
      "DKLL|GRZHDNGJYE|sub      29\n",
      "DKLL|DWYJCE|div          29\n",
      "DKLL                     30\n",
      "DKLL|DKYE|add            32\n",
      "DKLL|DKFFE|mul           34\n",
      "DKLL|DKYE|div            35\n",
      "DKLL|GRJCJS|add          35\n",
      "DKLL|GRZHDNGJYE|add      36\n",
      "GRZHYE                   38\n",
      "DKLL|GRZHYE|div          39\n",
      "DKLL|DKYE|sub            40\n",
      "DKLL|DKFFE|div           43\n",
      "DKLL|GRJCJS|mul          50\n",
      "DKLL|GRZHYE|mul          51\n",
      "DKLL|GRZHDNGJYE|div      56\n",
      "DKFFE                    56\n",
      "DKYE                     59\n",
      "DKLL|DKYE|mul            76\n",
      "GRZHDNGJYE              193\n",
      "GRJCJS                  402\n",
      "DWYJCE                 1192\n",
      "dtype: int32\n"
     ]
    },
    {
     "name": "stderr",
     "output_type": "stream",
     "text": [
      "\r",
      " 22%|██████████████████▋                                                                 | 2/9 [00:05<00:19,  2.79s/it]"
     ]
    },
    {
     "name": "stdout",
     "output_type": "stream",
     "text": [
      "GRJCJS|GRYJCE|add           0\n",
      "GRJCJS|GRYJCE|sub           1\n",
      "GRJCJS|GRYJCE|mul           2\n",
      "GRYJCE|GRJCJS|div           3\n",
      "GRJCJS|GRYJCE|div           7\n",
      "GRJCJS|DWYJCE|add           8\n",
      "GRJCJS|DWYJCE|sub          13\n",
      "GRJCJS|GRZHDNGJYE|add      17\n",
      "GRJCJS|DWYJCE|mul          18\n",
      "DKFFE|GRJCJS|div           21\n",
      "GRJCJS|DKFFE|div           23\n",
      "GRJCJS|GRZHSNJZYE|sub      24\n",
      "GRJCJS|GRZHSNJZYE|div      27\n",
      "GRZHSNJZYE                 27\n",
      "GRJCJS|GRZHSNJZYE|add      28\n",
      "GRJCJS|GRZHYE|add          28\n",
      "GRZHSNJZYE|GRJCJS|div      29\n",
      "GRJCJS|DKYE|div            31\n",
      "GRZHYE|GRJCJS|div          33\n",
      "DWYJCE|GRJCJS|div          34\n",
      "GRJCJS|GRZHDNGJYE|mul      35\n",
      "DKLL                       38\n",
      "GRJCJS|DKYE|mul            39\n",
      "GRZHYE                     41\n",
      "GRJCJS|DKFFE|add           41\n",
      "GRJCJS|GRZHYE|div          42\n",
      "GRJCJS|GRZHYE|sub          43\n",
      "GRJCJS|DKFFE|mul           43\n",
      "GRYJCE                     44\n",
      "GRJCJS|GRZHYE|mul          45\n",
      "DKYE|GRJCJS|div            46\n",
      "GRJCJS|DKYE|sub            49\n",
      "GRZHDNGJYE|GRJCJS|div      50\n",
      "GRJCJS|DWYJCE|div          51\n",
      "GRJCJS|GRZHSNJZYE|mul      56\n",
      "GRJCJS|GRZHDNGJYE|sub      60\n",
      "GRJCJS|DKYE|add            63\n",
      "DKFFE                      63\n",
      "GRJCJS|GRZHDNGJYE|div      64\n",
      "GRJCJS|DKFFE|sub           73\n",
      "DKYE                       76\n",
      "GRZHDNGJYE                189\n",
      "GRJCJS                    380\n",
      "DWYJCE                   1095\n",
      "dtype: int32\n"
     ]
    },
    {
     "name": "stderr",
     "output_type": "stream",
     "text": [
      "\r",
      " 33%|████████████████████████████                                                        | 3/9 [00:07<00:15,  2.52s/it]"
     ]
    },
    {
     "name": "stdout",
     "output_type": "stream",
     "text": [
      "GRYJCE|DKFFE|div           2\n",
      "DKFFE|GRYJCE|sub           2\n",
      "DKFFE|GRYJCE|div           3\n",
      "DKFFE|GRYJCE|add           5\n",
      "DKFFE                      6\n",
      "DKFFE|GRYJCE|mul          12\n",
      "DKFFE|DWYJCE|sub          21\n",
      "DKFFE|GRZHSNJZYE|sub      21\n",
      "DKFFE|GRZHDNGJYE|sub      21\n",
      "DKFFE|GRZHDNGJYE|add      22\n",
      "DKFFE|DWYJCE|add          23\n",
      "DKFFE|GRZHSNJZYE|add      28\n",
      "DKFFE|GRZHYE|sub          29\n",
      "DKFFE|GRZHYE|div          30\n",
      "GRZHSNJZYE|DKFFE|div      32\n",
      "DWYJCE|DKFFE|div          32\n",
      "DKFFE|GRZHYE|add          33\n",
      "GRZHYE|DKFFE|div          33\n",
      "DKFFE|GRZHSNJZYE|div      35\n",
      "DKFFE|DKYE|mul            35\n",
      "DKFFE|DKYE|add            36\n",
      "DKLL                      41\n",
      "DKFFE|DWYJCE|div          42\n",
      "DKYE                      44\n",
      "GRZHYE                    47\n",
      "GRZHDNGJYE|DKFFE|div      48\n",
      "DKYE|DKFFE|div            50\n",
      "DKFFE|GRZHSNJZYE|mul      55\n",
      "DKFFE|GRZHDNGJYE|div      59\n",
      "DKFFE|DWYJCE|mul          59\n",
      "DKFFE|GRZHDNGJYE|mul      61\n",
      "GRZHSNJZYE                61\n",
      "DKFFE|DKYE|div            72\n",
      "DKFFE|DKYE|sub            73\n",
      "DKFFE|GRZHYE|mul         101\n",
      "GRYJCE                   116\n",
      "GRZHDNGJYE               202\n",
      "GRJCJS                   405\n",
      "DWYJCE                  1103\n",
      "dtype: int32\n"
     ]
    },
    {
     "name": "stderr",
     "output_type": "stream",
     "text": [
      "\r",
      " 44%|█████████████████████████████████████▎                                              | 4/9 [00:09<00:11,  2.31s/it]"
     ]
    },
    {
     "name": "stdout",
     "output_type": "stream",
     "text": [
      "GRZHDNGJYE|GRYJCE|sub           1\n",
      "GRZHDNGJYE|GRYJCE|add           4\n",
      "GRYJCE|GRZHDNGJYE|div           5\n",
      "GRZHDNGJYE|GRYJCE|mul           7\n",
      "GRZHDNGJYE|GRYJCE|div          13\n",
      "GRZHDNGJYE|DWYJCE|sub          20\n",
      "GRZHDNGJYE|DWYJCE|add          23\n",
      "GRZHDNGJYE|DWYJCE|mul          26\n",
      "GRZHDNGJYE|GRZHYE|mul          27\n",
      "GRZHDNGJYE|DKYE|div            30\n",
      "GRZHDNGJYE|GRZHSNJZYE|mul      32\n",
      "GRZHDNGJYE|GRZHSNJZYE|div      33\n",
      "GRZHDNGJYE|GRZHYE|add          35\n",
      "GRZHYE|GRZHDNGJYE|div          36\n",
      "DWYJCE|GRZHDNGJYE|div          38\n",
      "GRZHDNGJYE|DKYE|mul            38\n",
      "GRZHDNGJYE|GRZHYE|sub          38\n",
      "DKLL                           40\n",
      "GRZHYE                         41\n",
      "GRZHSNJZYE|GRZHDNGJYE|div      43\n",
      "DKYE|GRZHDNGJYE|div            43\n",
      "GRZHDNGJYE|GRZHSNJZYE|sub      47\n",
      "GRZHDNGJYE|GRZHSNJZYE|add      47\n",
      "GRZHDNGJYE|DKYE|add            48\n",
      "GRZHDNGJYE|DWYJCE|div          53\n",
      "GRZHSNJZYE                     54\n",
      "GRZHDNGJYE|GRZHYE|div          55\n",
      "DKFFE|GRZHYE|mul               66\n",
      "GRZHDNGJYE|DKYE|sub            71\n",
      "DKYE                          104\n",
      "GRYJCE                        119\n",
      "DKFFE                         163\n",
      "GRZHDNGJYE                    209\n",
      "GRJCJS                        410\n",
      "DWYJCE                       1081\n",
      "dtype: int32\n"
     ]
    },
    {
     "name": "stderr",
     "output_type": "stream",
     "text": [
      "\r",
      " 56%|██████████████████████████████████████████████▋                                     | 5/9 [00:11<00:08,  2.16s/it]"
     ]
    },
    {
     "name": "stdout",
     "output_type": "stream",
     "text": [
      "GRZHYE|GRYJCE|div           2\n",
      "GRYJCE|GRZHYE|div           3\n",
      "GRZHYE|GRYJCE|add           4\n",
      "GRZHYE|GRYJCE|sub           5\n",
      "GRZHYE|GRYJCE|mul           7\n",
      "GRZHYE|DWYJCE|sub          19\n",
      "DKYE|GRZHYE|div            19\n",
      "GRZHYE|DWYJCE|add          20\n",
      "GRZHYE|GRZHSNJZYE|add      26\n",
      "DWYJCE|GRZHYE|div          33\n",
      "GRZHYE                     34\n",
      "GRZHYE|DKYE|div            36\n",
      "GRZHSNJZYE|GRZHYE|div      40\n",
      "GRZHYE|DKYE|mul            40\n",
      "DKLL                       42\n",
      "GRZHYE|DKYE|add            42\n",
      "GRZHYE|DWYJCE|div          43\n",
      "GRZHYE|DWYJCE|mul          45\n",
      "GRZHYE|GRZHSNJZYE|div      45\n",
      "DKFFE|GRZHYE|mul           46\n",
      "GRZHYE|GRZHSNJZYE|mul      50\n",
      "GRZHYE|DKYE|sub            51\n",
      "GRZHSNJZYE                 53\n",
      "GRZHYE|GRZHSNJZYE|sub      80\n",
      "GRYJCE                    115\n",
      "DKFFE                     151\n",
      "DKYE                      159\n",
      "GRZHDNGJYE                191\n",
      "GRJCJS                    372\n",
      "DWYJCE                   1327\n",
      "dtype: int32\n"
     ]
    },
    {
     "name": "stderr",
     "output_type": "stream",
     "text": [
      "\r",
      " 67%|████████████████████████████████████████████████████████                            | 6/9 [00:12<00:06,  2.01s/it]"
     ]
    },
    {
     "name": "stdout",
     "output_type": "stream",
     "text": [
      "DKYE|GRYJCE|add          11\n",
      "DKYE|GRYJCE|div          11\n",
      "DKYE|GRYJCE|mul          14\n",
      "GRYJCE|DKYE|div          15\n",
      "DKYE|GRYJCE|sub          16\n",
      "DKYE|GRZHSNJZYE|sub      37\n",
      "DKYE|DWYJCE|sub          37\n",
      "DKYE|DWYJCE|add          38\n",
      "GRZHYE                   41\n",
      "GRZHSNJZYE|DKYE|div      45\n",
      "DKYE|GRZHSNJZYE|div      50\n",
      "DKYE|DWYJCE|div          54\n",
      "DKLL                     54\n",
      "DKYE                     56\n",
      "DWYJCE|DKYE|div          57\n",
      "DKYE|DWYJCE|mul          60\n",
      "DKYE|GRZHSNJZYE|mul      66\n",
      "DKYE|GRZHSNJZYE|add      68\n",
      "GRZHSNJZYE               77\n",
      "GRYJCE                  128\n",
      "DKFFE|GRZHYE|mul        165\n",
      "DKFFE                   177\n",
      "GRZHDNGJYE              194\n",
      "GRJCJS                  367\n",
      "DWYJCE                 1262\n",
      "dtype: int32\n"
     ]
    },
    {
     "name": "stderr",
     "output_type": "stream",
     "text": [
      "\r",
      " 78%|█████████████████████████████████████████████████████████████████▎                  | 7/9 [00:14<00:03,  1.93s/it]"
     ]
    },
    {
     "name": "stdout",
     "output_type": "stream",
     "text": [
      "GRYJCE|DWYJCE|div           0\n",
      "DWYJCE|GRYJCE|sub           0\n",
      "DWYJCE|GRYJCE|div           0\n",
      "DWYJCE|GRYJCE|mul           8\n",
      "DWYJCE|GRYJCE|add          14\n",
      "DWYJCE|GRZHSNJZYE|sub      37\n",
      "GRZHYE                     39\n",
      "GRZHSNJZYE                 45\n",
      "GRZHSNJZYE|DWYJCE|div      52\n",
      "DKLL                       52\n",
      "DWYJCE|GRZHSNJZYE|div      55\n",
      "DWYJCE|GRZHSNJZYE|add      58\n",
      "DWYJCE|GRZHSNJZYE|mul      94\n",
      "GRYJCE                    146\n",
      "DKFFE|GRZHYE|mul          176\n",
      "GRZHDNGJYE                201\n",
      "DKFFE                     214\n",
      "DKYE                      265\n",
      "GRJCJS                    406\n",
      "DWYJCE                   1238\n",
      "dtype: int32\n"
     ]
    },
    {
     "name": "stderr",
     "output_type": "stream",
     "text": [
      "\r",
      " 89%|██████████████████████████████████████████████████████████████████████████▋         | 8/9 [00:16<00:01,  1.87s/it]"
     ]
    },
    {
     "name": "stdout",
     "output_type": "stream",
     "text": [
      "GRYJCE|GRZHSNJZYE|div      34\n",
      "GRZHYE                     44\n",
      "GRZHSNJZYE|GRYJCE|sub      48\n",
      "GRZHSNJZYE|GRYJCE|add      49\n",
      "GRZHSNJZYE                 50\n",
      "DKLL                       51\n",
      "GRZHSNJZYE|GRYJCE|div      66\n",
      "GRZHSNJZYE|GRYJCE|mul      87\n",
      "GRYJCE                    158\n",
      "DKFFE|GRZHYE|mul          195\n",
      "DKFFE                     197\n",
      "GRZHDNGJYE                211\n",
      "DKYE                      270\n",
      "GRJCJS                    408\n",
      "DWYJCE                   1232\n",
      "dtype: int32\n"
     ]
    },
    {
     "name": "stderr",
     "output_type": "stream",
     "text": [
      "100%|████████████████████████████████████████████████████████████████████████████████████| 9/9 [00:18<00:00,  2.00s/it]"
     ]
    },
    {
     "name": "stdout",
     "output_type": "stream",
     "text": [
      "GRZHYE                45\n",
      "DKLL                  56\n",
      "GRYJCE               179\n",
      "GRZHSNJZYE           184\n",
      "GRZHDNGJYE           214\n",
      "DKFFE                215\n",
      "DKFFE|GRZHYE|mul     233\n",
      "DKYE                 283\n",
      "GRJCJS               429\n",
      "DWYJCE              1262\n",
      "dtype: int32\n"
     ]
    },
    {
     "name": "stderr",
     "output_type": "stream",
     "text": [
      "\n"
     ]
    },
    {
     "data": {
      "text/plain": [
       "Index(['id', 'XINGBIE', 'CSNY', 'DWJJLX', 'DWSSHY', 'GRJCJS', 'GRZHZT',\n",
       "       'GRZHYE', 'GRZHSNJZYE', 'GRZHDNGJYE', 'GRYJCE', 'DWYJCE', 'DKFFE',\n",
       "       'DKYE', 'DKLL', 'label', 'DKFFE|GRZHYE|mul'],\n",
       "      dtype='object')"
      ]
     },
     "execution_count": 13,
     "metadata": {},
     "output_type": "execute_result"
    }
   ],
   "source": [
    "# if not os.path.exists(\"trans_data\"):\n",
    "#     os.makedirs(\"trans_data\")\n",
    "    \n",
    "# if os.path.exists('trans_data/train_1000_10.pkl'):\n",
    "#     train = pickle.load(open('trans_data/train_1000_10.pkl', 'rb'))\n",
    "#     test = pickle.load(open('trans_data/test_1000_10.pkl', 'rb'))\n",
    "# else:\n",
    "importanceThreshold = 50\n",
    "d={'add':'+', 'sub':'-', 'mul':'*', 'div':'/'}\n",
    "feat0 = feat.copy()\n",
    "for i in trange(len(feat)):\n",
    "    df_temp=train[feat0].copy()\n",
    "    # for j in range(i+1,len(feat)):\n",
    "#             print('%s|%s|add'%(feat[i],feat[j]))\n",
    "    for j in range(i,len(feat)):\n",
    "        if i == j:\n",
    "            df_temp['%s|%s|mul'%(feat[i],feat[j])] = train[feat[i]]*train[feat[j]]\n",
    "        else:\n",
    "            df_temp['%s|%s|add'%(feat[i],feat[j])] = train[feat[i]]+train[feat[j]]\n",
    "            df_temp['%s|%s|sub'%(feat[i],feat[j])] = train[feat[i]]-train[feat[j]]\n",
    "            df_temp['%s|%s|mul'%(feat[i],feat[j])] = train[feat[i]]*train[feat[j]]\n",
    "            df_temp['%s|%s|div'%(feat[i],feat[j])] = train[feat[i]]/train[feat[j]]\n",
    "            df_temp['%s|%s|div'%(feat[j],feat[i])] = train[feat[j]]/train[feat[i]] ## 这里是逆序相除哦，亲。\n",
    "    model = LGBMClassifier(\n",
    "        **params, #n_estimators=1000, learning_rate=0.08, max_depth=7, subsample=0.8, colsample_bytree=0.6, n_jobs=4\n",
    "    )\n",
    "    model.fit(df_temp.values, train_y)\n",
    "    qq = pd.Series(model.feature_importances_, index=df_temp.columns).sort_values()\n",
    "    print(qq)\n",
    "    ## 特殊处理重要程度大于100的特征。卧槽，太帅了。\n",
    "    for col in set(qq.loc[qq>importanceThreshold].index)-set(feat0):\n",
    "        f0, f1, f2 = col.split('|')\n",
    "        train[col] = df_temp[col]\n",
    "        ## 如果这个特征靠谱，就把这个特征重复做到test数据集里面。这种操作手法太6了。\n",
    "        test[col] = eval(\"test['%s'] %s test['%s']\"%(f0, d[f2], f1))\n",
    "    feat0.extend(list(set(qq.loc[qq>importanceThreshold].index)-set(feat0)))\n",
    "    # pickle.dump(train, open('trans_data/train_1000_10.pkl','wb'))\n",
    "    # pickle.dump(test, open('trans_data/test_1000_10.pkl','wb'))\n",
    "\n",
    "train.columns"
   ]
  },
  {
   "cell_type": "code",
   "execution_count": 15,
   "metadata": {
    "colab": {
     "base_uri": "https://localhost:8080/"
    },
    "executionInfo": {
     "elapsed": 529,
     "status": "ok",
     "timestamp": 1608081605883,
     "user": {
      "displayName": "Minke Xiu",
      "photoUrl": "https://lh3.googleusercontent.com/a-/AOh14GiKrlSLM7H0tbRpIYdHPAKnVjaQdF6dZZWD9Jdd=s64",
      "userId": "01913327350585558279"
     },
     "user_tz": 300
    },
    "id": "hqFsg7FS_mxt",
    "outputId": "12cd7c31-193a-4cff-a78c-54aa13f96f98"
   },
   "outputs": [
    {
     "name": "stderr",
     "output_type": "stream",
     "text": [
      "\r",
      "  0%|                                                                                            | 0/9 [00:00<?, ?it/s]"
     ]
    },
    {
     "name": "stdout",
     "output_type": "stream",
     "text": [
      "一开始的时候。。 (40000, 9)\n",
      "后来。。 (40000, 11)\n"
     ]
    },
    {
     "name": "stderr",
     "output_type": "stream",
     "text": [
      "\r",
      " 11%|█████████▎                                                                          | 1/9 [00:00<00:05,  1.53it/s]"
     ]
    },
    {
     "name": "stdout",
     "output_type": "stream",
     "text": [
      "DKLL                    1\n",
      "DWYJCE|DWYJCE|mul       1\n",
      "DWYJCE|DWYJCE|add      27\n",
      "GRZHYE                 63\n",
      "DWYJCE                178\n",
      "GRZHSNJZYE            197\n",
      "GRZHDNGJYE            218\n",
      "DKFFE                 233\n",
      "DKYE                  296\n",
      "GRJCJS                447\n",
      "GRYJCE               1439\n",
      "dtype: int32\n",
      "一开始的时候。。 (40000, 9)\n",
      "后来。。 (40000, 11)\n"
     ]
    },
    {
     "name": "stderr",
     "output_type": "stream",
     "text": [
      "\r",
      " 22%|██████████████████▋                                                                 | 2/9 [00:01<00:04,  1.48it/s]"
     ]
    },
    {
     "name": "stdout",
     "output_type": "stream",
     "text": [
      "DKLL                    1\n",
      "GRYJCE|GRYJCE|mul       1\n",
      "GRYJCE|GRYJCE|add      27\n",
      "GRZHYE                 63\n",
      "DWYJCE                178\n",
      "GRZHSNJZYE            197\n",
      "GRZHDNGJYE            218\n",
      "DKFFE                 233\n",
      "DKYE                  296\n",
      "GRJCJS                447\n",
      "GRYJCE               1439\n",
      "dtype: int32\n",
      "一开始的时候。。 (40000, 9)\n",
      "后来。。 (40000, 11)\n"
     ]
    },
    {
     "name": "stderr",
     "output_type": "stream",
     "text": [
      "\r",
      " 33%|████████████████████████████                                                        | 3/9 [00:02<00:04,  1.48it/s]"
     ]
    },
    {
     "name": "stdout",
     "output_type": "stream",
     "text": [
      "DKLL                            2\n",
      "GRZHSNJZYE|GRZHSNJZYE|mul       7\n",
      "GRZHSNJZYE|GRZHSNJZYE|add      45\n",
      "GRZHYE                         60\n",
      "DWYJCE                        172\n",
      "GRZHSNJZYE                    194\n",
      "DKFFE                         213\n",
      "GRZHDNGJYE                    247\n",
      "DKYE                          307\n",
      "GRJCJS                        444\n",
      "GRYJCE                       1409\n",
      "dtype: int32\n",
      "一开始的时候。。 (40000, 9)\n",
      "后来。。 (40000, 11)\n"
     ]
    },
    {
     "name": "stderr",
     "output_type": "stream",
     "text": [
      "\r",
      " 44%|█████████████████████████████████████▎                                              | 4/9 [00:02<00:03,  1.45it/s]"
     ]
    },
    {
     "name": "stdout",
     "output_type": "stream",
     "text": [
      "DKLL                1\n",
      "DKLL|DKLL|mul      17\n",
      "DKLL|DKLL|add      38\n",
      "GRZHYE             63\n",
      "DWYJCE            182\n",
      "GRZHSNJZYE        203\n",
      "DKFFE             221\n",
      "GRZHDNGJYE        232\n",
      "DKYE              295\n",
      "GRJCJS            449\n",
      "GRYJCE           1399\n",
      "dtype: int32\n",
      "一开始的时候。。 (40000, 9)\n",
      "后来。。 (40000, 11)\n"
     ]
    },
    {
     "name": "stderr",
     "output_type": "stream",
     "text": [
      "\r",
      " 56%|██████████████████████████████████████████████▋                                     | 5/9 [00:03<00:02,  1.46it/s]"
     ]
    },
    {
     "name": "stdout",
     "output_type": "stream",
     "text": [
      "DKLL                    3\n",
      "GRZHYE|GRZHYE|mul      47\n",
      "GRZHYE                 53\n",
      "GRZHSNJZYE            156\n",
      "GRZHYE|GRZHYE|add     159\n",
      "DWYJCE                167\n",
      "GRZHDNGJYE            203\n",
      "DKFFE                 212\n",
      "DKYE                  261\n",
      "GRJCJS                420\n",
      "GRYJCE               1419\n",
      "dtype: int32\n",
      "一开始的时候。。 (40000, 10)\n",
      "后来。。 (40000, 12)\n"
     ]
    },
    {
     "name": "stderr",
     "output_type": "stream",
     "text": [
      "\r",
      " 67%|████████████████████████████████████████████████████████                            | 6/9 [00:04<00:02,  1.47it/s]"
     ]
    },
    {
     "name": "stdout",
     "output_type": "stream",
     "text": [
      "DKLL                            4\n",
      "GRZHDNGJYE|GRZHDNGJYE|add       9\n",
      "GRZHYE                         53\n",
      "GRZHDNGJYE|GRZHDNGJYE|mul     140\n",
      "GRZHDNGJYE                    144\n",
      "GRZHSNJZYE                    146\n",
      "DWYJCE                        160\n",
      "DKFFE                         185\n",
      "GRZHYE|GRZHYE|add             189\n",
      "DKYE                          240\n",
      "GRJCJS                        434\n",
      "GRYJCE                       1396\n",
      "dtype: int32\n",
      "一开始的时候。。 (40000, 11)\n",
      "后来。。 (40000, 13)\n"
     ]
    },
    {
     "name": "stderr",
     "output_type": "stream",
     "text": [
      "\r",
      " 78%|█████████████████████████████████████████████████████████████████▎                  | 7/9 [00:04<00:01,  1.49it/s]"
     ]
    },
    {
     "name": "stdout",
     "output_type": "stream",
     "text": [
      "DKLL                            4\n",
      "GRJCJS|GRJCJS|mul              23\n",
      "GRZHYE                         58\n",
      "GRZHDNGJYE                    127\n",
      "GRJCJS|GRJCJS|add             144\n",
      "DWYJCE                        145\n",
      "GRZHSNJZYE                    148\n",
      "GRZHYE|GRZHYE|add             162\n",
      "GRZHDNGJYE|GRZHDNGJYE|mul     164\n",
      "DKFFE                         200\n",
      "DKYE                          245\n",
      "GRJCJS                        372\n",
      "GRYJCE                       1308\n",
      "dtype: int32\n",
      "一开始的时候。。 (40000, 12)\n",
      "后来。。 (40000, 14)\n"
     ]
    },
    {
     "name": "stderr",
     "output_type": "stream",
     "text": [
      "\r",
      " 89%|██████████████████████████████████████████████████████████████████████████▋         | 8/9 [00:05<00:00,  1.50it/s]"
     ]
    },
    {
     "name": "stdout",
     "output_type": "stream",
     "text": [
      "DKLL                            3\n",
      "DKFFE|DKFFE|mul                 3\n",
      "DKFFE|DKFFE|add                38\n",
      "GRZHYE                         45\n",
      "GRZHDNGJYE                    111\n",
      "DWYJCE                        125\n",
      "GRJCJS|GRJCJS|add             130\n",
      "GRZHSNJZYE                    148\n",
      "GRZHDNGJYE|GRZHDNGJYE|mul     166\n",
      "GRZHYE|GRZHYE|add             182\n",
      "DKFFE                         201\n",
      "DKYE                          266\n",
      "GRJCJS                        421\n",
      "GRYJCE                       1261\n",
      "dtype: int32\n",
      "一开始的时候。。 (40000, 12)\n",
      "后来。。 (40000, 14)\n"
     ]
    },
    {
     "name": "stderr",
     "output_type": "stream",
     "text": [
      "100%|████████████████████████████████████████████████████████████████████████████████████| 9/9 [00:06<00:00,  1.48it/s]"
     ]
    },
    {
     "name": "stdout",
     "output_type": "stream",
     "text": [
      "DKLL                            2\n",
      "DKYE|DKYE|mul                   5\n",
      "DKYE|DKYE|add                  42\n",
      "GRZHYE                         52\n",
      "GRZHDNGJYE                    131\n",
      "GRJCJS|GRJCJS|add             144\n",
      "DWYJCE                        147\n",
      "GRZHSNJZYE                    153\n",
      "GRZHDNGJYE|GRZHDNGJYE|mul     158\n",
      "GRZHYE|GRZHYE|add             173\n",
      "DKFFE                         190\n",
      "DKYE                          238\n",
      "GRJCJS                        415\n",
      "GRYJCE                       1250\n",
      "dtype: int32\n"
     ]
    },
    {
     "name": "stderr",
     "output_type": "stream",
     "text": [
      "\n"
     ]
    },
    {
     "data": {
      "text/plain": [
       "Index(['id', 'XINGBIE', 'CSNY', 'DWJJLX', 'DWSSHY', 'GRJCJS', 'GRZHZT',\n",
       "       'GRZHYE', 'GRZHSNJZYE', 'GRZHDNGJYE', 'GRYJCE', 'DWYJCE', 'DKFFE',\n",
       "       'DKYE', 'DKLL', 'label', 'GRYJCE|GRJCJS|div', 'DKLL|DKYE|mul',\n",
       "       'DKLL|GRZHDNGJYE|div', 'DKFFE|DKYE|sub', 'DKFFE|DKYE|div',\n",
       "       'GRZHYE|GRZHYE|add', 'GRZHDNGJYE|GRZHDNGJYE|mul', 'GRJCJS|GRJCJS|add'],\n",
       "      dtype='object')"
      ]
     },
     "execution_count": 15,
     "metadata": {},
     "output_type": "execute_result"
    }
   ],
   "source": [
    "# # if os.path.exists('trans_data/train_1000_10-1.pkl'):\n",
    "# #     train = pickle.load(open('trans_data/train_1000_10-1.pkl', 'rb'))\n",
    "# #     test = pickle.load(open('trans_data/test_1000_10-1.pkl', 'rb'))\n",
    "# # else:\n",
    "# #     ### 载入处理好的部分\n",
    "# #     if os.path.exists('trans_data/train_1000_10.pkl'):\n",
    "# #         train = pickle.load(open('trans_data/train_1000_10.pkl', 'rb'))\n",
    "# #         test = pickle.load(open('trans_data/test_1000_10.pkl', 'rb'))\n",
    "# ### 继续处理\n",
    "# importanceThreshold = 100\n",
    "# d={'add':'+', 'sub':'-', 'mul':'*', 'div':'/'}\n",
    "# feat0 = feat.copy()\n",
    "# for i in trange(len(feat)):\n",
    "#     df_temp=train[feat0].copy()\n",
    "#     print(\"一开始的时候。。\", df_temp.shape)\n",
    "#     for j in [i]:\n",
    "#         df_temp['%s|%s|add'%(feat[i],feat[j])] = train[feat[i]]+train[feat[j]]\n",
    "#         df_temp['%s|%s|mul'%(feat[i],feat[j])] = train[feat[i]]*train[feat[j]]\n",
    "#     print(\"后来。。\", df_temp.shape)\n",
    "#     model = LGBMClassifier(\n",
    "#         **params, #n_estimators=1000, learning_rate=0.08, max_depth=7, subsample=0.8, colsample_bytree=0.6, n_jobs=4\n",
    "#     )\n",
    "#     model.fit(df_temp.values, train_y)\n",
    "#     qq = pd.Series(model.feature_importances_, index=df_temp.columns).sort_values()\n",
    "#     print(qq)\n",
    "#     ## 特殊处理重要程度大于某一阈值的特征。卧槽，太帅了。\n",
    "#     for col in set(qq.loc[qq>importanceThreshold].index)-set(feat0):\n",
    "#         f0, f1, f2 = col.split('|')\n",
    "#         train[col] = df_temp[col]\n",
    "#         ## 如果这个特征靠谱，就把这个特征重复做到test数据集里面。这种操作手法太6了。\n",
    "#         test[col] = eval(\"test['%s'] %s test['%s']\"%(f0, d[f2], f1))\n",
    "#     feat0.extend(list(set(qq.loc[qq>importanceThreshold].index)-set(feat0)))\n",
    "#     # pickle.dump(train, open('trans_data/train_1000_10-1.pkl','wb'))\n",
    "#     # pickle.dump(test, open('trans_data/test_1000_10-1.pkl','wb'))\n",
    "\n",
    "# train.columns"
   ]
  },
  {
   "cell_type": "code",
   "execution_count": 16,
   "metadata": {
    "executionInfo": {
     "elapsed": 1173,
     "status": "ok",
     "timestamp": 1608080587085,
     "user": {
      "displayName": "Minke Xiu",
      "photoUrl": "https://lh3.googleusercontent.com/a-/AOh14GiKrlSLM7H0tbRpIYdHPAKnVjaQdF6dZZWD9Jdd=s64",
      "userId": "01913327350585558279"
     },
     "user_tz": 300
    },
    "id": "NMvFHbI33XlR"
   },
   "outputs": [],
   "source": [
    "def gen_feat(data):\n",
    "    for col in cat_feat:\n",
    "        data[col] = data[col].fillna('empty').astype(str)\n",
    "    for col in data.columns:\n",
    "        if '年' not in col and '|' not in col and data[col].isna().sum()>0:\n",
    "            data['%s_na'%col] = data[col].isna().astype(int)\n",
    "            \n",
    "    featgen = CatCount(config)\n",
    "    featgen.transform(data)\n",
    "    \n",
    "gen_feat(train)\n",
    "gen_feat(test)"
   ]
  },
  {
   "cell_type": "code",
   "execution_count": 17,
   "metadata": {
    "colab": {
     "base_uri": "https://localhost:8080/"
    },
    "executionInfo": {
     "elapsed": 603,
     "status": "ok",
     "timestamp": 1608080588174,
     "user": {
      "displayName": "Minke Xiu",
      "photoUrl": "https://lh3.googleusercontent.com/a-/AOh14GiKrlSLM7H0tbRpIYdHPAKnVjaQdF6dZZWD9Jdd=s64",
      "userId": "01913327350585558279"
     },
     "user_tz": 300
    },
    "id": "F_14Lpor3XlR",
    "outputId": "7377e074-7019-41b5-969e-28843ba5ca95"
   },
   "outputs": [
    {
     "data": {
      "text/plain": [
       "(40000, 28)"
      ]
     },
     "execution_count": 17,
     "metadata": {},
     "output_type": "execute_result"
    }
   ],
   "source": [
    "train.shape"
   ]
  },
  {
   "cell_type": "code",
   "execution_count": 18,
   "metadata": {
    "colab": {
     "base_uri": "https://localhost:8080/"
    },
    "executionInfo": {
     "elapsed": 733,
     "status": "ok",
     "timestamp": 1608080590183,
     "user": {
      "displayName": "Minke Xiu",
      "photoUrl": "https://lh3.googleusercontent.com/a-/AOh14GiKrlSLM7H0tbRpIYdHPAKnVjaQdF6dZZWD9Jdd=s64",
      "userId": "01913327350585558279"
     },
     "user_tz": 300
    },
    "id": "JiS3E9U16jbJ",
    "outputId": "0fceb8bd-fd6c-437d-8313-2c515e4ab99a"
   },
   "outputs": [
    {
     "data": {
      "text/plain": [
       "Index(['id', 'XINGBIE', 'CSNY', 'DWJJLX', 'DWSSHY', 'GRJCJS', 'GRZHZT',\n",
       "       'GRZHYE', 'GRZHSNJZYE', 'GRZHDNGJYE', 'GRYJCE', 'DWYJCE', 'DKFFE',\n",
       "       'DKYE', 'DKLL', 'label', 'GRYJCE|GRJCJS|div', 'DKLL|DKYE|mul',\n",
       "       'DKLL|GRZHDNGJYE|div', 'DKFFE|DKYE|sub', 'DKFFE|DKYE|div',\n",
       "       'GRZHYE|GRZHYE|add', 'GRZHDNGJYE|GRZHDNGJYE|mul', 'GRJCJS|GRJCJS|add',\n",
       "       'XINGBIE_catcount', 'DWJJLX_catcount', 'DWSSHY_catcount',\n",
       "       'GRZHZT_catcount'],\n",
       "      dtype='object')"
      ]
     },
     "execution_count": 18,
     "metadata": {},
     "output_type": "execute_result"
    }
   ],
   "source": [
    "train.columns"
   ]
  },
  {
   "cell_type": "code",
   "execution_count": 19,
   "metadata": {
    "executionInfo": {
     "elapsed": 515,
     "status": "ok",
     "timestamp": 1608080596147,
     "user": {
      "displayName": "Minke Xiu",
      "photoUrl": "https://lh3.googleusercontent.com/a-/AOh14GiKrlSLM7H0tbRpIYdHPAKnVjaQdF6dZZWD9Jdd=s64",
      "userId": "01913327350585558279"
     },
     "user_tz": 300
    },
    "id": "yzvAk5_t3XlR"
   },
   "outputs": [],
   "source": [
    "featgen = CatCountRank(config)\n",
    "featgen.fit_transform(train, train_y)\n",
    "featgen.transform(test)"
   ]
  },
  {
   "cell_type": "code",
   "execution_count": 20,
   "metadata": {
    "executionInfo": {
     "elapsed": 611,
     "status": "ok",
     "timestamp": 1608080597131,
     "user": {
      "displayName": "Minke Xiu",
      "photoUrl": "https://lh3.googleusercontent.com/a-/AOh14GiKrlSLM7H0tbRpIYdHPAKnVjaQdF6dZZWD9Jdd=s64",
      "userId": "01913327350585558279"
     },
     "user_tz": 300
    },
    "id": "87Nh22Kw3XlR"
   },
   "outputs": [],
   "source": [
    "# train[cat_feat].head()"
   ]
  },
  {
   "cell_type": "code",
   "execution_count": 21,
   "metadata": {
    "colab": {
     "base_uri": "https://localhost:8080/"
    },
    "executionInfo": {
     "elapsed": 588,
     "status": "ok",
     "timestamp": 1608080597360,
     "user": {
      "displayName": "Minke Xiu",
      "photoUrl": "https://lh3.googleusercontent.com/a-/AOh14GiKrlSLM7H0tbRpIYdHPAKnVjaQdF6dZZWD9Jdd=s64",
      "userId": "01913327350585558279"
     },
     "user_tz": 300
    },
    "id": "PU7Bzt5a3XlS",
    "outputId": "afaab3e3-990b-47ec-9426-5c0ae0fb457a"
   },
   "outputs": [
    {
     "data": {
      "text/plain": [
       "['DWSSHY_catcount',\n",
       " 'DWJJLX_catcount',\n",
       " 'CSNY',\n",
       " 'GRZHDNGJYE',\n",
       " 'XINGBIE_countrank',\n",
       " 'GRZHZT_catcount',\n",
       " 'XINGBIE_catcount',\n",
       " 'DWSSHY_countrank',\n",
       " 'GRYJCE|GRJCJS|div',\n",
       " 'DKLL|DKYE|mul',\n",
       " 'DWJJLX_countrank',\n",
       " 'DKFFE|DKYE|div',\n",
       " 'DWYJCE',\n",
       " 'GRYJCE',\n",
       " 'GRZHYE|GRZHYE|add',\n",
       " 'GRZHZT_countrank',\n",
       " 'DKLL',\n",
       " 'GRZHSNJZYE',\n",
       " 'GRZHYE',\n",
       " 'GRJCJS|GRJCJS|add',\n",
       " 'GRZHDNGJYE|GRZHDNGJYE|mul',\n",
       " 'GRJCJS',\n",
       " 'DKFFE',\n",
       " 'DKFFE|DKYE|sub',\n",
       " 'DKYE',\n",
       " 'DKLL|GRZHDNGJYE|div']"
      ]
     },
     "execution_count": 21,
     "metadata": {},
     "output_type": "execute_result"
    }
   ],
   "source": [
    "feat0 = list(set(train.columns)-set(train.select_dtypes(object))-set(['label','id'])-set(cat_feat))\n",
    "remove_col = []\n",
    "for col in feat0:\n",
    "    if train[col].nunique() < 2:\n",
    "        remove_col.append(col)\n",
    "feat0 = list(set(feat0) - set(remove_col))\n",
    "feat0"
   ]
  },
  {
   "cell_type": "code",
   "execution_count": 22,
   "metadata": {
    "executionInfo": {
     "elapsed": 754,
     "status": "ok",
     "timestamp": 1608080605016,
     "user": {
      "displayName": "Minke Xiu",
      "photoUrl": "https://lh3.googleusercontent.com/a-/AOh14GiKrlSLM7H0tbRpIYdHPAKnVjaQdF6dZZWD9Jdd=s64",
      "userId": "01913327350585558279"
     },
     "user_tz": 300
    },
    "id": "v1tKZRnSBlKJ"
   },
   "outputs": [],
   "source": [
    "featuresExceptForIDAndLabel = [col for col in train.columns if col not in [\"id\", \"label\"] + cat_feat] \n",
    "train[featuresExceptForIDAndLabel] = train[featuresExceptForIDAndLabel].apply(lambda x: (x - np.min(x)) / (np.max(x) - np.min(x)))\n",
    "test[featuresExceptForIDAndLabel] = test[featuresExceptForIDAndLabel].apply(lambda x: (x - np.min(x)) / (np.max(x) - np.min(x)))"
   ]
  },
  {
   "cell_type": "code",
   "execution_count": 23,
   "metadata": {
    "executionInfo": {
     "elapsed": 734,
     "status": "ok",
     "timestamp": 1608080607069,
     "user": {
      "displayName": "Minke Xiu",
      "photoUrl": "https://lh3.googleusercontent.com/a-/AOh14GiKrlSLM7H0tbRpIYdHPAKnVjaQdF6dZZWD9Jdd=s64",
      "userId": "01913327350585558279"
     },
     "user_tz": 300
    },
    "id": "0k_ZgK_O3XlS"
   },
   "outputs": [],
   "source": [
    "def tpr_weight_funtion(y_true, y_predict):\n",
    "    '''\n",
    "    这是一个通用的计算最终分数的函数。\n",
    "    '''\n",
    "    d = pd.DataFrame()\n",
    "    d['y'] = list(y_true)\n",
    "    d['prob'] = list(y_predict)\n",
    "    d = d.sort_values(['prob'], ascending=[0])\n",
    "    y = d.y\n",
    "    PosAll = pd.Series(y).value_counts()[1]\n",
    "    NegAll = pd.Series(y).value_counts()[0]\n",
    "    pCumsum = d['y'].cumsum()\n",
    "    nCumsum = np.arange(len(y)) - pCumsum + 1\n",
    "    pCumsumPer = pCumsum / PosAll\n",
    "    nCumsumPer = nCumsum / NegAll\n",
    "    TR1 = pCumsumPer[abs(nCumsumPer-0.001).idxmin()]\n",
    "    TR2 = pCumsumPer[abs(nCumsumPer-0.005).idxmin()]\n",
    "    TR3 = pCumsumPer[abs(nCumsumPer-0.01).idxmin()]\n",
    "    \n",
    "    return 0.4 * TR1 + 0.3 * TR2 + 0.3 * TR3"
   ]
  },
  {
   "cell_type": "code",
   "execution_count": 25,
   "metadata": {
    "colab": {
     "base_uri": "https://localhost:8080/"
    },
    "executionInfo": {
     "elapsed": 26995,
     "status": "ok",
     "timestamp": 1608080633696,
     "user": {
      "displayName": "Minke Xiu",
      "photoUrl": "https://lh3.googleusercontent.com/a-/AOh14GiKrlSLM7H0tbRpIYdHPAKnVjaQdF6dZZWD9Jdd=s64",
      "userId": "01913327350585558279"
     },
     "user_tz": 300
    },
    "id": "3PZew_kW3XlS",
    "outputId": "39895a86-27cd-454d-d91f-cb8832fa8f0c",
    "scrolled": false
   },
   "outputs": [
    {
     "name": "stdout",
     "output_type": "stream",
     "text": [
      "************************************ 1 ************************************\n",
      "[LightGBM] [Warning] num_threads is set with n_jobs=24, nthread=28 will be ignored. Current value: num_threads=24\n",
      "[LightGBM] [Warning] feature_fraction is set=0.8, colsample_bytree=1.0 will be ignored. Current value: feature_fraction=0.8\n",
      "[LightGBM] [Warning] bagging_fraction is set=0.8, subsample=1.0 will be ignored. Current value: bagging_fraction=0.8\n",
      "[LightGBM] [Warning] lambda_l2 is set=10, reg_lambda=0.0 will be ignored. Current value: lambda_l2=10\n",
      "[LightGBM] [Warning] bagging_freq is set=4, subsample_freq=0 will be ignored. Current value: bagging_freq=4\n",
      "Training until validation scores don't improve for 200 rounds\n",
      "Did not meet early stopping. Best iteration is:\n",
      "[100]\tvalid_0's binary_logloss: 0.128308\tvalid_0's Weighted_Score: 0.435243\n",
      "0.43524305555555554 [0.43524305555555554]\n",
      "************************************ 2 ************************************\n",
      "[LightGBM] [Warning] num_threads is set with n_jobs=24, nthread=28 will be ignored. Current value: num_threads=24\n",
      "[LightGBM] [Warning] feature_fraction is set=0.8, colsample_bytree=1.0 will be ignored. Current value: feature_fraction=0.8\n",
      "[LightGBM] [Warning] bagging_fraction is set=0.8, subsample=1.0 will be ignored. Current value: bagging_fraction=0.8\n",
      "[LightGBM] [Warning] lambda_l2 is set=10, reg_lambda=0.0 will be ignored. Current value: lambda_l2=10\n",
      "[LightGBM] [Warning] bagging_freq is set=4, subsample_freq=0 will be ignored. Current value: bagging_freq=4\n",
      "Training until validation scores don't improve for 200 rounds\n",
      "Did not meet early stopping. Best iteration is:\n",
      "[100]\tvalid_0's binary_logloss: 0.129354\tvalid_0's Weighted_Score: 0.41921\n",
      "0.4272265547077598 [0.43524305555555554, 0.419210053859964]\n",
      "************************************ 3 ************************************\n",
      "[LightGBM] [Warning] num_threads is set with n_jobs=24, nthread=28 will be ignored. Current value: num_threads=24\n",
      "[LightGBM] [Warning] feature_fraction is set=0.8, colsample_bytree=1.0 will be ignored. Current value: feature_fraction=0.8\n",
      "[LightGBM] [Warning] bagging_fraction is set=0.8, subsample=1.0 will be ignored. Current value: bagging_fraction=0.8\n",
      "[LightGBM] [Warning] lambda_l2 is set=10, reg_lambda=0.0 will be ignored. Current value: lambda_l2=10\n",
      "[LightGBM] [Warning] bagging_freq is set=4, subsample_freq=0 will be ignored. Current value: bagging_freq=4\n",
      "Training until validation scores don't improve for 200 rounds\n",
      "Did not meet early stopping. Best iteration is:\n",
      "[100]\tvalid_0's binary_logloss: 0.13301\tvalid_0's Weighted_Score: 0.431786\n",
      "0.428746274567078 [0.43524305555555554, 0.419210053859964, 0.4317857142857143]\n",
      "************************************ 4 ************************************\n",
      "[LightGBM] [Warning] num_threads is set with n_jobs=24, nthread=28 will be ignored. Current value: num_threads=24\n",
      "[LightGBM] [Warning] feature_fraction is set=0.8, colsample_bytree=1.0 will be ignored. Current value: feature_fraction=0.8\n",
      "[LightGBM] [Warning] bagging_fraction is set=0.8, subsample=1.0 will be ignored. Current value: bagging_fraction=0.8\n",
      "[LightGBM] [Warning] lambda_l2 is set=10, reg_lambda=0.0 will be ignored. Current value: lambda_l2=10\n",
      "[LightGBM] [Warning] bagging_freq is set=4, subsample_freq=0 will be ignored. Current value: bagging_freq=4\n",
      "Training until validation scores don't improve for 200 rounds\n",
      "Did not meet early stopping. Best iteration is:\n",
      "[100]\tvalid_0's binary_logloss: 0.117013\tvalid_0's Weighted_Score: 0.439299\n",
      "0.43138442917254094 [0.43524305555555554, 0.419210053859964, 0.4317857142857143, 0.4392988929889299]\n",
      "************************************ 5 ************************************\n",
      "[LightGBM] [Warning] num_threads is set with n_jobs=24, nthread=28 will be ignored. Current value: num_threads=24\n",
      "[LightGBM] [Warning] feature_fraction is set=0.8, colsample_bytree=1.0 will be ignored. Current value: feature_fraction=0.8\n",
      "[LightGBM] [Warning] bagging_fraction is set=0.8, subsample=1.0 will be ignored. Current value: bagging_fraction=0.8\n",
      "[LightGBM] [Warning] lambda_l2 is set=10, reg_lambda=0.0 will be ignored. Current value: lambda_l2=10\n",
      "[LightGBM] [Warning] bagging_freq is set=4, subsample_freq=0 will be ignored. Current value: bagging_freq=4\n",
      "Training until validation scores don't improve for 200 rounds\n",
      "Did not meet early stopping. Best iteration is:\n",
      "[100]\tvalid_0's binary_logloss: 0.131337\tvalid_0's Weighted_Score: 0.408046\n",
      "0.4267167387403316 [0.43524305555555554, 0.419210053859964, 0.4317857142857143, 0.4392988929889299, 0.40804597701149425]\n"
     ]
    }
   ],
   "source": [
    "def tpr_weight_funtion_lgb(y_true, y_predict):\n",
    "    '''\n",
    "    如果是给lgbm用的，参考https://github.com/microsoft/LightGBM/blob/c02917e493c36f3b1e349338f1087fed33126576/examples/python-guide/advanced_example.py#L154\n",
    "    第一个返回值，是这个函数的可以说是名字或者是标记吧；score就是得到的分数；最后一个就是问，score是越高越好吗。\n",
    "    '''\n",
    "#     y_predict = pred\n",
    "#     y_true = train_data #.get_label()\n",
    "    \n",
    "    d = pd.DataFrame()\n",
    "    d['prob'] = list(y_predict)\n",
    "    d['y'] = list(y_true)\n",
    "    d = d.sort_values(['prob'], ascending=[0])\n",
    "    y = d.y\n",
    "    PosAll = pd.Series(y).value_counts()[1]\n",
    "    NegAll = pd.Series(y).value_counts()[0]\n",
    "    pCumsum = d['y'].cumsum()\n",
    "    nCumsum = np.arange(len(y)) - pCumsum + 1\n",
    "    pCumsumPer = pCumsum / PosAll\n",
    "    nCumsumPer = nCumsum / NegAll\n",
    "    TR1 = pCumsumPer[abs(nCumsumPer-0.001).idxmin()]\n",
    "    TR2 = pCumsumPer[abs(nCumsumPer-0.005).idxmin()]\n",
    "    TR3 = pCumsumPer[abs(nCumsumPer-0.01).idxmin()]\n",
    "    \n",
    "    return \"Weighted_Score\", (0.4 * TR1 + 0.3 * TR2 + 0.3 * TR3), True\n",
    "\n",
    "######################################################################\n",
    "kf = KFold(5,True,random_state=1)\n",
    "prob = np.zeros(len(train))\n",
    "test_prob = np.zeros(len(test))\n",
    "test_data = test[feat0].values\n",
    "\n",
    "cv_scores = []\n",
    "\n",
    "for idx, (train_index, valid_index) in enumerate(kf.split(train, train_y)):\n",
    "    print('************************************ {} ************************************'.format(str(idx+1)))\n",
    "\n",
    "    train_data = train.loc[train_index][feat0].values\n",
    "    valid_data = train.loc[valid_index][feat0].values\n",
    "    model = LGBMClassifier(\n",
    "        **params,\n",
    "#         n_estimators=10000, \n",
    "#         learning_rate=0.08, \n",
    "#         num_leaves=15, \n",
    "#         subsample=0.8, \n",
    "#         colsample_bytree=0.6, \n",
    "#         n_jobs=4,\n",
    "#         categorical_feature = categorical_fea_index, \n",
    "    )\n",
    "    model.fit(\n",
    "        train_data, train_y.loc[train_index], \n",
    "        eval_set=(valid_data, train_y.loc[valid_index]), \n",
    "        early_stopping_rounds=200,\n",
    "        verbose=200,\n",
    "        eval_metric = tpr_weight_funtion_lgb\n",
    "    )\n",
    "    pred = model.predict_proba(valid_data)[:,1]\n",
    "    prob[valid_index] = pred\n",
    "#     prob[valid_index] = model.predict_proba(valid_data)[:, 1]\n",
    "    \n",
    "    cv_scores.append(tpr_weight_funtion(train_y.iloc[valid_index], pred))\n",
    "    print(np.mean(cv_scores), cv_scores)\n",
    "    \n",
    "    test_prob += model.predict_proba(test_data)[:, 1]/kf.n_splits"
   ]
  },
  {
   "cell_type": "code",
   "execution_count": 26,
   "metadata": {
    "executionInfo": {
     "elapsed": 477,
     "status": "ok",
     "timestamp": 1608080651928,
     "user": {
      "displayName": "Minke Xiu",
      "photoUrl": "https://lh3.googleusercontent.com/a-/AOh14GiKrlSLM7H0tbRpIYdHPAKnVjaQdF6dZZWD9Jdd=s64",
      "userId": "01913327350585558279"
     },
     "user_tz": 300
    },
    "id": "7wsO1A123XlT"
   },
   "outputs": [],
   "source": [
    "train['lgb_prob'] = prob\n",
    "test['lgb_prob'] = test_prob"
   ]
  },
  {
   "cell_type": "code",
   "execution_count": 27,
   "metadata": {
    "colab": {
     "base_uri": "https://localhost:8080/"
    },
    "executionInfo": {
     "elapsed": 203583,
     "status": "ok",
     "timestamp": 1608081016895,
     "user": {
      "displayName": "Minke Xiu",
      "photoUrl": "https://lh3.googleusercontent.com/a-/AOh14GiKrlSLM7H0tbRpIYdHPAKnVjaQdF6dZZWD9Jdd=s64",
      "userId": "01913327350585558279"
     },
     "user_tz": 300
    },
    "id": "eF93E2kz3XlU",
    "outputId": "36bce2bf-3bad-4b02-d3f6-b19a9cea785c"
   },
   "outputs": [
    {
     "name": "stdout",
     "output_type": "stream",
     "text": [
      "************************************ 1 ************************************\n",
      "0:\tlearn: 0.6203021\ttest: 0.6207258\tbest: 0.6207258 (0)\ttotal: 98.7ms\tremaining: 1m 38s\n",
      "Stopped by overfitting detector  (50 iterations wait)\n",
      "\n",
      "bestTest = 0.1252009825\n",
      "bestIteration = 246\n",
      "\n",
      "Shrink model to first 247 iterations.\n",
      "0.4579861111111111 [0.4579861111111111]\n",
      "************************************ 2 ************************************\n",
      "0:\tlearn: 0.6204133\ttest: 0.6204106\tbest: 0.6204106 (0)\ttotal: 39.5ms\tremaining: 39.4s\n",
      "500:\tlearn: 0.1072520\ttest: 0.1248091\tbest: 0.1247735 (494)\ttotal: 17.4s\tremaining: 17.3s\n",
      "Stopped by overfitting detector  (50 iterations wait)\n",
      "\n",
      "bestTest = 0.1246825306\n",
      "bestIteration = 538\n",
      "\n",
      "Shrink model to first 539 iterations.\n",
      "0.4479338095950528 [0.4579861111111111, 0.4378815080789945]\n",
      "************************************ 3 ************************************\n",
      "0:\tlearn: 0.6201070\ttest: 0.6204926\tbest: 0.6204926 (0)\ttotal: 40ms\tremaining: 40s\n",
      "Stopped by overfitting detector  (50 iterations wait)\n",
      "\n",
      "bestTest = 0.1279168591\n",
      "bestIteration = 321\n",
      "\n",
      "Shrink model to first 322 iterations.\n",
      "0.45564634925384473 [0.4579861111111111, 0.4378815080789945, 0.4710714285714286]\n",
      "************************************ 4 ************************************\n",
      "0:\tlearn: 0.6211241\ttest: 0.6204753\tbest: 0.6204753 (0)\ttotal: 38.7ms\tremaining: 38.7s\n",
      "500:\tlearn: 0.1096100\ttest: 0.1130449\tbest: 0.1130449 (500)\ttotal: 16.6s\tremaining: 16.5s\n",
      "Stopped by overfitting detector  (50 iterations wait)\n",
      "\n",
      "bestTest = 0.1130347334\n",
      "bestIteration = 507\n",
      "\n",
      "Shrink model to first 508 iterations.\n",
      "0.46521262171898137 [0.4579861111111111, 0.4378815080789945, 0.4710714285714286, 0.49391143911439117]\n",
      "************************************ 5 ************************************\n",
      "0:\tlearn: 0.6056313\ttest: 0.6052676\tbest: 0.6052676 (0)\ttotal: 37.2ms\tremaining: 37.1s\n",
      "Stopped by overfitting detector  (50 iterations wait)\n",
      "\n",
      "bestTest = 0.127689833\n",
      "bestIteration = 290\n",
      "\n",
      "Shrink model to first 291 iterations.\n",
      "0.45830036557441883 [0.4579861111111111, 0.4378815080789945, 0.4710714285714286, 0.49391143911439117, 0.4306513409961686]\n"
     ]
    }
   ],
   "source": [
    "class score_forCAT(object):\n",
    "    '''\n",
    "    https://catboost.ai/docs/concepts/python-usages-examples.html#custom-loss-function-eval-metric\n",
    "    '''\n",
    "    def is_max_optimal(self):\n",
    "        return True\n",
    "\n",
    "    def evaluate(self, approxes, target, weight):\n",
    "\n",
    "        ## weight没什么迪奥用。\n",
    "        assert len(approxes) == 1\n",
    "        assert len(target) == len(approxes[0])\n",
    "        \n",
    "        d = pd.DataFrame()\n",
    "        d['prob'] = list(approxes[0])\n",
    "        d['y'] = list(target)\n",
    "        d = d.sort_values(['prob'], ascending=[0])\n",
    "        y = d.y\n",
    "        PosAll = pd.Series(y).value_counts()[1]\n",
    "        NegAll = pd.Series(y).value_counts()[0]\n",
    "        pCumsum = d['y'].cumsum()\n",
    "        nCumsum = np.arange(len(y)) - pCumsum + 1\n",
    "        pCumsumPer = pCumsum / PosAll\n",
    "        nCumsumPer = nCumsum / NegAll\n",
    "        TR1 = pCumsumPer[abs(nCumsumPer-0.001).idxmin()]\n",
    "        TR2 = pCumsumPer[abs(nCumsumPer-0.005).idxmin()]\n",
    "        TR3 = pCumsumPer[abs(nCumsumPer-0.01).idxmin()]\n",
    "        \n",
    "        score = (0.4 * TR1 + 0.3 * TR2 + 0.3 * TR3)\n",
    "\n",
    "        return score, -1\n",
    "    \n",
    "    def get_final_error(self, error, weight):\n",
    "        # Returns final value of metric based on error and weight\n",
    "        return error\n",
    "\n",
    "kf = KFold(5, True, random_state=1)\n",
    "prob = np.zeros(len(train))\n",
    "test_prob = np.zeros(len(test))\n",
    "\n",
    "feat1=list(set(feat0 + cat_feat + ['lgb_prob']))\n",
    "\n",
    "cv_scores = []\n",
    "\n",
    "test_data=test[feat1].values\n",
    "for idx, (train_index, valid_index) in enumerate(kf.split(train, train_y)):\n",
    "#     print(list(train_y.iloc[train_index]))\n",
    "    print('************************************ {} ************************************'.format(str(idx+1)))\n",
    "    train_data = train.loc[train_index][feat1]\n",
    "    valid_data = train.loc[valid_index][feat1]\n",
    "    \n",
    "    # params_CAT = {\n",
    "    #     'learning_rate': 0.1, \n",
    "    #     'depth': 12, ## 曾经测试过15，但是一旦设置到15，就会奇慢无比\n",
    "    #     'l2_leaf_reg': 80, #100 #50 # 设为20，能够达到40xx的分数。 \n",
    "    #     'bootstrap_type': \"Bernoulli\", ## \"Bayesian\"比Bernoulli 略强点. 然后我们试试Bernoulli和subsample参数的组合吧。\n",
    "    #     # \"bagging_temperature\": 2, ## 这个参数要跟bayesian bootstrap方法组合起来用。\n",
    "    #     \"subsample\": 0.7, ## 窝槽，bernoulli+subsample加起来很吊啊。。。\n",
    "    #     # \"sampling_frequency\": \"PerTree\", ## 这个设了没设一样。\n",
    "\n",
    "    #     \"grow_policy\": \"Depthwise\", ## 这个有奇效。应该还有潜力可挖。\n",
    "    #     \"min_data_in_leaf\": 2, ## 这个也有效果。默认是1，我估计这样搞就太精确了，容易导致过拟合。所以把区间放大一点效果反倒好。\n",
    "    #     ## 上面两个，能够达到4236的分数。\n",
    "\n",
    "    #     ## 如果要用这个参数，不要弄onehot。都交给catboost吧。\n",
    "    #     \"one_hot_max_size\": 255, ## 能提高一点点。0.0002吧。\n",
    "\n",
    "    #     ## 设置的大了，性能可能会下降。原档案警告如上。\n",
    "    #     \"fold_permutation_block\": 2, ## 可能有效。可以关注一下。 设为2，达到了4250\n",
    "\n",
    "    #     ## Balanced跑了两次，最高得到了4286的结果。不太稳定。\n",
    "    #     \"auto_class_weights\": \"SqrtBalanced\",## 得到了4484，升级明显，多测几次，看看是不是偶然 \n",
    "\n",
    "    #     ## 这个参数酌情不设吧。因为这个的作用应该跟StratifiedKFold一样吧。\n",
    "    #     \"allow_const_label\": True,\n",
    "\n",
    "    #     'od_type': 'Iter', \n",
    "    #     'od_wait': 300, \n",
    "\n",
    "    #     ## MinEntropy和默认值比较好，其他的比较拉垮。\n",
    "    #     \"feature_border_type\": \"MinEntropy\", \n",
    "\n",
    "    #     'random_seed': 11, \n",
    "    #     'allow_writing_files': False, \n",
    "    #     \"task_type\": \"GPU\",\n",
    "    #     \"eval_metric\": \"AUC\",\n",
    "    # }\n",
    "    params_CAT = {'learning_rate': 0.05, 'depth': 5, 'l2_leaf_reg': 10, 'bootstrap_type': 'Bernoulli',\n",
    "                      'od_type': 'Iter', 'od_wait': 50, 'random_seed': 11, 'allow_writing_files': False, \n",
    "#                      \"task_type\": \"GPU\",\n",
    "                     }\n",
    "    model = CatBoostClassifier(\n",
    "        **params_CAT, \n",
    "        #iterations=10000, learning_rate=0.08, depth=7, \n",
    "        cat_features=cat_feat, \n",
    "        # eval_metric= score_forCAT(), \n",
    "        use_best_model= True\n",
    "    )\n",
    "    model.fit(train_data, train_y.loc[train_index], \n",
    "              eval_set=(valid_data, train_y.loc[valid_index]), early_stopping_rounds=50, \n",
    "             verbose=500\n",
    "#              eval_metric = score_forCAT()\n",
    "             )\n",
    "    pred = model.predict_proba(valid_data)[:,1]\n",
    "    prob[valid_index] = pred\n",
    "    test_prob += model.predict_proba(test_data)[:,1]/5\n",
    "    \n",
    "    cv_scores.append(tpr_weight_funtion(train_y.iloc[valid_index], pred))\n",
    "    print(np.mean(cv_scores), cv_scores)\n",
    "\n"
   ]
  },
  {
   "cell_type": "code",
   "execution_count": 28,
   "metadata": {
    "executionInfo": {
     "elapsed": 125132,
     "status": "ok",
     "timestamp": 1608077943201,
     "user": {
      "displayName": "Minke Xiu",
      "photoUrl": "https://lh3.googleusercontent.com/a-/AOh14GiKrlSLM7H0tbRpIYdHPAKnVjaQdF6dZZWD9Jdd=s64",
      "userId": "01913327350585558279"
     },
     "user_tz": 300
    },
    "id": "yKeLV_S73XlV"
   },
   "outputs": [],
   "source": [
    "test['label'] = test_prob\n",
    "if not os.path.exists(\"output\"):\n",
    "    os.makedirs(\"output\")\n",
    "test[['id', 'label']].to_csv('submissionResults/4.1-FENew-4583.csv', index=False)"
   ]
  },
  {
   "cell_type": "code",
   "execution_count": 49,
   "metadata": {
    "executionInfo": {
     "elapsed": 124465,
     "status": "ok",
     "timestamp": 1608077943202,
     "user": {
      "displayName": "Minke Xiu",
      "photoUrl": "https://lh3.googleusercontent.com/a-/AOh14GiKrlSLM7H0tbRpIYdHPAKnVjaQdF6dZZWD9Jdd=s64",
      "userId": "01913327350585558279"
     },
     "user_tz": 300
    },
    "id": "wP0Rj6pA3XlV"
   },
   "outputs": [],
   "source": []
  }
 ],
 "metadata": {
  "accelerator": "GPU",
  "colab": {
   "collapsed_sections": [],
   "machine_shape": "hm",
   "name": "4.1-FENew-xxx.ipynb",
   "provenance": []
  },
  "kernelspec": {
   "display_name": "Python 3",
   "language": "python",
   "name": "python3"
  },
  "language_info": {
   "codemirror_mode": {
    "name": "ipython",
    "version": 3
   },
   "file_extension": ".py",
   "mimetype": "text/x-python",
   "name": "python",
   "nbconvert_exporter": "python",
   "pygments_lexer": "ipython3",
   "version": "3.6.8"
  },
  "toc": {
   "base_numbering": 1,
   "nav_menu": {},
   "number_sections": true,
   "sideBar": true,
   "skip_h1_title": false,
   "title_cell": "Table of Contents",
   "title_sidebar": "Contents",
   "toc_cell": false,
   "toc_position": {},
   "toc_section_display": true,
   "toc_window_display": true
  }
 },
 "nbformat": 4,
 "nbformat_minor": 1
}
