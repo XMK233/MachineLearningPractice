{
 "cells": [
  {
   "cell_type": "markdown",
   "metadata": {},
   "source": [
    "# Model fitting and understanding . \n",
    "* V2: The operation process is simplified. "
   ]
  },
  {
   "cell_type": "markdown",
   "metadata": {},
   "source": [
    "* Turn the warning off: \n",
    "~~~~\n",
    "options(warn=-1)\n",
    "~~~~\n",
    "* Turn the warning back on: \n",
    "~~~~\n",
    "options(warn=0)\n",
    "~~~~\n",
    "* reference: https://stackoverflow.com/questions/16194212/how-to-suppress-warnings-globally-in-an-r-script"
   ]
  },
  {
   "cell_type": "code",
   "execution_count": 1,
   "metadata": {},
   "outputs": [],
   "source": [
    "options(warn=-1)"
   ]
  },
  {
   "cell_type": "markdown",
   "metadata": {},
   "source": [
    "## First step is getting the correlationship between those variables. "
   ]
  },
  {
   "cell_type": "code",
   "execution_count": 2,
   "metadata": {},
   "outputs": [
    {
     "name": "stderr",
     "output_type": "stream",
     "text": [
      "Loading required package: Hmisc\n",
      "Loading required package: lattice\n",
      "Loading required package: survival\n",
      "Loading required package: Formula\n",
      "Loading required package: ggplot2\n",
      "\n",
      "Attaching package: 'Hmisc'\n",
      "\n",
      "The following objects are masked from 'package:base':\n",
      "\n",
      "    format.pval, units\n",
      "\n",
      "Loading required package: SparseM\n",
      "\n",
      "Attaching package: 'SparseM'\n",
      "\n",
      "The following object is masked from 'package:base':\n",
      "\n",
      "    backsolve\n",
      "\n"
     ]
    }
   ],
   "source": [
    "library(rms)\n",
    "data <- read.csv('J:/EECS6414/process/Pipeline/Data_cleaning/kernel_datassource.csv')# , stringsAsFactors=FALSE\n",
    "\n",
    "col_name <- names(data)\n",
    "env_vars <- col_name\n",
    "vote_num <- data[c(\"km_votes\")]\n",
    "high_voted <- data[c(\"high_voted\")]\n",
    "reject_vars <- c(#\"kernel_datasets\", # because they are all 1, so we can only get NaN. \n",
    "                 \"kernel\", \"author\", \"id\", \"km_tags\", \n",
    "                \"km_votes\", \"high_voted\",  \n",
    "                \"km_forks\", \"km_comments\", \"km_views\"\n",
    "                 #\"competition\", \"organization\" # unnecessary variables. \n",
    "                 )\n",
    "env_vars <- env_vars[!(env_vars %in% reject_vars)]\n",
    "# for (env in env_vars){\n",
    "#    print(paste(env, \"+\"))\n",
    "# }\n",
    "data <- data[env_vars]"
   ]
  },
  {
   "cell_type": "code",
   "execution_count": 7,
   "metadata": {},
   "outputs": [
    {
     "data": {
      "text/html": [
       "<ol class=list-inline>\n",
       "\t<li>'km_Hidden'</li>\n",
       "\t<li>'km_Notebook'</li>\n",
       "\t<li>'km_null'</li>\n",
       "\t<li>'km_Data'</li>\n",
       "\t<li>'km_Visualization'</li>\n",
       "\t<li>'km_Other'</li>\n",
       "\t<li>'km_language'</li>\n",
       "\t<li>'km_isNotebook'</li>\n",
       "\t<li>'km_dataSources'</li>\n",
       "\t<li>'km_versions'</li>\n",
       "\t<li>'km_competitions'</li>\n",
       "\t<li>'km_competition_size_ttl'</li>\n",
       "\t<li>'km_competition_size_avg'</li>\n",
       "\t<li>'km_competition_size_max'</li>\n",
       "\t<li>'km_competition_size_min'</li>\n",
       "\t<li>'km_competition_discussion_ttl'</li>\n",
       "\t<li>'km_competition_discussion_avg'</li>\n",
       "\t<li>'km_competition_discussion_max'</li>\n",
       "\t<li>'km_competition_discussion_min'</li>\n",
       "\t<li>'km_competition_competitor_ttl'</li>\n",
       "\t<li>'km_competition_competitor_avg'</li>\n",
       "\t<li>'km_competition_competitor_max'</li>\n",
       "\t<li>'km_competition_competitor_min'</li>\n",
       "\t<li>'km_datasets'</li>\n",
       "\t<li>'km_dataset_size_ttl'</li>\n",
       "\t<li>'km_dataset_size_avg'</li>\n",
       "\t<li>'km_dataset_size_max'</li>\n",
       "\t<li>'km_dataset_size_min'</li>\n",
       "\t<li>'km_dataset_discussion_ttl'</li>\n",
       "\t<li>'km_dataset_discussion_avg'</li>\n",
       "\t<li>'km_dataset_discussion_max'</li>\n",
       "\t<li>'km_dataset_discussion_min'</li>\n",
       "\t<li>'km_dataset_kernel_ttl'</li>\n",
       "\t<li>'km_dataset_kernel_avg'</li>\n",
       "\t<li>'km_dataset_kernel_max'</li>\n",
       "\t<li>'km_dataset_kernel_min'</li>\n",
       "\t<li>'km_dataset_download_ttl'</li>\n",
       "\t<li>'km_dataset_download_avg'</li>\n",
       "\t<li>'km_dataset_download_max'</li>\n",
       "\t<li>'km_dataset_download_min'</li>\n",
       "\t<li>'km_dataset_view_ttl'</li>\n",
       "\t<li>'km_dataset_view_avg'</li>\n",
       "\t<li>'km_dataset_view_max'</li>\n",
       "\t<li>'km_dataset_view_min'</li>\n",
       "\t<li>'km_dataset_vote_ttl'</li>\n",
       "\t<li>'km_dataset_vote_avg'</li>\n",
       "\t<li>'km_dataset_vote_max'</li>\n",
       "\t<li>'km_dataset_vote_min'</li>\n",
       "\t<li>'km_dataset_version_ttl'</li>\n",
       "\t<li>'km_dataset_version_avg'</li>\n",
       "\t<li>'km_dataset_version_max'</li>\n",
       "\t<li>'km_dataset_version_min'</li>\n",
       "\t<li>'km_num_of_tags'</li>\n",
       "\t<li>'km_tags_te_sum'</li>\n",
       "\t<li>'km_tags_te_avg'</li>\n",
       "\t<li>'km_tags_te_max'</li>\n",
       "\t<li>'km_tags_te_min'</li>\n",
       "\t<li>'km_tags_te_median'</li>\n",
       "</ol>\n"
      ],
      "text/latex": [
       "\\begin{enumerate*}\n",
       "\\item 'km\\_Hidden'\n",
       "\\item 'km\\_Notebook'\n",
       "\\item 'km\\_null'\n",
       "\\item 'km\\_Data'\n",
       "\\item 'km\\_Visualization'\n",
       "\\item 'km\\_Other'\n",
       "\\item 'km\\_language'\n",
       "\\item 'km\\_isNotebook'\n",
       "\\item 'km\\_dataSources'\n",
       "\\item 'km\\_versions'\n",
       "\\item 'km\\_competitions'\n",
       "\\item 'km\\_competition\\_size\\_ttl'\n",
       "\\item 'km\\_competition\\_size\\_avg'\n",
       "\\item 'km\\_competition\\_size\\_max'\n",
       "\\item 'km\\_competition\\_size\\_min'\n",
       "\\item 'km\\_competition\\_discussion\\_ttl'\n",
       "\\item 'km\\_competition\\_discussion\\_avg'\n",
       "\\item 'km\\_competition\\_discussion\\_max'\n",
       "\\item 'km\\_competition\\_discussion\\_min'\n",
       "\\item 'km\\_competition\\_competitor\\_ttl'\n",
       "\\item 'km\\_competition\\_competitor\\_avg'\n",
       "\\item 'km\\_competition\\_competitor\\_max'\n",
       "\\item 'km\\_competition\\_competitor\\_min'\n",
       "\\item 'km\\_datasets'\n",
       "\\item 'km\\_dataset\\_size\\_ttl'\n",
       "\\item 'km\\_dataset\\_size\\_avg'\n",
       "\\item 'km\\_dataset\\_size\\_max'\n",
       "\\item 'km\\_dataset\\_size\\_min'\n",
       "\\item 'km\\_dataset\\_discussion\\_ttl'\n",
       "\\item 'km\\_dataset\\_discussion\\_avg'\n",
       "\\item 'km\\_dataset\\_discussion\\_max'\n",
       "\\item 'km\\_dataset\\_discussion\\_min'\n",
       "\\item 'km\\_dataset\\_kernel\\_ttl'\n",
       "\\item 'km\\_dataset\\_kernel\\_avg'\n",
       "\\item 'km\\_dataset\\_kernel\\_max'\n",
       "\\item 'km\\_dataset\\_kernel\\_min'\n",
       "\\item 'km\\_dataset\\_download\\_ttl'\n",
       "\\item 'km\\_dataset\\_download\\_avg'\n",
       "\\item 'km\\_dataset\\_download\\_max'\n",
       "\\item 'km\\_dataset\\_download\\_min'\n",
       "\\item 'km\\_dataset\\_view\\_ttl'\n",
       "\\item 'km\\_dataset\\_view\\_avg'\n",
       "\\item 'km\\_dataset\\_view\\_max'\n",
       "\\item 'km\\_dataset\\_view\\_min'\n",
       "\\item 'km\\_dataset\\_vote\\_ttl'\n",
       "\\item 'km\\_dataset\\_vote\\_avg'\n",
       "\\item 'km\\_dataset\\_vote\\_max'\n",
       "\\item 'km\\_dataset\\_vote\\_min'\n",
       "\\item 'km\\_dataset\\_version\\_ttl'\n",
       "\\item 'km\\_dataset\\_version\\_avg'\n",
       "\\item 'km\\_dataset\\_version\\_max'\n",
       "\\item 'km\\_dataset\\_version\\_min'\n",
       "\\item 'km\\_num\\_of\\_tags'\n",
       "\\item 'km\\_tags\\_te\\_sum'\n",
       "\\item 'km\\_tags\\_te\\_avg'\n",
       "\\item 'km\\_tags\\_te\\_max'\n",
       "\\item 'km\\_tags\\_te\\_min'\n",
       "\\item 'km\\_tags\\_te\\_median'\n",
       "\\end{enumerate*}\n"
      ],
      "text/markdown": [
       "1. 'km_Hidden'\n",
       "2. 'km_Notebook'\n",
       "3. 'km_null'\n",
       "4. 'km_Data'\n",
       "5. 'km_Visualization'\n",
       "6. 'km_Other'\n",
       "7. 'km_language'\n",
       "8. 'km_isNotebook'\n",
       "9. 'km_dataSources'\n",
       "10. 'km_versions'\n",
       "11. 'km_competitions'\n",
       "12. 'km_competition_size_ttl'\n",
       "13. 'km_competition_size_avg'\n",
       "14. 'km_competition_size_max'\n",
       "15. 'km_competition_size_min'\n",
       "16. 'km_competition_discussion_ttl'\n",
       "17. 'km_competition_discussion_avg'\n",
       "18. 'km_competition_discussion_max'\n",
       "19. 'km_competition_discussion_min'\n",
       "20. 'km_competition_competitor_ttl'\n",
       "21. 'km_competition_competitor_avg'\n",
       "22. 'km_competition_competitor_max'\n",
       "23. 'km_competition_competitor_min'\n",
       "24. 'km_datasets'\n",
       "25. 'km_dataset_size_ttl'\n",
       "26. 'km_dataset_size_avg'\n",
       "27. 'km_dataset_size_max'\n",
       "28. 'km_dataset_size_min'\n",
       "29. 'km_dataset_discussion_ttl'\n",
       "30. 'km_dataset_discussion_avg'\n",
       "31. 'km_dataset_discussion_max'\n",
       "32. 'km_dataset_discussion_min'\n",
       "33. 'km_dataset_kernel_ttl'\n",
       "34. 'km_dataset_kernel_avg'\n",
       "35. 'km_dataset_kernel_max'\n",
       "36. 'km_dataset_kernel_min'\n",
       "37. 'km_dataset_download_ttl'\n",
       "38. 'km_dataset_download_avg'\n",
       "39. 'km_dataset_download_max'\n",
       "40. 'km_dataset_download_min'\n",
       "41. 'km_dataset_view_ttl'\n",
       "42. 'km_dataset_view_avg'\n",
       "43. 'km_dataset_view_max'\n",
       "44. 'km_dataset_view_min'\n",
       "45. 'km_dataset_vote_ttl'\n",
       "46. 'km_dataset_vote_avg'\n",
       "47. 'km_dataset_vote_max'\n",
       "48. 'km_dataset_vote_min'\n",
       "49. 'km_dataset_version_ttl'\n",
       "50. 'km_dataset_version_avg'\n",
       "51. 'km_dataset_version_max'\n",
       "52. 'km_dataset_version_min'\n",
       "53. 'km_num_of_tags'\n",
       "54. 'km_tags_te_sum'\n",
       "55. 'km_tags_te_avg'\n",
       "56. 'km_tags_te_max'\n",
       "57. 'km_tags_te_min'\n",
       "58. 'km_tags_te_median'\n",
       "\n",
       "\n"
      ],
      "text/plain": [
       " [1] \"km_Hidden\"                     \"km_Notebook\"                  \n",
       " [3] \"km_null\"                       \"km_Data\"                      \n",
       " [5] \"km_Visualization\"              \"km_Other\"                     \n",
       " [7] \"km_language\"                   \"km_isNotebook\"                \n",
       " [9] \"km_dataSources\"                \"km_versions\"                  \n",
       "[11] \"km_competitions\"               \"km_competition_size_ttl\"      \n",
       "[13] \"km_competition_size_avg\"       \"km_competition_size_max\"      \n",
       "[15] \"km_competition_size_min\"       \"km_competition_discussion_ttl\"\n",
       "[17] \"km_competition_discussion_avg\" \"km_competition_discussion_max\"\n",
       "[19] \"km_competition_discussion_min\" \"km_competition_competitor_ttl\"\n",
       "[21] \"km_competition_competitor_avg\" \"km_competition_competitor_max\"\n",
       "[23] \"km_competition_competitor_min\" \"km_datasets\"                  \n",
       "[25] \"km_dataset_size_ttl\"           \"km_dataset_size_avg\"          \n",
       "[27] \"km_dataset_size_max\"           \"km_dataset_size_min\"          \n",
       "[29] \"km_dataset_discussion_ttl\"     \"km_dataset_discussion_avg\"    \n",
       "[31] \"km_dataset_discussion_max\"     \"km_dataset_discussion_min\"    \n",
       "[33] \"km_dataset_kernel_ttl\"         \"km_dataset_kernel_avg\"        \n",
       "[35] \"km_dataset_kernel_max\"         \"km_dataset_kernel_min\"        \n",
       "[37] \"km_dataset_download_ttl\"       \"km_dataset_download_avg\"      \n",
       "[39] \"km_dataset_download_max\"       \"km_dataset_download_min\"      \n",
       "[41] \"km_dataset_view_ttl\"           \"km_dataset_view_avg\"          \n",
       "[43] \"km_dataset_view_max\"           \"km_dataset_view_min\"          \n",
       "[45] \"km_dataset_vote_ttl\"           \"km_dataset_vote_avg\"          \n",
       "[47] \"km_dataset_vote_max\"           \"km_dataset_vote_min\"          \n",
       "[49] \"km_dataset_version_ttl\"        \"km_dataset_version_avg\"       \n",
       "[51] \"km_dataset_version_max\"        \"km_dataset_version_min\"       \n",
       "[53] \"km_num_of_tags\"                \"km_tags_te_sum\"               \n",
       "[55] \"km_tags_te_avg\"                \"km_tags_te_max\"               \n",
       "[57] \"km_tags_te_min\"                \"km_tags_te_median\"            "
      ]
     },
     "metadata": {},
     "output_type": "display_data"
    }
   ],
   "source": [
    "env_vars"
   ]
  },
  {
   "cell_type": "code",
   "execution_count": 4,
   "metadata": {},
   "outputs": [
    {
     "data": {
      "text/html": [
       "<strong>png:</strong> 2"
      ],
      "text/latex": [
       "\\textbf{png:} 2"
      ],
      "text/markdown": [
       "**png:** 2"
      ],
      "text/plain": [
       "png \n",
       "  2 "
      ]
     },
     "metadata": {},
     "output_type": "display_data"
    },
    {
     "data": {
      "image/png": "[encoded data removed]",
      "text/plain": [
       "plot without title"
      ]
     },
     "metadata": {},
     "output_type": "display_data"
    }
   ],
   "source": [
    "vcobj = varclus(~ ., \n",
    "                \n",
    "                data = data, \n",
    "                \n",
    "                similarity = \"spearman\",\n",
    "                \n",
    "                trans = \"abs\"\n",
    ")\n",
    "\n",
    "pdf(file=\"correlation.pdf\", width = 15, height = 15)\n",
    "plot(vcobj)\n",
    "thresh = 0.7\n",
    "abline (h = 1 - thresh, col = \"red\", lty = 2)\n",
    "dev.off()\n",
    "\n",
    "plot(vcobj)\n",
    "thresh = 0.7\n",
    "abline (h = 1 - thresh, col = \"red\", lty = 2)\n",
    "\n",
    "# reject variables that closely related to each other. For now, we don't do this thing. \n",
    "# reject_vars <- c()\n",
    "# env_vars <- env_vars[!(env_vars %in% reject_vars)]"
   ]
  },
  {
   "cell_type": "code",
   "execution_count": 5,
   "metadata": {},
   "outputs": [],
   "source": [
    "env_vars <- c(\n",
    "    \"km_dataSources\", \n",
    "    \"km_Data\", \n",
    "    \"km_versions\", \n",
    "    \"km_dataset_discussion_avg\", \n",
    "      \"km_competition_size_avg\", \n",
    "      \"km_competition_competitor_avg\",\n",
    "    \"km_Visualization\", \n",
    "      \"km_tags_te_avg\", \n",
    "      \"km_Other\", \n",
    "      \"km_isNotebook\",\n",
    "      \"km_Hidden\",\n",
    "      \"km_Notebook\",\n",
    "      \"km_null\",\n",
    "      \"km_language\"\n",
    "             )\n",
    "data <- data[env_vars]"
   ]
  },
  {
   "cell_type": "code",
   "execution_count": 6,
   "metadata": {},
   "outputs": [
    {
     "data": {
      "text/html": [
       "<strong>png:</strong> 2"
      ],
      "text/latex": [
       "\\textbf{png:} 2"
      ],
      "text/markdown": [
       "**png:** 2"
      ],
      "text/plain": [
       "png \n",
       "  2 "
      ]
     },
     "metadata": {},
     "output_type": "display_data"
    },
    {
     "data": {
      "image/png": "[encoded data removed]",
      "text/plain": [
       "plot without title"
      ]
     },
     "metadata": {},
     "output_type": "display_data"
    }
   ],
   "source": [
    "vcobj = varclus(~ .,\n",
    "                \n",
    "                data = data, \n",
    "                \n",
    "                similarity = \"spearman\",\n",
    "                \n",
    "                trans = \"abs\"\n",
    ")\n",
    "\n",
    "pdf(file=\"correlation1.pdf\", width = 11, height = 8.5)\n",
    "plot(vcobj)\n",
    "thresh = 0.7\n",
    "abline (h = 1 - thresh, col = \"red\", lty = 2)\n",
    "dev.off()\n",
    "\n",
    "plot(vcobj)\n",
    "thresh = 0.7\n",
    "abline (h = 1 - thresh, col = \"red\", lty = 2)\n",
    "\n",
    "# reject variables that closely related to each other. For now, we don't do this thing. \n",
    "reject_vars <- c()\n",
    "env_vars <- env_vars[!(env_vars %in% reject_vars)]"
   ]
  },
  {
   "cell_type": "code",
   "execution_count": 7,
   "metadata": {
    "scrolled": false
   },
   "outputs": [
    {
     "data": {
      "text/html": [
       "<strong>png:</strong> 2"
      ],
      "text/latex": [
       "\\textbf{png:} 2"
      ],
      "text/markdown": [
       "**png:** 2"
      ],
      "text/plain": [
       "png \n",
       "  2 "
      ]
     },
     "metadata": {},
     "output_type": "display_data"
    },
    {
     "data": {
      "image/png": "[encoded data removed]",
      "text/plain": [
       "plot without title"
      ]
     },
     "metadata": {},
     "output_type": "display_data"
    }
   ],
   "source": [
    "reject_vars <- c(\"km_competition_competitor_avg\")\n",
    "env_vars <- env_vars[!(env_vars %in% reject_vars)]\n",
    "data <- data[env_vars]\n",
    "\n",
    "vcobj = varclus(~ .,\n",
    "                \n",
    "                data = data, \n",
    "                \n",
    "                similarity = \"spearman\",\n",
    "                \n",
    "                trans = \"abs\"\n",
    ")\n",
    "\n",
    "pdf(file=\"correlation2.pdf\", width = 11, height = 8.5)\n",
    "plot(vcobj)\n",
    "thresh = 0.7\n",
    "abline (h = 1 - thresh, col = \"red\", lty = 2)\n",
    "dev.off()\n",
    "\n",
    "plot(vcobj)\n",
    "thresh = 0.7\n",
    "abline (h = 1 - thresh, col = \"red\", lty = 2)"
   ]
  },
  {
   "cell_type": "markdown",
   "metadata": {},
   "source": [
    "## Second Step is to prepare the dataframe, add the voted column back to dataframe. "
   ]
  },
  {
   "cell_type": "markdown",
   "metadata": {},
   "source": [
    "random forest model fitting referece: https://www.blopig.com/blog/2017/04/a-very-basic-introduction-to-random-forests-using-r/"
   ]
  },
  {
   "cell_type": "markdown",
   "metadata": {},
   "source": [
    "### binary classification: "
   ]
  },
  {
   "cell_type": "code",
   "execution_count": 8,
   "metadata": {},
   "outputs": [],
   "source": [
    "data_classification = cbind(data, high_voted)"
   ]
  },
  {
   "cell_type": "code",
   "execution_count": 9,
   "metadata": {
    "scrolled": true
   },
   "outputs": [
    {
     "data": {
      "text/html": [
       "<table>\n",
       "<thead><tr><th scope=col>km_dataSources</th><th scope=col>km_Data</th><th scope=col>km_versions</th><th scope=col>km_dataset_discussion_avg</th><th scope=col>km_competition_size_avg</th><th scope=col>km_Visualization</th><th scope=col>km_tags_te_avg</th><th scope=col>km_Other</th><th scope=col>km_isNotebook</th><th scope=col>km_Hidden</th><th scope=col>km_Notebook</th><th scope=col>km_null</th><th scope=col>km_language</th><th scope=col>high_voted</th></tr></thead>\n",
       "<tbody>\n",
       "\t<tr><td>1         </td><td>1         </td><td>58        </td><td>0         </td><td>2429309862</td><td> 7        </td><td>0.57142598</td><td>0         </td><td>0.09271527</td><td>2         </td><td>1         </td><td>6         </td><td>0.09296084</td><td>True      </td></tr>\n",
       "\t<tr><td>1         </td><td>0         </td><td> 2        </td><td>0         </td><td> 256630325</td><td> 0        </td><td>0.07486423</td><td>0         </td><td>0.09271527</td><td>1         </td><td>1         </td><td>0         </td><td>0.09296084</td><td>True      </td></tr>\n",
       "\t<tr><td>1         </td><td>0         </td><td> 1        </td><td>0         </td><td> 256630325</td><td> 0        </td><td>0.07486423</td><td>0         </td><td>0.09271527</td><td>1         </td><td>1         </td><td>0         </td><td>0.09296084</td><td>True      </td></tr>\n",
       "\t<tr><td>1         </td><td>0         </td><td> 5        </td><td>0         </td><td>     34757</td><td> 2        </td><td>0.50374676</td><td>0         </td><td>0.09271527</td><td>1         </td><td>1         </td><td>0         </td><td>0.09296084</td><td>True      </td></tr>\n",
       "\t<tr><td>1         </td><td>0         </td><td> 3        </td><td>0         </td><td> 256630325</td><td> 0        </td><td>0.07486423</td><td>0         </td><td>0.09271527</td><td>1         </td><td>1         </td><td>0         </td><td>0.09296084</td><td>True      </td></tr>\n",
       "\t<tr><td>1         </td><td>1         </td><td>12        </td><td>0         </td><td> 256630325</td><td>24        </td><td>0.55366252</td><td>0         </td><td>0.09271527</td><td>1         </td><td>1         </td><td>0         </td><td>0.09296084</td><td>True      </td></tr>\n",
       "</tbody>\n",
       "</table>\n"
      ],
      "text/latex": [
       "\\begin{tabular}{r|llllllllllllll}\n",
       " km\\_dataSources & km\\_Data & km\\_versions & km\\_dataset\\_discussion\\_avg & km\\_competition\\_size\\_avg & km\\_Visualization & km\\_tags\\_te\\_avg & km\\_Other & km\\_isNotebook & km\\_Hidden & km\\_Notebook & km\\_null & km\\_language & high\\_voted\\\\\n",
       "\\hline\n",
       "\t 1          & 1          & 58         & 0          & 2429309862 &  7         & 0.57142598 & 0          & 0.09271527 & 2          & 1          & 6          & 0.09296084 & True      \\\\\n",
       "\t 1          & 0          &  2         & 0          &  256630325 &  0         & 0.07486423 & 0          & 0.09271527 & 1          & 1          & 0          & 0.09296084 & True      \\\\\n",
       "\t 1          & 0          &  1         & 0          &  256630325 &  0         & 0.07486423 & 0          & 0.09271527 & 1          & 1          & 0          & 0.09296084 & True      \\\\\n",
       "\t 1          & 0          &  5         & 0          &      34757 &  2         & 0.50374676 & 0          & 0.09271527 & 1          & 1          & 0          & 0.09296084 & True      \\\\\n",
       "\t 1          & 0          &  3         & 0          &  256630325 &  0         & 0.07486423 & 0          & 0.09271527 & 1          & 1          & 0          & 0.09296084 & True      \\\\\n",
       "\t 1          & 1          & 12         & 0          &  256630325 & 24         & 0.55366252 & 0          & 0.09271527 & 1          & 1          & 0          & 0.09296084 & True      \\\\\n",
       "\\end{tabular}\n"
      ],
      "text/markdown": [
       "\n",
       "| km_dataSources | km_Data | km_versions | km_dataset_discussion_avg | km_competition_size_avg | km_Visualization | km_tags_te_avg | km_Other | km_isNotebook | km_Hidden | km_Notebook | km_null | km_language | high_voted |\n",
       "|---|---|---|---|---|---|---|---|---|---|---|---|---|---|\n",
       "| 1          | 1          | 58         | 0          | 2429309862 |  7         | 0.57142598 | 0          | 0.09271527 | 2          | 1          | 6          | 0.09296084 | True       |\n",
       "| 1          | 0          |  2         | 0          |  256630325 |  0         | 0.07486423 | 0          | 0.09271527 | 1          | 1          | 0          | 0.09296084 | True       |\n",
       "| 1          | 0          |  1         | 0          |  256630325 |  0         | 0.07486423 | 0          | 0.09271527 | 1          | 1          | 0          | 0.09296084 | True       |\n",
       "| 1          | 0          |  5         | 0          |      34757 |  2         | 0.50374676 | 0          | 0.09271527 | 1          | 1          | 0          | 0.09296084 | True       |\n",
       "| 1          | 0          |  3         | 0          |  256630325 |  0         | 0.07486423 | 0          | 0.09271527 | 1          | 1          | 0          | 0.09296084 | True       |\n",
       "| 1          | 1          | 12         | 0          |  256630325 | 24         | 0.55366252 | 0          | 0.09271527 | 1          | 1          | 0          | 0.09296084 | True       |\n",
       "\n"
      ],
      "text/plain": [
       "  km_dataSources km_Data km_versions km_dataset_discussion_avg\n",
       "1 1              1       58          0                        \n",
       "2 1              0        2          0                        \n",
       "3 1              0        1          0                        \n",
       "4 1              0        5          0                        \n",
       "5 1              0        3          0                        \n",
       "6 1              1       12          0                        \n",
       "  km_competition_size_avg km_Visualization km_tags_te_avg km_Other\n",
       "1 2429309862               7               0.57142598     0       \n",
       "2  256630325               0               0.07486423     0       \n",
       "3  256630325               0               0.07486423     0       \n",
       "4      34757               2               0.50374676     0       \n",
       "5  256630325               0               0.07486423     0       \n",
       "6  256630325              24               0.55366252     0       \n",
       "  km_isNotebook km_Hidden km_Notebook km_null km_language high_voted\n",
       "1 0.09271527    2         1           6       0.09296084  True      \n",
       "2 0.09271527    1         1           0       0.09296084  True      \n",
       "3 0.09271527    1         1           0       0.09296084  True      \n",
       "4 0.09271527    1         1           0       0.09296084  True      \n",
       "5 0.09271527    1         1           0       0.09296084  True      \n",
       "6 0.09271527    1         1           0       0.09296084  True      "
      ]
     },
     "metadata": {},
     "output_type": "display_data"
    }
   ],
   "source": [
    "head(data_classification)"
   ]
  },
  {
   "cell_type": "markdown",
   "metadata": {},
   "source": [
    "This step is used for generating the binary label. "
   ]
  },
  {
   "cell_type": "code",
   "execution_count": 10,
   "metadata": {},
   "outputs": [
    {
     "data": {
      "text/plain": [
       " km_dataSources      km_Data          km_versions      \n",
       " Min.   : 0.000   Min.   :  0.0000   Min.   :   0.000  \n",
       " 1st Qu.: 1.000   1st Qu.:  0.0000   1st Qu.:   0.000  \n",
       " Median : 1.000   Median :  0.0000   Median :   1.000  \n",
       " Mean   : 1.058   Mean   :  0.2447   Mean   :   3.804  \n",
       " 3rd Qu.: 1.000   3rd Qu.:  0.0000   3rd Qu.:   3.000  \n",
       " Max.   :58.000   Max.   :194.0000   Max.   :4046.000  \n",
       " km_dataset_discussion_avg km_competition_size_avg km_Visualization  \n",
       " Min.   : 0.000            Min.   :0.000e+00       Min.   :    0.00  \n",
       " 1st Qu.: 0.000            1st Qu.:0.000e+00       1st Qu.:    0.00  \n",
       " Median : 0.000            Median :3.476e+04       Median :    0.00  \n",
       " Mean   : 3.472            Mean   :7.020e+08       Mean   :    2.86  \n",
       " 3rd Qu.: 3.000            3rd Qu.:1.605e+07       3rd Qu.:    2.00  \n",
       " Max.   :51.000            Max.   :1.026e+11       Max.   :32744.00  \n",
       " km_tags_te_avg       km_Other        km_isNotebook       km_Hidden      \n",
       " Min.   :0.00000   Min.   :0.00e+00   Min.   :0.09272   Min.   :  0.000  \n",
       " 1st Qu.:0.07486   1st Qu.:0.00e+00   1st Qu.:0.09272   1st Qu.:  1.000  \n",
       " Median :0.07486   Median :0.00e+00   Median :0.09272   Median :  1.000  \n",
       " Mean   :0.10488   Mean   :7.66e-03   Mean   :0.10275   Mean   :  1.364  \n",
       " 3rd Qu.:0.07486   3rd Qu.:0.00e+00   3rd Qu.:0.09272   3rd Qu.:  1.000  \n",
       " Max.   :1.00000   Max.   :2.05e+02   Max.   :0.14821   Max.   :211.000  \n",
       "  km_Notebook         km_null           km_language      high_voted    \n",
       " Min.   : 0.0000   Min.   :    0.000   Min.   :0.05116   False:176731  \n",
       " 1st Qu.: 0.0000   1st Qu.:    0.000   1st Qu.:0.09296   True : 20238  \n",
       " Median : 1.0000   Median :    0.000   Median :0.09296                 \n",
       " Mean   : 0.6577   Mean   :    0.692   Mean   :0.10275                 \n",
       " 3rd Qu.: 1.0000   3rd Qu.:    0.000   3rd Qu.:0.09296                 \n",
       " Max.   :30.0000   Max.   :14111.000   Max.   :0.16058                 "
      ]
     },
     "metadata": {},
     "output_type": "display_data"
    }
   ],
   "source": [
    "summary(data_classification)"
   ]
  },
  {
   "cell_type": "markdown",
   "metadata": {},
   "source": [
    "## Then Divide the training and testing data"
   ]
  },
  {
   "cell_type": "code",
   "execution_count": 11,
   "metadata": {},
   "outputs": [],
   "source": [
    "## 75% of the sample size\n",
    "smp_size <- floor(0.75 * nrow(data_classification))\n",
    "\n",
    "## set the seed to make your partition reproducible\n",
    "set.seed(123)\n",
    "train_ind <- sample(seq_len(nrow(data_classification)), size = smp_size)\n",
    "\n",
    "train <- data_classification[train_ind, ]\n",
    "test <- data_classification[-train_ind, ]"
   ]
  },
  {
   "cell_type": "markdown",
   "metadata": {},
   "source": [
    "Then we fit the model."
   ]
  },
  {
   "cell_type": "code",
   "execution_count": 12,
   "metadata": {},
   "outputs": [
    {
     "name": "stderr",
     "output_type": "stream",
     "text": [
      "randomForest 4.6-14\n",
      "Type rfNews() to see new features/changes/bug fixes.\n",
      "\n",
      "Attaching package: 'randomForest'\n",
      "\n",
      "The following object is masked from 'package:ggplot2':\n",
      "\n",
      "    margin\n",
      "\n"
     ]
    },
    {
     "data": {
      "text/plain": [
       "\n",
       "Call:\n",
       " randomForest(formula = as.factor(high_voted) ~ ., data = train,      ntree = 100, mtry = 2, importance = TRUE) \n",
       "               Type of random forest: classification\n",
       "                     Number of trees: 100\n",
       "No. of variables tried at each split: 2\n",
       "\n",
       "        OOB estimate of  error rate: 8.57%\n",
       "Confusion matrix:\n",
       "       False True class.error\n",
       "False 131143 1474  0.01111471\n",
       "True   11180 3929  0.73995632"
      ]
     },
     "metadata": {},
     "output_type": "display_data"
    }
   ],
   "source": [
    "#import the package\n",
    "library(randomForest)\n",
    "# Perform training:\n",
    "rf_classifier2 = randomForest(as.factor(high_voted) ~ ., data=train, ntree=100, mtry=2, importance=TRUE)\n",
    "# because of the as.factor(...), randomforest can fit a classification model. \n",
    "rf_classifier2"
   ]
  },
  {
   "cell_type": "code",
   "execution_count": 13,
   "metadata": {},
   "outputs": [
    {
     "data": {
      "text/html": [
       "<table>\n",
       "<thead><tr><th></th><th scope=col>False</th><th scope=col>True</th><th scope=col>MeanDecreaseAccuracy</th><th scope=col>MeanDecreaseGini</th></tr></thead>\n",
       "<tbody>\n",
       "\t<tr><th scope=row>km_dataSources</th><td>16.421420 </td><td>10.0911707</td><td>18.320465 </td><td> 221.36253</td></tr>\n",
       "\t<tr><th scope=row>km_Data</th><td> 8.450156 </td><td> 9.2879615</td><td>13.396462 </td><td> 265.36119</td></tr>\n",
       "\t<tr><th scope=row>km_versions</th><td> 5.216135 </td><td>32.9509224</td><td>21.103875 </td><td>2770.53684</td></tr>\n",
       "\t<tr><th scope=row>km_dataset_discussion_avg</th><td> 8.446492 </td><td> 5.9842484</td><td>11.692126 </td><td> 348.50853</td></tr>\n",
       "\t<tr><th scope=row>km_competition_size_avg</th><td>10.657572 </td><td>19.1613621</td><td>16.990010 </td><td> 868.81537</td></tr>\n",
       "\t<tr><th scope=row>km_Visualization</th><td> 3.162980 </td><td>17.6040508</td><td>17.231091 </td><td>1096.67234</td></tr>\n",
       "\t<tr><th scope=row>km_tags_te_avg</th><td>19.019851 </td><td>51.3737734</td><td>41.060404 </td><td>3083.76176</td></tr>\n",
       "\t<tr><th scope=row>km_Other</th><td> 6.773698 </td><td>-0.5303414</td><td> 6.605427 </td><td>  45.17792</td></tr>\n",
       "\t<tr><th scope=row>km_isNotebook</th><td> 8.926555 </td><td>-3.3842094</td><td> 9.131592 </td><td> 150.32179</td></tr>\n",
       "\t<tr><th scope=row>km_Hidden</th><td>10.260629 </td><td>-2.1214371</td><td>11.374014 </td><td> 337.55547</td></tr>\n",
       "\t<tr><th scope=row>km_Notebook</th><td>14.654957 </td><td> 0.4077204</td><td>15.946761 </td><td> 228.43139</td></tr>\n",
       "\t<tr><th scope=row>km_null</th><td>13.697169 </td><td> 6.1042877</td><td>17.375247 </td><td> 356.33933</td></tr>\n",
       "\t<tr><th scope=row>km_language</th><td> 7.716064 </td><td> 2.7253586</td><td>12.079539 </td><td> 103.21628</td></tr>\n",
       "</tbody>\n",
       "</table>\n"
      ],
      "text/latex": [
       "\\begin{tabular}{r|llll}\n",
       "  & False & True & MeanDecreaseAccuracy & MeanDecreaseGini\\\\\n",
       "\\hline\n",
       "\tkm\\_dataSources & 16.421420  & 10.0911707 & 18.320465  &  221.36253\\\\\n",
       "\tkm\\_Data &  8.450156  &  9.2879615 & 13.396462  &  265.36119\\\\\n",
       "\tkm\\_versions &  5.216135  & 32.9509224 & 21.103875  & 2770.53684\\\\\n",
       "\tkm\\_dataset\\_discussion\\_avg &  8.446492  &  5.9842484 & 11.692126  &  348.50853\\\\\n",
       "\tkm\\_competition\\_size\\_avg & 10.657572  & 19.1613621 & 16.990010  &  868.81537\\\\\n",
       "\tkm\\_Visualization &  3.162980  & 17.6040508 & 17.231091  & 1096.67234\\\\\n",
       "\tkm\\_tags\\_te\\_avg & 19.019851  & 51.3737734 & 41.060404  & 3083.76176\\\\\n",
       "\tkm\\_Other &  6.773698  & -0.5303414 &  6.605427  &   45.17792\\\\\n",
       "\tkm\\_isNotebook &  8.926555  & -3.3842094 &  9.131592  &  150.32179\\\\\n",
       "\tkm\\_Hidden & 10.260629  & -2.1214371 & 11.374014  &  337.55547\\\\\n",
       "\tkm\\_Notebook & 14.654957  &  0.4077204 & 15.946761  &  228.43139\\\\\n",
       "\tkm\\_null & 13.697169  &  6.1042877 & 17.375247  &  356.33933\\\\\n",
       "\tkm\\_language &  7.716064  &  2.7253586 & 12.079539  &  103.21628\\\\\n",
       "\\end{tabular}\n"
      ],
      "text/markdown": [
       "\n",
       "| <!--/--> | False | True | MeanDecreaseAccuracy | MeanDecreaseGini |\n",
       "|---|---|---|---|---|\n",
       "| km_dataSources | 16.421420  | 10.0911707 | 18.320465  |  221.36253 |\n",
       "| km_Data |  8.450156  |  9.2879615 | 13.396462  |  265.36119 |\n",
       "| km_versions |  5.216135  | 32.9509224 | 21.103875  | 2770.53684 |\n",
       "| km_dataset_discussion_avg |  8.446492  |  5.9842484 | 11.692126  |  348.50853 |\n",
       "| km_competition_size_avg | 10.657572  | 19.1613621 | 16.990010  |  868.81537 |\n",
       "| km_Visualization |  3.162980  | 17.6040508 | 17.231091  | 1096.67234 |\n",
       "| km_tags_te_avg | 19.019851  | 51.3737734 | 41.060404  | 3083.76176 |\n",
       "| km_Other |  6.773698  | -0.5303414 |  6.605427  |   45.17792 |\n",
       "| km_isNotebook |  8.926555  | -3.3842094 |  9.131592  |  150.32179 |\n",
       "| km_Hidden | 10.260629  | -2.1214371 | 11.374014  |  337.55547 |\n",
       "| km_Notebook | 14.654957  |  0.4077204 | 15.946761  |  228.43139 |\n",
       "| km_null | 13.697169  |  6.1042877 | 17.375247  |  356.33933 |\n",
       "| km_language |  7.716064  |  2.7253586 | 12.079539  |  103.21628 |\n",
       "\n"
      ],
      "text/plain": [
       "                          False     True       MeanDecreaseAccuracy\n",
       "km_dataSources            16.421420 10.0911707 18.320465           \n",
       "km_Data                    8.450156  9.2879615 13.396462           \n",
       "km_versions                5.216135 32.9509224 21.103875           \n",
       "km_dataset_discussion_avg  8.446492  5.9842484 11.692126           \n",
       "km_competition_size_avg   10.657572 19.1613621 16.990010           \n",
       "km_Visualization           3.162980 17.6040508 17.231091           \n",
       "km_tags_te_avg            19.019851 51.3737734 41.060404           \n",
       "km_Other                   6.773698 -0.5303414  6.605427           \n",
       "km_isNotebook              8.926555 -3.3842094  9.131592           \n",
       "km_Hidden                 10.260629 -2.1214371 11.374014           \n",
       "km_Notebook               14.654957  0.4077204 15.946761           \n",
       "km_null                   13.697169  6.1042877 17.375247           \n",
       "km_language                7.716064  2.7253586 12.079539           \n",
       "                          MeanDecreaseGini\n",
       "km_dataSources             221.36253      \n",
       "km_Data                    265.36119      \n",
       "km_versions               2770.53684      \n",
       "km_dataset_discussion_avg  348.50853      \n",
       "km_competition_size_avg    868.81537      \n",
       "km_Visualization          1096.67234      \n",
       "km_tags_te_avg            3083.76176      \n",
       "km_Other                    45.17792      \n",
       "km_isNotebook              150.32179      \n",
       "km_Hidden                  337.55547      \n",
       "km_Notebook                228.43139      \n",
       "km_null                    356.33933      \n",
       "km_language                103.21628      "
      ]
     },
     "metadata": {},
     "output_type": "display_data"
    }
   ],
   "source": [
    "importance(rf_classifier2)"
   ]
  },
  {
   "cell_type": "code",
   "execution_count": 14,
   "metadata": {},
   "outputs": [
    {
     "data": {
      "text/html": [
       "<strong>png:</strong> 2"
      ],
      "text/latex": [
       "\\textbf{png:} 2"
      ],
      "text/markdown": [
       "**png:** 2"
      ],
      "text/plain": [
       "png \n",
       "  2 "
      ]
     },
     "metadata": {},
     "output_type": "display_data"
    }
   ],
   "source": [
    "pdf(file=\"importance_for_all_language.pdf\", width = 8, height = 8)\n",
    "varImpPlot(rf_classifier2, type= 1)\n",
    "thresh = 0.7\n",
    "dev.off()"
   ]
  },
  {
   "cell_type": "markdown",
   "metadata": {},
   "source": [
    "This is AUC. If the stackoverflow gave me the right answer. "
   ]
  },
  {
   "cell_type": "code",
   "execution_count": 15,
   "metadata": {},
   "outputs": [
    {
     "name": "stderr",
     "output_type": "stream",
     "text": [
      "Type 'citation(\"pROC\")' for a citation.\n",
      "\n",
      "Attaching package: 'pROC'\n",
      "\n",
      "The following objects are masked from 'package:stats':\n",
      "\n",
      "    cov, smooth, var\n",
      "\n",
      "Loading required package: gplots\n",
      "\n",
      "Attaching package: 'gplots'\n",
      "\n",
      "The following object is masked from 'package:stats':\n",
      "\n",
      "    lowess\n",
      "\n"
     ]
    }
   ],
   "source": [
    "# import the library that needed in calculating the AUC. \n",
    "library(pROC)\n",
    "library(ROCR)"
   ]
  },
  {
   "cell_type": "code",
   "execution_count": 16,
   "metadata": {},
   "outputs": [
    {
     "data": {
      "text/html": [
       "0.796784086476399"
      ],
      "text/latex": [
       "0.796784086476399"
      ],
      "text/markdown": [
       "0.796784086476399"
      ],
      "text/plain": [
       "[1] 0.7967841"
      ]
     },
     "metadata": {},
     "output_type": "display_data"
    }
   ],
   "source": [
    "# https://stackoverflow.com/questions/46776944/how-to-calculate-randomforest-training-auc-in-r\n",
    "# the train AUC\n",
    "rf_p_train <- predict(rf_classifier2, type=\"prob\")[,2]\n",
    "rf_pr_train <- prediction(rf_p_train, train$high_vote)\n",
    "r_auc_train <- performance(rf_pr_train, measure = \"auc\")@y.values[[1]] \n",
    "r_auc_train"
   ]
  },
  {
   "cell_type": "code",
   "execution_count": 17,
   "metadata": {
    "scrolled": true
   },
   "outputs": [
    {
     "data": {
      "text/html": [
       "0.820237611209434"
      ],
      "text/latex": [
       "0.820237611209434"
      ],
      "text/markdown": [
       "0.820237611209434"
      ],
      "text/plain": [
       "[1] 0.8202376"
      ]
     },
     "metadata": {},
     "output_type": "display_data"
    }
   ],
   "source": [
    "#https://stats.stackexchange.com/questions/308645/why-does-randomforest-has-higher-test-auc-than-train-auc-is-this-possible\n",
    "#the test AUC\n",
    "rf_p_test <- predict(rf_classifier2, type=\"prob\", newdata = test)[,2]\n",
    "rf_pr_test <- prediction(rf_p_test, test$high_vote)\n",
    "r_auc_test <- performance(rf_pr_test, measure = \"auc\")@y.values[[1]] \n",
    "r_auc_test"
   ]
  },
  {
   "cell_type": "markdown",
   "metadata": {},
   "source": [
    "### Logistic Regression"
   ]
  },
  {
   "cell_type": "code",
   "execution_count": 19,
   "metadata": {},
   "outputs": [],
   "source": [
    "library(rms)\n",
    "fit <- lrm(high_voted ~ .,\n",
    "           data=train, x=T, y=T)"
   ]
  },
  {
   "cell_type": "code",
   "execution_count": 20,
   "metadata": {},
   "outputs": [
    {
     "name": "stdout",
     "output_type": "stream",
     "text": [
      "         AUC AUC_optimism \n",
      "0.6434512055 0.0009310391 \n"
     ]
    }
   ],
   "source": [
    "val <- validate(fit, B=1000)\n",
    "AUC = 0.5 + val[1,1]/2\n",
    "AUC_optimism_reduced = (0.5 + val[1,5]/2)\n",
    "AUC_optimism = AUC - AUC_optimism_reduced\n",
    "print(c(\"AUC\"=AUC,\"AUC_optimism\"=AUC_optimism))"
   ]
  },
  {
   "cell_type": "code",
   "execution_count": null,
   "metadata": {},
   "outputs": [],
   "source": []
  }
 ],
 "metadata": {
  "kernelspec": {
   "display_name": "R",
   "language": "R",
   "name": "ir"
  },
  "language_info": {
   "codemirror_mode": "r",
   "file_extension": ".r",
   "mimetype": "text/x-r-source",
   "name": "R",
   "pygments_lexer": "r",
   "version": "3.5.1"
  }
 },
 "nbformat": 4,
 "nbformat_minor": 2
}
