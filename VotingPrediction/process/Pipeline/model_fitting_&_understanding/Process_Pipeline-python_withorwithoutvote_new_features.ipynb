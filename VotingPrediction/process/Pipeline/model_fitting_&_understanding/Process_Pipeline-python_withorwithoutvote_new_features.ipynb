{
 "cells": [
  {
   "cell_type": "markdown",
   "metadata": {},
   "source": [
    "# Model fitting and understanding . \n",
    "* V2: The operation process is simplified. "
   ]
  },
  {
   "cell_type": "markdown",
   "metadata": {},
   "source": [
    "* Turn the warning off: \n",
    "~~~~\n",
    "options(warn=-1)\n",
    "~~~~\n",
    "* Turn the warning back on: \n",
    "~~~~\n",
    "options(warn=0)\n",
    "~~~~\n",
    "* reference: https://stackoverflow.com/questions/16194212/how-to-suppress-warnings-globally-in-an-r-script"
   ]
  },
  {
   "cell_type": "code",
   "execution_count": 1,
   "metadata": {},
   "outputs": [],
   "source": [
    "options(warn=-1)"
   ]
  },
  {
   "cell_type": "markdown",
   "metadata": {},
   "source": [
    "## First step is getting the correlationship between those variables. "
   ]
  },
  {
   "cell_type": "code",
   "execution_count": 2,
   "metadata": {},
   "outputs": [
    {
     "name": "stderr",
     "output_type": "stream",
     "text": [
      "Loading required package: Hmisc\n",
      "Loading required package: lattice\n",
      "Loading required package: survival\n",
      "Loading required package: Formula\n",
      "Loading required package: ggplot2\n",
      "\n",
      "Attaching package: 'Hmisc'\n",
      "\n",
      "The following objects are masked from 'package:base':\n",
      "\n",
      "    format.pval, units\n",
      "\n",
      "Loading required package: SparseM\n",
      "\n",
      "Attaching package: 'SparseM'\n",
      "\n",
      "The following object is masked from 'package:base':\n",
      "\n",
      "    backsolve\n",
      "\n"
     ]
    }
   ],
   "source": [
    "library(rms)\n",
    "data <- read.csv('J:/EECS6414/process/Pipeline/Data_cleaning/kernel_datssource_code_with_and_without_vote_0.csv')# , stringsAsFactors=FALSE\n",
    "\n",
    "col_name <- names(data)\n",
    "env_vars <- col_name\n",
    "vote_num <- data[c(\"km_votes\")]\n",
    "high_voted <- data[c(\"high_voted\")]\n",
    "reject_vars <- c(#\"kernel_datasets\", # because they are all 1, so we can only get NaN. \n",
    "                 \"kernel\", \"author\", \"id\", \"km_language\", \"km_tags\", \n",
    "                \"km_votes\", \"high_voted\",  \n",
    "                \"km_forks\", \"km_comments\", \"km_views\", \n",
    "                 #\"competition\", \"organization\" # unnecessary variables. \n",
    "    \n",
    "                \"km_tag_vote_median\", \"km_tag_vote_max\", \"km_tag_vote_min\", \"km_tag_vote_avg\", \"km_tag_vote_sum\"\n",
    "    \n",
    "                \"km_competition_size_max\",\n",
    "                \"km_competition_size_min\",\n",
    "\n",
    "                \"km_competition_discussion_max\",\n",
    "                \"km_competition_discussion_min\",\n",
    "\n",
    "                \"km_competition_competitor_max\",\n",
    "                \"km_competition_competitor_min\",\n",
    "\n",
    "\n",
    "                \"km_dataset_size_max\",\n",
    "                \"km_dataset_size_min\",\n",
    "\n",
    "                \"km_dataset_discussion_max\",\n",
    "                \"km_dataset_discussion_min\",\n",
    "\n",
    "                \"km_dataset_kernel_max\",\n",
    "                \"km_dataset_kernel_min\",\n",
    "\n",
    "                \"km_dataset_download_max\",\n",
    "                \"km_dataset_download_min\",\n",
    "\n",
    "                \"km_dataset_view_max\",\n",
    "                \"km_dataset_view_min\",\n",
    "\n",
    "                \"km_dataset_vote_max\",\n",
    "                \"km_dataset_vote_min\",\n",
    "\n",
    "                \"km_dataset_version_max\",\n",
    "                \"km_dataset_version_min\",\n",
    "                \"km_tags_te_max\",\n",
    "                \"km_tags_te_min\",\n",
    "                \"km_tags_te_median\",\n",
    "                \"cvp_ipt_te_max\",\n",
    "                \"cvp_ipt_te_min\",\n",
    "                \"cvp_ipt_te_median\",\n",
    "\n",
    "\n",
    "                \"cvp_iptfrm_te_max\",\n",
    "                \"cvp_iptfrm_te_min\",\n",
    "                \"cvp_iptfrm_te_median\",\n",
    "                \"km_tag_vote_median\",\n",
    "\n",
    "                \"km_tag_vote_max\",\n",
    "                \"km_tag_vote_min\",\n",
    "\n",
    "                \"km_import_vote_median\",\n",
    "\n",
    "                \"km_import_vote_max\",\n",
    "                \"km_import_vote_min\",\n",
    "\n",
    "                \"km_iptfrm_vote_median\",\n",
    "                \"km_iptfrm_vote_max\",\n",
    "                \"km_iptfrm_vote_min\"\n",
    "                 )\n",
    "env_vars <- env_vars[!(env_vars %in% reject_vars)]\n",
    "# for (env in env_vars){\n",
    "#    print(paste(env, \"+\"))\n",
    "# }\n",
    "data <- data[env_vars]"
   ]
  },
  {
   "cell_type": "code",
   "execution_count": 3,
   "metadata": {},
   "outputs": [
    {
     "data": {
      "text/html": [
       "1294"
      ],
      "text/latex": [
       "1294"
      ],
      "text/markdown": [
       "1294"
      ],
      "text/plain": [
       "[1] 1294"
      ]
     },
     "metadata": {},
     "output_type": "display_data"
    }
   ],
   "source": [
    "## 75% of the sample size\n",
    "corr_size <- floor(0.01 * nrow(data))\n",
    "\n",
    "## set the seed to make your partition reproducible\n",
    "set.seed(123)\n",
    "corr_id <- sample(seq_len(nrow(data)), size = corr_size)\n",
    "\n",
    "data_simple <- data[corr_id, ]\n",
    "nrow(data_simple)"
   ]
  },
  {
   "cell_type": "code",
   "execution_count": 8,
   "metadata": {},
   "outputs": [
    {
     "name": "stdout",
     "output_type": "stream",
     "text": [
      "[1] \"cvo_num_of_cell +\"\n",
      "[1] \"cvo_num_of_output +\"\n",
      "[1] \"cvo_display_data +\"\n",
      "[1] \"cvo_stream +\"\n",
      "[1] \"cvo_execute_result +\"\n",
      "[1] \"cvo_error +\"\n",
      "[1] \"cvp_sloc +\"\n",
      "[1] \"cvp_comments +\"\n",
      "[1] \"cvp_empty +\"\n",
      "[1] \"cvp_mccabe +\"\n",
      "[1] \"cvp_import +\"\n",
      "[1] \"cvp_import_from +\"\n",
      "[1] \"km_dataSources +\"\n",
      "[1] \"km_versions +\"\n",
      "[1] \"km_competitions +\"\n",
      "[1] \"km_competition_size_ttl +\"\n",
      "[1] \"km_competition_size_avg +\"\n",
      "[1] \"km_competition_size_max +\"\n",
      "[1] \"km_competition_size_min +\"\n",
      "[1] \"km_competition_discussion_ttl +\"\n",
      "[1] \"km_competition_discussion_avg +\"\n",
      "[1] \"km_competition_discussion_max +\"\n",
      "[1] \"km_competition_discussion_min +\"\n",
      "[1] \"km_competition_competitor_ttl +\"\n",
      "[1] \"km_competition_competitor_avg +\"\n",
      "[1] \"km_competition_competitor_max +\"\n",
      "[1] \"km_competition_competitor_min +\"\n",
      "[1] \"km_datasets +\"\n",
      "[1] \"km_dataset_size_ttl +\"\n",
      "[1] \"km_dataset_size_avg +\"\n",
      "[1] \"km_dataset_size_max +\"\n",
      "[1] \"km_dataset_size_min +\"\n",
      "[1] \"km_dataset_discussion_ttl +\"\n",
      "[1] \"km_dataset_discussion_avg +\"\n",
      "[1] \"km_dataset_discussion_max +\"\n",
      "[1] \"km_dataset_discussion_min +\"\n",
      "[1] \"km_dataset_kernel_ttl +\"\n",
      "[1] \"km_dataset_kernel_avg +\"\n",
      "[1] \"km_dataset_kernel_max +\"\n",
      "[1] \"km_dataset_kernel_min +\"\n",
      "[1] \"km_dataset_download_ttl +\"\n",
      "[1] \"km_dataset_download_avg +\"\n",
      "[1] \"km_dataset_download_max +\"\n",
      "[1] \"km_dataset_download_min +\"\n",
      "[1] \"km_dataset_view_ttl +\"\n",
      "[1] \"km_dataset_view_avg +\"\n",
      "[1] \"km_dataset_view_max +\"\n",
      "[1] \"km_dataset_view_min +\"\n",
      "[1] \"km_dataset_vote_ttl +\"\n",
      "[1] \"km_dataset_vote_avg +\"\n",
      "[1] \"km_dataset_vote_max +\"\n",
      "[1] \"km_dataset_vote_min +\"\n",
      "[1] \"km_dataset_version_ttl +\"\n",
      "[1] \"km_dataset_version_avg +\"\n",
      "[1] \"km_dataset_version_max +\"\n",
      "[1] \"km_dataset_version_min +\"\n",
      "[1] \"km_Hidden +\"\n",
      "[1] \"km_Notebook +\"\n",
      "[1] \"km_null +\"\n",
      "[1] \"km_Data +\"\n",
      "[1] \"km_Visualization +\"\n",
      "[1] \"km_Other +\"\n",
      "[1] \"km_isNotebook +\"\n",
      "[1] \"km_num_of_tags +\"\n",
      "[1] \"km_tags_te_sum +\"\n",
      "[1] \"km_tags_te_avg +\"\n",
      "[1] \"km_tags_te_max +\"\n",
      "[1] \"km_tags_te_min +\"\n",
      "[1] \"km_tags_te_median +\"\n",
      "[1] \"cvp_num_of_ipt +\"\n",
      "[1] \"cvp_ipt_te_sum +\"\n",
      "[1] \"cvp_ipt_te_avg +\"\n",
      "[1] \"cvp_ipt_te_max +\"\n",
      "[1] \"cvp_ipt_te_min +\"\n",
      "[1] \"cvp_ipt_te_median +\"\n",
      "[1] \"cvp_num_of_iptfrm +\"\n",
      "[1] \"cvp_iptfrm_te_sum +\"\n",
      "[1] \"cvp_iptfrm_te_avg +\"\n",
      "[1] \"cvp_iptfrm_te_max +\"\n",
      "[1] \"cvp_iptfrm_te_min +\"\n",
      "[1] \"cvp_iptfrm_te_median +\"\n",
      "[1] \"km_import_vote_median +\"\n",
      "[1] \"km_import_vote_avg +\"\n",
      "[1] \"km_import_vote_max +\"\n",
      "[1] \"km_import_vote_min +\"\n",
      "[1] \"km_import_vote_sum +\"\n",
      "[1] \"km_iptfrm_vote_median +\"\n",
      "[1] \"km_iptfrm_vote_avg +\"\n",
      "[1] \"km_iptfrm_vote_max +\"\n",
      "[1] \"km_iptfrm_vote_min +\"\n",
      "[1] \"km_iptfrm_vote_sum +\"\n"
     ]
    }
   ],
   "source": [
    "for (env in env_vars){\n",
    "   print(paste(env, \"+\"))\n",
    "}"
   ]
  },
  {
   "cell_type": "code",
   "execution_count": null,
   "metadata": {},
   "outputs": [],
   "source": [
    "normalization<-function(x){\n",
    "return((x-min(x))/(max(x)-min(x)))\n",
    "}\n",
    "data_test <- data_simple\n",
    "\n",
    "data_test$km_import_vote_median = normalization(data_test$km_import_vote_median)\n",
    "\n",
    "data_test$km_import_vote_avg = normalization(data_test$km_import_vote_avg)\n",
    "\n",
    "data_test$km_import_vote_max = normalization(data_test$km_import_vote_max)\n",
    "\n",
    "data_test$km_import_vote_min = normalization(data_test$km_import_vote_min)\n",
    "data_test$km_import_vote_sum = normalization(data_test$km_import_vote_sum)\n",
    "\n",
    "data_test$km_iptfrm_vote_median = normalization(data_test$km_iptfrm_vote_median)\n",
    "\n",
    "data_test$km_iptfrm_vote_avg = normalization(data_test$km_iptfrm_vote_avg)\n",
    "\n",
    "data_test$km_iptfrm_vote_max = normalization(data_test$km_iptfrm_vote_max)\n",
    "\n",
    "data_test$km_iptfrm_vote_min = normalization(data_test$km_iptfrm_vote_min)\n",
    "\n",
    "data_test$km_iptfrm_vote_sum = normalization(data_test$km_iptfrm_vote_sum)"
   ]
  },
  {
   "cell_type": "code",
   "execution_count": 14,
   "metadata": {},
   "outputs": [
    {
     "data": {
      "text/html": [
       "<table>\n",
       "<thead><tr><th></th><th scope=col>cvo_num_of_cell</th><th scope=col>cvo_num_of_output</th><th scope=col>cvo_display_data</th><th scope=col>cvo_stream</th><th scope=col>cvo_execute_result</th><th scope=col>cvo_error</th><th scope=col>cvp_sloc</th><th scope=col>cvp_comments</th><th scope=col>cvp_empty</th><th scope=col>cvp_mccabe</th><th scope=col>...</th><th scope=col>km_import_vote_median</th><th scope=col>km_import_vote_avg</th><th scope=col>km_import_vote_max</th><th scope=col>km_import_vote_min</th><th scope=col>km_import_vote_sum</th><th scope=col>km_iptfrm_vote_median</th><th scope=col>km_iptfrm_vote_avg</th><th scope=col>km_iptfrm_vote_max</th><th scope=col>km_iptfrm_vote_min</th><th scope=col>km_iptfrm_vote_sum</th></tr></thead>\n",
       "<tbody>\n",
       "\t<tr><th scope=row>37217</th><td> 0          </td><td>0           </td><td>0           </td><td>0           </td><td>0           </td><td>0           </td><td> 48         </td><td>29          </td><td>25          </td><td>-2          </td><td>...         </td><td>0.9662432   </td><td>0.6737213   </td><td>1           </td><td>0.054932876 </td><td>0.12552839  </td><td>0.1960346814</td><td>0.2191262960</td><td>0.4373491784</td><td>0.0470866428</td><td>8.136106e-02</td></tr>\n",
       "\t<tr><th scope=row>102017</th><td>10          </td><td>0           </td><td>0           </td><td>0           </td><td>0           </td><td>0           </td><td>115         </td><td>37          </td><td>58          </td><td> 3          </td><td>...         </td><td>0.1178823   </td><td>0.3330368   </td><td>1           </td><td>0.004629139 </td><td>0.22752812  </td><td>0.0229551931</td><td>0.0449984842</td><td>0.0965864306</td><td>0.0017825744</td><td>2.088478e-02</td></tr>\n",
       "\t<tr><th scope=row>52927</th><td> 1          </td><td>1           </td><td>0           </td><td>1           </td><td>0           </td><td>0           </td><td>  5         </td><td> 8          </td><td> 6          </td><td>-2          </td><td>...         </td><td>0.9831216   </td><td>0.9831216   </td><td>1           </td><td>0.966243587 </td><td>0.12211668  </td><td>0.4533802219</td><td>0.4533802219</td><td>0.4533802219</td><td>0.4533802219</td><td>4.208474e-02</td></tr>\n",
       "\t<tr><th scope=row>114273</th><td> 6          </td><td>1           </td><td>0           </td><td>1           </td><td>0           </td><td>0           </td><td> 16         </td><td>19          </td><td>14          </td><td>-2          </td><td>...         </td><td>1.0000000   </td><td>1.0000000   </td><td>1           </td><td>1.000000000 </td><td>0.06210619  </td><td>0.6718607894</td><td>0.6718607894</td><td>0.6718607894</td><td>0.6718607894</td><td>6.236507e-02</td></tr>\n",
       "\t<tr><th scope=row>121706</th><td>12          </td><td>9           </td><td>2           </td><td>4           </td><td>3           </td><td>0           </td><td> 33         </td><td>19          </td><td>50          </td><td>-2          </td><td>...         </td><td>0.8272580   </td><td>0.6681610   </td><td>1           </td><td>0.018140699 </td><td>0.16599014  </td><td>0.3555387134</td><td>0.4914175711</td><td>1.0000000000</td><td>0.2545928576</td><td>1.824621e-01</td></tr>\n",
       "\t<tr><th scope=row>5896</th><td>23          </td><td>0           </td><td>0           </td><td>0           </td><td>0           </td><td>0           </td><td> 19         </td><td>78          </td><td>53          </td><td>-2          </td><td>...         </td><td>0.5044445   </td><td>0.5044445   </td><td>1           </td><td>0.008901696 </td><td>0.06265905  </td><td>0.0003516643</td><td>0.0003516643</td><td>0.0003516643</td><td>0.0003516643</td><td>3.264303e-05</td></tr>\n",
       "</tbody>\n",
       "</table>\n"
      ],
      "text/latex": [
       "\\begin{tabular}{r|lllllllllllllllllllllllllllllllllllllllllllllllllllllllllllllllllllllllllllllllllllllllllll}\n",
       "  & cvo\\_num\\_of\\_cell & cvo\\_num\\_of\\_output & cvo\\_display\\_data & cvo\\_stream & cvo\\_execute\\_result & cvo\\_error & cvp\\_sloc & cvp\\_comments & cvp\\_empty & cvp\\_mccabe & ... & km\\_import\\_vote\\_median & km\\_import\\_vote\\_avg & km\\_import\\_vote\\_max & km\\_import\\_vote\\_min & km\\_import\\_vote\\_sum & km\\_iptfrm\\_vote\\_median & km\\_iptfrm\\_vote\\_avg & km\\_iptfrm\\_vote\\_max & km\\_iptfrm\\_vote\\_min & km\\_iptfrm\\_vote\\_sum\\\\\n",
       "\\hline\n",
       "\t37217 &  0           & 0            & 0            & 0            & 0            & 0            &  48          & 29           & 25           & -2           & ...          & 0.9662432    & 0.6737213    & 1            & 0.054932876  & 0.12552839   & 0.1960346814 & 0.2191262960 & 0.4373491784 & 0.0470866428 & 8.136106e-02\\\\\n",
       "\t102017 & 10           & 0            & 0            & 0            & 0            & 0            & 115          & 37           & 58           &  3           & ...          & 0.1178823    & 0.3330368    & 1            & 0.004629139  & 0.22752812   & 0.0229551931 & 0.0449984842 & 0.0965864306 & 0.0017825744 & 2.088478e-02\\\\\n",
       "\t52927 &  1           & 1            & 0            & 1            & 0            & 0            &   5          &  8           &  6           & -2           & ...          & 0.9831216    & 0.9831216    & 1            & 0.966243587  & 0.12211668   & 0.4533802219 & 0.4533802219 & 0.4533802219 & 0.4533802219 & 4.208474e-02\\\\\n",
       "\t114273 &  6           & 1            & 0            & 1            & 0            & 0            &  16          & 19           & 14           & -2           & ...          & 1.0000000    & 1.0000000    & 1            & 1.000000000  & 0.06210619   & 0.6718607894 & 0.6718607894 & 0.6718607894 & 0.6718607894 & 6.236507e-02\\\\\n",
       "\t121706 & 12           & 9            & 2            & 4            & 3            & 0            &  33          & 19           & 50           & -2           & ...          & 0.8272580    & 0.6681610    & 1            & 0.018140699  & 0.16599014   & 0.3555387134 & 0.4914175711 & 1.0000000000 & 0.2545928576 & 1.824621e-01\\\\\n",
       "\t5896 & 23           & 0            & 0            & 0            & 0            & 0            &  19          & 78           & 53           & -2           & ...          & 0.5044445    & 0.5044445    & 1            & 0.008901696  & 0.06265905   & 0.0003516643 & 0.0003516643 & 0.0003516643 & 0.0003516643 & 3.264303e-05\\\\\n",
       "\\end{tabular}\n"
      ],
      "text/markdown": [
       "\n",
       "| <!--/--> | cvo_num_of_cell | cvo_num_of_output | cvo_display_data | cvo_stream | cvo_execute_result | cvo_error | cvp_sloc | cvp_comments | cvp_empty | cvp_mccabe | ... | km_import_vote_median | km_import_vote_avg | km_import_vote_max | km_import_vote_min | km_import_vote_sum | km_iptfrm_vote_median | km_iptfrm_vote_avg | km_iptfrm_vote_max | km_iptfrm_vote_min | km_iptfrm_vote_sum |\n",
       "|---|---|---|---|---|---|---|---|---|---|---|---|---|---|---|---|---|---|---|---|---|---|\n",
       "| 37217 |  0           | 0            | 0            | 0            | 0            | 0            |  48          | 29           | 25           | -2           | ...          | 0.9662432    | 0.6737213    | 1            | 0.054932876  | 0.12552839   | 0.1960346814 | 0.2191262960 | 0.4373491784 | 0.0470866428 | 8.136106e-02 |\n",
       "| 102017 | 10           | 0            | 0            | 0            | 0            | 0            | 115          | 37           | 58           |  3           | ...          | 0.1178823    | 0.3330368    | 1            | 0.004629139  | 0.22752812   | 0.0229551931 | 0.0449984842 | 0.0965864306 | 0.0017825744 | 2.088478e-02 |\n",
       "| 52927 |  1           | 1            | 0            | 1            | 0            | 0            |   5          |  8           |  6           | -2           | ...          | 0.9831216    | 0.9831216    | 1            | 0.966243587  | 0.12211668   | 0.4533802219 | 0.4533802219 | 0.4533802219 | 0.4533802219 | 4.208474e-02 |\n",
       "| 114273 |  6           | 1            | 0            | 1            | 0            | 0            |  16          | 19           | 14           | -2           | ...          | 1.0000000    | 1.0000000    | 1            | 1.000000000  | 0.06210619   | 0.6718607894 | 0.6718607894 | 0.6718607894 | 0.6718607894 | 6.236507e-02 |\n",
       "| 121706 | 12           | 9            | 2            | 4            | 3            | 0            |  33          | 19           | 50           | -2           | ...          | 0.8272580    | 0.6681610    | 1            | 0.018140699  | 0.16599014   | 0.3555387134 | 0.4914175711 | 1.0000000000 | 0.2545928576 | 1.824621e-01 |\n",
       "| 5896 | 23           | 0            | 0            | 0            | 0            | 0            |  19          | 78           | 53           | -2           | ...          | 0.5044445    | 0.5044445    | 1            | 0.008901696  | 0.06265905   | 0.0003516643 | 0.0003516643 | 0.0003516643 | 0.0003516643 | 3.264303e-05 |\n",
       "\n"
      ],
      "text/plain": [
       "       cvo_num_of_cell cvo_num_of_output cvo_display_data cvo_stream\n",
       "37217   0              0                 0                0         \n",
       "102017 10              0                 0                0         \n",
       "52927   1              1                 0                1         \n",
       "114273  6              1                 0                1         \n",
       "121706 12              9                 2                4         \n",
       "5896   23              0                 0                0         \n",
       "       cvo_execute_result cvo_error cvp_sloc cvp_comments cvp_empty cvp_mccabe\n",
       "37217  0                  0          48      29           25        -2        \n",
       "102017 0                  0         115      37           58         3        \n",
       "52927  0                  0           5       8            6        -2        \n",
       "114273 0                  0          16      19           14        -2        \n",
       "121706 3                  0          33      19           50        -2        \n",
       "5896   0                  0          19      78           53        -2        \n",
       "       ... km_import_vote_median km_import_vote_avg km_import_vote_max\n",
       "37217  ... 0.9662432             0.6737213          1                 \n",
       "102017 ... 0.1178823             0.3330368          1                 \n",
       "52927  ... 0.9831216             0.9831216          1                 \n",
       "114273 ... 1.0000000             1.0000000          1                 \n",
       "121706 ... 0.8272580             0.6681610          1                 \n",
       "5896   ... 0.5044445             0.5044445          1                 \n",
       "       km_import_vote_min km_import_vote_sum km_iptfrm_vote_median\n",
       "37217  0.054932876        0.12552839         0.1960346814         \n",
       "102017 0.004629139        0.22752812         0.0229551931         \n",
       "52927  0.966243587        0.12211668         0.4533802219         \n",
       "114273 1.000000000        0.06210619         0.6718607894         \n",
       "121706 0.018140699        0.16599014         0.3555387134         \n",
       "5896   0.008901696        0.06265905         0.0003516643         \n",
       "       km_iptfrm_vote_avg km_iptfrm_vote_max km_iptfrm_vote_min\n",
       "37217  0.2191262960       0.4373491784       0.0470866428      \n",
       "102017 0.0449984842       0.0965864306       0.0017825744      \n",
       "52927  0.4533802219       0.4533802219       0.4533802219      \n",
       "114273 0.6718607894       0.6718607894       0.6718607894      \n",
       "121706 0.4914175711       1.0000000000       0.2545928576      \n",
       "5896   0.0003516643       0.0003516643       0.0003516643      \n",
       "       km_iptfrm_vote_sum\n",
       "37217  8.136106e-02      \n",
       "102017 2.088478e-02      \n",
       "52927  4.208474e-02      \n",
       "114273 6.236507e-02      \n",
       "121706 1.824621e-01      \n",
       "5896   3.264303e-05      "
      ]
     },
     "metadata": {},
     "output_type": "display_data"
    }
   ],
   "source": [
    "head(data_test)"
   ]
  },
  {
   "cell_type": "code",
   "execution_count": null,
   "metadata": {},
   "outputs": [],
   "source": [
    "vcobj = varclus(~ ., \n",
    "                \n",
    "                data = data_test, \n",
    "                \n",
    "                similarity = \"spearman\",\n",
    "                \n",
    "                trans = \"abs\"\n",
    ")\n",
    "\n",
    "pdf(file=\"correlation.pdf\", width = 15, height = 15)\n",
    "plot(vcobj)\n",
    "thresh = 0.7\n",
    "abline (h = 1 - thresh, col = \"red\", lty = 2)\n",
    "dev.off()\n",
    "\n",
    "plot(vcobj)\n",
    "thresh = 0.7\n",
    "abline (h = 1 - thresh, col = \"red\", lty = 2)\n",
    "\n",
    "# reject variables that closely related to each other. For now, we don't do this thing. \n",
    "# reject_vars <- c()\n",
    "# env_vars <- env_vars[!(env_vars %in% reject_vars)]"
   ]
  },
  {
   "cell_type": "code",
   "execution_count": 10,
   "metadata": {},
   "outputs": [],
   "source": [
    "env_vars <- c(\"km_dataset_discussion_avg\", \n",
    "              \n",
    "              \"km_competition_size_avg\", \n",
    "              \n",
    "              \n",
    "              \"km_competition_competitor_avg\",\n",
    "              \n",
    "              \"km_tags_te_avg\", \n",
    "              \n",
    "              \"km_dataSources\",\n",
    "              \"km_Data\",\n",
    "              \"km_versions\",\n",
    "              \"km_isNotebook\",\n",
    "              \"km_Hidden\",\n",
    "              \"km_Notebook\",\n",
    "              \"km_Visualization\",\n",
    "              \"km_null\",\n",
    "              \"km_Other\"\n",
    "             )\n",
    "data <- data[env_vars]"
   ]
  },
  {
   "cell_type": "code",
   "execution_count": 11,
   "metadata": {},
   "outputs": [
    {
     "data": {
      "text/html": [
       "<strong>png:</strong> 2"
      ],
      "text/latex": [
       "\\textbf{png:} 2"
      ],
      "text/markdown": [
       "**png:** 2"
      ],
      "text/plain": [
       "png \n",
       "  2 "
      ]
     },
     "metadata": {},
     "output_type": "display_data"
    },
    {
     "data": {
      "image/png": "[encoded data removed]",
      "text/plain": [
       "plot without title"
      ]
     },
     "metadata": {},
     "output_type": "display_data"
    }
   ],
   "source": [
    "vcobj = varclus(~ .,\n",
    "                \n",
    "                data = data, \n",
    "                \n",
    "                similarity = \"spearman\",\n",
    "                \n",
    "                trans = \"abs\"\n",
    ")\n",
    "\n",
    "pdf(file=\"correlation1.pdf\", width = 11, height = 8.5)\n",
    "plot(vcobj)\n",
    "thresh = 0.7\n",
    "abline (h = 1 - thresh, col = \"red\", lty = 2)\n",
    "dev.off()\n",
    "\n",
    "plot(vcobj)\n",
    "thresh = 0.7\n",
    "abline (h = 1 - thresh, col = \"red\", lty = 2)\n",
    "\n",
    "# reject variables that closely related to each other. For now, we don't do this thing. \n",
    "reject_vars <- c()\n",
    "env_vars <- env_vars[!(env_vars %in% reject_vars)]"
   ]
  },
  {
   "cell_type": "code",
   "execution_count": 12,
   "metadata": {
    "scrolled": false
   },
   "outputs": [
    {
     "data": {
      "text/html": [
       "<strong>png:</strong> 2"
      ],
      "text/latex": [
       "\\textbf{png:} 2"
      ],
      "text/markdown": [
       "**png:** 2"
      ],
      "text/plain": [
       "png \n",
       "  2 "
      ]
     },
     "metadata": {},
     "output_type": "display_data"
    },
    {
     "data": {
      "image/png": "[encoded data removed]",
      "text/plain": [
       "plot without title"
      ]
     },
     "metadata": {},
     "output_type": "display_data"
    }
   ],
   "source": [
    "reject_vars <- c(\"km_competition_competitor_avg\")\n",
    "env_vars <- env_vars[!(env_vars %in% reject_vars)]\n",
    "data <- data[env_vars]\n",
    "\n",
    "vcobj = varclus(~ .,\n",
    "                \n",
    "                data = data, \n",
    "                \n",
    "                similarity = \"spearman\",\n",
    "                \n",
    "                trans = \"abs\"\n",
    ")\n",
    "\n",
    "pdf(file=\"correlation2.pdf\", width = 11, height = 8.5)\n",
    "plot(vcobj)\n",
    "thresh = 0.7\n",
    "abline (h = 1 - thresh, col = \"red\", lty = 2)\n",
    "dev.off()\n",
    "\n",
    "plot(vcobj)\n",
    "thresh = 0.7\n",
    "abline (h = 1 - thresh, col = \"red\", lty = 2)"
   ]
  },
  {
   "cell_type": "markdown",
   "metadata": {},
   "source": [
    "## Second Step is to prepare the dataframe, add the voted column back to dataframe. "
   ]
  },
  {
   "cell_type": "markdown",
   "metadata": {},
   "source": [
    "random forest model fitting referece: https://www.blopig.com/blog/2017/04/a-very-basic-introduction-to-random-forests-using-r/"
   ]
  },
  {
   "cell_type": "markdown",
   "metadata": {},
   "source": [
    "### binary classification: "
   ]
  },
  {
   "cell_type": "code",
   "execution_count": 13,
   "metadata": {},
   "outputs": [],
   "source": [
    "data_classification = cbind(data, high_voted)"
   ]
  },
  {
   "cell_type": "code",
   "execution_count": 14,
   "metadata": {
    "scrolled": true
   },
   "outputs": [
    {
     "data": {
      "text/html": [
       "<table>\n",
       "<thead><tr><th scope=col>km_dataset_discussion_avg</th><th scope=col>km_competition_size_avg</th><th scope=col>km_tags_te_avg</th><th scope=col>km_dataSources</th><th scope=col>km_Data</th><th scope=col>km_versions</th><th scope=col>km_isNotebook</th><th scope=col>km_Hidden</th><th scope=col>km_Notebook</th><th scope=col>km_Visualization</th><th scope=col>km_null</th><th scope=col>km_Other</th><th scope=col>high_voted</th></tr></thead>\n",
       "<tbody>\n",
       "\t<tr><td>0         </td><td>2429309862</td><td>0.7687287 </td><td>1         </td><td>1         </td><td>58        </td><td>0.1895888 </td><td>2         </td><td>1         </td><td> 7        </td><td>6         </td><td>0         </td><td>True      </td></tr>\n",
       "\t<tr><td>0         </td><td> 256630325</td><td>0.1741977 </td><td>1         </td><td>0         </td><td> 2        </td><td>0.1895888 </td><td>1         </td><td>1         </td><td> 0        </td><td>0         </td><td>0         </td><td>True      </td></tr>\n",
       "\t<tr><td>0         </td><td> 256630325</td><td>0.1741977 </td><td>1         </td><td>0         </td><td> 1        </td><td>0.1895888 </td><td>1         </td><td>1         </td><td> 0        </td><td>0         </td><td>0         </td><td>True      </td></tr>\n",
       "\t<tr><td>0         </td><td>     34757</td><td>0.7414633 </td><td>1         </td><td>0         </td><td> 5        </td><td>0.1895888 </td><td>1         </td><td>1         </td><td> 2        </td><td>0         </td><td>0         </td><td>True      </td></tr>\n",
       "\t<tr><td>0         </td><td> 256630325</td><td>0.1741977 </td><td>1         </td><td>0         </td><td> 3        </td><td>0.1895888 </td><td>1         </td><td>1         </td><td> 0        </td><td>0         </td><td>0         </td><td>True      </td></tr>\n",
       "\t<tr><td>0         </td><td> 256630325</td><td>0.7604732 </td><td>1         </td><td>1         </td><td>12        </td><td>0.1895888 </td><td>1         </td><td>1         </td><td>24        </td><td>0         </td><td>0         </td><td>True      </td></tr>\n",
       "</tbody>\n",
       "</table>\n"
      ],
      "text/latex": [
       "\\begin{tabular}{r|lllllllllllll}\n",
       " km\\_dataset\\_discussion\\_avg & km\\_competition\\_size\\_avg & km\\_tags\\_te\\_avg & km\\_dataSources & km\\_Data & km\\_versions & km\\_isNotebook & km\\_Hidden & km\\_Notebook & km\\_Visualization & km\\_null & km\\_Other & high\\_voted\\\\\n",
       "\\hline\n",
       "\t 0          & 2429309862 & 0.7687287  & 1          & 1          & 58         & 0.1895888  & 2          & 1          &  7         & 6          & 0          & True      \\\\\n",
       "\t 0          &  256630325 & 0.1741977  & 1          & 0          &  2         & 0.1895888  & 1          & 1          &  0         & 0          & 0          & True      \\\\\n",
       "\t 0          &  256630325 & 0.1741977  & 1          & 0          &  1         & 0.1895888  & 1          & 1          &  0         & 0          & 0          & True      \\\\\n",
       "\t 0          &      34757 & 0.7414633  & 1          & 0          &  5         & 0.1895888  & 1          & 1          &  2         & 0          & 0          & True      \\\\\n",
       "\t 0          &  256630325 & 0.1741977  & 1          & 0          &  3         & 0.1895888  & 1          & 1          &  0         & 0          & 0          & True      \\\\\n",
       "\t 0          &  256630325 & 0.7604732  & 1          & 1          & 12         & 0.1895888  & 1          & 1          & 24         & 0          & 0          & True      \\\\\n",
       "\\end{tabular}\n"
      ],
      "text/markdown": [
       "\n",
       "| km_dataset_discussion_avg | km_competition_size_avg | km_tags_te_avg | km_dataSources | km_Data | km_versions | km_isNotebook | km_Hidden | km_Notebook | km_Visualization | km_null | km_Other | high_voted |\n",
       "|---|---|---|---|---|---|---|---|---|---|---|---|---|\n",
       "| 0          | 2429309862 | 0.7687287  | 1          | 1          | 58         | 0.1895888  | 2          | 1          |  7         | 6          | 0          | True       |\n",
       "| 0          |  256630325 | 0.1741977  | 1          | 0          |  2         | 0.1895888  | 1          | 1          |  0         | 0          | 0          | True       |\n",
       "| 0          |  256630325 | 0.1741977  | 1          | 0          |  1         | 0.1895888  | 1          | 1          |  0         | 0          | 0          | True       |\n",
       "| 0          |      34757 | 0.7414633  | 1          | 0          |  5         | 0.1895888  | 1          | 1          |  2         | 0          | 0          | True       |\n",
       "| 0          |  256630325 | 0.1741977  | 1          | 0          |  3         | 0.1895888  | 1          | 1          |  0         | 0          | 0          | True       |\n",
       "| 0          |  256630325 | 0.7604732  | 1          | 1          | 12         | 0.1895888  | 1          | 1          | 24         | 0          | 0          | True       |\n",
       "\n"
      ],
      "text/plain": [
       "  km_dataset_discussion_avg km_competition_size_avg km_tags_te_avg\n",
       "1 0                         2429309862              0.7687287     \n",
       "2 0                          256630325              0.1741977     \n",
       "3 0                          256630325              0.1741977     \n",
       "4 0                              34757              0.7414633     \n",
       "5 0                          256630325              0.1741977     \n",
       "6 0                          256630325              0.7604732     \n",
       "  km_dataSources km_Data km_versions km_isNotebook km_Hidden km_Notebook\n",
       "1 1              1       58          0.1895888     2         1          \n",
       "2 1              0        2          0.1895888     1         1          \n",
       "3 1              0        1          0.1895888     1         1          \n",
       "4 1              0        5          0.1895888     1         1          \n",
       "5 1              0        3          0.1895888     1         1          \n",
       "6 1              1       12          0.1895888     1         1          \n",
       "  km_Visualization km_null km_Other high_voted\n",
       "1  7               6       0        True      \n",
       "2  0               0       0        True      \n",
       "3  0               0       0        True      \n",
       "4  2               0       0        True      \n",
       "5  0               0       0        True      \n",
       "6 24               0       0        True      "
      ]
     },
     "metadata": {},
     "output_type": "display_data"
    }
   ],
   "source": [
    "head(data_classification)"
   ]
  },
  {
   "cell_type": "markdown",
   "metadata": {},
   "source": [
    "This step is used for generating the binary label. "
   ]
  },
  {
   "cell_type": "code",
   "execution_count": 15,
   "metadata": {},
   "outputs": [
    {
     "data": {
      "text/plain": [
       " km_dataset_discussion_avg km_competition_size_avg km_tags_te_avg  \n",
       " Min.   : 0.000            Min.   :0.000e+00       Min.   :0.0000  \n",
       " 1st Qu.: 0.000            1st Qu.:0.000e+00       1st Qu.:0.1742  \n",
       " Median : 0.000            Median :3.476e+04       Median :0.1742  \n",
       " Mean   : 3.472            Mean   :7.020e+08       Mean   :0.2109  \n",
       " 3rd Qu.: 3.000            3rd Qu.:1.605e+07       3rd Qu.:0.1742  \n",
       " Max.   :51.000            Max.   :1.026e+11       Max.   :1.0000  \n",
       " km_dataSources      km_Data          km_versions       km_isNotebook   \n",
       " Min.   : 0.000   Min.   :  0.0000   Min.   :   0.000   Min.   :0.1896  \n",
       " 1st Qu.: 1.000   1st Qu.:  0.0000   1st Qu.:   0.000   1st Qu.:0.1896  \n",
       " Median : 1.000   Median :  0.0000   Median :   1.000   Median :0.1896  \n",
       " Mean   : 1.058   Mean   :  0.2447   Mean   :   3.804   Mean   :0.2089  \n",
       " 3rd Qu.: 1.000   3rd Qu.:  0.0000   3rd Qu.:   3.000   3rd Qu.:0.1896  \n",
       " Max.   :58.000   Max.   :194.0000   Max.   :4046.000   Max.   :0.2965  \n",
       "   km_Hidden        km_Notebook      km_Visualization      km_null         \n",
       " Min.   :  0.000   Min.   : 0.0000   Min.   :    0.00   Min.   :    0.000  \n",
       " 1st Qu.:  1.000   1st Qu.: 0.0000   1st Qu.:    0.00   1st Qu.:    0.000  \n",
       " Median :  1.000   Median : 1.0000   Median :    0.00   Median :    0.000  \n",
       " Mean   :  1.364   Mean   : 0.6577   Mean   :    2.86   Mean   :    0.692  \n",
       " 3rd Qu.:  1.000   3rd Qu.: 1.0000   3rd Qu.:    2.00   3rd Qu.:    0.000  \n",
       " Max.   :211.000   Max.   :30.0000   Max.   :32744.00   Max.   :14111.000  \n",
       "    km_Other        high_voted    \n",
       " Min.   :0.00e+00   False:155818  \n",
       " 1st Qu.:0.00e+00   True : 41151  \n",
       " Median :0.00e+00                 \n",
       " Mean   :7.66e-03                 \n",
       " 3rd Qu.:0.00e+00                 \n",
       " Max.   :2.05e+02                 "
      ]
     },
     "metadata": {},
     "output_type": "display_data"
    }
   ],
   "source": [
    "summary(data_classification)"
   ]
  },
  {
   "cell_type": "markdown",
   "metadata": {},
   "source": [
    "## Then Divide the training and testing data"
   ]
  },
  {
   "cell_type": "code",
   "execution_count": 16,
   "metadata": {},
   "outputs": [],
   "source": [
    "## 75% of the sample size\n",
    "smp_size <- floor(0.75 * nrow(data_classification))\n",
    "\n",
    "## set the seed to make your partition reproducible\n",
    "set.seed(123)\n",
    "train_ind <- sample(seq_len(nrow(data_classification)), size = smp_size)\n",
    "\n",
    "train <- data_classification[train_ind, ]\n",
    "test <- data_classification[-train_ind, ]"
   ]
  },
  {
   "cell_type": "markdown",
   "metadata": {},
   "source": [
    "Then we fit the model."
   ]
  },
  {
   "cell_type": "code",
   "execution_count": 17,
   "metadata": {},
   "outputs": [
    {
     "name": "stderr",
     "output_type": "stream",
     "text": [
      "randomForest 4.6-14\n",
      "Type rfNews() to see new features/changes/bug fixes.\n",
      "\n",
      "Attaching package: 'randomForest'\n",
      "\n",
      "The following object is masked from 'package:ggplot2':\n",
      "\n",
      "    margin\n",
      "\n"
     ]
    },
    {
     "data": {
      "text/plain": [
       "\n",
       "Call:\n",
       " randomForest(formula = as.factor(high_voted) ~ ., data = train,      ntree = 100, mtry = 2, importance = TRUE) \n",
       "               Type of random forest: classification\n",
       "                     Number of trees: 100\n",
       "No. of variables tried at each split: 2\n",
       "\n",
       "        OOB estimate of  error rate: 15.6%\n",
       "Confusion matrix:\n",
       "       False  True class.error\n",
       "False 111880  5028  0.04300818\n",
       "True   18019 12799  0.58469077"
      ]
     },
     "metadata": {},
     "output_type": "display_data"
    }
   ],
   "source": [
    "#import the package\n",
    "library(randomForest)\n",
    "# Perform training:\n",
    "rf_classifier2 = randomForest(as.factor(high_voted) ~ ., data=train, ntree=100, mtry=2, importance=TRUE)\n",
    "# because of the as.factor(...), randomforest can fit a classification model. \n",
    "rf_classifier2"
   ]
  },
  {
   "cell_type": "code",
   "execution_count": 18,
   "metadata": {},
   "outputs": [
    {
     "data": {
      "text/html": [
       "<table>\n",
       "<thead><tr><th></th><th scope=col>False</th><th scope=col>True</th><th scope=col>MeanDecreaseAccuracy</th><th scope=col>MeanDecreaseGini</th></tr></thead>\n",
       "<tbody>\n",
       "\t<tr><th scope=row>km_dataset_discussion_avg</th><td> 9.828449 </td><td> 7.431448 </td><td>16.295104 </td><td> 522.08121</td></tr>\n",
       "\t<tr><th scope=row>km_competition_size_avg</th><td>12.469171 </td><td>10.877390 </td><td>20.257612 </td><td> 986.49853</td></tr>\n",
       "\t<tr><th scope=row>km_tags_te_avg</th><td>28.153644 </td><td>46.496309 </td><td>41.161052 </td><td>3435.16030</td></tr>\n",
       "\t<tr><th scope=row>km_dataSources</th><td>23.112505 </td><td>-2.681241 </td><td>24.238779 </td><td> 320.38451</td></tr>\n",
       "\t<tr><th scope=row>km_Data</th><td>10.056344 </td><td> 9.909291 </td><td>18.960558 </td><td> 579.90153</td></tr>\n",
       "\t<tr><th scope=row>km_versions</th><td>14.961840 </td><td>39.826441 </td><td>31.746092 </td><td>6790.75295</td></tr>\n",
       "\t<tr><th scope=row>km_isNotebook</th><td>11.255962 </td><td>-3.284816 </td><td>11.831767 </td><td> 353.42432</td></tr>\n",
       "\t<tr><th scope=row>km_Hidden</th><td>12.330308 </td><td>-3.294477 </td><td>14.677014 </td><td> 619.28929</td></tr>\n",
       "\t<tr><th scope=row>km_Notebook</th><td>15.813743 </td><td>-2.030699 </td><td>17.375699 </td><td> 518.55772</td></tr>\n",
       "\t<tr><th scope=row>km_Visualization</th><td> 9.294219 </td><td>28.132586 </td><td>27.175659 </td><td>2881.09085</td></tr>\n",
       "\t<tr><th scope=row>km_null</th><td>15.489721 </td><td> 6.001514 </td><td>18.384324 </td><td> 548.24667</td></tr>\n",
       "\t<tr><th scope=row>km_Other</th><td>10.497642 </td><td>-2.500773 </td><td> 8.497375 </td><td>  48.57853</td></tr>\n",
       "</tbody>\n",
       "</table>\n"
      ],
      "text/latex": [
       "\\begin{tabular}{r|llll}\n",
       "  & False & True & MeanDecreaseAccuracy & MeanDecreaseGini\\\\\n",
       "\\hline\n",
       "\tkm\\_dataset\\_discussion\\_avg &  9.828449  &  7.431448  & 16.295104  &  522.08121\\\\\n",
       "\tkm\\_competition\\_size\\_avg & 12.469171  & 10.877390  & 20.257612  &  986.49853\\\\\n",
       "\tkm\\_tags\\_te\\_avg & 28.153644  & 46.496309  & 41.161052  & 3435.16030\\\\\n",
       "\tkm\\_dataSources & 23.112505  & -2.681241  & 24.238779  &  320.38451\\\\\n",
       "\tkm\\_Data & 10.056344  &  9.909291  & 18.960558  &  579.90153\\\\\n",
       "\tkm\\_versions & 14.961840  & 39.826441  & 31.746092  & 6790.75295\\\\\n",
       "\tkm\\_isNotebook & 11.255962  & -3.284816  & 11.831767  &  353.42432\\\\\n",
       "\tkm\\_Hidden & 12.330308  & -3.294477  & 14.677014  &  619.28929\\\\\n",
       "\tkm\\_Notebook & 15.813743  & -2.030699  & 17.375699  &  518.55772\\\\\n",
       "\tkm\\_Visualization &  9.294219  & 28.132586  & 27.175659  & 2881.09085\\\\\n",
       "\tkm\\_null & 15.489721  &  6.001514  & 18.384324  &  548.24667\\\\\n",
       "\tkm\\_Other & 10.497642  & -2.500773  &  8.497375  &   48.57853\\\\\n",
       "\\end{tabular}\n"
      ],
      "text/markdown": [
       "\n",
       "| <!--/--> | False | True | MeanDecreaseAccuracy | MeanDecreaseGini |\n",
       "|---|---|---|---|---|\n",
       "| km_dataset_discussion_avg |  9.828449  |  7.431448  | 16.295104  |  522.08121 |\n",
       "| km_competition_size_avg | 12.469171  | 10.877390  | 20.257612  |  986.49853 |\n",
       "| km_tags_te_avg | 28.153644  | 46.496309  | 41.161052  | 3435.16030 |\n",
       "| km_dataSources | 23.112505  | -2.681241  | 24.238779  |  320.38451 |\n",
       "| km_Data | 10.056344  |  9.909291  | 18.960558  |  579.90153 |\n",
       "| km_versions | 14.961840  | 39.826441  | 31.746092  | 6790.75295 |\n",
       "| km_isNotebook | 11.255962  | -3.284816  | 11.831767  |  353.42432 |\n",
       "| km_Hidden | 12.330308  | -3.294477  | 14.677014  |  619.28929 |\n",
       "| km_Notebook | 15.813743  | -2.030699  | 17.375699  |  518.55772 |\n",
       "| km_Visualization |  9.294219  | 28.132586  | 27.175659  | 2881.09085 |\n",
       "| km_null | 15.489721  |  6.001514  | 18.384324  |  548.24667 |\n",
       "| km_Other | 10.497642  | -2.500773  |  8.497375  |   48.57853 |\n",
       "\n"
      ],
      "text/plain": [
       "                          False     True      MeanDecreaseAccuracy\n",
       "km_dataset_discussion_avg  9.828449  7.431448 16.295104           \n",
       "km_competition_size_avg   12.469171 10.877390 20.257612           \n",
       "km_tags_te_avg            28.153644 46.496309 41.161052           \n",
       "km_dataSources            23.112505 -2.681241 24.238779           \n",
       "km_Data                   10.056344  9.909291 18.960558           \n",
       "km_versions               14.961840 39.826441 31.746092           \n",
       "km_isNotebook             11.255962 -3.284816 11.831767           \n",
       "km_Hidden                 12.330308 -3.294477 14.677014           \n",
       "km_Notebook               15.813743 -2.030699 17.375699           \n",
       "km_Visualization           9.294219 28.132586 27.175659           \n",
       "km_null                   15.489721  6.001514 18.384324           \n",
       "km_Other                  10.497642 -2.500773  8.497375           \n",
       "                          MeanDecreaseGini\n",
       "km_dataset_discussion_avg  522.08121      \n",
       "km_competition_size_avg    986.49853      \n",
       "km_tags_te_avg            3435.16030      \n",
       "km_dataSources             320.38451      \n",
       "km_Data                    579.90153      \n",
       "km_versions               6790.75295      \n",
       "km_isNotebook              353.42432      \n",
       "km_Hidden                  619.28929      \n",
       "km_Notebook                518.55772      \n",
       "km_Visualization          2881.09085      \n",
       "km_null                    548.24667      \n",
       "km_Other                    48.57853      "
      ]
     },
     "metadata": {},
     "output_type": "display_data"
    }
   ],
   "source": [
    "importance(rf_classifier2)"
   ]
  },
  {
   "cell_type": "code",
   "execution_count": 19,
   "metadata": {},
   "outputs": [
    {
     "data": {
      "image/png": "[encoded data removed]",
      "text/plain": [
       "plot without title"
      ]
     },
     "metadata": {},
     "output_type": "display_data"
    }
   ],
   "source": [
    "varImpPlot(rf_classifier2)"
   ]
  },
  {
   "cell_type": "markdown",
   "metadata": {},
   "source": [
    "This is AUC. If the stackoverflow gave me the right answer. "
   ]
  },
  {
   "cell_type": "code",
   "execution_count": 20,
   "metadata": {},
   "outputs": [
    {
     "name": "stderr",
     "output_type": "stream",
     "text": [
      "Type 'citation(\"pROC\")' for a citation.\n",
      "\n",
      "Attaching package: 'pROC'\n",
      "\n",
      "The following objects are masked from 'package:stats':\n",
      "\n",
      "    cov, smooth, var\n",
      "\n",
      "Loading required package: gplots\n",
      "\n",
      "Attaching package: 'gplots'\n",
      "\n",
      "The following object is masked from 'package:stats':\n",
      "\n",
      "    lowess\n",
      "\n"
     ]
    }
   ],
   "source": [
    "# import the library that needed in calculating the AUC. \n",
    "library(pROC)\n",
    "library(ROCR)"
   ]
  },
  {
   "cell_type": "code",
   "execution_count": 21,
   "metadata": {},
   "outputs": [
    {
     "data": {
      "text/html": [
       "0.802587100665635"
      ],
      "text/latex": [
       "0.802587100665635"
      ],
      "text/markdown": [
       "0.802587100665635"
      ],
      "text/plain": [
       "[1] 0.8025871"
      ]
     },
     "metadata": {},
     "output_type": "display_data"
    }
   ],
   "source": [
    "# https://stackoverflow.com/questions/46776944/how-to-calculate-randomforest-training-auc-in-r\n",
    "# the train AUC\n",
    "rf_p_train <- predict(rf_classifier2, type=\"prob\")[,2]\n",
    "rf_pr_train <- prediction(rf_p_train, train$high_vote)\n",
    "r_auc_train <- performance(rf_pr_train, measure = \"auc\")@y.values[[1]] \n",
    "r_auc_train"
   ]
  },
  {
   "cell_type": "code",
   "execution_count": 22,
   "metadata": {
    "scrolled": true
   },
   "outputs": [
    {
     "data": {
      "text/html": [
       "0.823969322212821"
      ],
      "text/latex": [
       "0.823969322212821"
      ],
      "text/markdown": [
       "0.823969322212821"
      ],
      "text/plain": [
       "[1] 0.8239693"
      ]
     },
     "metadata": {},
     "output_type": "display_data"
    }
   ],
   "source": [
    "#https://stats.stackexchange.com/questions/308645/why-does-randomforest-has-higher-test-auc-than-train-auc-is-this-possible\n",
    "#the test AUC\n",
    "rf_p_test <- predict(rf_classifier2, type=\"prob\", newdata = test)[,2]\n",
    "rf_pr_test <- prediction(rf_p_test, test$high_vote)\n",
    "r_auc_test <- performance(rf_pr_test, measure = \"auc\")@y.values[[1]] \n",
    "r_auc_test"
   ]
  },
  {
   "cell_type": "markdown",
   "metadata": {},
   "source": [
    "### Logistic Regression"
   ]
  },
  {
   "cell_type": "code",
   "execution_count": 19,
   "metadata": {},
   "outputs": [],
   "source": [
    "library(rms)\n",
    "fit <- lrm(high_voted ~ .,\n",
    "           data=train, x=T, y=T)"
   ]
  },
  {
   "cell_type": "code",
   "execution_count": 20,
   "metadata": {},
   "outputs": [
    {
     "name": "stdout",
     "output_type": "stream",
     "text": [
      "         AUC AUC_optimism \n",
      "0.6434512055 0.0009310391 \n"
     ]
    }
   ],
   "source": [
    "val <- validate(fit, B=1000)\n",
    "AUC = 0.5 + val[1,1]/2\n",
    "AUC_optimism_reduced = (0.5 + val[1,5]/2)\n",
    "AUC_optimism = AUC - AUC_optimism_reduced\n",
    "print(c(\"AUC\"=AUC,\"AUC_optimism\"=AUC_optimism))"
   ]
  },
  {
   "cell_type": "code",
   "execution_count": null,
   "metadata": {},
   "outputs": [],
   "source": []
  }
 ],
 "metadata": {
  "kernelspec": {
   "display_name": "R",
   "language": "R",
   "name": "ir"
  },
  "language_info": {
   "codemirror_mode": "r",
   "file_extension": ".r",
   "mimetype": "text/x-r-source",
   "name": "R",
   "pygments_lexer": "r",
   "version": "3.5.1"
  }
 },
 "nbformat": 4,
 "nbformat_minor": 2
}
