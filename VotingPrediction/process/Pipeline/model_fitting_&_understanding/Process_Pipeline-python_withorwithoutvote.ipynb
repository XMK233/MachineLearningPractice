{
 "cells": [
  {
   "cell_type": "markdown",
   "metadata": {},
   "source": [
    "# Model fitting and understanding . \n",
    "* V2: The operation process is simplified. "
   ]
  },
  {
   "cell_type": "markdown",
   "metadata": {},
   "source": [
    "* Turn the warning off: \n",
    "~~~~\n",
    "options(warn=-1)\n",
    "~~~~\n",
    "* Turn the warning back on: \n",
    "~~~~\n",
    "options(warn=0)\n",
    "~~~~\n",
    "* reference: https://stackoverflow.com/questions/16194212/how-to-suppress-warnings-globally-in-an-r-script"
   ]
  },
  {
   "cell_type": "code",
   "execution_count": 1,
   "metadata": {},
   "outputs": [],
   "source": [
    "options(warn=-1)"
   ]
  },
  {
   "cell_type": "markdown",
   "metadata": {},
   "source": [
    "## First step is getting the correlationship between those variables. "
   ]
  },
  {
   "cell_type": "code",
   "execution_count": 3,
   "metadata": {},
   "outputs": [
    {
     "name": "stderr",
     "output_type": "stream",
     "text": [
      "Loading required package: Hmisc\n",
      "Loading required package: lattice\n",
      "Loading required package: survival\n",
      "Loading required package: Formula\n",
      "Loading required package: ggplot2\n",
      "\n",
      "Attaching package: 'Hmisc'\n",
      "\n",
      "The following objects are masked from 'package:base':\n",
      "\n",
      "    format.pval, units\n",
      "\n",
      "Loading required package: SparseM\n",
      "\n",
      "Attaching package: 'SparseM'\n",
      "\n",
      "The following object is masked from 'package:base':\n",
      "\n",
      "    backsolve\n",
      "\n"
     ]
    }
   ],
   "source": [
    "library(rms)\n",
    "#data <- read.csv('J:/EECS6414/process/Pipeline/Data_cleaning/kernel_datssource_code_3.csv')# , stringsAsFactors=FALSE\n",
    "data <- read.csv('J:/EECS6414/process/Pipeline/Data_cleaning/kernel_datassource_code_with_and_without_vote_0.csv')\n",
    "#data <- data[, -c(90:104)]\n",
    "col_name <- names(data)\n",
    "env_vars <- col_name\n",
    "vote_num <- data[c(\"km_votes\")]\n",
    "high_voted <- data[c(\"high_voted\")]\n",
    "reject_vars <- c(#\"kernel_datasets\", # because they are all 1, so we can only get NaN. \n",
    "                 \"kernel\", \"author\", \"id\", \"km_language\", \"km_tags\", \"cvp_import\", \"cvp_import_from\", \n",
    "                \"km_votes\", \"high_voted\",  \n",
    "                \"km_forks\", \"km_comments\", \"km_views\"\n",
    "                 #\"competition\", \"organization\" # unnecessary variables. \n",
    "                 )\n",
    "env_vars <- env_vars[!(env_vars %in% reject_vars)]\n",
    "# for (env in env_vars){\n",
    "#    print(paste(env, \"+\"))\n",
    "# }\n",
    "data <- data[env_vars]"
   ]
  },
  {
   "cell_type": "code",
   "execution_count": 7,
   "metadata": {},
   "outputs": [
    {
     "data": {
      "text/html": [
       "<ol class=list-inline>\n",
       "\t<li>'cvo_num_of_cell'</li>\n",
       "\t<li>'cvo_num_of_output'</li>\n",
       "\t<li>'cvo_display_data'</li>\n",
       "\t<li>'cvo_stream'</li>\n",
       "\t<li>'cvo_execute_result'</li>\n",
       "\t<li>'cvo_error'</li>\n",
       "\t<li>'cvp_sloc'</li>\n",
       "\t<li>'cvp_comments'</li>\n",
       "\t<li>'cvp_empty'</li>\n",
       "\t<li>'cvp_mccabe'</li>\n",
       "\t<li>'km_dataSources'</li>\n",
       "\t<li>'km_versions'</li>\n",
       "\t<li>'km_competitions'</li>\n",
       "\t<li>'km_competition_size_ttl'</li>\n",
       "\t<li>'km_competition_size_avg'</li>\n",
       "\t<li>'km_competition_size_max'</li>\n",
       "\t<li>'km_competition_size_min'</li>\n",
       "\t<li>'km_competition_discussion_ttl'</li>\n",
       "\t<li>'km_competition_discussion_avg'</li>\n",
       "\t<li>'km_competition_discussion_max'</li>\n",
       "\t<li>'km_competition_discussion_min'</li>\n",
       "\t<li>'km_competition_competitor_ttl'</li>\n",
       "\t<li>'km_competition_competitor_avg'</li>\n",
       "\t<li>'km_competition_competitor_max'</li>\n",
       "\t<li>'km_competition_competitor_min'</li>\n",
       "\t<li>'km_datasets'</li>\n",
       "\t<li>'km_dataset_size_ttl'</li>\n",
       "\t<li>'km_dataset_size_avg'</li>\n",
       "\t<li>'km_dataset_size_max'</li>\n",
       "\t<li>'km_dataset_size_min'</li>\n",
       "\t<li>'km_dataset_discussion_ttl'</li>\n",
       "\t<li>'km_dataset_discussion_avg'</li>\n",
       "\t<li>'km_dataset_discussion_max'</li>\n",
       "\t<li>'km_dataset_discussion_min'</li>\n",
       "\t<li>'km_dataset_kernel_ttl'</li>\n",
       "\t<li>'km_dataset_kernel_avg'</li>\n",
       "\t<li>'km_dataset_kernel_max'</li>\n",
       "\t<li>'km_dataset_kernel_min'</li>\n",
       "\t<li>'km_dataset_download_ttl'</li>\n",
       "\t<li>'km_dataset_download_avg'</li>\n",
       "\t<li>'km_dataset_download_max'</li>\n",
       "\t<li>'km_dataset_download_min'</li>\n",
       "\t<li>'km_dataset_view_ttl'</li>\n",
       "\t<li>'km_dataset_view_avg'</li>\n",
       "\t<li>'km_dataset_view_max'</li>\n",
       "\t<li>'km_dataset_view_min'</li>\n",
       "\t<li>'km_dataset_vote_ttl'</li>\n",
       "\t<li>'km_dataset_vote_avg'</li>\n",
       "\t<li>'km_dataset_vote_max'</li>\n",
       "\t<li>'km_dataset_vote_min'</li>\n",
       "\t<li>'km_dataset_version_ttl'</li>\n",
       "\t<li>'km_dataset_version_avg'</li>\n",
       "\t<li>'km_dataset_version_max'</li>\n",
       "\t<li>'km_dataset_version_min'</li>\n",
       "\t<li>'km_Hidden'</li>\n",
       "\t<li>'km_Notebook'</li>\n",
       "\t<li>'km_null'</li>\n",
       "\t<li>'km_Data'</li>\n",
       "\t<li>'km_Visualization'</li>\n",
       "\t<li>'km_Other'</li>\n",
       "\t<li>'km_isNotebook'</li>\n",
       "\t<li>'km_num_of_tags'</li>\n",
       "\t<li>'km_tags_te_sum'</li>\n",
       "\t<li>'km_tags_te_avg'</li>\n",
       "\t<li>'km_tags_te_max'</li>\n",
       "\t<li>'km_tags_te_min'</li>\n",
       "\t<li>'km_tags_te_median'</li>\n",
       "\t<li>'cvp_num_of_ipt'</li>\n",
       "\t<li>'cvp_ipt_te_sum'</li>\n",
       "\t<li>'cvp_ipt_te_avg'</li>\n",
       "\t<li>'cvp_ipt_te_max'</li>\n",
       "\t<li>'cvp_ipt_te_min'</li>\n",
       "\t<li>'cvp_ipt_te_median'</li>\n",
       "\t<li>'cvp_num_of_iptfrm'</li>\n",
       "\t<li>'cvp_iptfrm_te_sum'</li>\n",
       "\t<li>'cvp_iptfrm_te_avg'</li>\n",
       "\t<li>'cvp_iptfrm_te_max'</li>\n",
       "\t<li>'cvp_iptfrm_te_min'</li>\n",
       "\t<li>'cvp_iptfrm_te_median'</li>\n",
       "</ol>\n"
      ],
      "text/latex": [
       "\\begin{enumerate*}\n",
       "\\item 'cvo\\_num\\_of\\_cell'\n",
       "\\item 'cvo\\_num\\_of\\_output'\n",
       "\\item 'cvo\\_display\\_data'\n",
       "\\item 'cvo\\_stream'\n",
       "\\item 'cvo\\_execute\\_result'\n",
       "\\item 'cvo\\_error'\n",
       "\\item 'cvp\\_sloc'\n",
       "\\item 'cvp\\_comments'\n",
       "\\item 'cvp\\_empty'\n",
       "\\item 'cvp\\_mccabe'\n",
       "\\item 'km\\_dataSources'\n",
       "\\item 'km\\_versions'\n",
       "\\item 'km\\_competitions'\n",
       "\\item 'km\\_competition\\_size\\_ttl'\n",
       "\\item 'km\\_competition\\_size\\_avg'\n",
       "\\item 'km\\_competition\\_size\\_max'\n",
       "\\item 'km\\_competition\\_size\\_min'\n",
       "\\item 'km\\_competition\\_discussion\\_ttl'\n",
       "\\item 'km\\_competition\\_discussion\\_avg'\n",
       "\\item 'km\\_competition\\_discussion\\_max'\n",
       "\\item 'km\\_competition\\_discussion\\_min'\n",
       "\\item 'km\\_competition\\_competitor\\_ttl'\n",
       "\\item 'km\\_competition\\_competitor\\_avg'\n",
       "\\item 'km\\_competition\\_competitor\\_max'\n",
       "\\item 'km\\_competition\\_competitor\\_min'\n",
       "\\item 'km\\_datasets'\n",
       "\\item 'km\\_dataset\\_size\\_ttl'\n",
       "\\item 'km\\_dataset\\_size\\_avg'\n",
       "\\item 'km\\_dataset\\_size\\_max'\n",
       "\\item 'km\\_dataset\\_size\\_min'\n",
       "\\item 'km\\_dataset\\_discussion\\_ttl'\n",
       "\\item 'km\\_dataset\\_discussion\\_avg'\n",
       "\\item 'km\\_dataset\\_discussion\\_max'\n",
       "\\item 'km\\_dataset\\_discussion\\_min'\n",
       "\\item 'km\\_dataset\\_kernel\\_ttl'\n",
       "\\item 'km\\_dataset\\_kernel\\_avg'\n",
       "\\item 'km\\_dataset\\_kernel\\_max'\n",
       "\\item 'km\\_dataset\\_kernel\\_min'\n",
       "\\item 'km\\_dataset\\_download\\_ttl'\n",
       "\\item 'km\\_dataset\\_download\\_avg'\n",
       "\\item 'km\\_dataset\\_download\\_max'\n",
       "\\item 'km\\_dataset\\_download\\_min'\n",
       "\\item 'km\\_dataset\\_view\\_ttl'\n",
       "\\item 'km\\_dataset\\_view\\_avg'\n",
       "\\item 'km\\_dataset\\_view\\_max'\n",
       "\\item 'km\\_dataset\\_view\\_min'\n",
       "\\item 'km\\_dataset\\_vote\\_ttl'\n",
       "\\item 'km\\_dataset\\_vote\\_avg'\n",
       "\\item 'km\\_dataset\\_vote\\_max'\n",
       "\\item 'km\\_dataset\\_vote\\_min'\n",
       "\\item 'km\\_dataset\\_version\\_ttl'\n",
       "\\item 'km\\_dataset\\_version\\_avg'\n",
       "\\item 'km\\_dataset\\_version\\_max'\n",
       "\\item 'km\\_dataset\\_version\\_min'\n",
       "\\item 'km\\_Hidden'\n",
       "\\item 'km\\_Notebook'\n",
       "\\item 'km\\_null'\n",
       "\\item 'km\\_Data'\n",
       "\\item 'km\\_Visualization'\n",
       "\\item 'km\\_Other'\n",
       "\\item 'km\\_isNotebook'\n",
       "\\item 'km\\_num\\_of\\_tags'\n",
       "\\item 'km\\_tags\\_te\\_sum'\n",
       "\\item 'km\\_tags\\_te\\_avg'\n",
       "\\item 'km\\_tags\\_te\\_max'\n",
       "\\item 'km\\_tags\\_te\\_min'\n",
       "\\item 'km\\_tags\\_te\\_median'\n",
       "\\item 'cvp\\_num\\_of\\_ipt'\n",
       "\\item 'cvp\\_ipt\\_te\\_sum'\n",
       "\\item 'cvp\\_ipt\\_te\\_avg'\n",
       "\\item 'cvp\\_ipt\\_te\\_max'\n",
       "\\item 'cvp\\_ipt\\_te\\_min'\n",
       "\\item 'cvp\\_ipt\\_te\\_median'\n",
       "\\item 'cvp\\_num\\_of\\_iptfrm'\n",
       "\\item 'cvp\\_iptfrm\\_te\\_sum'\n",
       "\\item 'cvp\\_iptfrm\\_te\\_avg'\n",
       "\\item 'cvp\\_iptfrm\\_te\\_max'\n",
       "\\item 'cvp\\_iptfrm\\_te\\_min'\n",
       "\\item 'cvp\\_iptfrm\\_te\\_median'\n",
       "\\end{enumerate*}\n"
      ],
      "text/markdown": [
       "1. 'cvo_num_of_cell'\n",
       "2. 'cvo_num_of_output'\n",
       "3. 'cvo_display_data'\n",
       "4. 'cvo_stream'\n",
       "5. 'cvo_execute_result'\n",
       "6. 'cvo_error'\n",
       "7. 'cvp_sloc'\n",
       "8. 'cvp_comments'\n",
       "9. 'cvp_empty'\n",
       "10. 'cvp_mccabe'\n",
       "11. 'km_dataSources'\n",
       "12. 'km_versions'\n",
       "13. 'km_competitions'\n",
       "14. 'km_competition_size_ttl'\n",
       "15. 'km_competition_size_avg'\n",
       "16. 'km_competition_size_max'\n",
       "17. 'km_competition_size_min'\n",
       "18. 'km_competition_discussion_ttl'\n",
       "19. 'km_competition_discussion_avg'\n",
       "20. 'km_competition_discussion_max'\n",
       "21. 'km_competition_discussion_min'\n",
       "22. 'km_competition_competitor_ttl'\n",
       "23. 'km_competition_competitor_avg'\n",
       "24. 'km_competition_competitor_max'\n",
       "25. 'km_competition_competitor_min'\n",
       "26. 'km_datasets'\n",
       "27. 'km_dataset_size_ttl'\n",
       "28. 'km_dataset_size_avg'\n",
       "29. 'km_dataset_size_max'\n",
       "30. 'km_dataset_size_min'\n",
       "31. 'km_dataset_discussion_ttl'\n",
       "32. 'km_dataset_discussion_avg'\n",
       "33. 'km_dataset_discussion_max'\n",
       "34. 'km_dataset_discussion_min'\n",
       "35. 'km_dataset_kernel_ttl'\n",
       "36. 'km_dataset_kernel_avg'\n",
       "37. 'km_dataset_kernel_max'\n",
       "38. 'km_dataset_kernel_min'\n",
       "39. 'km_dataset_download_ttl'\n",
       "40. 'km_dataset_download_avg'\n",
       "41. 'km_dataset_download_max'\n",
       "42. 'km_dataset_download_min'\n",
       "43. 'km_dataset_view_ttl'\n",
       "44. 'km_dataset_view_avg'\n",
       "45. 'km_dataset_view_max'\n",
       "46. 'km_dataset_view_min'\n",
       "47. 'km_dataset_vote_ttl'\n",
       "48. 'km_dataset_vote_avg'\n",
       "49. 'km_dataset_vote_max'\n",
       "50. 'km_dataset_vote_min'\n",
       "51. 'km_dataset_version_ttl'\n",
       "52. 'km_dataset_version_avg'\n",
       "53. 'km_dataset_version_max'\n",
       "54. 'km_dataset_version_min'\n",
       "55. 'km_Hidden'\n",
       "56. 'km_Notebook'\n",
       "57. 'km_null'\n",
       "58. 'km_Data'\n",
       "59. 'km_Visualization'\n",
       "60. 'km_Other'\n",
       "61. 'km_isNotebook'\n",
       "62. 'km_num_of_tags'\n",
       "63. 'km_tags_te_sum'\n",
       "64. 'km_tags_te_avg'\n",
       "65. 'km_tags_te_max'\n",
       "66. 'km_tags_te_min'\n",
       "67. 'km_tags_te_median'\n",
       "68. 'cvp_num_of_ipt'\n",
       "69. 'cvp_ipt_te_sum'\n",
       "70. 'cvp_ipt_te_avg'\n",
       "71. 'cvp_ipt_te_max'\n",
       "72. 'cvp_ipt_te_min'\n",
       "73. 'cvp_ipt_te_median'\n",
       "74. 'cvp_num_of_iptfrm'\n",
       "75. 'cvp_iptfrm_te_sum'\n",
       "76. 'cvp_iptfrm_te_avg'\n",
       "77. 'cvp_iptfrm_te_max'\n",
       "78. 'cvp_iptfrm_te_min'\n",
       "79. 'cvp_iptfrm_te_median'\n",
       "\n",
       "\n"
      ],
      "text/plain": [
       " [1] \"cvo_num_of_cell\"               \"cvo_num_of_output\"            \n",
       " [3] \"cvo_display_data\"              \"cvo_stream\"                   \n",
       " [5] \"cvo_execute_result\"            \"cvo_error\"                    \n",
       " [7] \"cvp_sloc\"                      \"cvp_comments\"                 \n",
       " [9] \"cvp_empty\"                     \"cvp_mccabe\"                   \n",
       "[11] \"km_dataSources\"                \"km_versions\"                  \n",
       "[13] \"km_competitions\"               \"km_competition_size_ttl\"      \n",
       "[15] \"km_competition_size_avg\"       \"km_competition_size_max\"      \n",
       "[17] \"km_competition_size_min\"       \"km_competition_discussion_ttl\"\n",
       "[19] \"km_competition_discussion_avg\" \"km_competition_discussion_max\"\n",
       "[21] \"km_competition_discussion_min\" \"km_competition_competitor_ttl\"\n",
       "[23] \"km_competition_competitor_avg\" \"km_competition_competitor_max\"\n",
       "[25] \"km_competition_competitor_min\" \"km_datasets\"                  \n",
       "[27] \"km_dataset_size_ttl\"           \"km_dataset_size_avg\"          \n",
       "[29] \"km_dataset_size_max\"           \"km_dataset_size_min\"          \n",
       "[31] \"km_dataset_discussion_ttl\"     \"km_dataset_discussion_avg\"    \n",
       "[33] \"km_dataset_discussion_max\"     \"km_dataset_discussion_min\"    \n",
       "[35] \"km_dataset_kernel_ttl\"         \"km_dataset_kernel_avg\"        \n",
       "[37] \"km_dataset_kernel_max\"         \"km_dataset_kernel_min\"        \n",
       "[39] \"km_dataset_download_ttl\"       \"km_dataset_download_avg\"      \n",
       "[41] \"km_dataset_download_max\"       \"km_dataset_download_min\"      \n",
       "[43] \"km_dataset_view_ttl\"           \"km_dataset_view_avg\"          \n",
       "[45] \"km_dataset_view_max\"           \"km_dataset_view_min\"          \n",
       "[47] \"km_dataset_vote_ttl\"           \"km_dataset_vote_avg\"          \n",
       "[49] \"km_dataset_vote_max\"           \"km_dataset_vote_min\"          \n",
       "[51] \"km_dataset_version_ttl\"        \"km_dataset_version_avg\"       \n",
       "[53] \"km_dataset_version_max\"        \"km_dataset_version_min\"       \n",
       "[55] \"km_Hidden\"                     \"km_Notebook\"                  \n",
       "[57] \"km_null\"                       \"km_Data\"                      \n",
       "[59] \"km_Visualization\"              \"km_Other\"                     \n",
       "[61] \"km_isNotebook\"                 \"km_num_of_tags\"               \n",
       "[63] \"km_tags_te_sum\"                \"km_tags_te_avg\"               \n",
       "[65] \"km_tags_te_max\"                \"km_tags_te_min\"               \n",
       "[67] \"km_tags_te_median\"             \"cvp_num_of_ipt\"               \n",
       "[69] \"cvp_ipt_te_sum\"                \"cvp_ipt_te_avg\"               \n",
       "[71] \"cvp_ipt_te_max\"                \"cvp_ipt_te_min\"               \n",
       "[73] \"cvp_ipt_te_median\"             \"cvp_num_of_iptfrm\"            \n",
       "[75] \"cvp_iptfrm_te_sum\"             \"cvp_iptfrm_te_avg\"            \n",
       "[77] \"cvp_iptfrm_te_max\"             \"cvp_iptfrm_te_min\"            \n",
       "[79] \"cvp_iptfrm_te_median\"         "
      ]
     },
     "metadata": {},
     "output_type": "display_data"
    }
   ],
   "source": [
    "env_vars"
   ]
  },
  {
   "cell_type": "code",
   "execution_count": 4,
   "metadata": {},
   "outputs": [
    {
     "data": {
      "text/html": [
       "<strong>png:</strong> 2"
      ],
      "text/latex": [
       "\\textbf{png:} 2"
      ],
      "text/markdown": [
       "**png:** 2"
      ],
      "text/plain": [
       "png \n",
       "  2 "
      ]
     },
     "metadata": {},
     "output_type": "display_data"
    },
    {
     "data": {
      "image/png": "[encoded data removed]",
      "text/plain": [
       "plot without title"
      ]
     },
     "metadata": {},
     "output_type": "display_data"
    }
   ],
   "source": [
    "vcobj = varclus(~ ., \n",
    "                \n",
    "                data = data, \n",
    "                \n",
    "                similarity = \"spearman\",\n",
    "                \n",
    "                trans = \"abs\"\n",
    ")\n",
    "\n",
    "pdf(file=\"correlation.pdf\", width = 15, height = 15)\n",
    "plot(vcobj)\n",
    "thresh = 0.7\n",
    "abline (h = 1 - thresh, col = \"red\", lty = 2)\n",
    "dev.off()\n",
    "\n",
    "plot(vcobj)\n",
    "thresh = 0.7\n",
    "abline (h = 1 - thresh, col = \"red\", lty = 2)\n",
    "\n",
    "# reject variables that closely related to each other. For now, we don't do this thing. \n",
    "# reject_vars <- c()\n",
    "# env_vars <- env_vars[!(env_vars %in% reject_vars)]"
   ]
  },
  {
   "cell_type": "code",
   "execution_count": 1,
   "metadata": {
    "init_cell": true
   },
   "outputs": [
    {
     "ename": "ERROR",
     "evalue": "Error in data[env_vars]: object of type 'closure' is not subsettable\n",
     "output_type": "error",
     "traceback": [
      "Error in data[env_vars]: object of type 'closure' is not subsettable\nTraceback:\n"
     ]
    }
   ],
   "source": [
    "env_vars <- c(\n",
    "    \"km_null\",#\n",
    "    \"km_Other\",# \n",
    "    \"km_tags_te_avg\", #\n",
    "    \"cvp_comments\", #\n",
    "    \"cvp_iptfrm_te_avg\",# \n",
    "    \"cvp_ipt_te_avg\", #\n",
    "    \"cvp_sloc\",#\n",
    "    \"km_dataset_discussion_avg\", #\n",
    "    \"km_competition_size_avg\", #\n",
    "    \"km_dataset_vote_avg\",#\n",
    "    \"km_isNotebook\",#\n",
    "    \"cvo_num_of_output\",# \n",
    "    \"cvo_display_data\", #\n",
    "    \"km_versions\", #\n",
    "    \"cvp_iptfrm_te_min\", #\n",
    "    \"km_Visualization\", #\n",
    "    \"cvp_ipt_te_min\", #\n",
    "    \"cvp_num_of_iptfrm\", #\n",
    "    \"km_Data\", # \n",
    "    \"cvo_error\", #\n",
    "    \"km_dataSources\"#\n",
    "             )\n",
    "data <- data[env_vars]"
   ]
  },
  {
   "cell_type": "code",
   "execution_count": 6,
   "metadata": {},
   "outputs": [
    {
     "data": {
      "text/html": [
       "<strong>png:</strong> 2"
      ],
      "text/latex": [
       "\\textbf{png:} 2"
      ],
      "text/markdown": [
       "**png:** 2"
      ],
      "text/plain": [
       "png \n",
       "  2 "
      ]
     },
     "metadata": {},
     "output_type": "display_data"
    },
    {
     "data": {
      "image/png": "[encoded data removed]",
      "text/plain": [
       "plot without title"
      ]
     },
     "metadata": {},
     "output_type": "display_data"
    }
   ],
   "source": [
    "vcobj = varclus(~ .,\n",
    "                \n",
    "                data = data, \n",
    "                \n",
    "                similarity = \"spearman\",\n",
    "                \n",
    "                trans = \"abs\"\n",
    ")\n",
    "\n",
    "pdf(file=\"correlation1.pdf\", width = 11, height = 8.5)\n",
    "plot(vcobj)\n",
    "thresh = 0.7\n",
    "abline (h = 1 - thresh, col = \"red\", lty = 2)\n",
    "dev.off()\n",
    "\n",
    "plot(vcobj)\n",
    "thresh = 0.7\n",
    "abline (h = 1 - thresh, col = \"red\", lty = 2)\n",
    "\n",
    "# reject variables that closely related to each other. For now, we don't do this thing. \n",
    "reject_vars <- c()\n",
    "env_vars <- env_vars[!(env_vars %in% reject_vars)]"
   ]
  },
  {
   "cell_type": "code",
   "execution_count": null,
   "metadata": {
    "init_cell": true,
    "scrolled": false
   },
   "outputs": [],
   "source": [
    "reject_vars <- c(\"cvo_num_of_output\", \n",
    "                \"cvp_sloc\", \n",
    "                 \"km_dataset_vote_avg\"\n",
    "                )\n",
    "env_vars <- env_vars[!(env_vars %in% reject_vars)]\n",
    "data <- data[env_vars]\n",
    "\n",
    "vcobj = varclus(~ .,\n",
    "                \n",
    "                data = data, \n",
    "                \n",
    "                similarity = \"spearman\",\n",
    "                \n",
    "                trans = \"abs\"\n",
    ")\n",
    "\n",
    "pdf(file=\"correlation2.pdf\", width = 11, height = 8.5)\n",
    "plot(vcobj)\n",
    "thresh = 0.7\n",
    "abline (h = 1 - thresh, col = \"red\", lty = 2)\n",
    "dev.off()\n",
    "\n",
    "plot(vcobj)\n",
    "thresh = 0.7\n",
    "abline (h = 1 - thresh, col = \"red\", lty = 2)"
   ]
  },
  {
   "cell_type": "code",
   "execution_count": null,
   "metadata": {
    "init_cell": true
   },
   "outputs": [],
   "source": [
    "reject_vars <- c(\"cvo_display_data\"\n",
    "                )\n",
    "env_vars <- env_vars[!(env_vars %in% reject_vars)]\n",
    "data <- data[env_vars]\n",
    "\n",
    "vcobj = varclus(~ .,\n",
    "                \n",
    "                data = data, \n",
    "                \n",
    "                similarity = \"spearman\",\n",
    "                \n",
    "                trans = \"abs\"\n",
    ")\n",
    "\n",
    "pdf(file=\"correlation2.pdf\", width = 11, height = 8.5)\n",
    "plot(vcobj)\n",
    "thresh = 0.7\n",
    "abline (h = 1 - thresh, col = \"red\", lty = 2)\n",
    "dev.off()\n",
    "\n",
    "plot(vcobj)\n",
    "thresh = 0.7\n",
    "abline (h = 1 - thresh, col = \"red\", lty = 2)"
   ]
  },
  {
   "cell_type": "markdown",
   "metadata": {},
   "source": [
    "## Second Step is to prepare the dataframe, add the voted column back to dataframe. "
   ]
  },
  {
   "cell_type": "markdown",
   "metadata": {},
   "source": [
    "random forest model fitting referece: https://www.blopig.com/blog/2017/04/a-very-basic-introduction-to-random-forests-using-r/"
   ]
  },
  {
   "cell_type": "markdown",
   "metadata": {},
   "source": [
    "### binary classification: "
   ]
  },
  {
   "cell_type": "code",
   "execution_count": null,
   "metadata": {
    "init_cell": true
   },
   "outputs": [],
   "source": [
    "data_classification = cbind(data, high_voted)"
   ]
  },
  {
   "cell_type": "code",
   "execution_count": 8,
   "metadata": {
    "scrolled": true
   },
   "outputs": [
    {
     "data": {
      "text/html": [
       "<table>\n",
       "<thead><tr><th scope=col>km_null</th><th scope=col>km_Other</th><th scope=col>km_tags_te_avg</th><th scope=col>cvp_comments</th><th scope=col>cvp_iptfrm_te_avg</th><th scope=col>cvp_ipt_te_avg</th><th scope=col>km_dataset_discussion_avg</th><th scope=col>km_competition_size_avg</th><th scope=col>km_isNotebook</th><th scope=col>km_versions</th><th scope=col>cvp_iptfrm_te_min</th><th scope=col>km_Visualization</th><th scope=col>cvp_ipt_te_min</th><th scope=col>cvp_num_of_iptfrm</th><th scope=col>km_Data</th><th scope=col>cvo_error</th><th scope=col>km_dataSources</th><th scope=col>high_voted</th></tr></thead>\n",
       "<tbody>\n",
       "\t<tr><td>0         </td><td>0         </td><td>0.07896849</td><td>37        </td><td>0.14154488</td><td>0.1150107 </td><td>0         </td><td>    34757 </td><td>0.1108033 </td><td> 89       </td><td>0.08251058</td><td>0         </td><td>0.1128448 </td><td> 7        </td><td>1         </td><td>0         </td><td>1         </td><td>False     </td></tr>\n",
       "\t<tr><td>0         </td><td>0         </td><td>0.07896849</td><td>36        </td><td>0.09503205</td><td>0.1150107 </td><td>0         </td><td>    34757 </td><td>0.1108033 </td><td>371       </td><td>0.00000000</td><td>0         </td><td>0.1128448 </td><td> 3        </td><td>1         </td><td>0         </td><td>1         </td><td>False     </td></tr>\n",
       "\t<tr><td>0         </td><td>0         </td><td>0.07896849</td><td>66        </td><td>0.16976930</td><td>0.1998296 </td><td>0         </td><td>        0 </td><td>0.1108033 </td><td>766       </td><td>0.06568712</td><td>0         </td><td>0.1128448 </td><td>30        </td><td>0         </td><td>0         </td><td>1         </td><td>False     </td></tr>\n",
       "\t<tr><td>0         </td><td>0         </td><td>0.07896849</td><td>44        </td><td>0.18967610</td><td>0.1533643 </td><td>1         </td><td>        0 </td><td>0.1059971 </td><td>  4       </td><td>0.18181818</td><td>3         </td><td>0.1128448 </td><td> 3        </td><td>0         </td><td>0         </td><td>1         </td><td>False     </td></tr>\n",
       "\t<tr><td>0         </td><td>0         </td><td>0.07896849</td><td>56        </td><td>0.15737604</td><td>0.1249175 </td><td>0         </td><td> 16054448 </td><td>0.1059971 </td><td>  3       </td><td>0.04354310</td><td>2         </td><td>0.1128448 </td><td>10        </td><td>1         </td><td>0         </td><td>1         </td><td>False     </td></tr>\n",
       "\t<tr><td>0         </td><td>0         </td><td>0.07896849</td><td> 8        </td><td>0.15075344</td><td>0.1498329 </td><td>0         </td><td>117366271 </td><td>0.1108033 </td><td> 30       </td><td>0.09385307</td><td>0         </td><td>0.1128448 </td><td>11        </td><td>1         </td><td>0         </td><td>1         </td><td>False     </td></tr>\n",
       "</tbody>\n",
       "</table>\n"
      ],
      "text/latex": [
       "\\begin{tabular}{r|llllllllllllllllll}\n",
       " km\\_null & km\\_Other & km\\_tags\\_te\\_avg & cvp\\_comments & cvp\\_iptfrm\\_te\\_avg & cvp\\_ipt\\_te\\_avg & km\\_dataset\\_discussion\\_avg & km\\_competition\\_size\\_avg & km\\_isNotebook & km\\_versions & cvp\\_iptfrm\\_te\\_min & km\\_Visualization & cvp\\_ipt\\_te\\_min & cvp\\_num\\_of\\_iptfrm & km\\_Data & cvo\\_error & km\\_dataSources & high\\_voted\\\\\n",
       "\\hline\n",
       "\t 0          & 0          & 0.07896849 & 37         & 0.14154488 & 0.1150107  & 0          &     34757  & 0.1108033  &  89        & 0.08251058 & 0          & 0.1128448  &  7         & 1          & 0          & 1          & False     \\\\\n",
       "\t 0          & 0          & 0.07896849 & 36         & 0.09503205 & 0.1150107  & 0          &     34757  & 0.1108033  & 371        & 0.00000000 & 0          & 0.1128448  &  3         & 1          & 0          & 1          & False     \\\\\n",
       "\t 0          & 0          & 0.07896849 & 66         & 0.16976930 & 0.1998296  & 0          &         0  & 0.1108033  & 766        & 0.06568712 & 0          & 0.1128448  & 30         & 0          & 0          & 1          & False     \\\\\n",
       "\t 0          & 0          & 0.07896849 & 44         & 0.18967610 & 0.1533643  & 1          &         0  & 0.1059971  &   4        & 0.18181818 & 3          & 0.1128448  &  3         & 0          & 0          & 1          & False     \\\\\n",
       "\t 0          & 0          & 0.07896849 & 56         & 0.15737604 & 0.1249175  & 0          &  16054448  & 0.1059971  &   3        & 0.04354310 & 2          & 0.1128448  & 10         & 1          & 0          & 1          & False     \\\\\n",
       "\t 0          & 0          & 0.07896849 &  8         & 0.15075344 & 0.1498329  & 0          & 117366271  & 0.1108033  &  30        & 0.09385307 & 0          & 0.1128448  & 11         & 1          & 0          & 1          & False     \\\\\n",
       "\\end{tabular}\n"
      ],
      "text/markdown": [
       "\n",
       "| km_null | km_Other | km_tags_te_avg | cvp_comments | cvp_iptfrm_te_avg | cvp_ipt_te_avg | km_dataset_discussion_avg | km_competition_size_avg | km_isNotebook | km_versions | cvp_iptfrm_te_min | km_Visualization | cvp_ipt_te_min | cvp_num_of_iptfrm | km_Data | cvo_error | km_dataSources | high_voted |\n",
       "|---|---|---|---|---|---|---|---|---|---|---|---|---|---|---|---|---|---|\n",
       "| 0          | 0          | 0.07896849 | 37         | 0.14154488 | 0.1150107  | 0          |     34757  | 0.1108033  |  89        | 0.08251058 | 0          | 0.1128448  |  7         | 1          | 0          | 1          | False      |\n",
       "| 0          | 0          | 0.07896849 | 36         | 0.09503205 | 0.1150107  | 0          |     34757  | 0.1108033  | 371        | 0.00000000 | 0          | 0.1128448  |  3         | 1          | 0          | 1          | False      |\n",
       "| 0          | 0          | 0.07896849 | 66         | 0.16976930 | 0.1998296  | 0          |         0  | 0.1108033  | 766        | 0.06568712 | 0          | 0.1128448  | 30         | 0          | 0          | 1          | False      |\n",
       "| 0          | 0          | 0.07896849 | 44         | 0.18967610 | 0.1533643  | 1          |         0  | 0.1059971  |   4        | 0.18181818 | 3          | 0.1128448  |  3         | 0          | 0          | 1          | False      |\n",
       "| 0          | 0          | 0.07896849 | 56         | 0.15737604 | 0.1249175  | 0          |  16054448  | 0.1059971  |   3        | 0.04354310 | 2          | 0.1128448  | 10         | 1          | 0          | 1          | False      |\n",
       "| 0          | 0          | 0.07896849 |  8         | 0.15075344 | 0.1498329  | 0          | 117366271  | 0.1108033  |  30        | 0.09385307 | 0          | 0.1128448  | 11         | 1          | 0          | 1          | False      |\n",
       "\n"
      ],
      "text/plain": [
       "  km_null km_Other km_tags_te_avg cvp_comments cvp_iptfrm_te_avg cvp_ipt_te_avg\n",
       "1 0       0        0.07896849     37           0.14154488        0.1150107     \n",
       "2 0       0        0.07896849     36           0.09503205        0.1150107     \n",
       "3 0       0        0.07896849     66           0.16976930        0.1998296     \n",
       "4 0       0        0.07896849     44           0.18967610        0.1533643     \n",
       "5 0       0        0.07896849     56           0.15737604        0.1249175     \n",
       "6 0       0        0.07896849      8           0.15075344        0.1498329     \n",
       "  km_dataset_discussion_avg km_competition_size_avg km_isNotebook km_versions\n",
       "1 0                             34757               0.1108033      89        \n",
       "2 0                             34757               0.1108033     371        \n",
       "3 0                                 0               0.1108033     766        \n",
       "4 1                                 0               0.1059971       4        \n",
       "5 0                          16054448               0.1059971       3        \n",
       "6 0                         117366271               0.1108033      30        \n",
       "  cvp_iptfrm_te_min km_Visualization cvp_ipt_te_min cvp_num_of_iptfrm km_Data\n",
       "1 0.08251058        0                0.1128448       7                1      \n",
       "2 0.00000000        0                0.1128448       3                1      \n",
       "3 0.06568712        0                0.1128448      30                0      \n",
       "4 0.18181818        3                0.1128448       3                0      \n",
       "5 0.04354310        2                0.1128448      10                1      \n",
       "6 0.09385307        0                0.1128448      11                1      \n",
       "  cvo_error km_dataSources high_voted\n",
       "1 0         1              False     \n",
       "2 0         1              False     \n",
       "3 0         1              False     \n",
       "4 0         1              False     \n",
       "5 0         1              False     \n",
       "6 0         1              False     "
      ]
     },
     "metadata": {},
     "output_type": "display_data"
    }
   ],
   "source": [
    "head(data_classification)"
   ]
  },
  {
   "cell_type": "markdown",
   "metadata": {},
   "source": [
    "This step is used for generating the binary label. "
   ]
  },
  {
   "cell_type": "code",
   "execution_count": null,
   "metadata": {
    "init_cell": true
   },
   "outputs": [],
   "source": [
    "summary(data_classification)"
   ]
  },
  {
   "cell_type": "markdown",
   "metadata": {},
   "source": [
    "## Then Divide the training and testing data"
   ]
  },
  {
   "cell_type": "code",
   "execution_count": null,
   "metadata": {
    "init_cell": true
   },
   "outputs": [],
   "source": [
    "## 75% of the sample size\n",
    "smp_size <- floor(0.75 * nrow(data_classification))\n",
    "\n",
    "## set the seed to make your partition reproducible\n",
    "set.seed(123)\n",
    "train_ind <- sample(seq_len(nrow(data_classification)), size = smp_size)\n",
    "\n",
    "train <- data_classification[train_ind, ]\n",
    "test <- data_classification[-train_ind, ]"
   ]
  },
  {
   "cell_type": "markdown",
   "metadata": {},
   "source": [
    "Then we fit the model."
   ]
  },
  {
   "cell_type": "code",
   "execution_count": null,
   "metadata": {
    "init_cell": true
   },
   "outputs": [],
   "source": [
    "#import the package\n",
    "library(randomForest)\n",
    "# Perform training:\n",
    "rf_classifier2 = randomForest(as.factor(high_voted) ~ ., data=train, ntree=100, mtry=2, importance=TRUE)\n",
    "# because of the as.factor(...), randomforest can fit a classification model. \n",
    "rf_classifier2"
   ]
  },
  {
   "cell_type": "code",
   "execution_count": null,
   "metadata": {
    "init_cell": true
   },
   "outputs": [],
   "source": [
    "importance(rf_classifier2, type= 1)"
   ]
  },
  {
   "cell_type": "code",
   "execution_count": null,
   "metadata": {
    "init_cell": true
   },
   "outputs": [],
   "source": [
    "pdf(file=\"importance_for_python_vote_only.pdf\", width = 7, height = 7)\n",
    "varImpPlot(rf_classifier2, type= 1)\n",
    "dev.off()"
   ]
  },
  {
   "cell_type": "markdown",
   "metadata": {},
   "source": [
    "This is AUC. If the stackoverflow gave me the right answer. "
   ]
  },
  {
   "cell_type": "code",
   "execution_count": null,
   "metadata": {
    "init_cell": true
   },
   "outputs": [],
   "source": [
    "# import the library that needed in calculating the AUC. \n",
    "library(pROC)\n",
    "library(ROCR)"
   ]
  },
  {
   "cell_type": "code",
   "execution_count": null,
   "metadata": {
    "init_cell": true
   },
   "outputs": [],
   "source": [
    "# https://stackoverflow.com/questions/46776944/how-to-calculate-randomforest-training-auc-in-r\n",
    "# the train AUC\n",
    "rf_p_train <- predict(rf_classifier2, type=\"prob\")[,2]\n",
    "rf_pr_train <- prediction(rf_p_train, train$high_vote)\n",
    "r_auc_train <- performance(rf_pr_train, measure = \"auc\")@y.values[[1]] \n",
    "r_auc_train"
   ]
  },
  {
   "cell_type": "code",
   "execution_count": null,
   "metadata": {
    "init_cell": true,
    "scrolled": true
   },
   "outputs": [],
   "source": [
    "#https://stats.stackexchange.com/questions/308645/why-does-randomforest-has-higher-test-auc-than-train-auc-is-this-possible\n",
    "#the test AUC\n",
    "rf_p_test <- predict(rf_classifier2, type=\"prob\", newdata = test)[,2]\n",
    "rf_pr_test <- prediction(rf_p_test, test$high_vote)\n",
    "r_auc_test <- performance(rf_pr_test, measure = \"auc\")@y.values[[1]] \n",
    "r_auc_test"
   ]
  },
  {
   "cell_type": "markdown",
   "metadata": {},
   "source": [
    "### Logistic Regression"
   ]
  },
  {
   "cell_type": "code",
   "execution_count": 19,
   "metadata": {},
   "outputs": [],
   "source": [
    "library(rms)\n",
    "fit <- lrm(high_voted ~ .,\n",
    "           data=train, x=T, y=T)"
   ]
  },
  {
   "cell_type": "code",
   "execution_count": 20,
   "metadata": {},
   "outputs": [
    {
     "name": "stdout",
     "output_type": "stream",
     "text": [
      "         AUC AUC_optimism \n",
      "0.6434512055 0.0009310391 \n"
     ]
    }
   ],
   "source": [
    "val <- validate(fit, B=1000)\n",
    "AUC = 0.5 + val[1,1]/2\n",
    "AUC_optimism_reduced = (0.5 + val[1,5]/2)\n",
    "AUC_optimism = AUC - AUC_optimism_reduced\n",
    "print(c(\"AUC\"=AUC,\"AUC_optimism\"=AUC_optimism))"
   ]
  },
  {
   "cell_type": "code",
   "execution_count": null,
   "metadata": {},
   "outputs": [],
   "source": []
  }
 ],
 "metadata": {
  "celltoolbar": "Initialization Cell",
  "kernelspec": {
   "display_name": "R",
   "language": "R",
   "name": "ir"
  },
  "language_info": {
   "codemirror_mode": "r",
   "file_extension": ".r",
   "mimetype": "text/x-r-source",
   "name": "R",
   "pygments_lexer": "r",
   "version": "3.5.1"
  }
 },
 "nbformat": 4,
 "nbformat_minor": 2
}
