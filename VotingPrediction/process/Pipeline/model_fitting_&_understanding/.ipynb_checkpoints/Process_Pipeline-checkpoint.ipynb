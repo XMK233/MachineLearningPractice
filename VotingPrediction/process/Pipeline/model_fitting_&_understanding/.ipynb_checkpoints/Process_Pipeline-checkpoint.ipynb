{
 "cells": [
  {
   "cell_type": "markdown",
   "metadata": {},
   "source": [
    "* Turn the warning off: \n",
    "~~~~\n",
    "options(warn=-1)\n",
    "~~~~\n",
    "* Turn the warning back on: \n",
    "~~~~\n",
    "options(warn=0)\n",
    "~~~~\n",
    "* reference: https://stackoverflow.com/questions/16194212/how-to-suppress-warnings-globally-in-an-r-script"
   ]
  },
  {
   "cell_type": "code",
   "execution_count": 1,
   "metadata": {},
   "outputs": [],
   "source": [
    "options(warn=-1)"
   ]
  },
  {
   "cell_type": "markdown",
   "metadata": {},
   "source": [
    "## First step is getting the correlationship between those variables. "
   ]
  },
  {
   "cell_type": "code",
   "execution_count": 2,
   "metadata": {},
   "outputs": [
    {
     "name": "stderr",
     "output_type": "stream",
     "text": [
      "Loading required package: Hmisc\n",
      "Loading required package: lattice\n",
      "Loading required package: survival\n",
      "Loading required package: Formula\n",
      "Loading required package: ggplot2\n",
      "\n",
      "Attaching package: 'Hmisc'\n",
      "\n",
      "The following objects are masked from 'package:base':\n",
      "\n",
      "    format.pval, units\n",
      "\n",
      "Loading required package: SparseM\n",
      "\n",
      "Attaching package: 'SparseM'\n",
      "\n",
      "The following object is masked from 'package:base':\n",
      "\n",
      "    backsolve\n",
      "\n"
     ]
    },
    {
     "name": "stdout",
     "output_type": "stream",
     "text": [
      "[1] \"cvo_num_of_cell +\"\n",
      "[1] \"cvo_num_of_output +\"\n",
      "[1] \"cvo_display_data +\"\n",
      "[1] \"cvo_stream +\"\n",
      "[1] \"cvo_execute_result +\"\n",
      "[1] \"cvo_error +\"\n",
      "[1] \"cvp_sloc +\"\n",
      "[1] \"cvp_comments +\"\n",
      "[1] \"cvp_empty +\"\n",
      "[1] \"cvp_mccabe +\"\n",
      "[1] \"km_dataSources +\"\n",
      "[1] \"km_versions +\"\n",
      "[1] \"km_competitions +\"\n",
      "[1] \"km_competition_size_ttl +\"\n",
      "[1] \"km_competition_size_avg +\"\n",
      "[1] \"km_competition_size_max +\"\n",
      "[1] \"km_competition_size_min +\"\n",
      "[1] \"km_competition_discussion_ttl +\"\n",
      "[1] \"km_competition_discussion_avg +\"\n",
      "[1] \"km_competition_discussion_max +\"\n",
      "[1] \"km_competition_discussion_min +\"\n",
      "[1] \"km_competition_competitor_ttl +\"\n",
      "[1] \"km_competition_competitor_avg +\"\n",
      "[1] \"km_competition_competitor_max +\"\n",
      "[1] \"km_competition_competitor_min +\"\n",
      "[1] \"km_datasets +\"\n",
      "[1] \"km_dataset_size_ttl +\"\n",
      "[1] \"km_dataset_size_avg +\"\n",
      "[1] \"km_dataset_size_max +\"\n",
      "[1] \"km_dataset_size_min +\"\n",
      "[1] \"km_dataset_discussion_ttl +\"\n",
      "[1] \"km_dataset_discussion_avg +\"\n",
      "[1] \"km_dataset_discussion_max +\"\n",
      "[1] \"km_dataset_discussion_min +\"\n",
      "[1] \"km_dataset_kernel_ttl +\"\n",
      "[1] \"km_dataset_kernel_avg +\"\n",
      "[1] \"km_dataset_kernel_max +\"\n",
      "[1] \"km_dataset_kernel_min +\"\n",
      "[1] \"km_dataset_download_ttl +\"\n",
      "[1] \"km_dataset_download_avg +\"\n",
      "[1] \"km_dataset_download_max +\"\n",
      "[1] \"km_dataset_download_min +\"\n",
      "[1] \"km_dataset_view_ttl +\"\n",
      "[1] \"km_dataset_view_avg +\"\n",
      "[1] \"km_dataset_view_max +\"\n",
      "[1] \"km_dataset_view_min +\"\n",
      "[1] \"km_dataset_vote_ttl +\"\n",
      "[1] \"km_dataset_vote_avg +\"\n",
      "[1] \"km_dataset_vote_max +\"\n",
      "[1] \"km_dataset_vote_min +\"\n",
      "[1] \"km_dataset_version_ttl +\"\n",
      "[1] \"km_dataset_version_avg +\"\n",
      "[1] \"km_dataset_version_max +\"\n",
      "[1] \"km_dataset_version_min +\"\n",
      "[1] \"km_Hidden +\"\n",
      "[1] \"km_Notebook +\"\n",
      "[1] \"km_null +\"\n",
      "[1] \"km_Data +\"\n",
      "[1] \"km_Visualization +\"\n",
      "[1] \"km_Other +\"\n",
      "[1] \"km_isNotebook +\"\n",
      "[1] \"high_voted +\"\n",
      "[1] \"km_num_of_tags +\"\n",
      "[1] \"km_tags_te_sum +\"\n",
      "[1] \"km_tags_te_avg +\"\n",
      "[1] \"km_tags_te_max +\"\n",
      "[1] \"km_tags_te_min +\"\n",
      "[1] \"km_tags_te_median +\"\n",
      "[1] \"cvp_num_of_ipt +\"\n",
      "[1] \"cvp_ipt_te_sum +\"\n",
      "[1] \"cvp_ipt_te_avg +\"\n",
      "[1] \"cvp_ipt_te_max +\"\n",
      "[1] \"cvp_ipt_te_min +\"\n",
      "[1] \"cvp_ipt_te_median +\"\n",
      "[1] \"cvp_num_of_iptfrm +\"\n",
      "[1] \"cvp_iptfrm_te_sum +\"\n",
      "[1] \"cvp_iptfrm_te_avg +\"\n",
      "[1] \"cvp_iptfrm_te_max +\"\n",
      "[1] \"cvp_iptfrm_te_min +\"\n",
      "[1] \"cvp_iptfrm_te_median +\"\n"
     ]
    }
   ],
   "source": [
    "#library(randomForest)\n",
    "library(rms)\n",
    "data <- read.csv('J:/EECS6414/process/Pipeline/Data_cleaning/kernel_datssource_code_3.csv')# , stringsAsFactors=FALSE\n",
    "\n",
    "col_name <- names(data)\n",
    "env_vars <- col_name\n",
    "reject_vars <- c(#\"kernel_datasets\", # because they are all 1, so we can only get NaN. \n",
    "                 \"kernel\", \"author\", \"id\", \"km_language\", \"km_tags\", \"cvp_import\", \"cvp_import_from\", \"km_votes\", \n",
    "                \"km_forks\", \"km_comments\", \"km_views\"\n",
    "                 #\"competition\", \"organization\" # unnecessary variables. \n",
    "                 )\n",
    "env_vars <- env_vars[!(env_vars %in% reject_vars)]\n",
    "for (env in env_vars){\n",
    "   print(paste(env, \"+\"))\n",
    "}"
   ]
  },
  {
   "cell_type": "code",
   "execution_count": 3,
   "metadata": {},
   "outputs": [
    {
     "data": {
      "text/html": [
       "<strong>png:</strong> 2"
      ],
      "text/latex": [
       "\\textbf{png:} 2"
      ],
      "text/markdown": [
       "**png:** 2"
      ],
      "text/plain": [
       "png \n",
       "  2 "
      ]
     },
     "metadata": {},
     "output_type": "display_data"
    },
    {
     "data": {
      "image/png": "[encoded data removed]",
      "text/plain": [
       "plot without title"
      ]
     },
     "metadata": {},
     "output_type": "display_data"
    }
   ],
   "source": [
    "vcobj = varclus(~ \n",
    "cvo_num_of_cell +\n",
    "cvo_num_of_output +\n",
    "cvo_display_data +\n",
    "cvo_stream +\n",
    "cvo_execute_result +\n",
    "cvo_error +\n",
    "cvp_sloc +\n",
    "cvp_comments +\n",
    "cvp_empty +\n",
    "cvp_mccabe +\n",
    "km_dataSources +\n",
    "km_versions +\n",
    "km_competitions +\n",
    "km_competition_size_ttl +\n",
    "km_competition_size_avg +\n",
    "km_competition_size_max +\n",
    "km_competition_size_min +\n",
    "km_competition_discussion_ttl +\n",
    "km_competition_discussion_avg +\n",
    "km_competition_discussion_max +\n",
    "km_competition_discussion_min +\n",
    "km_competition_competitor_ttl +\n",
    "km_competition_competitor_avg +\n",
    "km_competition_competitor_max +\n",
    "km_competition_competitor_min +\n",
    "km_datasets +\n",
    "km_dataset_size_ttl +\n",
    "km_dataset_size_avg +\n",
    "km_dataset_size_max +\n",
    "km_dataset_size_min +\n",
    "km_dataset_discussion_ttl +\n",
    "km_dataset_discussion_avg +\n",
    "km_dataset_discussion_max +\n",
    "km_dataset_discussion_min +\n",
    "km_dataset_kernel_ttl +\n",
    "km_dataset_kernel_avg +\n",
    "km_dataset_kernel_max +\n",
    "km_dataset_kernel_min +\n",
    "km_dataset_download_ttl +\n",
    "km_dataset_download_avg +\n",
    "km_dataset_download_max +\n",
    "km_dataset_download_min +\n",
    "km_dataset_view_ttl +\n",
    "km_dataset_view_avg +\n",
    "km_dataset_view_max +\n",
    "km_dataset_view_min +\n",
    "km_dataset_vote_ttl +\n",
    "km_dataset_vote_avg +\n",
    "km_dataset_vote_max +\n",
    "km_dataset_vote_min +\n",
    "km_dataset_version_ttl +\n",
    "km_dataset_version_avg +\n",
    "km_dataset_version_max +\n",
    "km_dataset_version_min +\n",
    "km_Hidden +\n",
    "km_Notebook +\n",
    "km_null +\n",
    "km_Data +\n",
    "km_Visualization +\n",
    "km_Other +\n",
    "km_isNotebook +\n",
    "high_voted +\n",
    "km_num_of_tags +\n",
    "km_tags_te_sum +\n",
    "km_tags_te_avg +\n",
    "km_tags_te_max +\n",
    "km_tags_te_min +\n",
    "km_tags_te_median +\n",
    "cvp_num_of_ipt +\n",
    "cvp_ipt_te_sum +\n",
    "cvp_ipt_te_avg +\n",
    "cvp_ipt_te_max +\n",
    "cvp_ipt_te_min +\n",
    "cvp_ipt_te_median +\n",
    "cvp_num_of_iptfrm +\n",
    "cvp_iptfrm_te_sum +\n",
    "cvp_iptfrm_te_avg +\n",
    "cvp_iptfrm_te_max +\n",
    "cvp_iptfrm_te_min +\n",
    "cvp_iptfrm_te_median, \n",
    "                \n",
    "                data = data, \n",
    "                \n",
    "                similarity = \"spearman\",\n",
    "                \n",
    "                trans = \"abs\"\n",
    ")\n",
    "\n",
    "pdf(file=\"correlation.pdf\", width = 15, height = 15)\n",
    "plot(vcobj)\n",
    "thresh = 0.7\n",
    "abline (h = 1 - thresh, col = \"red\", lty = 2)\n",
    "dev.off()\n",
    "\n",
    "plot(vcobj)\n",
    "thresh = 0.7\n",
    "abline (h = 1 - thresh, col = \"red\", lty = 2)\n",
    "\n",
    "# reject variables that closely related to each other. For now, we don't do this thing. \n",
    "# reject_vars <- c()\n",
    "# env_vars <- env_vars[!(env_vars %in% reject_vars)]"
   ]
  },
  {
   "cell_type": "code",
   "execution_count": 4,
   "metadata": {},
   "outputs": [
    {
     "name": "stdout",
     "output_type": "stream",
     "text": [
      "[1] \"km_competition_competitor_ttl +\"\n",
      "[1] \"km_dataset_vote_ttl +\"\n",
      "[1] \"cvo_num_of_output +\"\n",
      "[1] \"km_isNotebook +\"\n",
      "[1] \"cvo_num_of_cell +\"\n",
      "[1] \"cvp_num_of_iptfrm +\"\n",
      "[1] \"cvp_num_of_ipt +\"\n",
      "[1] \"cvp_ipt_te_median +\"\n",
      "[1] \"km_num_of_tags +\"\n"
     ]
    }
   ],
   "source": [
    "env_vars <- c(\"km_competition_competitor_ttl\", \n",
    "              \"km_dataset_vote_ttl\", \n",
    "              \"cvo_num_of_output\",\n",
    "              \"km_isNotebook\", \n",
    "              \"cvo_num_of_cell\", \n",
    "              \"cvp_num_of_iptfrm\",\n",
    "              \"cvp_num_of_ipt\", \n",
    "              \"cvp_ipt_te_median\", \n",
    "              \"km_num_of_tags\"\n",
    "             )\n",
    "for (env in env_vars){\n",
    "   print(paste(env, \"+\"))\n",
    "}"
   ]
  },
  {
   "cell_type": "code",
   "execution_count": 5,
   "metadata": {},
   "outputs": [
    {
     "data": {
      "text/html": [
       "<strong>png:</strong> 2"
      ],
      "text/latex": [
       "\\textbf{png:} 2"
      ],
      "text/markdown": [
       "**png:** 2"
      ],
      "text/plain": [
       "png \n",
       "  2 "
      ]
     },
     "metadata": {},
     "output_type": "display_data"
    },
    {
     "data": {
      "image/png": "[encoded data removed]",
      "text/plain": [
       "plot without title"
      ]
     },
     "metadata": {},
     "output_type": "display_data"
    }
   ],
   "source": [
    "vcobj = varclus(~ \n",
    "km_competition_competitor_ttl +\n",
    "km_dataset_vote_ttl +\n",
    "cvo_num_of_output +\n",
    "km_isNotebook +\n",
    "cvo_num_of_cell +\n",
    "cvp_num_of_iptfrm +\n",
    "cvp_num_of_ipt +\n",
    "cvp_ipt_te_median +\n",
    "km_num_of_tags\n",
    "                ,\n",
    "                \n",
    "                data = data, \n",
    "                \n",
    "                similarity = \"spearman\",\n",
    "                \n",
    "                trans = \"abs\"\n",
    ")\n",
    "\n",
    "pdf(file=\"correlation1.pdf\", width = 11, height = 8.5)\n",
    "plot(vcobj)\n",
    "thresh = 0.7\n",
    "abline (h = 1 - thresh, col = \"red\", lty = 2)\n",
    "dev.off()\n",
    "\n",
    "plot(vcobj)\n",
    "thresh = 0.7\n",
    "abline (h = 1 - thresh, col = \"red\", lty = 2)\n",
    "\n",
    "# reject variables that closely related to each other. For now, we don't do this thing. \n",
    "reject_vars <- c()\n",
    "env_vars <- env_vars[!(env_vars %in% reject_vars)]"
   ]
  },
  {
   "cell_type": "code",
   "execution_count": 6,
   "metadata": {
    "scrolled": false
   },
   "outputs": [
    {
     "data": {
      "text/html": [
       "<strong>png:</strong> 2"
      ],
      "text/latex": [
       "\\textbf{png:} 2"
      ],
      "text/markdown": [
       "**png:** 2"
      ],
      "text/plain": [
       "png \n",
       "  2 "
      ]
     },
     "metadata": {},
     "output_type": "display_data"
    },
    {
     "data": {
      "image/png": "[encoded data removed]",
      "text/plain": [
       "plot without title"
      ]
     },
     "metadata": {},
     "output_type": "display_data"
    }
   ],
   "source": [
    "reject_vars <- c(\"km_competition_competitor_ttl\")\n",
    "env_vars <- env_vars[!(env_vars %in% reject_vars)]\n",
    "\n",
    "vcobj = varclus(~ \n",
    "km_dataset_vote_ttl +\n",
    "cvo_num_of_output +\n",
    "km_isNotebook +\n",
    "cvo_num_of_cell +\n",
    "cvp_num_of_iptfrm +\n",
    "cvp_num_of_ipt +\n",
    "cvp_ipt_te_median +\n",
    "km_num_of_tags\n",
    "                ,\n",
    "                \n",
    "                data = data, \n",
    "                \n",
    "                similarity = \"spearman\",\n",
    "                \n",
    "                trans = \"abs\"\n",
    ")\n",
    "\n",
    "pdf(file=\"correlation2.pdf\", width = 11, height = 8.5)\n",
    "plot(vcobj)\n",
    "thresh = 0.7\n",
    "abline (h = 1 - thresh, col = \"red\", lty = 2)\n",
    "dev.off()\n",
    "\n",
    "plot(vcobj)\n",
    "thresh = 0.7\n",
    "abline (h = 1 - thresh, col = \"red\", lty = 2)"
   ]
  },
  {
   "cell_type": "markdown",
   "metadata": {},
   "source": [
    "## Second Step is to devide the training set and testing set"
   ]
  },
  {
   "cell_type": "markdown",
   "metadata": {},
   "source": [
    "random forest model fitting referece: https://www.blopig.com/blog/2017/04/a-very-basic-introduction-to-random-forests-using-r/"
   ]
  },
  {
   "cell_type": "code",
   "execution_count": 7,
   "metadata": {},
   "outputs": [],
   "source": [
    "env_vars_with_high_vote = append(env_vars, \"high_voted\")\n",
    "data_lean = data[env_vars_with_high_vote]"
   ]
  },
  {
   "cell_type": "code",
   "execution_count": 8,
   "metadata": {},
   "outputs": [
    {
     "data": {
      "text/html": [
       "<table>\n",
       "<thead><tr><th scope=col>km_dataset_vote_ttl</th><th scope=col>cvo_num_of_output</th><th scope=col>km_isNotebook</th><th scope=col>cvo_num_of_cell</th><th scope=col>cvp_num_of_iptfrm</th><th scope=col>cvp_num_of_ipt</th><th scope=col>cvp_ipt_te_median</th><th scope=col>km_num_of_tags</th><th scope=col>high_voted</th></tr></thead>\n",
       "<tbody>\n",
       "\t<tr><td>  0      </td><td> 0       </td><td>0.4918252</td><td> 73      </td><td>38       </td><td>8        </td><td>0.4982692</td><td>2        </td><td>True     </td></tr>\n",
       "\t<tr><td>414      </td><td>23       </td><td>0.4918252</td><td> 64      </td><td> 6       </td><td>5        </td><td>0.5091028</td><td>5        </td><td>True     </td></tr>\n",
       "\t<tr><td>  0      </td><td> 0       </td><td>0.4918252</td><td>169      </td><td>15       </td><td>9        </td><td>0.5236641</td><td>3        </td><td>True     </td></tr>\n",
       "\t<tr><td>  0      </td><td>21       </td><td>0.4918252</td><td> 38      </td><td> 4       </td><td>9        </td><td>0.5091028</td><td>0        </td><td>True     </td></tr>\n",
       "\t<tr><td>  0      </td><td>27       </td><td>0.4918252</td><td> 35      </td><td> 6       </td><td>7        </td><td>0.5091028</td><td>5        </td><td>True     </td></tr>\n",
       "</tbody>\n",
       "</table>\n"
      ],
      "text/latex": [
       "\\begin{tabular}{r|lllllllll}\n",
       " km\\_dataset\\_vote\\_ttl & cvo\\_num\\_of\\_output & km\\_isNotebook & cvo\\_num\\_of\\_cell & cvp\\_num\\_of\\_iptfrm & cvp\\_num\\_of\\_ipt & cvp\\_ipt\\_te\\_median & km\\_num\\_of\\_tags & high\\_voted\\\\\n",
       "\\hline\n",
       "\t   0       &  0        & 0.4918252 &  73       & 38        & 8         & 0.4982692 & 2         & True     \\\\\n",
       "\t 414       & 23        & 0.4918252 &  64       &  6        & 5         & 0.5091028 & 5         & True     \\\\\n",
       "\t   0       &  0        & 0.4918252 & 169       & 15        & 9         & 0.5236641 & 3         & True     \\\\\n",
       "\t   0       & 21        & 0.4918252 &  38       &  4        & 9         & 0.5091028 & 0         & True     \\\\\n",
       "\t   0       & 27        & 0.4918252 &  35       &  6        & 7         & 0.5091028 & 5         & True     \\\\\n",
       "\\end{tabular}\n"
      ],
      "text/markdown": [
       "\n",
       "| km_dataset_vote_ttl | cvo_num_of_output | km_isNotebook | cvo_num_of_cell | cvp_num_of_iptfrm | cvp_num_of_ipt | cvp_ipt_te_median | km_num_of_tags | high_voted |\n",
       "|---|---|---|---|---|---|---|---|---|\n",
       "|   0       |  0        | 0.4918252 |  73       | 38        | 8         | 0.4982692 | 2         | True      |\n",
       "| 414       | 23        | 0.4918252 |  64       |  6        | 5         | 0.5091028 | 5         | True      |\n",
       "|   0       |  0        | 0.4918252 | 169       | 15        | 9         | 0.5236641 | 3         | True      |\n",
       "|   0       | 21        | 0.4918252 |  38       |  4        | 9         | 0.5091028 | 0         | True      |\n",
       "|   0       | 27        | 0.4918252 |  35       |  6        | 7         | 0.5091028 | 5         | True      |\n",
       "\n"
      ],
      "text/plain": [
       "  km_dataset_vote_ttl cvo_num_of_output km_isNotebook cvo_num_of_cell\n",
       "1   0                  0                0.4918252      73            \n",
       "2 414                 23                0.4918252      64            \n",
       "3   0                  0                0.4918252     169            \n",
       "4   0                 21                0.4918252      38            \n",
       "5   0                 27                0.4918252      35            \n",
       "  cvp_num_of_iptfrm cvp_num_of_ipt cvp_ipt_te_median km_num_of_tags high_voted\n",
       "1 38                8              0.4982692         2              True      \n",
       "2  6                5              0.5091028         5              True      \n",
       "3 15                9              0.5236641         3              True      \n",
       "4  4                9              0.5091028         0              True      \n",
       "5  6                7              0.5091028         5              True      "
      ]
     },
     "metadata": {},
     "output_type": "display_data"
    }
   ],
   "source": [
    "head(data_lean, 5)"
   ]
  },
  {
   "cell_type": "markdown",
   "metadata": {},
   "source": [
    "### binary classification: "
   ]
  },
  {
   "cell_type": "markdown",
   "metadata": {},
   "source": [
    "This step is used for generating the binary label. "
   ]
  },
  {
   "cell_type": "code",
   "execution_count": 9,
   "metadata": {},
   "outputs": [],
   "source": [
    "# delete column: votes\n",
    "data_classification <- data_lean"
   ]
  },
  {
   "cell_type": "code",
   "execution_count": 10,
   "metadata": {},
   "outputs": [
    {
     "data": {
      "text/html": [
       "<table>\n",
       "<thead><tr><th scope=col>km_dataset_vote_ttl</th><th scope=col>cvo_num_of_output</th><th scope=col>km_isNotebook</th><th scope=col>cvo_num_of_cell</th><th scope=col>cvp_num_of_iptfrm</th><th scope=col>cvp_num_of_ipt</th><th scope=col>cvp_ipt_te_median</th><th scope=col>km_num_of_tags</th><th scope=col>high_voted</th></tr></thead>\n",
       "<tbody>\n",
       "\t<tr><td>  0      </td><td> 0       </td><td>0.4918252</td><td> 73      </td><td>38       </td><td>8        </td><td>0.4982692</td><td>2        </td><td>True     </td></tr>\n",
       "\t<tr><td>414      </td><td>23       </td><td>0.4918252</td><td> 64      </td><td> 6       </td><td>5        </td><td>0.5091028</td><td>5        </td><td>True     </td></tr>\n",
       "\t<tr><td>  0      </td><td> 0       </td><td>0.4918252</td><td>169      </td><td>15       </td><td>9        </td><td>0.5236641</td><td>3        </td><td>True     </td></tr>\n",
       "\t<tr><td>  0      </td><td>21       </td><td>0.4918252</td><td> 38      </td><td> 4       </td><td>9        </td><td>0.5091028</td><td>0        </td><td>True     </td></tr>\n",
       "\t<tr><td>  0      </td><td>27       </td><td>0.4918252</td><td> 35      </td><td> 6       </td><td>7        </td><td>0.5091028</td><td>5        </td><td>True     </td></tr>\n",
       "\t<tr><td>  0      </td><td>25       </td><td>0.4918252</td><td> 53      </td><td>13       </td><td>6        </td><td>0.5040770</td><td>3        </td><td>True     </td></tr>\n",
       "</tbody>\n",
       "</table>\n"
      ],
      "text/latex": [
       "\\begin{tabular}{r|lllllllll}\n",
       " km\\_dataset\\_vote\\_ttl & cvo\\_num\\_of\\_output & km\\_isNotebook & cvo\\_num\\_of\\_cell & cvp\\_num\\_of\\_iptfrm & cvp\\_num\\_of\\_ipt & cvp\\_ipt\\_te\\_median & km\\_num\\_of\\_tags & high\\_voted\\\\\n",
       "\\hline\n",
       "\t   0       &  0        & 0.4918252 &  73       & 38        & 8         & 0.4982692 & 2         & True     \\\\\n",
       "\t 414       & 23        & 0.4918252 &  64       &  6        & 5         & 0.5091028 & 5         & True     \\\\\n",
       "\t   0       &  0        & 0.4918252 & 169       & 15        & 9         & 0.5236641 & 3         & True     \\\\\n",
       "\t   0       & 21        & 0.4918252 &  38       &  4        & 9         & 0.5091028 & 0         & True     \\\\\n",
       "\t   0       & 27        & 0.4918252 &  35       &  6        & 7         & 0.5091028 & 5         & True     \\\\\n",
       "\t   0       & 25        & 0.4918252 &  53       & 13        & 6         & 0.5040770 & 3         & True     \\\\\n",
       "\\end{tabular}\n"
      ],
      "text/markdown": [
       "\n",
       "| km_dataset_vote_ttl | cvo_num_of_output | km_isNotebook | cvo_num_of_cell | cvp_num_of_iptfrm | cvp_num_of_ipt | cvp_ipt_te_median | km_num_of_tags | high_voted |\n",
       "|---|---|---|---|---|---|---|---|---|\n",
       "|   0       |  0        | 0.4918252 |  73       | 38        | 8         | 0.4982692 | 2         | True      |\n",
       "| 414       | 23        | 0.4918252 |  64       |  6        | 5         | 0.5091028 | 5         | True      |\n",
       "|   0       |  0        | 0.4918252 | 169       | 15        | 9         | 0.5236641 | 3         | True      |\n",
       "|   0       | 21        | 0.4918252 |  38       |  4        | 9         | 0.5091028 | 0         | True      |\n",
       "|   0       | 27        | 0.4918252 |  35       |  6        | 7         | 0.5091028 | 5         | True      |\n",
       "|   0       | 25        | 0.4918252 |  53       | 13        | 6         | 0.5040770 | 3         | True      |\n",
       "\n"
      ],
      "text/plain": [
       "  km_dataset_vote_ttl cvo_num_of_output km_isNotebook cvo_num_of_cell\n",
       "1   0                  0                0.4918252      73            \n",
       "2 414                 23                0.4918252      64            \n",
       "3   0                  0                0.4918252     169            \n",
       "4   0                 21                0.4918252      38            \n",
       "5   0                 27                0.4918252      35            \n",
       "6   0                 25                0.4918252      53            \n",
       "  cvp_num_of_iptfrm cvp_num_of_ipt cvp_ipt_te_median km_num_of_tags high_voted\n",
       "1 38                8              0.4982692         2              True      \n",
       "2  6                5              0.5091028         5              True      \n",
       "3 15                9              0.5236641         3              True      \n",
       "4  4                9              0.5091028         0              True      \n",
       "5  6                7              0.5091028         5              True      \n",
       "6 13                6              0.5040770         3              True      "
      ]
     },
     "metadata": {},
     "output_type": "display_data"
    }
   ],
   "source": [
    "head(data_classification)"
   ]
  },
  {
   "cell_type": "code",
   "execution_count": 11,
   "metadata": {},
   "outputs": [
    {
     "data": {
      "text/plain": [
       " km_dataset_vote_ttl cvo_num_of_output  km_isNotebook    cvo_num_of_cell \n",
       " Min.   :    0.0     Min.   :   0.000   Min.   :0.4755   Min.   :  0.00  \n",
       " 1st Qu.:    0.0     1st Qu.:   0.000   1st Qu.:0.4918   1st Qu.:  7.00  \n",
       " Median :    0.0     Median :   0.000   Median :0.4918   Median : 19.00  \n",
       " Mean   :  318.8     Mean   :   7.038   Mean   :0.4893   Mean   : 26.87  \n",
       " 3rd Qu.:  185.0     3rd Qu.:   8.000   3rd Qu.:0.4918   3rd Qu.: 36.00  \n",
       " Max.   :16880.0     Max.   :1075.000   Max.   :0.4918   Max.   :468.00  \n",
       " cvp_num_of_iptfrm cvp_num_of_ipt   cvp_ipt_te_median km_num_of_tags  \n",
       " Min.   :  0.000   Min.   : 0.000   Min.   :0.0000    Min.   :0.0000  \n",
       " 1st Qu.:  1.000   1st Qu.: 3.000   1st Qu.:0.4975    1st Qu.:0.0000  \n",
       " Median :  3.000   Median : 4.000   Median :0.5033    Median :0.0000  \n",
       " Mean   :  5.931   Mean   : 4.921   Mean   :0.5072    Mean   :0.6235  \n",
       " 3rd Qu.:  8.000   3rd Qu.: 6.000   3rd Qu.:0.5135    3rd Qu.:0.0000  \n",
       " Max.   :130.000   Max.   :68.000   Max.   :1.0000    Max.   :5.0000  \n",
       " high_voted   \n",
       " False:14403  \n",
       " True :13802  \n",
       "              \n",
       "              \n",
       "              \n",
       "              "
      ]
     },
     "metadata": {},
     "output_type": "display_data"
    }
   ],
   "source": [
    "summary(data_classification)"
   ]
  },
  {
   "cell_type": "markdown",
   "metadata": {},
   "source": [
    "Divide the training and testing data"
   ]
  },
  {
   "cell_type": "code",
   "execution_count": 12,
   "metadata": {},
   "outputs": [],
   "source": [
    "## 75% of the sample size\n",
    "smp_size <- floor(0.75 * nrow(data_classification))\n",
    "\n",
    "## set the seed to make your partition reproducible\n",
    "set.seed(123)\n",
    "train_ind <- sample(seq_len(nrow(data_classification)), size = smp_size)\n",
    "\n",
    "train <- data_classification[train_ind, ]\n",
    "test <- data_classification[-train_ind, ]"
   ]
  },
  {
   "cell_type": "markdown",
   "metadata": {},
   "source": [
    "Then we fit the model."
   ]
  },
  {
   "cell_type": "code",
   "execution_count": 13,
   "metadata": {},
   "outputs": [
    {
     "name": "stderr",
     "output_type": "stream",
     "text": [
      "randomForest 4.6-14\n",
      "Type rfNews() to see new features/changes/bug fixes.\n",
      "\n",
      "Attaching package: 'randomForest'\n",
      "\n",
      "The following object is masked from 'package:ggplot2':\n",
      "\n",
      "    margin\n",
      "\n"
     ]
    },
    {
     "data": {
      "text/plain": [
       "\n",
       "Call:\n",
       " randomForest(formula = as.factor(high_voted) ~ ., data = train,      ntree = 100, mtry = 2, importance = TRUE) \n",
       "               Type of random forest: classification\n",
       "                     Number of trees: 100\n",
       "No. of variables tried at each split: 2\n",
       "\n",
       "        OOB estimate of  error rate: 37.37%\n",
       "Confusion matrix:\n",
       "      False True class.error\n",
       "False  7780 3030   0.2802960\n",
       "True   4875 5468   0.4713333"
      ]
     },
     "metadata": {},
     "output_type": "display_data"
    }
   ],
   "source": [
    "#import the package\n",
    "library(randomForest)\n",
    "# Perform training:\n",
    "rf_classifier2 = randomForest(as.factor(high_voted) ~ ., data=train, ntree=100, mtry=2, importance=TRUE)\n",
    "# because of the as.factor(...), randomforest can fit a classification model. \n",
    "rf_classifier2"
   ]
  },
  {
   "cell_type": "code",
   "execution_count": 14,
   "metadata": {},
   "outputs": [
    {
     "data": {
      "text/html": [
       "<table>\n",
       "<thead><tr><th></th><th scope=col>False</th><th scope=col>True</th><th scope=col>MeanDecreaseAccuracy</th><th scope=col>MeanDecreaseGini</th></tr></thead>\n",
       "<tbody>\n",
       "\t<tr><th scope=row>km_dataset_vote_ttl</th><td>17.741839  </td><td> 8.55553072</td><td>22.663091  </td><td> 844.33359 </td></tr>\n",
       "\t<tr><th scope=row>cvo_num_of_output</th><td>14.406076  </td><td> 0.01095269</td><td>15.617320  </td><td> 587.10895 </td></tr>\n",
       "\t<tr><th scope=row>km_isNotebook</th><td>-3.276302  </td><td> 5.72415518</td><td> 7.014182  </td><td>  38.52266 </td></tr>\n",
       "\t<tr><th scope=row>cvo_num_of_cell</th><td>15.389112  </td><td> 7.01511194</td><td>30.449406  </td><td>1098.31283 </td></tr>\n",
       "\t<tr><th scope=row>cvp_num_of_iptfrm</th><td>28.267381  </td><td>-2.96577219</td><td>29.560190  </td><td> 793.30320 </td></tr>\n",
       "\t<tr><th scope=row>cvp_num_of_ipt</th><td> 7.040933  </td><td>13.65982428</td><td>26.577752  </td><td> 544.20671 </td></tr>\n",
       "\t<tr><th scope=row>cvp_ipt_te_median</th><td>22.220610  </td><td>20.01479860</td><td>44.774583  </td><td> 872.90990 </td></tr>\n",
       "\t<tr><th scope=row>km_num_of_tags</th><td>39.092771  </td><td>20.56135252</td><td>36.390195  </td><td> 564.93118 </td></tr>\n",
       "</tbody>\n",
       "</table>\n"
      ],
      "text/latex": [
       "\\begin{tabular}{r|llll}\n",
       "  & False & True & MeanDecreaseAccuracy & MeanDecreaseGini\\\\\n",
       "\\hline\n",
       "\tkm\\_dataset\\_vote\\_ttl & 17.741839   &  8.55553072 & 22.663091   &  844.33359 \\\\\n",
       "\tcvo\\_num\\_of\\_output & 14.406076   &  0.01095269 & 15.617320   &  587.10895 \\\\\n",
       "\tkm\\_isNotebook & -3.276302   &  5.72415518 &  7.014182   &   38.52266 \\\\\n",
       "\tcvo\\_num\\_of\\_cell & 15.389112   &  7.01511194 & 30.449406   & 1098.31283 \\\\\n",
       "\tcvp\\_num\\_of\\_iptfrm & 28.267381   & -2.96577219 & 29.560190   &  793.30320 \\\\\n",
       "\tcvp\\_num\\_of\\_ipt &  7.040933   & 13.65982428 & 26.577752   &  544.20671 \\\\\n",
       "\tcvp\\_ipt\\_te\\_median & 22.220610   & 20.01479860 & 44.774583   &  872.90990 \\\\\n",
       "\tkm\\_num\\_of\\_tags & 39.092771   & 20.56135252 & 36.390195   &  564.93118 \\\\\n",
       "\\end{tabular}\n"
      ],
      "text/markdown": [
       "\n",
       "| <!--/--> | False | True | MeanDecreaseAccuracy | MeanDecreaseGini |\n",
       "|---|---|---|---|---|\n",
       "| km_dataset_vote_ttl | 17.741839   |  8.55553072 | 22.663091   |  844.33359  |\n",
       "| cvo_num_of_output | 14.406076   |  0.01095269 | 15.617320   |  587.10895  |\n",
       "| km_isNotebook | -3.276302   |  5.72415518 |  7.014182   |   38.52266  |\n",
       "| cvo_num_of_cell | 15.389112   |  7.01511194 | 30.449406   | 1098.31283  |\n",
       "| cvp_num_of_iptfrm | 28.267381   | -2.96577219 | 29.560190   |  793.30320  |\n",
       "| cvp_num_of_ipt |  7.040933   | 13.65982428 | 26.577752   |  544.20671  |\n",
       "| cvp_ipt_te_median | 22.220610   | 20.01479860 | 44.774583   |  872.90990  |\n",
       "| km_num_of_tags | 39.092771   | 20.56135252 | 36.390195   |  564.93118  |\n",
       "\n"
      ],
      "text/plain": [
       "                    False     True        MeanDecreaseAccuracy MeanDecreaseGini\n",
       "km_dataset_vote_ttl 17.741839  8.55553072 22.663091             844.33359      \n",
       "cvo_num_of_output   14.406076  0.01095269 15.617320             587.10895      \n",
       "km_isNotebook       -3.276302  5.72415518  7.014182              38.52266      \n",
       "cvo_num_of_cell     15.389112  7.01511194 30.449406            1098.31283      \n",
       "cvp_num_of_iptfrm   28.267381 -2.96577219 29.560190             793.30320      \n",
       "cvp_num_of_ipt       7.040933 13.65982428 26.577752             544.20671      \n",
       "cvp_ipt_te_median   22.220610 20.01479860 44.774583             872.90990      \n",
       "km_num_of_tags      39.092771 20.56135252 36.390195             564.93118      "
      ]
     },
     "metadata": {},
     "output_type": "display_data"
    }
   ],
   "source": [
    "importance(rf_classifier2)"
   ]
  },
  {
   "cell_type": "markdown",
   "metadata": {},
   "source": [
    "This is AUC. If the stackoverflow gave me the right answer. "
   ]
  },
  {
   "cell_type": "code",
   "execution_count": 15,
   "metadata": {},
   "outputs": [
    {
     "name": "stderr",
     "output_type": "stream",
     "text": [
      "Type 'citation(\"pROC\")' for a citation.\n",
      "\n",
      "Attaching package: 'pROC'\n",
      "\n",
      "The following objects are masked from 'package:stats':\n",
      "\n",
      "    cov, smooth, var\n",
      "\n",
      "Loading required package: gplots\n",
      "\n",
      "Attaching package: 'gplots'\n",
      "\n",
      "The following object is masked from 'package:stats':\n",
      "\n",
      "    lowess\n",
      "\n"
     ]
    }
   ],
   "source": [
    "# import the library that needed in calculating the AUC. \n",
    "library(pROC)\n",
    "library(ROCR)"
   ]
  },
  {
   "cell_type": "code",
   "execution_count": 16,
   "metadata": {},
   "outputs": [
    {
     "data": {
      "text/html": [
       "0.677986005094635"
      ],
      "text/latex": [
       "0.677986005094635"
      ],
      "text/markdown": [
       "0.677986005094635"
      ],
      "text/plain": [
       "[1] 0.677986"
      ]
     },
     "metadata": {},
     "output_type": "display_data"
    }
   ],
   "source": [
    "# https://stackoverflow.com/questions/46776944/how-to-calculate-randomforest-training-auc-in-r\n",
    "# the train AUC\n",
    "rf_p_train <- predict(rf_classifier2, type=\"prob\")[,2]\n",
    "rf_pr_train <- prediction(rf_p_train, train$high_vote)\n",
    "r_auc_train <- performance(rf_pr_train, measure = \"auc\")@y.values[[1]] \n",
    "r_auc_train"
   ]
  },
  {
   "cell_type": "code",
   "execution_count": 17,
   "metadata": {
    "scrolled": true
   },
   "outputs": [
    {
     "data": {
      "text/html": [
       "0.688141681485803"
      ],
      "text/latex": [
       "0.688141681485803"
      ],
      "text/markdown": [
       "0.688141681485803"
      ],
      "text/plain": [
       "[1] 0.6881417"
      ]
     },
     "metadata": {},
     "output_type": "display_data"
    }
   ],
   "source": [
    "#https://stats.stackexchange.com/questions/308645/why-does-randomforest-has-higher-test-auc-than-train-auc-is-this-possible\n",
    "#the test AUC\n",
    "rf_p_test <- predict(rf_classifier2, type=\"prob\", newdata = test)[,2]\n",
    "rf_pr_test <- prediction(rf_p_test, test$high_vote)\n",
    "r_auc_test <- performance(rf_pr_test, measure = \"auc\")@y.values[[1]] \n",
    "r_auc_test"
   ]
  },
  {
   "cell_type": "markdown",
   "metadata": {},
   "source": [
    "### Logistic Regression"
   ]
  },
  {
   "cell_type": "code",
   "execution_count": 18,
   "metadata": {},
   "outputs": [],
   "source": [
    "library(rms)\n",
    "fit <- lrm(high_voted ~ \n",
    "km_dataset_vote_ttl +\n",
    "cvo_num_of_output +\n",
    "km_isNotebook +\n",
    "cvo_num_of_cell +\n",
    "cvp_num_of_iptfrm +\n",
    "cvp_num_of_ipt +\n",
    "cvp_ipt_te_median +\n",
    "km_num_of_tags\n",
    "           ,\n",
    "           data=train, x=T, y=T)"
   ]
  },
  {
   "cell_type": "code",
   "execution_count": 19,
   "metadata": {},
   "outputs": [
    {
     "name": "stdout",
     "output_type": "stream",
     "text": [
      "         AUC AUC_optimism \n",
      "0.6434512055 0.0009310391 \n"
     ]
    }
   ],
   "source": [
    "val <- validate(fit, B=1000)\n",
    "AUC = 0.5 + val[1,1]/2\n",
    "AUC_optimism_reduced = (0.5 + val[1,5]/2)\n",
    "AUC_optimism = AUC - AUC_optimism_reduced\n",
    "print(c(\"AUC\"=AUC,\"AUC_optimism\"=AUC_optimism))"
   ]
  },
  {
   "cell_type": "code",
   "execution_count": null,
   "metadata": {},
   "outputs": [],
   "source": []
  }
 ],
 "metadata": {
  "kernelspec": {
   "display_name": "R",
   "language": "R",
   "name": "ir"
  },
  "language_info": {
   "codemirror_mode": "r",
   "file_extension": ".r",
   "mimetype": "text/x-r-source",
   "name": "R",
   "pygments_lexer": "r",
   "version": "3.5.1"
  }
 },
 "nbformat": 4,
 "nbformat_minor": 2
}
