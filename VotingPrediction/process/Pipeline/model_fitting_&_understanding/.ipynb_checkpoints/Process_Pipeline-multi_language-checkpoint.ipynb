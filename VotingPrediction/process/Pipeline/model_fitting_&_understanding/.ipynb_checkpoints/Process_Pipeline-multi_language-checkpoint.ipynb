{
 "cells": [
  {
   "cell_type": "markdown",
   "metadata": {},
   "source": [
    "# Model fitting and understanding . \n",
    "* V2: The operation process is simplified. "
   ]
  },
  {
   "cell_type": "markdown",
   "metadata": {},
   "source": [
    "* Turn the warning off: \n",
    "~~~~\n",
    "options(warn=-1)\n",
    "~~~~\n",
    "* Turn the warning back on: \n",
    "~~~~\n",
    "options(warn=0)\n",
    "~~~~\n",
    "* reference: https://stackoverflow.com/questions/16194212/how-to-suppress-warnings-globally-in-an-r-script"
   ]
  },
  {
   "cell_type": "code",
   "execution_count": 1,
   "metadata": {},
   "outputs": [],
   "source": [
    "options(warn=-1)"
   ]
  },
  {
   "cell_type": "markdown",
   "metadata": {},
   "source": [
    "## First step is getting the correlationship between those variables. "
   ]
  },
  {
   "cell_type": "code",
   "execution_count": 2,
   "metadata": {},
   "outputs": [
    {
     "name": "stderr",
     "output_type": "stream",
     "text": [
      "Loading required package: Hmisc\n",
      "Loading required package: lattice\n",
      "Loading required package: survival\n",
      "Loading required package: Formula\n",
      "Loading required package: ggplot2\n",
      "\n",
      "Attaching package: 'Hmisc'\n",
      "\n",
      "The following objects are masked from 'package:base':\n",
      "\n",
      "    format.pval, units\n",
      "\n",
      "Loading required package: SparseM\n",
      "\n",
      "Attaching package: 'SparseM'\n",
      "\n",
      "The following object is masked from 'package:base':\n",
      "\n",
      "    backsolve\n",
      "\n"
     ]
    }
   ],
   "source": [
    "library(rms)\n",
    "data <- read.csv('J:/EECS6414/process/Pipeline/Data_cleaning/kernel_datassource.csv')# , stringsAsFactors=FALSE\n",
    "\n",
    "col_name <- names(data)\n",
    "env_vars <- col_name\n",
    "vote_num <- data[c(\"km_votes\")]\n",
    "high_voted <- data[c(\"high_voted\")]\n",
    "reject_vars <- c(#\"kernel_datasets\", # because they are all 1, so we can only get NaN. \n",
    "                 \"kernel\", \"author\", \"id\", \"km_tags\", \n",
    "                \"km_votes\", \"high_voted\",  \n",
    "                \"km_forks\", \"km_comments\", \"km_views\"\n",
    "                 #\"competition\", \"organization\" # unnecessary variables. \n",
    "                 )\n",
    "env_vars <- env_vars[!(env_vars %in% reject_vars)]\n",
    "# for (env in env_vars){\n",
    "#    print(paste(env, \"+\"))\n",
    "# }\n",
    "data <- data[env_vars]"
   ]
  },
  {
   "cell_type": "code",
   "execution_count": 3,
   "metadata": {},
   "outputs": [
    {
     "data": {
      "text/html": [
       "<ol class=list-inline>\n",
       "\t<li>'km_Hidden'</li>\n",
       "\t<li>'km_Notebook'</li>\n",
       "\t<li>'km_null'</li>\n",
       "\t<li>'km_Data'</li>\n",
       "\t<li>'km_Visualization'</li>\n",
       "\t<li>'km_Other'</li>\n",
       "\t<li>'km_language'</li>\n",
       "\t<li>'km_isNotebook'</li>\n",
       "\t<li>'km_dataSources'</li>\n",
       "\t<li>'km_versions'</li>\n",
       "\t<li>'km_competitions'</li>\n",
       "\t<li>'km_competition_size_ttl'</li>\n",
       "\t<li>'km_competition_size_avg'</li>\n",
       "\t<li>'km_competition_size_max'</li>\n",
       "\t<li>'km_competition_size_min'</li>\n",
       "\t<li>'km_competition_discussion_ttl'</li>\n",
       "\t<li>'km_competition_discussion_avg'</li>\n",
       "\t<li>'km_competition_discussion_max'</li>\n",
       "\t<li>'km_competition_discussion_min'</li>\n",
       "\t<li>'km_competition_competitor_ttl'</li>\n",
       "\t<li>'km_competition_competitor_avg'</li>\n",
       "\t<li>'km_competition_competitor_max'</li>\n",
       "\t<li>'km_competition_competitor_min'</li>\n",
       "\t<li>'km_datasets'</li>\n",
       "\t<li>'km_dataset_size_ttl'</li>\n",
       "\t<li>'km_dataset_size_avg'</li>\n",
       "\t<li>'km_dataset_size_max'</li>\n",
       "\t<li>'km_dataset_size_min'</li>\n",
       "\t<li>'km_dataset_discussion_ttl'</li>\n",
       "\t<li>'km_dataset_discussion_avg'</li>\n",
       "\t<li>'km_dataset_discussion_max'</li>\n",
       "\t<li>'km_dataset_discussion_min'</li>\n",
       "\t<li>'km_dataset_kernel_ttl'</li>\n",
       "\t<li>'km_dataset_kernel_avg'</li>\n",
       "\t<li>'km_dataset_kernel_max'</li>\n",
       "\t<li>'km_dataset_kernel_min'</li>\n",
       "\t<li>'km_dataset_download_ttl'</li>\n",
       "\t<li>'km_dataset_download_avg'</li>\n",
       "\t<li>'km_dataset_download_max'</li>\n",
       "\t<li>'km_dataset_download_min'</li>\n",
       "\t<li>'km_dataset_view_ttl'</li>\n",
       "\t<li>'km_dataset_view_avg'</li>\n",
       "\t<li>'km_dataset_view_max'</li>\n",
       "\t<li>'km_dataset_view_min'</li>\n",
       "\t<li>'km_dataset_vote_ttl'</li>\n",
       "\t<li>'km_dataset_vote_avg'</li>\n",
       "\t<li>'km_dataset_vote_max'</li>\n",
       "\t<li>'km_dataset_vote_min'</li>\n",
       "\t<li>'km_dataset_version_ttl'</li>\n",
       "\t<li>'km_dataset_version_avg'</li>\n",
       "\t<li>'km_dataset_version_max'</li>\n",
       "\t<li>'km_dataset_version_min'</li>\n",
       "\t<li>'km_num_of_tags'</li>\n",
       "\t<li>'km_tags_te_sum'</li>\n",
       "\t<li>'km_tags_te_avg'</li>\n",
       "\t<li>'km_tags_te_max'</li>\n",
       "\t<li>'km_tags_te_min'</li>\n",
       "\t<li>'km_tags_te_median'</li>\n",
       "</ol>\n"
      ],
      "text/latex": [
       "\\begin{enumerate*}\n",
       "\\item 'km\\_Hidden'\n",
       "\\item 'km\\_Notebook'\n",
       "\\item 'km\\_null'\n",
       "\\item 'km\\_Data'\n",
       "\\item 'km\\_Visualization'\n",
       "\\item 'km\\_Other'\n",
       "\\item 'km\\_language'\n",
       "\\item 'km\\_isNotebook'\n",
       "\\item 'km\\_dataSources'\n",
       "\\item 'km\\_versions'\n",
       "\\item 'km\\_competitions'\n",
       "\\item 'km\\_competition\\_size\\_ttl'\n",
       "\\item 'km\\_competition\\_size\\_avg'\n",
       "\\item 'km\\_competition\\_size\\_max'\n",
       "\\item 'km\\_competition\\_size\\_min'\n",
       "\\item 'km\\_competition\\_discussion\\_ttl'\n",
       "\\item 'km\\_competition\\_discussion\\_avg'\n",
       "\\item 'km\\_competition\\_discussion\\_max'\n",
       "\\item 'km\\_competition\\_discussion\\_min'\n",
       "\\item 'km\\_competition\\_competitor\\_ttl'\n",
       "\\item 'km\\_competition\\_competitor\\_avg'\n",
       "\\item 'km\\_competition\\_competitor\\_max'\n",
       "\\item 'km\\_competition\\_competitor\\_min'\n",
       "\\item 'km\\_datasets'\n",
       "\\item 'km\\_dataset\\_size\\_ttl'\n",
       "\\item 'km\\_dataset\\_size\\_avg'\n",
       "\\item 'km\\_dataset\\_size\\_max'\n",
       "\\item 'km\\_dataset\\_size\\_min'\n",
       "\\item 'km\\_dataset\\_discussion\\_ttl'\n",
       "\\item 'km\\_dataset\\_discussion\\_avg'\n",
       "\\item 'km\\_dataset\\_discussion\\_max'\n",
       "\\item 'km\\_dataset\\_discussion\\_min'\n",
       "\\item 'km\\_dataset\\_kernel\\_ttl'\n",
       "\\item 'km\\_dataset\\_kernel\\_avg'\n",
       "\\item 'km\\_dataset\\_kernel\\_max'\n",
       "\\item 'km\\_dataset\\_kernel\\_min'\n",
       "\\item 'km\\_dataset\\_download\\_ttl'\n",
       "\\item 'km\\_dataset\\_download\\_avg'\n",
       "\\item 'km\\_dataset\\_download\\_max'\n",
       "\\item 'km\\_dataset\\_download\\_min'\n",
       "\\item 'km\\_dataset\\_view\\_ttl'\n",
       "\\item 'km\\_dataset\\_view\\_avg'\n",
       "\\item 'km\\_dataset\\_view\\_max'\n",
       "\\item 'km\\_dataset\\_view\\_min'\n",
       "\\item 'km\\_dataset\\_vote\\_ttl'\n",
       "\\item 'km\\_dataset\\_vote\\_avg'\n",
       "\\item 'km\\_dataset\\_vote\\_max'\n",
       "\\item 'km\\_dataset\\_vote\\_min'\n",
       "\\item 'km\\_dataset\\_version\\_ttl'\n",
       "\\item 'km\\_dataset\\_version\\_avg'\n",
       "\\item 'km\\_dataset\\_version\\_max'\n",
       "\\item 'km\\_dataset\\_version\\_min'\n",
       "\\item 'km\\_num\\_of\\_tags'\n",
       "\\item 'km\\_tags\\_te\\_sum'\n",
       "\\item 'km\\_tags\\_te\\_avg'\n",
       "\\item 'km\\_tags\\_te\\_max'\n",
       "\\item 'km\\_tags\\_te\\_min'\n",
       "\\item 'km\\_tags\\_te\\_median'\n",
       "\\end{enumerate*}\n"
      ],
      "text/markdown": [
       "1. 'km_Hidden'\n",
       "2. 'km_Notebook'\n",
       "3. 'km_null'\n",
       "4. 'km_Data'\n",
       "5. 'km_Visualization'\n",
       "6. 'km_Other'\n",
       "7. 'km_language'\n",
       "8. 'km_isNotebook'\n",
       "9. 'km_dataSources'\n",
       "10. 'km_versions'\n",
       "11. 'km_competitions'\n",
       "12. 'km_competition_size_ttl'\n",
       "13. 'km_competition_size_avg'\n",
       "14. 'km_competition_size_max'\n",
       "15. 'km_competition_size_min'\n",
       "16. 'km_competition_discussion_ttl'\n",
       "17. 'km_competition_discussion_avg'\n",
       "18. 'km_competition_discussion_max'\n",
       "19. 'km_competition_discussion_min'\n",
       "20. 'km_competition_competitor_ttl'\n",
       "21. 'km_competition_competitor_avg'\n",
       "22. 'km_competition_competitor_max'\n",
       "23. 'km_competition_competitor_min'\n",
       "24. 'km_datasets'\n",
       "25. 'km_dataset_size_ttl'\n",
       "26. 'km_dataset_size_avg'\n",
       "27. 'km_dataset_size_max'\n",
       "28. 'km_dataset_size_min'\n",
       "29. 'km_dataset_discussion_ttl'\n",
       "30. 'km_dataset_discussion_avg'\n",
       "31. 'km_dataset_discussion_max'\n",
       "32. 'km_dataset_discussion_min'\n",
       "33. 'km_dataset_kernel_ttl'\n",
       "34. 'km_dataset_kernel_avg'\n",
       "35. 'km_dataset_kernel_max'\n",
       "36. 'km_dataset_kernel_min'\n",
       "37. 'km_dataset_download_ttl'\n",
       "38. 'km_dataset_download_avg'\n",
       "39. 'km_dataset_download_max'\n",
       "40. 'km_dataset_download_min'\n",
       "41. 'km_dataset_view_ttl'\n",
       "42. 'km_dataset_view_avg'\n",
       "43. 'km_dataset_view_max'\n",
       "44. 'km_dataset_view_min'\n",
       "45. 'km_dataset_vote_ttl'\n",
       "46. 'km_dataset_vote_avg'\n",
       "47. 'km_dataset_vote_max'\n",
       "48. 'km_dataset_vote_min'\n",
       "49. 'km_dataset_version_ttl'\n",
       "50. 'km_dataset_version_avg'\n",
       "51. 'km_dataset_version_max'\n",
       "52. 'km_dataset_version_min'\n",
       "53. 'km_num_of_tags'\n",
       "54. 'km_tags_te_sum'\n",
       "55. 'km_tags_te_avg'\n",
       "56. 'km_tags_te_max'\n",
       "57. 'km_tags_te_min'\n",
       "58. 'km_tags_te_median'\n",
       "\n",
       "\n"
      ],
      "text/plain": [
       " [1] \"km_Hidden\"                     \"km_Notebook\"                  \n",
       " [3] \"km_null\"                       \"km_Data\"                      \n",
       " [5] \"km_Visualization\"              \"km_Other\"                     \n",
       " [7] \"km_language\"                   \"km_isNotebook\"                \n",
       " [9] \"km_dataSources\"                \"km_versions\"                  \n",
       "[11] \"km_competitions\"               \"km_competition_size_ttl\"      \n",
       "[13] \"km_competition_size_avg\"       \"km_competition_size_max\"      \n",
       "[15] \"km_competition_size_min\"       \"km_competition_discussion_ttl\"\n",
       "[17] \"km_competition_discussion_avg\" \"km_competition_discussion_max\"\n",
       "[19] \"km_competition_discussion_min\" \"km_competition_competitor_ttl\"\n",
       "[21] \"km_competition_competitor_avg\" \"km_competition_competitor_max\"\n",
       "[23] \"km_competition_competitor_min\" \"km_datasets\"                  \n",
       "[25] \"km_dataset_size_ttl\"           \"km_dataset_size_avg\"          \n",
       "[27] \"km_dataset_size_max\"           \"km_dataset_size_min\"          \n",
       "[29] \"km_dataset_discussion_ttl\"     \"km_dataset_discussion_avg\"    \n",
       "[31] \"km_dataset_discussion_max\"     \"km_dataset_discussion_min\"    \n",
       "[33] \"km_dataset_kernel_ttl\"         \"km_dataset_kernel_avg\"        \n",
       "[35] \"km_dataset_kernel_max\"         \"km_dataset_kernel_min\"        \n",
       "[37] \"km_dataset_download_ttl\"       \"km_dataset_download_avg\"      \n",
       "[39] \"km_dataset_download_max\"       \"km_dataset_download_min\"      \n",
       "[41] \"km_dataset_view_ttl\"           \"km_dataset_view_avg\"          \n",
       "[43] \"km_dataset_view_max\"           \"km_dataset_view_min\"          \n",
       "[45] \"km_dataset_vote_ttl\"           \"km_dataset_vote_avg\"          \n",
       "[47] \"km_dataset_vote_max\"           \"km_dataset_vote_min\"          \n",
       "[49] \"km_dataset_version_ttl\"        \"km_dataset_version_avg\"       \n",
       "[51] \"km_dataset_version_max\"        \"km_dataset_version_min\"       \n",
       "[53] \"km_num_of_tags\"                \"km_tags_te_sum\"               \n",
       "[55] \"km_tags_te_avg\"                \"km_tags_te_max\"               \n",
       "[57] \"km_tags_te_min\"                \"km_tags_te_median\"            "
      ]
     },
     "metadata": {},
     "output_type": "display_data"
    }
   ],
   "source": [
    "env_vars"
   ]
  },
  {
   "cell_type": "code",
   "execution_count": 4,
   "metadata": {},
   "outputs": [
    {
     "data": {
      "text/html": [
       "<strong>png:</strong> 2"
      ],
      "text/latex": [
       "\\textbf{png:} 2"
      ],
      "text/markdown": [
       "**png:** 2"
      ],
      "text/plain": [
       "png \n",
       "  2 "
      ]
     },
     "metadata": {},
     "output_type": "display_data"
    },
    {
     "data": {
      "image/png": "[encoded data removed]",
      "text/plain": [
       "plot without title"
      ]
     },
     "metadata": {},
     "output_type": "display_data"
    }
   ],
   "source": [
    "vcobj = varclus(~ ., \n",
    "                \n",
    "                data = data, \n",
    "                \n",
    "                similarity = \"spearman\",\n",
    "                \n",
    "                trans = \"abs\"\n",
    ")\n",
    "\n",
    "pdf(file=\"correlation.pdf\", width = 15, height = 15)\n",
    "plot(vcobj)\n",
    "thresh = 0.7\n",
    "abline (h = 1 - thresh, col = \"red\", lty = 2)\n",
    "dev.off()\n",
    "\n",
    "plot(vcobj)\n",
    "thresh = 0.7\n",
    "abline (h = 1 - thresh, col = \"red\", lty = 2)\n",
    "\n",
    "# reject variables that closely related to each other. For now, we don't do this thing. \n",
    "# reject_vars <- c()\n",
    "# env_vars <- env_vars[!(env_vars %in% reject_vars)]"
   ]
  },
  {
   "cell_type": "code",
   "execution_count": 5,
   "metadata": {},
   "outputs": [],
   "source": [
    "env_vars <- c(\"km_dataset_discussion_avg\", \n",
    "              \n",
    "              \"km_competition_size_avg\", \n",
    "              \n",
    "              \n",
    "              \"km_competition_competitor_avg\",\n",
    "              \n",
    "              \"km_tags_te_avg\", \n",
    "              \n",
    "              \"km_dataSources\",\n",
    "              \"km_Data\",\n",
    "              \"km_versions\",\n",
    "              \"km_isNotebook\",\n",
    "              \"km_Hidden\",\n",
    "              \"km_Notebook\",\n",
    "              \"km_Visualization\",\n",
    "              \"km_null\",\n",
    "              \"km_Other\", \n",
    "              \"km_language\"\n",
    "             )\n",
    "data <- data[env_vars]"
   ]
  },
  {
   "cell_type": "code",
   "execution_count": 7,
   "metadata": {},
   "outputs": [
    {
     "data": {
      "text/html": [
       "<strong>png:</strong> 2"
      ],
      "text/latex": [
       "\\textbf{png:} 2"
      ],
      "text/markdown": [
       "**png:** 2"
      ],
      "text/plain": [
       "png \n",
       "  2 "
      ]
     },
     "metadata": {},
     "output_type": "display_data"
    },
    {
     "data": {
      "image/png": "[encoded data removed]",
      "text/plain": [
       "plot without title"
      ]
     },
     "metadata": {},
     "output_type": "display_data"
    }
   ],
   "source": [
    "vcobj = varclus(~ .,\n",
    "                \n",
    "                data = data, \n",
    "                \n",
    "                similarity = \"spearman\",\n",
    "                \n",
    "                trans = \"abs\"\n",
    ")\n",
    "\n",
    "pdf(file=\"correlation1.pdf\", width = 11, height = 8.5)\n",
    "plot(vcobj)\n",
    "thresh = 0.7\n",
    "abline (h = 1 - thresh, col = \"red\", lty = 2)\n",
    "dev.off()\n",
    "\n",
    "plot(vcobj)\n",
    "thresh = 0.7\n",
    "abline (h = 1 - thresh, col = \"red\", lty = 2)\n",
    "\n",
    "# reject variables that closely related to each other. For now, we don't do this thing. \n",
    "reject_vars <- c()\n",
    "env_vars <- env_vars[!(env_vars %in% reject_vars)]"
   ]
  },
  {
   "cell_type": "code",
   "execution_count": 6,
   "metadata": {
    "scrolled": false
   },
   "outputs": [
    {
     "data": {
      "text/html": [
       "<strong>png:</strong> 2"
      ],
      "text/latex": [
       "\\textbf{png:} 2"
      ],
      "text/markdown": [
       "**png:** 2"
      ],
      "text/plain": [
       "png \n",
       "  2 "
      ]
     },
     "metadata": {},
     "output_type": "display_data"
    },
    {
     "data": {
      "image/png": "[encoded data removed]",
      "text/plain": [
       "plot without title"
      ]
     },
     "metadata": {},
     "output_type": "display_data"
    }
   ],
   "source": [
    "reject_vars <- c(\"km_competition_competitor_avg\")\n",
    "env_vars <- env_vars[!(env_vars %in% reject_vars)]\n",
    "data <- data[env_vars]\n",
    "\n",
    "vcobj = varclus(~ .,\n",
    "                \n",
    "                data = data, \n",
    "                \n",
    "                similarity = \"spearman\",\n",
    "                \n",
    "                trans = \"abs\"\n",
    ")\n",
    "\n",
    "pdf(file=\"correlation2.pdf\", width = 11, height = 8.5)\n",
    "plot(vcobj)\n",
    "thresh = 0.7\n",
    "abline (h = 1 - thresh, col = \"red\", lty = 2)\n",
    "dev.off()\n",
    "\n",
    "plot(vcobj)\n",
    "thresh = 0.7\n",
    "abline (h = 1 - thresh, col = \"red\", lty = 2)"
   ]
  },
  {
   "cell_type": "markdown",
   "metadata": {},
   "source": [
    "## Second Step is to prepare the dataframe, add the voted column back to dataframe. "
   ]
  },
  {
   "cell_type": "markdown",
   "metadata": {},
   "source": [
    "random forest model fitting referece: https://www.blopig.com/blog/2017/04/a-very-basic-introduction-to-random-forests-using-r/"
   ]
  },
  {
   "cell_type": "markdown",
   "metadata": {},
   "source": [
    "### binary classification: "
   ]
  },
  {
   "cell_type": "code",
   "execution_count": 7,
   "metadata": {},
   "outputs": [],
   "source": [
    "data_classification = cbind(data, high_voted)"
   ]
  },
  {
   "cell_type": "code",
   "execution_count": 8,
   "metadata": {
    "scrolled": true
   },
   "outputs": [
    {
     "data": {
      "text/html": [
       "<table>\n",
       "<thead><tr><th scope=col>km_dataset_discussion_avg</th><th scope=col>km_competition_size_avg</th><th scope=col>km_tags_te_avg</th><th scope=col>km_dataSources</th><th scope=col>km_Data</th><th scope=col>km_versions</th><th scope=col>km_isNotebook</th><th scope=col>km_Hidden</th><th scope=col>km_Notebook</th><th scope=col>km_Visualization</th><th scope=col>km_null</th><th scope=col>km_Other</th><th scope=col>km_language</th><th scope=col>high_voted</th></tr></thead>\n",
       "<tbody>\n",
       "\t<tr><td>0         </td><td>2429309862</td><td>0.7687287 </td><td>1         </td><td>1         </td><td>58        </td><td>0.1895888 </td><td>2         </td><td>1         </td><td> 7        </td><td>6         </td><td>0         </td><td>0.1895063 </td><td>True      </td></tr>\n",
       "\t<tr><td>0         </td><td> 256630325</td><td>0.1741977 </td><td>1         </td><td>0         </td><td> 2        </td><td>0.1895888 </td><td>1         </td><td>1         </td><td> 0        </td><td>0         </td><td>0         </td><td>0.1895063 </td><td>True      </td></tr>\n",
       "\t<tr><td>0         </td><td> 256630325</td><td>0.1741977 </td><td>1         </td><td>0         </td><td> 1        </td><td>0.1895888 </td><td>1         </td><td>1         </td><td> 0        </td><td>0         </td><td>0         </td><td>0.1895063 </td><td>True      </td></tr>\n",
       "\t<tr><td>0         </td><td>     34757</td><td>0.7414633 </td><td>1         </td><td>0         </td><td> 5        </td><td>0.1895888 </td><td>1         </td><td>1         </td><td> 2        </td><td>0         </td><td>0         </td><td>0.1895063 </td><td>True      </td></tr>\n",
       "\t<tr><td>0         </td><td> 256630325</td><td>0.1741977 </td><td>1         </td><td>0         </td><td> 3        </td><td>0.1895888 </td><td>1         </td><td>1         </td><td> 0        </td><td>0         </td><td>0         </td><td>0.1895063 </td><td>True      </td></tr>\n",
       "\t<tr><td>0         </td><td> 256630325</td><td>0.7604732 </td><td>1         </td><td>1         </td><td>12        </td><td>0.1895888 </td><td>1         </td><td>1         </td><td>24        </td><td>0         </td><td>0         </td><td>0.1895063 </td><td>True      </td></tr>\n",
       "</tbody>\n",
       "</table>\n"
      ],
      "text/latex": [
       "\\begin{tabular}{r|llllllllllllll}\n",
       " km\\_dataset\\_discussion\\_avg & km\\_competition\\_size\\_avg & km\\_tags\\_te\\_avg & km\\_dataSources & km\\_Data & km\\_versions & km\\_isNotebook & km\\_Hidden & km\\_Notebook & km\\_Visualization & km\\_null & km\\_Other & km\\_language & high\\_voted\\\\\n",
       "\\hline\n",
       "\t 0          & 2429309862 & 0.7687287  & 1          & 1          & 58         & 0.1895888  & 2          & 1          &  7         & 6          & 0          & 0.1895063  & True      \\\\\n",
       "\t 0          &  256630325 & 0.1741977  & 1          & 0          &  2         & 0.1895888  & 1          & 1          &  0         & 0          & 0          & 0.1895063  & True      \\\\\n",
       "\t 0          &  256630325 & 0.1741977  & 1          & 0          &  1         & 0.1895888  & 1          & 1          &  0         & 0          & 0          & 0.1895063  & True      \\\\\n",
       "\t 0          &      34757 & 0.7414633  & 1          & 0          &  5         & 0.1895888  & 1          & 1          &  2         & 0          & 0          & 0.1895063  & True      \\\\\n",
       "\t 0          &  256630325 & 0.1741977  & 1          & 0          &  3         & 0.1895888  & 1          & 1          &  0         & 0          & 0          & 0.1895063  & True      \\\\\n",
       "\t 0          &  256630325 & 0.7604732  & 1          & 1          & 12         & 0.1895888  & 1          & 1          & 24         & 0          & 0          & 0.1895063  & True      \\\\\n",
       "\\end{tabular}\n"
      ],
      "text/markdown": [
       "\n",
       "| km_dataset_discussion_avg | km_competition_size_avg | km_tags_te_avg | km_dataSources | km_Data | km_versions | km_isNotebook | km_Hidden | km_Notebook | km_Visualization | km_null | km_Other | km_language | high_voted |\n",
       "|---|---|---|---|---|---|---|---|---|---|---|---|---|---|\n",
       "| 0          | 2429309862 | 0.7687287  | 1          | 1          | 58         | 0.1895888  | 2          | 1          |  7         | 6          | 0          | 0.1895063  | True       |\n",
       "| 0          |  256630325 | 0.1741977  | 1          | 0          |  2         | 0.1895888  | 1          | 1          |  0         | 0          | 0          | 0.1895063  | True       |\n",
       "| 0          |  256630325 | 0.1741977  | 1          | 0          |  1         | 0.1895888  | 1          | 1          |  0         | 0          | 0          | 0.1895063  | True       |\n",
       "| 0          |      34757 | 0.7414633  | 1          | 0          |  5         | 0.1895888  | 1          | 1          |  2         | 0          | 0          | 0.1895063  | True       |\n",
       "| 0          |  256630325 | 0.1741977  | 1          | 0          |  3         | 0.1895888  | 1          | 1          |  0         | 0          | 0          | 0.1895063  | True       |\n",
       "| 0          |  256630325 | 0.7604732  | 1          | 1          | 12         | 0.1895888  | 1          | 1          | 24         | 0          | 0          | 0.1895063  | True       |\n",
       "\n"
      ],
      "text/plain": [
       "  km_dataset_discussion_avg km_competition_size_avg km_tags_te_avg\n",
       "1 0                         2429309862              0.7687287     \n",
       "2 0                          256630325              0.1741977     \n",
       "3 0                          256630325              0.1741977     \n",
       "4 0                              34757              0.7414633     \n",
       "5 0                          256630325              0.1741977     \n",
       "6 0                          256630325              0.7604732     \n",
       "  km_dataSources km_Data km_versions km_isNotebook km_Hidden km_Notebook\n",
       "1 1              1       58          0.1895888     2         1          \n",
       "2 1              0        2          0.1895888     1         1          \n",
       "3 1              0        1          0.1895888     1         1          \n",
       "4 1              0        5          0.1895888     1         1          \n",
       "5 1              0        3          0.1895888     1         1          \n",
       "6 1              1       12          0.1895888     1         1          \n",
       "  km_Visualization km_null km_Other km_language high_voted\n",
       "1  7               6       0        0.1895063   True      \n",
       "2  0               0       0        0.1895063   True      \n",
       "3  0               0       0        0.1895063   True      \n",
       "4  2               0       0        0.1895063   True      \n",
       "5  0               0       0        0.1895063   True      \n",
       "6 24               0       0        0.1895063   True      "
      ]
     },
     "metadata": {},
     "output_type": "display_data"
    }
   ],
   "source": [
    "head(data_classification)"
   ]
  },
  {
   "cell_type": "markdown",
   "metadata": {},
   "source": [
    "This step is used for generating the binary label. "
   ]
  },
  {
   "cell_type": "code",
   "execution_count": 9,
   "metadata": {},
   "outputs": [
    {
     "data": {
      "text/plain": [
       " km_dataset_discussion_avg km_competition_size_avg km_tags_te_avg  \n",
       " Min.   : 0.000            Min.   :0.000e+00       Min.   :0.0000  \n",
       " 1st Qu.: 0.000            1st Qu.:0.000e+00       1st Qu.:0.1742  \n",
       " Median : 0.000            Median :3.476e+04       Median :0.1742  \n",
       " Mean   : 3.472            Mean   :7.020e+08       Mean   :0.2109  \n",
       " 3rd Qu.: 3.000            3rd Qu.:1.605e+07       3rd Qu.:0.1742  \n",
       " Max.   :51.000            Max.   :1.026e+11       Max.   :1.0000  \n",
       " km_dataSources      km_Data          km_versions       km_isNotebook   \n",
       " Min.   : 0.000   Min.   :  0.0000   Min.   :   0.000   Min.   :0.1896  \n",
       " 1st Qu.: 1.000   1st Qu.:  0.0000   1st Qu.:   0.000   1st Qu.:0.1896  \n",
       " Median : 1.000   Median :  0.0000   Median :   1.000   Median :0.1896  \n",
       " Mean   : 1.058   Mean   :  0.2447   Mean   :   3.804   Mean   :0.2089  \n",
       " 3rd Qu.: 1.000   3rd Qu.:  0.0000   3rd Qu.:   3.000   3rd Qu.:0.1896  \n",
       " Max.   :58.000   Max.   :194.0000   Max.   :4046.000   Max.   :0.2965  \n",
       "   km_Hidden        km_Notebook      km_Visualization      km_null         \n",
       " Min.   :  0.000   Min.   : 0.0000   Min.   :    0.00   Min.   :    0.000  \n",
       " 1st Qu.:  1.000   1st Qu.: 0.0000   1st Qu.:    0.00   1st Qu.:    0.000  \n",
       " Median :  1.000   Median : 1.0000   Median :    0.00   Median :    0.000  \n",
       " Mean   :  1.364   Mean   : 0.6577   Mean   :    2.86   Mean   :    0.692  \n",
       " 3rd Qu.:  1.000   3rd Qu.: 1.0000   3rd Qu.:    2.00   3rd Qu.:    0.000  \n",
       " Max.   :211.000   Max.   :30.0000   Max.   :32744.00   Max.   :14111.000  \n",
       "    km_Other         km_language     high_voted    \n",
       " Min.   :0.00e+00   Min.   :0.1814   False:155818  \n",
       " 1st Qu.:0.00e+00   1st Qu.:0.1895   True : 41151  \n",
       " Median :0.00e+00   Median :0.1895                 \n",
       " Mean   :7.66e-03   Mean   :0.2089                 \n",
       " 3rd Qu.:0.00e+00   3rd Qu.:0.1895                 \n",
       " Max.   :2.05e+02   Max.   :0.3213                 "
      ]
     },
     "metadata": {},
     "output_type": "display_data"
    }
   ],
   "source": [
    "summary(data_classification)"
   ]
  },
  {
   "cell_type": "markdown",
   "metadata": {},
   "source": [
    "## Then Divide the training and testing data"
   ]
  },
  {
   "cell_type": "code",
   "execution_count": 10,
   "metadata": {},
   "outputs": [],
   "source": [
    "## 75% of the sample size\n",
    "smp_size <- floor(0.75 * nrow(data_classification))\n",
    "\n",
    "## set the seed to make your partition reproducible\n",
    "set.seed(123)\n",
    "train_ind <- sample(seq_len(nrow(data_classification)), size = smp_size)\n",
    "\n",
    "train <- data_classification[train_ind, ]\n",
    "test <- data_classification[-train_ind, ]"
   ]
  },
  {
   "cell_type": "markdown",
   "metadata": {},
   "source": [
    "Then we fit the model."
   ]
  },
  {
   "cell_type": "code",
   "execution_count": 11,
   "metadata": {},
   "outputs": [
    {
     "name": "stderr",
     "output_type": "stream",
     "text": [
      "randomForest 4.6-14\n",
      "Type rfNews() to see new features/changes/bug fixes.\n",
      "\n",
      "Attaching package: 'randomForest'\n",
      "\n",
      "The following object is masked from 'package:ggplot2':\n",
      "\n",
      "    margin\n",
      "\n"
     ]
    },
    {
     "data": {
      "text/plain": [
       "\n",
       "Call:\n",
       " randomForest(formula = as.factor(high_voted) ~ ., data = train,      ntree = 100, mtry = 2, importance = TRUE) \n",
       "               Type of random forest: classification\n",
       "                     Number of trees: 100\n",
       "No. of variables tried at each split: 2\n",
       "\n",
       "        OOB estimate of  error rate: 15.62%\n",
       "Confusion matrix:\n",
       "       False  True class.error\n",
       "False 112300  4608  0.03941561\n",
       "True   18466 12352  0.59919528"
      ]
     },
     "metadata": {},
     "output_type": "display_data"
    }
   ],
   "source": [
    "#import the package\n",
    "library(randomForest)\n",
    "# Perform training:\n",
    "rf_classifier2 = randomForest(as.factor(high_voted) ~ ., data=train, ntree=100, mtry=2, importance=TRUE)\n",
    "# because of the as.factor(...), randomforest can fit a classification model. \n",
    "rf_classifier2"
   ]
  },
  {
   "cell_type": "code",
   "execution_count": 12,
   "metadata": {},
   "outputs": [
    {
     "data": {
      "text/html": [
       "<table>\n",
       "<thead><tr><th></th><th scope=col>False</th><th scope=col>True</th><th scope=col>MeanDecreaseAccuracy</th><th scope=col>MeanDecreaseGini</th></tr></thead>\n",
       "<tbody>\n",
       "\t<tr><th scope=row>km_dataset_discussion_avg</th><td>10.669504 </td><td> 6.3479312</td><td>14.745636 </td><td> 488.42617</td></tr>\n",
       "\t<tr><th scope=row>km_competition_size_avg</th><td>12.818667 </td><td> 7.3062200</td><td>19.645591 </td><td> 921.18828</td></tr>\n",
       "\t<tr><th scope=row>km_tags_te_avg</th><td>28.031646 </td><td>32.6773369</td><td>35.179571 </td><td>3503.22378</td></tr>\n",
       "\t<tr><th scope=row>km_dataSources</th><td>21.200391 </td><td>-1.8980494</td><td>21.843020 </td><td> 304.89768</td></tr>\n",
       "\t<tr><th scope=row>km_Data</th><td> 8.455909 </td><td> 9.8494132</td><td>16.648420 </td><td> 579.88829</td></tr>\n",
       "\t<tr><th scope=row>km_versions</th><td>16.232188 </td><td>29.6468894</td><td>26.942421 </td><td>6428.43584</td></tr>\n",
       "\t<tr><th scope=row>km_isNotebook</th><td>11.906421 </td><td>-2.4981528</td><td>12.615473 </td><td> 336.52355</td></tr>\n",
       "\t<tr><th scope=row>km_Hidden</th><td>13.155291 </td><td>-2.8266810</td><td>15.569914 </td><td> 569.97350</td></tr>\n",
       "\t<tr><th scope=row>km_Notebook</th><td>16.981516 </td><td>-1.0340617</td><td>20.415291 </td><td> 599.46175</td></tr>\n",
       "\t<tr><th scope=row>km_Visualization</th><td>14.823463 </td><td>24.0774805</td><td>30.346068 </td><td>2637.29292</td></tr>\n",
       "\t<tr><th scope=row>km_null</th><td>15.906445 </td><td> 6.1995969</td><td>17.628298 </td><td> 559.81910</td></tr>\n",
       "\t<tr><th scope=row>km_Other</th><td>10.149637 </td><td>-3.1170723</td><td> 8.240627 </td><td>  46.37222</td></tr>\n",
       "\t<tr><th scope=row>km_language</th><td>15.773938 </td><td>-0.2652964</td><td>17.352169 </td><td> 221.72095</td></tr>\n",
       "</tbody>\n",
       "</table>\n"
      ],
      "text/latex": [
       "\\begin{tabular}{r|llll}\n",
       "  & False & True & MeanDecreaseAccuracy & MeanDecreaseGini\\\\\n",
       "\\hline\n",
       "\tkm\\_dataset\\_discussion\\_avg & 10.669504  &  6.3479312 & 14.745636  &  488.42617\\\\\n",
       "\tkm\\_competition\\_size\\_avg & 12.818667  &  7.3062200 & 19.645591  &  921.18828\\\\\n",
       "\tkm\\_tags\\_te\\_avg & 28.031646  & 32.6773369 & 35.179571  & 3503.22378\\\\\n",
       "\tkm\\_dataSources & 21.200391  & -1.8980494 & 21.843020  &  304.89768\\\\\n",
       "\tkm\\_Data &  8.455909  &  9.8494132 & 16.648420  &  579.88829\\\\\n",
       "\tkm\\_versions & 16.232188  & 29.6468894 & 26.942421  & 6428.43584\\\\\n",
       "\tkm\\_isNotebook & 11.906421  & -2.4981528 & 12.615473  &  336.52355\\\\\n",
       "\tkm\\_Hidden & 13.155291  & -2.8266810 & 15.569914  &  569.97350\\\\\n",
       "\tkm\\_Notebook & 16.981516  & -1.0340617 & 20.415291  &  599.46175\\\\\n",
       "\tkm\\_Visualization & 14.823463  & 24.0774805 & 30.346068  & 2637.29292\\\\\n",
       "\tkm\\_null & 15.906445  &  6.1995969 & 17.628298  &  559.81910\\\\\n",
       "\tkm\\_Other & 10.149637  & -3.1170723 &  8.240627  &   46.37222\\\\\n",
       "\tkm\\_language & 15.773938  & -0.2652964 & 17.352169  &  221.72095\\\\\n",
       "\\end{tabular}\n"
      ],
      "text/markdown": [
       "\n",
       "| <!--/--> | False | True | MeanDecreaseAccuracy | MeanDecreaseGini |\n",
       "|---|---|---|---|---|\n",
       "| km_dataset_discussion_avg | 10.669504  |  6.3479312 | 14.745636  |  488.42617 |\n",
       "| km_competition_size_avg | 12.818667  |  7.3062200 | 19.645591  |  921.18828 |\n",
       "| km_tags_te_avg | 28.031646  | 32.6773369 | 35.179571  | 3503.22378 |\n",
       "| km_dataSources | 21.200391  | -1.8980494 | 21.843020  |  304.89768 |\n",
       "| km_Data |  8.455909  |  9.8494132 | 16.648420  |  579.88829 |\n",
       "| km_versions | 16.232188  | 29.6468894 | 26.942421  | 6428.43584 |\n",
       "| km_isNotebook | 11.906421  | -2.4981528 | 12.615473  |  336.52355 |\n",
       "| km_Hidden | 13.155291  | -2.8266810 | 15.569914  |  569.97350 |\n",
       "| km_Notebook | 16.981516  | -1.0340617 | 20.415291  |  599.46175 |\n",
       "| km_Visualization | 14.823463  | 24.0774805 | 30.346068  | 2637.29292 |\n",
       "| km_null | 15.906445  |  6.1995969 | 17.628298  |  559.81910 |\n",
       "| km_Other | 10.149637  | -3.1170723 |  8.240627  |   46.37222 |\n",
       "| km_language | 15.773938  | -0.2652964 | 17.352169  |  221.72095 |\n",
       "\n"
      ],
      "text/plain": [
       "                          False     True       MeanDecreaseAccuracy\n",
       "km_dataset_discussion_avg 10.669504  6.3479312 14.745636           \n",
       "km_competition_size_avg   12.818667  7.3062200 19.645591           \n",
       "km_tags_te_avg            28.031646 32.6773369 35.179571           \n",
       "km_dataSources            21.200391 -1.8980494 21.843020           \n",
       "km_Data                    8.455909  9.8494132 16.648420           \n",
       "km_versions               16.232188 29.6468894 26.942421           \n",
       "km_isNotebook             11.906421 -2.4981528 12.615473           \n",
       "km_Hidden                 13.155291 -2.8266810 15.569914           \n",
       "km_Notebook               16.981516 -1.0340617 20.415291           \n",
       "km_Visualization          14.823463 24.0774805 30.346068           \n",
       "km_null                   15.906445  6.1995969 17.628298           \n",
       "km_Other                  10.149637 -3.1170723  8.240627           \n",
       "km_language               15.773938 -0.2652964 17.352169           \n",
       "                          MeanDecreaseGini\n",
       "km_dataset_discussion_avg  488.42617      \n",
       "km_competition_size_avg    921.18828      \n",
       "km_tags_te_avg            3503.22378      \n",
       "km_dataSources             304.89768      \n",
       "km_Data                    579.88829      \n",
       "km_versions               6428.43584      \n",
       "km_isNotebook              336.52355      \n",
       "km_Hidden                  569.97350      \n",
       "km_Notebook                599.46175      \n",
       "km_Visualization          2637.29292      \n",
       "km_null                    559.81910      \n",
       "km_Other                    46.37222      \n",
       "km_language                221.72095      "
      ]
     },
     "metadata": {},
     "output_type": "display_data"
    }
   ],
   "source": [
    "importance(rf_classifier2)"
   ]
  },
  {
   "cell_type": "code",
   "execution_count": 13,
   "metadata": {},
   "outputs": [
    {
     "data": {
      "text/html": [
       "<strong>png:</strong> 2"
      ],
      "text/latex": [
       "\\textbf{png:} 2"
      ],
      "text/markdown": [
       "**png:** 2"
      ],
      "text/plain": [
       "png \n",
       "  2 "
      ]
     },
     "metadata": {},
     "output_type": "display_data"
    }
   ],
   "source": [
    "pdf(file=\"importance_for_all_language.pdf\", width = 8, height = 8)\n",
    "varImpPlot(rf_classifier2, type= 1)\n",
    "thresh = 0.7\n",
    "dev.off()"
   ]
  },
  {
   "cell_type": "markdown",
   "metadata": {},
   "source": [
    "This is AUC. If the stackoverflow gave me the right answer. "
   ]
  },
  {
   "cell_type": "code",
   "execution_count": 14,
   "metadata": {},
   "outputs": [
    {
     "name": "stderr",
     "output_type": "stream",
     "text": [
      "Type 'citation(\"pROC\")' for a citation.\n",
      "\n",
      "Attaching package: 'pROC'\n",
      "\n",
      "The following objects are masked from 'package:stats':\n",
      "\n",
      "    cov, smooth, var\n",
      "\n",
      "Loading required package: gplots\n",
      "\n",
      "Attaching package: 'gplots'\n",
      "\n",
      "The following object is masked from 'package:stats':\n",
      "\n",
      "    lowess\n",
      "\n"
     ]
    }
   ],
   "source": [
    "# import the library that needed in calculating the AUC. \n",
    "library(pROC)\n",
    "library(ROCR)"
   ]
  },
  {
   "cell_type": "code",
   "execution_count": 15,
   "metadata": {},
   "outputs": [
    {
     "data": {
      "text/html": [
       "0.806459000600772"
      ],
      "text/latex": [
       "0.806459000600772"
      ],
      "text/markdown": [
       "0.806459000600772"
      ],
      "text/plain": [
       "[1] 0.806459"
      ]
     },
     "metadata": {},
     "output_type": "display_data"
    }
   ],
   "source": [
    "# https://stackoverflow.com/questions/46776944/how-to-calculate-randomforest-training-auc-in-r\n",
    "# the train AUC\n",
    "rf_p_train <- predict(rf_classifier2, type=\"prob\")[,2]\n",
    "rf_pr_train <- prediction(rf_p_train, train$high_vote)\n",
    "r_auc_train <- performance(rf_pr_train, measure = \"auc\")@y.values[[1]] \n",
    "r_auc_train"
   ]
  },
  {
   "cell_type": "code",
   "execution_count": 16,
   "metadata": {
    "scrolled": true
   },
   "outputs": [
    {
     "data": {
      "text/html": [
       "0.827838656371709"
      ],
      "text/latex": [
       "0.827838656371709"
      ],
      "text/markdown": [
       "0.827838656371709"
      ],
      "text/plain": [
       "[1] 0.8278387"
      ]
     },
     "metadata": {},
     "output_type": "display_data"
    }
   ],
   "source": [
    "#https://stats.stackexchange.com/questions/308645/why-does-randomforest-has-higher-test-auc-than-train-auc-is-this-possible\n",
    "#the test AUC\n",
    "rf_p_test <- predict(rf_classifier2, type=\"prob\", newdata = test)[,2]\n",
    "rf_pr_test <- prediction(rf_p_test, test$high_vote)\n",
    "r_auc_test <- performance(rf_pr_test, measure = \"auc\")@y.values[[1]] \n",
    "r_auc_test"
   ]
  },
  {
   "cell_type": "markdown",
   "metadata": {},
   "source": [
    "### Logistic Regression"
   ]
  },
  {
   "cell_type": "code",
   "execution_count": 19,
   "metadata": {},
   "outputs": [],
   "source": [
    "library(rms)\n",
    "fit <- lrm(high_voted ~ .,\n",
    "           data=train, x=T, y=T)"
   ]
  },
  {
   "cell_type": "code",
   "execution_count": 20,
   "metadata": {},
   "outputs": [
    {
     "name": "stdout",
     "output_type": "stream",
     "text": [
      "         AUC AUC_optimism \n",
      "0.6434512055 0.0009310391 \n"
     ]
    }
   ],
   "source": [
    "val <- validate(fit, B=1000)\n",
    "AUC = 0.5 + val[1,1]/2\n",
    "AUC_optimism_reduced = (0.5 + val[1,5]/2)\n",
    "AUC_optimism = AUC - AUC_optimism_reduced\n",
    "print(c(\"AUC\"=AUC,\"AUC_optimism\"=AUC_optimism))"
   ]
  },
  {
   "cell_type": "code",
   "execution_count": null,
   "metadata": {},
   "outputs": [],
   "source": []
  }
 ],
 "metadata": {
  "kernelspec": {
   "display_name": "R",
   "language": "R",
   "name": "ir"
  },
  "language_info": {
   "codemirror_mode": "r",
   "file_extension": ".r",
   "mimetype": "text/x-r-source",
   "name": "R",
   "pygments_lexer": "r",
   "version": "3.5.1"
  }
 },
 "nbformat": 4,
 "nbformat_minor": 2
}
