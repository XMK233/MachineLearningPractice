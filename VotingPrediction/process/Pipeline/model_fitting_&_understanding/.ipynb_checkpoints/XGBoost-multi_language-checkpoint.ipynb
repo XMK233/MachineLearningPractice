{
 "cells": [
  {
   "cell_type": "markdown",
   "metadata": {},
   "source": [
    "# Model fitting and understanding . \n",
    "* V2: The operation process is simplified. "
   ]
  },
  {
   "cell_type": "markdown",
   "metadata": {},
   "source": [
    "* Turn the warning off: \n",
    "~~~~\n",
    "options(warn=-1)\n",
    "~~~~\n",
    "* Turn the warning back on: \n",
    "~~~~\n",
    "options(warn=0)\n",
    "~~~~\n",
    "* reference: https://stackoverflow.com/questions/16194212/how-to-suppress-warnings-globally-in-an-r-script"
   ]
  },
  {
   "cell_type": "code",
   "execution_count": 15,
   "metadata": {},
   "outputs": [],
   "source": [
    "options(warn=-1)"
   ]
  },
  {
   "cell_type": "markdown",
   "metadata": {},
   "source": [
    "## First step is getting the correlationship between those variables. "
   ]
  },
  {
   "cell_type": "code",
   "execution_count": 16,
   "metadata": {},
   "outputs": [],
   "source": [
    "library(rms)\n",
    "data <- read.csv('J:/EECS6414/process/Pipeline/Data_cleaning/kernel_datassource.csv')# , stringsAsFactors=FALSE\n",
    "\n",
    "col_name <- names(data)\n",
    "env_vars <- col_name\n",
    "vote_num <- data[c(\"km_votes\")]\n",
    "high_voted <- data[c(\"high_voted\")]\n",
    "reject_vars <- c(#\"kernel_datasets\", # because they are all 1, so we can only get NaN. \n",
    "                 \"kernel\", \"author\", \"id\", \"km_tags\", \n",
    "                \"km_votes\", \"high_voted\",  \n",
    "                \"km_forks\", \"km_comments\", \"km_views\"\n",
    "                 #\"competition\", \"organization\" # unnecessary variables. \n",
    "                 )\n",
    "env_vars <- env_vars[!(env_vars %in% reject_vars)]\n",
    "# for (env in env_vars){\n",
    "#    print(paste(env, \"+\"))\n",
    "# }\n",
    "data <- data[env_vars]"
   ]
  },
  {
   "cell_type": "code",
   "execution_count": 17,
   "metadata": {},
   "outputs": [],
   "source": [
    "env_vars <- c(\n",
    "    \"km_dataSources\", \n",
    "    \"km_Data\", \n",
    "    \"km_versions\", \n",
    "    \"km_dataset_discussion_avg\", \n",
    "      \"km_competition_size_avg\", \n",
    "    \"km_Visualization\", \n",
    "      \"km_tags_te_avg\", \n",
    "      \"km_Other\", \n",
    "      \"km_isNotebook\",\n",
    "      \"km_Hidden\",\n",
    "      \"km_Notebook\",\n",
    "      \"km_null\",\n",
    "      \"km_language\"\n",
    "             )\n",
    "data <- data[env_vars]"
   ]
  },
  {
   "cell_type": "code",
   "execution_count": 18,
   "metadata": {
    "scrolled": false
   },
   "outputs": [],
   "source": [
    "reject_vars <- c(\"km_competition_competitor_avg\")\n",
    "env_vars <- env_vars[!(env_vars %in% reject_vars)]\n",
    "data <- data[env_vars]"
   ]
  },
  {
   "cell_type": "markdown",
   "metadata": {},
   "source": [
    "## Second Step is to prepare the dataframe, add the voted column back to dataframe. "
   ]
  },
  {
   "cell_type": "markdown",
   "metadata": {},
   "source": [
    "### binary classification: XGBoost "
   ]
  },
  {
   "cell_type": "markdown",
   "metadata": {},
   "source": [
    "reference: https://www.hackerearth.com/blog/machine-learning/beginners-tutorial-on-xgboost-parameter-tuning-r/"
   ]
  },
  {
   "cell_type": "code",
   "execution_count": 19,
   "metadata": {},
   "outputs": [],
   "source": [
    "data_classification = cbind(data, high_voted)"
   ]
  },
  {
   "cell_type": "code",
   "execution_count": 20,
   "metadata": {
    "scrolled": true
   },
   "outputs": [
    {
     "data": {
      "text/html": [
       "<table>\n",
       "<thead><tr><th scope=col>km_dataSources</th><th scope=col>km_Data</th><th scope=col>km_versions</th><th scope=col>km_dataset_discussion_avg</th><th scope=col>km_competition_size_avg</th><th scope=col>km_Visualization</th><th scope=col>km_tags_te_avg</th><th scope=col>km_Other</th><th scope=col>km_isNotebook</th><th scope=col>km_Hidden</th><th scope=col>km_Notebook</th><th scope=col>km_null</th><th scope=col>km_language</th><th scope=col>high_voted</th></tr></thead>\n",
       "<tbody>\n",
       "\t<tr><td>1         </td><td>1         </td><td>58        </td><td>0         </td><td>2429309862</td><td> 7        </td><td>0.57142598</td><td>0         </td><td>0.09271527</td><td>2         </td><td>1         </td><td>6         </td><td>0.09296084</td><td>True      </td></tr>\n",
       "\t<tr><td>1         </td><td>0         </td><td> 2        </td><td>0         </td><td> 256630325</td><td> 0        </td><td>0.07486423</td><td>0         </td><td>0.09271527</td><td>1         </td><td>1         </td><td>0         </td><td>0.09296084</td><td>True      </td></tr>\n",
       "\t<tr><td>1         </td><td>0         </td><td> 1        </td><td>0         </td><td> 256630325</td><td> 0        </td><td>0.07486423</td><td>0         </td><td>0.09271527</td><td>1         </td><td>1         </td><td>0         </td><td>0.09296084</td><td>True      </td></tr>\n",
       "\t<tr><td>1         </td><td>0         </td><td> 5        </td><td>0         </td><td>     34757</td><td> 2        </td><td>0.50374676</td><td>0         </td><td>0.09271527</td><td>1         </td><td>1         </td><td>0         </td><td>0.09296084</td><td>True      </td></tr>\n",
       "\t<tr><td>1         </td><td>0         </td><td> 3        </td><td>0         </td><td> 256630325</td><td> 0        </td><td>0.07486423</td><td>0         </td><td>0.09271527</td><td>1         </td><td>1         </td><td>0         </td><td>0.09296084</td><td>True      </td></tr>\n",
       "\t<tr><td>1         </td><td>1         </td><td>12        </td><td>0         </td><td> 256630325</td><td>24        </td><td>0.55366252</td><td>0         </td><td>0.09271527</td><td>1         </td><td>1         </td><td>0         </td><td>0.09296084</td><td>True      </td></tr>\n",
       "</tbody>\n",
       "</table>\n"
      ],
      "text/latex": [
       "\\begin{tabular}{r|llllllllllllll}\n",
       " km\\_dataSources & km\\_Data & km\\_versions & km\\_dataset\\_discussion\\_avg & km\\_competition\\_size\\_avg & km\\_Visualization & km\\_tags\\_te\\_avg & km\\_Other & km\\_isNotebook & km\\_Hidden & km\\_Notebook & km\\_null & km\\_language & high\\_voted\\\\\n",
       "\\hline\n",
       "\t 1          & 1          & 58         & 0          & 2429309862 &  7         & 0.57142598 & 0          & 0.09271527 & 2          & 1          & 6          & 0.09296084 & True      \\\\\n",
       "\t 1          & 0          &  2         & 0          &  256630325 &  0         & 0.07486423 & 0          & 0.09271527 & 1          & 1          & 0          & 0.09296084 & True      \\\\\n",
       "\t 1          & 0          &  1         & 0          &  256630325 &  0         & 0.07486423 & 0          & 0.09271527 & 1          & 1          & 0          & 0.09296084 & True      \\\\\n",
       "\t 1          & 0          &  5         & 0          &      34757 &  2         & 0.50374676 & 0          & 0.09271527 & 1          & 1          & 0          & 0.09296084 & True      \\\\\n",
       "\t 1          & 0          &  3         & 0          &  256630325 &  0         & 0.07486423 & 0          & 0.09271527 & 1          & 1          & 0          & 0.09296084 & True      \\\\\n",
       "\t 1          & 1          & 12         & 0          &  256630325 & 24         & 0.55366252 & 0          & 0.09271527 & 1          & 1          & 0          & 0.09296084 & True      \\\\\n",
       "\\end{tabular}\n"
      ],
      "text/markdown": [
       "\n",
       "| km_dataSources | km_Data | km_versions | km_dataset_discussion_avg | km_competition_size_avg | km_Visualization | km_tags_te_avg | km_Other | km_isNotebook | km_Hidden | km_Notebook | km_null | km_language | high_voted |\n",
       "|---|---|---|---|---|---|---|---|---|---|---|---|---|---|\n",
       "| 1          | 1          | 58         | 0          | 2429309862 |  7         | 0.57142598 | 0          | 0.09271527 | 2          | 1          | 6          | 0.09296084 | True       |\n",
       "| 1          | 0          |  2         | 0          |  256630325 |  0         | 0.07486423 | 0          | 0.09271527 | 1          | 1          | 0          | 0.09296084 | True       |\n",
       "| 1          | 0          |  1         | 0          |  256630325 |  0         | 0.07486423 | 0          | 0.09271527 | 1          | 1          | 0          | 0.09296084 | True       |\n",
       "| 1          | 0          |  5         | 0          |      34757 |  2         | 0.50374676 | 0          | 0.09271527 | 1          | 1          | 0          | 0.09296084 | True       |\n",
       "| 1          | 0          |  3         | 0          |  256630325 |  0         | 0.07486423 | 0          | 0.09271527 | 1          | 1          | 0          | 0.09296084 | True       |\n",
       "| 1          | 1          | 12         | 0          |  256630325 | 24         | 0.55366252 | 0          | 0.09271527 | 1          | 1          | 0          | 0.09296084 | True       |\n",
       "\n"
      ],
      "text/plain": [
       "  km_dataSources km_Data km_versions km_dataset_discussion_avg\n",
       "1 1              1       58          0                        \n",
       "2 1              0        2          0                        \n",
       "3 1              0        1          0                        \n",
       "4 1              0        5          0                        \n",
       "5 1              0        3          0                        \n",
       "6 1              1       12          0                        \n",
       "  km_competition_size_avg km_Visualization km_tags_te_avg km_Other\n",
       "1 2429309862               7               0.57142598     0       \n",
       "2  256630325               0               0.07486423     0       \n",
       "3  256630325               0               0.07486423     0       \n",
       "4      34757               2               0.50374676     0       \n",
       "5  256630325               0               0.07486423     0       \n",
       "6  256630325              24               0.55366252     0       \n",
       "  km_isNotebook km_Hidden km_Notebook km_null km_language high_voted\n",
       "1 0.09271527    2         1           6       0.09296084  True      \n",
       "2 0.09271527    1         1           0       0.09296084  True      \n",
       "3 0.09271527    1         1           0       0.09296084  True      \n",
       "4 0.09271527    1         1           0       0.09296084  True      \n",
       "5 0.09271527    1         1           0       0.09296084  True      \n",
       "6 0.09271527    1         1           0       0.09296084  True      "
      ]
     },
     "metadata": {},
     "output_type": "display_data"
    }
   ],
   "source": [
    "head(data_classification)"
   ]
  },
  {
   "cell_type": "markdown",
   "metadata": {},
   "source": [
    "This step is used for generating the binary label. "
   ]
  },
  {
   "cell_type": "markdown",
   "metadata": {},
   "source": [
    "## Then Divide the training and testing data"
   ]
  },
  {
   "cell_type": "code",
   "execution_count": 21,
   "metadata": {},
   "outputs": [],
   "source": [
    "## 75% of the sample size\n",
    "smp_size <- floor(0.75 * nrow(data_classification))\n",
    "\n",
    "## set the seed to make your partition reproducible\n",
    "set.seed(123)\n",
    "train_ind <- sample(seq_len(nrow(data_classification)), size = smp_size)\n",
    "\n",
    "train <- data_classification[train_ind, ]\n",
    "test <- data_classification[-train_ind, ]"
   ]
  },
  {
   "cell_type": "code",
   "execution_count": 23,
   "metadata": {},
   "outputs": [],
   "source": [
    "library(data.table)\n",
    "setDT(train)\n",
    "setDT(test)"
   ]
  },
  {
   "cell_type": "code",
   "execution_count": 24,
   "metadata": {},
   "outputs": [],
   "source": [
    "labels <- train$high_voted\n",
    "ts_label <- test$high_voted\n",
    "new_tr <- model.matrix(~.+0,data = train[,-c(\"high_voted\"),with=F])\n",
    "new_ts <- model.matrix(~.+0,data = test[,-c(\"high_voted\"),with=F])\n",
    "labels <- as.numeric(labels)-1\n",
    "ts_label <- as.numeric(ts_label)-1\n",
    "dtrain <- xgb.DMatrix(data = new_tr,label = labels)\n",
    "dtest <- xgb.DMatrix(data = new_ts,label=ts_label)"
   ]
  },
  {
   "cell_type": "code",
   "execution_count": 25,
   "metadata": {},
   "outputs": [],
   "source": [
    "params <- list(\n",
    "        booster = \"gbtree\",\n",
    "        objective = \"binary:logistic\",\n",
    "        eta=0.3,\n",
    "        gamma=0,\n",
    "        max_depth=6,\n",
    "        min_child_weight=1,\n",
    "        subsample=1,\n",
    "        colsample_bytree=1\n",
    ")"
   ]
  },
  {
   "cell_type": "code",
   "execution_count": 33,
   "metadata": {},
   "outputs": [
    {
     "name": "stdout",
     "output_type": "stream",
     "text": [
      "[1]\ttrain-error:0.085802+0.000441\ttest-error:0.087067+0.001473 \n",
      "Multiple eval metrics are present. Will use test_error for early stopping.\n",
      "Will train until test_error hasn't improved in 20 rounds.\n",
      "\n",
      "[11]\ttrain-error:0.083474+0.000517\ttest-error:0.085462+0.001867 \n",
      "[21]\ttrain-error:0.081841+0.000465\ttest-error:0.084731+0.001548 \n",
      "[31]\ttrain-error:0.080353+0.000442\ttest-error:0.084332+0.001321 \n",
      "[41]\ttrain-error:0.078935+0.000251\ttest-error:0.083980+0.001335 \n",
      "[51]\ttrain-error:0.077740+0.000250\ttest-error:0.083804+0.001390 \n",
      "[61]\ttrain-error:0.076481+0.000386\ttest-error:0.083628+0.001544 \n",
      "[71]\ttrain-error:0.075254+0.000239\ttest-error:0.083675+0.001717 \n",
      "Stopping. Best iteration:\n",
      "[57]\ttrain-error:0.076787+0.000406\ttest-error:0.083493+0.001461\n",
      "\n"
     ]
    }
   ],
   "source": [
    "library(xgboost)\n",
    "xgbcv <- xgb.cv(params = params\n",
    "                ,data = dtrain\n",
    "                ,nrounds = 1000\n",
    "                ,nfold = 5\n",
    "                ,showsd = T\n",
    "                ,stratified = T\n",
    "                ,print.every.n = 10\n",
    "                ,early.stop.round = 20\n",
    "                ,maximize = F\n",
    ")"
   ]
  },
  {
   "cell_type": "code",
   "execution_count": 41,
   "metadata": {},
   "outputs": [
    {
     "name": "stdout",
     "output_type": "stream",
     "text": [
      "[1]\tval-error:0.087627\ttrain-error:0.085909 \n",
      "Multiple eval metrics are present. Will use train_error for early stopping.\n",
      "Will train until train_error hasn't improved in 10 rounds.\n",
      "\n",
      "[11]\tval-error:0.085637\ttrain-error:0.083695 \n",
      "[21]\tval-error:0.084662\ttrain-error:0.082281 \n",
      "[31]\tval-error:0.084296\ttrain-error:0.081164 \n",
      "[41]\tval-error:0.083200\ttrain-error:0.079688 \n",
      "[51]\tval-error:0.082997\ttrain-error:0.078179 \n",
      "[57]\tval-error:0.082997\ttrain-error:0.077664 \n"
     ]
    }
   ],
   "source": [
    "xgb1 <- xgb.train(\n",
    "           params = params\n",
    "          ,data = dtrain\n",
    "          ,nrounds = 57\n",
    "          ,watchlist = list(val=dtest,train=dtrain)\n",
    "          ,print.every.n = 10\n",
    "          ,early.stop.round = 10\n",
    "          ,maximize = F\n",
    "          ,eval_metric = \"error\"\n",
    ")"
   ]
  },
  {
   "cell_type": "code",
   "execution_count": 42,
   "metadata": {},
   "outputs": [],
   "source": [
    "xgbpred <- predict(xgb1,dtest)\n",
    "xgbpred <- ifelse(xgbpred > 0.5,1,0)"
   ]
  },
  {
   "cell_type": "code",
   "execution_count": null,
   "metadata": {},
   "outputs": [],
   "source": [
    "xgbpred[xgbpred == 1] <- true"
   ]
  },
  {
   "cell_type": "code",
   "execution_count": 49,
   "metadata": {},
   "outputs": [
    {
     "data": {
      "text/plain": [
       "Confusion Matrix and Statistics\n",
       "\n",
       "          Reference\n",
       "Prediction     0     1\n",
       "         0 43442  3415\n",
       "         1   672  1714\n",
       "                                          \n",
       "               Accuracy : 0.917           \n",
       "                 95% CI : (0.9145, 0.9194)\n",
       "    No Information Rate : 0.8958          \n",
       "    P-Value [Acc > NIR] : < 2.2e-16       \n",
       "                                          \n",
       "                  Kappa : 0.4176          \n",
       " Mcnemar's Test P-Value : < 2.2e-16       \n",
       "                                          \n",
       "            Sensitivity : 0.9848          \n",
       "            Specificity : 0.3342          \n",
       "         Pos Pred Value : 0.9271          \n",
       "         Neg Pred Value : 0.7184          \n",
       "             Prevalence : 0.8958          \n",
       "         Detection Rate : 0.8822          \n",
       "   Detection Prevalence : 0.9515          \n",
       "      Balanced Accuracy : 0.6595          \n",
       "                                          \n",
       "       'Positive' Class : 0               \n",
       "                                          "
      ]
     },
     "metadata": {},
     "output_type": "display_data"
    }
   ],
   "source": [
    "library(caret)\n",
    "confusionMatrix(factor(xgbpred), factor(ts_label))"
   ]
  },
  {
   "cell_type": "code",
   "execution_count": 50,
   "metadata": {},
   "outputs": [
    {
     "data": {
      "image/png": "[encoded data removed]",
      "text/plain": [
       "plot without title"
      ]
     },
     "metadata": {},
     "output_type": "display_data"
    }
   ],
   "source": [
    "mat <- xgb.importance(feature_names = colnames(new_tr),model = xgb1)\n",
    "xgb.plot.importance(importance_matrix = mat[1:20]) #first 20 variables"
   ]
  },
  {
   "cell_type": "markdown",
   "metadata": {},
   "source": [
    "### Wasted----XGBoost"
   ]
  },
  {
   "cell_type": "markdown",
   "metadata": {},
   "source": [
    "https://www.hackerearth.com/blog/machine-learning/beginners-tutorial-on-xgboost-parameter-tuning-r/"
   ]
  },
  {
   "cell_type": "code",
   "execution_count": 12,
   "metadata": {},
   "outputs": [],
   "source": [
    "#install.packages(\"xgboost\", repos = \"http://cran.us.r-project.org\", dependencies = TRUE)"
   ]
  },
  {
   "cell_type": "code",
   "execution_count": 13,
   "metadata": {},
   "outputs": [],
   "source": [
    "library(xgboost)"
   ]
  },
  {
   "cell_type": "markdown",
   "metadata": {},
   "source": [
    "if something is wrong, probably you can use this: \n",
    "as.factor()"
   ]
  },
  {
   "cell_type": "code",
   "execution_count": null,
   "metadata": {},
   "outputs": [],
   "source": [
    "library(xgboost)\n",
    "bst <- xgboost(data = features, label = labels, max_depth = 2, \n",
    "               eta = 1, nthread = 2, nrounds = 2,objective = \"binary:logistic\")\n",
    "xgb.importance(env_vars, model = bst)"
   ]
  },
  {
   "cell_type": "code",
   "execution_count": null,
   "metadata": {},
   "outputs": [],
   "source": []
  }
 ],
 "metadata": {
  "kernelspec": {
   "display_name": "R",
   "language": "R",
   "name": "ir"
  },
  "language_info": {
   "codemirror_mode": "r",
   "file_extension": ".r",
   "mimetype": "text/x-r-source",
   "name": "R",
   "pygments_lexer": "r",
   "version": "3.5.1"
  }
 },
 "nbformat": 4,
 "nbformat_minor": 2
}
