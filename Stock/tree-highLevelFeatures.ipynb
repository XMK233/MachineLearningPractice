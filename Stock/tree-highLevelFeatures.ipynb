{
 "cells": [
  {
   "cell_type": "code",
   "execution_count": 1,
   "metadata": {},
   "outputs": [],
   "source": [
    "import pandas as pd"
   ]
  },
  {
   "cell_type": "code",
   "execution_count": 2,
   "metadata": {},
   "outputs": [],
   "source": [
    "data = pd.read_csv(\"heheda.csv\")\n",
    "data.dropna(inplace = True)"
   ]
  },
  {
   "cell_type": "code",
   "execution_count": 3,
   "metadata": {},
   "outputs": [],
   "source": [
    "train = data[:int(len(data) * 0.7)][[\"green\", \"ma_break_all_avg\", \"ma_break_30_avg\", \"tmrw_high_open\", \"tmrw_succeed_all_avg\", \"tmrw_red\"]]\n",
    "train = train.astype(int)\n",
    "test = data[int(len(data) * 0.7):][[\"green\", \"ma_break_all_avg\", \"ma_break_30_avg\", \"tmrw_high_open\", \"tmrw_succeed_all_avg\", \"tmrw_red\"]]\n",
    "test = test.astype(int)"
   ]
  },
  {
   "cell_type": "code",
   "execution_count": 4,
   "metadata": {},
   "outputs": [],
   "source": [
    "train_x = train[[\"green\", \"ma_break_all_avg\", \"ma_break_30_avg\", \"tmrw_high_open\", \"tmrw_succeed_all_avg\"]]\n",
    "train_y = train[[\"tmrw_red\"]]\n",
    "test_x = test[[\"green\", \"ma_break_all_avg\", \"ma_break_30_avg\", \"tmrw_high_open\", \"tmrw_succeed_all_avg\"]]\n",
    "test_y = test[[\"tmrw_red\"]]"
   ]
  },
  {
   "cell_type": "code",
   "execution_count": 5,
   "metadata": {
    "scrolled": true
   },
   "outputs": [
    {
     "data": {
      "text/plain": [
       "0.5555555555555556"
      ]
     },
     "execution_count": 5,
     "metadata": {},
     "output_type": "execute_result"
    }
   ],
   "source": [
    "from sklearn.tree import DecisionTreeClassifier\n",
    "\n",
    "clf = DecisionTreeClassifier()\n",
    "clf.fit(train_x, train_y)\n",
    "score = clf.score(test_x, test_y)\n",
    "score"
   ]
  },
  {
   "cell_type": "code",
   "execution_count": 6,
   "metadata": {},
   "outputs": [
    {
     "data": {
      "text/plain": [
       "array([0.57142857, 0.4       , 0.4       , 0.4       , 0.4       ,\n",
       "       0.66666667, 0.25      , 0.57142857, 0.57142857, 0.57142857,\n",
       "       0.55555556, 0.57142857, 0.25      , 0.57142857, 0.55555556,\n",
       "       0.57142857, 0.4       , 0.        ])"
      ]
     },
     "execution_count": 6,
     "metadata": {},
     "output_type": "execute_result"
    }
   ],
   "source": [
    "clf.predict_proba(test_x)[:, 1]"
   ]
  },
  {
   "cell_type": "code",
   "execution_count": 7,
   "metadata": {},
   "outputs": [
    {
     "data": {
      "text/plain": [
       "0.5125"
      ]
     },
     "execution_count": 7,
     "metadata": {},
     "output_type": "execute_result"
    }
   ],
   "source": [
    "from sklearn.metrics import f1_score, roc_auc_score\n",
    "\n",
    "roc_auc_score(test_y, clf.predict_proba(test_x)[:, 1])"
   ]
  },
  {
   "cell_type": "code",
   "execution_count": 12,
   "metadata": {},
   "outputs": [
    {
     "name": "stdout",
     "output_type": "stream",
     "text": [
      "digraph Tree {\n",
      "node [shape=box] ;\n",
      "0 [label=\"X[2] <= 0.5\\ngini = 0.493\\nsamples = 41\\nvalue = [23, 18]\"] ;\n",
      "1 [label=\"gini = 0.0\\nsamples = 3\\nvalue = [3, 0]\"] ;\n",
      "0 -> 1 [labeldistance=2.5, labelangle=45, headlabel=\"True\"] ;\n",
      "2 [label=\"X[3] <= 0.5\\ngini = 0.499\\nsamples = 38\\nvalue = [20, 18]\"] ;\n",
      "0 -> 2 [labeldistance=2.5, labelangle=-45, headlabel=\"False\"] ;\n",
      "3 [label=\"X[0] <= 0.5\\ngini = 0.488\\nsamples = 19\\nvalue = [8, 11]\"] ;\n",
      "2 -> 3 ;\n",
      "4 [label=\"X[1] <= 0.5\\ngini = 0.48\\nsamples = 10\\nvalue = [4, 6]\"] ;\n",
      "3 -> 4 ;\n",
      "5 [label=\"gini = 0.49\\nsamples = 7\\nvalue = [3, 4]\"] ;\n",
      "4 -> 5 ;\n",
      "6 [label=\"gini = 0.444\\nsamples = 3\\nvalue = [1, 2]\"] ;\n",
      "4 -> 6 ;\n",
      "7 [label=\"gini = 0.494\\nsamples = 9\\nvalue = [4, 5]\"] ;\n",
      "3 -> 7 ;\n",
      "8 [label=\"X[0] <= 0.5\\ngini = 0.465\\nsamples = 19\\nvalue = [12, 7]\"] ;\n",
      "2 -> 8 ;\n",
      "9 [label=\"X[1] <= 0.5\\ngini = 0.408\\nsamples = 7\\nvalue = [5, 2]\"] ;\n",
      "8 -> 9 ;\n",
      "10 [label=\"gini = 0.375\\nsamples = 4\\nvalue = [3, 1]\"] ;\n",
      "9 -> 10 ;\n",
      "11 [label=\"gini = 0.444\\nsamples = 3\\nvalue = [2, 1]\"] ;\n",
      "9 -> 11 ;\n",
      "12 [label=\"X[1] <= 0.5\\ngini = 0.486\\nsamples = 12\\nvalue = [7, 5]\"] ;\n",
      "8 -> 12 ;\n",
      "13 [label=\"gini = 0.5\\nsamples = 2\\nvalue = [1, 1]\"] ;\n",
      "12 -> 13 ;\n",
      "14 [label=\"gini = 0.48\\nsamples = 10\\nvalue = [6, 4]\"] ;\n",
      "12 -> 14 ;\n",
      "}\n"
     ]
    }
   ],
   "source": [
    "from sklearn import tree\n",
    "\n",
    "s = tree.export_graphviz(clf)\n",
    "print(s)"
   ]
  },
  {
   "cell_type": "code",
   "execution_count": null,
   "metadata": {},
   "outputs": [],
   "source": []
  }
 ],
 "metadata": {
  "kernelspec": {
   "display_name": "Python 3",
   "language": "python",
   "name": "python3"
  },
  "language_info": {
   "codemirror_mode": {
    "name": "ipython",
    "version": 3
   },
   "file_extension": ".py",
   "mimetype": "text/x-python",
   "name": "python",
   "nbconvert_exporter": "python",
   "pygments_lexer": "ipython3",
   "version": "3.6.7"
  }
 },
 "nbformat": 4,
 "nbformat_minor": 2
}
