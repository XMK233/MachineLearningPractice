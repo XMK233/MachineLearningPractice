{
 "cells": [
  {
   "cell_type": "code",
   "execution_count": 1,
   "metadata": {},
   "outputs": [
    {
     "name": "stderr",
     "output_type": "stream",
     "text": [
      "C:\\Users\\XMK23\\AppData\\Local\\Continuum\\anaconda3\\envs\\Py1\\lib\\importlib\\_bootstrap.py:219: RuntimeWarning: numpy.ufunc size changed, may indicate binary incompatibility. Expected 192 from C header, got 216 from PyObject\n",
      "  return f(*args, **kwds)\n",
      "C:\\Users\\XMK23\\AppData\\Local\\Continuum\\anaconda3\\envs\\Py1\\lib\\importlib\\_bootstrap.py:219: RuntimeWarning: numpy.ufunc size changed, may indicate binary incompatibility. Expected 192 from C header, got 216 from PyObject\n",
      "  return f(*args, **kwds)\n"
     ]
    }
   ],
   "source": [
    "import pandas as pd"
   ]
  },
  {
   "cell_type": "code",
   "execution_count": 3,
   "metadata": {},
   "outputs": [
    {
     "data": {
      "text/html": [
       "<div>\n",
       "<style scoped>\n",
       "    .dataframe tbody tr th:only-of-type {\n",
       "        vertical-align: middle;\n",
       "    }\n",
       "\n",
       "    .dataframe tbody tr th {\n",
       "        vertical-align: top;\n",
       "    }\n",
       "\n",
       "    .dataframe thead th {\n",
       "        text-align: right;\n",
       "    }\n",
       "</style>\n",
       "<table border=\"1\" class=\"dataframe\">\n",
       "  <thead>\n",
       "    <tr style=\"text-align: right;\">\n",
       "      <th></th>\n",
       "      <th>Date</th>\n",
       "      <th>High</th>\n",
       "      <th>Low</th>\n",
       "      <th>Open</th>\n",
       "      <th>Close</th>\n",
       "      <th>Volume</th>\n",
       "      <th>Adj Close</th>\n",
       "      <th>MA_5</th>\n",
       "      <th>MA_10</th>\n",
       "      <th>MA_20</th>\n",
       "      <th>...</th>\n",
       "      <th>VOL_5</th>\n",
       "      <th>VOL_10</th>\n",
       "      <th>VOL_20</th>\n",
       "      <th>VOL_30</th>\n",
       "      <th>green</th>\n",
       "      <th>ma_break_all_avg</th>\n",
       "      <th>ma_break_30_avg</th>\n",
       "      <th>tmrw_high_open</th>\n",
       "      <th>tmrw_succeed_all_avg</th>\n",
       "      <th>tmrw_red</th>\n",
       "    </tr>\n",
       "  </thead>\n",
       "  <tbody>\n",
       "    <tr>\n",
       "      <th>29</th>\n",
       "      <td>2021-05-25</td>\n",
       "      <td>25.370001</td>\n",
       "      <td>24.650000</td>\n",
       "      <td>24.799999</td>\n",
       "      <td>25.049999</td>\n",
       "      <td>6096067.0</td>\n",
       "      <td>24.895370</td>\n",
       "      <td>25.358</td>\n",
       "      <td>25.631</td>\n",
       "      <td>25.8935</td>\n",
       "      <td>...</td>\n",
       "      <td>7613691.6</td>\n",
       "      <td>9535607.2</td>\n",
       "      <td>12702122.50</td>\n",
       "      <td>1.882622e+07</td>\n",
       "      <td>False</td>\n",
       "      <td>True</td>\n",
       "      <td>True</td>\n",
       "      <td>False</td>\n",
       "      <td>False</td>\n",
       "      <td>True</td>\n",
       "    </tr>\n",
       "    <tr>\n",
       "      <th>30</th>\n",
       "      <td>2021-05-26</td>\n",
       "      <td>26.150000</td>\n",
       "      <td>24.719999</td>\n",
       "      <td>25.000000</td>\n",
       "      <td>25.820000</td>\n",
       "      <td>10337507.0</td>\n",
       "      <td>25.660618</td>\n",
       "      <td>25.220</td>\n",
       "      <td>25.576</td>\n",
       "      <td>25.8610</td>\n",
       "      <td>...</td>\n",
       "      <td>7714524.4</td>\n",
       "      <td>9494264.9</td>\n",
       "      <td>12383711.85</td>\n",
       "      <td>1.757824e+07</td>\n",
       "      <td>False</td>\n",
       "      <td>False</td>\n",
       "      <td>True</td>\n",
       "      <td>False</td>\n",
       "      <td>False</td>\n",
       "      <td>True</td>\n",
       "    </tr>\n",
       "    <tr>\n",
       "      <th>31</th>\n",
       "      <td>2021-05-27</td>\n",
       "      <td>26.350000</td>\n",
       "      <td>25.469999</td>\n",
       "      <td>25.660000</td>\n",
       "      <td>25.840000</td>\n",
       "      <td>8649783.0</td>\n",
       "      <td>25.680494</td>\n",
       "      <td>25.334</td>\n",
       "      <td>25.639</td>\n",
       "      <td>25.8495</td>\n",
       "      <td>...</td>\n",
       "      <td>7334442.8</td>\n",
       "      <td>9350577.0</td>\n",
       "      <td>12222335.25</td>\n",
       "      <td>1.636476e+07</td>\n",
       "      <td>False</td>\n",
       "      <td>False</td>\n",
       "      <td>True</td>\n",
       "      <td>True</td>\n",
       "      <td>False</td>\n",
       "      <td>False</td>\n",
       "    </tr>\n",
       "    <tr>\n",
       "      <th>32</th>\n",
       "      <td>2021-05-28</td>\n",
       "      <td>25.910000</td>\n",
       "      <td>24.889999</td>\n",
       "      <td>25.900000</td>\n",
       "      <td>25.010000</td>\n",
       "      <td>7957177.0</td>\n",
       "      <td>24.855618</td>\n",
       "      <td>25.348</td>\n",
       "      <td>25.623</td>\n",
       "      <td>25.9090</td>\n",
       "      <td>...</td>\n",
       "      <td>7697479.4</td>\n",
       "      <td>9351993.7</td>\n",
       "      <td>11921770.80</td>\n",
       "      <td>1.550045e+07</td>\n",
       "      <td>True</td>\n",
       "      <td>True</td>\n",
       "      <td>True</td>\n",
       "      <td>False</td>\n",
       "      <td>False</td>\n",
       "      <td>True</td>\n",
       "    </tr>\n",
       "    <tr>\n",
       "      <th>33</th>\n",
       "      <td>2021-05-31</td>\n",
       "      <td>26.790001</td>\n",
       "      <td>24.809999</td>\n",
       "      <td>24.950001</td>\n",
       "      <td>26.240000</td>\n",
       "      <td>11222156.0</td>\n",
       "      <td>26.078024</td>\n",
       "      <td>25.592</td>\n",
       "      <td>25.599</td>\n",
       "      <td>25.7920</td>\n",
       "      <td>...</td>\n",
       "      <td>8852538.0</td>\n",
       "      <td>8846465.0</td>\n",
       "      <td>11360033.40</td>\n",
       "      <td>1.476882e+07</td>\n",
       "      <td>False</td>\n",
       "      <td>False</td>\n",
       "      <td>True</td>\n",
       "      <td>False</td>\n",
       "      <td>False</td>\n",
       "      <td>True</td>\n",
       "    </tr>\n",
       "  </tbody>\n",
       "</table>\n",
       "<p>5 rows × 21 columns</p>\n",
       "</div>"
      ],
      "text/plain": [
       "          Date       High        Low       Open      Close      Volume  \\\n",
       "29  2021-05-25  25.370001  24.650000  24.799999  25.049999   6096067.0   \n",
       "30  2021-05-26  26.150000  24.719999  25.000000  25.820000  10337507.0   \n",
       "31  2021-05-27  26.350000  25.469999  25.660000  25.840000   8649783.0   \n",
       "32  2021-05-28  25.910000  24.889999  25.900000  25.010000   7957177.0   \n",
       "33  2021-05-31  26.790001  24.809999  24.950001  26.240000  11222156.0   \n",
       "\n",
       "    Adj Close    MA_5   MA_10    MA_20  ...      VOL_5     VOL_10  \\\n",
       "29  24.895370  25.358  25.631  25.8935  ...  7613691.6  9535607.2   \n",
       "30  25.660618  25.220  25.576  25.8610  ...  7714524.4  9494264.9   \n",
       "31  25.680494  25.334  25.639  25.8495  ...  7334442.8  9350577.0   \n",
       "32  24.855618  25.348  25.623  25.9090  ...  7697479.4  9351993.7   \n",
       "33  26.078024  25.592  25.599  25.7920  ...  8852538.0  8846465.0   \n",
       "\n",
       "         VOL_20        VOL_30  green  ma_break_all_avg  ma_break_30_avg  \\\n",
       "29  12702122.50  1.882622e+07  False              True             True   \n",
       "30  12383711.85  1.757824e+07  False             False             True   \n",
       "31  12222335.25  1.636476e+07  False             False             True   \n",
       "32  11921770.80  1.550045e+07   True              True             True   \n",
       "33  11360033.40  1.476882e+07  False             False             True   \n",
       "\n",
       "    tmrw_high_open tmrw_succeed_all_avg  tmrw_red  \n",
       "29           False                False      True  \n",
       "30           False                False      True  \n",
       "31            True                False     False  \n",
       "32           False                False      True  \n",
       "33           False                False      True  \n",
       "\n",
       "[5 rows x 21 columns]"
      ]
     },
     "execution_count": 3,
     "metadata": {},
     "output_type": "execute_result"
    }
   ],
   "source": [
    "data = pd.read_csv(\"heheda.csv\")\n",
    "data.dropna(inplace = True)"
   ]
  },
  {
   "cell_type": "code",
   "execution_count": 19,
   "metadata": {},
   "outputs": [],
   "source": [
    "train = data[:int(len(data) * 0.7)][[\"green\", \"ma_break_all_avg\", \"ma_break_30_avg\", \"tmrw_high_open\", \"tmrw_succeed_all_avg\", \"tmrw_red\"]]\n",
    "train = train.astype(int)\n",
    "test = data[int(len(data) * 0.7):][[\"green\", \"ma_break_all_avg\", \"ma_break_30_avg\", \"tmrw_high_open\", \"tmrw_succeed_all_avg\", \"tmrw_red\"]]\n",
    "test = test.astype(int)"
   ]
  },
  {
   "cell_type": "code",
   "execution_count": 20,
   "metadata": {},
   "outputs": [],
   "source": [
    "train_x = train[[\"green\", \"ma_break_all_avg\", \"ma_break_30_avg\", \"tmrw_high_open\", \"tmrw_succeed_all_avg\"]]\n",
    "train_y = train[[\"tmrw_red\"]]\n",
    "test_x = test[[\"green\", \"ma_break_all_avg\", \"ma_break_30_avg\", \"tmrw_high_open\", \"tmrw_succeed_all_avg\"]]\n",
    "test_y = test[[\"tmrw_red\"]]"
   ]
  },
  {
   "cell_type": "code",
   "execution_count": 21,
   "metadata": {
    "scrolled": true
   },
   "outputs": [
    {
     "name": "stderr",
     "output_type": "stream",
     "text": [
      "C:\\Users\\XMK23\\AppData\\Local\\Continuum\\anaconda3\\envs\\Py1\\lib\\site-packages\\sklearn\\linear_model\\logistic.py:432: FutureWarning: Default solver will be changed to 'lbfgs' in 0.22. Specify a solver to silence this warning.\n",
      "  FutureWarning)\n",
      "C:\\Users\\XMK23\\AppData\\Local\\Continuum\\anaconda3\\envs\\Py1\\lib\\site-packages\\sklearn\\utils\\validation.py:752: DataConversionWarning: A column-vector y was passed when a 1d array was expected. Please change the shape of y to (n_samples, ), for example using ravel().\n",
      "  y = column_or_1d(y, warn=True)\n"
     ]
    },
    {
     "data": {
      "text/plain": [
       "0.4444444444444444"
      ]
     },
     "execution_count": 21,
     "metadata": {},
     "output_type": "execute_result"
    }
   ],
   "source": [
    "from sklearn.linear_model import LogisticRegression\n",
    "\n",
    "clf = LogisticRegression()\n",
    "clf.fit(train_x, train_y)\n",
    "score = clf.score(test_x, test_y)\n",
    "score"
   ]
  },
  {
   "cell_type": "code",
   "execution_count": 26,
   "metadata": {},
   "outputs": [
    {
     "data": {
      "text/plain": [
       "array([0.51203566, 0.3971778 , 0.3971778 , 0.3971778 , 0.3971778 ,\n",
       "       0.56389135, 0.3696966 , 0.51203566, 0.51203566, 0.51203566,\n",
       "       0.48890533, 0.51203566, 0.3696966 , 0.51203566, 0.48890533,\n",
       "       0.51203566, 0.3971778 , 0.18951865])"
      ]
     },
     "execution_count": 26,
     "metadata": {},
     "output_type": "execute_result"
    }
   ],
   "source": [
    "clf.predict_proba(test_x)[:, 1]"
   ]
  },
  {
   "cell_type": "code",
   "execution_count": 27,
   "metadata": {},
   "outputs": [
    {
     "data": {
      "text/plain": [
       "0.5125"
      ]
     },
     "execution_count": 27,
     "metadata": {},
     "output_type": "execute_result"
    }
   ],
   "source": [
    "from sklearn.metrics import f1_score, roc_auc_score\n",
    "\n",
    "roc_auc_score(test_y, clf.predict_proba(test_x)[:, 1])"
   ]
  }
 ],
 "metadata": {
  "kernelspec": {
   "display_name": "Python 3",
   "language": "python",
   "name": "python3"
  },
  "language_info": {
   "codemirror_mode": {
    "name": "ipython",
    "version": 3
   },
   "file_extension": ".py",
   "mimetype": "text/x-python",
   "name": "python",
   "nbconvert_exporter": "python",
   "pygments_lexer": "ipython3",
   "version": "3.6.7"
  }
 },
 "nbformat": 4,
 "nbformat_minor": 2
}
